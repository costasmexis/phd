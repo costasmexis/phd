{
 "cells": [
  {
   "cell_type": "markdown",
   "id": "0cf57602-125b-4b81-a94d-b5010df11e76",
   "metadata": {},
   "source": [
    "# Import libraries"
   ]
  },
  {
   "cell_type": "code",
   "execution_count": 141,
   "id": "45c7e20b-c57f-4e13-b77e-11572f9e6409",
   "metadata": {},
   "outputs": [],
   "source": [
    "import pandas as pd\n",
    "import numpy as np\n",
    "import matplotlib.pyplot as plt  \n",
    "import scipy\n",
    "\n",
    "from sklearn.preprocessing import LabelEncoder\n",
    "\n",
    "from tqdm import tqdm\n",
    "\n",
    "import matplotlib.pyplot as plt\n",
    "\n",
    "from sklearn.model_selection import train_test_split\n",
    "from sklearn.feature_extraction.text import TfidfVectorizer\n",
    "from sklearn.naive_bayes import MultinomialNB\n",
    "from sklearn.metrics import accuracy_score\n",
    "from sklearn.multiclass import OneVsRestClassifier\n",
    "from nltk.corpus import stopwords\n",
    "stop_words = set(stopwords.words('english'))\n",
    "from sklearn.svm import LinearSVC\n",
    "from sklearn.linear_model import LogisticRegression\n",
    "from sklearn.pipeline import Pipeline\n",
    "import seaborn as sns\n",
    "\n",
    "import nltk\n",
    "from nltk.corpus import stopwords\n",
    "from sklearn.feature_extraction.text import TfidfVectorizer\n",
    "from sklearn.cluster import KMeans\n",
    "from sklearn.decomposition import PCA\n",
    "\n",
    "# import other required libs\n",
    "import pandas as pd\n",
    "import numpy as np\n",
    "\n",
    "# string manipulation libs\n",
    "import re\n",
    "import string\n",
    "import nltk\n",
    "from nltk.corpus import stopwords"
   ]
  },
  {
   "cell_type": "markdown",
   "id": "ba22e924-fdeb-4ee5-9cfa-9f67282f50e7",
   "metadata": {},
   "source": [
    "## Read data"
   ]
  },
  {
   "cell_type": "code",
   "execution_count": 142,
   "id": "43402469-b408-470d-8d55-2244f142384a",
   "metadata": {},
   "outputs": [],
   "source": [
    "uns = pd.read_csv('uns_df.csv', index_col=0)\n",
    "isri = pd.read_csv('isri_df.csv', index_col=0)\n",
    "process = pd.read_csv('process_df.csv', index_col=0)\n",
    "anamet = pd.read_csv('anamet_df.csv', index_col=0)\n",
    "materials = pd.read_csv('materials_df.csv', index_col=0)"
   ]
  },
  {
   "cell_type": "markdown",
   "id": "72776f13",
   "metadata": {},
   "source": [
    "# Read updated *Nikos* data"
   ]
  },
  {
   "cell_type": "code",
   "execution_count": 143,
   "id": "d5cd106c",
   "metadata": {},
   "outputs": [
    {
     "data": {
      "text/plain": [
       "['ANAMET',\n",
       " 'Anamet data',\n",
       " 'ISRI',\n",
       " 'Isri data',\n",
       " 'UNS data',\n",
       " 'Elements data',\n",
       " 'Material data',\n",
       " 'Process']"
      ]
     },
     "execution_count": 143,
     "metadata": {},
     "output_type": "execute_result"
    }
   ],
   "source": [
    "xls = pd.ExcelFile('data/edited_nikos_data.xlsx')\n",
    "xls.sheet_names"
   ]
  },
  {
   "cell_type": "code",
   "execution_count": 152,
   "id": "87cde166",
   "metadata": {},
   "outputs": [],
   "source": [
    "uns_data = pd.read_excel(xls, 'UNS data')\n",
    "\n",
    "uns_data.rename(columns = {'sc:isComposedOf':'elements id'}, inplace = True)\n",
    "\n",
    "elements_data = pd.read_excel(xls, 'Elements data')\n",
    "\n",
    "uns_data = pd.merge(uns_data, elements_data, how='inner', on = 'elements id')\n",
    "isri_data = pd.read_excel(xls, 'Isri data')\n",
    "anamet_data = pd.read_excel(xls, 'Anamet data')\n",
    "material_data = pd.read_excel(xls, 'Material data')\n",
    "elements_data = pd.read_excel(xls, 'Elements data')"
   ]
  },
  {
   "cell_type": "markdown",
   "id": "eb262c79",
   "metadata": {},
   "source": [
    "# Raw data preprocessing"
   ]
  },
  {
   "cell_type": "code",
   "execution_count": 153,
   "id": "ab145ffc",
   "metadata": {},
   "outputs": [
    {
     "data": {
      "text/html": [
       "<div>\n",
       "<style scoped>\n",
       "    .dataframe tbody tr th:only-of-type {\n",
       "        vertical-align: middle;\n",
       "    }\n",
       "\n",
       "    .dataframe tbody tr th {\n",
       "        vertical-align: top;\n",
       "    }\n",
       "\n",
       "    .dataframe thead th {\n",
       "        text-align: right;\n",
       "    }\n",
       "</style>\n",
       "<table border=\"1\" class=\"dataframe\">\n",
       "  <thead>\n",
       "    <tr style=\"text-align: right;\">\n",
       "      <th></th>\n",
       "      <th>isri id</th>\n",
       "      <th>sc:hasCategory</th>\n",
       "      <th>sc:hasForm</th>\n",
       "      <th>sc:isFreeFrom</th>\n",
       "      <th>sc:contains</th>\n",
       "      <th>sc:hasISRICode</th>\n",
       "      <th>sc:hasSpecification</th>\n",
       "      <th>pc:hasName</th>\n",
       "      <th>sc:isComposedOf</th>\n",
       "      <th>sc:isProcessedBy</th>\n",
       "    </tr>\n",
       "  </thead>\n",
       "  <tbody>\n",
       "    <tr>\n",
       "      <th>0</th>\n",
       "      <td>sc:ISRI_0</td>\n",
       "      <td>Nonferrous Scrap - Red Metals</td>\n",
       "      <td>Wire</td>\n",
       "      <td>NaN</td>\n",
       "      <td>Copper</td>\n",
       "      <td>Berry</td>\n",
       "      <td>Bare, Uncoated, Unalloyed</td>\n",
       "      <td>No. 1 Copper Wire</td>\n",
       "      <td>sc:Material_249</td>\n",
       "      <td>sc:Process_257</td>\n",
       "    </tr>\n",
       "    <tr>\n",
       "      <th>1</th>\n",
       "      <td>sc:ISRI_1</td>\n",
       "      <td>Nonferrous Scrap - Red Metals</td>\n",
       "      <td>Wire and Cable</td>\n",
       "      <td>Brittle Burnt Wire, Copper Tubing</td>\n",
       "      <td>Copper</td>\n",
       "      <td>Barley</td>\n",
       "      <td>Clean, Untinned, Uncoated, Unalloyed</td>\n",
       "      <td>No. 1 Copper Wire</td>\n",
       "      <td>sc:Material_249</td>\n",
       "      <td>sc:Process_257</td>\n",
       "    </tr>\n",
       "  </tbody>\n",
       "</table>\n",
       "</div>"
      ],
      "text/plain": [
       "     isri id                 sc:hasCategory      sc:hasForm  \\\n",
       "0  sc:ISRI_0  Nonferrous Scrap - Red Metals            Wire   \n",
       "1  sc:ISRI_1  Nonferrous Scrap - Red Metals  Wire and Cable   \n",
       "\n",
       "                       sc:isFreeFrom sc:contains sc:hasISRICode  \\\n",
       "0                                NaN      Copper          Berry   \n",
       "1  Brittle Burnt Wire, Copper Tubing      Copper         Barley   \n",
       "\n",
       "                    sc:hasSpecification         pc:hasName  sc:isComposedOf  \\\n",
       "0             Bare, Uncoated, Unalloyed  No. 1 Copper Wire  sc:Material_249   \n",
       "1  Clean, Untinned, Uncoated, Unalloyed  No. 1 Copper Wire  sc:Material_249   \n",
       "\n",
       "  sc:isProcessedBy  \n",
       "0   sc:Process_257  \n",
       "1   sc:Process_257  "
      ]
     },
     "execution_count": 153,
     "metadata": {},
     "output_type": "execute_result"
    }
   ],
   "source": [
    "isri_data.head(2)"
   ]
  },
  {
   "cell_type": "code",
   "execution_count": 154,
   "id": "b5ddb481",
   "metadata": {},
   "outputs": [
    {
     "data": {
      "text/plain": [
       "(244, 10)"
      ]
     },
     "execution_count": 154,
     "metadata": {},
     "output_type": "execute_result"
    }
   ],
   "source": [
    "isri_data.shape"
   ]
  },
  {
   "cell_type": "code",
   "execution_count": 179,
   "id": "166dc78c",
   "metadata": {},
   "outputs": [
    {
     "data": {
      "text/plain": [
       "isri id                  0\n",
       "sc:hasCategory           0\n",
       "sc:hasForm              43\n",
       "sc:isFreeFrom           87\n",
       "sc:contains             68\n",
       "sc:hasISRICode           0\n",
       "sc:hasSpecification     12\n",
       "pc:hasName               7\n",
       "sc:isComposedOf        109\n",
       "sc:isProcessedBy       194\n",
       "dtype: int64"
      ]
     },
     "execution_count": 179,
     "metadata": {},
     "output_type": "execute_result"
    }
   ],
   "source": [
    "isri_data.isna().sum()"
   ]
  },
  {
   "cell_type": "markdown",
   "id": "8bd16a1b",
   "metadata": {},
   "source": [
    "#### Drop unusefull columns"
   ]
  },
  {
   "cell_type": "code",
   "execution_count": 162,
   "id": "ab1e1e6a",
   "metadata": {},
   "outputs": [
    {
     "data": {
      "text/plain": [
       "(244, 7)"
      ]
     },
     "execution_count": 162,
     "metadata": {},
     "output_type": "execute_result"
    }
   ],
   "source": [
    "df = isri_data.copy()\n",
    "df.drop(columns=['isri id', 'sc:hasISRICode', 'sc:isProcessedBy'], inplace=True)\n",
    "df.shape"
   ]
  },
  {
   "cell_type": "code",
   "execution_count": 165,
   "id": "f117c17e",
   "metadata": {},
   "outputs": [
    {
     "data": {
      "text/html": [
       "<div>\n",
       "<style scoped>\n",
       "    .dataframe tbody tr th:only-of-type {\n",
       "        vertical-align: middle;\n",
       "    }\n",
       "\n",
       "    .dataframe tbody tr th {\n",
       "        vertical-align: top;\n",
       "    }\n",
       "\n",
       "    .dataframe thead th {\n",
       "        text-align: right;\n",
       "    }\n",
       "</style>\n",
       "<table border=\"1\" class=\"dataframe\">\n",
       "  <thead>\n",
       "    <tr style=\"text-align: right;\">\n",
       "      <th></th>\n",
       "      <th>sc:hasCategory</th>\n",
       "      <th>sc:hasForm</th>\n",
       "      <th>sc:isFreeFrom</th>\n",
       "      <th>sc:contains</th>\n",
       "      <th>sc:hasSpecification</th>\n",
       "      <th>pc:hasName</th>\n",
       "      <th>sc:isComposedOf</th>\n",
       "    </tr>\n",
       "  </thead>\n",
       "  <tbody>\n",
       "    <tr>\n",
       "      <th>0</th>\n",
       "      <td>nonferrous scrap red metals</td>\n",
       "      <td>wire</td>\n",
       "      <td></td>\n",
       "      <td>copper</td>\n",
       "      <td>bare uncoated unalloyed</td>\n",
       "      <td>copper wire</td>\n",
       "      <td>sc:Material_249</td>\n",
       "    </tr>\n",
       "    <tr>\n",
       "      <th>1</th>\n",
       "      <td>nonferrous scrap red metals</td>\n",
       "      <td>wire cable</td>\n",
       "      <td>brittle burnt wire copper tubing</td>\n",
       "      <td>copper</td>\n",
       "      <td>clean untinned uncoated unalloyed</td>\n",
       "      <td>copper wire</td>\n",
       "      <td>sc:Material_249</td>\n",
       "    </tr>\n",
       "    <tr>\n",
       "      <th>2</th>\n",
       "      <td>nonferrous scrap red metals</td>\n",
       "      <td>miscellaneous wire</td>\n",
       "      <td>excessively leaded tinned soldered copper wire...</td>\n",
       "      <td>copper</td>\n",
       "      <td>unalloyed</td>\n",
       "      <td>copper wire</td>\n",
       "      <td>sc:Material_249</td>\n",
       "    </tr>\n",
       "    <tr>\n",
       "      <th>3</th>\n",
       "      <td>nonferrous scrap red metals</td>\n",
       "      <td>clippings punchings bus bars commutator segmen...</td>\n",
       "      <td></td>\n",
       "      <td>copper</td>\n",
       "      <td>clean unalloyed uncoated</td>\n",
       "      <td>heavy copper solids tubing</td>\n",
       "      <td>sc:Material_249</td>\n",
       "    </tr>\n",
       "    <tr>\n",
       "      <th>4</th>\n",
       "      <td>nonferrous scrap red metals</td>\n",
       "      <td>miscellaneous scrap</td>\n",
       "      <td>excessively leaded tinned soldered copper scra...</td>\n",
       "      <td>copper</td>\n",
       "      <td>unalloyed</td>\n",
       "      <td>copper solids tubing</td>\n",
       "      <td>sc:Material_249</td>\n",
       "    </tr>\n",
       "  </tbody>\n",
       "</table>\n",
       "</div>"
      ],
      "text/plain": [
       "                sc:hasCategory  \\\n",
       "0  nonferrous scrap red metals   \n",
       "1  nonferrous scrap red metals   \n",
       "2  nonferrous scrap red metals   \n",
       "3  nonferrous scrap red metals   \n",
       "4  nonferrous scrap red metals   \n",
       "\n",
       "                                          sc:hasForm  \\\n",
       "0                                               wire   \n",
       "1                                         wire cable   \n",
       "2                                 miscellaneous wire   \n",
       "3  clippings punchings bus bars commutator segmen...   \n",
       "4                                miscellaneous scrap   \n",
       "\n",
       "                                       sc:isFreeFrom sc:contains  \\\n",
       "0                                                         copper   \n",
       "1                   brittle burnt wire copper tubing      copper   \n",
       "2  excessively leaded tinned soldered copper wire...      copper   \n",
       "3                                                         copper   \n",
       "4  excessively leaded tinned soldered copper scra...      copper   \n",
       "\n",
       "                 sc:hasSpecification                  pc:hasName  \\\n",
       "0            bare uncoated unalloyed                 copper wire   \n",
       "1  clean untinned uncoated unalloyed                 copper wire   \n",
       "2                          unalloyed                 copper wire   \n",
       "3           clean unalloyed uncoated  heavy copper solids tubing   \n",
       "4                          unalloyed        copper solids tubing   \n",
       "\n",
       "   sc:isComposedOf  \n",
       "0  sc:Material_249  \n",
       "1  sc:Material_249  \n",
       "2  sc:Material_249  \n",
       "3  sc:Material_249  \n",
       "4  sc:Material_249  "
      ]
     },
     "execution_count": 165,
     "metadata": {},
     "output_type": "execute_result"
    }
   ],
   "source": [
    "import texthero as hero\n",
    "from texthero import preprocessing\n",
    "\n",
    "custom_pipeline = [preprocessing.fillna,\n",
    "                   preprocessing.lowercase,\n",
    "                   preprocessing.remove_whitespace,\n",
    "                   preprocessing.remove_stopwords]\n",
    "\n",
    "for col in df.drop('sc:isComposedOf',axis=1).columns:\n",
    "    df[col] = hero.clean(df[col])\n",
    "\n",
    "df.head()\n"
   ]
  },
  {
   "cell_type": "code",
   "execution_count": 182,
   "id": "d2ebd2ed",
   "metadata": {},
   "outputs": [
    {
     "data": {
      "text/plain": [
       "(135, 7)"
      ]
     },
     "execution_count": 182,
     "metadata": {},
     "output_type": "execute_result"
    }
   ],
   "source": [
    "df = df[df['sc:isComposedOf'].notna()]\n",
    "df.shape"
   ]
  },
  {
   "cell_type": "code",
   "execution_count": 189,
   "id": "6643427f",
   "metadata": {},
   "outputs": [
    {
     "data": {
      "text/plain": [
       "(135, 8)"
      ]
     },
     "execution_count": 189,
     "metadata": {},
     "output_type": "execute_result"
    }
   ],
   "source": [
    "df['corpus'] = df['sc:hasCategory']\n",
    "\n",
    "for col in df.drop(['sc:hasCategory', 'sc:isComposedOf'], axis=1):\n",
    "    df['corpus'] = df['corpus'] + ' ' + df[col]\n",
    "\n",
    "df.shape"
   ]
  },
  {
   "cell_type": "code",
   "execution_count": 193,
   "id": "bcf1152b",
   "metadata": {},
   "outputs": [
    {
     "name": "stdout",
     "output_type": "stream",
     "text": [
      "(108, 583) (27, 583)\n",
      "0.37037037037037035\n"
     ]
    }
   ],
   "source": [
    "from sklearn.model_selection import train_test_split\n",
    "\n",
    "# X = df.drop('sc:isComposedOf', axis=1)\n",
    "X = df['corpus']\n",
    "y = df['sc:isComposedOf']\n",
    "\n",
    "X_train, X_test, y_train, y_test = train_test_split(X, y, test_size=0.2)\n",
    "\n",
    "from sklearn.feature_extraction.text import TfidfTransformer\n",
    "from sklearn.feature_extraction.text import TfidfVectorizer\n",
    "\n",
    "# X_train = X_train['sc:hasCategory'].values\n",
    "# X_test = X_test['sc:hasCategory'].values\n",
    "\n",
    "y_train = y_train.values\n",
    "y_test = y_test.values\n",
    "\n",
    "vectorizer = TfidfVectorizer()\n",
    "train_vectors = vectorizer.fit_transform(X_train)\n",
    "test_vectors = vectorizer.transform(X_test)\n",
    "\n",
    "print(train_vectors.shape, test_vectors.shape)\n",
    "\n",
    "from sklearn.naive_bayes import MultinomialNB\n",
    "\n",
    "clf = MultinomialNB().fit(train_vectors, y_train)\n",
    "predicted = clf.predict(test_vectors)\n",
    "print(accuracy_score(y_test,predicted))"
   ]
  },
  {
   "cell_type": "code",
   "execution_count": 201,
   "id": "6974a6b4",
   "metadata": {},
   "outputs": [
    {
     "name": "stdout",
     "output_type": "stream",
     "text": [
      "0.5925925925925926\n"
     ]
    }
   ],
   "source": [
    "model = LogisticRegression()\n",
    "\n",
    "model.fit(train_vectors, y_train)\n",
    "predicted = model.predict(test_vectors)\n",
    "print(accuracy_score(y_test,predicted))\n",
    "\n",
    "results = pd.DataFrame(columns=['true', 'pred'])\n",
    "results['true'] = y_test\n",
    "results['pred'] = predicted"
   ]
  },
  {
   "cell_type": "code",
   "execution_count": 202,
   "id": "31e80eb0",
   "metadata": {},
   "outputs": [
    {
     "data": {
      "text/html": [
       "<div>\n",
       "<style scoped>\n",
       "    .dataframe tbody tr th:only-of-type {\n",
       "        vertical-align: middle;\n",
       "    }\n",
       "\n",
       "    .dataframe tbody tr th {\n",
       "        vertical-align: top;\n",
       "    }\n",
       "\n",
       "    .dataframe thead th {\n",
       "        text-align: right;\n",
       "    }\n",
       "</style>\n",
       "<table border=\"1\" class=\"dataframe\">\n",
       "  <thead>\n",
       "    <tr style=\"text-align: right;\">\n",
       "      <th></th>\n",
       "      <th>true</th>\n",
       "      <th>pred</th>\n",
       "    </tr>\n",
       "  </thead>\n",
       "  <tbody>\n",
       "    <tr>\n",
       "      <th>0</th>\n",
       "      <td>sc:Material_700</td>\n",
       "      <td>sc:Material_700</td>\n",
       "    </tr>\n",
       "    <tr>\n",
       "      <th>1</th>\n",
       "      <td>sc:Material_696</td>\n",
       "      <td>sc:Material_696</td>\n",
       "    </tr>\n",
       "    <tr>\n",
       "      <th>2</th>\n",
       "      <td>sc:Material_244</td>\n",
       "      <td>sc:Material_244</td>\n",
       "    </tr>\n",
       "    <tr>\n",
       "      <th>3</th>\n",
       "      <td>sc:Material_249</td>\n",
       "      <td>sc:Material_249</td>\n",
       "    </tr>\n",
       "    <tr>\n",
       "      <th>4</th>\n",
       "      <td>sc:Material_707</td>\n",
       "      <td>sc:Material_244</td>\n",
       "    </tr>\n",
       "    <tr>\n",
       "      <th>5</th>\n",
       "      <td>sc:Material_250</td>\n",
       "      <td>sc:Material_695</td>\n",
       "    </tr>\n",
       "    <tr>\n",
       "      <th>6</th>\n",
       "      <td>sc:Material_707</td>\n",
       "      <td>sc:Material_244</td>\n",
       "    </tr>\n",
       "    <tr>\n",
       "      <th>7</th>\n",
       "      <td>sc:Material_244</td>\n",
       "      <td>sc:Material_244</td>\n",
       "    </tr>\n",
       "    <tr>\n",
       "      <th>8</th>\n",
       "      <td>sc:Material_701</td>\n",
       "      <td>sc:Material_244</td>\n",
       "    </tr>\n",
       "    <tr>\n",
       "      <th>9</th>\n",
       "      <td>sc:Material_703</td>\n",
       "      <td>sc:Material_244</td>\n",
       "    </tr>\n",
       "    <tr>\n",
       "      <th>10</th>\n",
       "      <td>sc:Material_707</td>\n",
       "      <td>sc:Material_244</td>\n",
       "    </tr>\n",
       "    <tr>\n",
       "      <th>11</th>\n",
       "      <td>sc:Material_249</td>\n",
       "      <td>sc:Material_249</td>\n",
       "    </tr>\n",
       "    <tr>\n",
       "      <th>12</th>\n",
       "      <td>sc:Material_697</td>\n",
       "      <td>sc:Material_697</td>\n",
       "    </tr>\n",
       "    <tr>\n",
       "      <th>13</th>\n",
       "      <td>sc:Material_703</td>\n",
       "      <td>sc:Material_244</td>\n",
       "    </tr>\n",
       "    <tr>\n",
       "      <th>14</th>\n",
       "      <td>sc:Material_696</td>\n",
       "      <td>sc:Material_696</td>\n",
       "    </tr>\n",
       "    <tr>\n",
       "      <th>15</th>\n",
       "      <td>sc:Material_707</td>\n",
       "      <td>sc:Material_244</td>\n",
       "    </tr>\n",
       "    <tr>\n",
       "      <th>16</th>\n",
       "      <td>sc:Material_254</td>\n",
       "      <td>sc:Material_254</td>\n",
       "    </tr>\n",
       "    <tr>\n",
       "      <th>17</th>\n",
       "      <td>sc:Material_254</td>\n",
       "      <td>sc:Material_254</td>\n",
       "    </tr>\n",
       "    <tr>\n",
       "      <th>18</th>\n",
       "      <td>sc:Material_244</td>\n",
       "      <td>sc:Material_244</td>\n",
       "    </tr>\n",
       "    <tr>\n",
       "      <th>19</th>\n",
       "      <td>sc:Material_249</td>\n",
       "      <td>sc:Material_249</td>\n",
       "    </tr>\n",
       "    <tr>\n",
       "      <th>20</th>\n",
       "      <td>sc:Material_256</td>\n",
       "      <td>sc:Material_256</td>\n",
       "    </tr>\n",
       "    <tr>\n",
       "      <th>21</th>\n",
       "      <td>sc:Material_244</td>\n",
       "      <td>sc:Material_244</td>\n",
       "    </tr>\n",
       "    <tr>\n",
       "      <th>22</th>\n",
       "      <td>sc:Material_703</td>\n",
       "      <td>sc:Material_244</td>\n",
       "    </tr>\n",
       "    <tr>\n",
       "      <th>23</th>\n",
       "      <td>sc:Material_256</td>\n",
       "      <td>sc:Material_244</td>\n",
       "    </tr>\n",
       "    <tr>\n",
       "      <th>24</th>\n",
       "      <td>sc:Material_700</td>\n",
       "      <td>sc:Material_700</td>\n",
       "    </tr>\n",
       "    <tr>\n",
       "      <th>25</th>\n",
       "      <td>sc:Material_248</td>\n",
       "      <td>sc:Material_244</td>\n",
       "    </tr>\n",
       "    <tr>\n",
       "      <th>26</th>\n",
       "      <td>sc:Material_695</td>\n",
       "      <td>sc:Material_695</td>\n",
       "    </tr>\n",
       "  </tbody>\n",
       "</table>\n",
       "</div>"
      ],
      "text/plain": [
       "               true             pred\n",
       "0   sc:Material_700  sc:Material_700\n",
       "1   sc:Material_696  sc:Material_696\n",
       "2   sc:Material_244  sc:Material_244\n",
       "3   sc:Material_249  sc:Material_249\n",
       "4   sc:Material_707  sc:Material_244\n",
       "5   sc:Material_250  sc:Material_695\n",
       "6   sc:Material_707  sc:Material_244\n",
       "7   sc:Material_244  sc:Material_244\n",
       "8   sc:Material_701  sc:Material_244\n",
       "9   sc:Material_703  sc:Material_244\n",
       "10  sc:Material_707  sc:Material_244\n",
       "11  sc:Material_249  sc:Material_249\n",
       "12  sc:Material_697  sc:Material_697\n",
       "13  sc:Material_703  sc:Material_244\n",
       "14  sc:Material_696  sc:Material_696\n",
       "15  sc:Material_707  sc:Material_244\n",
       "16  sc:Material_254  sc:Material_254\n",
       "17  sc:Material_254  sc:Material_254\n",
       "18  sc:Material_244  sc:Material_244\n",
       "19  sc:Material_249  sc:Material_249\n",
       "20  sc:Material_256  sc:Material_256\n",
       "21  sc:Material_244  sc:Material_244\n",
       "22  sc:Material_703  sc:Material_244\n",
       "23  sc:Material_256  sc:Material_244\n",
       "24  sc:Material_700  sc:Material_700\n",
       "25  sc:Material_248  sc:Material_244\n",
       "26  sc:Material_695  sc:Material_695"
      ]
     },
     "execution_count": 202,
     "metadata": {},
     "output_type": "execute_result"
    }
   ],
   "source": [
    "results"
   ]
  },
  {
   "cell_type": "code",
   "execution_count": null,
   "id": "17fd69fa",
   "metadata": {},
   "outputs": [],
   "source": []
  },
  {
   "cell_type": "code",
   "execution_count": null,
   "id": "6c1d22b8",
   "metadata": {},
   "outputs": [],
   "source": []
  },
  {
   "cell_type": "code",
   "execution_count": null,
   "id": "721a95c1",
   "metadata": {},
   "outputs": [],
   "source": []
  },
  {
   "cell_type": "code",
   "execution_count": null,
   "id": "2d067227",
   "metadata": {},
   "outputs": [],
   "source": []
  },
  {
   "cell_type": "code",
   "execution_count": null,
   "id": "3fbad74b",
   "metadata": {},
   "outputs": [],
   "source": []
  },
  {
   "cell_type": "code",
   "execution_count": null,
   "id": "52a667f6",
   "metadata": {},
   "outputs": [],
   "source": []
  },
  {
   "cell_type": "code",
   "execution_count": null,
   "id": "2554f16e",
   "metadata": {},
   "outputs": [],
   "source": []
  },
  {
   "cell_type": "code",
   "execution_count": null,
   "id": "9025e620",
   "metadata": {},
   "outputs": [],
   "source": []
  },
  {
   "cell_type": "code",
   "execution_count": null,
   "id": "2dc5123b",
   "metadata": {},
   "outputs": [],
   "source": []
  },
  {
   "cell_type": "code",
   "execution_count": null,
   "id": "b71dd61d",
   "metadata": {},
   "outputs": [],
   "source": []
  },
  {
   "cell_type": "markdown",
   "id": "84bdb19a",
   "metadata": {},
   "source": [
    "How many __unique__ ISRI?"
   ]
  },
  {
   "cell_type": "code",
   "execution_count": 31,
   "id": "c3da8789",
   "metadata": {},
   "outputs": [
    {
     "data": {
      "text/plain": [
       "244"
      ]
     },
     "execution_count": 31,
     "metadata": {},
     "output_type": "execute_result"
    }
   ],
   "source": [
    "isri_data['isri id'].nunique()"
   ]
  },
  {
   "cell_type": "code",
   "execution_count": 32,
   "id": "6e2cce3c",
   "metadata": {},
   "outputs": [
    {
     "data": {
      "text/plain": [
       "isri id                  0\n",
       "sc:hasCategory           0\n",
       "sc:hasForm              43\n",
       "sc:isFreeFrom           87\n",
       "sc:contains             68\n",
       "sc:hasISRICode           0\n",
       "sc:hasSpecification     12\n",
       "pc:hasName               7\n",
       "sc:isComposedOf        109\n",
       "sc:isProcessedBy       194\n",
       "dtype: int64"
      ]
     },
     "execution_count": 32,
     "metadata": {},
     "output_type": "execute_result"
    }
   ],
   "source": [
    "# check nans\n",
    "isri_data.isna().sum()"
   ]
  },
  {
   "cell_type": "markdown",
   "id": "3a7846f8",
   "metadata": {},
   "source": [
    "Όσα `ISRI` έχουν available `process`, ανήκουν στο ίδιο. Επομένως, δεν έχει νοήμα η προσπάθεια πρόβλεψης του process κάποιου scrap."
   ]
  },
  {
   "cell_type": "code",
   "execution_count": 33,
   "id": "d1bee531",
   "metadata": {},
   "outputs": [
    {
     "name": "stdout",
     "output_type": "stream",
     "text": [
      "['sc:Process_257' nan]\n"
     ]
    }
   ],
   "source": [
    "print(isri_data['sc:isProcessedBy'].unique())\n",
    "\n",
    "# drop process from ISRI\n",
    "isri_data.drop('sc:isProcessedBy', axis=1, inplace=True)"
   ]
  },
  {
   "cell_type": "code",
   "execution_count": 34,
   "id": "54120ac9",
   "metadata": {},
   "outputs": [
    {
     "data": {
      "text/plain": [
       "Nonferrous Scrap - Red Metals                                                                       50\n",
       "Nonferrous Scrap - Aluminum                                                                         48\n",
       "Ferrous Scrap                                                                                       30\n",
       "Ferrous Scrap - Electric Furnace Casting and Foundry Grades                                         25\n",
       "Nonferrous Scrap - Nickel/Stainless/Hi Temp                                                         19\n",
       "Ferrous Scrap - Specially processed Grades to Meet Consumer Requirements - Cast Iron Grades         15\n",
       "Nonferrous Scrap - Zinc                                                                             13\n",
       "Ferrous scrap - Steel from Scrap Tires                                                              11\n",
       "Nonferrous Scrap - Lead                                                                             10\n",
       "Nonferrous Scrap - Mixed Metals                                                                      9\n",
       "Nonferrous Scrap - Magnesium                                                                         5\n",
       "Ferrous Scrap - Specially processed Grades to Meet Consumer Requirements - Special Boring Grades     5\n",
       "Nonferrous Scrap - Other                                                                             4\n",
       "Name: sc:hasCategory, dtype: int64"
      ]
     },
     "execution_count": 34,
     "metadata": {},
     "output_type": "execute_result"
    }
   ],
   "source": [
    "isri_data['sc:hasCategory'].value_counts()"
   ]
  },
  {
   "cell_type": "code",
   "execution_count": 35,
   "id": "b3aa65fc",
   "metadata": {},
   "outputs": [
    {
     "data": {
      "text/html": [
       "<div>\n",
       "<style scoped>\n",
       "    .dataframe tbody tr th:only-of-type {\n",
       "        vertical-align: middle;\n",
       "    }\n",
       "\n",
       "    .dataframe tbody tr th {\n",
       "        vertical-align: top;\n",
       "    }\n",
       "\n",
       "    .dataframe thead th {\n",
       "        text-align: right;\n",
       "    }\n",
       "</style>\n",
       "<table border=\"1\" class=\"dataframe\">\n",
       "  <thead>\n",
       "    <tr style=\"text-align: right;\">\n",
       "      <th></th>\n",
       "      <th>isri id</th>\n",
       "      <th>sc:hasCategory</th>\n",
       "      <th>sc:hasForm</th>\n",
       "      <th>sc:isFreeFrom</th>\n",
       "      <th>sc:contains</th>\n",
       "      <th>sc:hasISRICode</th>\n",
       "      <th>sc:hasSpecification</th>\n",
       "      <th>pc:hasName</th>\n",
       "      <th>sc:isComposedOf</th>\n",
       "    </tr>\n",
       "  </thead>\n",
       "  <tbody>\n",
       "    <tr>\n",
       "      <th>0</th>\n",
       "      <td>sc:ISRI_0</td>\n",
       "      <td>Nonferrous Scrap - Red Metals</td>\n",
       "      <td>Wire</td>\n",
       "      <td>NaN</td>\n",
       "      <td>Copper</td>\n",
       "      <td>Berry</td>\n",
       "      <td>Bare, Uncoated, Unalloyed</td>\n",
       "      <td>No. 1 Copper Wire</td>\n",
       "      <td>sc:Material_249</td>\n",
       "    </tr>\n",
       "    <tr>\n",
       "      <th>1</th>\n",
       "      <td>sc:ISRI_1</td>\n",
       "      <td>Nonferrous Scrap - Red Metals</td>\n",
       "      <td>Wire and Cable</td>\n",
       "      <td>Brittle Burnt Wire, Copper Tubing</td>\n",
       "      <td>Copper</td>\n",
       "      <td>Barley</td>\n",
       "      <td>Clean, Untinned, Uncoated, Unalloyed</td>\n",
       "      <td>No. 1 Copper Wire</td>\n",
       "      <td>sc:Material_249</td>\n",
       "    </tr>\n",
       "  </tbody>\n",
       "</table>\n",
       "</div>"
      ],
      "text/plain": [
       "     isri id                 sc:hasCategory      sc:hasForm  \\\n",
       "0  sc:ISRI_0  Nonferrous Scrap - Red Metals            Wire   \n",
       "1  sc:ISRI_1  Nonferrous Scrap - Red Metals  Wire and Cable   \n",
       "\n",
       "                       sc:isFreeFrom sc:contains sc:hasISRICode  \\\n",
       "0                                NaN      Copper          Berry   \n",
       "1  Brittle Burnt Wire, Copper Tubing      Copper         Barley   \n",
       "\n",
       "                    sc:hasSpecification         pc:hasName  sc:isComposedOf  \n",
       "0             Bare, Uncoated, Unalloyed  No. 1 Copper Wire  sc:Material_249  \n",
       "1  Clean, Untinned, Uncoated, Unalloyed  No. 1 Copper Wire  sc:Material_249  "
      ]
     },
     "execution_count": 35,
     "metadata": {},
     "output_type": "execute_result"
    }
   ],
   "source": [
    "isri_data.head(2)"
   ]
  },
  {
   "cell_type": "markdown",
   "id": "8b2de420",
   "metadata": {},
   "source": [
    "#### Check for NaNs and fill them with empty string"
   ]
  },
  {
   "cell_type": "code",
   "execution_count": 36,
   "id": "20bd6f7b",
   "metadata": {},
   "outputs": [
    {
     "data": {
      "text/plain": [
       "isri id                  0\n",
       "sc:hasCategory           0\n",
       "sc:hasForm              43\n",
       "sc:isFreeFrom           87\n",
       "sc:contains             68\n",
       "sc:hasISRICode           0\n",
       "sc:hasSpecification     12\n",
       "pc:hasName               7\n",
       "sc:isComposedOf        109\n",
       "dtype: int64"
      ]
     },
     "execution_count": 36,
     "metadata": {},
     "output_type": "execute_result"
    }
   ],
   "source": [
    "isri_data.isna().sum()"
   ]
  },
  {
   "cell_type": "code",
   "execution_count": 14,
   "id": "e37c3c53",
   "metadata": {},
   "outputs": [],
   "source": [
    "# isri_data.fillna('', inplace=True)"
   ]
  },
  {
   "cell_type": "code",
   "execution_count": 37,
   "id": "330480b0",
   "metadata": {},
   "outputs": [],
   "source": [
    "# Probably just a 'code name'. We will drop it\n",
    "isri_data.drop('sc:hasISRICode', axis=1, inplace=True)"
   ]
  },
  {
   "cell_type": "code",
   "execution_count": 18,
   "id": "6a21aab3",
   "metadata": {},
   "outputs": [
    {
     "data": {
      "text/html": [
       "<div>\n",
       "<style scoped>\n",
       "    .dataframe tbody tr th:only-of-type {\n",
       "        vertical-align: middle;\n",
       "    }\n",
       "\n",
       "    .dataframe tbody tr th {\n",
       "        vertical-align: top;\n",
       "    }\n",
       "\n",
       "    .dataframe thead th {\n",
       "        text-align: right;\n",
       "    }\n",
       "</style>\n",
       "<table border=\"1\" class=\"dataframe\">\n",
       "  <thead>\n",
       "    <tr style=\"text-align: right;\">\n",
       "      <th></th>\n",
       "      <th>isri id</th>\n",
       "      <th>sc:hasCategory</th>\n",
       "      <th>sc:hasForm</th>\n",
       "      <th>sc:isFreeFrom</th>\n",
       "      <th>sc:contains</th>\n",
       "      <th>sc:hasSpecification</th>\n",
       "      <th>pc:hasName</th>\n",
       "      <th>sc:isComposedOf</th>\n",
       "    </tr>\n",
       "  </thead>\n",
       "  <tbody>\n",
       "    <tr>\n",
       "      <th>0</th>\n",
       "      <td>sc:ISRI_0</td>\n",
       "      <td>Nonferrous Scrap - Red Metals</td>\n",
       "      <td>Wire</td>\n",
       "      <td></td>\n",
       "      <td>Copper</td>\n",
       "      <td>Bare, Uncoated, Unalloyed</td>\n",
       "      <td>No. 1 Copper Wire</td>\n",
       "      <td>sc:Material_249</td>\n",
       "    </tr>\n",
       "    <tr>\n",
       "      <th>1</th>\n",
       "      <td>sc:ISRI_1</td>\n",
       "      <td>Nonferrous Scrap - Red Metals</td>\n",
       "      <td>Wire and Cable</td>\n",
       "      <td>Brittle Burnt Wire, Copper Tubing</td>\n",
       "      <td>Copper</td>\n",
       "      <td>Clean, Untinned, Uncoated, Unalloyed</td>\n",
       "      <td>No. 1 Copper Wire</td>\n",
       "      <td>sc:Material_249</td>\n",
       "    </tr>\n",
       "  </tbody>\n",
       "</table>\n",
       "</div>"
      ],
      "text/plain": [
       "     isri id                 sc:hasCategory      sc:hasForm  \\\n",
       "0  sc:ISRI_0  Nonferrous Scrap - Red Metals            Wire   \n",
       "1  sc:ISRI_1  Nonferrous Scrap - Red Metals  Wire and Cable   \n",
       "\n",
       "                       sc:isFreeFrom sc:contains  \\\n",
       "0                                         Copper   \n",
       "1  Brittle Burnt Wire, Copper Tubing      Copper   \n",
       "\n",
       "                    sc:hasSpecification         pc:hasName  sc:isComposedOf  \n",
       "0             Bare, Uncoated, Unalloyed  No. 1 Copper Wire  sc:Material_249  \n",
       "1  Clean, Untinned, Uncoated, Unalloyed  No. 1 Copper Wire  sc:Material_249  "
      ]
     },
     "execution_count": 18,
     "metadata": {},
     "output_type": "execute_result"
    }
   ],
   "source": [
    "isri_data.head(2)"
   ]
  },
  {
   "cell_type": "markdown",
   "id": "1fa70986",
   "metadata": {},
   "source": [
    "# TDS: How to vectorize text in DF for NLP"
   ]
  },
  {
   "cell_type": "code",
   "execution_count": 38,
   "id": "387c467c",
   "metadata": {},
   "outputs": [],
   "source": [
    "import texthero as hero\n",
    "from texthero import preprocessing"
   ]
  },
  {
   "cell_type": "code",
   "execution_count": 78,
   "id": "ad529325",
   "metadata": {},
   "outputs": [],
   "source": [
    "custom_pipeline = [preprocessing.fillna,\n",
    "                   preprocessing.lowercase,\n",
    "                   preprocessing.remove_whitespace,\n",
    "                   preprocessing.remove_stopwords]\n",
    "\n",
    "df = isri_data.copy()"
   ]
  },
  {
   "cell_type": "code",
   "execution_count": 80,
   "id": "6eea7ae1",
   "metadata": {},
   "outputs": [
    {
     "data": {
      "text/html": [
       "<div>\n",
       "<style scoped>\n",
       "    .dataframe tbody tr th:only-of-type {\n",
       "        vertical-align: middle;\n",
       "    }\n",
       "\n",
       "    .dataframe tbody tr th {\n",
       "        vertical-align: top;\n",
       "    }\n",
       "\n",
       "    .dataframe thead th {\n",
       "        text-align: right;\n",
       "    }\n",
       "</style>\n",
       "<table border=\"1\" class=\"dataframe\">\n",
       "  <thead>\n",
       "    <tr style=\"text-align: right;\">\n",
       "      <th></th>\n",
       "      <th>isri id</th>\n",
       "      <th>sc:hasCategory</th>\n",
       "      <th>sc:hasForm</th>\n",
       "      <th>sc:isFreeFrom</th>\n",
       "      <th>sc:contains</th>\n",
       "      <th>sc:hasSpecification</th>\n",
       "      <th>pc:hasName</th>\n",
       "      <th>sc:isComposedOf</th>\n",
       "    </tr>\n",
       "  </thead>\n",
       "  <tbody>\n",
       "    <tr>\n",
       "      <th>0</th>\n",
       "      <td>sc:ISRI_0</td>\n",
       "      <td>Nonferrous Scrap - Red Metals</td>\n",
       "      <td>Wire</td>\n",
       "      <td>NaN</td>\n",
       "      <td>Copper</td>\n",
       "      <td>Bare, Uncoated, Unalloyed</td>\n",
       "      <td>No. 1 Copper Wire</td>\n",
       "      <td>sc:Material_249</td>\n",
       "    </tr>\n",
       "    <tr>\n",
       "      <th>1</th>\n",
       "      <td>sc:ISRI_1</td>\n",
       "      <td>Nonferrous Scrap - Red Metals</td>\n",
       "      <td>Wire and Cable</td>\n",
       "      <td>Brittle Burnt Wire, Copper Tubing</td>\n",
       "      <td>Copper</td>\n",
       "      <td>Clean, Untinned, Uncoated, Unalloyed</td>\n",
       "      <td>No. 1 Copper Wire</td>\n",
       "      <td>sc:Material_249</td>\n",
       "    </tr>\n",
       "    <tr>\n",
       "      <th>2</th>\n",
       "      <td>sc:ISRI_2</td>\n",
       "      <td>Nonferrous Scrap - Red Metals</td>\n",
       "      <td>Miscellaneous, Wire</td>\n",
       "      <td>Excessively leaded, tinned, soldered copper wi...</td>\n",
       "      <td>Copper</td>\n",
       "      <td>Unalloyed</td>\n",
       "      <td>No. 2 Copper Wire</td>\n",
       "      <td>sc:Material_249</td>\n",
       "    </tr>\n",
       "    <tr>\n",
       "      <th>3</th>\n",
       "      <td>sc:ISRI_3</td>\n",
       "      <td>Nonferrous Scrap - Red Metals</td>\n",
       "      <td>Clippings, punchings, bus bars, commutator seg...</td>\n",
       "      <td>NaN</td>\n",
       "      <td>Copper</td>\n",
       "      <td>clean, unalloyed, uncoated</td>\n",
       "      <td>No. 1 Heavy Copper Solids and Tubing</td>\n",
       "      <td>sc:Material_249</td>\n",
       "    </tr>\n",
       "    <tr>\n",
       "      <th>4</th>\n",
       "      <td>sc:ISRI_4</td>\n",
       "      <td>Nonferrous Scrap - Red Metals</td>\n",
       "      <td>Miscellaneous Scrap</td>\n",
       "      <td>excessively leaded, tinned, soldered copper sc...</td>\n",
       "      <td>Copper</td>\n",
       "      <td>Unalloyed</td>\n",
       "      <td>No. 2 Copper Solids and Tubing</td>\n",
       "      <td>sc:Material_249</td>\n",
       "    </tr>\n",
       "  </tbody>\n",
       "</table>\n",
       "</div>"
      ],
      "text/plain": [
       "     isri id                 sc:hasCategory  \\\n",
       "0  sc:ISRI_0  Nonferrous Scrap - Red Metals   \n",
       "1  sc:ISRI_1  Nonferrous Scrap - Red Metals   \n",
       "2  sc:ISRI_2  Nonferrous Scrap - Red Metals   \n",
       "3  sc:ISRI_3  Nonferrous Scrap - Red Metals   \n",
       "4  sc:ISRI_4  Nonferrous Scrap - Red Metals   \n",
       "\n",
       "                                          sc:hasForm  \\\n",
       "0                                               Wire   \n",
       "1                                     Wire and Cable   \n",
       "2                                Miscellaneous, Wire   \n",
       "3  Clippings, punchings, bus bars, commutator seg...   \n",
       "4                                Miscellaneous Scrap   \n",
       "\n",
       "                                       sc:isFreeFrom sc:contains  \\\n",
       "0                                                NaN      Copper   \n",
       "1                  Brittle Burnt Wire, Copper Tubing      Copper   \n",
       "2  Excessively leaded, tinned, soldered copper wi...      Copper   \n",
       "3                                                NaN      Copper   \n",
       "4  excessively leaded, tinned, soldered copper sc...      Copper   \n",
       "\n",
       "                    sc:hasSpecification                            pc:hasName  \\\n",
       "0             Bare, Uncoated, Unalloyed                     No. 1 Copper Wire   \n",
       "1  Clean, Untinned, Uncoated, Unalloyed                     No. 1 Copper Wire   \n",
       "2                             Unalloyed                     No. 2 Copper Wire   \n",
       "3            clean, unalloyed, uncoated  No. 1 Heavy Copper Solids and Tubing   \n",
       "4                             Unalloyed        No. 2 Copper Solids and Tubing   \n",
       "\n",
       "   sc:isComposedOf  \n",
       "0  sc:Material_249  \n",
       "1  sc:Material_249  \n",
       "2  sc:Material_249  \n",
       "3  sc:Material_249  \n",
       "4  sc:Material_249  "
      ]
     },
     "execution_count": 80,
     "metadata": {},
     "output_type": "execute_result"
    }
   ],
   "source": [
    "df.head()"
   ]
  },
  {
   "cell_type": "code",
   "execution_count": 89,
   "id": "501d4359",
   "metadata": {},
   "outputs": [],
   "source": [
    "reviews = df['sc:hasCategory'].str.cat(sep=' ')"
   ]
  },
  {
   "cell_type": "code",
   "execution_count": 94,
   "id": "10670339",
   "metadata": {},
   "outputs": [
    {
     "data": {
      "text/html": [
       "<div>\n",
       "<style scoped>\n",
       "    .dataframe tbody tr th:only-of-type {\n",
       "        vertical-align: middle;\n",
       "    }\n",
       "\n",
       "    .dataframe tbody tr th {\n",
       "        vertical-align: top;\n",
       "    }\n",
       "\n",
       "    .dataframe thead th {\n",
       "        text-align: right;\n",
       "    }\n",
       "</style>\n",
       "<table border=\"1\" class=\"dataframe\">\n",
       "  <thead>\n",
       "    <tr style=\"text-align: right;\">\n",
       "      <th></th>\n",
       "      <th>isri id</th>\n",
       "      <th>sc:hasCategory</th>\n",
       "      <th>sc:hasForm</th>\n",
       "      <th>sc:isFreeFrom</th>\n",
       "      <th>sc:contains</th>\n",
       "      <th>sc:hasSpecification</th>\n",
       "      <th>pc:hasName</th>\n",
       "      <th>sc:isComposedOf</th>\n",
       "    </tr>\n",
       "  </thead>\n",
       "  <tbody>\n",
       "    <tr>\n",
       "      <th>0</th>\n",
       "      <td>sc:ISRI_0</td>\n",
       "      <td>Nonferrous Scrap - Red Metals</td>\n",
       "      <td>Wire</td>\n",
       "      <td>NaN</td>\n",
       "      <td>Copper</td>\n",
       "      <td>Bare, Uncoated, Unalloyed</td>\n",
       "      <td>No. 1 Copper Wire</td>\n",
       "      <td>6</td>\n",
       "    </tr>\n",
       "    <tr>\n",
       "      <th>1</th>\n",
       "      <td>sc:ISRI_1</td>\n",
       "      <td>Nonferrous Scrap - Red Metals</td>\n",
       "      <td>Wire and Cable</td>\n",
       "      <td>Brittle Burnt Wire, Copper Tubing</td>\n",
       "      <td>Copper</td>\n",
       "      <td>Clean, Untinned, Uncoated, Unalloyed</td>\n",
       "      <td>No. 1 Copper Wire</td>\n",
       "      <td>6</td>\n",
       "    </tr>\n",
       "  </tbody>\n",
       "</table>\n",
       "</div>"
      ],
      "text/plain": [
       "     isri id                 sc:hasCategory      sc:hasForm  \\\n",
       "0  sc:ISRI_0  Nonferrous Scrap - Red Metals            Wire   \n",
       "1  sc:ISRI_1  Nonferrous Scrap - Red Metals  Wire and Cable   \n",
       "\n",
       "                       sc:isFreeFrom sc:contains  \\\n",
       "0                                NaN      Copper   \n",
       "1  Brittle Burnt Wire, Copper Tubing      Copper   \n",
       "\n",
       "                    sc:hasSpecification         pc:hasName  sc:isComposedOf  \n",
       "0             Bare, Uncoated, Unalloyed  No. 1 Copper Wire                6  \n",
       "1  Clean, Untinned, Uncoated, Unalloyed  No. 1 Copper Wire                6  "
      ]
     },
     "execution_count": 94,
     "metadata": {},
     "output_type": "execute_result"
    }
   ],
   "source": [
    "le = LabelEncoder()\n",
    "\n",
    "df['sc:isComposedOf'] = le.fit_transform(df['sc:isComposedOf'])\n",
    "df.head(2)"
   ]
  },
  {
   "cell_type": "code",
   "execution_count": 122,
   "id": "1d54b664",
   "metadata": {},
   "outputs": [],
   "source": [
    "from sklearn.model_selection import train_test_split\n",
    "\n",
    "X = df.drop('sc:isComposedOf', axis=1)\n",
    "y = df['sc:isComposedOf']\n",
    "\n",
    "X_train, X_test, y_train, y_test = train_test_split(X, y, test_size=0.2)"
   ]
  },
  {
   "cell_type": "code",
   "execution_count": 120,
   "id": "9ebe620f",
   "metadata": {},
   "outputs": [
    {
     "name": "stdout",
     "output_type": "stream",
     "text": [
      "(195, 34) (49, 34)\n",
      "0.4897959183673469\n"
     ]
    }
   ],
   "source": [
    "from sklearn.feature_extraction.text import TfidfTransformer\n",
    "from sklearn.feature_extraction.text import TfidfVectorizer\n",
    "\n",
    "X_train = X_train['sc:hasCategory'].values\n",
    "X_test = X_test['sc:hasCategory'].values\n",
    "\n",
    "y_train = y_train.values\n",
    "y_test = y_test.values\n",
    "\n",
    "vectorizer = TfidfVectorizer()\n",
    "train_vectors = vectorizer.fit_transform(X_train)\n",
    "test_vectors = vectorizer.transform(X_test)\n",
    "\n",
    "print(train_vectors.shape, test_vectors.shape)\n",
    "\n",
    "from sklearn.naive_bayes import MultinomialNB\n",
    "\n",
    "clf = MultinomialNB().fit(train_vectors, y_train)\n",
    "predicted = clf.predict(test_vectors)\n",
    "print(accuracy_score(y_test,predicted))"
   ]
  },
  {
   "cell_type": "code",
   "execution_count": 132,
   "id": "4551aad3",
   "metadata": {},
   "outputs": [
    {
     "data": {
      "text/html": [
       "<div>\n",
       "<style scoped>\n",
       "    .dataframe tbody tr th:only-of-type {\n",
       "        vertical-align: middle;\n",
       "    }\n",
       "\n",
       "    .dataframe tbody tr th {\n",
       "        vertical-align: top;\n",
       "    }\n",
       "\n",
       "    .dataframe thead th {\n",
       "        text-align: right;\n",
       "    }\n",
       "</style>\n",
       "<table border=\"1\" class=\"dataframe\">\n",
       "  <thead>\n",
       "    <tr style=\"text-align: right;\">\n",
       "      <th></th>\n",
       "      <th>0</th>\n",
       "      <th>1</th>\n",
       "      <th>2</th>\n",
       "      <th>3</th>\n",
       "      <th>4</th>\n",
       "      <th>5</th>\n",
       "      <th>6</th>\n",
       "      <th>7</th>\n",
       "      <th>8</th>\n",
       "      <th>9</th>\n",
       "      <th>...</th>\n",
       "      <th>24</th>\n",
       "      <th>25</th>\n",
       "      <th>26</th>\n",
       "      <th>27</th>\n",
       "      <th>28</th>\n",
       "      <th>29</th>\n",
       "      <th>30</th>\n",
       "      <th>31</th>\n",
       "      <th>32</th>\n",
       "      <th>33</th>\n",
       "    </tr>\n",
       "  </thead>\n",
       "  <tbody>\n",
       "    <tr>\n",
       "      <th>0</th>\n",
       "      <td>0.000000</td>\n",
       "      <td>0.000000</td>\n",
       "      <td>0.0</td>\n",
       "      <td>0.000000</td>\n",
       "      <td>0.000000</td>\n",
       "      <td>0.000000</td>\n",
       "      <td>0.000000</td>\n",
       "      <td>0.000000</td>\n",
       "      <td>0.000000</td>\n",
       "      <td>0.0</td>\n",
       "      <td>...</td>\n",
       "      <td>0.000000</td>\n",
       "      <td>0.248587</td>\n",
       "      <td>0.0</td>\n",
       "      <td>0.000000</td>\n",
       "      <td>0.000000</td>\n",
       "      <td>0.0</td>\n",
       "      <td>0.000000</td>\n",
       "      <td>0.0</td>\n",
       "      <td>0.000000</td>\n",
       "      <td>0.0</td>\n",
       "    </tr>\n",
       "    <tr>\n",
       "      <th>1</th>\n",
       "      <td>0.000000</td>\n",
       "      <td>0.000000</td>\n",
       "      <td>0.0</td>\n",
       "      <td>0.000000</td>\n",
       "      <td>0.000000</td>\n",
       "      <td>0.000000</td>\n",
       "      <td>0.000000</td>\n",
       "      <td>0.000000</td>\n",
       "      <td>0.000000</td>\n",
       "      <td>0.0</td>\n",
       "      <td>...</td>\n",
       "      <td>0.000000</td>\n",
       "      <td>0.192337</td>\n",
       "      <td>0.0</td>\n",
       "      <td>0.000000</td>\n",
       "      <td>0.000000</td>\n",
       "      <td>0.0</td>\n",
       "      <td>0.000000</td>\n",
       "      <td>0.0</td>\n",
       "      <td>0.000000</td>\n",
       "      <td>0.0</td>\n",
       "    </tr>\n",
       "    <tr>\n",
       "      <th>2</th>\n",
       "      <td>0.819326</td>\n",
       "      <td>0.000000</td>\n",
       "      <td>0.0</td>\n",
       "      <td>0.000000</td>\n",
       "      <td>0.000000</td>\n",
       "      <td>0.000000</td>\n",
       "      <td>0.000000</td>\n",
       "      <td>0.000000</td>\n",
       "      <td>0.000000</td>\n",
       "      <td>0.0</td>\n",
       "      <td>...</td>\n",
       "      <td>0.000000</td>\n",
       "      <td>0.325528</td>\n",
       "      <td>0.0</td>\n",
       "      <td>0.000000</td>\n",
       "      <td>0.000000</td>\n",
       "      <td>0.0</td>\n",
       "      <td>0.000000</td>\n",
       "      <td>0.0</td>\n",
       "      <td>0.000000</td>\n",
       "      <td>0.0</td>\n",
       "    </tr>\n",
       "    <tr>\n",
       "      <th>3</th>\n",
       "      <td>0.000000</td>\n",
       "      <td>0.000000</td>\n",
       "      <td>0.0</td>\n",
       "      <td>0.000000</td>\n",
       "      <td>0.000000</td>\n",
       "      <td>0.000000</td>\n",
       "      <td>0.000000</td>\n",
       "      <td>0.000000</td>\n",
       "      <td>0.000000</td>\n",
       "      <td>0.0</td>\n",
       "      <td>...</td>\n",
       "      <td>0.000000</td>\n",
       "      <td>0.140620</td>\n",
       "      <td>0.0</td>\n",
       "      <td>0.000000</td>\n",
       "      <td>0.484423</td>\n",
       "      <td>0.0</td>\n",
       "      <td>0.484423</td>\n",
       "      <td>0.0</td>\n",
       "      <td>0.000000</td>\n",
       "      <td>0.0</td>\n",
       "    </tr>\n",
       "    <tr>\n",
       "      <th>4</th>\n",
       "      <td>0.819326</td>\n",
       "      <td>0.000000</td>\n",
       "      <td>0.0</td>\n",
       "      <td>0.000000</td>\n",
       "      <td>0.000000</td>\n",
       "      <td>0.000000</td>\n",
       "      <td>0.000000</td>\n",
       "      <td>0.000000</td>\n",
       "      <td>0.000000</td>\n",
       "      <td>0.0</td>\n",
       "      <td>...</td>\n",
       "      <td>0.000000</td>\n",
       "      <td>0.325528</td>\n",
       "      <td>0.0</td>\n",
       "      <td>0.000000</td>\n",
       "      <td>0.000000</td>\n",
       "      <td>0.0</td>\n",
       "      <td>0.000000</td>\n",
       "      <td>0.0</td>\n",
       "      <td>0.000000</td>\n",
       "      <td>0.0</td>\n",
       "    </tr>\n",
       "    <tr>\n",
       "      <th>...</th>\n",
       "      <td>...</td>\n",
       "      <td>...</td>\n",
       "      <td>...</td>\n",
       "      <td>...</td>\n",
       "      <td>...</td>\n",
       "      <td>...</td>\n",
       "      <td>...</td>\n",
       "      <td>...</td>\n",
       "      <td>...</td>\n",
       "      <td>...</td>\n",
       "      <td>...</td>\n",
       "      <td>...</td>\n",
       "      <td>...</td>\n",
       "      <td>...</td>\n",
       "      <td>...</td>\n",
       "      <td>...</td>\n",
       "      <td>...</td>\n",
       "      <td>...</td>\n",
       "      <td>...</td>\n",
       "      <td>...</td>\n",
       "      <td>...</td>\n",
       "    </tr>\n",
       "    <tr>\n",
       "      <th>190</th>\n",
       "      <td>0.819326</td>\n",
       "      <td>0.000000</td>\n",
       "      <td>0.0</td>\n",
       "      <td>0.000000</td>\n",
       "      <td>0.000000</td>\n",
       "      <td>0.000000</td>\n",
       "      <td>0.000000</td>\n",
       "      <td>0.000000</td>\n",
       "      <td>0.000000</td>\n",
       "      <td>0.0</td>\n",
       "      <td>...</td>\n",
       "      <td>0.000000</td>\n",
       "      <td>0.325528</td>\n",
       "      <td>0.0</td>\n",
       "      <td>0.000000</td>\n",
       "      <td>0.000000</td>\n",
       "      <td>0.0</td>\n",
       "      <td>0.000000</td>\n",
       "      <td>0.0</td>\n",
       "      <td>0.000000</td>\n",
       "      <td>0.0</td>\n",
       "    </tr>\n",
       "    <tr>\n",
       "      <th>191</th>\n",
       "      <td>0.000000</td>\n",
       "      <td>0.000000</td>\n",
       "      <td>0.0</td>\n",
       "      <td>0.000000</td>\n",
       "      <td>0.000000</td>\n",
       "      <td>0.000000</td>\n",
       "      <td>0.000000</td>\n",
       "      <td>0.894557</td>\n",
       "      <td>0.000000</td>\n",
       "      <td>0.0</td>\n",
       "      <td>...</td>\n",
       "      <td>0.000000</td>\n",
       "      <td>0.446955</td>\n",
       "      <td>0.0</td>\n",
       "      <td>0.000000</td>\n",
       "      <td>0.000000</td>\n",
       "      <td>0.0</td>\n",
       "      <td>0.000000</td>\n",
       "      <td>0.0</td>\n",
       "      <td>0.000000</td>\n",
       "      <td>0.0</td>\n",
       "    </tr>\n",
       "    <tr>\n",
       "      <th>192</th>\n",
       "      <td>0.000000</td>\n",
       "      <td>0.000000</td>\n",
       "      <td>0.0</td>\n",
       "      <td>0.322579</td>\n",
       "      <td>0.000000</td>\n",
       "      <td>0.296585</td>\n",
       "      <td>0.000000</td>\n",
       "      <td>0.180844</td>\n",
       "      <td>0.000000</td>\n",
       "      <td>0.0</td>\n",
       "      <td>...</td>\n",
       "      <td>0.296585</td>\n",
       "      <td>0.090357</td>\n",
       "      <td>0.0</td>\n",
       "      <td>0.296585</td>\n",
       "      <td>0.000000</td>\n",
       "      <td>0.0</td>\n",
       "      <td>0.000000</td>\n",
       "      <td>0.0</td>\n",
       "      <td>0.296585</td>\n",
       "      <td>0.0</td>\n",
       "    </tr>\n",
       "    <tr>\n",
       "      <th>193</th>\n",
       "      <td>0.000000</td>\n",
       "      <td>0.000000</td>\n",
       "      <td>0.0</td>\n",
       "      <td>0.000000</td>\n",
       "      <td>0.000000</td>\n",
       "      <td>0.000000</td>\n",
       "      <td>0.000000</td>\n",
       "      <td>0.000000</td>\n",
       "      <td>0.000000</td>\n",
       "      <td>0.0</td>\n",
       "      <td>...</td>\n",
       "      <td>0.000000</td>\n",
       "      <td>0.248587</td>\n",
       "      <td>0.0</td>\n",
       "      <td>0.000000</td>\n",
       "      <td>0.000000</td>\n",
       "      <td>0.0</td>\n",
       "      <td>0.000000</td>\n",
       "      <td>0.0</td>\n",
       "      <td>0.000000</td>\n",
       "      <td>0.0</td>\n",
       "    </tr>\n",
       "    <tr>\n",
       "      <th>194</th>\n",
       "      <td>0.000000</td>\n",
       "      <td>0.404918</td>\n",
       "      <td>0.0</td>\n",
       "      <td>0.000000</td>\n",
       "      <td>0.404918</td>\n",
       "      <td>0.000000</td>\n",
       "      <td>0.404918</td>\n",
       "      <td>0.246901</td>\n",
       "      <td>0.404918</td>\n",
       "      <td>0.0</td>\n",
       "      <td>...</td>\n",
       "      <td>0.000000</td>\n",
       "      <td>0.123361</td>\n",
       "      <td>0.0</td>\n",
       "      <td>0.000000</td>\n",
       "      <td>0.000000</td>\n",
       "      <td>0.0</td>\n",
       "      <td>0.000000</td>\n",
       "      <td>0.0</td>\n",
       "      <td>0.000000</td>\n",
       "      <td>0.0</td>\n",
       "    </tr>\n",
       "  </tbody>\n",
       "</table>\n",
       "<p>195 rows × 34 columns</p>\n",
       "</div>"
      ],
      "text/plain": [
       "           0         1    2         3         4         5         6   \\\n",
       "0    0.000000  0.000000  0.0  0.000000  0.000000  0.000000  0.000000   \n",
       "1    0.000000  0.000000  0.0  0.000000  0.000000  0.000000  0.000000   \n",
       "2    0.819326  0.000000  0.0  0.000000  0.000000  0.000000  0.000000   \n",
       "3    0.000000  0.000000  0.0  0.000000  0.000000  0.000000  0.000000   \n",
       "4    0.819326  0.000000  0.0  0.000000  0.000000  0.000000  0.000000   \n",
       "..        ...       ...  ...       ...       ...       ...       ...   \n",
       "190  0.819326  0.000000  0.0  0.000000  0.000000  0.000000  0.000000   \n",
       "191  0.000000  0.000000  0.0  0.000000  0.000000  0.000000  0.000000   \n",
       "192  0.000000  0.000000  0.0  0.322579  0.000000  0.296585  0.000000   \n",
       "193  0.000000  0.000000  0.0  0.000000  0.000000  0.000000  0.000000   \n",
       "194  0.000000  0.404918  0.0  0.000000  0.404918  0.000000  0.404918   \n",
       "\n",
       "           7         8    9   ...        24        25   26        27  \\\n",
       "0    0.000000  0.000000  0.0  ...  0.000000  0.248587  0.0  0.000000   \n",
       "1    0.000000  0.000000  0.0  ...  0.000000  0.192337  0.0  0.000000   \n",
       "2    0.000000  0.000000  0.0  ...  0.000000  0.325528  0.0  0.000000   \n",
       "3    0.000000  0.000000  0.0  ...  0.000000  0.140620  0.0  0.000000   \n",
       "4    0.000000  0.000000  0.0  ...  0.000000  0.325528  0.0  0.000000   \n",
       "..        ...       ...  ...  ...       ...       ...  ...       ...   \n",
       "190  0.000000  0.000000  0.0  ...  0.000000  0.325528  0.0  0.000000   \n",
       "191  0.894557  0.000000  0.0  ...  0.000000  0.446955  0.0  0.000000   \n",
       "192  0.180844  0.000000  0.0  ...  0.296585  0.090357  0.0  0.296585   \n",
       "193  0.000000  0.000000  0.0  ...  0.000000  0.248587  0.0  0.000000   \n",
       "194  0.246901  0.404918  0.0  ...  0.000000  0.123361  0.0  0.000000   \n",
       "\n",
       "           28   29        30   31        32   33  \n",
       "0    0.000000  0.0  0.000000  0.0  0.000000  0.0  \n",
       "1    0.000000  0.0  0.000000  0.0  0.000000  0.0  \n",
       "2    0.000000  0.0  0.000000  0.0  0.000000  0.0  \n",
       "3    0.484423  0.0  0.484423  0.0  0.000000  0.0  \n",
       "4    0.000000  0.0  0.000000  0.0  0.000000  0.0  \n",
       "..        ...  ...       ...  ...       ...  ...  \n",
       "190  0.000000  0.0  0.000000  0.0  0.000000  0.0  \n",
       "191  0.000000  0.0  0.000000  0.0  0.000000  0.0  \n",
       "192  0.000000  0.0  0.000000  0.0  0.296585  0.0  \n",
       "193  0.000000  0.0  0.000000  0.0  0.000000  0.0  \n",
       "194  0.000000  0.0  0.000000  0.0  0.000000  0.0  \n",
       "\n",
       "[195 rows x 34 columns]"
      ]
     },
     "execution_count": 132,
     "metadata": {},
     "output_type": "execute_result"
    }
   ],
   "source": [
    "pd.DataFrame(train_vectors.todense())"
   ]
  },
  {
   "cell_type": "code",
   "execution_count": 130,
   "id": "a8b16e70",
   "metadata": {},
   "outputs": [
    {
     "data": {
      "text/plain": [
       "(195, 34)"
      ]
     },
     "execution_count": 130,
     "metadata": {},
     "output_type": "execute_result"
    }
   ],
   "source": [
    "train_vectors.todense()"
   ]
  },
  {
   "cell_type": "code",
   "execution_count": 123,
   "id": "2b06673f",
   "metadata": {},
   "outputs": [
    {
     "name": "stdout",
     "output_type": "stream",
     "text": [
      "isri id\n",
      "sc:hasCategory\n",
      "sc:hasForm\n",
      "sc:isFreeFrom\n",
      "sc:contains\n",
      "sc:hasSpecification\n",
      "pc:hasName\n"
     ]
    }
   ],
   "source": [
    "for col in X_train.columns:\n",
    "    vectorizer = TfidfVectorizer()\n",
    "    train_vectors = vectorizer.fit_tr\n",
    "    print(col)"
   ]
  },
  {
   "cell_type": "code",
   "execution_count": null,
   "id": "250b8f45",
   "metadata": {},
   "outputs": [],
   "source": []
  },
  {
   "cell_type": "code",
   "execution_count": 140,
   "id": "2717105b",
   "metadata": {},
   "outputs": [
    {
     "name": "stderr",
     "output_type": "stream",
     "text": [
      "/home/comex/Desktop/python-envs/main-bio/lib/python3.9/site-packages/sklearn/utils/deprecation.py:87: FutureWarning: Function get_feature_names is deprecated; get_feature_names is deprecated in 1.0 and will be removed in 1.2. Please use get_feature_names_out instead.\n",
      "  warnings.warn(msg, category=FutureWarning)\n"
     ]
    },
    {
     "data": {
      "text/html": [
       "<div>\n",
       "<style scoped>\n",
       "    .dataframe tbody tr th:only-of-type {\n",
       "        vertical-align: middle;\n",
       "    }\n",
       "\n",
       "    .dataframe tbody tr th {\n",
       "        vertical-align: top;\n",
       "    }\n",
       "\n",
       "    .dataframe thead th {\n",
       "        text-align: right;\n",
       "    }\n",
       "</style>\n",
       "<table border=\"1\" class=\"dataframe\">\n",
       "  <thead>\n",
       "    <tr style=\"text-align: right;\">\n",
       "      <th></th>\n",
       "      <th>aluminum</th>\n",
       "      <th>and</th>\n",
       "      <th>boring</th>\n",
       "      <th>cast</th>\n",
       "      <th>casting</th>\n",
       "      <th>consumer</th>\n",
       "      <th>electric</th>\n",
       "      <th>ferrous</th>\n",
       "      <th>foundry</th>\n",
       "      <th>from</th>\n",
       "      <th>...</th>\n",
       "      <th>requirements</th>\n",
       "      <th>scrap</th>\n",
       "      <th>special</th>\n",
       "      <th>specially</th>\n",
       "      <th>stainless</th>\n",
       "      <th>steel</th>\n",
       "      <th>temp</th>\n",
       "      <th>tires</th>\n",
       "      <th>to</th>\n",
       "      <th>zinc</th>\n",
       "    </tr>\n",
       "  </thead>\n",
       "  <tbody>\n",
       "    <tr>\n",
       "      <th>0</th>\n",
       "      <td>0</td>\n",
       "      <td>0</td>\n",
       "      <td>0</td>\n",
       "      <td>0</td>\n",
       "      <td>0</td>\n",
       "      <td>0</td>\n",
       "      <td>0</td>\n",
       "      <td>0</td>\n",
       "      <td>0</td>\n",
       "      <td>0</td>\n",
       "      <td>...</td>\n",
       "      <td>0</td>\n",
       "      <td>1</td>\n",
       "      <td>0</td>\n",
       "      <td>0</td>\n",
       "      <td>0</td>\n",
       "      <td>0</td>\n",
       "      <td>0</td>\n",
       "      <td>0</td>\n",
       "      <td>0</td>\n",
       "      <td>0</td>\n",
       "    </tr>\n",
       "    <tr>\n",
       "      <th>1</th>\n",
       "      <td>0</td>\n",
       "      <td>0</td>\n",
       "      <td>0</td>\n",
       "      <td>0</td>\n",
       "      <td>0</td>\n",
       "      <td>0</td>\n",
       "      <td>0</td>\n",
       "      <td>0</td>\n",
       "      <td>0</td>\n",
       "      <td>0</td>\n",
       "      <td>...</td>\n",
       "      <td>0</td>\n",
       "      <td>1</td>\n",
       "      <td>0</td>\n",
       "      <td>0</td>\n",
       "      <td>0</td>\n",
       "      <td>0</td>\n",
       "      <td>0</td>\n",
       "      <td>0</td>\n",
       "      <td>0</td>\n",
       "      <td>0</td>\n",
       "    </tr>\n",
       "    <tr>\n",
       "      <th>2</th>\n",
       "      <td>0</td>\n",
       "      <td>0</td>\n",
       "      <td>0</td>\n",
       "      <td>0</td>\n",
       "      <td>0</td>\n",
       "      <td>0</td>\n",
       "      <td>0</td>\n",
       "      <td>0</td>\n",
       "      <td>0</td>\n",
       "      <td>0</td>\n",
       "      <td>...</td>\n",
       "      <td>0</td>\n",
       "      <td>1</td>\n",
       "      <td>0</td>\n",
       "      <td>0</td>\n",
       "      <td>0</td>\n",
       "      <td>0</td>\n",
       "      <td>0</td>\n",
       "      <td>0</td>\n",
       "      <td>0</td>\n",
       "      <td>0</td>\n",
       "    </tr>\n",
       "    <tr>\n",
       "      <th>3</th>\n",
       "      <td>0</td>\n",
       "      <td>0</td>\n",
       "      <td>0</td>\n",
       "      <td>0</td>\n",
       "      <td>0</td>\n",
       "      <td>0</td>\n",
       "      <td>0</td>\n",
       "      <td>0</td>\n",
       "      <td>0</td>\n",
       "      <td>0</td>\n",
       "      <td>...</td>\n",
       "      <td>0</td>\n",
       "      <td>1</td>\n",
       "      <td>0</td>\n",
       "      <td>0</td>\n",
       "      <td>0</td>\n",
       "      <td>0</td>\n",
       "      <td>0</td>\n",
       "      <td>0</td>\n",
       "      <td>0</td>\n",
       "      <td>0</td>\n",
       "    </tr>\n",
       "    <tr>\n",
       "      <th>4</th>\n",
       "      <td>0</td>\n",
       "      <td>0</td>\n",
       "      <td>0</td>\n",
       "      <td>0</td>\n",
       "      <td>0</td>\n",
       "      <td>0</td>\n",
       "      <td>0</td>\n",
       "      <td>0</td>\n",
       "      <td>0</td>\n",
       "      <td>0</td>\n",
       "      <td>...</td>\n",
       "      <td>0</td>\n",
       "      <td>1</td>\n",
       "      <td>0</td>\n",
       "      <td>0</td>\n",
       "      <td>0</td>\n",
       "      <td>0</td>\n",
       "      <td>0</td>\n",
       "      <td>0</td>\n",
       "      <td>0</td>\n",
       "      <td>0</td>\n",
       "    </tr>\n",
       "    <tr>\n",
       "      <th>...</th>\n",
       "      <td>...</td>\n",
       "      <td>...</td>\n",
       "      <td>...</td>\n",
       "      <td>...</td>\n",
       "      <td>...</td>\n",
       "      <td>...</td>\n",
       "      <td>...</td>\n",
       "      <td>...</td>\n",
       "      <td>...</td>\n",
       "      <td>...</td>\n",
       "      <td>...</td>\n",
       "      <td>...</td>\n",
       "      <td>...</td>\n",
       "      <td>...</td>\n",
       "      <td>...</td>\n",
       "      <td>...</td>\n",
       "      <td>...</td>\n",
       "      <td>...</td>\n",
       "      <td>...</td>\n",
       "      <td>...</td>\n",
       "      <td>...</td>\n",
       "    </tr>\n",
       "    <tr>\n",
       "      <th>239</th>\n",
       "      <td>0</td>\n",
       "      <td>0</td>\n",
       "      <td>0</td>\n",
       "      <td>0</td>\n",
       "      <td>0</td>\n",
       "      <td>0</td>\n",
       "      <td>0</td>\n",
       "      <td>1</td>\n",
       "      <td>0</td>\n",
       "      <td>1</td>\n",
       "      <td>...</td>\n",
       "      <td>0</td>\n",
       "      <td>2</td>\n",
       "      <td>0</td>\n",
       "      <td>0</td>\n",
       "      <td>0</td>\n",
       "      <td>1</td>\n",
       "      <td>0</td>\n",
       "      <td>1</td>\n",
       "      <td>0</td>\n",
       "      <td>0</td>\n",
       "    </tr>\n",
       "    <tr>\n",
       "      <th>240</th>\n",
       "      <td>0</td>\n",
       "      <td>0</td>\n",
       "      <td>0</td>\n",
       "      <td>0</td>\n",
       "      <td>0</td>\n",
       "      <td>0</td>\n",
       "      <td>0</td>\n",
       "      <td>1</td>\n",
       "      <td>0</td>\n",
       "      <td>1</td>\n",
       "      <td>...</td>\n",
       "      <td>0</td>\n",
       "      <td>2</td>\n",
       "      <td>0</td>\n",
       "      <td>0</td>\n",
       "      <td>0</td>\n",
       "      <td>1</td>\n",
       "      <td>0</td>\n",
       "      <td>1</td>\n",
       "      <td>0</td>\n",
       "      <td>0</td>\n",
       "    </tr>\n",
       "    <tr>\n",
       "      <th>241</th>\n",
       "      <td>0</td>\n",
       "      <td>0</td>\n",
       "      <td>0</td>\n",
       "      <td>0</td>\n",
       "      <td>0</td>\n",
       "      <td>0</td>\n",
       "      <td>0</td>\n",
       "      <td>1</td>\n",
       "      <td>0</td>\n",
       "      <td>1</td>\n",
       "      <td>...</td>\n",
       "      <td>0</td>\n",
       "      <td>2</td>\n",
       "      <td>0</td>\n",
       "      <td>0</td>\n",
       "      <td>0</td>\n",
       "      <td>1</td>\n",
       "      <td>0</td>\n",
       "      <td>1</td>\n",
       "      <td>0</td>\n",
       "      <td>0</td>\n",
       "    </tr>\n",
       "    <tr>\n",
       "      <th>242</th>\n",
       "      <td>0</td>\n",
       "      <td>0</td>\n",
       "      <td>0</td>\n",
       "      <td>0</td>\n",
       "      <td>0</td>\n",
       "      <td>0</td>\n",
       "      <td>0</td>\n",
       "      <td>1</td>\n",
       "      <td>0</td>\n",
       "      <td>1</td>\n",
       "      <td>...</td>\n",
       "      <td>0</td>\n",
       "      <td>2</td>\n",
       "      <td>0</td>\n",
       "      <td>0</td>\n",
       "      <td>0</td>\n",
       "      <td>1</td>\n",
       "      <td>0</td>\n",
       "      <td>1</td>\n",
       "      <td>0</td>\n",
       "      <td>0</td>\n",
       "    </tr>\n",
       "    <tr>\n",
       "      <th>243</th>\n",
       "      <td>0</td>\n",
       "      <td>0</td>\n",
       "      <td>0</td>\n",
       "      <td>0</td>\n",
       "      <td>0</td>\n",
       "      <td>0</td>\n",
       "      <td>0</td>\n",
       "      <td>1</td>\n",
       "      <td>0</td>\n",
       "      <td>1</td>\n",
       "      <td>...</td>\n",
       "      <td>0</td>\n",
       "      <td>2</td>\n",
       "      <td>0</td>\n",
       "      <td>0</td>\n",
       "      <td>0</td>\n",
       "      <td>1</td>\n",
       "      <td>0</td>\n",
       "      <td>1</td>\n",
       "      <td>0</td>\n",
       "      <td>0</td>\n",
       "    </tr>\n",
       "  </tbody>\n",
       "</table>\n",
       "<p>244 rows × 34 columns</p>\n",
       "</div>"
      ],
      "text/plain": [
       "     aluminum  and  boring  cast  casting  consumer  electric  ferrous  \\\n",
       "0           0    0       0     0        0         0         0        0   \n",
       "1           0    0       0     0        0         0         0        0   \n",
       "2           0    0       0     0        0         0         0        0   \n",
       "3           0    0       0     0        0         0         0        0   \n",
       "4           0    0       0     0        0         0         0        0   \n",
       "..        ...  ...     ...   ...      ...       ...       ...      ...   \n",
       "239         0    0       0     0        0         0         0        1   \n",
       "240         0    0       0     0        0         0         0        1   \n",
       "241         0    0       0     0        0         0         0        1   \n",
       "242         0    0       0     0        0         0         0        1   \n",
       "243         0    0       0     0        0         0         0        1   \n",
       "\n",
       "     foundry  from  ...  requirements  scrap  special  specially  stainless  \\\n",
       "0          0     0  ...             0      1        0          0          0   \n",
       "1          0     0  ...             0      1        0          0          0   \n",
       "2          0     0  ...             0      1        0          0          0   \n",
       "3          0     0  ...             0      1        0          0          0   \n",
       "4          0     0  ...             0      1        0          0          0   \n",
       "..       ...   ...  ...           ...    ...      ...        ...        ...   \n",
       "239        0     1  ...             0      2        0          0          0   \n",
       "240        0     1  ...             0      2        0          0          0   \n",
       "241        0     1  ...             0      2        0          0          0   \n",
       "242        0     1  ...             0      2        0          0          0   \n",
       "243        0     1  ...             0      2        0          0          0   \n",
       "\n",
       "     steel  temp  tires  to  zinc  \n",
       "0        0     0      0   0     0  \n",
       "1        0     0      0   0     0  \n",
       "2        0     0      0   0     0  \n",
       "3        0     0      0   0     0  \n",
       "4        0     0      0   0     0  \n",
       "..     ...   ...    ...  ..   ...  \n",
       "239      1     0      1   0     0  \n",
       "240      1     0      1   0     0  \n",
       "241      1     0      1   0     0  \n",
       "242      1     0      1   0     0  \n",
       "243      1     0      1   0     0  \n",
       "\n",
       "[244 rows x 34 columns]"
      ]
     },
     "execution_count": 140,
     "metadata": {},
     "output_type": "execute_result"
    }
   ],
   "source": [
    "from sklearn.feature_extraction.text import CountVectorizer\n",
    "\n",
    "X = df['sc:hasCategory']\n",
    "\n",
    "cvec = CountVectorizer().fit(X)\n",
    "X = cvec.transform(X)\n",
    "df_train = pd.DataFrame(X.todense(), columns=cvec.get_feature_names())\n",
    "df_train"
   ]
  },
  {
   "cell_type": "code",
   "execution_count": null,
   "id": "d2b8bf96",
   "metadata": {},
   "outputs": [],
   "source": []
  },
  {
   "cell_type": "code",
   "execution_count": null,
   "id": "0006c7c5",
   "metadata": {},
   "outputs": [],
   "source": []
  },
  {
   "cell_type": "code",
   "execution_count": null,
   "id": "8073a26d",
   "metadata": {},
   "outputs": [],
   "source": []
  },
  {
   "cell_type": "code",
   "execution_count": 51,
   "id": "8651b767",
   "metadata": {},
   "outputs": [
    {
     "data": {
      "text/html": [
       "<div>\n",
       "<style scoped>\n",
       "    .dataframe tbody tr th:only-of-type {\n",
       "        vertical-align: middle;\n",
       "    }\n",
       "\n",
       "    .dataframe tbody tr th {\n",
       "        vertical-align: top;\n",
       "    }\n",
       "\n",
       "    .dataframe thead th {\n",
       "        text-align: right;\n",
       "    }\n",
       "</style>\n",
       "<table border=\"1\" class=\"dataframe\">\n",
       "  <thead>\n",
       "    <tr style=\"text-align: right;\">\n",
       "      <th></th>\n",
       "      <th>isri id</th>\n",
       "      <th>sc:hasCategory</th>\n",
       "      <th>sc:hasForm</th>\n",
       "      <th>sc:isFreeFrom</th>\n",
       "      <th>sc:contains</th>\n",
       "      <th>sc:hasSpecification</th>\n",
       "      <th>pc:hasName</th>\n",
       "      <th>sc:isComposedOf</th>\n",
       "    </tr>\n",
       "  </thead>\n",
       "  <tbody>\n",
       "    <tr>\n",
       "      <th>0</th>\n",
       "      <td>sc isri 0</td>\n",
       "      <td>nonferrous scrap red metals</td>\n",
       "      <td>wire</td>\n",
       "      <td></td>\n",
       "      <td>copper</td>\n",
       "      <td>bare uncoated unalloyed</td>\n",
       "      <td>copper wire</td>\n",
       "      <td>sc:Material_249</td>\n",
       "    </tr>\n",
       "    <tr>\n",
       "      <th>1</th>\n",
       "      <td>sc isri 1</td>\n",
       "      <td>nonferrous scrap red metals</td>\n",
       "      <td>wire cable</td>\n",
       "      <td>brittle burnt wire copper tubing</td>\n",
       "      <td>copper</td>\n",
       "      <td>clean untinned uncoated unalloyed</td>\n",
       "      <td>copper wire</td>\n",
       "      <td>sc:Material_249</td>\n",
       "    </tr>\n",
       "    <tr>\n",
       "      <th>2</th>\n",
       "      <td>sc isri 2</td>\n",
       "      <td>nonferrous scrap red metals</td>\n",
       "      <td>miscellaneous wire</td>\n",
       "      <td>excessively leaded tinned soldered copper wire...</td>\n",
       "      <td>copper</td>\n",
       "      <td>unalloyed</td>\n",
       "      <td>copper wire</td>\n",
       "      <td>sc:Material_249</td>\n",
       "    </tr>\n",
       "    <tr>\n",
       "      <th>3</th>\n",
       "      <td>sc isri 3</td>\n",
       "      <td>nonferrous scrap red metals</td>\n",
       "      <td>clippings punchings bus bars commutator segmen...</td>\n",
       "      <td></td>\n",
       "      <td>copper</td>\n",
       "      <td>clean unalloyed uncoated</td>\n",
       "      <td>heavy copper solids tubing</td>\n",
       "      <td>sc:Material_249</td>\n",
       "    </tr>\n",
       "    <tr>\n",
       "      <th>4</th>\n",
       "      <td>sc isri 4</td>\n",
       "      <td>nonferrous scrap red metals</td>\n",
       "      <td>miscellaneous scrap</td>\n",
       "      <td>excessively leaded tinned soldered copper scra...</td>\n",
       "      <td>copper</td>\n",
       "      <td>unalloyed</td>\n",
       "      <td>copper solids tubing</td>\n",
       "      <td>sc:Material_249</td>\n",
       "    </tr>\n",
       "  </tbody>\n",
       "</table>\n",
       "</div>"
      ],
      "text/plain": [
       "     isri id               sc:hasCategory  \\\n",
       "0  sc isri 0  nonferrous scrap red metals   \n",
       "1  sc isri 1  nonferrous scrap red metals   \n",
       "2  sc isri 2  nonferrous scrap red metals   \n",
       "3  sc isri 3  nonferrous scrap red metals   \n",
       "4  sc isri 4  nonferrous scrap red metals   \n",
       "\n",
       "                                          sc:hasForm  \\\n",
       "0                                               wire   \n",
       "1                                         wire cable   \n",
       "2                                 miscellaneous wire   \n",
       "3  clippings punchings bus bars commutator segmen...   \n",
       "4                                miscellaneous scrap   \n",
       "\n",
       "                                       sc:isFreeFrom sc:contains  \\\n",
       "0                                                         copper   \n",
       "1                   brittle burnt wire copper tubing      copper   \n",
       "2  excessively leaded tinned soldered copper wire...      copper   \n",
       "3                                                         copper   \n",
       "4  excessively leaded tinned soldered copper scra...      copper   \n",
       "\n",
       "                 sc:hasSpecification                  pc:hasName  \\\n",
       "0            bare uncoated unalloyed                 copper wire   \n",
       "1  clean untinned uncoated unalloyed                 copper wire   \n",
       "2                          unalloyed                 copper wire   \n",
       "3           clean unalloyed uncoated  heavy copper solids tubing   \n",
       "4                          unalloyed        copper solids tubing   \n",
       "\n",
       "   sc:isComposedOf  \n",
       "0  sc:Material_249  \n",
       "1  sc:Material_249  \n",
       "2  sc:Material_249  \n",
       "3  sc:Material_249  \n",
       "4  sc:Material_249  "
      ]
     },
     "execution_count": 51,
     "metadata": {},
     "output_type": "execute_result"
    }
   ],
   "source": [
    "for col in df.drop('sc:isComposedOf', axis=1).columns:\n",
    "    df[col] = hero.clean(df[col])\n",
    "    df[col] = df[col].pipe(hero.clean, custom_pipeline)\n",
    "\n",
    "df.head()\n"
   ]
  },
  {
   "cell_type": "code",
   "execution_count": null,
   "id": "1cca54f2",
   "metadata": {},
   "outputs": [],
   "source": []
  },
  {
   "cell_type": "code",
   "execution_count": null,
   "id": "ac262915",
   "metadata": {},
   "outputs": [],
   "source": []
  },
  {
   "cell_type": "code",
   "execution_count": null,
   "id": "7418c28c",
   "metadata": {},
   "outputs": [],
   "source": []
  },
  {
   "cell_type": "code",
   "execution_count": null,
   "id": "19e74462",
   "metadata": {},
   "outputs": [],
   "source": []
  },
  {
   "cell_type": "code",
   "execution_count": null,
   "id": "1fc9cddb",
   "metadata": {},
   "outputs": [],
   "source": []
  },
  {
   "cell_type": "code",
   "execution_count": null,
   "id": "4897896c",
   "metadata": {},
   "outputs": [],
   "source": []
  },
  {
   "cell_type": "code",
   "execution_count": null,
   "id": "19f9bde8",
   "metadata": {},
   "outputs": [],
   "source": []
  },
  {
   "cell_type": "code",
   "execution_count": null,
   "id": "15a0de15",
   "metadata": {},
   "outputs": [],
   "source": []
  },
  {
   "cell_type": "code",
   "execution_count": null,
   "id": "f16dbc5e",
   "metadata": {},
   "outputs": [],
   "source": []
  },
  {
   "cell_type": "code",
   "execution_count": null,
   "id": "1cfed2fb",
   "metadata": {},
   "outputs": [],
   "source": []
  },
  {
   "cell_type": "code",
   "execution_count": null,
   "id": "8d3bc9f5",
   "metadata": {},
   "outputs": [],
   "source": []
  },
  {
   "cell_type": "code",
   "execution_count": 52,
   "id": "62530fe8",
   "metadata": {},
   "outputs": [
    {
     "data": {
      "text/html": [
       "<div>\n",
       "<style scoped>\n",
       "    .dataframe tbody tr th:only-of-type {\n",
       "        vertical-align: middle;\n",
       "    }\n",
       "\n",
       "    .dataframe tbody tr th {\n",
       "        vertical-align: top;\n",
       "    }\n",
       "\n",
       "    .dataframe thead th {\n",
       "        text-align: right;\n",
       "    }\n",
       "</style>\n",
       "<table border=\"1\" class=\"dataframe\">\n",
       "  <thead>\n",
       "    <tr style=\"text-align: right;\">\n",
       "      <th></th>\n",
       "      <th>isri id</th>\n",
       "      <th>sc:hasCategory</th>\n",
       "      <th>sc:hasForm</th>\n",
       "      <th>sc:isFreeFrom</th>\n",
       "      <th>sc:contains</th>\n",
       "      <th>sc:hasSpecification</th>\n",
       "      <th>pc:hasName</th>\n",
       "      <th>sc:isComposedOf</th>\n",
       "    </tr>\n",
       "  </thead>\n",
       "  <tbody>\n",
       "    <tr>\n",
       "      <th>0</th>\n",
       "      <td>[0.971612646962812, 0.0, 0.0, 0.0, 0.0, 0.0, 0...</td>\n",
       "      <td>[0.0, 0.0, 0.0, 0.0, 0.0, 0.0, 0.0, 0.0, 0.0, ...</td>\n",
       "      <td>[0.0, 0.0, 0.0, 0.0, 0.0, 0.0, 0.0, 0.0, 0.0, ...</td>\n",
       "      <td>[0.0, 0.0, 0.0, 0.0, 0.0, 0.0, 0.0, 0.0, 0.0, ...</td>\n",
       "      <td>[0.0, 0.0, 0.0, 0.0, 0.0, 0.0, 0.0, 0.0, 0.0, ...</td>\n",
       "      <td>[0.0, 0.0, 0.0, 0.0, 0.0, 0.0, 0.0, 0.0, 0.0, ...</td>\n",
       "      <td>[0.0, 0.0, 0.0, 0.0, 0.0, 0.0, 0.0, 0.0, 0.0, ...</td>\n",
       "      <td>sc:Material_249</td>\n",
       "    </tr>\n",
       "    <tr>\n",
       "      <th>1</th>\n",
       "      <td>[0.0, 0.971612646962812, 0.0, 0.0, 0.0, 0.0, 0...</td>\n",
       "      <td>[0.0, 0.0, 0.0, 0.0, 0.0, 0.0, 0.0, 0.0, 0.0, ...</td>\n",
       "      <td>[0.0, 0.0, 0.0, 0.0, 0.0, 0.0, 0.0, 0.0, 0.0, ...</td>\n",
       "      <td>[0.0, 0.0, 0.0, 0.0, 0.0, 0.0, 0.0, 0.0, 0.0, ...</td>\n",
       "      <td>[0.0, 0.0, 0.0, 0.0, 0.0, 0.0, 0.0, 0.0, 0.0, ...</td>\n",
       "      <td>[0.0, 0.0, 0.0, 0.0, 0.0, 0.0, 0.0, 0.0, 0.0, ...</td>\n",
       "      <td>[0.0, 0.0, 0.0, 0.0, 0.0, 0.0, 0.0, 0.0, 0.0, ...</td>\n",
       "      <td>sc:Material_249</td>\n",
       "    </tr>\n",
       "    <tr>\n",
       "      <th>2</th>\n",
       "      <td>[0.0, 0.0, 0.0, 0.0, 0.0, 0.0, 0.0, 0.0, 0.0, ...</td>\n",
       "      <td>[0.0, 0.0, 0.0, 0.0, 0.0, 0.0, 0.0, 0.0, 0.0, ...</td>\n",
       "      <td>[0.0, 0.0, 0.0, 0.0, 0.0, 0.0, 0.0, 0.0, 0.0, ...</td>\n",
       "      <td>[0.0, 0.0, 0.0, 0.0, 0.0, 0.0, 0.0, 0.0, 0.0, ...</td>\n",
       "      <td>[0.0, 0.0, 0.0, 0.0, 0.0, 0.0, 0.0, 0.0, 0.0, ...</td>\n",
       "      <td>[0.0, 0.0, 0.0, 0.0, 0.0, 0.0, 0.0, 0.0, 0.0, ...</td>\n",
       "      <td>[0.0, 0.0, 0.0, 0.0, 0.0, 0.0, 0.0, 0.0, 0.0, ...</td>\n",
       "      <td>sc:Material_249</td>\n",
       "    </tr>\n",
       "    <tr>\n",
       "      <th>3</th>\n",
       "      <td>[0.0, 0.0, 0.0, 0.0, 0.0, 0.0, 0.0, 0.0, 0.0, ...</td>\n",
       "      <td>[0.0, 0.0, 0.0, 0.0, 0.0, 0.0, 0.0, 0.0, 0.0, ...</td>\n",
       "      <td>[0.0, 0.0, 0.0, 0.0, 0.0, 0.0, 0.0, 0.0, 0.0, ...</td>\n",
       "      <td>[0.0, 0.0, 0.0, 0.0, 0.0, 0.0, 0.0, 0.0, 0.0, ...</td>\n",
       "      <td>[0.0, 0.0, 0.0, 0.0, 0.0, 0.0, 0.0, 0.0, 0.0, ...</td>\n",
       "      <td>[0.0, 0.0, 0.0, 0.0, 0.0, 0.0, 0.0, 0.0, 0.0, ...</td>\n",
       "      <td>[0.0, 0.0, 0.0, 0.0, 0.0, 0.0, 0.0, 0.0, 0.0, ...</td>\n",
       "      <td>sc:Material_249</td>\n",
       "    </tr>\n",
       "    <tr>\n",
       "      <th>4</th>\n",
       "      <td>[0.0, 0.0, 0.0, 0.0, 0.0, 0.0, 0.0, 0.0, 0.0, ...</td>\n",
       "      <td>[0.0, 0.0, 0.0, 0.0, 0.0, 0.0, 0.0, 0.0, 0.0, ...</td>\n",
       "      <td>[0.0, 0.0, 0.0, 0.0, 0.0, 0.0, 0.0, 0.0, 0.0, ...</td>\n",
       "      <td>[0.0, 0.0, 0.0, 0.0, 0.0, 0.0, 0.0, 0.0, 0.0, ...</td>\n",
       "      <td>[0.0, 0.0, 0.0, 0.0, 0.0, 0.0, 0.0, 0.0, 0.0, ...</td>\n",
       "      <td>[0.0, 0.0, 0.0, 0.0, 0.0, 0.0, 0.0, 0.0, 0.0, ...</td>\n",
       "      <td>[0.0, 0.0, 0.0, 0.0, 0.0, 0.0, 0.0, 0.0, 0.0, ...</td>\n",
       "      <td>sc:Material_249</td>\n",
       "    </tr>\n",
       "  </tbody>\n",
       "</table>\n",
       "</div>"
      ],
      "text/plain": [
       "                                             isri id  \\\n",
       "0  [0.971612646962812, 0.0, 0.0, 0.0, 0.0, 0.0, 0...   \n",
       "1  [0.0, 0.971612646962812, 0.0, 0.0, 0.0, 0.0, 0...   \n",
       "2  [0.0, 0.0, 0.0, 0.0, 0.0, 0.0, 0.0, 0.0, 0.0, ...   \n",
       "3  [0.0, 0.0, 0.0, 0.0, 0.0, 0.0, 0.0, 0.0, 0.0, ...   \n",
       "4  [0.0, 0.0, 0.0, 0.0, 0.0, 0.0, 0.0, 0.0, 0.0, ...   \n",
       "\n",
       "                                      sc:hasCategory  \\\n",
       "0  [0.0, 0.0, 0.0, 0.0, 0.0, 0.0, 0.0, 0.0, 0.0, ...   \n",
       "1  [0.0, 0.0, 0.0, 0.0, 0.0, 0.0, 0.0, 0.0, 0.0, ...   \n",
       "2  [0.0, 0.0, 0.0, 0.0, 0.0, 0.0, 0.0, 0.0, 0.0, ...   \n",
       "3  [0.0, 0.0, 0.0, 0.0, 0.0, 0.0, 0.0, 0.0, 0.0, ...   \n",
       "4  [0.0, 0.0, 0.0, 0.0, 0.0, 0.0, 0.0, 0.0, 0.0, ...   \n",
       "\n",
       "                                          sc:hasForm  \\\n",
       "0  [0.0, 0.0, 0.0, 0.0, 0.0, 0.0, 0.0, 0.0, 0.0, ...   \n",
       "1  [0.0, 0.0, 0.0, 0.0, 0.0, 0.0, 0.0, 0.0, 0.0, ...   \n",
       "2  [0.0, 0.0, 0.0, 0.0, 0.0, 0.0, 0.0, 0.0, 0.0, ...   \n",
       "3  [0.0, 0.0, 0.0, 0.0, 0.0, 0.0, 0.0, 0.0, 0.0, ...   \n",
       "4  [0.0, 0.0, 0.0, 0.0, 0.0, 0.0, 0.0, 0.0, 0.0, ...   \n",
       "\n",
       "                                       sc:isFreeFrom  \\\n",
       "0  [0.0, 0.0, 0.0, 0.0, 0.0, 0.0, 0.0, 0.0, 0.0, ...   \n",
       "1  [0.0, 0.0, 0.0, 0.0, 0.0, 0.0, 0.0, 0.0, 0.0, ...   \n",
       "2  [0.0, 0.0, 0.0, 0.0, 0.0, 0.0, 0.0, 0.0, 0.0, ...   \n",
       "3  [0.0, 0.0, 0.0, 0.0, 0.0, 0.0, 0.0, 0.0, 0.0, ...   \n",
       "4  [0.0, 0.0, 0.0, 0.0, 0.0, 0.0, 0.0, 0.0, 0.0, ...   \n",
       "\n",
       "                                         sc:contains  \\\n",
       "0  [0.0, 0.0, 0.0, 0.0, 0.0, 0.0, 0.0, 0.0, 0.0, ...   \n",
       "1  [0.0, 0.0, 0.0, 0.0, 0.0, 0.0, 0.0, 0.0, 0.0, ...   \n",
       "2  [0.0, 0.0, 0.0, 0.0, 0.0, 0.0, 0.0, 0.0, 0.0, ...   \n",
       "3  [0.0, 0.0, 0.0, 0.0, 0.0, 0.0, 0.0, 0.0, 0.0, ...   \n",
       "4  [0.0, 0.0, 0.0, 0.0, 0.0, 0.0, 0.0, 0.0, 0.0, ...   \n",
       "\n",
       "                                 sc:hasSpecification  \\\n",
       "0  [0.0, 0.0, 0.0, 0.0, 0.0, 0.0, 0.0, 0.0, 0.0, ...   \n",
       "1  [0.0, 0.0, 0.0, 0.0, 0.0, 0.0, 0.0, 0.0, 0.0, ...   \n",
       "2  [0.0, 0.0, 0.0, 0.0, 0.0, 0.0, 0.0, 0.0, 0.0, ...   \n",
       "3  [0.0, 0.0, 0.0, 0.0, 0.0, 0.0, 0.0, 0.0, 0.0, ...   \n",
       "4  [0.0, 0.0, 0.0, 0.0, 0.0, 0.0, 0.0, 0.0, 0.0, ...   \n",
       "\n",
       "                                          pc:hasName  sc:isComposedOf  \n",
       "0  [0.0, 0.0, 0.0, 0.0, 0.0, 0.0, 0.0, 0.0, 0.0, ...  sc:Material_249  \n",
       "1  [0.0, 0.0, 0.0, 0.0, 0.0, 0.0, 0.0, 0.0, 0.0, ...  sc:Material_249  \n",
       "2  [0.0, 0.0, 0.0, 0.0, 0.0, 0.0, 0.0, 0.0, 0.0, ...  sc:Material_249  \n",
       "3  [0.0, 0.0, 0.0, 0.0, 0.0, 0.0, 0.0, 0.0, 0.0, ...  sc:Material_249  \n",
       "4  [0.0, 0.0, 0.0, 0.0, 0.0, 0.0, 0.0, 0.0, 0.0, ...  sc:Material_249  "
      ]
     },
     "execution_count": 52,
     "metadata": {},
     "output_type": "execute_result"
    }
   ],
   "source": [
    "for col in df.drop('sc:isComposedOf', axis=1).columns:\n",
    "    df[col] = hero.tfidf(df[col])\n",
    "\n",
    "df.head()"
   ]
  },
  {
   "cell_type": "code",
   "execution_count": 61,
   "id": "12cc1f98",
   "metadata": {},
   "outputs": [
    {
     "name": "stdout",
     "output_type": "stream",
     "text": [
      "isri id                  0\n",
      "sc:hasCategory           0\n",
      "sc:hasForm               0\n",
      "sc:isFreeFrom            0\n",
      "sc:contains              0\n",
      "sc:hasSpecification      0\n",
      "pc:hasName               0\n",
      "sc:isComposedOf        109\n",
      "dtype: int64\n"
     ]
    }
   ],
   "source": [
    "print(df.isna().sum())\n",
    "\n",
    "df.fillna('', inplace=True)"
   ]
  },
  {
   "cell_type": "code",
   "execution_count": 62,
   "id": "51fdffd2",
   "metadata": {},
   "outputs": [
    {
     "data": {
      "text/plain": [
       "(135, 8)"
      ]
     },
     "execution_count": 62,
     "metadata": {},
     "output_type": "execute_result"
    }
   ],
   "source": [
    "pred_isComposedOf_df = df[df['sc:isComposedOf'] != '']\n",
    "pred_isComposedOf_df.shape\n"
   ]
  },
  {
   "cell_type": "code",
   "execution_count": 64,
   "id": "10670339",
   "metadata": {},
   "outputs": [
    {
     "name": "stderr",
     "output_type": "stream",
     "text": [
      "/tmp/ipykernel_10639/2365477067.py:3: SettingWithCopyWarning: \n",
      "A value is trying to be set on a copy of a slice from a DataFrame.\n",
      "Try using .loc[row_indexer,col_indexer] = value instead\n",
      "\n",
      "See the caveats in the documentation: https://pandas.pydata.org/pandas-docs/stable/user_guide/indexing.html#returning-a-view-versus-a-copy\n",
      "  pred_isComposedOf_df['sc:isComposedOf'] = le.fit_transform(pred_isComposedOf_df['sc:isComposedOf'])\n"
     ]
    },
    {
     "data": {
      "text/html": [
       "<div>\n",
       "<style scoped>\n",
       "    .dataframe tbody tr th:only-of-type {\n",
       "        vertical-align: middle;\n",
       "    }\n",
       "\n",
       "    .dataframe tbody tr th {\n",
       "        vertical-align: top;\n",
       "    }\n",
       "\n",
       "    .dataframe thead th {\n",
       "        text-align: right;\n",
       "    }\n",
       "</style>\n",
       "<table border=\"1\" class=\"dataframe\">\n",
       "  <thead>\n",
       "    <tr style=\"text-align: right;\">\n",
       "      <th></th>\n",
       "      <th>isri id</th>\n",
       "      <th>sc:hasCategory</th>\n",
       "      <th>sc:hasForm</th>\n",
       "      <th>sc:isFreeFrom</th>\n",
       "      <th>sc:contains</th>\n",
       "      <th>sc:hasSpecification</th>\n",
       "      <th>pc:hasName</th>\n",
       "      <th>sc:isComposedOf</th>\n",
       "    </tr>\n",
       "  </thead>\n",
       "  <tbody>\n",
       "    <tr>\n",
       "      <th>0</th>\n",
       "      <td>[0.971612646962812, 0.0, 0.0, 0.0, 0.0, 0.0, 0...</td>\n",
       "      <td>[0.0, 0.0, 0.0, 0.0, 0.0, 0.0, 0.0, 0.0, 0.0, ...</td>\n",
       "      <td>[0.0, 0.0, 0.0, 0.0, 0.0, 0.0, 0.0, 0.0, 0.0, ...</td>\n",
       "      <td>[0.0, 0.0, 0.0, 0.0, 0.0, 0.0, 0.0, 0.0, 0.0, ...</td>\n",
       "      <td>[0.0, 0.0, 0.0, 0.0, 0.0, 0.0, 0.0, 0.0, 0.0, ...</td>\n",
       "      <td>[0.0, 0.0, 0.0, 0.0, 0.0, 0.0, 0.0, 0.0, 0.0, ...</td>\n",
       "      <td>[0.0, 0.0, 0.0, 0.0, 0.0, 0.0, 0.0, 0.0, 0.0, ...</td>\n",
       "      <td>6</td>\n",
       "    </tr>\n",
       "    <tr>\n",
       "      <th>1</th>\n",
       "      <td>[0.0, 0.971612646962812, 0.0, 0.0, 0.0, 0.0, 0...</td>\n",
       "      <td>[0.0, 0.0, 0.0, 0.0, 0.0, 0.0, 0.0, 0.0, 0.0, ...</td>\n",
       "      <td>[0.0, 0.0, 0.0, 0.0, 0.0, 0.0, 0.0, 0.0, 0.0, ...</td>\n",
       "      <td>[0.0, 0.0, 0.0, 0.0, 0.0, 0.0, 0.0, 0.0, 0.0, ...</td>\n",
       "      <td>[0.0, 0.0, 0.0, 0.0, 0.0, 0.0, 0.0, 0.0, 0.0, ...</td>\n",
       "      <td>[0.0, 0.0, 0.0, 0.0, 0.0, 0.0, 0.0, 0.0, 0.0, ...</td>\n",
       "      <td>[0.0, 0.0, 0.0, 0.0, 0.0, 0.0, 0.0, 0.0, 0.0, ...</td>\n",
       "      <td>6</td>\n",
       "    </tr>\n",
       "  </tbody>\n",
       "</table>\n",
       "</div>"
      ],
      "text/plain": [
       "                                             isri id  \\\n",
       "0  [0.971612646962812, 0.0, 0.0, 0.0, 0.0, 0.0, 0...   \n",
       "1  [0.0, 0.971612646962812, 0.0, 0.0, 0.0, 0.0, 0...   \n",
       "\n",
       "                                      sc:hasCategory  \\\n",
       "0  [0.0, 0.0, 0.0, 0.0, 0.0, 0.0, 0.0, 0.0, 0.0, ...   \n",
       "1  [0.0, 0.0, 0.0, 0.0, 0.0, 0.0, 0.0, 0.0, 0.0, ...   \n",
       "\n",
       "                                          sc:hasForm  \\\n",
       "0  [0.0, 0.0, 0.0, 0.0, 0.0, 0.0, 0.0, 0.0, 0.0, ...   \n",
       "1  [0.0, 0.0, 0.0, 0.0, 0.0, 0.0, 0.0, 0.0, 0.0, ...   \n",
       "\n",
       "                                       sc:isFreeFrom  \\\n",
       "0  [0.0, 0.0, 0.0, 0.0, 0.0, 0.0, 0.0, 0.0, 0.0, ...   \n",
       "1  [0.0, 0.0, 0.0, 0.0, 0.0, 0.0, 0.0, 0.0, 0.0, ...   \n",
       "\n",
       "                                         sc:contains  \\\n",
       "0  [0.0, 0.0, 0.0, 0.0, 0.0, 0.0, 0.0, 0.0, 0.0, ...   \n",
       "1  [0.0, 0.0, 0.0, 0.0, 0.0, 0.0, 0.0, 0.0, 0.0, ...   \n",
       "\n",
       "                                 sc:hasSpecification  \\\n",
       "0  [0.0, 0.0, 0.0, 0.0, 0.0, 0.0, 0.0, 0.0, 0.0, ...   \n",
       "1  [0.0, 0.0, 0.0, 0.0, 0.0, 0.0, 0.0, 0.0, 0.0, ...   \n",
       "\n",
       "                                          pc:hasName  sc:isComposedOf  \n",
       "0  [0.0, 0.0, 0.0, 0.0, 0.0, 0.0, 0.0, 0.0, 0.0, ...                6  \n",
       "1  [0.0, 0.0, 0.0, 0.0, 0.0, 0.0, 0.0, 0.0, 0.0, ...                6  "
      ]
     },
     "execution_count": 64,
     "metadata": {},
     "output_type": "execute_result"
    }
   ],
   "source": [
    "le = LabelEncoder()\n",
    "\n",
    "pred_isComposedOf_df['sc:isComposedOf'] = le.fit_transform(pred_isComposedOf_df['sc:isComposedOf'])\n",
    "pred_isComposedOf_df.head(2)"
   ]
  },
  {
   "cell_type": "code",
   "execution_count": 65,
   "id": "1d54b664",
   "metadata": {},
   "outputs": [],
   "source": [
    "from sklearn.model_selection import train_test_split\n",
    "\n",
    "X = pred_isComposedOf_df.drop('sc:isComposedOf', axis=1)\n",
    "y = pred_isComposedOf_df['sc:isComposedOf']\n",
    "\n",
    "X_train, X_test, y_train, y_test = train_test_split(X, y, test_size=0.2)"
   ]
  },
  {
   "cell_type": "code",
   "execution_count": 77,
   "id": "cc1fda1e",
   "metadata": {},
   "outputs": [
    {
     "ename": "ValueError",
     "evalue": "setting an array element with a sequence.",
     "output_type": "error",
     "traceback": [
      "\u001b[0;31m---------------------------------------------------------------------------\u001b[0m",
      "\u001b[0;31mTypeError\u001b[0m                                 Traceback (most recent call last)",
      "\u001b[0;31mTypeError\u001b[0m: float() argument must be a string or a number, not 'list'",
      "\nThe above exception was the direct cause of the following exception:\n",
      "\u001b[0;31mValueError\u001b[0m                                Traceback (most recent call last)",
      "Cell \u001b[0;32mIn [77], line 8\u001b[0m\n\u001b[1;32m      4\u001b[0m \u001b[39mfrom\u001b[39;00m \u001b[39msklearn\u001b[39;00m\u001b[39m.\u001b[39;00m\u001b[39mmulticlass\u001b[39;00m \u001b[39mimport\u001b[39;00m OneVsRestClassifier\n\u001b[1;32m      6\u001b[0m model \u001b[39m=\u001b[39m OneVsRestClassifier(LogisticRegression())\n\u001b[0;32m----> 8\u001b[0m model\u001b[39m.\u001b[39;49mfit(X_train[\u001b[39m'\u001b[39;49m\u001b[39msc:hasCategory\u001b[39;49m\u001b[39m'\u001b[39;49m], y_train)\n\u001b[1;32m      9\u001b[0m y_hat \u001b[39m=\u001b[39m model\u001b[39m.\u001b[39mpredict(X_test)\n\u001b[1;32m     11\u001b[0m results \u001b[39m=\u001b[39m pd\u001b[39m.\u001b[39mDataFrame()\n",
      "File \u001b[0;32m~/Desktop/python-envs/main-bio/lib/python3.9/site-packages/sklearn/multiclass.py:327\u001b[0m, in \u001b[0;36mOneVsRestClassifier.fit\u001b[0;34m(self, X, y)\u001b[0m\n\u001b[1;32m    323\u001b[0m columns \u001b[39m=\u001b[39m (col\u001b[39m.\u001b[39mtoarray()\u001b[39m.\u001b[39mravel() \u001b[39mfor\u001b[39;00m col \u001b[39min\u001b[39;00m Y\u001b[39m.\u001b[39mT)\n\u001b[1;32m    324\u001b[0m \u001b[39m# In cases where individual estimators are very fast to train setting\u001b[39;00m\n\u001b[1;32m    325\u001b[0m \u001b[39m# n_jobs > 1 in can results in slower performance due to the overhead\u001b[39;00m\n\u001b[1;32m    326\u001b[0m \u001b[39m# of spawning threads.  See joblib issue #112.\u001b[39;00m\n\u001b[0;32m--> 327\u001b[0m \u001b[39mself\u001b[39m\u001b[39m.\u001b[39mestimators_ \u001b[39m=\u001b[39m Parallel(n_jobs\u001b[39m=\u001b[39;49m\u001b[39mself\u001b[39;49m\u001b[39m.\u001b[39;49mn_jobs, verbose\u001b[39m=\u001b[39;49m\u001b[39mself\u001b[39;49m\u001b[39m.\u001b[39;49mverbose)(\n\u001b[1;32m    328\u001b[0m     delayed(_fit_binary)(\n\u001b[1;32m    329\u001b[0m         \u001b[39mself\u001b[39;49m\u001b[39m.\u001b[39;49mestimator,\n\u001b[1;32m    330\u001b[0m         X,\n\u001b[1;32m    331\u001b[0m         column,\n\u001b[1;32m    332\u001b[0m         classes\u001b[39m=\u001b[39;49m[\n\u001b[1;32m    333\u001b[0m             \u001b[39m\"\u001b[39;49m\u001b[39mnot \u001b[39;49m\u001b[39m%s\u001b[39;49;00m\u001b[39m\"\u001b[39;49m \u001b[39m%\u001b[39;49m \u001b[39mself\u001b[39;49m\u001b[39m.\u001b[39;49mlabel_binarizer_\u001b[39m.\u001b[39;49mclasses_[i],\n\u001b[1;32m    334\u001b[0m             \u001b[39mself\u001b[39;49m\u001b[39m.\u001b[39;49mlabel_binarizer_\u001b[39m.\u001b[39;49mclasses_[i],\n\u001b[1;32m    335\u001b[0m         ],\n\u001b[1;32m    336\u001b[0m     )\n\u001b[1;32m    337\u001b[0m     \u001b[39mfor\u001b[39;49;00m i, column \u001b[39min\u001b[39;49;00m \u001b[39menumerate\u001b[39;49m(columns)\n\u001b[1;32m    338\u001b[0m )\n\u001b[1;32m    340\u001b[0m \u001b[39mif\u001b[39;00m \u001b[39mhasattr\u001b[39m(\u001b[39mself\u001b[39m\u001b[39m.\u001b[39mestimators_[\u001b[39m0\u001b[39m], \u001b[39m\"\u001b[39m\u001b[39mn_features_in_\u001b[39m\u001b[39m\"\u001b[39m):\n\u001b[1;32m    341\u001b[0m     \u001b[39mself\u001b[39m\u001b[39m.\u001b[39mn_features_in_ \u001b[39m=\u001b[39m \u001b[39mself\u001b[39m\u001b[39m.\u001b[39mestimators_[\u001b[39m0\u001b[39m]\u001b[39m.\u001b[39mn_features_in_\n",
      "File \u001b[0;32m~/Desktop/python-envs/main-bio/lib/python3.9/site-packages/joblib/parallel.py:1085\u001b[0m, in \u001b[0;36mParallel.__call__\u001b[0;34m(self, iterable)\u001b[0m\n\u001b[1;32m   1076\u001b[0m \u001b[39mtry\u001b[39;00m:\n\u001b[1;32m   1077\u001b[0m     \u001b[39m# Only set self._iterating to True if at least a batch\u001b[39;00m\n\u001b[1;32m   1078\u001b[0m     \u001b[39m# was dispatched. In particular this covers the edge\u001b[39;00m\n\u001b[0;32m   (...)\u001b[0m\n\u001b[1;32m   1082\u001b[0m     \u001b[39m# was very quick and its callback already dispatched all the\u001b[39;00m\n\u001b[1;32m   1083\u001b[0m     \u001b[39m# remaining jobs.\u001b[39;00m\n\u001b[1;32m   1084\u001b[0m     \u001b[39mself\u001b[39m\u001b[39m.\u001b[39m_iterating \u001b[39m=\u001b[39m \u001b[39mFalse\u001b[39;00m\n\u001b[0;32m-> 1085\u001b[0m     \u001b[39mif\u001b[39;00m \u001b[39mself\u001b[39;49m\u001b[39m.\u001b[39;49mdispatch_one_batch(iterator):\n\u001b[1;32m   1086\u001b[0m         \u001b[39mself\u001b[39m\u001b[39m.\u001b[39m_iterating \u001b[39m=\u001b[39m \u001b[39mself\u001b[39m\u001b[39m.\u001b[39m_original_iterator \u001b[39mis\u001b[39;00m \u001b[39mnot\u001b[39;00m \u001b[39mNone\u001b[39;00m\n\u001b[1;32m   1088\u001b[0m     \u001b[39mwhile\u001b[39;00m \u001b[39mself\u001b[39m\u001b[39m.\u001b[39mdispatch_one_batch(iterator):\n",
      "File \u001b[0;32m~/Desktop/python-envs/main-bio/lib/python3.9/site-packages/joblib/parallel.py:901\u001b[0m, in \u001b[0;36mParallel.dispatch_one_batch\u001b[0;34m(self, iterator)\u001b[0m\n\u001b[1;32m    899\u001b[0m     \u001b[39mreturn\u001b[39;00m \u001b[39mFalse\u001b[39;00m\n\u001b[1;32m    900\u001b[0m \u001b[39melse\u001b[39;00m:\n\u001b[0;32m--> 901\u001b[0m     \u001b[39mself\u001b[39;49m\u001b[39m.\u001b[39;49m_dispatch(tasks)\n\u001b[1;32m    902\u001b[0m     \u001b[39mreturn\u001b[39;00m \u001b[39mTrue\u001b[39;00m\n",
      "File \u001b[0;32m~/Desktop/python-envs/main-bio/lib/python3.9/site-packages/joblib/parallel.py:819\u001b[0m, in \u001b[0;36mParallel._dispatch\u001b[0;34m(self, batch)\u001b[0m\n\u001b[1;32m    817\u001b[0m \u001b[39mwith\u001b[39;00m \u001b[39mself\u001b[39m\u001b[39m.\u001b[39m_lock:\n\u001b[1;32m    818\u001b[0m     job_idx \u001b[39m=\u001b[39m \u001b[39mlen\u001b[39m(\u001b[39mself\u001b[39m\u001b[39m.\u001b[39m_jobs)\n\u001b[0;32m--> 819\u001b[0m     job \u001b[39m=\u001b[39m \u001b[39mself\u001b[39;49m\u001b[39m.\u001b[39;49m_backend\u001b[39m.\u001b[39;49mapply_async(batch, callback\u001b[39m=\u001b[39;49mcb)\n\u001b[1;32m    820\u001b[0m     \u001b[39m# A job can complete so quickly than its callback is\u001b[39;00m\n\u001b[1;32m    821\u001b[0m     \u001b[39m# called before we get here, causing self._jobs to\u001b[39;00m\n\u001b[1;32m    822\u001b[0m     \u001b[39m# grow. To ensure correct results ordering, .insert is\u001b[39;00m\n\u001b[1;32m    823\u001b[0m     \u001b[39m# used (rather than .append) in the following line\u001b[39;00m\n\u001b[1;32m    824\u001b[0m     \u001b[39mself\u001b[39m\u001b[39m.\u001b[39m_jobs\u001b[39m.\u001b[39minsert(job_idx, job)\n",
      "File \u001b[0;32m~/Desktop/python-envs/main-bio/lib/python3.9/site-packages/joblib/_parallel_backends.py:208\u001b[0m, in \u001b[0;36mSequentialBackend.apply_async\u001b[0;34m(self, func, callback)\u001b[0m\n\u001b[1;32m    206\u001b[0m \u001b[39mdef\u001b[39;00m \u001b[39mapply_async\u001b[39m(\u001b[39mself\u001b[39m, func, callback\u001b[39m=\u001b[39m\u001b[39mNone\u001b[39;00m):\n\u001b[1;32m    207\u001b[0m     \u001b[39m\"\"\"Schedule a func to be run\"\"\"\u001b[39;00m\n\u001b[0;32m--> 208\u001b[0m     result \u001b[39m=\u001b[39m ImmediateResult(func)\n\u001b[1;32m    209\u001b[0m     \u001b[39mif\u001b[39;00m callback:\n\u001b[1;32m    210\u001b[0m         callback(result)\n",
      "File \u001b[0;32m~/Desktop/python-envs/main-bio/lib/python3.9/site-packages/joblib/_parallel_backends.py:597\u001b[0m, in \u001b[0;36mImmediateResult.__init__\u001b[0;34m(self, batch)\u001b[0m\n\u001b[1;32m    594\u001b[0m \u001b[39mdef\u001b[39;00m \u001b[39m__init__\u001b[39m(\u001b[39mself\u001b[39m, batch):\n\u001b[1;32m    595\u001b[0m     \u001b[39m# Don't delay the application, to avoid keeping the input\u001b[39;00m\n\u001b[1;32m    596\u001b[0m     \u001b[39m# arguments in memory\u001b[39;00m\n\u001b[0;32m--> 597\u001b[0m     \u001b[39mself\u001b[39m\u001b[39m.\u001b[39mresults \u001b[39m=\u001b[39m batch()\n",
      "File \u001b[0;32m~/Desktop/python-envs/main-bio/lib/python3.9/site-packages/joblib/parallel.py:288\u001b[0m, in \u001b[0;36mBatchedCalls.__call__\u001b[0;34m(self)\u001b[0m\n\u001b[1;32m    284\u001b[0m \u001b[39mdef\u001b[39;00m \u001b[39m__call__\u001b[39m(\u001b[39mself\u001b[39m):\n\u001b[1;32m    285\u001b[0m     \u001b[39m# Set the default nested backend to self._backend but do not set the\u001b[39;00m\n\u001b[1;32m    286\u001b[0m     \u001b[39m# change the default number of processes to -1\u001b[39;00m\n\u001b[1;32m    287\u001b[0m     \u001b[39mwith\u001b[39;00m parallel_backend(\u001b[39mself\u001b[39m\u001b[39m.\u001b[39m_backend, n_jobs\u001b[39m=\u001b[39m\u001b[39mself\u001b[39m\u001b[39m.\u001b[39m_n_jobs):\n\u001b[0;32m--> 288\u001b[0m         \u001b[39mreturn\u001b[39;00m [func(\u001b[39m*\u001b[39margs, \u001b[39m*\u001b[39m\u001b[39m*\u001b[39mkwargs)\n\u001b[1;32m    289\u001b[0m                 \u001b[39mfor\u001b[39;00m func, args, kwargs \u001b[39min\u001b[39;00m \u001b[39mself\u001b[39m\u001b[39m.\u001b[39mitems]\n",
      "File \u001b[0;32m~/Desktop/python-envs/main-bio/lib/python3.9/site-packages/joblib/parallel.py:288\u001b[0m, in \u001b[0;36m<listcomp>\u001b[0;34m(.0)\u001b[0m\n\u001b[1;32m    284\u001b[0m \u001b[39mdef\u001b[39;00m \u001b[39m__call__\u001b[39m(\u001b[39mself\u001b[39m):\n\u001b[1;32m    285\u001b[0m     \u001b[39m# Set the default nested backend to self._backend but do not set the\u001b[39;00m\n\u001b[1;32m    286\u001b[0m     \u001b[39m# change the default number of processes to -1\u001b[39;00m\n\u001b[1;32m    287\u001b[0m     \u001b[39mwith\u001b[39;00m parallel_backend(\u001b[39mself\u001b[39m\u001b[39m.\u001b[39m_backend, n_jobs\u001b[39m=\u001b[39m\u001b[39mself\u001b[39m\u001b[39m.\u001b[39m_n_jobs):\n\u001b[0;32m--> 288\u001b[0m         \u001b[39mreturn\u001b[39;00m [func(\u001b[39m*\u001b[39;49margs, \u001b[39m*\u001b[39;49m\u001b[39m*\u001b[39;49mkwargs)\n\u001b[1;32m    289\u001b[0m                 \u001b[39mfor\u001b[39;00m func, args, kwargs \u001b[39min\u001b[39;00m \u001b[39mself\u001b[39m\u001b[39m.\u001b[39mitems]\n",
      "File \u001b[0;32m~/Desktop/python-envs/main-bio/lib/python3.9/site-packages/sklearn/utils/fixes.py:117\u001b[0m, in \u001b[0;36m_FuncWrapper.__call__\u001b[0;34m(self, *args, **kwargs)\u001b[0m\n\u001b[1;32m    115\u001b[0m \u001b[39mdef\u001b[39;00m \u001b[39m__call__\u001b[39m(\u001b[39mself\u001b[39m, \u001b[39m*\u001b[39margs, \u001b[39m*\u001b[39m\u001b[39m*\u001b[39mkwargs):\n\u001b[1;32m    116\u001b[0m     \u001b[39mwith\u001b[39;00m config_context(\u001b[39m*\u001b[39m\u001b[39m*\u001b[39m\u001b[39mself\u001b[39m\u001b[39m.\u001b[39mconfig):\n\u001b[0;32m--> 117\u001b[0m         \u001b[39mreturn\u001b[39;00m \u001b[39mself\u001b[39;49m\u001b[39m.\u001b[39;49mfunction(\u001b[39m*\u001b[39;49margs, \u001b[39m*\u001b[39;49m\u001b[39m*\u001b[39;49mkwargs)\n",
      "File \u001b[0;32m~/Desktop/python-envs/main-bio/lib/python3.9/site-packages/sklearn/multiclass.py:83\u001b[0m, in \u001b[0;36m_fit_binary\u001b[0;34m(estimator, X, y, classes)\u001b[0m\n\u001b[1;32m     81\u001b[0m \u001b[39melse\u001b[39;00m:\n\u001b[1;32m     82\u001b[0m     estimator \u001b[39m=\u001b[39m clone(estimator)\n\u001b[0;32m---> 83\u001b[0m     estimator\u001b[39m.\u001b[39;49mfit(X, y)\n\u001b[1;32m     84\u001b[0m \u001b[39mreturn\u001b[39;00m estimator\n",
      "File \u001b[0;32m~/Desktop/python-envs/main-bio/lib/python3.9/site-packages/sklearn/linear_model/_logistic.py:1138\u001b[0m, in \u001b[0;36mLogisticRegression.fit\u001b[0;34m(self, X, y, sample_weight)\u001b[0m\n\u001b[1;32m   1135\u001b[0m \u001b[39melse\u001b[39;00m:\n\u001b[1;32m   1136\u001b[0m     _dtype \u001b[39m=\u001b[39m [np\u001b[39m.\u001b[39mfloat64, np\u001b[39m.\u001b[39mfloat32]\n\u001b[0;32m-> 1138\u001b[0m X, y \u001b[39m=\u001b[39m \u001b[39mself\u001b[39;49m\u001b[39m.\u001b[39;49m_validate_data(\n\u001b[1;32m   1139\u001b[0m     X,\n\u001b[1;32m   1140\u001b[0m     y,\n\u001b[1;32m   1141\u001b[0m     accept_sparse\u001b[39m=\u001b[39;49m\u001b[39m\"\u001b[39;49m\u001b[39mcsr\u001b[39;49m\u001b[39m\"\u001b[39;49m,\n\u001b[1;32m   1142\u001b[0m     dtype\u001b[39m=\u001b[39;49m_dtype,\n\u001b[1;32m   1143\u001b[0m     order\u001b[39m=\u001b[39;49m\u001b[39m\"\u001b[39;49m\u001b[39mC\u001b[39;49m\u001b[39m\"\u001b[39;49m,\n\u001b[1;32m   1144\u001b[0m     accept_large_sparse\u001b[39m=\u001b[39;49msolver \u001b[39mnot\u001b[39;49;00m \u001b[39min\u001b[39;49;00m [\u001b[39m\"\u001b[39;49m\u001b[39mliblinear\u001b[39;49m\u001b[39m\"\u001b[39;49m, \u001b[39m\"\u001b[39;49m\u001b[39msag\u001b[39;49m\u001b[39m\"\u001b[39;49m, \u001b[39m\"\u001b[39;49m\u001b[39msaga\u001b[39;49m\u001b[39m\"\u001b[39;49m],\n\u001b[1;32m   1145\u001b[0m )\n\u001b[1;32m   1146\u001b[0m check_classification_targets(y)\n\u001b[1;32m   1147\u001b[0m \u001b[39mself\u001b[39m\u001b[39m.\u001b[39mclasses_ \u001b[39m=\u001b[39m np\u001b[39m.\u001b[39munique(y)\n",
      "File \u001b[0;32m~/Desktop/python-envs/main-bio/lib/python3.9/site-packages/sklearn/base.py:596\u001b[0m, in \u001b[0;36mBaseEstimator._validate_data\u001b[0;34m(self, X, y, reset, validate_separately, **check_params)\u001b[0m\n\u001b[1;32m    594\u001b[0m         y \u001b[39m=\u001b[39m check_array(y, input_name\u001b[39m=\u001b[39m\u001b[39m\"\u001b[39m\u001b[39my\u001b[39m\u001b[39m\"\u001b[39m, \u001b[39m*\u001b[39m\u001b[39m*\u001b[39mcheck_y_params)\n\u001b[1;32m    595\u001b[0m     \u001b[39melse\u001b[39;00m:\n\u001b[0;32m--> 596\u001b[0m         X, y \u001b[39m=\u001b[39m check_X_y(X, y, \u001b[39m*\u001b[39;49m\u001b[39m*\u001b[39;49mcheck_params)\n\u001b[1;32m    597\u001b[0m     out \u001b[39m=\u001b[39m X, y\n\u001b[1;32m    599\u001b[0m \u001b[39mif\u001b[39;00m \u001b[39mnot\u001b[39;00m no_val_X \u001b[39mand\u001b[39;00m check_params\u001b[39m.\u001b[39mget(\u001b[39m\"\u001b[39m\u001b[39mensure_2d\u001b[39m\u001b[39m\"\u001b[39m, \u001b[39mTrue\u001b[39;00m):\n",
      "File \u001b[0;32m~/Desktop/python-envs/main-bio/lib/python3.9/site-packages/sklearn/utils/validation.py:1074\u001b[0m, in \u001b[0;36mcheck_X_y\u001b[0;34m(X, y, accept_sparse, accept_large_sparse, dtype, order, copy, force_all_finite, ensure_2d, allow_nd, multi_output, ensure_min_samples, ensure_min_features, y_numeric, estimator)\u001b[0m\n\u001b[1;32m   1069\u001b[0m         estimator_name \u001b[39m=\u001b[39m _check_estimator_name(estimator)\n\u001b[1;32m   1070\u001b[0m     \u001b[39mraise\u001b[39;00m \u001b[39mValueError\u001b[39;00m(\n\u001b[1;32m   1071\u001b[0m         \u001b[39mf\u001b[39m\u001b[39m\"\u001b[39m\u001b[39m{\u001b[39;00mestimator_name\u001b[39m}\u001b[39;00m\u001b[39m requires y to be passed, but the target y is None\u001b[39m\u001b[39m\"\u001b[39m\n\u001b[1;32m   1072\u001b[0m     )\n\u001b[0;32m-> 1074\u001b[0m X \u001b[39m=\u001b[39m check_array(\n\u001b[1;32m   1075\u001b[0m     X,\n\u001b[1;32m   1076\u001b[0m     accept_sparse\u001b[39m=\u001b[39;49maccept_sparse,\n\u001b[1;32m   1077\u001b[0m     accept_large_sparse\u001b[39m=\u001b[39;49maccept_large_sparse,\n\u001b[1;32m   1078\u001b[0m     dtype\u001b[39m=\u001b[39;49mdtype,\n\u001b[1;32m   1079\u001b[0m     order\u001b[39m=\u001b[39;49morder,\n\u001b[1;32m   1080\u001b[0m     copy\u001b[39m=\u001b[39;49mcopy,\n\u001b[1;32m   1081\u001b[0m     force_all_finite\u001b[39m=\u001b[39;49mforce_all_finite,\n\u001b[1;32m   1082\u001b[0m     ensure_2d\u001b[39m=\u001b[39;49mensure_2d,\n\u001b[1;32m   1083\u001b[0m     allow_nd\u001b[39m=\u001b[39;49mallow_nd,\n\u001b[1;32m   1084\u001b[0m     ensure_min_samples\u001b[39m=\u001b[39;49mensure_min_samples,\n\u001b[1;32m   1085\u001b[0m     ensure_min_features\u001b[39m=\u001b[39;49mensure_min_features,\n\u001b[1;32m   1086\u001b[0m     estimator\u001b[39m=\u001b[39;49mestimator,\n\u001b[1;32m   1087\u001b[0m     input_name\u001b[39m=\u001b[39;49m\u001b[39m\"\u001b[39;49m\u001b[39mX\u001b[39;49m\u001b[39m\"\u001b[39;49m,\n\u001b[1;32m   1088\u001b[0m )\n\u001b[1;32m   1090\u001b[0m y \u001b[39m=\u001b[39m _check_y(y, multi_output\u001b[39m=\u001b[39mmulti_output, y_numeric\u001b[39m=\u001b[39my_numeric, estimator\u001b[39m=\u001b[39mestimator)\n\u001b[1;32m   1092\u001b[0m check_consistent_length(X, y)\n",
      "File \u001b[0;32m~/Desktop/python-envs/main-bio/lib/python3.9/site-packages/sklearn/utils/validation.py:856\u001b[0m, in \u001b[0;36mcheck_array\u001b[0;34m(array, accept_sparse, accept_large_sparse, dtype, order, copy, force_all_finite, ensure_2d, allow_nd, ensure_min_samples, ensure_min_features, estimator, input_name)\u001b[0m\n\u001b[1;32m    854\u001b[0m         array \u001b[39m=\u001b[39m array\u001b[39m.\u001b[39mastype(dtype, casting\u001b[39m=\u001b[39m\u001b[39m\"\u001b[39m\u001b[39munsafe\u001b[39m\u001b[39m\"\u001b[39m, copy\u001b[39m=\u001b[39m\u001b[39mFalse\u001b[39;00m)\n\u001b[1;32m    855\u001b[0m     \u001b[39melse\u001b[39;00m:\n\u001b[0;32m--> 856\u001b[0m         array \u001b[39m=\u001b[39m np\u001b[39m.\u001b[39;49masarray(array, order\u001b[39m=\u001b[39;49morder, dtype\u001b[39m=\u001b[39;49mdtype)\n\u001b[1;32m    857\u001b[0m \u001b[39mexcept\u001b[39;00m ComplexWarning \u001b[39mas\u001b[39;00m complex_warning:\n\u001b[1;32m    858\u001b[0m     \u001b[39mraise\u001b[39;00m \u001b[39mValueError\u001b[39;00m(\n\u001b[1;32m    859\u001b[0m         \u001b[39m\"\u001b[39m\u001b[39mComplex data not supported\u001b[39m\u001b[39m\\n\u001b[39;00m\u001b[39m{}\u001b[39;00m\u001b[39m\\n\u001b[39;00m\u001b[39m\"\u001b[39m\u001b[39m.\u001b[39mformat(array)\n\u001b[1;32m    860\u001b[0m     ) \u001b[39mfrom\u001b[39;00m \u001b[39mcomplex_warning\u001b[39;00m\n",
      "File \u001b[0;32m~/Desktop/python-envs/main-bio/lib/python3.9/site-packages/pandas/core/series.py:893\u001b[0m, in \u001b[0;36mSeries.__array__\u001b[0;34m(self, dtype)\u001b[0m\n\u001b[1;32m    846\u001b[0m \u001b[39mdef\u001b[39;00m \u001b[39m__array__\u001b[39m(\u001b[39mself\u001b[39m, dtype: npt\u001b[39m.\u001b[39mDTypeLike \u001b[39m|\u001b[39m \u001b[39mNone\u001b[39;00m \u001b[39m=\u001b[39m \u001b[39mNone\u001b[39;00m) \u001b[39m-\u001b[39m\u001b[39m>\u001b[39m np\u001b[39m.\u001b[39mndarray:\n\u001b[1;32m    847\u001b[0m     \u001b[39m\"\"\"\u001b[39;00m\n\u001b[1;32m    848\u001b[0m \u001b[39m    Return the values as a NumPy array.\u001b[39;00m\n\u001b[1;32m    849\u001b[0m \n\u001b[0;32m   (...)\u001b[0m\n\u001b[1;32m    891\u001b[0m \u001b[39m          dtype='datetime64[ns]')\u001b[39;00m\n\u001b[1;32m    892\u001b[0m \u001b[39m    \"\"\"\u001b[39;00m\n\u001b[0;32m--> 893\u001b[0m     \u001b[39mreturn\u001b[39;00m np\u001b[39m.\u001b[39;49masarray(\u001b[39mself\u001b[39;49m\u001b[39m.\u001b[39;49m_values, dtype)\n",
      "\u001b[0;31mValueError\u001b[0m: setting an array element with a sequence."
     ]
    }
   ],
   "source": [
    "from sklearn.naive_bayes import MultinomialNB\n",
    "from sklearn.linear_model import SGDClassifier\n",
    "from sklearn.linear_model import LogisticRegression\n",
    "from sklearn.multiclass import OneVsRestClassifier\n",
    "\n",
    "model = OneVsRestClassifier(LogisticRegression())\n",
    "\n",
    "model.fit(X_train['sc:hasCategory'], y_train)\n",
    "y_hat = model.predict(X_test)\n",
    "\n",
    "results = pd.DataFrame()\n",
    "\n",
    "results['true'] = y_test\n",
    "results['pred'] = y_hat\n",
    "\n",
    "accuracy_score(y_test, y_hat)"
   ]
  },
  {
   "cell_type": "code",
   "execution_count": null,
   "id": "20aa1fbe",
   "metadata": {},
   "outputs": [],
   "source": []
  },
  {
   "cell_type": "code",
   "execution_count": null,
   "id": "e6c54780",
   "metadata": {},
   "outputs": [],
   "source": []
  },
  {
   "cell_type": "code",
   "execution_count": null,
   "id": "6d1db1cf",
   "metadata": {},
   "outputs": [],
   "source": []
  },
  {
   "cell_type": "code",
   "execution_count": null,
   "id": "3bce05be",
   "metadata": {},
   "outputs": [],
   "source": []
  },
  {
   "cell_type": "code",
   "execution_count": null,
   "id": "5b9e4c1a",
   "metadata": {},
   "outputs": [],
   "source": []
  },
  {
   "cell_type": "code",
   "execution_count": 53,
   "id": "685793cd",
   "metadata": {},
   "outputs": [
    {
     "data": {
      "text/html": [
       "<div>\n",
       "<style scoped>\n",
       "    .dataframe tbody tr th:only-of-type {\n",
       "        vertical-align: middle;\n",
       "    }\n",
       "\n",
       "    .dataframe tbody tr th {\n",
       "        vertical-align: top;\n",
       "    }\n",
       "\n",
       "    .dataframe thead th {\n",
       "        text-align: right;\n",
       "    }\n",
       "</style>\n",
       "<table border=\"1\" class=\"dataframe\">\n",
       "  <thead>\n",
       "    <tr style=\"text-align: right;\">\n",
       "      <th></th>\n",
       "      <th>sc:hasCategory</th>\n",
       "      <th>sc:hasForm</th>\n",
       "      <th>sc:contains</th>\n",
       "      <th>sc:hasSpecification</th>\n",
       "      <th>pc:hasName</th>\n",
       "      <th>sc:isComposedOf</th>\n",
       "    </tr>\n",
       "  </thead>\n",
       "  <tbody>\n",
       "    <tr>\n",
       "      <th>0</th>\n",
       "      <td>Nonferrous Scrap - Red Metals</td>\n",
       "      <td>Wire</td>\n",
       "      <td>Copper</td>\n",
       "      <td>Bare, Uncoated, Unalloyed</td>\n",
       "      <td>No. 1 Copper Wire</td>\n",
       "      <td>sc:Material_249</td>\n",
       "    </tr>\n",
       "    <tr>\n",
       "      <th>1</th>\n",
       "      <td>Nonferrous Scrap - Red Metals</td>\n",
       "      <td>Wire and Cable</td>\n",
       "      <td>Copper</td>\n",
       "      <td>Clean, Untinned, Uncoated, Unalloyed</td>\n",
       "      <td>No. 1 Copper Wire</td>\n",
       "      <td>sc:Material_249</td>\n",
       "    </tr>\n",
       "    <tr>\n",
       "      <th>2</th>\n",
       "      <td>Nonferrous Scrap - Red Metals</td>\n",
       "      <td>Miscellaneous, Wire</td>\n",
       "      <td>Copper</td>\n",
       "      <td>Unalloyed</td>\n",
       "      <td>No. 2 Copper Wire</td>\n",
       "      <td>sc:Material_249</td>\n",
       "    </tr>\n",
       "    <tr>\n",
       "      <th>3</th>\n",
       "      <td>Nonferrous Scrap - Red Metals</td>\n",
       "      <td>Clippings, punchings, bus bars, commutator seg...</td>\n",
       "      <td>Copper</td>\n",
       "      <td>clean, unalloyed, uncoated</td>\n",
       "      <td>No. 1 Heavy Copper Solids and Tubing</td>\n",
       "      <td>sc:Material_249</td>\n",
       "    </tr>\n",
       "    <tr>\n",
       "      <th>4</th>\n",
       "      <td>Nonferrous Scrap - Red Metals</td>\n",
       "      <td>Miscellaneous Scrap</td>\n",
       "      <td>Copper</td>\n",
       "      <td>Unalloyed</td>\n",
       "      <td>No. 2 Copper Solids and Tubing</td>\n",
       "      <td>sc:Material_249</td>\n",
       "    </tr>\n",
       "  </tbody>\n",
       "</table>\n",
       "</div>"
      ],
      "text/plain": [
       "                  sc:hasCategory  \\\n",
       "0  Nonferrous Scrap - Red Metals   \n",
       "1  Nonferrous Scrap - Red Metals   \n",
       "2  Nonferrous Scrap - Red Metals   \n",
       "3  Nonferrous Scrap - Red Metals   \n",
       "4  Nonferrous Scrap - Red Metals   \n",
       "\n",
       "                                          sc:hasForm sc:contains  \\\n",
       "0                                               Wire      Copper   \n",
       "1                                     Wire and Cable      Copper   \n",
       "2                                Miscellaneous, Wire      Copper   \n",
       "3  Clippings, punchings, bus bars, commutator seg...      Copper   \n",
       "4                                Miscellaneous Scrap      Copper   \n",
       "\n",
       "                    sc:hasSpecification                            pc:hasName  \\\n",
       "0             Bare, Uncoated, Unalloyed                     No. 1 Copper Wire   \n",
       "1  Clean, Untinned, Uncoated, Unalloyed                     No. 1 Copper Wire   \n",
       "2                             Unalloyed                     No. 2 Copper Wire   \n",
       "3            clean, unalloyed, uncoated  No. 1 Heavy Copper Solids and Tubing   \n",
       "4                             Unalloyed        No. 2 Copper Solids and Tubing   \n",
       "\n",
       "   sc:isComposedOf  \n",
       "0  sc:Material_249  \n",
       "1  sc:Material_249  \n",
       "2  sc:Material_249  \n",
       "3  sc:Material_249  \n",
       "4  sc:Material_249  "
      ]
     },
     "execution_count": 53,
     "metadata": {},
     "output_type": "execute_result"
    }
   ],
   "source": [
    "pred_isComposedOf_df = isri_data[isri_data['sc:isComposedOf'] != '']\n",
    "pred_isComposedOf_df.drop(columns=['isri id', 'sc:isFreeFrom'], inplace=True)\n",
    "pred_isComposedOf_df.head()"
   ]
  },
  {
   "cell_type": "code",
   "execution_count": null,
   "id": "dc45193a",
   "metadata": {},
   "outputs": [],
   "source": [
    "from sklearn.feature_extraction.text import TfidfVectorizer\n",
    "\n",
    "# columns = ['sc:hasCategory', 'pc:hasName']\n",
    "columns = pred_isComposedOf_df.columns\n",
    "\n",
    "for col_name in columns:\n",
    "    \n",
    "    if col_name == 'sc:isComposedOf': continue\n",
    "    else:\n",
    "            \n",
    "        text = isri_data[col_name]\n",
    "\n",
    "        df = pd.DataFrame()\n",
    "        df['corpus'] = text\n",
    "        df['cleaned'] = df['corpus'].apply(lambda x: preprocess_text(x, remove_stopwords=True))\n",
    "\n",
    "        pred_isComposedOf_df[col_name] = df['cleaned']\n",
    "\n",
    "        del df"
   ]
  },
  {
   "cell_type": "code",
   "execution_count": null,
   "id": "d9b059dd",
   "metadata": {},
   "outputs": [],
   "source": [
    "pred_isComposedOf_df"
   ]
  },
  {
   "cell_type": "code",
   "execution_count": null,
   "id": "0ef09569",
   "metadata": {},
   "outputs": [],
   "source": []
  },
  {
   "cell_type": "code",
   "execution_count": null,
   "id": "f3dc941d",
   "metadata": {},
   "outputs": [],
   "source": []
  },
  {
   "cell_type": "code",
   "execution_count": null,
   "id": "3810945e",
   "metadata": {},
   "outputs": [],
   "source": [
    "def cluster_text(text, true_k):\n",
    "    vectorizer = TfidfVectorizer()\n",
    "    X = vectorizer.fit_transform(text)\n",
    "\n",
    "    return X\n",
    "\n",
    "   #  Sum_of_squared_distances = []\n",
    "   #  K = range(2,10)\n",
    "   #  for k in K:\n",
    "   #     km = KMeans(n_clusters=k, max_iter=200, n_init=10)\n",
    "   #     km = km.fit(X)\n",
    "   #     Sum_of_squared_distances.append(km.inertia_)\n",
    "   #  plt.plot(K, Sum_of_squared_distances, 'bx-')\n",
    "   #  plt.xlabel('k')\n",
    "   #  plt.ylabel('Sum_of_squared_distances')\n",
    "   #  plt.title('Elbow Method For Optimal k')\n",
    "   #  plt.show()\n",
    "\n",
    "   # #  true_k = 6\n",
    "   #  model = KMeans(n_clusters=true_k, init='k-means++', max_iter=200, n_init=10)\n",
    "   #  model.fit(X)\n",
    "\n",
    "   #  labels=model.labels_\n",
    "   #  clusters=pd.DataFrame(list(zip(text,labels)),columns=['title','cluster'])\n",
    "   #  #print(clusters.sort_values(by=['cluster']))\n",
    "       \n",
    "   #  return clusters"
   ]
  },
  {
   "cell_type": "code",
   "execution_count": null,
   "id": "a3955dcf",
   "metadata": {},
   "outputs": [],
   "source": [
    "X = cluster_text(pred_isComposedOf_df['sc:hasCategory'], 6)\n",
    "X.shape"
   ]
  },
  {
   "cell_type": "code",
   "execution_count": null,
   "id": "a8149bcc",
   "metadata": {},
   "outputs": [],
   "source": [
    "for mat in pred_isComposedOf_df['sc:isComposedOf'].value_counts().tail(15).index.values:\n",
    "\n",
    "    pred_isComposedOf_df = pred_isComposedOf_df[pred_isComposedOf_df['sc:isComposedOf'] != mat]"
   ]
  },
  {
   "cell_type": "code",
   "execution_count": null,
   "id": "02c529dd",
   "metadata": {},
   "outputs": [],
   "source": [
    "from sklearn.model_selection import train_test_split\n",
    "\n",
    "X = pred_isComposedOf_df.drop('sc:isComposedOf', axis=1)\n",
    "y = pred_isComposedOf_df['sc:isComposedOf']\n",
    "\n",
    "X = cluster_text(X['sc:hasCategory'], 6)\n",
    "\n",
    "X_train, X_test, y_train, y_test = train_test_split(X, y, test_size=0.2)"
   ]
  },
  {
   "cell_type": "code",
   "execution_count": null,
   "id": "cd38c584",
   "metadata": {},
   "outputs": [],
   "source": []
  },
  {
   "cell_type": "code",
   "execution_count": null,
   "id": "3036549a",
   "metadata": {},
   "outputs": [],
   "source": [
    "le = LabelEncoder()\n",
    "\n",
    "y_train = le.fit_transform(y_train)\n",
    "y_test = le.transform(y_test)"
   ]
  },
  {
   "cell_type": "code",
   "execution_count": null,
   "id": "8b776b16",
   "metadata": {},
   "outputs": [],
   "source": [
    "from sklearn.naive_bayes import MultinomialNB\n",
    "from sklearn.linear_model import SGDClassifier\n",
    "from sklearn.linear_model import LogisticRegression\n",
    "from sklearn.multiclass import OneVsRestClassifier\n",
    "\n",
    "model = OneVsRestClassifier(LogisticRegression())\n",
    "\n",
    "model.fit(X_train, y_train)\n",
    "y_hat = model.predict(X_test)\n",
    "\n",
    "results = pd.DataFrame()\n",
    "\n",
    "results['true'] = y_test\n",
    "results['pred'] = y_hat\n",
    "\n",
    "accuracy_score(y_test, y_hat)"
   ]
  },
  {
   "cell_type": "code",
   "execution_count": null,
   "id": "79e1c1f2",
   "metadata": {},
   "outputs": [],
   "source": []
  },
  {
   "cell_type": "code",
   "execution_count": null,
   "id": "fa634706",
   "metadata": {},
   "outputs": [],
   "source": []
  },
  {
   "cell_type": "code",
   "execution_count": null,
   "id": "83447305",
   "metadata": {},
   "outputs": [],
   "source": [
    "isri_data['cluster_category'] = cluster_text(isri_data['sc:hasCategory'], 6)['cluster']\n",
    "isri_data.head(2)"
   ]
  },
  {
   "cell_type": "code",
   "execution_count": null,
   "id": "a08730d8",
   "metadata": {},
   "outputs": [],
   "source": [
    "isri_data['cluster_hasName'] = cluster_text(isri_data['pc:hasName'], 5)['cluster']\n",
    "isri_data.head(2)"
   ]
  },
  {
   "cell_type": "code",
   "execution_count": null,
   "id": "8e291fe5",
   "metadata": {},
   "outputs": [],
   "source": [
    " isri_data[isri_data['cluster_hasName'] == 1]"
   ]
  },
  {
   "cell_type": "code",
   "execution_count": null,
   "id": "58ed8c23",
   "metadata": {},
   "outputs": [],
   "source": []
  },
  {
   "cell_type": "code",
   "execution_count": null,
   "id": "0c6b0d4c",
   "metadata": {},
   "outputs": [],
   "source": [
    "from sklearn.feature_extraction.text import CountVectorizer\n",
    "from sklearn.feature_extraction.text import TfidfTransformer\n",
    "from sklearn.preprocessing import MultiLabelBinarizer\n",
    "\n",
    "df = pred_isComposedOf_df.copy()\n",
    "multilabel_binarizer = MultiLabelBinarizer()\n",
    "multilabel_binarizer.fit(df['sc:isComposedOf'])\n",
    "Y = multilabel_binarizer.transform(df['sc:isComposedOf'])\n",
    "\n",
    "count_vect = CountVectorizer()\n",
    "X_counts = count_vect.fit_transform(df['sc:hasCategory'])\n",
    "\n",
    "tfidf_transformer = TfidfTransformer()\n",
    "X_tfidf = tfidf_transformer.fit_transform(X_counts)\n"
   ]
  },
  {
   "cell_type": "code",
   "execution_count": null,
   "id": "2f11c100",
   "metadata": {},
   "outputs": [],
   "source": [
    "x_train_tfidf, x_test_tfidf, y_train_tfidf, y_test_tfidf = train_test_split(X_tfidf, Y, \n",
    "                    test_size=0.2, random_state=2)"
   ]
  },
  {
   "cell_type": "code",
   "execution_count": null,
   "id": "4fe4ba88",
   "metadata": {},
   "outputs": [],
   "source": [
    "from sklearn.naive_bayes import MultinomialNB\n",
    "from sklearn.linear_model import SGDClassifier\n",
    "from sklearn.linear_model import LogisticRegression\n",
    "from sklearn.multiclass import OneVsRestClassifier\n",
    "from sklearn.metrics import hamming_loss\n",
    "\n",
    "def hamming_score(y_true, y_pred, normalize=True, sample_weight=None):\n",
    "    '''\n",
    "    Compute the Hamming score (a.k.a. label-based accuracy) for the multi-label case\n",
    "    http://stackoverflow.com/q/32239577/395857\n",
    "    '''\n",
    "    acc_list = []\n",
    "    for i in range(y_true.shape[0]):\n",
    "        set_true = set( np.where(y_true[i])[0] )\n",
    "        set_pred = set( np.where(y_pred[i])[0] )\n",
    "        tmp_a = None\n",
    "        if len(set_true) == 0 and len(set_pred) == 0:\n",
    "            tmp_a = 1\n",
    "        else:\n",
    "            tmp_a = len(set_true.intersection(set_pred))/float(len(set_true.union(set_pred)) )\n",
    "        acc_list.append(tmp_a)\n",
    "    return np.mean(acc_list)\n",
    "\n",
    "def print_score(y_pred, clf):\n",
    "    print(\"Clf: \", clf.__class__.__name__)\n",
    "    print(\"Hamming loss: {}\".format(hamming_loss(y_pred, y_test_tfidf)))\n",
    "    print(\"Hamming score: {}\".format(hamming_score(y_pred, y_test_tfidf)))\n",
    "    print(\"Accuracy: {}\".format(accuracy_score(y_pred, y_test_tfidf)))\n",
    "    print(\"---\")    \n",
    "\n",
    "nb_clf = MultinomialNB()\n",
    "sgd = SGDClassifier(loss='hinge', penalty='l2', alpha=1e-3, random_state=42, max_iter=6, tol=None)\n",
    "lr = LogisticRegression()\n",
    "mn = MultinomialNB()\n",
    "\n",
    "for classifier in [nb_clf, sgd, lr, mn]:\n",
    "    clf = OneVsRestClassifier(classifier)\n",
    "    clf.fit(x_train_tfidf, y_train_tfidf)\n",
    "    y_pred = clf.predict(x_test_tfidf)\n",
    "    print_score(y_pred, classifier)"
   ]
  },
  {
   "cell_type": "code",
   "execution_count": null,
   "id": "8db9f959",
   "metadata": {},
   "outputs": [],
   "source": []
  },
  {
   "cell_type": "code",
   "execution_count": null,
   "id": "39fb819c",
   "metadata": {},
   "outputs": [],
   "source": []
  },
  {
   "cell_type": "code",
   "execution_count": null,
   "id": "ee975f81",
   "metadata": {},
   "outputs": [],
   "source": []
  },
  {
   "cell_type": "code",
   "execution_count": null,
   "id": "327a291b",
   "metadata": {},
   "outputs": [],
   "source": []
  },
  {
   "cell_type": "code",
   "execution_count": null,
   "id": "1bca9ede",
   "metadata": {},
   "outputs": [],
   "source": []
  },
  {
   "cell_type": "code",
   "execution_count": null,
   "id": "49807158",
   "metadata": {},
   "outputs": [],
   "source": []
  },
  {
   "cell_type": "code",
   "execution_count": null,
   "id": "283e3376",
   "metadata": {},
   "outputs": [],
   "source": []
  },
  {
   "cell_type": "markdown",
   "id": "fe567339",
   "metadata": {},
   "source": [
    "Keep only `anamets` with english description"
   ]
  },
  {
   "cell_type": "code",
   "execution_count": null,
   "id": "2759e8d4",
   "metadata": {},
   "outputs": [],
   "source": [
    "# Keep only anamets with english sc:descritpion\n",
    "import unicodedata as ud\n",
    "\n",
    "latin_letters= {}\n",
    "\n",
    "def is_latin(uchr):\n",
    "    try: return latin_letters[uchr]\n",
    "    except KeyError:\n",
    "         return latin_letters.setdefault(uchr, 'LATIN' in ud.name(uchr))\n",
    "\n",
    "def only_roman_chars(unistr):\n",
    "    return all(is_latin(uchr)\n",
    "           for uchr in unistr\n",
    "           if uchr.isalpha()) # isalpha suggested by John Machin\n",
    "\n",
    "e_description_index = []\n",
    "for row in range(len(anamet_data)):\n",
    "    if only_roman_chars(str(anamet_data['sc:description'].iloc[row])):\n",
    "        e_description_index.append(row)\n",
    "        \n",
    "anamet_data = anamet_data.iloc[e_description_index]"
   ]
  },
  {
   "cell_type": "code",
   "execution_count": null,
   "id": "425fe37a",
   "metadata": {},
   "outputs": [],
   "source": []
  },
  {
   "cell_type": "code",
   "execution_count": null,
   "id": "b64e083d",
   "metadata": {},
   "outputs": [],
   "source": []
  },
  {
   "cell_type": "code",
   "execution_count": null,
   "id": "f121d95f",
   "metadata": {},
   "outputs": [],
   "source": []
  },
  {
   "cell_type": "code",
   "execution_count": null,
   "id": "03710827",
   "metadata": {},
   "outputs": [],
   "source": [
    "uns_data.head(2)"
   ]
  },
  {
   "cell_type": "code",
   "execution_count": null,
   "id": "33897ffc",
   "metadata": {},
   "outputs": [],
   "source": [
    "isri_data.head(2)"
   ]
  },
  {
   "cell_type": "code",
   "execution_count": null,
   "id": "d4e5d004",
   "metadata": {},
   "outputs": [],
   "source": [
    "anamet_data.head(2)"
   ]
  },
  {
   "cell_type": "code",
   "execution_count": null,
   "id": "bf4aa0df",
   "metadata": {},
   "outputs": [],
   "source": [
    "print(uns_data.isna().sum(), '\\n')\n",
    "print(isri_data.isna().sum(), '\\n')\n",
    "print(anamet_data.isna().sum(), '\\n')"
   ]
  },
  {
   "cell_type": "code",
   "execution_count": null,
   "id": "f7ef8190",
   "metadata": {},
   "outputs": [],
   "source": [
    "anamet_data['sc:hasCategory'].value_counts()"
   ]
  },
  {
   "cell_type": "code",
   "execution_count": null,
   "id": "1f03d8ff",
   "metadata": {},
   "outputs": [],
   "source": [
    "isri_data"
   ]
  },
  {
   "cell_type": "code",
   "execution_count": null,
   "id": "54bdb6c8",
   "metadata": {},
   "outputs": [],
   "source": [
    "isri_data['sc:isProcessedBy'].value_counts()"
   ]
  },
  {
   "cell_type": "code",
   "execution_count": null,
   "id": "02bb0a37",
   "metadata": {},
   "outputs": [],
   "source": [
    "isri_for_ml = isri_data.drop(columns=['isri id', 'pc:hasName', 'sc:isProcessedBy'])"
   ]
  },
  {
   "cell_type": "markdown",
   "id": "d3440e08",
   "metadata": {},
   "source": [
    "# NLP"
   ]
  },
  {
   "cell_type": "code",
   "execution_count": null,
   "id": "72dba6fd",
   "metadata": {},
   "outputs": [],
   "source": []
  },
  {
   "cell_type": "markdown",
   "id": "fe567339",
   "metadata": {},
   "source": [
    "Keep only `anamets` with english description"
   ]
  },
  {
   "cell_type": "markdown",
   "id": "314a1d00",
   "metadata": {},
   "source": [
    "## ANAMET `anamet_data`"
   ]
  },
  {
   "cell_type": "code",
   "execution_count": null,
   "id": "a2c80d99",
   "metadata": {},
   "outputs": [],
   "source": [
    "# Keep only anamets with english sc:descritpion\n",
    "import unicodedata as ud\n",
    "\n",
    "latin_letters= {}\n",
    "\n",
    "def is_latin(uchr):\n",
    "    try: return latin_letters[uchr]\n",
    "    except KeyError:\n",
    "         return latin_letters.setdefault(uchr, 'LATIN' in ud.name(uchr))\n",
    "\n",
    "def only_roman_chars(unistr):\n",
    "    return all(is_latin(uchr)\n",
    "           for uchr in unistr\n",
    "           if uchr.isalpha()) # isalpha suggested by John Machin\n",
    "\n",
    "e_description_index = []\n",
    "for row in range(len(anamet_data)):\n",
    "    if only_roman_chars(str(anamet_data['sc:description'].iloc[row])):\n",
    "        e_description_index.append(row)\n",
    "        \n",
    "anamet_data = anamet_data.iloc[e_description_index]\n",
    "anamet_data"
   ]
  },
  {
   "cell_type": "markdown",
   "id": "857b2897",
   "metadata": {},
   "source": [
    "Preprocess text data using `gensim.utils.simple_preprocess()`"
   ]
  },
  {
   "cell_type": "code",
   "execution_count": null,
   "id": "c16128a0",
   "metadata": {},
   "outputs": [],
   "source": [
    "anamet_data['sc:description'] = anamet_data['sc:description'].apply(simple_preprocess)\n",
    "anamet_data.head(2)"
   ]
  },
  {
   "cell_type": "markdown",
   "id": "202e7f09",
   "metadata": {},
   "source": [
    "Delete word `scrap` and `for` from description"
   ]
  },
  {
   "cell_type": "code",
   "execution_count": null,
   "id": "e8142bcf",
   "metadata": {},
   "outputs": [],
   "source": [
    "# Delete word scrap\n",
    "for i in range(len(anamet_data)):\n",
    "    if 'scrap' in anamet_data['sc:description'].iloc[i]:\n",
    "        anamet_data['sc:description'].iloc[i].remove('scrap')\n",
    "    if 'for' in anamet_data['sc:description'].iloc[i]:\n",
    "        anamet_data['sc:description'].iloc[i].remove('for')"
   ]
  },
  {
   "cell_type": "code",
   "execution_count": null,
   "id": "e56e6f67",
   "metadata": {},
   "outputs": [],
   "source": [
    "anamet_data.head(2)"
   ]
  },
  {
   "cell_type": "markdown",
   "id": "3b490d1b-0ed2-4a65-bd3d-b1d0fdb99d5d",
   "metadata": {},
   "source": [
    "## UNS `uns_data`"
   ]
  },
  {
   "cell_type": "code",
   "execution_count": null,
   "id": "0a14099a",
   "metadata": {},
   "outputs": [],
   "source": [
    "uns_data['hasName'] = uns_data['hasName'].apply(simple_preprocess)\n",
    "uns_data.head(2)"
   ]
  },
  {
   "cell_type": "markdown",
   "id": "2d58c227",
   "metadata": {},
   "source": [
    "Θέλουμε να συσχετίσουμε τα `anamet` με τα `uns`. Οι μόνες πληροφορίες που έχουμε (features) είναι το `sc:description` και `hasName`. Θα εφαρμόσουμε NLP και ειδικότερα Word2Vec για ομοιότητες μεταξύ των texts."
   ]
  },
  {
   "cell_type": "code",
   "execution_count": null,
   "id": "a6434f33",
   "metadata": {},
   "outputs": [],
   "source": [
    "print(anamet_data['anamet entity'].nunique(), \"unique anamet ids\")\n",
    "print(uns_data['uns id'].nunique(), \"unique uns ids\")"
   ]
  },
  {
   "cell_type": "markdown",
   "id": "3ee04c03",
   "metadata": {},
   "source": [
    "## ISRI `isri_data`"
   ]
  },
  {
   "cell_type": "code",
   "execution_count": null,
   "id": "c2dbdb1d",
   "metadata": {},
   "outputs": [],
   "source": [
    "isri_data.head(2)"
   ]
  },
  {
   "cell_type": "code",
   "execution_count": null,
   "id": "6bacff12",
   "metadata": {},
   "outputs": [],
   "source": [
    "isri_data.drop(columns=['sc:isComposedOf', 'sc:isProcessedBy'], inplace=True)"
   ]
  },
  {
   "cell_type": "code",
   "execution_count": null,
   "id": "218bd21e",
   "metadata": {},
   "outputs": [],
   "source": [
    "isri_data.isna().sum()\n"
   ]
  },
  {
   "cell_type": "code",
   "execution_count": null,
   "id": "1519ac9f",
   "metadata": {},
   "outputs": [],
   "source": [
    "isri_data.fillna('nan', inplace=True)\n",
    "isri_data.isna().sum()"
   ]
  },
  {
   "cell_type": "code",
   "execution_count": null,
   "id": "a612a9f5",
   "metadata": {},
   "outputs": [],
   "source": [
    "isri_data['sc:hasCategory'] = isri_data['sc:hasCategory'].apply(simple_preprocess)\n",
    "isri_data['sc:hasForm'] = isri_data['sc:hasForm'].apply(simple_preprocess)\n",
    "isri_data['sc:isFreeFrom'] = isri_data['sc:isFreeFrom'].apply(simple_preprocess)\n",
    "isri_data['sc:contains'] = isri_data['sc:contains'].apply(simple_preprocess)\n",
    "isri_data['sc:hasISRICode'] = isri_data['sc:hasISRICode'].astype(str).apply(simple_preprocess)\n",
    "isri_data['sc:hasSpecification'] = isri_data['sc:hasSpecification'].apply(simple_preprocess)\n",
    "isri_data['pc:hasName'] = isri_data['pc:hasName'].apply(simple_preprocess)"
   ]
  },
  {
   "cell_type": "code",
   "execution_count": null,
   "id": "8ffc013b",
   "metadata": {},
   "outputs": [],
   "source": [
    "isri_data.head(3)"
   ]
  },
  {
   "cell_type": "markdown",
   "id": "202e7f09",
   "metadata": {},
   "source": [
    "Delete word `scrap` and `for` from description"
   ]
  },
  {
   "cell_type": "code",
   "execution_count": null,
   "id": "e8142bcf",
   "metadata": {},
   "outputs": [],
   "source": [
    "# Delete word scrap\n",
    "for i in range(len(isri_data)):\n",
    "    if 'scrap' in isri_data['sc:hasCategory'].iloc[i]:\n",
    "        \n",
    "        isri_data['sc:hasCategory'].iloc[i].remove('scrap')"
   ]
  },
  {
   "cell_type": "code",
   "execution_count": null,
   "id": "1bd83f0c",
   "metadata": {},
   "outputs": [],
   "source": []
  },
  {
   "cell_type": "markdown",
   "id": "93687c25",
   "metadata": {},
   "source": [
    "### Try Word2Vec stuff"
   ]
  },
  {
   "cell_type": "code",
   "execution_count": null,
   "id": "84a7da02",
   "metadata": {},
   "outputs": [],
   "source": [
    "import gensim\n",
    "import gensim.downloader\n",
    "\n",
    "# for model_name in list(gensim.downloader.info()['models'].keys()):\n",
    "    # print(model_name)\n",
    "    \n",
    "model_pretrained = gensim.downloader.load('glove-twitter-25')\n",
    "print(model_pretrained)"
   ]
  },
  {
   "cell_type": "code",
   "execution_count": null,
   "id": "890cc31d",
   "metadata": {},
   "outputs": [],
   "source": [
    "# NLP preprocess\n",
    "from gensim.utils import simple_preprocess\n",
    "from gensim.models import Word2Vec\n",
    "\n",
    "description = anamet_data['sc:description']\n",
    "description\n",
    "\n",
    "model_anamet = Word2Vec(min_count=1, \n",
    "                 vector_size=25, \n",
    "                 workers=4, \n",
    "                 window=2, \n",
    "                 sg=1)\n",
    "\n",
    "model_anamet.build_vocab(description)\n",
    "model_anamet.train(description, total_examples=model_anamet.corpus_count,\n",
    "           epochs=500)\n",
    "print(model_anamet)"
   ]
  },
  {
   "cell_type": "markdown",
   "id": "3ada8b03",
   "metadata": {},
   "source": [
    "#### Test example"
   ]
  },
  {
   "cell_type": "code",
   "execution_count": null,
   "id": "f9213f5e",
   "metadata": {},
   "outputs": [],
   "source": [
    "test_anamet = anamet_data.iloc[120]\n",
    "print(test_anamet)\n",
    "print('\\n')\n",
    "print(test_anamet['sc:description'])"
   ]
  },
  {
   "cell_type": "code",
   "execution_count": null,
   "id": "710e2fca",
   "metadata": {},
   "outputs": [],
   "source": [
    "uns_data"
   ]
  },
  {
   "cell_type": "code",
   "execution_count": null,
   "id": "49af2bd9",
   "metadata": {},
   "outputs": [],
   "source": [
    "for row in range(len(uns_data)):\n",
    "    w1 = uns_data['hasName'].iloc[row][0]\n",
    "    w2 = 'copper'\n",
    "    try:\n",
    "        sim = model_anamet.wv.similarity(w1, w2)\n",
    "    except KeyError:\n",
    "        sim = model_pretrained.similarity(w1, w2)\n",
    "    if sim >= .7: print(w1, w2, sim, uns_data['uns id'].iloc[row])"
   ]
  },
  {
   "cell_type": "code",
   "execution_count": null,
   "id": "77636642",
   "metadata": {},
   "outputs": [],
   "source": [
    "model_anamet.wv.similarity('tin', test_anamet['sc:description'][0])"
   ]
  },
  {
   "cell_type": "code",
   "execution_count": null,
   "id": "153d6c50",
   "metadata": {},
   "outputs": [],
   "source": [
    "model_pretrained.similarity('tin', test_anamet['sc:description'][0])"
   ]
  },
  {
   "cell_type": "code",
   "execution_count": null,
   "id": "d105edf1",
   "metadata": {},
   "outputs": [],
   "source": [
    "anamet_data['sc:description']"
   ]
  },
  {
   "cell_type": "code",
   "execution_count": null,
   "id": "4c2d4bae-8e70-4714-bed8-1a5ee0f16c36",
   "metadata": {},
   "outputs": [],
   "source": [
    "for row in range(200, 250):\n",
    "    w1 = uns_data['hasName'].iloc[row][0]\n",
    "    \n",
    "    for j in range(3):\n",
    "        try:\n",
    "            w2 = anamet_data['sc:description'].iloc[j]\n",
    "            print(w1, w2[0], model.similarity(w1, w2[0]))\n",
    "        except KeyError:\n",
    "            continue"
   ]
  },
  {
   "cell_type": "code",
   "execution_count": null,
   "id": "26791d7e-db74-4a7f-9399-1e63cfd28103",
   "metadata": {},
   "outputs": [],
   "source": []
  },
  {
   "cell_type": "code",
   "execution_count": null,
   "id": "f4b568fe-6826-425f-b138-cea62d2cd46e",
   "metadata": {},
   "outputs": [],
   "source": []
  },
  {
   "cell_type": "markdown",
   "id": "0b25a362",
   "metadata": {},
   "source": [
    "# Clustering elements_data"
   ]
  },
  {
   "cell_type": "code",
   "execution_count": null,
   "id": "b40129ce",
   "metadata": {},
   "outputs": [],
   "source": [
    "from gensim.utils import simple_preprocess\n",
    "\n",
    "elements_data_df = elements_data[['ar', 'atomicNumber', 'density', 'meltingPoint', 'hasName']]\n",
    "elements_data_df['hasName'] = elements_data_df['hasName'].apply(simple_preprocess)\n",
    "elements_data_df.head(2)"
   ]
  },
  {
   "cell_type": "code",
   "execution_count": null,
   "id": "f46fe628",
   "metadata": {},
   "outputs": [],
   "source": [
    "print(elements_data.shape)\n",
    "print(elements_data['hasName'].nunique())"
   ]
  },
  {
   "cell_type": "code",
   "execution_count": null,
   "id": "9b101f16",
   "metadata": {},
   "outputs": [],
   "source": [
    "elements_data.isna().sum()"
   ]
  },
  {
   "cell_type": "code",
   "execution_count": null,
   "id": "16129281",
   "metadata": {
    "scrolled": true
   },
   "outputs": [],
   "source": [
    "from sklearn.preprocessing import LabelEncoder\n",
    "\n",
    "label_enc = LabelEncoder()\n",
    "\n",
    "elements_data_df['hasName_id'] = label_enc.fit_transform(elements_data['hasName'])\n",
    "elements_data_df.head(2)"
   ]
  },
  {
   "cell_type": "code",
   "execution_count": null,
   "id": "6d82bc56",
   "metadata": {},
   "outputs": [],
   "source": [
    "from sklearn.cluster import KMeans\n",
    "\n",
    "df = elements_data_df.drop('hasName', axis=1).copy()\n",
    "\n",
    "distortions = []\n",
    "K = range(1,18)\n",
    "for k in K:\n",
    "    kmeanModel = KMeans(n_clusters=k)\n",
    "    kmeanModel.fit(df)\n",
    "    distortions.append(kmeanModel.inertia_)\n",
    "\n",
    "plt.figure(figsize=(8,6))\n",
    "plt.plot(K, distortions, 'bx-')\n",
    "plt.xlabel('k')\n",
    "plt.ylabel('Distortion')\n",
    "plt.title('The Elbow Method showing the optimal k')\n",
    "plt.show()"
   ]
  },
  {
   "cell_type": "code",
   "execution_count": null,
   "id": "77d63a47",
   "metadata": {},
   "outputs": [],
   "source": [
    "opt_k = 3\n",
    "kmeans = KMeans(n_clusters=opt_k)\n",
    "kmeans.fit(df)"
   ]
  },
  {
   "cell_type": "code",
   "execution_count": null,
   "id": "8c68d845",
   "metadata": {},
   "outputs": [],
   "source": [
    "elements_data_df['cluster'] = kmeans.predict(df)\n",
    "elements_data_df.head()"
   ]
  },
  {
   "cell_type": "code",
   "execution_count": null,
   "id": "b37ece1e",
   "metadata": {},
   "outputs": [],
   "source": [
    "elements_data_df[elements_data_df['cluster'] == 0]"
   ]
  },
  {
   "cell_type": "code",
   "execution_count": null,
   "id": "b59fc8b5",
   "metadata": {},
   "outputs": [],
   "source": [
    "elements_data_df[elements_data_df['cluster'] == 1]"
   ]
  },
  {
   "cell_type": "code",
   "execution_count": null,
   "id": "d27cec01",
   "metadata": {},
   "outputs": [],
   "source": []
  },
  {
   "cell_type": "code",
   "execution_count": null,
   "id": "9b937191",
   "metadata": {},
   "outputs": [],
   "source": []
  }
 ],
 "metadata": {
  "kernelspec": {
   "display_name": "Python 3.9.10 ('main-bio')",
   "language": "python",
   "name": "python3"
  },
  "language_info": {
   "codemirror_mode": {
    "name": "ipython",
    "version": 3
   },
   "file_extension": ".py",
   "mimetype": "text/x-python",
   "name": "python",
   "nbconvert_exporter": "python",
   "pygments_lexer": "ipython3",
   "version": "3.9.10"
  },
  "vscode": {
   "interpreter": {
    "hash": "c6c04a7e252f45ffc2f7191e380805b6a5dd99aa68793d835f69a35c16ce4a30"
   }
  }
 },
 "nbformat": 4,
 "nbformat_minor": 5
}
