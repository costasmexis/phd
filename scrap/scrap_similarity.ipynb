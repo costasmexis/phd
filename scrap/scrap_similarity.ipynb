{
 "cells": [
  {
   "cell_type": "markdown",
   "id": "0cf57602-125b-4b81-a94d-b5010df11e76",
   "metadata": {},
   "source": [
    "# Import libraries"
   ]
  },
  {
   "cell_type": "code",
   "execution_count": 1,
   "id": "45c7e20b-c57f-4e13-b77e-11572f9e6409",
   "metadata": {},
   "outputs": [],
   "source": [
    "import pandas as pd\n",
    "import numpy as np\n",
    "import matplotlib.pyplot as plt  \n",
    "import scipy\n",
    "\n",
    "from sklearn.preprocessing import LabelEncoder\n",
    "\n",
    "from tqdm import tqdm\n",
    "\n",
    "import matplotlib.pyplot as plt\n",
    "\n",
    "from sklearn.model_selection import train_test_split\n",
    "from sklearn.feature_extraction.text import TfidfVectorizer\n",
    "from sklearn.naive_bayes import MultinomialNB\n",
    "from sklearn.metrics import accuracy_score\n",
    "from sklearn.multiclass import OneVsRestClassifier\n",
    "from nltk.corpus import stopwords\n",
    "stop_words = set(stopwords.words('english'))\n",
    "from sklearn.svm import LinearSVC\n",
    "from sklearn.linear_model import LogisticRegression\n",
    "from sklearn.pipeline import Pipeline\n",
    "import seaborn as sns\n",
    "\n",
    "import nltk\n",
    "from nltk.corpus import stopwords\n",
    "from sklearn.feature_extraction.text import TfidfVectorizer\n",
    "from sklearn.cluster import KMeans\n",
    "from sklearn.decomposition import PCA"
   ]
  },
  {
   "cell_type": "markdown",
   "id": "72776f13",
   "metadata": {},
   "source": [
    "# Read updated *Nikos* data"
   ]
  },
  {
   "cell_type": "code",
   "execution_count": 2,
   "id": "d5cd106c",
   "metadata": {},
   "outputs": [
    {
     "data": {
      "text/plain": [
       "['ANAMET',\n",
       " 'Anamet data',\n",
       " 'ISRI',\n",
       " 'Isri data',\n",
       " 'UNS data',\n",
       " 'Elements data',\n",
       " 'Material data',\n",
       " 'Process']"
      ]
     },
     "execution_count": 2,
     "metadata": {},
     "output_type": "execute_result"
    }
   ],
   "source": [
    "xls = pd.ExcelFile('data/edited_nikos_data.xlsx')\n",
    "xls.sheet_names"
   ]
  },
  {
   "cell_type": "code",
   "execution_count": 5,
   "id": "87cde166",
   "metadata": {},
   "outputs": [],
   "source": [
    "uns_data = pd.read_excel(xls, 'UNS data')\n",
    "\n",
    "uns_data.rename(columns = {'sc:isComposedOf':'elements id'}, inplace = True)\n",
    "\n",
    "elements_data = pd.read_excel(xls, 'Elements data')\n",
    "\n",
    "uns_data = pd.merge(uns_data, elements_data, how='inner', on = 'elements id')\n",
    "isri_data = pd.read_excel(xls, 'Isri data')\n",
    "anamet_data = pd.read_excel(xls, 'Anamet data')\n",
    "material_data = pd.read_excel(xls, 'Material data')\n",
    "elements_data = pd.read_excel(xls, 'Elements data')"
   ]
  },
  {
   "cell_type": "code",
   "execution_count": 6,
   "id": "b3ab523a",
   "metadata": {},
   "outputs": [
    {
     "data": {
      "text/html": [
       "<div>\n",
       "<style scoped>\n",
       "    .dataframe tbody tr th:only-of-type {\n",
       "        vertical-align: middle;\n",
       "    }\n",
       "\n",
       "    .dataframe tbody tr th {\n",
       "        vertical-align: top;\n",
       "    }\n",
       "\n",
       "    .dataframe thead th {\n",
       "        text-align: right;\n",
       "    }\n",
       "</style>\n",
       "<table border=\"1\" class=\"dataframe\">\n",
       "  <thead>\n",
       "    <tr style=\"text-align: right;\">\n",
       "      <th></th>\n",
       "      <th>isri id</th>\n",
       "      <th>sc:hasCategory</th>\n",
       "      <th>sc:hasForm</th>\n",
       "      <th>sc:isFreeFrom</th>\n",
       "      <th>sc:contains</th>\n",
       "      <th>sc:hasISRICode</th>\n",
       "      <th>sc:hasSpecification</th>\n",
       "      <th>pc:hasName</th>\n",
       "      <th>sc:isComposedOf</th>\n",
       "      <th>sc:isProcessedBy</th>\n",
       "    </tr>\n",
       "  </thead>\n",
       "  <tbody>\n",
       "    <tr>\n",
       "      <th>0</th>\n",
       "      <td>sc:ISRI_0</td>\n",
       "      <td>Nonferrous Scrap - Red Metals</td>\n",
       "      <td>Wire</td>\n",
       "      <td>NaN</td>\n",
       "      <td>Copper</td>\n",
       "      <td>Berry</td>\n",
       "      <td>Bare, Uncoated, Unalloyed</td>\n",
       "      <td>No. 1 Copper Wire</td>\n",
       "      <td>sc:Material_249</td>\n",
       "      <td>sc:Process_257</td>\n",
       "    </tr>\n",
       "    <tr>\n",
       "      <th>1</th>\n",
       "      <td>sc:ISRI_1</td>\n",
       "      <td>Nonferrous Scrap - Red Metals</td>\n",
       "      <td>Wire and Cable</td>\n",
       "      <td>Brittle Burnt Wire, Copper Tubing</td>\n",
       "      <td>Copper</td>\n",
       "      <td>Barley</td>\n",
       "      <td>Clean, Untinned, Uncoated, Unalloyed</td>\n",
       "      <td>No. 1 Copper Wire</td>\n",
       "      <td>sc:Material_249</td>\n",
       "      <td>sc:Process_257</td>\n",
       "    </tr>\n",
       "  </tbody>\n",
       "</table>\n",
       "</div>"
      ],
      "text/plain": [
       "     isri id                 sc:hasCategory      sc:hasForm  \\\n",
       "0  sc:ISRI_0  Nonferrous Scrap - Red Metals            Wire   \n",
       "1  sc:ISRI_1  Nonferrous Scrap - Red Metals  Wire and Cable   \n",
       "\n",
       "                       sc:isFreeFrom sc:contains sc:hasISRICode  \\\n",
       "0                                NaN      Copper          Berry   \n",
       "1  Brittle Burnt Wire, Copper Tubing      Copper         Barley   \n",
       "\n",
       "                    sc:hasSpecification         pc:hasName  sc:isComposedOf  \\\n",
       "0             Bare, Uncoated, Unalloyed  No. 1 Copper Wire  sc:Material_249   \n",
       "1  Clean, Untinned, Uncoated, Unalloyed  No. 1 Copper Wire  sc:Material_249   \n",
       "\n",
       "  sc:isProcessedBy  \n",
       "0   sc:Process_257  \n",
       "1   sc:Process_257  "
      ]
     },
     "execution_count": 6,
     "metadata": {},
     "output_type": "execute_result"
    }
   ],
   "source": [
    "isri_data.head(2)"
   ]
  },
  {
   "cell_type": "code",
   "execution_count": 7,
   "id": "80fdedf3",
   "metadata": {},
   "outputs": [
    {
     "data": {
      "text/html": [
       "<div>\n",
       "<style scoped>\n",
       "    .dataframe tbody tr th:only-of-type {\n",
       "        vertical-align: middle;\n",
       "    }\n",
       "\n",
       "    .dataframe tbody tr th {\n",
       "        vertical-align: top;\n",
       "    }\n",
       "\n",
       "    .dataframe thead th {\n",
       "        text-align: right;\n",
       "    }\n",
       "</style>\n",
       "<table border=\"1\" class=\"dataframe\">\n",
       "  <thead>\n",
       "    <tr style=\"text-align: right;\">\n",
       "      <th></th>\n",
       "      <th>anamet entity</th>\n",
       "      <th>sc:description</th>\n",
       "      <th>sc:hasCategory</th>\n",
       "      <th>sc:internal_code</th>\n",
       "      <th>sc:isProcessedBy</th>\n",
       "    </tr>\n",
       "  </thead>\n",
       "  <tbody>\n",
       "    <tr>\n",
       "      <th>0</th>\n",
       "      <td>sc:ANAMET_437</td>\n",
       "      <td>ΣΚΡΑΠ ΨΑΛΙΔΙΣΜΕΝΟ ΠΥΚΝ &gt;450 ΚG/M3 (ΥΛΗ)</td>\n",
       "      <td>Ferrous</td>\n",
       "      <td>40000</td>\n",
       "      <td>sc:Process_690</td>\n",
       "    </tr>\n",
       "    <tr>\n",
       "      <th>1</th>\n",
       "      <td>sc:ANAMET_438</td>\n",
       "      <td>άγνωστο</td>\n",
       "      <td>Ferrous</td>\n",
       "      <td>9000</td>\n",
       "      <td>NaN</td>\n",
       "    </tr>\n",
       "  </tbody>\n",
       "</table>\n",
       "</div>"
      ],
      "text/plain": [
       "   anamet entity                           sc:description sc:hasCategory  \\\n",
       "0  sc:ANAMET_437  ΣΚΡΑΠ ΨΑΛΙΔΙΣΜΕΝΟ ΠΥΚΝ >450 ΚG/M3 (ΥΛΗ)        Ferrous   \n",
       "1  sc:ANAMET_438                                  άγνωστο        Ferrous   \n",
       "\n",
       "   sc:internal_code sc:isProcessedBy  \n",
       "0             40000   sc:Process_690  \n",
       "1              9000              NaN  "
      ]
     },
     "execution_count": 7,
     "metadata": {},
     "output_type": "execute_result"
    }
   ],
   "source": [
    "anamet_data.head(2)"
   ]
  },
  {
   "cell_type": "code",
   "execution_count": 8,
   "id": "ba0d9d75",
   "metadata": {},
   "outputs": [
    {
     "data": {
      "text/html": [
       "<div>\n",
       "<style scoped>\n",
       "    .dataframe tbody tr th:only-of-type {\n",
       "        vertical-align: middle;\n",
       "    }\n",
       "\n",
       "    .dataframe tbody tr th {\n",
       "        vertical-align: top;\n",
       "    }\n",
       "\n",
       "    .dataframe thead th {\n",
       "        text-align: right;\n",
       "    }\n",
       "</style>\n",
       "<table border=\"1\" class=\"dataframe\">\n",
       "  <thead>\n",
       "    <tr style=\"text-align: right;\">\n",
       "      <th></th>\n",
       "      <th>uns id</th>\n",
       "      <th>sc:hasName</th>\n",
       "      <th>elements id</th>\n",
       "      <th>ar</th>\n",
       "      <th>atomicNumber</th>\n",
       "      <th>density</th>\n",
       "      <th>meltingPoint</th>\n",
       "      <th>hasName</th>\n",
       "      <th>symbol</th>\n",
       "    </tr>\n",
       "  </thead>\n",
       "  <tbody>\n",
       "    <tr>\n",
       "      <th>0</th>\n",
       "      <td>sc:UNS_712</td>\n",
       "      <td>C83300</td>\n",
       "      <td>sc:Elements_329</td>\n",
       "      <td>207.2</td>\n",
       "      <td>82</td>\n",
       "      <td>11.29</td>\n",
       "      <td>327.5</td>\n",
       "      <td>LEAD</td>\n",
       "      <td>Pb</td>\n",
       "    </tr>\n",
       "    <tr>\n",
       "      <th>1</th>\n",
       "      <td>sc:UNS_733</td>\n",
       "      <td>C84500</td>\n",
       "      <td>sc:Elements_329</td>\n",
       "      <td>207.2</td>\n",
       "      <td>82</td>\n",
       "      <td>11.29</td>\n",
       "      <td>327.5</td>\n",
       "      <td>LEAD</td>\n",
       "      <td>Pb</td>\n",
       "    </tr>\n",
       "  </tbody>\n",
       "</table>\n",
       "</div>"
      ],
      "text/plain": [
       "       uns id sc:hasName      elements id     ar  atomicNumber  density  \\\n",
       "0  sc:UNS_712     C83300  sc:Elements_329  207.2            82    11.29   \n",
       "1  sc:UNS_733     C84500  sc:Elements_329  207.2            82    11.29   \n",
       "\n",
       "   meltingPoint hasName symbol  \n",
       "0         327.5    LEAD     Pb  \n",
       "1         327.5    LEAD     Pb  "
      ]
     },
     "execution_count": 8,
     "metadata": {},
     "output_type": "execute_result"
    }
   ],
   "source": [
    "uns_data.head(2)"
   ]
  },
  {
   "cell_type": "markdown",
   "id": "d17d2cce",
   "metadata": {},
   "source": [
    "# Create `df` using `anamet` and `isri`"
   ]
  },
  {
   "cell_type": "markdown",
   "id": "b8b023e0",
   "metadata": {},
   "source": [
    "Προσπάθεια classifiaction ενός δοθέντος scap σε anamet / isri δεδομένου ενός description"
   ]
  },
  {
   "cell_type": "markdown",
   "id": "eb262c79",
   "metadata": {},
   "source": [
    "### Raw data preprocessing"
   ]
  },
  {
   "cell_type": "markdown",
   "id": "ce9fa248",
   "metadata": {},
   "source": [
    "#### `ISRI`"
   ]
  },
  {
   "cell_type": "code",
   "execution_count": 9,
   "id": "ab145ffc",
   "metadata": {},
   "outputs": [
    {
     "data": {
      "text/html": [
       "<div>\n",
       "<style scoped>\n",
       "    .dataframe tbody tr th:only-of-type {\n",
       "        vertical-align: middle;\n",
       "    }\n",
       "\n",
       "    .dataframe tbody tr th {\n",
       "        vertical-align: top;\n",
       "    }\n",
       "\n",
       "    .dataframe thead th {\n",
       "        text-align: right;\n",
       "    }\n",
       "</style>\n",
       "<table border=\"1\" class=\"dataframe\">\n",
       "  <thead>\n",
       "    <tr style=\"text-align: right;\">\n",
       "      <th></th>\n",
       "      <th>isri id</th>\n",
       "      <th>sc:hasCategory</th>\n",
       "      <th>sc:hasForm</th>\n",
       "      <th>sc:isFreeFrom</th>\n",
       "      <th>sc:contains</th>\n",
       "      <th>sc:hasISRICode</th>\n",
       "      <th>sc:hasSpecification</th>\n",
       "      <th>pc:hasName</th>\n",
       "      <th>sc:isComposedOf</th>\n",
       "      <th>sc:isProcessedBy</th>\n",
       "    </tr>\n",
       "  </thead>\n",
       "  <tbody>\n",
       "    <tr>\n",
       "      <th>0</th>\n",
       "      <td>sc:ISRI_0</td>\n",
       "      <td>Nonferrous Scrap - Red Metals</td>\n",
       "      <td>Wire</td>\n",
       "      <td>NaN</td>\n",
       "      <td>Copper</td>\n",
       "      <td>Berry</td>\n",
       "      <td>Bare, Uncoated, Unalloyed</td>\n",
       "      <td>No. 1 Copper Wire</td>\n",
       "      <td>sc:Material_249</td>\n",
       "      <td>sc:Process_257</td>\n",
       "    </tr>\n",
       "    <tr>\n",
       "      <th>1</th>\n",
       "      <td>sc:ISRI_1</td>\n",
       "      <td>Nonferrous Scrap - Red Metals</td>\n",
       "      <td>Wire and Cable</td>\n",
       "      <td>Brittle Burnt Wire, Copper Tubing</td>\n",
       "      <td>Copper</td>\n",
       "      <td>Barley</td>\n",
       "      <td>Clean, Untinned, Uncoated, Unalloyed</td>\n",
       "      <td>No. 1 Copper Wire</td>\n",
       "      <td>sc:Material_249</td>\n",
       "      <td>sc:Process_257</td>\n",
       "    </tr>\n",
       "  </tbody>\n",
       "</table>\n",
       "</div>"
      ],
      "text/plain": [
       "     isri id                 sc:hasCategory      sc:hasForm  \\\n",
       "0  sc:ISRI_0  Nonferrous Scrap - Red Metals            Wire   \n",
       "1  sc:ISRI_1  Nonferrous Scrap - Red Metals  Wire and Cable   \n",
       "\n",
       "                       sc:isFreeFrom sc:contains sc:hasISRICode  \\\n",
       "0                                NaN      Copper          Berry   \n",
       "1  Brittle Burnt Wire, Copper Tubing      Copper         Barley   \n",
       "\n",
       "                    sc:hasSpecification         pc:hasName  sc:isComposedOf  \\\n",
       "0             Bare, Uncoated, Unalloyed  No. 1 Copper Wire  sc:Material_249   \n",
       "1  Clean, Untinned, Uncoated, Unalloyed  No. 1 Copper Wire  sc:Material_249   \n",
       "\n",
       "  sc:isProcessedBy  \n",
       "0   sc:Process_257  \n",
       "1   sc:Process_257  "
      ]
     },
     "execution_count": 9,
     "metadata": {},
     "output_type": "execute_result"
    }
   ],
   "source": [
    "isri_data.head(2)"
   ]
  },
  {
   "cell_type": "code",
   "execution_count": 10,
   "id": "b5ddb481",
   "metadata": {},
   "outputs": [
    {
     "data": {
      "text/plain": [
       "(244, 10)"
      ]
     },
     "execution_count": 10,
     "metadata": {},
     "output_type": "execute_result"
    }
   ],
   "source": [
    "isri_data.shape"
   ]
  },
  {
   "cell_type": "code",
   "execution_count": 11,
   "id": "4b0ba9bd",
   "metadata": {},
   "outputs": [],
   "source": [
    "isri_data = isri_data[['isri id', 'sc:hasCategory', 'sc:hasForm', 'sc:hasSpecification', 'sc:contains', 'pc:hasName']]"
   ]
  },
  {
   "cell_type": "code",
   "execution_count": 12,
   "id": "166dc78c",
   "metadata": {},
   "outputs": [
    {
     "data": {
      "text/plain": [
       "isri id                 0\n",
       "sc:hasCategory          0\n",
       "sc:hasForm             43\n",
       "sc:hasSpecification    12\n",
       "sc:contains            68\n",
       "pc:hasName              7\n",
       "dtype: int64"
      ]
     },
     "execution_count": 12,
     "metadata": {},
     "output_type": "execute_result"
    }
   ],
   "source": [
    "isri_data.isna().sum()"
   ]
  },
  {
   "cell_type": "code",
   "execution_count": 13,
   "id": "f117c17e",
   "metadata": {},
   "outputs": [
    {
     "data": {
      "text/html": [
       "<div>\n",
       "<style scoped>\n",
       "    .dataframe tbody tr th:only-of-type {\n",
       "        vertical-align: middle;\n",
       "    }\n",
       "\n",
       "    .dataframe tbody tr th {\n",
       "        vertical-align: top;\n",
       "    }\n",
       "\n",
       "    .dataframe thead th {\n",
       "        text-align: right;\n",
       "    }\n",
       "</style>\n",
       "<table border=\"1\" class=\"dataframe\">\n",
       "  <thead>\n",
       "    <tr style=\"text-align: right;\">\n",
       "      <th></th>\n",
       "      <th>isri id</th>\n",
       "      <th>sc:hasCategory</th>\n",
       "      <th>sc:hasForm</th>\n",
       "      <th>sc:hasSpecification</th>\n",
       "      <th>sc:contains</th>\n",
       "      <th>pc:hasName</th>\n",
       "    </tr>\n",
       "  </thead>\n",
       "  <tbody>\n",
       "    <tr>\n",
       "      <th>0</th>\n",
       "      <td>sc:ISRI_0</td>\n",
       "      <td>nonferrous scrap red metals</td>\n",
       "      <td>wire</td>\n",
       "      <td>bare uncoated unalloyed</td>\n",
       "      <td>copper</td>\n",
       "      <td>copper wire</td>\n",
       "    </tr>\n",
       "    <tr>\n",
       "      <th>1</th>\n",
       "      <td>sc:ISRI_1</td>\n",
       "      <td>nonferrous scrap red metals</td>\n",
       "      <td>wire cable</td>\n",
       "      <td>clean untinned uncoated unalloyed</td>\n",
       "      <td>copper</td>\n",
       "      <td>copper wire</td>\n",
       "    </tr>\n",
       "  </tbody>\n",
       "</table>\n",
       "</div>"
      ],
      "text/plain": [
       "     isri id               sc:hasCategory  sc:hasForm  \\\n",
       "0  sc:ISRI_0  nonferrous scrap red metals        wire   \n",
       "1  sc:ISRI_1  nonferrous scrap red metals  wire cable   \n",
       "\n",
       "                 sc:hasSpecification sc:contains   pc:hasName  \n",
       "0            bare uncoated unalloyed      copper  copper wire  \n",
       "1  clean untinned uncoated unalloyed      copper  copper wire  "
      ]
     },
     "execution_count": 13,
     "metadata": {},
     "output_type": "execute_result"
    }
   ],
   "source": [
    "import texthero as hero\n",
    "from texthero import preprocessing\n",
    "\n",
    "custom_pipeline = [preprocessing.fillna,\n",
    "                   preprocessing.lowercase,\n",
    "                   preprocessing.remove_whitespace,\n",
    "                   preprocessing.remove_stopwords]\n",
    "\n",
    "for col in isri_data.drop('isri id', axis=1).columns:\n",
    "    isri_data[col] = hero.clean(isri_data[col])\n",
    "\n",
    "isri_data.head(2)"
   ]
  },
  {
   "cell_type": "code",
   "execution_count": 14,
   "id": "82002c7c",
   "metadata": {},
   "outputs": [
    {
     "data": {
      "text/plain": [
       "isri id                0\n",
       "sc:hasCategory         0\n",
       "sc:hasForm             0\n",
       "sc:hasSpecification    0\n",
       "sc:contains            0\n",
       "pc:hasName             0\n",
       "dtype: int64"
      ]
     },
     "execution_count": 14,
     "metadata": {},
     "output_type": "execute_result"
    }
   ],
   "source": [
    "isri_data.isna().sum()"
   ]
  },
  {
   "cell_type": "markdown",
   "id": "31858ecc",
   "metadata": {},
   "source": [
    "#### `ANAMET`"
   ]
  },
  {
   "cell_type": "code",
   "execution_count": 15,
   "id": "c1c3a3a6",
   "metadata": {},
   "outputs": [
    {
     "data": {
      "text/html": [
       "<div>\n",
       "<style scoped>\n",
       "    .dataframe tbody tr th:only-of-type {\n",
       "        vertical-align: middle;\n",
       "    }\n",
       "\n",
       "    .dataframe tbody tr th {\n",
       "        vertical-align: top;\n",
       "    }\n",
       "\n",
       "    .dataframe thead th {\n",
       "        text-align: right;\n",
       "    }\n",
       "</style>\n",
       "<table border=\"1\" class=\"dataframe\">\n",
       "  <thead>\n",
       "    <tr style=\"text-align: right;\">\n",
       "      <th></th>\n",
       "      <th>anamet entity</th>\n",
       "      <th>sc:description</th>\n",
       "      <th>sc:hasCategory</th>\n",
       "      <th>sc:internal_code</th>\n",
       "      <th>sc:isProcessedBy</th>\n",
       "    </tr>\n",
       "  </thead>\n",
       "  <tbody>\n",
       "    <tr>\n",
       "      <th>0</th>\n",
       "      <td>sc:ANAMET_437</td>\n",
       "      <td>ΣΚΡΑΠ ΨΑΛΙΔΙΣΜΕΝΟ ΠΥΚΝ &gt;450 ΚG/M3 (ΥΛΗ)</td>\n",
       "      <td>Ferrous</td>\n",
       "      <td>40000</td>\n",
       "      <td>sc:Process_690</td>\n",
       "    </tr>\n",
       "    <tr>\n",
       "      <th>1</th>\n",
       "      <td>sc:ANAMET_438</td>\n",
       "      <td>άγνωστο</td>\n",
       "      <td>Ferrous</td>\n",
       "      <td>9000</td>\n",
       "      <td>NaN</td>\n",
       "    </tr>\n",
       "    <tr>\n",
       "      <th>2</th>\n",
       "      <td>sc:ANAMET_439</td>\n",
       "      <td>κουτάκι</td>\n",
       "      <td>Ferrous</td>\n",
       "      <td>9101</td>\n",
       "      <td>NaN</td>\n",
       "    </tr>\n",
       "    <tr>\n",
       "      <th>3</th>\n",
       "      <td>sc:ANAMET_440</td>\n",
       "      <td>λαμαρίνες</td>\n",
       "      <td>Ferrous</td>\n",
       "      <td>9102</td>\n",
       "      <td>NaN</td>\n",
       "    </tr>\n",
       "    <tr>\n",
       "      <th>4</th>\n",
       "      <td>sc:ANAMET_441</td>\n",
       "      <td>ζάντες + βαρύ προς shredder κλπ από ΟΤΚΖ</td>\n",
       "      <td>Ferrous</td>\n",
       "      <td>9103</td>\n",
       "      <td>NaN</td>\n",
       "    </tr>\n",
       "  </tbody>\n",
       "</table>\n",
       "</div>"
      ],
      "text/plain": [
       "   anamet entity                            sc:description sc:hasCategory  \\\n",
       "0  sc:ANAMET_437   ΣΚΡΑΠ ΨΑΛΙΔΙΣΜΕΝΟ ΠΥΚΝ >450 ΚG/M3 (ΥΛΗ)        Ferrous   \n",
       "1  sc:ANAMET_438                                   άγνωστο        Ferrous   \n",
       "2  sc:ANAMET_439                                   κουτάκι        Ferrous   \n",
       "3  sc:ANAMET_440                                 λαμαρίνες        Ferrous   \n",
       "4  sc:ANAMET_441  ζάντες + βαρύ προς shredder κλπ από ΟΤΚΖ        Ferrous   \n",
       "\n",
       "   sc:internal_code sc:isProcessedBy  \n",
       "0             40000   sc:Process_690  \n",
       "1              9000              NaN  \n",
       "2              9101              NaN  \n",
       "3              9102              NaN  \n",
       "4              9103              NaN  "
      ]
     },
     "execution_count": 15,
     "metadata": {},
     "output_type": "execute_result"
    }
   ],
   "source": [
    "anamet_data.head()"
   ]
  },
  {
   "cell_type": "code",
   "execution_count": 16,
   "id": "898d7c51",
   "metadata": {},
   "outputs": [
    {
     "data": {
      "text/plain": [
       "(322, 5)"
      ]
     },
     "execution_count": 16,
     "metadata": {},
     "output_type": "execute_result"
    }
   ],
   "source": [
    "anamet_data.shape"
   ]
  },
  {
   "cell_type": "markdown",
   "id": "f2747bbb",
   "metadata": {},
   "source": [
    "Keep only ANAMET with english `sc:description`"
   ]
  },
  {
   "cell_type": "code",
   "execution_count": 17,
   "id": "3cd6d986",
   "metadata": {},
   "outputs": [
    {
     "data": {
      "text/html": [
       "<div>\n",
       "<style scoped>\n",
       "    .dataframe tbody tr th:only-of-type {\n",
       "        vertical-align: middle;\n",
       "    }\n",
       "\n",
       "    .dataframe tbody tr th {\n",
       "        vertical-align: top;\n",
       "    }\n",
       "\n",
       "    .dataframe thead th {\n",
       "        text-align: right;\n",
       "    }\n",
       "</style>\n",
       "<table border=\"1\" class=\"dataframe\">\n",
       "  <thead>\n",
       "    <tr style=\"text-align: right;\">\n",
       "      <th></th>\n",
       "      <th>anamet entity</th>\n",
       "      <th>sc:description</th>\n",
       "      <th>sc:hasCategory</th>\n",
       "      <th>sc:internal_code</th>\n",
       "      <th>sc:isProcessedBy</th>\n",
       "    </tr>\n",
       "  </thead>\n",
       "  <tbody>\n",
       "    <tr>\n",
       "      <th>28</th>\n",
       "      <td>sc:ANAMET_465</td>\n",
       "      <td>COPPER SCRAP MILLBERRY CABLES FOR STRIP.</td>\n",
       "      <td>Non-Ferrous</td>\n",
       "      <td>40014</td>\n",
       "      <td>NaN</td>\n",
       "    </tr>\n",
       "    <tr>\n",
       "      <th>30</th>\n",
       "      <td>sc:ANAMET_466</td>\n",
       "      <td>COPPER SCRAP BIRCH CABLES FOR STRIPPING</td>\n",
       "      <td>Non-Ferrous</td>\n",
       "      <td>40015</td>\n",
       "      <td>NaN</td>\n",
       "    </tr>\n",
       "  </tbody>\n",
       "</table>\n",
       "</div>"
      ],
      "text/plain": [
       "    anamet entity                            sc:description sc:hasCategory  \\\n",
       "28  sc:ANAMET_465  COPPER SCRAP MILLBERRY CABLES FOR STRIP.    Non-Ferrous   \n",
       "30  sc:ANAMET_466   COPPER SCRAP BIRCH CABLES FOR STRIPPING    Non-Ferrous   \n",
       "\n",
       "    sc:internal_code sc:isProcessedBy  \n",
       "28             40014              NaN  \n",
       "30             40015              NaN  "
      ]
     },
     "execution_count": 17,
     "metadata": {},
     "output_type": "execute_result"
    }
   ],
   "source": [
    "import unicodedata as ud\n",
    "\n",
    "latin_letters= {}\n",
    "\n",
    "def is_latin(uchr):\n",
    "    try: return latin_letters[uchr]\n",
    "    except KeyError:\n",
    "         return latin_letters.setdefault(uchr, 'LATIN' in ud.name(uchr))\n",
    "\n",
    "def only_roman_chars(unistr):\n",
    "    return all(is_latin(uchr)\n",
    "           for uchr in unistr\n",
    "           if uchr.isalpha()) # isalpha suggested by John Machin\n",
    "\n",
    "e_description_index = []\n",
    "for row in range(len(anamet_data)):\n",
    "    if only_roman_chars(str(anamet_data['sc:description'].iloc[row])):\n",
    "        e_description_index.append(row)\n",
    "        \n",
    "anamet_data = anamet_data.iloc[e_description_index]\n",
    "anamet_data.head(2)"
   ]
  },
  {
   "cell_type": "code",
   "execution_count": 18,
   "id": "95749748",
   "metadata": {},
   "outputs": [
    {
     "data": {
      "text/plain": [
       "(214, 5)"
      ]
     },
     "execution_count": 18,
     "metadata": {},
     "output_type": "execute_result"
    }
   ],
   "source": [
    "anamet_data.shape"
   ]
  },
  {
   "cell_type": "code",
   "execution_count": 19,
   "id": "38ad4328",
   "metadata": {},
   "outputs": [
    {
     "data": {
      "text/html": [
       "<div>\n",
       "<style scoped>\n",
       "    .dataframe tbody tr th:only-of-type {\n",
       "        vertical-align: middle;\n",
       "    }\n",
       "\n",
       "    .dataframe tbody tr th {\n",
       "        vertical-align: top;\n",
       "    }\n",
       "\n",
       "    .dataframe thead th {\n",
       "        text-align: right;\n",
       "    }\n",
       "</style>\n",
       "<table border=\"1\" class=\"dataframe\">\n",
       "  <thead>\n",
       "    <tr style=\"text-align: right;\">\n",
       "      <th></th>\n",
       "      <th>anamet entity</th>\n",
       "      <th>sc:description</th>\n",
       "      <th>sc:hasCategory</th>\n",
       "    </tr>\n",
       "  </thead>\n",
       "  <tbody>\n",
       "    <tr>\n",
       "      <th>28</th>\n",
       "      <td>sc:ANAMET_465</td>\n",
       "      <td>COPPER SCRAP MILLBERRY CABLES FOR STRIP.</td>\n",
       "      <td>Non-Ferrous</td>\n",
       "    </tr>\n",
       "    <tr>\n",
       "      <th>30</th>\n",
       "      <td>sc:ANAMET_466</td>\n",
       "      <td>COPPER SCRAP BIRCH CABLES FOR STRIPPING</td>\n",
       "      <td>Non-Ferrous</td>\n",
       "    </tr>\n",
       "  </tbody>\n",
       "</table>\n",
       "</div>"
      ],
      "text/plain": [
       "    anamet entity                            sc:description sc:hasCategory\n",
       "28  sc:ANAMET_465  COPPER SCRAP MILLBERRY CABLES FOR STRIP.    Non-Ferrous\n",
       "30  sc:ANAMET_466   COPPER SCRAP BIRCH CABLES FOR STRIPPING    Non-Ferrous"
      ]
     },
     "execution_count": 19,
     "metadata": {},
     "output_type": "execute_result"
    }
   ],
   "source": [
    "anamet_data = anamet_data[['anamet entity', 'sc:description', 'sc:hasCategory']]\n",
    "anamet_data.head(2)"
   ]
  },
  {
   "cell_type": "code",
   "execution_count": 20,
   "id": "42de23f5",
   "metadata": {},
   "outputs": [
    {
     "data": {
      "text/plain": [
       "anamet entity     0\n",
       "sc:description    0\n",
       "sc:hasCategory    0\n",
       "dtype: int64"
      ]
     },
     "execution_count": 20,
     "metadata": {},
     "output_type": "execute_result"
    }
   ],
   "source": [
    "anamet_data.isna().sum()"
   ]
  },
  {
   "cell_type": "code",
   "execution_count": 21,
   "id": "6bf60987",
   "metadata": {},
   "outputs": [
    {
     "data": {
      "text/html": [
       "<div>\n",
       "<style scoped>\n",
       "    .dataframe tbody tr th:only-of-type {\n",
       "        vertical-align: middle;\n",
       "    }\n",
       "\n",
       "    .dataframe tbody tr th {\n",
       "        vertical-align: top;\n",
       "    }\n",
       "\n",
       "    .dataframe thead th {\n",
       "        text-align: right;\n",
       "    }\n",
       "</style>\n",
       "<table border=\"1\" class=\"dataframe\">\n",
       "  <thead>\n",
       "    <tr style=\"text-align: right;\">\n",
       "      <th></th>\n",
       "      <th>anamet entity</th>\n",
       "      <th>sc:description</th>\n",
       "      <th>sc:hasCategory</th>\n",
       "    </tr>\n",
       "  </thead>\n",
       "  <tbody>\n",
       "    <tr>\n",
       "      <th>28</th>\n",
       "      <td>sc:ANAMET_465</td>\n",
       "      <td>copper scrap millberry cables strip</td>\n",
       "      <td>non ferrous</td>\n",
       "    </tr>\n",
       "    <tr>\n",
       "      <th>30</th>\n",
       "      <td>sc:ANAMET_466</td>\n",
       "      <td>copper scrap birch cables stripping</td>\n",
       "      <td>non ferrous</td>\n",
       "    </tr>\n",
       "  </tbody>\n",
       "</table>\n",
       "</div>"
      ],
      "text/plain": [
       "    anamet entity                       sc:description sc:hasCategory\n",
       "28  sc:ANAMET_465  copper scrap millberry cables strip    non ferrous\n",
       "30  sc:ANAMET_466  copper scrap birch cables stripping    non ferrous"
      ]
     },
     "execution_count": 21,
     "metadata": {},
     "output_type": "execute_result"
    }
   ],
   "source": [
    "for col in anamet_data.drop('anamet entity', axis=1).columns:\n",
    "    anamet_data[col] = hero.clean(anamet_data[col])\n",
    "\n",
    "anamet_data.head(2)"
   ]
  },
  {
   "cell_type": "markdown",
   "id": "58b291bd",
   "metadata": {},
   "source": [
    "# Combine both datasets"
   ]
  },
  {
   "cell_type": "markdown",
   "id": "8224e3d5",
   "metadata": {},
   "source": [
    "Will combine `ISRI` and `ANAMET` dataframes into one."
   ]
  },
  {
   "cell_type": "code",
   "execution_count": 22,
   "id": "6a6cab11",
   "metadata": {},
   "outputs": [],
   "source": [
    "df = pd.DataFrame()"
   ]
  },
  {
   "cell_type": "code",
   "execution_count": 23,
   "id": "0af6b6d4",
   "metadata": {},
   "outputs": [
    {
     "data": {
      "text/html": [
       "<div>\n",
       "<style scoped>\n",
       "    .dataframe tbody tr th:only-of-type {\n",
       "        vertical-align: middle;\n",
       "    }\n",
       "\n",
       "    .dataframe tbody tr th {\n",
       "        vertical-align: top;\n",
       "    }\n",
       "\n",
       "    .dataframe thead th {\n",
       "        text-align: right;\n",
       "    }\n",
       "</style>\n",
       "<table border=\"1\" class=\"dataframe\">\n",
       "  <thead>\n",
       "    <tr style=\"text-align: right;\">\n",
       "      <th></th>\n",
       "      <th>isri id</th>\n",
       "      <th>sc:hasCategory</th>\n",
       "      <th>sc:hasForm</th>\n",
       "      <th>sc:hasSpecification</th>\n",
       "      <th>sc:contains</th>\n",
       "      <th>pc:hasName</th>\n",
       "    </tr>\n",
       "  </thead>\n",
       "  <tbody>\n",
       "    <tr>\n",
       "      <th>0</th>\n",
       "      <td>sc:ISRI_0</td>\n",
       "      <td>nonferrous scrap red metals</td>\n",
       "      <td>wire</td>\n",
       "      <td>bare uncoated unalloyed</td>\n",
       "      <td>copper</td>\n",
       "      <td>copper wire</td>\n",
       "    </tr>\n",
       "  </tbody>\n",
       "</table>\n",
       "</div>"
      ],
      "text/plain": [
       "     isri id               sc:hasCategory sc:hasForm      sc:hasSpecification  \\\n",
       "0  sc:ISRI_0  nonferrous scrap red metals       wire  bare uncoated unalloyed   \n",
       "\n",
       "  sc:contains   pc:hasName  \n",
       "0      copper  copper wire  "
      ]
     },
     "execution_count": 23,
     "metadata": {},
     "output_type": "execute_result"
    }
   ],
   "source": [
    "isri_data.head(1)"
   ]
  },
  {
   "cell_type": "code",
   "execution_count": 24,
   "id": "46d40181",
   "metadata": {},
   "outputs": [
    {
     "data": {
      "text/html": [
       "<div>\n",
       "<style scoped>\n",
       "    .dataframe tbody tr th:only-of-type {\n",
       "        vertical-align: middle;\n",
       "    }\n",
       "\n",
       "    .dataframe tbody tr th {\n",
       "        vertical-align: top;\n",
       "    }\n",
       "\n",
       "    .dataframe thead th {\n",
       "        text-align: right;\n",
       "    }\n",
       "</style>\n",
       "<table border=\"1\" class=\"dataframe\">\n",
       "  <thead>\n",
       "    <tr style=\"text-align: right;\">\n",
       "      <th></th>\n",
       "      <th>anamet entity</th>\n",
       "      <th>sc:description</th>\n",
       "      <th>sc:hasCategory</th>\n",
       "    </tr>\n",
       "  </thead>\n",
       "  <tbody>\n",
       "    <tr>\n",
       "      <th>28</th>\n",
       "      <td>sc:ANAMET_465</td>\n",
       "      <td>copper scrap millberry cables strip</td>\n",
       "      <td>non ferrous</td>\n",
       "    </tr>\n",
       "  </tbody>\n",
       "</table>\n",
       "</div>"
      ],
      "text/plain": [
       "    anamet entity                       sc:description sc:hasCategory\n",
       "28  sc:ANAMET_465  copper scrap millberry cables strip    non ferrous"
      ]
     },
     "execution_count": 24,
     "metadata": {},
     "output_type": "execute_result"
    }
   ],
   "source": [
    "anamet_data.head(1)"
   ]
  },
  {
   "cell_type": "code",
   "execution_count": 25,
   "id": "7362d091-2302-4990-86fb-827fca292ace",
   "metadata": {},
   "outputs": [
    {
     "data": {
      "text/html": [
       "<div>\n",
       "<style scoped>\n",
       "    .dataframe tbody tr th:only-of-type {\n",
       "        vertical-align: middle;\n",
       "    }\n",
       "\n",
       "    .dataframe tbody tr th {\n",
       "        vertical-align: top;\n",
       "    }\n",
       "\n",
       "    .dataframe thead th {\n",
       "        text-align: right;\n",
       "    }\n",
       "</style>\n",
       "<table border=\"1\" class=\"dataframe\">\n",
       "  <thead>\n",
       "    <tr style=\"text-align: right;\">\n",
       "      <th></th>\n",
       "      <th>isri id</th>\n",
       "      <th>corpus</th>\n",
       "    </tr>\n",
       "  </thead>\n",
       "  <tbody>\n",
       "    <tr>\n",
       "      <th>0</th>\n",
       "      <td>sc:ISRI_0</td>\n",
       "      <td>bare uncoated unalloyed wire nonferrous scrap ...</td>\n",
       "    </tr>\n",
       "  </tbody>\n",
       "</table>\n",
       "</div>"
      ],
      "text/plain": [
       "     isri id                                             corpus\n",
       "0  sc:ISRI_0  bare uncoated unalloyed wire nonferrous scrap ..."
      ]
     },
     "execution_count": 25,
     "metadata": {},
     "output_type": "execute_result"
    }
   ],
   "source": [
    "isri_data['corpus'] = isri_data['sc:hasSpecification'] + ' ' + isri_data['sc:hasForm'] + ' ' + isri_data['sc:hasCategory'] + ' ' + isri_data['sc:contains'] + ' ' + isri_data['pc:hasName']\n",
    "isri_data = isri_data[['isri id', 'corpus']]\n",
    "isri_data.head(1)"
   ]
  },
  {
   "cell_type": "code",
   "execution_count": 26,
   "id": "aecbf48a-8249-43a0-8a1d-3ccf70c680b3",
   "metadata": {},
   "outputs": [
    {
     "data": {
      "text/html": [
       "<div>\n",
       "<style scoped>\n",
       "    .dataframe tbody tr th:only-of-type {\n",
       "        vertical-align: middle;\n",
       "    }\n",
       "\n",
       "    .dataframe tbody tr th {\n",
       "        vertical-align: top;\n",
       "    }\n",
       "\n",
       "    .dataframe thead th {\n",
       "        text-align: right;\n",
       "    }\n",
       "</style>\n",
       "<table border=\"1\" class=\"dataframe\">\n",
       "  <thead>\n",
       "    <tr style=\"text-align: right;\">\n",
       "      <th></th>\n",
       "      <th>anamet entity</th>\n",
       "      <th>corpus</th>\n",
       "    </tr>\n",
       "  </thead>\n",
       "  <tbody>\n",
       "    <tr>\n",
       "      <th>28</th>\n",
       "      <td>sc:ANAMET_465</td>\n",
       "      <td>copper scrap millberry cables strip non ferrous</td>\n",
       "    </tr>\n",
       "  </tbody>\n",
       "</table>\n",
       "</div>"
      ],
      "text/plain": [
       "    anamet entity                                           corpus\n",
       "28  sc:ANAMET_465  copper scrap millberry cables strip non ferrous"
      ]
     },
     "execution_count": 26,
     "metadata": {},
     "output_type": "execute_result"
    }
   ],
   "source": [
    "anamet_data['corpus'] = anamet_data['sc:description'] + ' ' + anamet_data['sc:hasCategory']\n",
    "anamet_data = anamet_data[['anamet entity', 'corpus']]\n",
    "anamet_data.head(1)"
   ]
  },
  {
   "cell_type": "code",
   "execution_count": 27,
   "id": "0372ab2f",
   "metadata": {},
   "outputs": [],
   "source": [
    "isri_data.rename(columns = {'isri id':'scrap_type'}, inplace = True)\n",
    "anamet_data.rename(columns= {'anamet entity':'scrap_type'}, inplace = True)"
   ]
  },
  {
   "cell_type": "markdown",
   "id": "e85dad4b",
   "metadata": {},
   "source": [
    "Concat the dfs"
   ]
  },
  {
   "cell_type": "code",
   "execution_count": 28,
   "id": "aee66fdd",
   "metadata": {},
   "outputs": [
    {
     "data": {
      "text/html": [
       "<div>\n",
       "<style scoped>\n",
       "    .dataframe tbody tr th:only-of-type {\n",
       "        vertical-align: middle;\n",
       "    }\n",
       "\n",
       "    .dataframe tbody tr th {\n",
       "        vertical-align: top;\n",
       "    }\n",
       "\n",
       "    .dataframe thead th {\n",
       "        text-align: right;\n",
       "    }\n",
       "</style>\n",
       "<table border=\"1\" class=\"dataframe\">\n",
       "  <thead>\n",
       "    <tr style=\"text-align: right;\">\n",
       "      <th></th>\n",
       "      <th>scrap_type</th>\n",
       "      <th>corpus</th>\n",
       "    </tr>\n",
       "  </thead>\n",
       "  <tbody>\n",
       "    <tr>\n",
       "      <th>0</th>\n",
       "      <td>sc:ISRI_0</td>\n",
       "      <td>bare uncoated unalloyed wire nonferrous scrap ...</td>\n",
       "    </tr>\n",
       "    <tr>\n",
       "      <th>1</th>\n",
       "      <td>sc:ISRI_1</td>\n",
       "      <td>clean untinned uncoated unalloyed wire cable n...</td>\n",
       "    </tr>\n",
       "    <tr>\n",
       "      <th>2</th>\n",
       "      <td>sc:ISRI_2</td>\n",
       "      <td>unalloyed miscellaneous wire nonferrous scrap ...</td>\n",
       "    </tr>\n",
       "    <tr>\n",
       "      <th>3</th>\n",
       "      <td>sc:ISRI_3</td>\n",
       "      <td>clean unalloyed uncoated clippings punchings b...</td>\n",
       "    </tr>\n",
       "    <tr>\n",
       "      <th>4</th>\n",
       "      <td>sc:ISRI_4</td>\n",
       "      <td>unalloyed miscellaneous scrap nonferrous scrap...</td>\n",
       "    </tr>\n",
       "    <tr>\n",
       "      <th>...</th>\n",
       "      <td>...</td>\n",
       "      <td>...</td>\n",
       "    </tr>\n",
       "    <tr>\n",
       "      <th>317</th>\n",
       "      <td>sc:ANAMET_684</td>\n",
       "      <td>lead scrap e non ferrous</td>\n",
       "    </tr>\n",
       "    <tr>\n",
       "      <th>318</th>\n",
       "      <td>sc:ANAMET_685</td>\n",
       "      <td>electric motors shredded weee non ferrous</td>\n",
       "    </tr>\n",
       "    <tr>\n",
       "      <th>319</th>\n",
       "      <td>sc:ANAMET_686</td>\n",
       "      <td>black plastic scrap weee e non ferrous</td>\n",
       "    </tr>\n",
       "    <tr>\n",
       "      <th>320</th>\n",
       "      <td>sc:ANAMET_687</td>\n",
       "      <td>scrap plexiglass e non ferrous</td>\n",
       "    </tr>\n",
       "    <tr>\n",
       "      <th>321</th>\n",
       "      <td>sc:ANAMET_688</td>\n",
       "      <td>mixed plastic scrap weee e non ferrous</td>\n",
       "    </tr>\n",
       "  </tbody>\n",
       "</table>\n",
       "<p>458 rows × 2 columns</p>\n",
       "</div>"
      ],
      "text/plain": [
       "        scrap_type                                             corpus\n",
       "0        sc:ISRI_0  bare uncoated unalloyed wire nonferrous scrap ...\n",
       "1        sc:ISRI_1  clean untinned uncoated unalloyed wire cable n...\n",
       "2        sc:ISRI_2  unalloyed miscellaneous wire nonferrous scrap ...\n",
       "3        sc:ISRI_3  clean unalloyed uncoated clippings punchings b...\n",
       "4        sc:ISRI_4  unalloyed miscellaneous scrap nonferrous scrap...\n",
       "..             ...                                                ...\n",
       "317  sc:ANAMET_684                           lead scrap e non ferrous\n",
       "318  sc:ANAMET_685          electric motors shredded weee non ferrous\n",
       "319  sc:ANAMET_686             black plastic scrap weee e non ferrous\n",
       "320  sc:ANAMET_687                     scrap plexiglass e non ferrous\n",
       "321  sc:ANAMET_688             mixed plastic scrap weee e non ferrous\n",
       "\n",
       "[458 rows x 2 columns]"
      ]
     },
     "execution_count": 28,
     "metadata": {},
     "output_type": "execute_result"
    }
   ],
   "source": [
    "df = pd.concat([isri_data, anamet_data], axis=0)\n",
    "df"
   ]
  },
  {
   "cell_type": "code",
   "execution_count": 29,
   "id": "8e49b176-fb35-4195-81b7-77f1469dd642",
   "metadata": {},
   "outputs": [
    {
     "name": "stdout",
     "output_type": "stream",
     "text": [
      "244\n",
      "214\n",
      "458\n"
     ]
    }
   ],
   "source": [
    "print( isri_data['scrap_type'].nunique() )\n",
    "print( anamet_data['scrap_type'].nunique() )\n",
    "print( df['scrap_type'].nunique() )"
   ]
  },
  {
   "cell_type": "markdown",
   "id": "f223fa09-59b4-4959-a120-93c29a4e835c",
   "metadata": {},
   "source": [
    "Every row is a different scrap type."
   ]
  },
  {
   "cell_type": "markdown",
   "id": "e2c84ffd-70d2-4342-a893-47e7f1945c7c",
   "metadata": {},
   "source": [
    "### Vectorize `corpus` using TF-IDF"
   ]
  },
  {
   "cell_type": "code",
   "execution_count": 40,
   "id": "4f4c8abe-5c8c-4d70-ba92-5fd575ef6c68",
   "metadata": {},
   "outputs": [],
   "source": [
    "vectorizer = TfidfVectorizer(sublinear_tf=True, min_df=3, max_df=0.95)\n",
    "# vectorizer = TfidfVectorizer()\n",
    "\n",
    "X = vectorizer.fit_transform(df['corpus'])                             "
   ]
  },
  {
   "cell_type": "code",
   "execution_count": 41,
   "id": "72a52a40-5af0-4ab6-9f84-95a7a0eb1104",
   "metadata": {},
   "outputs": [],
   "source": [
    "from sklearn.cluster import KMeans\n",
    "\n",
    "kmeans = KMeans(n_clusters=3, random_state=42)\n",
    "kmeans.fit(X)\n",
    "clusters = kmeans.labels_"
   ]
  },
  {
   "cell_type": "code",
   "execution_count": 45,
   "id": "853f5b2d-d466-4417-953b-584345354882",
   "metadata": {},
   "outputs": [
    {
     "name": "stdout",
     "output_type": "stream",
     "text": [
      "\n",
      "Cluster 0\n",
      "wire,red,metals,grades,steel,iron,clean,aluminum,nonferrous,scrap\n",
      "\n",
      "Cluster 1\n",
      "zorba,clove,brass,copper,scrap,aluminum,ferrous,non,isri,per\n",
      "\n",
      "Cluster 2\n",
      "stainless,raw,aluminum,plastic,cables,copper,scrap,weee,ferrous,non\n"
     ]
    }
   ],
   "source": [
    "from sklearn.decomposition import PCA\n",
    "\n",
    "# initialize PCA with 2 components\n",
    "pca = PCA(n_components=2, random_state=42)\n",
    "# pass our X to the pca and store the reduced vectors into pca_vecs\n",
    "pca_vecs = pca.fit_transform(X.toarray())\n",
    "# save our two dimensions into x0 and x1\n",
    "x0 = pca_vecs[:, 0]\n",
    "x1 = pca_vecs[:, 1]\n",
    "\n",
    "df['cluster'] = clusters\n",
    "df['x0'] = x0\n",
    "df['x1'] = x1\n",
    "\n",
    "def get_top_keywords(n_terms):\n",
    "    \"\"\"This function returns the keywords for each centroid of the KMeans\"\"\"\n",
    "    df = pd.DataFrame(X.todense()).groupby(clusters).mean() # groups the TF-IDF vector by cluster\n",
    "    terms = vectorizer.get_feature_names_out() # access tf-idf terms\n",
    "    for i,r in df.iterrows():\n",
    "        print('\\nCluster {}'.format(i))\n",
    "        print(','.join([terms[t] for t in np.argsort(r)[-n_terms:]])) # for each row of the dataframe, find the n terms that have the highest tf idf score\n",
    "            \n",
    "get_top_keywords(10)"
   ]
  },
  {
   "cell_type": "code",
   "execution_count": 60,
   "id": "e0762c35-20a0-4ba6-9189-1fcc69e9f0da",
   "metadata": {},
   "outputs": [
    {
     "data": {
      "image/png": "[encoded data removed]",
      "text/plain": [
       "<Figure size 1200x700 with 1 Axes>"
      ]
     },
     "metadata": {},
     "output_type": "display_data"
    }
   ],
   "source": [
    "plt.figure(figsize=(12, 7))\n",
    "# set a title\n",
    "plt.title(\"TF-IDF + KMeans\", fontdict={\"fontsize\": 18})\n",
    "# set axes names\n",
    "plt.xlabel(\"X0\", fontdict={\"fontsize\": 16})\n",
    "plt.ylabel(\"X1\", fontdict={\"fontsize\": 16})\n",
    "# create scatter plot with seaborn, where hue is the class used to group the data\n",
    "sns.scatterplot(data=df, x='x0', y='x1', hue='cluster', palette=\"crest\")\n",
    "plt.show()"
   ]
  },
  {
   "cell_type": "code",
   "execution_count": 64,
   "id": "2c7d6108-0e4f-4b9f-b2ee-f1d2ea37090e",
   "metadata": {},
   "outputs": [
    {
     "data": {
      "text/html": [
       "<div>\n",
       "<style scoped>\n",
       "    .dataframe tbody tr th:only-of-type {\n",
       "        vertical-align: middle;\n",
       "    }\n",
       "\n",
       "    .dataframe tbody tr th {\n",
       "        vertical-align: top;\n",
       "    }\n",
       "\n",
       "    .dataframe thead th {\n",
       "        text-align: right;\n",
       "    }\n",
       "</style>\n",
       "<table border=\"1\" class=\"dataframe\">\n",
       "  <thead>\n",
       "    <tr style=\"text-align: right;\">\n",
       "      <th></th>\n",
       "      <th>scrap_type</th>\n",
       "      <th>corpus</th>\n",
       "      <th>cluster</th>\n",
       "    </tr>\n",
       "  </thead>\n",
       "  <tbody>\n",
       "    <tr>\n",
       "      <th>0</th>\n",
       "      <td>sc:ISRI_0</td>\n",
       "      <td>bare uncoated unalloyed wire nonferrous scrap ...</td>\n",
       "      <td>0</td>\n",
       "    </tr>\n",
       "    <tr>\n",
       "      <th>1</th>\n",
       "      <td>sc:ISRI_1</td>\n",
       "      <td>clean untinned uncoated unalloyed wire cable n...</td>\n",
       "      <td>0</td>\n",
       "    </tr>\n",
       "    <tr>\n",
       "      <th>2</th>\n",
       "      <td>sc:ISRI_2</td>\n",
       "      <td>unalloyed miscellaneous wire nonferrous scrap ...</td>\n",
       "      <td>0</td>\n",
       "    </tr>\n",
       "    <tr>\n",
       "      <th>3</th>\n",
       "      <td>sc:ISRI_3</td>\n",
       "      <td>clean unalloyed uncoated clippings punchings b...</td>\n",
       "      <td>0</td>\n",
       "    </tr>\n",
       "    <tr>\n",
       "      <th>4</th>\n",
       "      <td>sc:ISRI_4</td>\n",
       "      <td>unalloyed miscellaneous scrap nonferrous scrap...</td>\n",
       "      <td>0</td>\n",
       "    </tr>\n",
       "    <tr>\n",
       "      <th>...</th>\n",
       "      <td>...</td>\n",
       "      <td>...</td>\n",
       "      <td>...</td>\n",
       "    </tr>\n",
       "    <tr>\n",
       "      <th>317</th>\n",
       "      <td>sc:ANAMET_684</td>\n",
       "      <td>lead scrap e non ferrous</td>\n",
       "      <td>2</td>\n",
       "    </tr>\n",
       "    <tr>\n",
       "      <th>318</th>\n",
       "      <td>sc:ANAMET_685</td>\n",
       "      <td>electric motors shredded weee non ferrous</td>\n",
       "      <td>2</td>\n",
       "    </tr>\n",
       "    <tr>\n",
       "      <th>319</th>\n",
       "      <td>sc:ANAMET_686</td>\n",
       "      <td>black plastic scrap weee e non ferrous</td>\n",
       "      <td>2</td>\n",
       "    </tr>\n",
       "    <tr>\n",
       "      <th>320</th>\n",
       "      <td>sc:ANAMET_687</td>\n",
       "      <td>scrap plexiglass e non ferrous</td>\n",
       "      <td>2</td>\n",
       "    </tr>\n",
       "    <tr>\n",
       "      <th>321</th>\n",
       "      <td>sc:ANAMET_688</td>\n",
       "      <td>mixed plastic scrap weee e non ferrous</td>\n",
       "      <td>2</td>\n",
       "    </tr>\n",
       "  </tbody>\n",
       "</table>\n",
       "<p>458 rows × 3 columns</p>\n",
       "</div>"
      ],
      "text/plain": [
       "        scrap_type                                             corpus  cluster\n",
       "0        sc:ISRI_0  bare uncoated unalloyed wire nonferrous scrap ...        0\n",
       "1        sc:ISRI_1  clean untinned uncoated unalloyed wire cable n...        0\n",
       "2        sc:ISRI_2  unalloyed miscellaneous wire nonferrous scrap ...        0\n",
       "3        sc:ISRI_3  clean unalloyed uncoated clippings punchings b...        0\n",
       "4        sc:ISRI_4  unalloyed miscellaneous scrap nonferrous scrap...        0\n",
       "..             ...                                                ...      ...\n",
       "317  sc:ANAMET_684                           lead scrap e non ferrous        2\n",
       "318  sc:ANAMET_685          electric motors shredded weee non ferrous        2\n",
       "319  sc:ANAMET_686             black plastic scrap weee e non ferrous        2\n",
       "320  sc:ANAMET_687                     scrap plexiglass e non ferrous        2\n",
       "321  sc:ANAMET_688             mixed plastic scrap weee e non ferrous        2\n",
       "\n",
       "[458 rows x 3 columns]"
      ]
     },
     "execution_count": 64,
     "metadata": {},
     "output_type": "execute_result"
    }
   ],
   "source": [
    "df[['scrap_type', 'corpus', 'cluster']]"
   ]
  },
  {
   "cell_type": "code",
   "execution_count": null,
   "id": "94a301cb-13b4-4f86-b9df-557c8b5a3650",
   "metadata": {},
   "outputs": [],
   "source": []
  },
  {
   "cell_type": "code",
   "execution_count": null,
   "id": "4bdc04bb-96ea-402f-8dda-9cd2dd155d72",
   "metadata": {},
   "outputs": [],
   "source": []
  },
  {
   "cell_type": "code",
   "execution_count": null,
   "id": "55aa8841-e9b4-4142-8751-d93630522b6f",
   "metadata": {},
   "outputs": [],
   "source": []
  },
  {
   "cell_type": "code",
   "execution_count": null,
   "id": "3ab61a35-88fb-443e-a821-69e35e068e79",
   "metadata": {},
   "outputs": [],
   "source": []
  },
  {
   "cell_type": "code",
   "execution_count": null,
   "id": "cabc7f7b-86f9-4c6e-8d75-440875206e39",
   "metadata": {},
   "outputs": [],
   "source": []
  },
  {
   "cell_type": "code",
   "execution_count": 58,
   "id": "1e4e5a94",
   "metadata": {},
   "outputs": [
    {
     "name": "stdout",
     "output_type": "stream",
     "text": [
      "(274, 604) (184, 604)\n"
     ]
    }
   ],
   "source": [
    "from sklearn.model_selecnuniquemport train_test_split\n",
    "\n",
    "X = df['description']\n",
    "y = df['scrap_type']\n",
    "\n",
    "X_train, X_test, y_train, y_test = train_test_split(X, y, test_size=0.40, random_state=4, stratify=y)\n",
    "\n",
    "from sklearn.feature_extraction.text import TfidfTransformer\n",
    "from sklearn.feature_extraction.text import TfidfVectorizer\n",
    "\n",
    "vectorizer = TfidfVectorizer()\n",
    "train_vectors = vectorizer.fit_transform(X_train)\n",
    "test_vectors = vectorizer.transform(X_test)\n",
    "\n",
    "print(train_vectors.shape, test_vectors.shape)"
   ]
  },
  {
   "cell_type": "code",
   "execution_count": 59,
   "id": "e10372d1",
   "metadata": {},
   "outputs": [
    {
     "name": "stdout",
     "output_type": "stream",
     "text": [
      "isri      0.532847\n",
      "anamet    0.467153\n",
      "Name: scrap_type, dtype: float64\n",
      " \n",
      "isri      0.532609\n",
      "anamet    0.467391\n",
      "Name: scrap_type, dtype: float64\n"
     ]
    }
   ],
   "source": [
    "print(y_train.value_counts(normalize=True))\n",
    "print(\" \")\n",
    "print(y_test.value_counts(normalize=True))"
   ]
  },
  {
   "cell_type": "code",
   "execution_count": 60,
   "id": "6974a6b4",
   "metadata": {},
   "outputs": [
    {
     "name": "stdout",
     "output_type": "stream",
     "text": [
      "0.9565217391304348\n"
     ]
    }
   ],
   "source": [
    "model = LogisticRegression()\n",
    "\n",
    "model.fit(train_vectors, y_train)\n",
    "predicted = model.predict(test_vectors)\n",
    "print(accuracy_score(y_test,predicted))\n",
    "\n",
    "results = pd.DataFrame(columns=['true', 'pred'])\n",
    "results['true'] = y_test\n",
    "results['pred'] = predicted"
   ]
  },
  {
   "cell_type": "code",
   "execution_count": 61,
   "id": "45115533",
   "metadata": {},
   "outputs": [
    {
     "name": "stdout",
     "output_type": "stream",
     "text": [
      "0.9619565217391305\n"
     ]
    }
   ],
   "source": [
    "from sklearn.svm import SVC\n",
    "\n",
    "model = SVC()\n",
    "\n",
    "model.fit(train_vectors, y_train)\n",
    "predicted = model.predict(test_vectors)\n",
    "print(accuracy_score(y_test,predicted))\n",
    "\n",
    "results = pd.DataFrame(columns=['true', 'pred'])\n",
    "results['true'] = y_test\n",
    "results['pred'] = predicted"
   ]
  },
  {
   "cell_type": "code",
   "execution_count": 62,
   "id": "721a95c1",
   "metadata": {},
   "outputs": [
    {
     "data": {
      "text/html": [
       "<div>\n",
       "<style scoped>\n",
       "    .dataframe tbody tr th:only-of-type {\n",
       "        vertical-align: middle;\n",
       "    }\n",
       "\n",
       "    .dataframe tbody tr th {\n",
       "        vertical-align: top;\n",
       "    }\n",
       "\n",
       "    .dataframe thead th {\n",
       "        text-align: right;\n",
       "    }\n",
       "</style>\n",
       "<table border=\"1\" class=\"dataframe\">\n",
       "  <thead>\n",
       "    <tr style=\"text-align: right;\">\n",
       "      <th></th>\n",
       "      <th>true</th>\n",
       "      <th>pred</th>\n",
       "    </tr>\n",
       "  </thead>\n",
       "  <tbody>\n",
       "    <tr>\n",
       "      <th>178</th>\n",
       "      <td>anamet</td>\n",
       "      <td>anamet</td>\n",
       "    </tr>\n",
       "    <tr>\n",
       "      <th>90</th>\n",
       "      <td>isri</td>\n",
       "      <td>isri</td>\n",
       "    </tr>\n",
       "    <tr>\n",
       "      <th>177</th>\n",
       "      <td>anamet</td>\n",
       "      <td>anamet</td>\n",
       "    </tr>\n",
       "    <tr>\n",
       "      <th>234</th>\n",
       "      <td>isri</td>\n",
       "      <td>isri</td>\n",
       "    </tr>\n",
       "    <tr>\n",
       "      <th>48</th>\n",
       "      <td>isri</td>\n",
       "      <td>isri</td>\n",
       "    </tr>\n",
       "    <tr>\n",
       "      <th>...</th>\n",
       "      <td>...</td>\n",
       "      <td>...</td>\n",
       "    </tr>\n",
       "    <tr>\n",
       "      <th>23</th>\n",
       "      <td>isri</td>\n",
       "      <td>anamet</td>\n",
       "    </tr>\n",
       "    <tr>\n",
       "      <th>207</th>\n",
       "      <td>anamet</td>\n",
       "      <td>isri</td>\n",
       "    </tr>\n",
       "    <tr>\n",
       "      <th>118</th>\n",
       "      <td>isri</td>\n",
       "      <td>isri</td>\n",
       "    </tr>\n",
       "    <tr>\n",
       "      <th>75</th>\n",
       "      <td>anamet</td>\n",
       "      <td>anamet</td>\n",
       "    </tr>\n",
       "    <tr>\n",
       "      <th>138</th>\n",
       "      <td>anamet</td>\n",
       "      <td>anamet</td>\n",
       "    </tr>\n",
       "  </tbody>\n",
       "</table>\n",
       "<p>184 rows × 2 columns</p>\n",
       "</div>"
      ],
      "text/plain": [
       "       true    pred\n",
       "178  anamet  anamet\n",
       "90     isri    isri\n",
       "177  anamet  anamet\n",
       "234    isri    isri\n",
       "48     isri    isri\n",
       "..      ...     ...\n",
       "23     isri  anamet\n",
       "207  anamet    isri\n",
       "118    isri    isri\n",
       "75   anamet  anamet\n",
       "138  anamet  anamet\n",
       "\n",
       "[184 rows x 2 columns]"
      ]
     },
     "execution_count": 62,
     "metadata": {},
     "output_type": "execute_result"
    }
   ],
   "source": [
    "results"
   ]
  }
 ],
 "metadata": {
  "kernelspec": {
   "display_name": "Python 3 (ipykernel)",
   "language": "python",
   "name": "python3"
  },
  "language_info": {
   "codemirror_mode": {
    "name": "ipython",
    "version": 3
   },
   "file_extension": ".py",
   "mimetype": "text/x-python",
   "name": "python",
   "nbconvert_exporter": "python",
   "pygments_lexer": "ipython3",
   "version": "3.9.10"
  },
  "vscode": {
   "interpreter": {
    "hash": "c6c04a7e252f45ffc2f7191e380805b6a5dd99aa68793d835f69a35c16ce4a30"
   }
  }
 },
 "nbformat": 4,
 "nbformat_minor": 5
}
