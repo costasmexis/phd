{
 "cells": [
  {
   "cell_type": "markdown",
   "id": "0cf57602-125b-4b81-a94d-b5010df11e76",
   "metadata": {},
   "source": [
    "# Import libraries"
   ]
  },
  {
   "cell_type": "code",
   "execution_count": 1,
   "id": "45c7e20b-c57f-4e13-b77e-11572f9e6409",
   "metadata": {},
   "outputs": [],
   "source": [
    "import pandas as pd\n",
    "import numpy as np\n",
    "import matplotlib.pyplot as plt  \n",
    "import scipy\n",
    "\n",
    "from sklearn.preprocessing import LabelEncoder\n",
    "\n",
    "from tqdm import tqdm\n",
    "\n",
    "import matplotlib.pyplot as plt\n",
    "\n",
    "from sklearn.model_selection import train_test_split\n",
    "from sklearn.feature_extraction.text import TfidfVectorizer\n",
    "from sklearn.naive_bayes import MultinomialNB\n",
    "from sklearn.metrics import accuracy_score\n",
    "from sklearn.multiclass import OneVsRestClassifier\n",
    "from nltk.corpus import stopwords\n",
    "stop_words = set(stopwords.words('english'))\n",
    "from sklearn.svm import LinearSVC\n",
    "from sklearn.linear_model import LogisticRegression\n",
    "from sklearn.pipeline import Pipeline\n",
    "import seaborn as sns\n",
    "\n",
    "import nltk\n",
    "from nltk.corpus import stopwords\n",
    "from sklearn.feature_extraction.text import TfidfVectorizer\n",
    "from sklearn.cluster import KMeans\n",
    "from sklearn.decomposition import PCA"
   ]
  },
  {
   "cell_type": "markdown",
   "id": "72776f13",
   "metadata": {},
   "source": [
    "# Read updated *Nikos* data"
   ]
  },
  {
   "cell_type": "code",
   "execution_count": 2,
   "id": "d5cd106c",
   "metadata": {},
   "outputs": [
    {
     "data": {
      "text/plain": [
       "['ANAMET',\n",
       " 'Anamet data',\n",
       " 'ISRI',\n",
       " 'Isri data',\n",
       " 'UNS data',\n",
       " 'Elements data',\n",
       " 'Material data',\n",
       " 'Process']"
      ]
     },
     "execution_count": 2,
     "metadata": {},
     "output_type": "execute_result"
    }
   ],
   "source": [
    "xls = pd.ExcelFile('data/edited_nikos_data.xlsx')\n",
    "xls.sheet_names"
   ]
  },
  {
   "cell_type": "code",
   "execution_count": 3,
   "id": "87cde166",
   "metadata": {},
   "outputs": [],
   "source": [
    "uns_data = pd.read_excel(xls, 'UNS data')\n",
    "\n",
    "uns_data.rename(columns = {'sc:isComposedOf':'elements id'}, inplace = True)\n",
    "\n",
    "elements_data = pd.read_excel(xls, 'Elements data')\n",
    "\n",
    "uns_data = pd.merge(uns_data, elements_data, how='inner', on = 'elements id')\n",
    "isri_data = pd.read_excel(xls, 'Isri data')\n",
    "anamet_data = pd.read_excel(xls, 'Anamet data')\n",
    "material_data = pd.read_excel(xls, 'Material data')\n",
    "elements_data = pd.read_excel(xls, 'Elements data')"
   ]
  },
  {
   "cell_type": "code",
   "execution_count": 4,
   "id": "b3ab523a",
   "metadata": {},
   "outputs": [
    {
     "data": {
      "text/html": [
       "<div>\n",
       "<style scoped>\n",
       "    .dataframe tbody tr th:only-of-type {\n",
       "        vertical-align: middle;\n",
       "    }\n",
       "\n",
       "    .dataframe tbody tr th {\n",
       "        vertical-align: top;\n",
       "    }\n",
       "\n",
       "    .dataframe thead th {\n",
       "        text-align: right;\n",
       "    }\n",
       "</style>\n",
       "<table border=\"1\" class=\"dataframe\">\n",
       "  <thead>\n",
       "    <tr style=\"text-align: right;\">\n",
       "      <th></th>\n",
       "      <th>isri id</th>\n",
       "      <th>sc:hasCategory</th>\n",
       "      <th>sc:hasForm</th>\n",
       "      <th>sc:isFreeFrom</th>\n",
       "      <th>sc:contains</th>\n",
       "      <th>sc:hasISRICode</th>\n",
       "      <th>sc:hasSpecification</th>\n",
       "      <th>pc:hasName</th>\n",
       "      <th>sc:isComposedOf</th>\n",
       "      <th>sc:isProcessedBy</th>\n",
       "    </tr>\n",
       "  </thead>\n",
       "  <tbody>\n",
       "    <tr>\n",
       "      <th>0</th>\n",
       "      <td>sc:ISRI_0</td>\n",
       "      <td>Nonferrous Scrap - Red Metals</td>\n",
       "      <td>Wire</td>\n",
       "      <td>NaN</td>\n",
       "      <td>Copper</td>\n",
       "      <td>Berry</td>\n",
       "      <td>Bare, Uncoated, Unalloyed</td>\n",
       "      <td>No. 1 Copper Wire</td>\n",
       "      <td>sc:Material_249</td>\n",
       "      <td>sc:Process_257</td>\n",
       "    </tr>\n",
       "    <tr>\n",
       "      <th>1</th>\n",
       "      <td>sc:ISRI_1</td>\n",
       "      <td>Nonferrous Scrap - Red Metals</td>\n",
       "      <td>Wire and Cable</td>\n",
       "      <td>Brittle Burnt Wire, Copper Tubing</td>\n",
       "      <td>Copper</td>\n",
       "      <td>Barley</td>\n",
       "      <td>Clean, Untinned, Uncoated, Unalloyed</td>\n",
       "      <td>No. 1 Copper Wire</td>\n",
       "      <td>sc:Material_249</td>\n",
       "      <td>sc:Process_257</td>\n",
       "    </tr>\n",
       "  </tbody>\n",
       "</table>\n",
       "</div>"
      ],
      "text/plain": [
       "     isri id                 sc:hasCategory      sc:hasForm  \\\n",
       "0  sc:ISRI_0  Nonferrous Scrap - Red Metals            Wire   \n",
       "1  sc:ISRI_1  Nonferrous Scrap - Red Metals  Wire and Cable   \n",
       "\n",
       "                       sc:isFreeFrom sc:contains sc:hasISRICode  \\\n",
       "0                                NaN      Copper          Berry   \n",
       "1  Brittle Burnt Wire, Copper Tubing      Copper         Barley   \n",
       "\n",
       "                    sc:hasSpecification         pc:hasName  sc:isComposedOf  \\\n",
       "0             Bare, Uncoated, Unalloyed  No. 1 Copper Wire  sc:Material_249   \n",
       "1  Clean, Untinned, Uncoated, Unalloyed  No. 1 Copper Wire  sc:Material_249   \n",
       "\n",
       "  sc:isProcessedBy  \n",
       "0   sc:Process_257  \n",
       "1   sc:Process_257  "
      ]
     },
     "execution_count": 4,
     "metadata": {},
     "output_type": "execute_result"
    }
   ],
   "source": [
    "isri_data.head(2)"
   ]
  },
  {
   "cell_type": "code",
   "execution_count": 5,
   "id": "80fdedf3",
   "metadata": {},
   "outputs": [
    {
     "data": {
      "text/html": [
       "<div>\n",
       "<style scoped>\n",
       "    .dataframe tbody tr th:only-of-type {\n",
       "        vertical-align: middle;\n",
       "    }\n",
       "\n",
       "    .dataframe tbody tr th {\n",
       "        vertical-align: top;\n",
       "    }\n",
       "\n",
       "    .dataframe thead th {\n",
       "        text-align: right;\n",
       "    }\n",
       "</style>\n",
       "<table border=\"1\" class=\"dataframe\">\n",
       "  <thead>\n",
       "    <tr style=\"text-align: right;\">\n",
       "      <th></th>\n",
       "      <th>anamet entity</th>\n",
       "      <th>sc:description</th>\n",
       "      <th>sc:hasCategory</th>\n",
       "      <th>sc:internal_code</th>\n",
       "      <th>sc:isProcessedBy</th>\n",
       "    </tr>\n",
       "  </thead>\n",
       "  <tbody>\n",
       "    <tr>\n",
       "      <th>0</th>\n",
       "      <td>sc:ANAMET_437</td>\n",
       "      <td>ΣΚΡΑΠ ΨΑΛΙΔΙΣΜΕΝΟ ΠΥΚΝ &gt;450 ΚG/M3 (ΥΛΗ)</td>\n",
       "      <td>Ferrous</td>\n",
       "      <td>40000</td>\n",
       "      <td>sc:Process_690</td>\n",
       "    </tr>\n",
       "    <tr>\n",
       "      <th>1</th>\n",
       "      <td>sc:ANAMET_438</td>\n",
       "      <td>άγνωστο</td>\n",
       "      <td>Ferrous</td>\n",
       "      <td>9000</td>\n",
       "      <td>NaN</td>\n",
       "    </tr>\n",
       "  </tbody>\n",
       "</table>\n",
       "</div>"
      ],
      "text/plain": [
       "   anamet entity                           sc:description sc:hasCategory  \\\n",
       "0  sc:ANAMET_437  ΣΚΡΑΠ ΨΑΛΙΔΙΣΜΕΝΟ ΠΥΚΝ >450 ΚG/M3 (ΥΛΗ)        Ferrous   \n",
       "1  sc:ANAMET_438                                  άγνωστο        Ferrous   \n",
       "\n",
       "   sc:internal_code sc:isProcessedBy  \n",
       "0             40000   sc:Process_690  \n",
       "1              9000              NaN  "
      ]
     },
     "execution_count": 5,
     "metadata": {},
     "output_type": "execute_result"
    }
   ],
   "source": [
    "anamet_data.head(2)"
   ]
  },
  {
   "cell_type": "code",
   "execution_count": 6,
   "id": "ba0d9d75",
   "metadata": {},
   "outputs": [
    {
     "data": {
      "text/html": [
       "<div>\n",
       "<style scoped>\n",
       "    .dataframe tbody tr th:only-of-type {\n",
       "        vertical-align: middle;\n",
       "    }\n",
       "\n",
       "    .dataframe tbody tr th {\n",
       "        vertical-align: top;\n",
       "    }\n",
       "\n",
       "    .dataframe thead th {\n",
       "        text-align: right;\n",
       "    }\n",
       "</style>\n",
       "<table border=\"1\" class=\"dataframe\">\n",
       "  <thead>\n",
       "    <tr style=\"text-align: right;\">\n",
       "      <th></th>\n",
       "      <th>uns id</th>\n",
       "      <th>sc:hasName</th>\n",
       "      <th>elements id</th>\n",
       "      <th>ar</th>\n",
       "      <th>atomicNumber</th>\n",
       "      <th>density</th>\n",
       "      <th>meltingPoint</th>\n",
       "      <th>hasName</th>\n",
       "      <th>symbol</th>\n",
       "    </tr>\n",
       "  </thead>\n",
       "  <tbody>\n",
       "    <tr>\n",
       "      <th>0</th>\n",
       "      <td>sc:UNS_712</td>\n",
       "      <td>C83300</td>\n",
       "      <td>sc:Elements_329</td>\n",
       "      <td>207.2</td>\n",
       "      <td>82</td>\n",
       "      <td>11.29</td>\n",
       "      <td>327.5</td>\n",
       "      <td>LEAD</td>\n",
       "      <td>Pb</td>\n",
       "    </tr>\n",
       "    <tr>\n",
       "      <th>1</th>\n",
       "      <td>sc:UNS_733</td>\n",
       "      <td>C84500</td>\n",
       "      <td>sc:Elements_329</td>\n",
       "      <td>207.2</td>\n",
       "      <td>82</td>\n",
       "      <td>11.29</td>\n",
       "      <td>327.5</td>\n",
       "      <td>LEAD</td>\n",
       "      <td>Pb</td>\n",
       "    </tr>\n",
       "  </tbody>\n",
       "</table>\n",
       "</div>"
      ],
      "text/plain": [
       "       uns id sc:hasName      elements id     ar  atomicNumber  density  \\\n",
       "0  sc:UNS_712     C83300  sc:Elements_329  207.2            82    11.29   \n",
       "1  sc:UNS_733     C84500  sc:Elements_329  207.2            82    11.29   \n",
       "\n",
       "   meltingPoint hasName symbol  \n",
       "0         327.5    LEAD     Pb  \n",
       "1         327.5    LEAD     Pb  "
      ]
     },
     "execution_count": 6,
     "metadata": {},
     "output_type": "execute_result"
    }
   ],
   "source": [
    "uns_data.head(2)"
   ]
  },
  {
   "cell_type": "markdown",
   "id": "d17d2cce",
   "metadata": {},
   "source": [
    "# Create `df` using `anamet` and `isri`"
   ]
  },
  {
   "cell_type": "markdown",
   "id": "b8b023e0",
   "metadata": {},
   "source": [
    "Προσπάθεια classifiaction ενός δοθέντος scap σε anamet / isri δεδομένου ενός description"
   ]
  },
  {
   "cell_type": "markdown",
   "id": "eb262c79",
   "metadata": {},
   "source": [
    "### Raw data preprocessing"
   ]
  },
  {
   "cell_type": "markdown",
   "id": "ce9fa248",
   "metadata": {},
   "source": [
    "#### `ISRI`"
   ]
  },
  {
   "cell_type": "code",
   "execution_count": 7,
   "id": "ab145ffc",
   "metadata": {},
   "outputs": [
    {
     "data": {
      "text/html": [
       "<div>\n",
       "<style scoped>\n",
       "    .dataframe tbody tr th:only-of-type {\n",
       "        vertical-align: middle;\n",
       "    }\n",
       "\n",
       "    .dataframe tbody tr th {\n",
       "        vertical-align: top;\n",
       "    }\n",
       "\n",
       "    .dataframe thead th {\n",
       "        text-align: right;\n",
       "    }\n",
       "</style>\n",
       "<table border=\"1\" class=\"dataframe\">\n",
       "  <thead>\n",
       "    <tr style=\"text-align: right;\">\n",
       "      <th></th>\n",
       "      <th>isri id</th>\n",
       "      <th>sc:hasCategory</th>\n",
       "      <th>sc:hasForm</th>\n",
       "      <th>sc:isFreeFrom</th>\n",
       "      <th>sc:contains</th>\n",
       "      <th>sc:hasISRICode</th>\n",
       "      <th>sc:hasSpecification</th>\n",
       "      <th>pc:hasName</th>\n",
       "      <th>sc:isComposedOf</th>\n",
       "      <th>sc:isProcessedBy</th>\n",
       "    </tr>\n",
       "  </thead>\n",
       "  <tbody>\n",
       "    <tr>\n",
       "      <th>0</th>\n",
       "      <td>sc:ISRI_0</td>\n",
       "      <td>Nonferrous Scrap - Red Metals</td>\n",
       "      <td>Wire</td>\n",
       "      <td>NaN</td>\n",
       "      <td>Copper</td>\n",
       "      <td>Berry</td>\n",
       "      <td>Bare, Uncoated, Unalloyed</td>\n",
       "      <td>No. 1 Copper Wire</td>\n",
       "      <td>sc:Material_249</td>\n",
       "      <td>sc:Process_257</td>\n",
       "    </tr>\n",
       "    <tr>\n",
       "      <th>1</th>\n",
       "      <td>sc:ISRI_1</td>\n",
       "      <td>Nonferrous Scrap - Red Metals</td>\n",
       "      <td>Wire and Cable</td>\n",
       "      <td>Brittle Burnt Wire, Copper Tubing</td>\n",
       "      <td>Copper</td>\n",
       "      <td>Barley</td>\n",
       "      <td>Clean, Untinned, Uncoated, Unalloyed</td>\n",
       "      <td>No. 1 Copper Wire</td>\n",
       "      <td>sc:Material_249</td>\n",
       "      <td>sc:Process_257</td>\n",
       "    </tr>\n",
       "  </tbody>\n",
       "</table>\n",
       "</div>"
      ],
      "text/plain": [
       "     isri id                 sc:hasCategory      sc:hasForm  \\\n",
       "0  sc:ISRI_0  Nonferrous Scrap - Red Metals            Wire   \n",
       "1  sc:ISRI_1  Nonferrous Scrap - Red Metals  Wire and Cable   \n",
       "\n",
       "                       sc:isFreeFrom sc:contains sc:hasISRICode  \\\n",
       "0                                NaN      Copper          Berry   \n",
       "1  Brittle Burnt Wire, Copper Tubing      Copper         Barley   \n",
       "\n",
       "                    sc:hasSpecification         pc:hasName  sc:isComposedOf  \\\n",
       "0             Bare, Uncoated, Unalloyed  No. 1 Copper Wire  sc:Material_249   \n",
       "1  Clean, Untinned, Uncoated, Unalloyed  No. 1 Copper Wire  sc:Material_249   \n",
       "\n",
       "  sc:isProcessedBy  \n",
       "0   sc:Process_257  \n",
       "1   sc:Process_257  "
      ]
     },
     "execution_count": 7,
     "metadata": {},
     "output_type": "execute_result"
    }
   ],
   "source": [
    "isri_data.head(2)"
   ]
  },
  {
   "cell_type": "code",
   "execution_count": 8,
   "id": "b5ddb481",
   "metadata": {},
   "outputs": [
    {
     "data": {
      "text/plain": [
       "(244, 10)"
      ]
     },
     "execution_count": 8,
     "metadata": {},
     "output_type": "execute_result"
    }
   ],
   "source": [
    "isri_data.shape"
   ]
  },
  {
   "cell_type": "code",
   "execution_count": 9,
   "id": "4b0ba9bd",
   "metadata": {},
   "outputs": [],
   "source": [
    "isri_data = isri_data[['isri id', 'sc:hasCategory', 'sc:hasForm', 'sc:hasSpecification', 'sc:contains', 'pc:hasName']]"
   ]
  },
  {
   "cell_type": "code",
   "execution_count": 10,
   "id": "166dc78c",
   "metadata": {},
   "outputs": [
    {
     "data": {
      "text/plain": [
       "isri id                 0\n",
       "sc:hasCategory          0\n",
       "sc:hasForm             43\n",
       "sc:hasSpecification    12\n",
       "sc:contains            68\n",
       "pc:hasName              7\n",
       "dtype: int64"
      ]
     },
     "execution_count": 10,
     "metadata": {},
     "output_type": "execute_result"
    }
   ],
   "source": [
    "isri_data.isna().sum()"
   ]
  },
  {
   "cell_type": "code",
   "execution_count": 11,
   "id": "f117c17e",
   "metadata": {},
   "outputs": [
    {
     "data": {
      "text/html": [
       "<div>\n",
       "<style scoped>\n",
       "    .dataframe tbody tr th:only-of-type {\n",
       "        vertical-align: middle;\n",
       "    }\n",
       "\n",
       "    .dataframe tbody tr th {\n",
       "        vertical-align: top;\n",
       "    }\n",
       "\n",
       "    .dataframe thead th {\n",
       "        text-align: right;\n",
       "    }\n",
       "</style>\n",
       "<table border=\"1\" class=\"dataframe\">\n",
       "  <thead>\n",
       "    <tr style=\"text-align: right;\">\n",
       "      <th></th>\n",
       "      <th>isri id</th>\n",
       "      <th>sc:hasCategory</th>\n",
       "      <th>sc:hasForm</th>\n",
       "      <th>sc:hasSpecification</th>\n",
       "      <th>sc:contains</th>\n",
       "      <th>pc:hasName</th>\n",
       "    </tr>\n",
       "  </thead>\n",
       "  <tbody>\n",
       "    <tr>\n",
       "      <th>0</th>\n",
       "      <td>sc:ISRI_0</td>\n",
       "      <td>nonferrous scrap red metals</td>\n",
       "      <td>wire</td>\n",
       "      <td>bare uncoated unalloyed</td>\n",
       "      <td>copper</td>\n",
       "      <td>copper wire</td>\n",
       "    </tr>\n",
       "    <tr>\n",
       "      <th>1</th>\n",
       "      <td>sc:ISRI_1</td>\n",
       "      <td>nonferrous scrap red metals</td>\n",
       "      <td>wire cable</td>\n",
       "      <td>clean untinned uncoated unalloyed</td>\n",
       "      <td>copper</td>\n",
       "      <td>copper wire</td>\n",
       "    </tr>\n",
       "  </tbody>\n",
       "</table>\n",
       "</div>"
      ],
      "text/plain": [
       "     isri id               sc:hasCategory  sc:hasForm  \\\n",
       "0  sc:ISRI_0  nonferrous scrap red metals        wire   \n",
       "1  sc:ISRI_1  nonferrous scrap red metals  wire cable   \n",
       "\n",
       "                 sc:hasSpecification sc:contains   pc:hasName  \n",
       "0            bare uncoated unalloyed      copper  copper wire  \n",
       "1  clean untinned uncoated unalloyed      copper  copper wire  "
      ]
     },
     "execution_count": 11,
     "metadata": {},
     "output_type": "execute_result"
    }
   ],
   "source": [
    "import texthero as hero\n",
    "from texthero import preprocessing\n",
    "\n",
    "custom_pipeline = [preprocessing.fillna,\n",
    "                   preprocessing.lowercase,\n",
    "                   preprocessing.remove_whitespace,\n",
    "                   preprocessing.remove_stopwords]\n",
    "\n",
    "for col in isri_data.drop('isri id', axis=1).columns:\n",
    "    isri_data[col] = hero.clean(isri_data[col])\n",
    "\n",
    "isri_data.head(2)"
   ]
  },
  {
   "cell_type": "code",
   "execution_count": 12,
   "id": "82002c7c",
   "metadata": {},
   "outputs": [
    {
     "data": {
      "text/plain": [
       "isri id                0\n",
       "sc:hasCategory         0\n",
       "sc:hasForm             0\n",
       "sc:hasSpecification    0\n",
       "sc:contains            0\n",
       "pc:hasName             0\n",
       "dtype: int64"
      ]
     },
     "execution_count": 12,
     "metadata": {},
     "output_type": "execute_result"
    }
   ],
   "source": [
    "isri_data.isna().sum()"
   ]
  },
  {
   "cell_type": "markdown",
   "id": "31858ecc",
   "metadata": {},
   "source": [
    "#### `ANAMET`"
   ]
  },
  {
   "cell_type": "code",
   "execution_count": 13,
   "id": "c1c3a3a6",
   "metadata": {},
   "outputs": [
    {
     "data": {
      "text/html": [
       "<div>\n",
       "<style scoped>\n",
       "    .dataframe tbody tr th:only-of-type {\n",
       "        vertical-align: middle;\n",
       "    }\n",
       "\n",
       "    .dataframe tbody tr th {\n",
       "        vertical-align: top;\n",
       "    }\n",
       "\n",
       "    .dataframe thead th {\n",
       "        text-align: right;\n",
       "    }\n",
       "</style>\n",
       "<table border=\"1\" class=\"dataframe\">\n",
       "  <thead>\n",
       "    <tr style=\"text-align: right;\">\n",
       "      <th></th>\n",
       "      <th>anamet entity</th>\n",
       "      <th>sc:description</th>\n",
       "      <th>sc:hasCategory</th>\n",
       "      <th>sc:internal_code</th>\n",
       "      <th>sc:isProcessedBy</th>\n",
       "    </tr>\n",
       "  </thead>\n",
       "  <tbody>\n",
       "    <tr>\n",
       "      <th>0</th>\n",
       "      <td>sc:ANAMET_437</td>\n",
       "      <td>ΣΚΡΑΠ ΨΑΛΙΔΙΣΜΕΝΟ ΠΥΚΝ &gt;450 ΚG/M3 (ΥΛΗ)</td>\n",
       "      <td>Ferrous</td>\n",
       "      <td>40000</td>\n",
       "      <td>sc:Process_690</td>\n",
       "    </tr>\n",
       "    <tr>\n",
       "      <th>1</th>\n",
       "      <td>sc:ANAMET_438</td>\n",
       "      <td>άγνωστο</td>\n",
       "      <td>Ferrous</td>\n",
       "      <td>9000</td>\n",
       "      <td>NaN</td>\n",
       "    </tr>\n",
       "    <tr>\n",
       "      <th>2</th>\n",
       "      <td>sc:ANAMET_439</td>\n",
       "      <td>κουτάκι</td>\n",
       "      <td>Ferrous</td>\n",
       "      <td>9101</td>\n",
       "      <td>NaN</td>\n",
       "    </tr>\n",
       "    <tr>\n",
       "      <th>3</th>\n",
       "      <td>sc:ANAMET_440</td>\n",
       "      <td>λαμαρίνες</td>\n",
       "      <td>Ferrous</td>\n",
       "      <td>9102</td>\n",
       "      <td>NaN</td>\n",
       "    </tr>\n",
       "    <tr>\n",
       "      <th>4</th>\n",
       "      <td>sc:ANAMET_441</td>\n",
       "      <td>ζάντες + βαρύ προς shredder κλπ από ΟΤΚΖ</td>\n",
       "      <td>Ferrous</td>\n",
       "      <td>9103</td>\n",
       "      <td>NaN</td>\n",
       "    </tr>\n",
       "  </tbody>\n",
       "</table>\n",
       "</div>"
      ],
      "text/plain": [
       "   anamet entity                            sc:description sc:hasCategory  \\\n",
       "0  sc:ANAMET_437   ΣΚΡΑΠ ΨΑΛΙΔΙΣΜΕΝΟ ΠΥΚΝ >450 ΚG/M3 (ΥΛΗ)        Ferrous   \n",
       "1  sc:ANAMET_438                                   άγνωστο        Ferrous   \n",
       "2  sc:ANAMET_439                                   κουτάκι        Ferrous   \n",
       "3  sc:ANAMET_440                                 λαμαρίνες        Ferrous   \n",
       "4  sc:ANAMET_441  ζάντες + βαρύ προς shredder κλπ από ΟΤΚΖ        Ferrous   \n",
       "\n",
       "   sc:internal_code sc:isProcessedBy  \n",
       "0             40000   sc:Process_690  \n",
       "1              9000              NaN  \n",
       "2              9101              NaN  \n",
       "3              9102              NaN  \n",
       "4              9103              NaN  "
      ]
     },
     "execution_count": 13,
     "metadata": {},
     "output_type": "execute_result"
    }
   ],
   "source": [
    "anamet_data.head()"
   ]
  },
  {
   "cell_type": "code",
   "execution_count": 14,
   "id": "898d7c51",
   "metadata": {},
   "outputs": [
    {
     "data": {
      "text/plain": [
       "(322, 5)"
      ]
     },
     "execution_count": 14,
     "metadata": {},
     "output_type": "execute_result"
    }
   ],
   "source": [
    "anamet_data.shape"
   ]
  },
  {
   "cell_type": "markdown",
   "id": "f2747bbb",
   "metadata": {},
   "source": [
    "Keep only ANAMET with english `sc:description`"
   ]
  },
  {
   "cell_type": "code",
   "execution_count": 15,
   "id": "3cd6d986",
   "metadata": {},
   "outputs": [
    {
     "data": {
      "text/html": [
       "<div>\n",
       "<style scoped>\n",
       "    .dataframe tbody tr th:only-of-type {\n",
       "        vertical-align: middle;\n",
       "    }\n",
       "\n",
       "    .dataframe tbody tr th {\n",
       "        vertical-align: top;\n",
       "    }\n",
       "\n",
       "    .dataframe thead th {\n",
       "        text-align: right;\n",
       "    }\n",
       "</style>\n",
       "<table border=\"1\" class=\"dataframe\">\n",
       "  <thead>\n",
       "    <tr style=\"text-align: right;\">\n",
       "      <th></th>\n",
       "      <th>anamet entity</th>\n",
       "      <th>sc:description</th>\n",
       "      <th>sc:hasCategory</th>\n",
       "      <th>sc:internal_code</th>\n",
       "      <th>sc:isProcessedBy</th>\n",
       "    </tr>\n",
       "  </thead>\n",
       "  <tbody>\n",
       "    <tr>\n",
       "      <th>28</th>\n",
       "      <td>sc:ANAMET_465</td>\n",
       "      <td>COPPER SCRAP MILLBERRY CABLES FOR STRIP.</td>\n",
       "      <td>Non-Ferrous</td>\n",
       "      <td>40014</td>\n",
       "      <td>NaN</td>\n",
       "    </tr>\n",
       "    <tr>\n",
       "      <th>30</th>\n",
       "      <td>sc:ANAMET_466</td>\n",
       "      <td>COPPER SCRAP BIRCH CABLES FOR STRIPPING</td>\n",
       "      <td>Non-Ferrous</td>\n",
       "      <td>40015</td>\n",
       "      <td>NaN</td>\n",
       "    </tr>\n",
       "  </tbody>\n",
       "</table>\n",
       "</div>"
      ],
      "text/plain": [
       "    anamet entity                            sc:description sc:hasCategory  \\\n",
       "28  sc:ANAMET_465  COPPER SCRAP MILLBERRY CABLES FOR STRIP.    Non-Ferrous   \n",
       "30  sc:ANAMET_466   COPPER SCRAP BIRCH CABLES FOR STRIPPING    Non-Ferrous   \n",
       "\n",
       "    sc:internal_code sc:isProcessedBy  \n",
       "28             40014              NaN  \n",
       "30             40015              NaN  "
      ]
     },
     "execution_count": 15,
     "metadata": {},
     "output_type": "execute_result"
    }
   ],
   "source": [
    "import unicodedata as ud\n",
    "\n",
    "latin_letters= {}\n",
    "\n",
    "def is_latin(uchr):\n",
    "    try: return latin_letters[uchr]\n",
    "    except KeyError:\n",
    "         return latin_letters.setdefault(uchr, 'LATIN' in ud.name(uchr))\n",
    "\n",
    "def only_roman_chars(unistr):\n",
    "    return all(is_latin(uchr)\n",
    "           for uchr in unistr\n",
    "           if uchr.isalpha()) # isalpha suggested by John Machin\n",
    "\n",
    "e_description_index = []\n",
    "for row in range(len(anamet_data)):\n",
    "    if only_roman_chars(str(anamet_data['sc:description'].iloc[row])):\n",
    "        e_description_index.append(row)\n",
    "        \n",
    "anamet_data = anamet_data.iloc[e_description_index]\n",
    "anamet_data.head(2)"
   ]
  },
  {
   "cell_type": "code",
   "execution_count": 16,
   "id": "95749748",
   "metadata": {},
   "outputs": [
    {
     "data": {
      "text/plain": [
       "(214, 5)"
      ]
     },
     "execution_count": 16,
     "metadata": {},
     "output_type": "execute_result"
    }
   ],
   "source": [
    "anamet_data.shape"
   ]
  },
  {
   "cell_type": "code",
   "execution_count": 17,
   "id": "38ad4328",
   "metadata": {},
   "outputs": [
    {
     "data": {
      "text/html": [
       "<div>\n",
       "<style scoped>\n",
       "    .dataframe tbody tr th:only-of-type {\n",
       "        vertical-align: middle;\n",
       "    }\n",
       "\n",
       "    .dataframe tbody tr th {\n",
       "        vertical-align: top;\n",
       "    }\n",
       "\n",
       "    .dataframe thead th {\n",
       "        text-align: right;\n",
       "    }\n",
       "</style>\n",
       "<table border=\"1\" class=\"dataframe\">\n",
       "  <thead>\n",
       "    <tr style=\"text-align: right;\">\n",
       "      <th></th>\n",
       "      <th>anamet entity</th>\n",
       "      <th>sc:description</th>\n",
       "      <th>sc:hasCategory</th>\n",
       "    </tr>\n",
       "  </thead>\n",
       "  <tbody>\n",
       "    <tr>\n",
       "      <th>28</th>\n",
       "      <td>sc:ANAMET_465</td>\n",
       "      <td>COPPER SCRAP MILLBERRY CABLES FOR STRIP.</td>\n",
       "      <td>Non-Ferrous</td>\n",
       "    </tr>\n",
       "    <tr>\n",
       "      <th>30</th>\n",
       "      <td>sc:ANAMET_466</td>\n",
       "      <td>COPPER SCRAP BIRCH CABLES FOR STRIPPING</td>\n",
       "      <td>Non-Ferrous</td>\n",
       "    </tr>\n",
       "  </tbody>\n",
       "</table>\n",
       "</div>"
      ],
      "text/plain": [
       "    anamet entity                            sc:description sc:hasCategory\n",
       "28  sc:ANAMET_465  COPPER SCRAP MILLBERRY CABLES FOR STRIP.    Non-Ferrous\n",
       "30  sc:ANAMET_466   COPPER SCRAP BIRCH CABLES FOR STRIPPING    Non-Ferrous"
      ]
     },
     "execution_count": 17,
     "metadata": {},
     "output_type": "execute_result"
    }
   ],
   "source": [
    "anamet_data = anamet_data[['anamet entity', 'sc:description', 'sc:hasCategory']]\n",
    "anamet_data.head(2)"
   ]
  },
  {
   "cell_type": "code",
   "execution_count": 18,
   "id": "42de23f5",
   "metadata": {},
   "outputs": [
    {
     "data": {
      "text/plain": [
       "anamet entity     0\n",
       "sc:description    0\n",
       "sc:hasCategory    0\n",
       "dtype: int64"
      ]
     },
     "execution_count": 18,
     "metadata": {},
     "output_type": "execute_result"
    }
   ],
   "source": [
    "anamet_data.isna().sum()"
   ]
  },
  {
   "cell_type": "code",
   "execution_count": 19,
   "id": "6bf60987",
   "metadata": {},
   "outputs": [
    {
     "data": {
      "text/html": [
       "<div>\n",
       "<style scoped>\n",
       "    .dataframe tbody tr th:only-of-type {\n",
       "        vertical-align: middle;\n",
       "    }\n",
       "\n",
       "    .dataframe tbody tr th {\n",
       "        vertical-align: top;\n",
       "    }\n",
       "\n",
       "    .dataframe thead th {\n",
       "        text-align: right;\n",
       "    }\n",
       "</style>\n",
       "<table border=\"1\" class=\"dataframe\">\n",
       "  <thead>\n",
       "    <tr style=\"text-align: right;\">\n",
       "      <th></th>\n",
       "      <th>anamet entity</th>\n",
       "      <th>sc:description</th>\n",
       "      <th>sc:hasCategory</th>\n",
       "    </tr>\n",
       "  </thead>\n",
       "  <tbody>\n",
       "    <tr>\n",
       "      <th>28</th>\n",
       "      <td>sc:ANAMET_465</td>\n",
       "      <td>copper scrap millberry cables strip</td>\n",
       "      <td>non ferrous</td>\n",
       "    </tr>\n",
       "    <tr>\n",
       "      <th>30</th>\n",
       "      <td>sc:ANAMET_466</td>\n",
       "      <td>copper scrap birch cables stripping</td>\n",
       "      <td>non ferrous</td>\n",
       "    </tr>\n",
       "  </tbody>\n",
       "</table>\n",
       "</div>"
      ],
      "text/plain": [
       "    anamet entity                       sc:description sc:hasCategory\n",
       "28  sc:ANAMET_465  copper scrap millberry cables strip    non ferrous\n",
       "30  sc:ANAMET_466  copper scrap birch cables stripping    non ferrous"
      ]
     },
     "execution_count": 19,
     "metadata": {},
     "output_type": "execute_result"
    }
   ],
   "source": [
    "for col in anamet_data.drop('anamet entity', axis=1).columns:\n",
    "    anamet_data[col] = hero.clean(anamet_data[col])\n",
    "\n",
    "anamet_data.head(2)"
   ]
  },
  {
   "cell_type": "markdown",
   "id": "58b291bd",
   "metadata": {},
   "source": [
    "# Combine both datasets"
   ]
  },
  {
   "cell_type": "markdown",
   "id": "8224e3d5",
   "metadata": {},
   "source": [
    "Will combine `ISRI` and `ANAMET` dataframes into one."
   ]
  },
  {
   "cell_type": "code",
   "execution_count": 20,
   "id": "6a6cab11",
   "metadata": {},
   "outputs": [],
   "source": [
    "df = pd.DataFrame()"
   ]
  },
  {
   "cell_type": "code",
   "execution_count": 21,
   "id": "0af6b6d4",
   "metadata": {},
   "outputs": [
    {
     "data": {
      "text/html": [
       "<div>\n",
       "<style scoped>\n",
       "    .dataframe tbody tr th:only-of-type {\n",
       "        vertical-align: middle;\n",
       "    }\n",
       "\n",
       "    .dataframe tbody tr th {\n",
       "        vertical-align: top;\n",
       "    }\n",
       "\n",
       "    .dataframe thead th {\n",
       "        text-align: right;\n",
       "    }\n",
       "</style>\n",
       "<table border=\"1\" class=\"dataframe\">\n",
       "  <thead>\n",
       "    <tr style=\"text-align: right;\">\n",
       "      <th></th>\n",
       "      <th>isri id</th>\n",
       "      <th>sc:hasCategory</th>\n",
       "      <th>sc:hasForm</th>\n",
       "      <th>sc:hasSpecification</th>\n",
       "      <th>sc:contains</th>\n",
       "      <th>pc:hasName</th>\n",
       "    </tr>\n",
       "  </thead>\n",
       "  <tbody>\n",
       "    <tr>\n",
       "      <th>0</th>\n",
       "      <td>sc:ISRI_0</td>\n",
       "      <td>nonferrous scrap red metals</td>\n",
       "      <td>wire</td>\n",
       "      <td>bare uncoated unalloyed</td>\n",
       "      <td>copper</td>\n",
       "      <td>copper wire</td>\n",
       "    </tr>\n",
       "  </tbody>\n",
       "</table>\n",
       "</div>"
      ],
      "text/plain": [
       "     isri id               sc:hasCategory sc:hasForm      sc:hasSpecification  \\\n",
       "0  sc:ISRI_0  nonferrous scrap red metals       wire  bare uncoated unalloyed   \n",
       "\n",
       "  sc:contains   pc:hasName  \n",
       "0      copper  copper wire  "
      ]
     },
     "execution_count": 21,
     "metadata": {},
     "output_type": "execute_result"
    }
   ],
   "source": [
    "isri_data.head(1)"
   ]
  },
  {
   "cell_type": "code",
   "execution_count": 22,
   "id": "46d40181",
   "metadata": {},
   "outputs": [
    {
     "data": {
      "text/html": [
       "<div>\n",
       "<style scoped>\n",
       "    .dataframe tbody tr th:only-of-type {\n",
       "        vertical-align: middle;\n",
       "    }\n",
       "\n",
       "    .dataframe tbody tr th {\n",
       "        vertical-align: top;\n",
       "    }\n",
       "\n",
       "    .dataframe thead th {\n",
       "        text-align: right;\n",
       "    }\n",
       "</style>\n",
       "<table border=\"1\" class=\"dataframe\">\n",
       "  <thead>\n",
       "    <tr style=\"text-align: right;\">\n",
       "      <th></th>\n",
       "      <th>anamet entity</th>\n",
       "      <th>sc:description</th>\n",
       "      <th>sc:hasCategory</th>\n",
       "    </tr>\n",
       "  </thead>\n",
       "  <tbody>\n",
       "    <tr>\n",
       "      <th>28</th>\n",
       "      <td>sc:ANAMET_465</td>\n",
       "      <td>copper scrap millberry cables strip</td>\n",
       "      <td>non ferrous</td>\n",
       "    </tr>\n",
       "  </tbody>\n",
       "</table>\n",
       "</div>"
      ],
      "text/plain": [
       "    anamet entity                       sc:description sc:hasCategory\n",
       "28  sc:ANAMET_465  copper scrap millberry cables strip    non ferrous"
      ]
     },
     "execution_count": 22,
     "metadata": {},
     "output_type": "execute_result"
    }
   ],
   "source": [
    "anamet_data.head(1)"
   ]
  },
  {
   "cell_type": "code",
   "execution_count": 23,
   "id": "7362d091-2302-4990-86fb-827fca292ace",
   "metadata": {},
   "outputs": [
    {
     "data": {
      "text/html": [
       "<div>\n",
       "<style scoped>\n",
       "    .dataframe tbody tr th:only-of-type {\n",
       "        vertical-align: middle;\n",
       "    }\n",
       "\n",
       "    .dataframe tbody tr th {\n",
       "        vertical-align: top;\n",
       "    }\n",
       "\n",
       "    .dataframe thead th {\n",
       "        text-align: right;\n",
       "    }\n",
       "</style>\n",
       "<table border=\"1\" class=\"dataframe\">\n",
       "  <thead>\n",
       "    <tr style=\"text-align: right;\">\n",
       "      <th></th>\n",
       "      <th>isri id</th>\n",
       "      <th>corpus</th>\n",
       "    </tr>\n",
       "  </thead>\n",
       "  <tbody>\n",
       "    <tr>\n",
       "      <th>0</th>\n",
       "      <td>sc:ISRI_0</td>\n",
       "      <td>bare uncoated unalloyed wire copper nonferrous...</td>\n",
       "    </tr>\n",
       "  </tbody>\n",
       "</table>\n",
       "</div>"
      ],
      "text/plain": [
       "     isri id                                             corpus\n",
       "0  sc:ISRI_0  bare uncoated unalloyed wire copper nonferrous..."
      ]
     },
     "execution_count": 23,
     "metadata": {},
     "output_type": "execute_result"
    }
   ],
   "source": [
    "isri_data['corpus'] = isri_data['sc:hasSpecification'] + ' ' + isri_data['sc:hasForm'] + ' '  + isri_data['sc:contains'] + ' ' + isri_data['sc:hasCategory'] + ' '+ isri_data['pc:hasName']\n",
    "isri_data = isri_data[['isri id', 'corpus']]\n",
    "isri_data.head(1)"
   ]
  },
  {
   "cell_type": "code",
   "execution_count": 24,
   "id": "aecbf48a-8249-43a0-8a1d-3ccf70c680b3",
   "metadata": {},
   "outputs": [
    {
     "data": {
      "text/html": [
       "<div>\n",
       "<style scoped>\n",
       "    .dataframe tbody tr th:only-of-type {\n",
       "        vertical-align: middle;\n",
       "    }\n",
       "\n",
       "    .dataframe tbody tr th {\n",
       "        vertical-align: top;\n",
       "    }\n",
       "\n",
       "    .dataframe thead th {\n",
       "        text-align: right;\n",
       "    }\n",
       "</style>\n",
       "<table border=\"1\" class=\"dataframe\">\n",
       "  <thead>\n",
       "    <tr style=\"text-align: right;\">\n",
       "      <th></th>\n",
       "      <th>anamet entity</th>\n",
       "      <th>corpus</th>\n",
       "    </tr>\n",
       "  </thead>\n",
       "  <tbody>\n",
       "    <tr>\n",
       "      <th>28</th>\n",
       "      <td>sc:ANAMET_465</td>\n",
       "      <td>copper scrap millberry cables strip non ferrous</td>\n",
       "    </tr>\n",
       "  </tbody>\n",
       "</table>\n",
       "</div>"
      ],
      "text/plain": [
       "    anamet entity                                           corpus\n",
       "28  sc:ANAMET_465  copper scrap millberry cables strip non ferrous"
      ]
     },
     "execution_count": 24,
     "metadata": {},
     "output_type": "execute_result"
    }
   ],
   "source": [
    "anamet_data['corpus'] = anamet_data['sc:description'] + ' ' + anamet_data['sc:hasCategory']\n",
    "anamet_data = anamet_data[['anamet entity', 'corpus']]\n",
    "anamet_data.head(1)"
   ]
  },
  {
   "cell_type": "code",
   "execution_count": 25,
   "id": "0372ab2f",
   "metadata": {},
   "outputs": [],
   "source": [
    "isri_data.rename(columns = {'isri id':'scrap_type'}, inplace = True)\n",
    "anamet_data.rename(columns= {'anamet entity':'scrap_type'}, inplace = True)"
   ]
  },
  {
   "cell_type": "markdown",
   "id": "e85dad4b",
   "metadata": {},
   "source": [
    "Concat the dfs"
   ]
  },
  {
   "cell_type": "code",
   "execution_count": 26,
   "id": "aee66fdd",
   "metadata": {},
   "outputs": [
    {
     "data": {
      "text/html": [
       "<div>\n",
       "<style scoped>\n",
       "    .dataframe tbody tr th:only-of-type {\n",
       "        vertical-align: middle;\n",
       "    }\n",
       "\n",
       "    .dataframe tbody tr th {\n",
       "        vertical-align: top;\n",
       "    }\n",
       "\n",
       "    .dataframe thead th {\n",
       "        text-align: right;\n",
       "    }\n",
       "</style>\n",
       "<table border=\"1\" class=\"dataframe\">\n",
       "  <thead>\n",
       "    <tr style=\"text-align: right;\">\n",
       "      <th></th>\n",
       "      <th>scrap_type</th>\n",
       "      <th>corpus</th>\n",
       "    </tr>\n",
       "  </thead>\n",
       "  <tbody>\n",
       "    <tr>\n",
       "      <th>0</th>\n",
       "      <td>sc:ISRI_0</td>\n",
       "      <td>bare uncoated unalloyed wire copper nonferrous...</td>\n",
       "    </tr>\n",
       "    <tr>\n",
       "      <th>1</th>\n",
       "      <td>sc:ISRI_1</td>\n",
       "      <td>clean untinned uncoated unalloyed wire cable c...</td>\n",
       "    </tr>\n",
       "    <tr>\n",
       "      <th>2</th>\n",
       "      <td>sc:ISRI_2</td>\n",
       "      <td>unalloyed miscellaneous wire copper nonferrous...</td>\n",
       "    </tr>\n",
       "    <tr>\n",
       "      <th>3</th>\n",
       "      <td>sc:ISRI_3</td>\n",
       "      <td>clean unalloyed uncoated clippings punchings b...</td>\n",
       "    </tr>\n",
       "    <tr>\n",
       "      <th>4</th>\n",
       "      <td>sc:ISRI_4</td>\n",
       "      <td>unalloyed miscellaneous scrap copper nonferrou...</td>\n",
       "    </tr>\n",
       "    <tr>\n",
       "      <th>...</th>\n",
       "      <td>...</td>\n",
       "      <td>...</td>\n",
       "    </tr>\n",
       "    <tr>\n",
       "      <th>317</th>\n",
       "      <td>sc:ANAMET_684</td>\n",
       "      <td>lead scrap e non ferrous</td>\n",
       "    </tr>\n",
       "    <tr>\n",
       "      <th>318</th>\n",
       "      <td>sc:ANAMET_685</td>\n",
       "      <td>electric motors shredded weee non ferrous</td>\n",
       "    </tr>\n",
       "    <tr>\n",
       "      <th>319</th>\n",
       "      <td>sc:ANAMET_686</td>\n",
       "      <td>black plastic scrap weee e non ferrous</td>\n",
       "    </tr>\n",
       "    <tr>\n",
       "      <th>320</th>\n",
       "      <td>sc:ANAMET_687</td>\n",
       "      <td>scrap plexiglass e non ferrous</td>\n",
       "    </tr>\n",
       "    <tr>\n",
       "      <th>321</th>\n",
       "      <td>sc:ANAMET_688</td>\n",
       "      <td>mixed plastic scrap weee e non ferrous</td>\n",
       "    </tr>\n",
       "  </tbody>\n",
       "</table>\n",
       "<p>458 rows × 2 columns</p>\n",
       "</div>"
      ],
      "text/plain": [
       "        scrap_type                                             corpus\n",
       "0        sc:ISRI_0  bare uncoated unalloyed wire copper nonferrous...\n",
       "1        sc:ISRI_1  clean untinned uncoated unalloyed wire cable c...\n",
       "2        sc:ISRI_2  unalloyed miscellaneous wire copper nonferrous...\n",
       "3        sc:ISRI_3  clean unalloyed uncoated clippings punchings b...\n",
       "4        sc:ISRI_4  unalloyed miscellaneous scrap copper nonferrou...\n",
       "..             ...                                                ...\n",
       "317  sc:ANAMET_684                           lead scrap e non ferrous\n",
       "318  sc:ANAMET_685          electric motors shredded weee non ferrous\n",
       "319  sc:ANAMET_686             black plastic scrap weee e non ferrous\n",
       "320  sc:ANAMET_687                     scrap plexiglass e non ferrous\n",
       "321  sc:ANAMET_688             mixed plastic scrap weee e non ferrous\n",
       "\n",
       "[458 rows x 2 columns]"
      ]
     },
     "execution_count": 26,
     "metadata": {},
     "output_type": "execute_result"
    }
   ],
   "source": [
    "df = pd.concat([isri_data, anamet_data], axis=0)\n",
    "df"
   ]
  },
  {
   "cell_type": "code",
   "execution_count": 27,
   "id": "8e49b176-fb35-4195-81b7-77f1469dd642",
   "metadata": {},
   "outputs": [
    {
     "name": "stdout",
     "output_type": "stream",
     "text": [
      "244\n",
      "214\n",
      "458\n"
     ]
    }
   ],
   "source": [
    "print( isri_data['scrap_type'].nunique() )\n",
    "print( anamet_data['scrap_type'].nunique() )\n",
    "print( df['scrap_type'].nunique() )"
   ]
  },
  {
   "cell_type": "markdown",
   "id": "f223fa09-59b4-4959-a120-93c29a4e835c",
   "metadata": {},
   "source": [
    "Every row is a different scrap type."
   ]
  },
  {
   "cell_type": "markdown",
   "id": "e2c84ffd-70d2-4342-a893-47e7f1945c7c",
   "metadata": {},
   "source": [
    "### Vectorize `corpus` using TF-IDF"
   ]
  },
  {
   "cell_type": "code",
   "execution_count": 28,
   "id": "4f4c8abe-5c8c-4d70-ba92-5fd575ef6c68",
   "metadata": {},
   "outputs": [
    {
     "data": {
      "text/plain": [
       "<458x48 sparse matrix of type '<class 'numpy.float64'>'\n",
       "\twith 2707 stored elements in Compressed Sparse Row format>"
      ]
     },
     "execution_count": 28,
     "metadata": {},
     "output_type": "execute_result"
    }
   ],
   "source": [
    "vectorizer = TfidfVectorizer(min_df=20)\n",
    "# vectorizer = TfidfVectorizer()\n",
    "\n",
    "X = vectorizer.fit_transform(df['corpus'])                             \n",
    "X"
   ]
  },
  {
   "cell_type": "markdown",
   "id": "696d2192-edf9-474d-9728-f50a8bf05781",
   "metadata": {},
   "source": [
    "### Find optimal k for KMeans"
   ]
  },
  {
   "cell_type": "code",
   "execution_count": 29,
   "id": "e2d8025c-88db-44ef-a5a0-f596a1e8a95a",
   "metadata": {},
   "outputs": [
    {
     "data": {
      "image/png": "[encoded data removed]",
      "text/plain": [
       "<Figure size 800x550 with 1 Axes>"
      ]
     },
     "metadata": {},
     "output_type": "display_data"
    },
    {
     "data": {
      "text/html": [
       "<style>#sk-container-id-1 {color: black;background-color: white;}#sk-container-id-1 pre{padding: 0;}#sk-container-id-1 div.sk-toggleable {background-color: white;}#sk-container-id-1 label.sk-toggleable__label {cursor: pointer;display: block;width: 100%;margin-bottom: 0;padding: 0.3em;box-sizing: border-box;text-align: center;}#sk-container-id-1 label.sk-toggleable__label-arrow:before {content: \"▸\";float: left;margin-right: 0.25em;color: #696969;}#sk-container-id-1 label.sk-toggleable__label-arrow:hover:before {color: black;}#sk-container-id-1 div.sk-estimator:hover label.sk-toggleable__label-arrow:before {color: black;}#sk-container-id-1 div.sk-toggleable__content {max-height: 0;max-width: 0;overflow: hidden;text-align: left;background-color: #f0f8ff;}#sk-container-id-1 div.sk-toggleable__content pre {margin: 0.2em;color: black;border-radius: 0.25em;background-color: #f0f8ff;}#sk-container-id-1 input.sk-toggleable__control:checked~div.sk-toggleable__content {max-height: 200px;max-width: 100%;overflow: auto;}#sk-container-id-1 input.sk-toggleable__control:checked~label.sk-toggleable__label-arrow:before {content: \"▾\";}#sk-container-id-1 div.sk-estimator input.sk-toggleable__control:checked~label.sk-toggleable__label {background-color: #d4ebff;}#sk-container-id-1 div.sk-label input.sk-toggleable__control:checked~label.sk-toggleable__label {background-color: #d4ebff;}#sk-container-id-1 input.sk-hidden--visually {border: 0;clip: rect(1px 1px 1px 1px);clip: rect(1px, 1px, 1px, 1px);height: 1px;margin: -1px;overflow: hidden;padding: 0;position: absolute;width: 1px;}#sk-container-id-1 div.sk-estimator {font-family: monospace;background-color: #f0f8ff;border: 1px dotted black;border-radius: 0.25em;box-sizing: border-box;margin-bottom: 0.5em;}#sk-container-id-1 div.sk-estimator:hover {background-color: #d4ebff;}#sk-container-id-1 div.sk-parallel-item::after {content: \"\";width: 100%;border-bottom: 1px solid gray;flex-grow: 1;}#sk-container-id-1 div.sk-label:hover label.sk-toggleable__label {background-color: #d4ebff;}#sk-container-id-1 div.sk-serial::before {content: \"\";position: absolute;border-left: 1px solid gray;box-sizing: border-box;top: 0;bottom: 0;left: 50%;z-index: 0;}#sk-container-id-1 div.sk-serial {display: flex;flex-direction: column;align-items: center;background-color: white;padding-right: 0.2em;padding-left: 0.2em;position: relative;}#sk-container-id-1 div.sk-item {position: relative;z-index: 1;}#sk-container-id-1 div.sk-parallel {display: flex;align-items: stretch;justify-content: center;background-color: white;position: relative;}#sk-container-id-1 div.sk-item::before, #sk-container-id-1 div.sk-parallel-item::before {content: \"\";position: absolute;border-left: 1px solid gray;box-sizing: border-box;top: 0;bottom: 0;left: 50%;z-index: -1;}#sk-container-id-1 div.sk-parallel-item {display: flex;flex-direction: column;z-index: 1;position: relative;background-color: white;}#sk-container-id-1 div.sk-parallel-item:first-child::after {align-self: flex-end;width: 50%;}#sk-container-id-1 div.sk-parallel-item:last-child::after {align-self: flex-start;width: 50%;}#sk-container-id-1 div.sk-parallel-item:only-child::after {width: 0;}#sk-container-id-1 div.sk-dashed-wrapped {border: 1px dashed gray;margin: 0 0.4em 0.5em 0.4em;box-sizing: border-box;padding-bottom: 0.4em;background-color: white;}#sk-container-id-1 div.sk-label label {font-family: monospace;font-weight: bold;display: inline-block;line-height: 1.2em;}#sk-container-id-1 div.sk-label-container {text-align: center;}#sk-container-id-1 div.sk-container {/* jupyter's `normalize.less` sets `[hidden] { display: none; }` but bootstrap.min.css set `[hidden] { display: none !important; }` so we also need the `!important` here to be able to override the default hidden behavior on the sphinx rendered scikit-learn.org. See: https://github.com/scikit-learn/scikit-learn/issues/21755 */display: inline-block !important;position: relative;}#sk-container-id-1 div.sk-text-repr-fallback {display: none;}</style><div id=\"sk-container-id-1\" class=\"sk-top-container\"><div class=\"sk-text-repr-fallback\"><pre>KElbowVisualizer(ax=&lt;AxesSubplot: title={&#x27;center&#x27;: &#x27;Distortion Score Elbow for KMeans Clustering&#x27;}, xlabel=&#x27;k&#x27;, ylabel=&#x27;distortion score&#x27;&gt;,\n",
       "                 estimator=KMeans(n_clusters=19, random_state=1), k=(2, 20),\n",
       "                 timings=False)</pre><b>In a Jupyter environment, please rerun this cell to show the HTML representation or trust the notebook. <br />On GitHub, the HTML representation is unable to render, please try loading this page with nbviewer.org.</b></div><div class=\"sk-container\" hidden><div class=\"sk-item sk-dashed-wrapped\"><div class=\"sk-label-container\"><div class=\"sk-label sk-toggleable\"><input class=\"sk-toggleable__control sk-hidden--visually\" id=\"sk-estimator-id-1\" type=\"checkbox\" ><label for=\"sk-estimator-id-1\" class=\"sk-toggleable__label sk-toggleable__label-arrow\">KElbowVisualizer</label><div class=\"sk-toggleable__content\"><pre>KElbowVisualizer(ax=&lt;AxesSubplot: title={&#x27;center&#x27;: &#x27;Distortion Score Elbow for KMeans Clustering&#x27;}, xlabel=&#x27;k&#x27;, ylabel=&#x27;distortion score&#x27;&gt;,\n",
       "                 estimator=KMeans(n_clusters=19, random_state=1), k=(2, 20),\n",
       "                 timings=False)</pre></div></div></div><div class=\"sk-parallel\"><div class=\"sk-parallel-item\"><div class=\"sk-item\"><div class=\"sk-label-container\"><div class=\"sk-label sk-toggleable\"><input class=\"sk-toggleable__control sk-hidden--visually\" id=\"sk-estimator-id-2\" type=\"checkbox\" ><label for=\"sk-estimator-id-2\" class=\"sk-toggleable__label sk-toggleable__label-arrow\">estimator: KMeans</label><div class=\"sk-toggleable__content\"><pre>KMeans(n_clusters=19, random_state=1)</pre></div></div></div><div class=\"sk-serial\"><div class=\"sk-item\"><div class=\"sk-estimator sk-toggleable\"><input class=\"sk-toggleable__control sk-hidden--visually\" id=\"sk-estimator-id-3\" type=\"checkbox\" ><label for=\"sk-estimator-id-3\" class=\"sk-toggleable__label sk-toggleable__label-arrow\">KMeans</label><div class=\"sk-toggleable__content\"><pre>KMeans(n_clusters=19, random_state=1)</pre></div></div></div></div></div></div></div></div></div></div>"
      ],
      "text/plain": [
       "KElbowVisualizer(ax=<AxesSubplot: title={'center': 'Distortion Score Elbow for KMeans Clustering'}, xlabel='k', ylabel='distortion score'>,\n",
       "                 estimator=KMeans(n_clusters=19, random_state=1), k=(2, 20),\n",
       "                 timings=False)"
      ]
     },
     "execution_count": 29,
     "metadata": {},
     "output_type": "execute_result"
    }
   ],
   "source": [
    "from yellowbrick.cluster.elbow import kelbow_visualizer\n",
    "\n",
    "kelbow_visualizer(KMeans(random_state=1),\n",
    "                  np.asarray(X.todense()),\n",
    "                  k=(2, 20),\n",
    "                  timings=False)"
   ]
  },
  {
   "cell_type": "code",
   "execution_count": 30,
   "id": "72a52a40-5af0-4ab6-9f84-95a7a0eb1104",
   "metadata": {},
   "outputs": [],
   "source": [
    "from sklearn.cluster import KMeans\n",
    "\n",
    "kmeans = KMeans(n_clusters=13, random_state=42)\n",
    "kmeans.fit(X)\n",
    "clusters = kmeans.labels_"
   ]
  },
  {
   "cell_type": "code",
   "execution_count": 31,
   "id": "853f5b2d-d466-4417-953b-584345354882",
   "metadata": {},
   "outputs": [
    {
     "name": "stdout",
     "output_type": "stream",
     "text": [
      "\n",
      "Cluster 0\n",
      "include,iron,electric,mixed,material,brass,plastic,scrap,ferrous,non\n",
      "\n",
      "Cluster 1\n",
      "cast,clean,brass,copper,scrap,aluminum,ferrous,non,per,isri\n",
      "\n",
      "Cluster 2\n",
      "include,zinc,copper,mixed,scrap,electric,plastic,ferrous,non,weee\n",
      "\n",
      "Cluster 3\n",
      "lead,contain,copper,clean,scrap,turnings,nonferrous,metals,red,brass\n",
      "\n",
      "Cluster 4\n",
      "electric,include,casting,iron,furnace,stainless,foundry,ferrous,scrap,steel\n",
      "\n",
      "Cluster 5\n",
      "clean,turnings,scrap,clippings,new,nonferrous,sheet,stainless,solids,nickel\n",
      "\n",
      "Cluster 6\n",
      "content,clean,material,ferrous,new,nonferrous,non,scrap,cast,zinc\n",
      "\n",
      "Cluster 7\n",
      "ferrous,clean,consumer,meet,processed,requirements,specially,iron,grades,cast\n",
      "\n",
      "Cluster 8\n",
      "nonferrous,aluminum,red,metals,ferrous,steel,copper,percent,scrap,wire\n",
      "\n",
      "Cluster 9\n",
      "may,clean,content,plastic,copper,nonferrous,ferrous,scrap,non,lead\n",
      "\n",
      "Cluster 10\n",
      "contain,free,new,material,clean,ferrous,nonferrous,non,scrap,aluminum\n",
      "\n",
      "Cluster 11\n",
      "content,brass,per,nickel,new,mixed,scrap,ferrous,non,copper\n",
      "\n",
      "Cluster 12\n",
      "contain,shall,consist,iron,copper,mixed,metals,clean,scrap,nonferrous\n"
     ]
    }
   ],
   "source": [
    "from sklearn.decomposition import PCA\n",
    "\n",
    "# initialize PCA with 2 components\n",
    "pca = PCA(n_components=2, random_state=42)\n",
    "# pass our X to the pca and store the reduced vectors into pca_vecs\n",
    "pca_vecs = pca.fit_transform(X.toarray())\n",
    "# save our two dimensions into x0 and x1\n",
    "x0 = pca_vecs[:, 0]\n",
    "x1 = pca_vecs[:, 1]\n",
    "\n",
    "df['cluster'] = clusters\n",
    "df['x0'] = x0\n",
    "df['x1'] = x1\n",
    "\n",
    "def get_top_keywords(n_terms):\n",
    "    \"\"\"This function returns the keywords for each centroid of the KMeans\"\"\"\n",
    "    df = pd.DataFrame(X.todense()).groupby(clusters).mean() # groups the TF-IDF vector by cluster\n",
    "    terms = vectorizer.get_feature_names_out() # access tf-idf terms\n",
    "    for i,r in df.iterrows():\n",
    "        print('\\nCluster {}'.format(i))\n",
    "        print(','.join([terms[t] for t in np.argsort(r)[-n_terms:]])) # for each row of the dataframe, find the n terms that have the highest tf idf score\n",
    "            \n",
    "get_top_keywords(10)"
   ]
  },
  {
   "cell_type": "code",
   "execution_count": 32,
   "id": "e0762c35-20a0-4ba6-9189-1fcc69e9f0da",
   "metadata": {},
   "outputs": [
    {
     "data": {
      "image/png": "[encoded data removed]",
      "text/plain": [
       "<Figure size 1200x700 with 1 Axes>"
      ]
     },
     "metadata": {},
     "output_type": "display_data"
    }
   ],
   "source": [
    "plt.figure(figsize=(12, 7))\n",
    "# set a title\n",
    "plt.title(\"TF-IDF + KMeans\", fontdict={\"fontsize\": 18})\n",
    "# set axes names\n",
    "plt.xlabel(\"X0\", fontdict={\"fontsize\": 16})\n",
    "plt.ylabel(\"X1\", fontdict={\"fontsize\": 16})\n",
    "# create scatter plot with seaborn, where hue is the class used to group the data\n",
    "sns.scatterplot(data=df, x='x0', y='x1', hue='cluster', palette=\"crest\")\n",
    "plt.show()"
   ]
  },
  {
   "cell_type": "code",
   "execution_count": 33,
   "id": "82b7eee9-1288-4156-b84b-3eb2c39501d5",
   "metadata": {},
   "outputs": [
    {
     "data": {
      "image/png": "[encoded data removed]",
      "text/plain": [
       "<Figure size 800x550 with 2 Axes>"
      ]
     },
     "metadata": {},
     "output_type": "display_data"
    },
    {
     "data": {
      "text/html": [
       "<style>#sk-container-id-2 {color: black;background-color: white;}#sk-container-id-2 pre{padding: 0;}#sk-container-id-2 div.sk-toggleable {background-color: white;}#sk-container-id-2 label.sk-toggleable__label {cursor: pointer;display: block;width: 100%;margin-bottom: 0;padding: 0.3em;box-sizing: border-box;text-align: center;}#sk-container-id-2 label.sk-toggleable__label-arrow:before {content: \"▸\";float: left;margin-right: 0.25em;color: #696969;}#sk-container-id-2 label.sk-toggleable__label-arrow:hover:before {color: black;}#sk-container-id-2 div.sk-estimator:hover label.sk-toggleable__label-arrow:before {color: black;}#sk-container-id-2 div.sk-toggleable__content {max-height: 0;max-width: 0;overflow: hidden;text-align: left;background-color: #f0f8ff;}#sk-container-id-2 div.sk-toggleable__content pre {margin: 0.2em;color: black;border-radius: 0.25em;background-color: #f0f8ff;}#sk-container-id-2 input.sk-toggleable__control:checked~div.sk-toggleable__content {max-height: 200px;max-width: 100%;overflow: auto;}#sk-container-id-2 input.sk-toggleable__control:checked~label.sk-toggleable__label-arrow:before {content: \"▾\";}#sk-container-id-2 div.sk-estimator input.sk-toggleable__control:checked~label.sk-toggleable__label {background-color: #d4ebff;}#sk-container-id-2 div.sk-label input.sk-toggleable__control:checked~label.sk-toggleable__label {background-color: #d4ebff;}#sk-container-id-2 input.sk-hidden--visually {border: 0;clip: rect(1px 1px 1px 1px);clip: rect(1px, 1px, 1px, 1px);height: 1px;margin: -1px;overflow: hidden;padding: 0;position: absolute;width: 1px;}#sk-container-id-2 div.sk-estimator {font-family: monospace;background-color: #f0f8ff;border: 1px dotted black;border-radius: 0.25em;box-sizing: border-box;margin-bottom: 0.5em;}#sk-container-id-2 div.sk-estimator:hover {background-color: #d4ebff;}#sk-container-id-2 div.sk-parallel-item::after {content: \"\";width: 100%;border-bottom: 1px solid gray;flex-grow: 1;}#sk-container-id-2 div.sk-label:hover label.sk-toggleable__label {background-color: #d4ebff;}#sk-container-id-2 div.sk-serial::before {content: \"\";position: absolute;border-left: 1px solid gray;box-sizing: border-box;top: 0;bottom: 0;left: 50%;z-index: 0;}#sk-container-id-2 div.sk-serial {display: flex;flex-direction: column;align-items: center;background-color: white;padding-right: 0.2em;padding-left: 0.2em;position: relative;}#sk-container-id-2 div.sk-item {position: relative;z-index: 1;}#sk-container-id-2 div.sk-parallel {display: flex;align-items: stretch;justify-content: center;background-color: white;position: relative;}#sk-container-id-2 div.sk-item::before, #sk-container-id-2 div.sk-parallel-item::before {content: \"\";position: absolute;border-left: 1px solid gray;box-sizing: border-box;top: 0;bottom: 0;left: 50%;z-index: -1;}#sk-container-id-2 div.sk-parallel-item {display: flex;flex-direction: column;z-index: 1;position: relative;background-color: white;}#sk-container-id-2 div.sk-parallel-item:first-child::after {align-self: flex-end;width: 50%;}#sk-container-id-2 div.sk-parallel-item:last-child::after {align-self: flex-start;width: 50%;}#sk-container-id-2 div.sk-parallel-item:only-child::after {width: 0;}#sk-container-id-2 div.sk-dashed-wrapped {border: 1px dashed gray;margin: 0 0.4em 0.5em 0.4em;box-sizing: border-box;padding-bottom: 0.4em;background-color: white;}#sk-container-id-2 div.sk-label label {font-family: monospace;font-weight: bold;display: inline-block;line-height: 1.2em;}#sk-container-id-2 div.sk-label-container {text-align: center;}#sk-container-id-2 div.sk-container {/* jupyter's `normalize.less` sets `[hidden] { display: none; }` but bootstrap.min.css set `[hidden] { display: none !important; }` so we also need the `!important` here to be able to override the default hidden behavior on the sphinx rendered scikit-learn.org. See: https://github.com/scikit-learn/scikit-learn/issues/21755 */display: inline-block !important;position: relative;}#sk-container-id-2 div.sk-text-repr-fallback {display: none;}</style><div id=\"sk-container-id-2\" class=\"sk-top-container\"><div class=\"sk-text-repr-fallback\"><pre>InterclusterDistance(ax=&lt;AxesSubplot: title={&#x27;center&#x27;: &#x27;KMeans Intercluster Distance Map (via MDS)&#x27;}, xlabel=&#x27;PC2&#x27;, ylabel=&#x27;PC1&#x27;&gt;,\n",
       "                     estimator=KMeans(n_clusters=13, random_state=42),\n",
       "                     random_state=12)</pre><b>In a Jupyter environment, please rerun this cell to show the HTML representation or trust the notebook. <br />On GitHub, the HTML representation is unable to render, please try loading this page with nbviewer.org.</b></div><div class=\"sk-container\" hidden><div class=\"sk-item sk-dashed-wrapped\"><div class=\"sk-label-container\"><div class=\"sk-label sk-toggleable\"><input class=\"sk-toggleable__control sk-hidden--visually\" id=\"sk-estimator-id-4\" type=\"checkbox\" ><label for=\"sk-estimator-id-4\" class=\"sk-toggleable__label sk-toggleable__label-arrow\">InterclusterDistance</label><div class=\"sk-toggleable__content\"><pre>InterclusterDistance(ax=&lt;AxesSubplot: title={&#x27;center&#x27;: &#x27;KMeans Intercluster Distance Map (via MDS)&#x27;}, xlabel=&#x27;PC2&#x27;, ylabel=&#x27;PC1&#x27;&gt;,\n",
       "                     estimator=KMeans(n_clusters=13, random_state=42),\n",
       "                     random_state=12)</pre></div></div></div><div class=\"sk-parallel\"><div class=\"sk-parallel-item\"><div class=\"sk-item\"><div class=\"sk-label-container\"><div class=\"sk-label sk-toggleable\"><input class=\"sk-toggleable__control sk-hidden--visually\" id=\"sk-estimator-id-5\" type=\"checkbox\" ><label for=\"sk-estimator-id-5\" class=\"sk-toggleable__label sk-toggleable__label-arrow\">estimator: KMeans</label><div class=\"sk-toggleable__content\"><pre>KMeans(n_clusters=13, random_state=42)</pre></div></div></div><div class=\"sk-serial\"><div class=\"sk-item\"><div class=\"sk-estimator sk-toggleable\"><input class=\"sk-toggleable__control sk-hidden--visually\" id=\"sk-estimator-id-6\" type=\"checkbox\" ><label for=\"sk-estimator-id-6\" class=\"sk-toggleable__label sk-toggleable__label-arrow\">KMeans</label><div class=\"sk-toggleable__content\"><pre>KMeans(n_clusters=13, random_state=42)</pre></div></div></div></div></div></div></div></div></div></div>"
      ],
      "text/plain": [
       "InterclusterDistance(ax=<AxesSubplot: title={'center': 'KMeans Intercluster Distance Map (via MDS)'}, xlabel='PC2', ylabel='PC1'>,\n",
       "                     estimator=KMeans(n_clusters=13, random_state=42),\n",
       "                     random_state=12)"
      ]
     },
     "execution_count": 33,
     "metadata": {},
     "output_type": "execute_result"
    }
   ],
   "source": [
    "from yellowbrick.cluster import intercluster_distance\n",
    "\n",
    "intercluster_distance(kmeans, \n",
    "                      X.todense(), \n",
    "                      embedding='mds', \n",
    "                      random_state=12) # other option for embedding 'tsne'"
   ]
  },
  {
   "cell_type": "code",
   "execution_count": 34,
   "id": "2c7d6108-0e4f-4b9f-b2ee-f1d2ea37090e",
   "metadata": {},
   "outputs": [
    {
     "data": {
      "text/html": [
       "<div>\n",
       "<style scoped>\n",
       "    .dataframe tbody tr th:only-of-type {\n",
       "        vertical-align: middle;\n",
       "    }\n",
       "\n",
       "    .dataframe tbody tr th {\n",
       "        vertical-align: top;\n",
       "    }\n",
       "\n",
       "    .dataframe thead th {\n",
       "        text-align: right;\n",
       "    }\n",
       "</style>\n",
       "<table border=\"1\" class=\"dataframe\">\n",
       "  <thead>\n",
       "    <tr style=\"text-align: right;\">\n",
       "      <th></th>\n",
       "      <th>scrap_type</th>\n",
       "      <th>corpus</th>\n",
       "      <th>cluster</th>\n",
       "    </tr>\n",
       "  </thead>\n",
       "  <tbody>\n",
       "    <tr>\n",
       "      <th>0</th>\n",
       "      <td>sc:ISRI_0</td>\n",
       "      <td>bare uncoated unalloyed wire copper nonferrous...</td>\n",
       "      <td>8</td>\n",
       "    </tr>\n",
       "    <tr>\n",
       "      <th>1</th>\n",
       "      <td>sc:ISRI_1</td>\n",
       "      <td>clean untinned uncoated unalloyed wire cable c...</td>\n",
       "      <td>8</td>\n",
       "    </tr>\n",
       "    <tr>\n",
       "      <th>2</th>\n",
       "      <td>sc:ISRI_2</td>\n",
       "      <td>unalloyed miscellaneous wire copper nonferrous...</td>\n",
       "      <td>8</td>\n",
       "    </tr>\n",
       "    <tr>\n",
       "      <th>3</th>\n",
       "      <td>sc:ISRI_3</td>\n",
       "      <td>clean unalloyed uncoated clippings punchings b...</td>\n",
       "      <td>12</td>\n",
       "    </tr>\n",
       "    <tr>\n",
       "      <th>4</th>\n",
       "      <td>sc:ISRI_4</td>\n",
       "      <td>unalloyed miscellaneous scrap copper nonferrou...</td>\n",
       "      <td>12</td>\n",
       "    </tr>\n",
       "    <tr>\n",
       "      <th>...</th>\n",
       "      <td>...</td>\n",
       "      <td>...</td>\n",
       "      <td>...</td>\n",
       "    </tr>\n",
       "    <tr>\n",
       "      <th>317</th>\n",
       "      <td>sc:ANAMET_684</td>\n",
       "      <td>lead scrap e non ferrous</td>\n",
       "      <td>9</td>\n",
       "    </tr>\n",
       "    <tr>\n",
       "      <th>318</th>\n",
       "      <td>sc:ANAMET_685</td>\n",
       "      <td>electric motors shredded weee non ferrous</td>\n",
       "      <td>2</td>\n",
       "    </tr>\n",
       "    <tr>\n",
       "      <th>319</th>\n",
       "      <td>sc:ANAMET_686</td>\n",
       "      <td>black plastic scrap weee e non ferrous</td>\n",
       "      <td>2</td>\n",
       "    </tr>\n",
       "    <tr>\n",
       "      <th>320</th>\n",
       "      <td>sc:ANAMET_687</td>\n",
       "      <td>scrap plexiglass e non ferrous</td>\n",
       "      <td>0</td>\n",
       "    </tr>\n",
       "    <tr>\n",
       "      <th>321</th>\n",
       "      <td>sc:ANAMET_688</td>\n",
       "      <td>mixed plastic scrap weee e non ferrous</td>\n",
       "      <td>2</td>\n",
       "    </tr>\n",
       "  </tbody>\n",
       "</table>\n",
       "<p>458 rows × 3 columns</p>\n",
       "</div>"
      ],
      "text/plain": [
       "        scrap_type                                             corpus  cluster\n",
       "0        sc:ISRI_0  bare uncoated unalloyed wire copper nonferrous...        8\n",
       "1        sc:ISRI_1  clean untinned uncoated unalloyed wire cable c...        8\n",
       "2        sc:ISRI_2  unalloyed miscellaneous wire copper nonferrous...        8\n",
       "3        sc:ISRI_3  clean unalloyed uncoated clippings punchings b...       12\n",
       "4        sc:ISRI_4  unalloyed miscellaneous scrap copper nonferrou...       12\n",
       "..             ...                                                ...      ...\n",
       "317  sc:ANAMET_684                           lead scrap e non ferrous        9\n",
       "318  sc:ANAMET_685          electric motors shredded weee non ferrous        2\n",
       "319  sc:ANAMET_686             black plastic scrap weee e non ferrous        2\n",
       "320  sc:ANAMET_687                     scrap plexiglass e non ferrous        0\n",
       "321  sc:ANAMET_688             mixed plastic scrap weee e non ferrous        2\n",
       "\n",
       "[458 rows x 3 columns]"
      ]
     },
     "execution_count": 34,
     "metadata": {},
     "output_type": "execute_result"
    }
   ],
   "source": [
    "df[['scrap_type', 'corpus', 'cluster']]"
   ]
  },
  {
   "cell_type": "code",
   "execution_count": 35,
   "id": "a0d76d4c-478f-4c6d-af77-54f0613ecb26",
   "metadata": {},
   "outputs": [
    {
     "name": "stdout",
     "output_type": "stream",
     "text": [
      "Cluster 0 : 66\n",
      "Cluster 1 : 35\n",
      "Cluster 2 : 38\n",
      "Cluster 3 : 31\n",
      "Cluster 4 : 64\n",
      "Cluster 5 : 25\n",
      "Cluster 6 : 16\n",
      "Cluster 7 : 21\n",
      "Cluster 8 : 24\n",
      "Cluster 9 : 17\n",
      "Cluster 10 : 65\n",
      "Cluster 11 : 28\n",
      "Cluster 12 : 28\n"
     ]
    }
   ],
   "source": [
    "for cluster in range(0, 13): print(\"Cluster\", cluster, \":\", len(df[df['cluster'] == cluster]))"
   ]
  },
  {
   "cell_type": "code",
   "execution_count": 36,
   "id": "4bdc04bb-96ea-402f-8dda-9cd2dd155d72",
   "metadata": {},
   "outputs": [
    {
     "data": {
      "text/html": [
       "<div>\n",
       "<style scoped>\n",
       "    .dataframe tbody tr th:only-of-type {\n",
       "        vertical-align: middle;\n",
       "    }\n",
       "\n",
       "    .dataframe tbody tr th {\n",
       "        vertical-align: top;\n",
       "    }\n",
       "\n",
       "    .dataframe thead th {\n",
       "        text-align: right;\n",
       "    }\n",
       "</style>\n",
       "<table border=\"1\" class=\"dataframe\">\n",
       "  <thead>\n",
       "    <tr style=\"text-align: right;\">\n",
       "      <th></th>\n",
       "      <th>scrap_type</th>\n",
       "      <th>corpus</th>\n",
       "      <th>cluster</th>\n",
       "    </tr>\n",
       "  </thead>\n",
       "  <tbody>\n",
       "    <tr>\n",
       "      <th>0</th>\n",
       "      <td>sc:ISRI_0</td>\n",
       "      <td>bare uncoated unalloyed wire copper nonferrous...</td>\n",
       "      <td>8</td>\n",
       "    </tr>\n",
       "    <tr>\n",
       "      <th>1</th>\n",
       "      <td>sc:ISRI_1</td>\n",
       "      <td>clean untinned uncoated unalloyed wire cable c...</td>\n",
       "      <td>8</td>\n",
       "    </tr>\n",
       "  </tbody>\n",
       "</table>\n",
       "</div>"
      ],
      "text/plain": [
       "  scrap_type                                             corpus  cluster\n",
       "0  sc:ISRI_0  bare uncoated unalloyed wire copper nonferrous...        8\n",
       "1  sc:ISRI_1  clean untinned uncoated unalloyed wire cable c...        8"
      ]
     },
     "execution_count": 36,
     "metadata": {},
     "output_type": "execute_result"
    }
   ],
   "source": [
    "df.drop(columns=['x0','x1'], inplace=True)\n",
    "df.head(2)"
   ]
  },
  {
   "cell_type": "code",
   "execution_count": 37,
   "id": "1e4e5a94",
   "metadata": {},
   "outputs": [
    {
     "name": "stdout",
     "output_type": "stream",
     "text": [
      "(320, 32) (138, 32)\n"
     ]
    }
   ],
   "source": [
    "from sklearn.model_selection import train_test_split\n",
    "\n",
    "# X = df['corpus']\n",
    "X = df.drop('cluster', axis=1)\n",
    "y = df['cluster']\n",
    "\n",
    "X_train, X_test, y_train, y_test = train_test_split(X, y, test_size=0.30, random_state=4, stratify=y)\n",
    "\n",
    "vectorizer = TfidfVectorizer(min_df=20)\n",
    "\n",
    "train_vectors = vectorizer.fit_transform(X_train['corpus'])\n",
    "test_vectors = vectorizer.transform(X_test['corpus'])\n",
    "\n",
    "print(train_vectors.shape, test_vectors.shape)"
   ]
  },
  {
   "cell_type": "code",
   "execution_count": 38,
   "id": "be26eb43-c9a4-4e0e-ab9f-191492989605",
   "metadata": {},
   "outputs": [],
   "source": [
    "kmeans = KMeans(n_clusters=13, random_state=42)\n",
    "kmeans.fit(train_vectors)\n",
    "clusters = kmeans.labels_"
   ]
  },
  {
   "cell_type": "code",
   "execution_count": 39,
   "id": "26123a38-9022-437d-91de-4d85d89a3532",
   "metadata": {},
   "outputs": [],
   "source": [
    "y_train = clusters"
   ]
  },
  {
   "cell_type": "code",
   "execution_count": 40,
   "id": "5c980191-5b61-45c5-a447-bd3f37bc7f5a",
   "metadata": {},
   "outputs": [],
   "source": [
    "y_test_predicted = kmeans.predict(test_vectors)"
   ]
  },
  {
   "cell_type": "code",
   "execution_count": 41,
   "id": "49537d1a-07b9-445c-91f6-95329612a8c5",
   "metadata": {},
   "outputs": [
    {
     "data": {
      "text/plain": [
       "2     0.156250\n",
       "3     0.140625\n",
       "7     0.103125\n",
       "4     0.090625\n",
       "10    0.081250\n",
       "1     0.075000\n",
       "11    0.075000\n",
       "5     0.062500\n",
       "8     0.056250\n",
       "6     0.053125\n",
       "9     0.043750\n",
       "0     0.031250\n",
       "12    0.031250\n",
       "dtype: float64"
      ]
     },
     "execution_count": 41,
     "metadata": {},
     "output_type": "execute_result"
    }
   ],
   "source": [
    "pd.DataFrame(y_train).value_counts(normalize=True)"
   ]
  },
  {
   "cell_type": "code",
   "execution_count": 42,
   "id": "1eeab052-65ca-4193-96e0-1d11e48dfdaf",
   "metadata": {},
   "outputs": [
    {
     "data": {
      "text/plain": [
       "2     0.166667\n",
       "3     0.152174\n",
       "4     0.086957\n",
       "7     0.086957\n",
       "10    0.086957\n",
       "11    0.086957\n",
       "1     0.079710\n",
       "6     0.065217\n",
       "8     0.043478\n",
       "0     0.036232\n",
       "5     0.036232\n",
       "9     0.036232\n",
       "12    0.036232\n",
       "dtype: float64"
      ]
     },
     "execution_count": 42,
     "metadata": {},
     "output_type": "execute_result"
    }
   ],
   "source": [
    "pd.DataFrame(y_test_predicted).value_counts(normalize=True)"
   ]
  },
  {
   "cell_type": "code",
   "execution_count": null,
   "id": "dfaa8b22-1eb8-4645-b080-06462892144d",
   "metadata": {},
   "outputs": [],
   "source": []
  },
  {
   "cell_type": "code",
   "execution_count": 43,
   "id": "bfd3bc22-2e34-47d4-b6e6-caab1a706b63",
   "metadata": {},
   "outputs": [
    {
     "data": {
      "text/html": [
       "<div>\n",
       "<style scoped>\n",
       "    .dataframe tbody tr th:only-of-type {\n",
       "        vertical-align: middle;\n",
       "    }\n",
       "\n",
       "    .dataframe tbody tr th {\n",
       "        vertical-align: top;\n",
       "    }\n",
       "\n",
       "    .dataframe thead th {\n",
       "        text-align: right;\n",
       "    }\n",
       "</style>\n",
       "<table border=\"1\" class=\"dataframe\">\n",
       "  <thead>\n",
       "    <tr style=\"text-align: right;\">\n",
       "      <th></th>\n",
       "      <th>type</th>\n",
       "      <th>corpus</th>\n",
       "      <th>cluster</th>\n",
       "    </tr>\n",
       "  </thead>\n",
       "  <tbody>\n",
       "    <tr>\n",
       "      <th>96</th>\n",
       "      <td>sc:ISRI_96</td>\n",
       "      <td>incinerated burned material must dry contain x...</td>\n",
       "      <td>3</td>\n",
       "    </tr>\n",
       "    <tr>\n",
       "      <th>13</th>\n",
       "      <td>sc:ISRI_13</td>\n",
       "      <td>made copper tin zinc lead valves machinery bea...</td>\n",
       "      <td>7</td>\n",
       "    </tr>\n",
       "    <tr>\n",
       "      <th>70</th>\n",
       "      <td>sc:ANAMET_486</td>\n",
       "      <td>starters alternators raw non ferrous</td>\n",
       "      <td>2</td>\n",
       "    </tr>\n",
       "    <tr>\n",
       "      <th>62</th>\n",
       "      <td>sc:ISRI_62</td>\n",
       "      <td>clean chopped shredder must contain aluminum c...</td>\n",
       "      <td>3</td>\n",
       "    </tr>\n",
       "    <tr>\n",
       "      <th>55</th>\n",
       "      <td>sc:ISRI_55</td>\n",
       "      <td>food beverage cans cans aluminum nonferrous sc...</td>\n",
       "      <td>3</td>\n",
       "    </tr>\n",
       "    <tr>\n",
       "      <th>...</th>\n",
       "      <td>...</td>\n",
       "      <td>...</td>\n",
       "      <td>...</td>\n",
       "    </tr>\n",
       "    <tr>\n",
       "      <th>213</th>\n",
       "      <td>sc:ANAMET_580</td>\n",
       "      <td>copper coils weee non ferrous</td>\n",
       "      <td>10</td>\n",
       "    </tr>\n",
       "    <tr>\n",
       "      <th>156</th>\n",
       "      <td>sc:ISRI_156</td>\n",
       "      <td>shoud contain minimum tin  tin based babbit no...</td>\n",
       "      <td>7</td>\n",
       "    </tr>\n",
       "    <tr>\n",
       "      <th>69</th>\n",
       "      <td>sc:ISRI_69</td>\n",
       "      <td>old unalloyed may contain series wire cable fr...</td>\n",
       "      <td>0</td>\n",
       "    </tr>\n",
       "    <tr>\n",
       "      <th>137</th>\n",
       "      <td>sc:ISRI_137</td>\n",
       "      <td>consist soldered brazed miscellaneous grades m...</td>\n",
       "      <td>8</td>\n",
       "    </tr>\n",
       "    <tr>\n",
       "      <th>118</th>\n",
       "      <td>sc:ANAMET_510</td>\n",
       "      <td>brass scrap ms non ferrous</td>\n",
       "      <td>2</td>\n",
       "    </tr>\n",
       "  </tbody>\n",
       "</table>\n",
       "<p>138 rows × 3 columns</p>\n",
       "</div>"
      ],
      "text/plain": [
       "              type                                             corpus  cluster\n",
       "96      sc:ISRI_96  incinerated burned material must dry contain x...        3\n",
       "13      sc:ISRI_13  made copper tin zinc lead valves machinery bea...        7\n",
       "70   sc:ANAMET_486               starters alternators raw non ferrous        2\n",
       "62      sc:ISRI_62  clean chopped shredder must contain aluminum c...        3\n",
       "55      sc:ISRI_55  food beverage cans cans aluminum nonferrous sc...        3\n",
       "..             ...                                                ...      ...\n",
       "213  sc:ANAMET_580                      copper coils weee non ferrous       10\n",
       "156    sc:ISRI_156  shoud contain minimum tin  tin based babbit no...        7\n",
       "69      sc:ISRI_69  old unalloyed may contain series wire cable fr...        0\n",
       "137    sc:ISRI_137  consist soldered brazed miscellaneous grades m...        8\n",
       "118  sc:ANAMET_510                         brass scrap ms non ferrous        2\n",
       "\n",
       "[138 rows x 3 columns]"
      ]
     },
     "execution_count": 43,
     "metadata": {},
     "output_type": "execute_result"
    }
   ],
   "source": [
    "test = pd.DataFrame()\n",
    "\n",
    "test['type'] = X_test['scrap_type']\n",
    "test['corpus'] = X_test['corpus']\n",
    "test['cluster'] = y_test_predicted\n",
    "\n",
    "test"
   ]
  },
  {
   "cell_type": "code",
   "execution_count": 44,
   "id": "64b36bbe-dd90-4d4a-b152-7f2eae1442ce",
   "metadata": {},
   "outputs": [],
   "source": [
    "X_train['cluster'] = y_train"
   ]
  },
  {
   "cell_type": "code",
   "execution_count": 45,
   "id": "517941b1-4c01-45e5-9d94-4444b17d70ff",
   "metadata": {
    "tags": []
   },
   "outputs": [
    {
     "data": {
      "text/html": [
       "<div>\n",
       "<style scoped>\n",
       "    .dataframe tbody tr th:only-of-type {\n",
       "        vertical-align: middle;\n",
       "    }\n",
       "\n",
       "    .dataframe tbody tr th {\n",
       "        vertical-align: top;\n",
       "    }\n",
       "\n",
       "    .dataframe thead th {\n",
       "        text-align: right;\n",
       "    }\n",
       "</style>\n",
       "<table border=\"1\" class=\"dataframe\">\n",
       "  <thead>\n",
       "    <tr style=\"text-align: right;\">\n",
       "      <th></th>\n",
       "      <th>index</th>\n",
       "      <th>scrap_type</th>\n",
       "      <th>corpus</th>\n",
       "      <th>cluster</th>\n",
       "    </tr>\n",
       "  </thead>\n",
       "  <tbody>\n",
       "    <tr>\n",
       "      <th>0</th>\n",
       "      <td>103</td>\n",
       "      <td>sc:ISRI_103</td>\n",
       "      <td>new pure zinc contain foreign material attachm...</td>\n",
       "      <td>12</td>\n",
       "    </tr>\n",
       "    <tr>\n",
       "      <th>1</th>\n",
       "      <td>99</td>\n",
       "      <td>sc:ISRI_99</td>\n",
       "      <td>new unused clean zinc base die castings castin...</td>\n",
       "      <td>12</td>\n",
       "    </tr>\n",
       "    <tr>\n",
       "      <th>2</th>\n",
       "      <td>107</td>\n",
       "      <td>sc:ISRI_107</td>\n",
       "      <td>melted zinc base die cast materials smooth cle...</td>\n",
       "      <td>12</td>\n",
       "    </tr>\n",
       "    <tr>\n",
       "      <th>3</th>\n",
       "      <td>185</td>\n",
       "      <td>sc:ANAMET_552</td>\n",
       "      <td>zinc scrap zamak non ferrous</td>\n",
       "      <td>12</td>\n",
       "    </tr>\n",
       "    <tr>\n",
       "      <th>4</th>\n",
       "      <td>108</td>\n",
       "      <td>sc:ISRI_108</td>\n",
       "      <td>unsweated zinc dross removed top continuous li...</td>\n",
       "      <td>12</td>\n",
       "    </tr>\n",
       "    <tr>\n",
       "      <th>5</th>\n",
       "      <td>105</td>\n",
       "      <td>sc:ISRI_105</td>\n",
       "      <td>material contain zinc bearing scrap nonferrous...</td>\n",
       "      <td>12</td>\n",
       "    </tr>\n",
       "    <tr>\n",
       "      <th>6</th>\n",
       "      <td>110</td>\n",
       "      <td>sc:ISRI_110</td>\n",
       "      <td>metal skimmed top pot molten zinc die cast met...</td>\n",
       "      <td>12</td>\n",
       "    </tr>\n",
       "    <tr>\n",
       "      <th>7</th>\n",
       "      <td>109</td>\n",
       "      <td>sc:ISRI_109</td>\n",
       "      <td>unsweated zinc dross removed top continuous li...</td>\n",
       "      <td>12</td>\n",
       "    </tr>\n",
       "    <tr>\n",
       "      <th>8</th>\n",
       "      <td>100</td>\n",
       "      <td>sc:ISRI_100</td>\n",
       "      <td>clean old used foreign attachments extraneous ...</td>\n",
       "      <td>12</td>\n",
       "    </tr>\n",
       "    <tr>\n",
       "      <th>9</th>\n",
       "      <td>101</td>\n",
       "      <td>sc:ISRI_101</td>\n",
       "      <td>new unused clean plated zinc base die castings...</td>\n",
       "      <td>12</td>\n",
       "    </tr>\n",
       "  </tbody>\n",
       "</table>\n",
       "</div>"
      ],
      "text/plain": [
       "   index     scrap_type                                             corpus  \\\n",
       "0    103    sc:ISRI_103  new pure zinc contain foreign material attachm...   \n",
       "1     99     sc:ISRI_99  new unused clean zinc base die castings castin...   \n",
       "2    107    sc:ISRI_107  melted zinc base die cast materials smooth cle...   \n",
       "3    185  sc:ANAMET_552                       zinc scrap zamak non ferrous   \n",
       "4    108    sc:ISRI_108  unsweated zinc dross removed top continuous li...   \n",
       "5    105    sc:ISRI_105  material contain zinc bearing scrap nonferrous...   \n",
       "6    110    sc:ISRI_110  metal skimmed top pot molten zinc die cast met...   \n",
       "7    109    sc:ISRI_109  unsweated zinc dross removed top continuous li...   \n",
       "8    100    sc:ISRI_100  clean old used foreign attachments extraneous ...   \n",
       "9    101    sc:ISRI_101  new unused clean plated zinc base die castings...   \n",
       "\n",
       "   cluster  \n",
       "0       12  \n",
       "1       12  \n",
       "2       12  \n",
       "3       12  \n",
       "4       12  \n",
       "5       12  \n",
       "6       12  \n",
       "7       12  \n",
       "8       12  \n",
       "9       12  "
      ]
     },
     "execution_count": 45,
     "metadata": {},
     "output_type": "execute_result"
    }
   ],
   "source": [
    "X_train[X_train['cluster'] == 12].reset_index()"
   ]
  },
  {
   "cell_type": "code",
   "execution_count": 46,
   "id": "dda09ea9-9c89-426c-9fff-ebac0c0c393d",
   "metadata": {},
   "outputs": [
    {
     "name": "stdout",
     "output_type": "stream",
     "text": [
      "5 \n",
      " 1.0000000000000002 \n",
      " copper clove per isri prod non ferrous sc:ANAMET_604\n"
     ]
    }
   ],
   "source": [
    "from sklearn.metrics.pairwise import cosine_similarity\n",
    "from sklearn.feature_extraction.text import CountVectorizer\n",
    "\n",
    "\n",
    "idx = 12\n",
    "\n",
    "s = test['corpus'].iloc[idx]\n",
    "c = test['cluster'].iloc[idx]\n",
    "st = test['type'].iloc[idx]\n",
    "\n",
    "similarity = []\n",
    "index = []\n",
    "similar_string = []\n",
    "scrap_type = []\n",
    "similarity_df = pd.DataFrame()\n",
    "\n",
    "df_cluster = X_train[X_train['cluster'] == c]\n",
    "\n",
    "for row in range(len(df_cluster)):\n",
    "    s1 = df_cluster['corpus'].iloc[row]\n",
    "    \n",
    "    strings = [s, s1]\n",
    "    str_sim = pd.DataFrame(data=strings)\n",
    "    \n",
    "    # vectorizer_sim = TfidfVectorizer()\n",
    "    # strings_vectors = vectorizer_sim.fit_transform(str_sim[0])\n",
    "    strings_vectors = vectorizer.transform(str_sim[0])\n",
    "    \n",
    "    csim = cosine_similarity(strings_vectors[0], strings_vectors[1])\n",
    "    similarity.append(csim)\n",
    "    index.append(row)\n",
    "    similar_string.append(s1)\n",
    "    scrap_type.append(df_cluster['scrap_type'].iloc[row])\n",
    "    \n",
    "similarity_df['csim'] = similarity\n",
    "similarity_df['corpus'] = similar_string\n",
    "similarity_df['scrap_type'] = scrap_type\n",
    "\n",
    "similarity_df['csim'] = similarity_df['csim'].astype(float)\n",
    "similarity_df['corpus'] = similarity_df['corpus'].astype(str)\n",
    "similarity_df['scrap_type'] = similarity_df['scrap_type'].astype(str)\n",
    "\n",
    "print(similarity_df['csim'].idxmax(), \"\\n\", similarity_df['csim'].max(), '\\n', similarity_df['corpus'].iloc[similarity_df['csim'].idxmax()], similarity_df['scrap_type'].iloc[similarity_df['csim'].idxmax()])"
   ]
  },
  {
   "cell_type": "code",
   "execution_count": 47,
   "id": "76998069-4bbc-4f58-ae3d-14642661b65c",
   "metadata": {},
   "outputs": [
    {
     "name": "stdout",
     "output_type": "stream",
     "text": [
      "copper cobra per isri production non ferrous sc:ANAMET_603\n"
     ]
    }
   ],
   "source": [
    "print(s, st)"
   ]
  },
  {
   "cell_type": "markdown",
   "id": "d415e120-1125-4bbd-8f45-279e1df9fcec",
   "metadata": {},
   "source": [
    "# Test set created from Internet "
   ]
  },
  {
   "cell_type": "code",
   "execution_count": 48,
   "id": "5ba6d8d4-a0e9-4d48-bce8-6fa1c0020097",
   "metadata": {},
   "outputs": [
    {
     "name": "stdout",
     "output_type": "stream",
     "text": [
      "(6, 32)\n"
     ]
    }
   ],
   "source": [
    "s = ['Shredded demolition windows profiles | 5-20 cm, around 1% attachment of thermal break (plastic). Are not passed by X-ray treatment.',\n",
    "     'Open Extinguisher with no heads | 6061 grade',\n",
    "     'I sell structural steel oxycut both in skeleton (6 x 2.5 m. plates) and some cut parts. Hot-rolled non-alloy carbon steel cleaned of paints and greases. Dry product.',\n",
    "     'Regulary purchase of galvalume dross, capacity 300-500mt/month',\n",
    "     'With no cable, plate or grit. CuSN in cable, plate or grit, separately. Not mixed. In the case of small packaged (30x30 cm) and palletized cable, ball and shot in BIG BAGS',\n",
    "     'Clean copper aluminum radiator without iron, the price may vary depending on the LME of the copper Lowest 3 months 7656€.']\n",
    "\n",
    "df = pd.DataFrame()\n",
    "df['corpus'] = s\n",
    "df['corpus'] = hero.clean(df['corpus'])\n",
    "\n",
    "X = df['corpus']\n",
    "\n",
    "validation_vectors = vectorizer.transform(X)\n",
    "print(validation_vectors.shape)"
   ]
  },
  {
   "cell_type": "code",
   "execution_count": 51,
   "id": "242f1b22-111f-49e5-b6ae-cf59e5a7aa08",
   "metadata": {},
   "outputs": [],
   "source": []
  },
  {
   "cell_type": "code",
   "execution_count": 65,
   "id": "991ecbd3-344c-4e06-bd78-013740e64a24",
   "metadata": {},
   "outputs": [
    {
     "name": "stdout",
     "output_type": "stream",
     "text": [
      "0 \n",
      " 0.0 \n",
      " contain free iron oil moisture contain tin alloyed iron rod turnings strictly yellow brass nonferrous scrap red metals yellow brass rod turnings sc:ISRI_42 \n",
      "\n",
      " shredded demolition windows profiles cm around attachment thermal break plastic passed x ray treatment\n",
      "0 \n",
      " 0.0 \n",
      " contain free iron oil moisture contain tin alloyed iron rod turnings strictly yellow brass nonferrous scrap red metals yellow brass rod turnings sc:ISRI_42 \n",
      "\n",
      " open extinguisher heads grade\n",
      "12 \n",
      " 0.9000859514073011 \n",
      "  turnings steel ferrous scrap briquetted steel turnings sc:ISRI_186 \n",
      "\n",
      " sell structural steel oxycut skeleton x plates cut parts hot rolled non alloy carbon steel cleaned paints greases dry product\n",
      "0 \n",
      " 0.0 \n",
      " contain free iron oil moisture contain tin alloyed iron rod turnings strictly yellow brass nonferrous scrap red metals yellow brass rod turnings sc:ISRI_42 \n",
      "\n",
      " regulary purchase galvalume dross capacity 500mt month\n",
      "9 \n",
      " 0.7011468909171875 \n",
      " semi pro mixed copper cables elv non ferrous sc:ANAMET_638 \n",
      "\n",
      " cable plate grit cusn cable plate grit separately mixed case small packaged 30x30 cm palletized cable ball shot big bags\n",
      "14 \n",
      " 0.6108470880778397 \n",
      " clean unalloyed uncoated clippings punchings bus bars commutator segments copper tubing copper nonferrous scrap red metals heavy copper solids tubing sc:ISRI_3 \n",
      "\n",
      " clean copper aluminum radiator without iron price may vary depending lme copper lowest months EUR\n"
     ]
    }
   ],
   "source": [
    "df['cluster'] = kmeans.predict(validation_vectors)\n",
    "idx = 5\n",
    "\n",
    "for idx in range(0, 6):\n",
    "\n",
    "\n",
    "    s = df['corpus'].iloc[idx]\n",
    "    c = df['cluster'].iloc[idx]\n",
    "\n",
    "    similarity = []\n",
    "    index = []\n",
    "    similar_string = []\n",
    "    scrap_type = []\n",
    "    similarity_df = pd.DataFrame()\n",
    "\n",
    "    df_cluster = X_train[X_train['cluster'] == c]\n",
    "\n",
    "    for row in range(len(df_cluster)):\n",
    "        s1 = df_cluster['corpus'].iloc[row]\n",
    "\n",
    "        strings = [s, s1]\n",
    "        str_sim = pd.DataFrame(data=strings)\n",
    "\n",
    "        # vectorizer_sim = TfidfVectorizer()\n",
    "        # strings_vectors = vectorizer_sim.fit_transform(str_sim[0])\n",
    "        strings_vectors = vectorizer.transform(str_sim[0])\n",
    "\n",
    "        csim = cosine_similarity(strings_vectors[0], strings_vectors[1])\n",
    "        similarity.append(csim)\n",
    "        index.append(row)\n",
    "        similar_string.append(s1)\n",
    "        scrap_type.append(df_cluster['scrap_type'].iloc[row])\n",
    "\n",
    "    similarity_df['csim'] = similarity\n",
    "    similarity_df['corpus'] = similar_string\n",
    "    similarity_df['scrap_type'] = scrap_type\n",
    "\n",
    "    similarity_df['csim'] = similarity_df['csim'].astype(float)\n",
    "    similarity_df['corpus'] = similarity_df['corpus'].astype(str)\n",
    "    similarity_df['scrap_type'] = similarity_df['scrap_type'].astype(str)\n",
    "\n",
    "    print(similarity_df['csim'].idxmax(), \"\\n\", similarity_df['csim'].max(), '\\n', similarity_df['corpus'].iloc[similarity_df['csim'].idxmax()], similarity_df['scrap_type'].iloc[similarity_df['csim'].idxmax()], '\\n\\n', s)"
   ]
  },
  {
   "cell_type": "code",
   "execution_count": null,
   "id": "39bbfaa2-805d-42c3-afaf-4712732dbcb7",
   "metadata": {},
   "outputs": [],
   "source": []
  }
 ],
 "metadata": {
  "kernelspec": {
   "display_name": "Python 3 (ipykernel)",
   "language": "python",
   "name": "python3"
  },
  "language_info": {
   "codemirror_mode": {
    "name": "ipython",
    "version": 3
   },
   "file_extension": ".py",
   "mimetype": "text/x-python",
   "name": "python",
   "nbconvert_exporter": "python",
   "pygments_lexer": "ipython3",
   "version": "3.9.10"
  },
  "vscode": {
   "interpreter": {
    "hash": "c6c04a7e252f45ffc2f7191e380805b6a5dd99aa68793d835f69a35c16ce4a30"
   }
  }
 },
 "nbformat": 4,
 "nbformat_minor": 5
}
