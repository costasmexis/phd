{
 "cells": [
  {
   "cell_type": "markdown",
   "id": "0cf57602-125b-4b81-a94d-b5010df11e76",
   "metadata": {},
   "source": [
    "# Import libraries"
   ]
  },
  {
   "cell_type": "code",
   "execution_count": 34,
   "id": "45c7e20b-c57f-4e13-b77e-11572f9e6409",
   "metadata": {},
   "outputs": [],
   "source": [
    "import pandas as pd\n",
    "import numpy as np\n",
    "\n",
    "from tqdm import tqdm"
   ]
  },
  {
   "cell_type": "markdown",
   "id": "ba22e924-fdeb-4ee5-9cfa-9f67282f50e7",
   "metadata": {},
   "source": [
    "## Read data"
   ]
  },
  {
   "cell_type": "code",
   "execution_count": 35,
   "id": "43402469-b408-470d-8d55-2244f142384a",
   "metadata": {},
   "outputs": [],
   "source": [
    "uns = pd.read_csv('uns_df.csv', index_col=0)\n",
    "isri = pd.read_csv('isri_df.csv', index_col=0)\n",
    "process = pd.read_csv('process_df.csv', index_col=0)\n",
    "anamet = pd.read_csv('anamet_df.csv', index_col=0)\n",
    "materials = pd.read_csv('materials_df.csv', index_col=0)"
   ]
  },
  {
   "cell_type": "markdown",
   "id": "72776f13",
   "metadata": {},
   "source": [
    "# New *NIKOS* data"
   ]
  },
  {
   "cell_type": "code",
   "execution_count": 36,
   "id": "d5cd106c",
   "metadata": {},
   "outputs": [],
   "source": [
    "xls = pd.ExcelFile('data/edited_nikos_data.xlsx')"
   ]
  },
  {
   "cell_type": "code",
   "execution_count": 37,
   "id": "87cde166",
   "metadata": {},
   "outputs": [],
   "source": [
    "uns_data = pd.read_excel(xls, 'UNS data')\n",
    "\n",
    "uns_data.rename(columns = {'sc:isComposedOf':'elements id'}, inplace = True)\n",
    "\n",
    "elements_data = pd.read_excel(xls, 'Elements data')"
   ]
  },
  {
   "cell_type": "code",
   "execution_count": 38,
   "id": "a056dcae",
   "metadata": {},
   "outputs": [],
   "source": [
    "uns_data = pd.merge(uns_data, elements_data, how='inner', on = 'elements id')"
   ]
  },
  {
   "cell_type": "code",
   "execution_count": 39,
   "id": "d2ee19c0",
   "metadata": {},
   "outputs": [],
   "source": [
    "isri_data = pd.read_excel(xls, 'Isri data')"
   ]
  },
  {
   "cell_type": "code",
   "execution_count": 40,
   "id": "1a5cd73d",
   "metadata": {},
   "outputs": [],
   "source": [
    "anamet_data = pd.read_excel(xls, 'Anamet data')"
   ]
  },
  {
   "cell_type": "markdown",
   "id": "d3440e08",
   "metadata": {},
   "source": [
    "# NLP"
   ]
  },
  {
   "cell_type": "code",
   "execution_count": 41,
   "id": "72dba6fd",
   "metadata": {},
   "outputs": [],
   "source": [
    "from gensim.utils import simple_preprocess"
   ]
  },
  {
   "cell_type": "markdown",
   "id": "fe567339",
   "metadata": {},
   "source": [
    "Keep only `anamets` with english description"
   ]
  },
  {
   "cell_type": "markdown",
   "id": "314a1d00",
   "metadata": {},
   "source": [
    "## ANAMET `anamet_data`"
   ]
  },
  {
   "cell_type": "code",
   "execution_count": 42,
   "id": "a2c80d99",
   "metadata": {},
   "outputs": [
    {
     "data": {
      "text/html": [
       "<div>\n",
       "<style scoped>\n",
       "    .dataframe tbody tr th:only-of-type {\n",
       "        vertical-align: middle;\n",
       "    }\n",
       "\n",
       "    .dataframe tbody tr th {\n",
       "        vertical-align: top;\n",
       "    }\n",
       "\n",
       "    .dataframe thead th {\n",
       "        text-align: right;\n",
       "    }\n",
       "</style>\n",
       "<table border=\"1\" class=\"dataframe\">\n",
       "  <thead>\n",
       "    <tr style=\"text-align: right;\">\n",
       "      <th></th>\n",
       "      <th>anamet entity</th>\n",
       "      <th>sc:description</th>\n",
       "      <th>sc:hasCategory</th>\n",
       "      <th>sc:internal_code</th>\n",
       "      <th>sc:isProcessedBy</th>\n",
       "    </tr>\n",
       "  </thead>\n",
       "  <tbody>\n",
       "    <tr>\n",
       "      <th>28</th>\n",
       "      <td>sc:ANAMET_465</td>\n",
       "      <td>COPPER SCRAP MILLBERRY CABLES FOR STRIP.</td>\n",
       "      <td>Non-Ferrous</td>\n",
       "      <td>40014</td>\n",
       "      <td>NaN</td>\n",
       "    </tr>\n",
       "    <tr>\n",
       "      <th>30</th>\n",
       "      <td>sc:ANAMET_466</td>\n",
       "      <td>COPPER SCRAP BIRCH CABLES FOR STRIPPING</td>\n",
       "      <td>Non-Ferrous</td>\n",
       "      <td>40015</td>\n",
       "      <td>NaN</td>\n",
       "    </tr>\n",
       "    <tr>\n",
       "      <th>33</th>\n",
       "      <td>sc:ANAMET_467</td>\n",
       "      <td>MIXED COPPER CABLES SCRAP( RAW )</td>\n",
       "      <td>Non-Ferrous</td>\n",
       "      <td>40091</td>\n",
       "      <td>NaN</td>\n",
       "    </tr>\n",
       "    <tr>\n",
       "      <th>34</th>\n",
       "      <td>sc:ANAMET_468</td>\n",
       "      <td>CABLES COPPER - LEAD(RAW)</td>\n",
       "      <td>Non-Ferrous</td>\n",
       "      <td>40133</td>\n",
       "      <td>NaN</td>\n",
       "    </tr>\n",
       "    <tr>\n",
       "      <th>37</th>\n",
       "      <td>sc:ANAMET_469</td>\n",
       "      <td>COPPER SCRAP BERRY/CANDY AS PER ISR(RAW)</td>\n",
       "      <td>Non-Ferrous</td>\n",
       "      <td>40210</td>\n",
       "      <td>NaN</td>\n",
       "    </tr>\n",
       "    <tr>\n",
       "      <th>...</th>\n",
       "      <td>...</td>\n",
       "      <td>...</td>\n",
       "      <td>...</td>\n",
       "      <td>...</td>\n",
       "      <td>...</td>\n",
       "    </tr>\n",
       "    <tr>\n",
       "      <th>317</th>\n",
       "      <td>sc:ANAMET_684</td>\n",
       "      <td>LEAD SCRAP (E)</td>\n",
       "      <td>Non-Ferrous</td>\n",
       "      <td>50185</td>\n",
       "      <td>NaN</td>\n",
       "    </tr>\n",
       "    <tr>\n",
       "      <th>318</th>\n",
       "      <td>sc:ANAMET_685</td>\n",
       "      <td>ELECTRIC MOTORS SHREDDED (WEEE)</td>\n",
       "      <td>Non-Ferrous</td>\n",
       "      <td>50259</td>\n",
       "      <td>NaN</td>\n",
       "    </tr>\n",
       "    <tr>\n",
       "      <th>319</th>\n",
       "      <td>sc:ANAMET_686</td>\n",
       "      <td>BLACK PLASTIC SCRAP (WEEE)  ( E )</td>\n",
       "      <td>Non-Ferrous</td>\n",
       "      <td>50117</td>\n",
       "      <td>NaN</td>\n",
       "    </tr>\n",
       "    <tr>\n",
       "      <th>320</th>\n",
       "      <td>sc:ANAMET_687</td>\n",
       "      <td>SCRAP PLEXIGLASS ( E )</td>\n",
       "      <td>Non-Ferrous</td>\n",
       "      <td>50118</td>\n",
       "      <td>NaN</td>\n",
       "    </tr>\n",
       "    <tr>\n",
       "      <th>321</th>\n",
       "      <td>sc:ANAMET_688</td>\n",
       "      <td>MIXED PLASTIC SCRAP (WEEE) ( E )</td>\n",
       "      <td>Non-Ferrous</td>\n",
       "      <td>50119</td>\n",
       "      <td>NaN</td>\n",
       "    </tr>\n",
       "  </tbody>\n",
       "</table>\n",
       "<p>214 rows × 5 columns</p>\n",
       "</div>"
      ],
      "text/plain": [
       "     anamet entity                            sc:description sc:hasCategory  \\\n",
       "28   sc:ANAMET_465  COPPER SCRAP MILLBERRY CABLES FOR STRIP.    Non-Ferrous   \n",
       "30   sc:ANAMET_466   COPPER SCRAP BIRCH CABLES FOR STRIPPING    Non-Ferrous   \n",
       "33   sc:ANAMET_467          MIXED COPPER CABLES SCRAP( RAW )    Non-Ferrous   \n",
       "34   sc:ANAMET_468                 CABLES COPPER - LEAD(RAW)    Non-Ferrous   \n",
       "37   sc:ANAMET_469  COPPER SCRAP BERRY/CANDY AS PER ISR(RAW)    Non-Ferrous   \n",
       "..             ...                                       ...            ...   \n",
       "317  sc:ANAMET_684                            LEAD SCRAP (E)    Non-Ferrous   \n",
       "318  sc:ANAMET_685           ELECTRIC MOTORS SHREDDED (WEEE)    Non-Ferrous   \n",
       "319  sc:ANAMET_686         BLACK PLASTIC SCRAP (WEEE)  ( E )    Non-Ferrous   \n",
       "320  sc:ANAMET_687                    SCRAP PLEXIGLASS ( E )    Non-Ferrous   \n",
       "321  sc:ANAMET_688          MIXED PLASTIC SCRAP (WEEE) ( E )    Non-Ferrous   \n",
       "\n",
       "     sc:internal_code sc:isProcessedBy  \n",
       "28              40014              NaN  \n",
       "30              40015              NaN  \n",
       "33              40091              NaN  \n",
       "34              40133              NaN  \n",
       "37              40210              NaN  \n",
       "..                ...              ...  \n",
       "317             50185              NaN  \n",
       "318             50259              NaN  \n",
       "319             50117              NaN  \n",
       "320             50118              NaN  \n",
       "321             50119              NaN  \n",
       "\n",
       "[214 rows x 5 columns]"
      ]
     },
     "execution_count": 42,
     "metadata": {},
     "output_type": "execute_result"
    }
   ],
   "source": [
    "# Keep only anamets with english sc:descritpion\n",
    "import unicodedata as ud\n",
    "\n",
    "latin_letters= {}\n",
    "\n",
    "def is_latin(uchr):\n",
    "    try: return latin_letters[uchr]\n",
    "    except KeyError:\n",
    "         return latin_letters.setdefault(uchr, 'LATIN' in ud.name(uchr))\n",
    "\n",
    "def only_roman_chars(unistr):\n",
    "    return all(is_latin(uchr)\n",
    "           for uchr in unistr\n",
    "           if uchr.isalpha()) # isalpha suggested by John Machin\n",
    "\n",
    "e_description_index = []\n",
    "for row in range(len(anamet_data)):\n",
    "    if only_roman_chars(str(anamet_data['sc:description'].iloc[row])):\n",
    "        e_description_index.append(row)\n",
    "        \n",
    "anamet_data = anamet_data.iloc[e_description_index]\n",
    "anamet_data"
   ]
  },
  {
   "cell_type": "markdown",
   "id": "857b2897",
   "metadata": {},
   "source": [
    "Preprocess text data using `gensim.utils.simple_preprocess()`"
   ]
  },
  {
   "cell_type": "code",
   "execution_count": 43,
   "id": "c16128a0",
   "metadata": {},
   "outputs": [
    {
     "data": {
      "text/html": [
       "<div>\n",
       "<style scoped>\n",
       "    .dataframe tbody tr th:only-of-type {\n",
       "        vertical-align: middle;\n",
       "    }\n",
       "\n",
       "    .dataframe tbody tr th {\n",
       "        vertical-align: top;\n",
       "    }\n",
       "\n",
       "    .dataframe thead th {\n",
       "        text-align: right;\n",
       "    }\n",
       "</style>\n",
       "<table border=\"1\" class=\"dataframe\">\n",
       "  <thead>\n",
       "    <tr style=\"text-align: right;\">\n",
       "      <th></th>\n",
       "      <th>anamet entity</th>\n",
       "      <th>sc:description</th>\n",
       "      <th>sc:hasCategory</th>\n",
       "      <th>sc:internal_code</th>\n",
       "      <th>sc:isProcessedBy</th>\n",
       "    </tr>\n",
       "  </thead>\n",
       "  <tbody>\n",
       "    <tr>\n",
       "      <th>28</th>\n",
       "      <td>sc:ANAMET_465</td>\n",
       "      <td>[copper, scrap, millberry, cables, for, strip]</td>\n",
       "      <td>Non-Ferrous</td>\n",
       "      <td>40014</td>\n",
       "      <td>NaN</td>\n",
       "    </tr>\n",
       "    <tr>\n",
       "      <th>30</th>\n",
       "      <td>sc:ANAMET_466</td>\n",
       "      <td>[copper, scrap, birch, cables, for, stripping]</td>\n",
       "      <td>Non-Ferrous</td>\n",
       "      <td>40015</td>\n",
       "      <td>NaN</td>\n",
       "    </tr>\n",
       "  </tbody>\n",
       "</table>\n",
       "</div>"
      ],
      "text/plain": [
       "    anamet entity                                  sc:description  \\\n",
       "28  sc:ANAMET_465  [copper, scrap, millberry, cables, for, strip]   \n",
       "30  sc:ANAMET_466  [copper, scrap, birch, cables, for, stripping]   \n",
       "\n",
       "   sc:hasCategory  sc:internal_code sc:isProcessedBy  \n",
       "28    Non-Ferrous             40014              NaN  \n",
       "30    Non-Ferrous             40015              NaN  "
      ]
     },
     "execution_count": 43,
     "metadata": {},
     "output_type": "execute_result"
    }
   ],
   "source": [
    "anamet_data['sc:description'] = anamet_data['sc:description'].apply(simple_preprocess)\n",
    "anamet_data.head(2)"
   ]
  },
  {
   "cell_type": "markdown",
   "id": "202e7f09",
   "metadata": {},
   "source": [
    "Delete word `scrap` from description"
   ]
  },
  {
   "cell_type": "code",
   "execution_count": 44,
   "id": "e8142bcf",
   "metadata": {},
   "outputs": [],
   "source": [
    "# Delete word scrap\n",
    "for i in range(len(anamet_data)):\n",
    "    if 'scrap' in anamet_data['sc:description'].iloc[i]:\n",
    "        anamet_data['sc:description'].iloc[i].remove('scrap')"
   ]
  },
  {
   "cell_type": "code",
   "execution_count": 45,
   "id": "e56e6f67",
   "metadata": {},
   "outputs": [
    {
     "data": {
      "text/html": [
       "<div>\n",
       "<style scoped>\n",
       "    .dataframe tbody tr th:only-of-type {\n",
       "        vertical-align: middle;\n",
       "    }\n",
       "\n",
       "    .dataframe tbody tr th {\n",
       "        vertical-align: top;\n",
       "    }\n",
       "\n",
       "    .dataframe thead th {\n",
       "        text-align: right;\n",
       "    }\n",
       "</style>\n",
       "<table border=\"1\" class=\"dataframe\">\n",
       "  <thead>\n",
       "    <tr style=\"text-align: right;\">\n",
       "      <th></th>\n",
       "      <th>anamet entity</th>\n",
       "      <th>sc:description</th>\n",
       "      <th>sc:hasCategory</th>\n",
       "      <th>sc:internal_code</th>\n",
       "      <th>sc:isProcessedBy</th>\n",
       "    </tr>\n",
       "  </thead>\n",
       "  <tbody>\n",
       "    <tr>\n",
       "      <th>28</th>\n",
       "      <td>sc:ANAMET_465</td>\n",
       "      <td>[copper, millberry, cables, for, strip]</td>\n",
       "      <td>Non-Ferrous</td>\n",
       "      <td>40014</td>\n",
       "      <td>NaN</td>\n",
       "    </tr>\n",
       "    <tr>\n",
       "      <th>30</th>\n",
       "      <td>sc:ANAMET_466</td>\n",
       "      <td>[copper, birch, cables, for, stripping]</td>\n",
       "      <td>Non-Ferrous</td>\n",
       "      <td>40015</td>\n",
       "      <td>NaN</td>\n",
       "    </tr>\n",
       "  </tbody>\n",
       "</table>\n",
       "</div>"
      ],
      "text/plain": [
       "    anamet entity                           sc:description sc:hasCategory  \\\n",
       "28  sc:ANAMET_465  [copper, millberry, cables, for, strip]    Non-Ferrous   \n",
       "30  sc:ANAMET_466  [copper, birch, cables, for, stripping]    Non-Ferrous   \n",
       "\n",
       "    sc:internal_code sc:isProcessedBy  \n",
       "28             40014              NaN  \n",
       "30             40015              NaN  "
      ]
     },
     "execution_count": 45,
     "metadata": {},
     "output_type": "execute_result"
    }
   ],
   "source": [
    "anamet_data.head(2)"
   ]
  },
  {
   "cell_type": "markdown",
   "id": "3b490d1b-0ed2-4a65-bd3d-b1d0fdb99d5d",
   "metadata": {},
   "source": [
    "## UNS `uns_data`"
   ]
  },
  {
   "cell_type": "code",
   "execution_count": 46,
   "id": "0a14099a",
   "metadata": {},
   "outputs": [
    {
     "data": {
      "text/html": [
       "<div>\n",
       "<style scoped>\n",
       "    .dataframe tbody tr th:only-of-type {\n",
       "        vertical-align: middle;\n",
       "    }\n",
       "\n",
       "    .dataframe tbody tr th {\n",
       "        vertical-align: top;\n",
       "    }\n",
       "\n",
       "    .dataframe thead th {\n",
       "        text-align: right;\n",
       "    }\n",
       "</style>\n",
       "<table border=\"1\" class=\"dataframe\">\n",
       "  <thead>\n",
       "    <tr style=\"text-align: right;\">\n",
       "      <th></th>\n",
       "      <th>uns id</th>\n",
       "      <th>sc:hasName</th>\n",
       "      <th>elements id</th>\n",
       "      <th>ar</th>\n",
       "      <th>atomicNumber</th>\n",
       "      <th>density</th>\n",
       "      <th>meltingPoint</th>\n",
       "      <th>hasName</th>\n",
       "      <th>symbol</th>\n",
       "    </tr>\n",
       "  </thead>\n",
       "  <tbody>\n",
       "    <tr>\n",
       "      <th>0</th>\n",
       "      <td>sc:UNS_712</td>\n",
       "      <td>C83300</td>\n",
       "      <td>sc:Elements_329</td>\n",
       "      <td>207.2</td>\n",
       "      <td>82</td>\n",
       "      <td>11.29</td>\n",
       "      <td>327.5</td>\n",
       "      <td>[lead]</td>\n",
       "      <td>Pb</td>\n",
       "    </tr>\n",
       "    <tr>\n",
       "      <th>1</th>\n",
       "      <td>sc:UNS_733</td>\n",
       "      <td>C84500</td>\n",
       "      <td>sc:Elements_329</td>\n",
       "      <td>207.2</td>\n",
       "      <td>82</td>\n",
       "      <td>11.29</td>\n",
       "      <td>327.5</td>\n",
       "      <td>[lead]</td>\n",
       "      <td>Pb</td>\n",
       "    </tr>\n",
       "  </tbody>\n",
       "</table>\n",
       "</div>"
      ],
      "text/plain": [
       "       uns id sc:hasName      elements id     ar  atomicNumber density  \\\n",
       "0  sc:UNS_712     C83300  sc:Elements_329  207.2            82   11.29   \n",
       "1  sc:UNS_733     C84500  sc:Elements_329  207.2            82   11.29   \n",
       "\n",
       "  meltingPoint hasName symbol  \n",
       "0        327.5  [lead]     Pb  \n",
       "1        327.5  [lead]     Pb  "
      ]
     },
     "execution_count": 46,
     "metadata": {},
     "output_type": "execute_result"
    }
   ],
   "source": [
    "uns_data['hasName'] = uns_data['hasName'].apply(simple_preprocess)\n",
    "uns_data.head(2)"
   ]
  },
  {
   "cell_type": "markdown",
   "id": "2d58c227",
   "metadata": {},
   "source": [
    "Θέλουμε να συσχετίσουμε τα `anamet` με τα `uns`. Οι μόνες πληροφορίες που έχουμε (features) είναι το `sc:description` και `hasName`. Θα εφαρμόσουμε NLP και ειδικότερα Word2Vec για ομοιότητες μεταξύ των texts."
   ]
  },
  {
   "cell_type": "code",
   "execution_count": 47,
   "id": "a6434f33",
   "metadata": {},
   "outputs": [
    {
     "name": "stdout",
     "output_type": "stream",
     "text": [
      "214 unique anamet ids\n",
      "912 unique uns ids\n"
     ]
    }
   ],
   "source": [
    "print(anamet_data['anamet entity'].nunique(), \"unique anamet ids\")\n",
    "print(uns_data['uns id'].nunique(), \"unique uns ids\")"
   ]
  },
  {
   "cell_type": "markdown",
   "id": "93687c25",
   "metadata": {},
   "source": [
    "### Try Word2Vec stuff"
   ]
  },
  {
   "cell_type": "code",
   "execution_count": 48,
   "id": "f9213f5e",
   "metadata": {},
   "outputs": [
    {
     "data": {
      "text/plain": [
       "anamet entity                sc:ANAMET_587\n",
       "sc:description      [mixed, plastic, weee]\n",
       "sc:hasCategory                 Non-Ferrous\n",
       "sc:internal_code                     50099\n",
       "sc:isProcessedBy                       NaN\n",
       "Name: 220, dtype: object"
      ]
     },
     "execution_count": 48,
     "metadata": {},
     "output_type": "execute_result"
    }
   ],
   "source": [
    "test_anamet = anamet_data.iloc[120]\n",
    "test_anamet"
   ]
  },
  {
   "cell_type": "code",
   "execution_count": 51,
   "id": "84a7da02",
   "metadata": {},
   "outputs": [
    {
     "name": "stdout",
     "output_type": "stream",
     "text": [
      "fasttext-wiki-news-subwords-300\n",
      "conceptnet-numberbatch-17-06-300\n",
      "word2vec-ruscorpora-300\n",
      "word2vec-google-news-300\n",
      "glove-wiki-gigaword-50\n",
      "glove-wiki-gigaword-100\n",
      "glove-wiki-gigaword-200\n",
      "glove-wiki-gigaword-300\n",
      "glove-twitter-25\n",
      "glove-twitter-50\n",
      "glove-twitter-100\n",
      "glove-twitter-200\n",
      "__testing_word2vec-matrix-synopsis\n",
      "[==================================================] 100.0% 104.8/104.8MB downloaded\n"
     ]
    }
   ],
   "source": [
    "import gensim\n",
    "import gensim.downloader\n",
    "\n",
    "for model_name in list(gensim.downloader.info()['models'].keys()):\n",
    "    print(model_name)\n",
    "    \n",
    "model = gensim.downloader.load('glove-twitter-25')"
   ]
  },
  {
   "cell_type": "code",
   "execution_count": 52,
   "id": "e8d0c08e-f439-468a-a1a2-34dc890f6a52",
   "metadata": {},
   "outputs": [
    {
     "data": {
      "text/plain": [
       "0.59558815"
      ]
     },
     "execution_count": 52,
     "metadata": {},
     "output_type": "execute_result"
    }
   ],
   "source": [
    "model.similarity('plastic', 'zinc')"
   ]
  },
  {
   "cell_type": "code",
   "execution_count": null,
   "id": "49af2bd9",
   "metadata": {},
   "outputs": [],
   "source": []
  },
  {
   "cell_type": "code",
   "execution_count": null,
   "id": "153d6c50",
   "metadata": {},
   "outputs": [],
   "source": []
  },
  {
   "cell_type": "code",
   "execution_count": null,
   "id": "d105edf1",
   "metadata": {},
   "outputs": [],
   "source": [
    "anamet_data['sc:description']"
   ]
  },
  {
   "cell_type": "code",
   "execution_count": null,
   "id": "4c2d4bae-8e70-4714-bed8-1a5ee0f16c36",
   "metadata": {},
   "outputs": [],
   "source": [
    "for row in range(200, 250):\n",
    "    w1 = uns_data['hasName'].iloc[row][0]\n",
    "    \n",
    "    for j in range(3):\n",
    "        try:\n",
    "            w2 = anamet_data['sc:description'].iloc[j]\n",
    "            print(w1, w2[0], model.similarity(w1, w2[0]))\n",
    "        except KeyError:\n",
    "            continue"
   ]
  },
  {
   "cell_type": "code",
   "execution_count": null,
   "id": "26791d7e-db74-4a7f-9399-1e63cfd28103",
   "metadata": {},
   "outputs": [],
   "source": []
  },
  {
   "cell_type": "code",
   "execution_count": null,
   "id": "f4b568fe-6826-425f-b138-cea62d2cd46e",
   "metadata": {},
   "outputs": [],
   "source": []
  },
  {
   "cell_type": "code",
   "execution_count": null,
   "id": "c59d2d4f",
   "metadata": {},
   "outputs": [],
   "source": [
    "# NLP preprocess\n",
    "from gensim.utils import simple_preprocess\n",
    "from gensim.models import Word2Vec\n",
    "\n",
    "description = anamet_data['sc:description']\n",
    "description\n",
    "\n",
    "model = Word2Vec(min_count=1, \n",
    "                 vector_size=25, \n",
    "                 workers=4, \n",
    "                 window=2, \n",
    "                 sg=1)\n",
    "\n",
    "model.build_vocab(description)\n",
    "model.train(description, total_examples=model.corpus_count,\n",
    "           epochs=500)"
   ]
  },
  {
   "cell_type": "code",
   "execution_count": null,
   "id": "d9b4c71a",
   "metadata": {},
   "outputs": [],
   "source": []
  },
  {
   "cell_type": "code",
   "execution_count": null,
   "id": "c1f7955c-1814-4c15-a479-19c2f3c1826b",
   "metadata": {},
   "outputs": [],
   "source": [
    "model.wv.most_similar('lead')"
   ]
  },
  {
   "cell_type": "code",
   "execution_count": null,
   "id": "04d004df-055f-4798-ae06-2b7e62a048be",
   "metadata": {},
   "outputs": [],
   "source": [
    "anamet_data['sc:description'].iloc[1][0]"
   ]
  },
  {
   "cell_type": "code",
   "execution_count": null,
   "id": "88d703a6",
   "metadata": {},
   "outputs": [],
   "source": [
    "model.wv.similarity(anamet_data['sc:description'].iloc[0], 'copper')"
   ]
  },
  {
   "cell_type": "code",
   "execution_count": null,
   "id": "a9238095-810e-433b-9aba-6ae2b785ec4a",
   "metadata": {},
   "outputs": [],
   "source": []
  },
  {
   "cell_type": "code",
   "execution_count": null,
   "id": "71a06998-3d2a-4699-8d3c-f814b27f8588",
   "metadata": {},
   "outputs": [],
   "source": [
    "import gensim\n",
    "import gensim.downloader\n",
    "\n",
    "for model_name in list(gensim.downloader.info()['models'].keys()):\n",
    "    print(model_name)\n",
    "    \n",
    "google_news_vectors = gensim.downloader.load('glove-wiki-gigaword-300')"
   ]
  },
  {
   "cell_type": "code",
   "execution_count": null,
   "id": "f5a63158-f198-4dcb-ac30-5b9e27af6833",
   "metadata": {},
   "outputs": [],
   "source": [
    "google_news_vectors.save(\"pretrained_word2vec.model\")"
   ]
  },
  {
   "cell_type": "code",
   "execution_count": null,
   "id": "310d7ad3-3a25-4a10-8c41-da90e2c096aa",
   "metadata": {},
   "outputs": [],
   "source": [
    "google_news_vectors"
   ]
  },
  {
   "cell_type": "code",
   "execution_count": null,
   "id": "6e03dad8",
   "metadata": {},
   "outputs": [],
   "source": [
    "not_included = []\n",
    "included = []\n",
    "for row in range(len(uns_data)):\n",
    "    try:\n",
    "        model.wv.most_similar(uns_data['hasName'].iloc[row])\n",
    "        included.append(uns_data['hasName'].iloc[row])\n",
    "    except KeyError: \n",
    "        not_included.append(uns_data['hasName'].iloc[row])\n",
    "\n",
    "pd.DataFrame(not_included)[0].unique()"
   ]
  },
  {
   "cell_type": "code",
   "execution_count": null,
   "id": "49010548",
   "metadata": {},
   "outputs": [],
   "source": [
    "pd.DataFrame(included)[0].unique()"
   ]
  },
  {
   "cell_type": "code",
   "execution_count": null,
   "id": "1d090945",
   "metadata": {},
   "outputs": [],
   "source": [
    "uns_data['hasName'].value_counts()"
   ]
  },
  {
   "cell_type": "code",
   "execution_count": null,
   "id": "b40129ce",
   "metadata": {},
   "outputs": [],
   "source": [
    "elements_data_df = elements_data[['ar', 'atomicNumber', 'density', 'meltingPoint', 'hasName']]\n",
    "elements_data_df['hasName'] = elements_data_df['hasName'].apply(simple_preprocess)\n",
    "elements_data_df.head(2)"
   ]
  },
  {
   "cell_type": "code",
   "execution_count": null,
   "id": "f46fe628",
   "metadata": {},
   "outputs": [],
   "source": [
    "print(elements_data['hasName'].nunique())"
   ]
  },
  {
   "cell_type": "code",
   "execution_count": null,
   "id": "16129281",
   "metadata": {
    "scrolled": true
   },
   "outputs": [],
   "source": [
    "from sklearn.preprocessing import LabelEncoder\n",
    "\n",
    "label_enc = LabelEncoder()\n",
    "\n",
    "elements_data_df['hasName_id'] = label_enc.fit_transform(elements_data['hasName'])\n",
    "elements_data_df.head(2)"
   ]
  },
  {
   "cell_type": "code",
   "execution_count": null,
   "id": "77d63a47",
   "metadata": {},
   "outputs": [],
   "source": [
    "from sklearn.cluster import KMeans\n",
    "from sklearn.cluster import DBSCAN\n",
    "\n",
    "kmeans = KMeans(n_clusters=4)\n",
    "kmeans.fit(elements_data_df.drop('hasName', axis=1))"
   ]
  },
  {
   "cell_type": "code",
   "execution_count": null,
   "id": "00e8ff23",
   "metadata": {},
   "outputs": [],
   "source": [
    "pd.DataFrame(included)[0].unique()"
   ]
  },
  {
   "cell_type": "code",
   "execution_count": null,
   "id": "06b44d6b",
   "metadata": {},
   "outputs": [],
   "source": [
    "pd.DataFrame(not_included)[0].unique()"
   ]
  },
  {
   "cell_type": "code",
   "execution_count": null,
   "id": "8537622b",
   "metadata": {
    "scrolled": true
   },
   "outputs": [],
   "source": [
    "yhat = kmeans.predict(elements_data_df.drop('hasName', axis=1))\n",
    "elements_data_df['cluster'] = yhat\n",
    "elements_data_df"
   ]
  },
  {
   "cell_type": "code",
   "execution_count": null,
   "id": "3452e414",
   "metadata": {},
   "outputs": [],
   "source": [
    "for elm in pd.DataFrame(included)[0].unique():\n",
    "    for row in range(len(elements_data_df)):\n",
    "        if(elements_data_df['hasName'].iloc[row][0] == elm):\n",
    "            print(elm, elements_data_df['cluster'].iloc[row])"
   ]
  },
  {
   "cell_type": "code",
   "execution_count": null,
   "id": "bfa6056b",
   "metadata": {},
   "outputs": [],
   "source": [
    "for elm in pd.DataFrame(not_included)[0].unique():\n",
    "    for row in range(len(elements_data_df)):\n",
    "        if(elements_data_df['hasName'].iloc[row][0] == elm):\n",
    "            print(elm, elements_data_df['cluster'].iloc[row])"
   ]
  },
  {
   "cell_type": "code",
   "execution_count": null,
   "id": "ca548bed",
   "metadata": {},
   "outputs": [],
   "source": [
    "# for row in range(len(uns_data)):\n",
    "#     if uns_data['hasName'].iloc[row][0] in pd.DataFrame(not_included)[0].unique():\n",
    "#         ifuns_data['hasName'].iloc[row][0] == 'tin':\n",
    "#             uns_data['hasName'].iloc[row][0] = 'lead'\n",
    "#         if uns_data['hasName'].iloc[row][0] == 'manganese\n",
    "#             uns_data['hasName'].iloc[row][0] = 'nickel'\n",
    "#         if uns_data['hasName'].iloc[row][0] == 'tin':\n",
    "#             uns_data['hasName'].iloc[row][0] = 'lead'\n",
    "\n"
   ]
  },
  {
   "cell_type": "code",
   "execution_count": null,
   "id": "e6cdfaac",
   "metadata": {},
   "outputs": [],
   "source": [
    "uns_data['hasName'].value_counts()"
   ]
  },
  {
   "cell_type": "code",
   "execution_count": null,
   "id": "67567389",
   "metadata": {},
   "outputs": [],
   "source": [
    "uns_data['hasName'].iloc[0]"
   ]
  },
  {
   "cell_type": "code",
   "execution_count": null,
   "id": "2c037949",
   "metadata": {},
   "outputs": [],
   "source": []
  },
  {
   "cell_type": "code",
   "execution_count": null,
   "id": "77c360df",
   "metadata": {},
   "outputs": [],
   "source": []
  },
  {
   "cell_type": "code",
   "execution_count": null,
   "id": "f0e6376b",
   "metadata": {},
   "outputs": [],
   "source": []
  },
  {
   "cell_type": "code",
   "execution_count": null,
   "id": "77d39602",
   "metadata": {},
   "outputs": [],
   "source": [
    "for row in range(len(uns_data)):\n",
    "    try:\n",
    "        model.wv.most_similar(uns_data['hasName'].iloc[row])\n",
    "    except KeyError: \n",
    "        print(uns_data['hasName'].iloc[row])"
   ]
  },
  {
   "cell_type": "code",
   "execution_count": null,
   "id": "efb8ff4c",
   "metadata": {},
   "outputs": [],
   "source": []
  }
 ],
 "metadata": {
  "kernelspec": {
   "display_name": "Python 3.9.10 ('main-bio')",
   "language": "python",
   "name": "python3"
  },
  "language_info": {
   "codemirror_mode": {
    "name": "ipython",
    "version": 3
   },
   "file_extension": ".py",
   "mimetype": "text/x-python",
   "name": "python",
   "nbconvert_exporter": "python",
   "pygments_lexer": "ipython3",
   "version": "3.9.10"
  },
  "vscode": {
   "interpreter": {
    "hash": "c6c04a7e252f45ffc2f7191e380805b6a5dd99aa68793d835f69a35c16ce4a30"
   }
  }
 },
 "nbformat": 4,
 "nbformat_minor": 5
}
