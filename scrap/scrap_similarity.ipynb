{
 "cells": [
  {
   "cell_type": "markdown",
   "id": "0cf57602-125b-4b81-a94d-b5010df11e76",
   "metadata": {},
   "source": [
    "# Import libraries"
   ]
  },
  {
   "cell_type": "code",
   "execution_count": 2,
   "id": "45c7e20b-c57f-4e13-b77e-11572f9e6409",
   "metadata": {},
   "outputs": [],
   "source": [
    "import pandas as pd\n",
    "import numpy as np\n",
    "import matplotlib.pyplot as plt  \n",
    "\n",
    "from sklearn.preprocessing import LabelEncoder\n",
    "\n",
    "from tqdm import tqdm\n",
    "\n",
    "import matplotlib.pyplot as plt\n",
    "\n",
    "from sklearn.model_selection import train_test_split\n",
    "from sklearn.feature_extraction.text import TfidfVectorizer\n",
    "from sklearn.naive_bayes import MultinomialNB\n",
    "from sklearn.metrics import accuracy_score\n",
    "from sklearn.multiclass import OneVsRestClassifier\n",
    "from nltk.corpus import stopwords\n",
    "stop_words = set(stopwords.words('english'))\n",
    "from sklearn.svm import LinearSVC\n",
    "from sklearn.linear_model import LogisticRegression\n",
    "from sklearn.pipeline import Pipeline\n",
    "import seaborn as sns"
   ]
  },
  {
   "cell_type": "markdown",
   "id": "ba22e924-fdeb-4ee5-9cfa-9f67282f50e7",
   "metadata": {},
   "source": [
    "## Read data"
   ]
  },
  {
   "cell_type": "code",
   "execution_count": 3,
   "id": "43402469-b408-470d-8d55-2244f142384a",
   "metadata": {},
   "outputs": [],
   "source": [
    "uns = pd.read_csv('uns_df.csv', index_col=0)\n",
    "isri = pd.read_csv('isri_df.csv', index_col=0)\n",
    "process = pd.read_csv('process_df.csv', index_col=0)\n",
    "anamet = pd.read_csv('anamet_df.csv', index_col=0)\n",
    "materials = pd.read_csv('materials_df.csv', index_col=0)"
   ]
  },
  {
   "cell_type": "markdown",
   "id": "72776f13",
   "metadata": {},
   "source": [
    "# New *NIKOS* data"
   ]
  },
  {
   "cell_type": "code",
   "execution_count": 4,
   "id": "d5cd106c",
   "metadata": {},
   "outputs": [
    {
     "data": {
      "text/plain": [
       "['ANAMET',\n",
       " 'Anamet data',\n",
       " 'ISRI',\n",
       " 'Isri data',\n",
       " 'UNS data',\n",
       " 'Elements data',\n",
       " 'Material data',\n",
       " 'Process']"
      ]
     },
     "execution_count": 4,
     "metadata": {},
     "output_type": "execute_result"
    }
   ],
   "source": [
    "xls = pd.ExcelFile('data/edited_nikos_data.xlsx')\n",
    "xls.sheet_names"
   ]
  },
  {
   "cell_type": "code",
   "execution_count": 5,
   "id": "87cde166",
   "metadata": {},
   "outputs": [],
   "source": [
    "uns_data = pd.read_excel(xls, 'UNS data')\n",
    "\n",
    "uns_data.rename(columns = {'sc:isComposedOf':'elements id'}, inplace = True)\n",
    "\n",
    "elements_data = pd.read_excel(xls, 'Elements data')\n",
    "\n",
    "uns_data = pd.merge(uns_data, elements_data, how='inner', on = 'elements id')\n",
    "isri_data = pd.read_excel(xls, 'Isri data')\n",
    "anamet_data = pd.read_excel(xls, 'Anamet data')\n",
    "material_data = pd.read_excel(xls, 'Material data')\n",
    "elements_data = pd.read_excel(xls, 'Elements data')"
   ]
  },
  {
   "cell_type": "markdown",
   "id": "eb262c79",
   "metadata": {},
   "source": [
    "# 1. Predict missing feature values"
   ]
  },
  {
   "cell_type": "code",
   "execution_count": 6,
   "id": "ab145ffc",
   "metadata": {},
   "outputs": [
    {
     "data": {
      "text/html": [
       "<div>\n",
       "<style scoped>\n",
       "    .dataframe tbody tr th:only-of-type {\n",
       "        vertical-align: middle;\n",
       "    }\n",
       "\n",
       "    .dataframe tbody tr th {\n",
       "        vertical-align: top;\n",
       "    }\n",
       "\n",
       "    .dataframe thead th {\n",
       "        text-align: right;\n",
       "    }\n",
       "</style>\n",
       "<table border=\"1\" class=\"dataframe\">\n",
       "  <thead>\n",
       "    <tr style=\"text-align: right;\">\n",
       "      <th></th>\n",
       "      <th>isri id</th>\n",
       "      <th>sc:hasCategory</th>\n",
       "      <th>sc:hasForm</th>\n",
       "      <th>sc:isFreeFrom</th>\n",
       "      <th>sc:contains</th>\n",
       "      <th>sc:hasISRICode</th>\n",
       "      <th>sc:hasSpecification</th>\n",
       "      <th>pc:hasName</th>\n",
       "      <th>sc:isComposedOf</th>\n",
       "      <th>sc:isProcessedBy</th>\n",
       "    </tr>\n",
       "  </thead>\n",
       "  <tbody>\n",
       "    <tr>\n",
       "      <th>0</th>\n",
       "      <td>sc:ISRI_0</td>\n",
       "      <td>Nonferrous Scrap - Red Metals</td>\n",
       "      <td>Wire</td>\n",
       "      <td>NaN</td>\n",
       "      <td>Copper</td>\n",
       "      <td>Berry</td>\n",
       "      <td>Bare, Uncoated, Unalloyed</td>\n",
       "      <td>No. 1 Copper Wire</td>\n",
       "      <td>sc:Material_249</td>\n",
       "      <td>sc:Process_257</td>\n",
       "    </tr>\n",
       "    <tr>\n",
       "      <th>1</th>\n",
       "      <td>sc:ISRI_1</td>\n",
       "      <td>Nonferrous Scrap - Red Metals</td>\n",
       "      <td>Wire and Cable</td>\n",
       "      <td>Brittle Burnt Wire, Copper Tubing</td>\n",
       "      <td>Copper</td>\n",
       "      <td>Barley</td>\n",
       "      <td>Clean, Untinned, Uncoated, Unalloyed</td>\n",
       "      <td>No. 1 Copper Wire</td>\n",
       "      <td>sc:Material_249</td>\n",
       "      <td>sc:Process_257</td>\n",
       "    </tr>\n",
       "  </tbody>\n",
       "</table>\n",
       "</div>"
      ],
      "text/plain": [
       "     isri id                 sc:hasCategory      sc:hasForm  \\\n",
       "0  sc:ISRI_0  Nonferrous Scrap - Red Metals            Wire   \n",
       "1  sc:ISRI_1  Nonferrous Scrap - Red Metals  Wire and Cable   \n",
       "\n",
       "                       sc:isFreeFrom sc:contains sc:hasISRICode  \\\n",
       "0                                NaN      Copper          Berry   \n",
       "1  Brittle Burnt Wire, Copper Tubing      Copper         Barley   \n",
       "\n",
       "                    sc:hasSpecification         pc:hasName  sc:isComposedOf  \\\n",
       "0             Bare, Uncoated, Unalloyed  No. 1 Copper Wire  sc:Material_249   \n",
       "1  Clean, Untinned, Uncoated, Unalloyed  No. 1 Copper Wire  sc:Material_249   \n",
       "\n",
       "  sc:isProcessedBy  \n",
       "0   sc:Process_257  \n",
       "1   sc:Process_257  "
      ]
     },
     "execution_count": 6,
     "metadata": {},
     "output_type": "execute_result"
    }
   ],
   "source": [
    "isri_data.head(2)"
   ]
  },
  {
   "cell_type": "code",
   "execution_count": 7,
   "id": "b5ddb481",
   "metadata": {},
   "outputs": [
    {
     "data": {
      "text/plain": [
       "(244, 10)"
      ]
     },
     "execution_count": 7,
     "metadata": {},
     "output_type": "execute_result"
    }
   ],
   "source": [
    "isri_data.shape"
   ]
  },
  {
   "cell_type": "markdown",
   "id": "a81f60b2",
   "metadata": {},
   "source": [
    "Replace `sc:isComposedOf` with the matching material from `material_name`"
   ]
  },
  {
   "cell_type": "code",
   "execution_count": 8,
   "id": "b8575143",
   "metadata": {},
   "outputs": [],
   "source": [
    "# # Replace `sc:isComposedOf` with the matching material from `material_data`\n",
    "# dict_materials = {}\n",
    "\n",
    "# for row in range(len(material_data)):\n",
    "#     name = material_data['Material ID'].iloc[row]\n",
    "#     value = material_data['sc:hasName'].iloc[row]\n",
    "\n",
    "#     dict_materials[name] = value\n",
    "\n",
    "# isri_data.replace({\"sc:isComposedOf\": dict_materials},inplace=True)\n",
    "# isri_data.head()"
   ]
  },
  {
   "cell_type": "code",
   "execution_count": 9,
   "id": "747ba240",
   "metadata": {},
   "outputs": [
    {
     "data": {
      "text/html": [
       "<div>\n",
       "<style scoped>\n",
       "    .dataframe tbody tr th:only-of-type {\n",
       "        vertical-align: middle;\n",
       "    }\n",
       "\n",
       "    .dataframe tbody tr th {\n",
       "        vertical-align: top;\n",
       "    }\n",
       "\n",
       "    .dataframe thead th {\n",
       "        text-align: right;\n",
       "    }\n",
       "</style>\n",
       "<table border=\"1\" class=\"dataframe\">\n",
       "  <thead>\n",
       "    <tr style=\"text-align: right;\">\n",
       "      <th></th>\n",
       "      <th>Material ID</th>\n",
       "      <th>sc:hasName</th>\n",
       "      <th>sc:contains</th>\n",
       "    </tr>\n",
       "  </thead>\n",
       "  <tbody>\n",
       "    <tr>\n",
       "      <th>0</th>\n",
       "      <td>sc:Material_244</td>\n",
       "      <td>ALUMINUM</td>\n",
       "      <td>NaN</td>\n",
       "    </tr>\n",
       "    <tr>\n",
       "      <th>1</th>\n",
       "      <td>sc:Material_245</td>\n",
       "      <td>MALLEABLE IRON</td>\n",
       "      <td>NaN</td>\n",
       "    </tr>\n",
       "    <tr>\n",
       "      <th>2</th>\n",
       "      <td>sc:Material_246</td>\n",
       "      <td>ALUMINUM BRASS</td>\n",
       "      <td>NaN</td>\n",
       "    </tr>\n",
       "    <tr>\n",
       "      <th>3</th>\n",
       "      <td>sc:Material_247</td>\n",
       "      <td>BRASS</td>\n",
       "      <td>NaN</td>\n",
       "    </tr>\n",
       "    <tr>\n",
       "      <th>4</th>\n",
       "      <td>sc:Material_248</td>\n",
       "      <td>BRONZE</td>\n",
       "      <td>NaN</td>\n",
       "    </tr>\n",
       "    <tr>\n",
       "      <th>...</th>\n",
       "      <td>...</td>\n",
       "      <td>...</td>\n",
       "      <td>...</td>\n",
       "    </tr>\n",
       "    <tr>\n",
       "      <th>244</th>\n",
       "      <td>sc:Material_283</td>\n",
       "      <td>NaN</td>\n",
       "      <td>ALUMINUM</td>\n",
       "    </tr>\n",
       "    <tr>\n",
       "      <th>245</th>\n",
       "      <td>sc:Material_283</td>\n",
       "      <td>NaN</td>\n",
       "      <td>COPPER</td>\n",
       "    </tr>\n",
       "    <tr>\n",
       "      <th>246</th>\n",
       "      <td>sc:Material_283</td>\n",
       "      <td>NaN</td>\n",
       "      <td>LEAD</td>\n",
       "    </tr>\n",
       "    <tr>\n",
       "      <th>247</th>\n",
       "      <td>sc:Material_284</td>\n",
       "      <td>NaN</td>\n",
       "      <td>COPPER</td>\n",
       "    </tr>\n",
       "    <tr>\n",
       "      <th>248</th>\n",
       "      <td>sc:Material_285</td>\n",
       "      <td>NaN</td>\n",
       "      <td>COPPER</td>\n",
       "    </tr>\n",
       "  </tbody>\n",
       "</table>\n",
       "<p>249 rows × 3 columns</p>\n",
       "</div>"
      ],
      "text/plain": [
       "         Material ID      sc:hasName sc:contains\n",
       "0    sc:Material_244        ALUMINUM         NaN\n",
       "1    sc:Material_245  MALLEABLE IRON         NaN\n",
       "2    sc:Material_246  ALUMINUM BRASS         NaN\n",
       "3    sc:Material_247           BRASS         NaN\n",
       "4    sc:Material_248          BRONZE         NaN\n",
       "..               ...             ...         ...\n",
       "244  sc:Material_283             NaN    ALUMINUM\n",
       "245  sc:Material_283             NaN      COPPER\n",
       "246  sc:Material_283             NaN        LEAD\n",
       "247  sc:Material_284             NaN      COPPER\n",
       "248  sc:Material_285             NaN      COPPER\n",
       "\n",
       "[249 rows x 3 columns]"
      ]
     },
     "execution_count": 9,
     "metadata": {},
     "output_type": "execute_result"
    }
   ],
   "source": [
    "# Replace `sc:isComposedOf` with the matching material from `material_data`\n",
    "dict_elements = {}\n",
    "\n",
    "for row in range(len(elements_data)):\n",
    "    name = elements_data['elements id'].iloc[row]\n",
    "    value = elements_data['hasName'].iloc[row]\n",
    "\n",
    "    dict_elements[name] = value\n",
    "\n",
    "material_data.replace({\"sc:contains\": dict_elements},inplace=True)\n",
    "material_data"
   ]
  },
  {
   "cell_type": "code",
   "execution_count": 10,
   "id": "08d18797",
   "metadata": {},
   "outputs": [
    {
     "data": {
      "text/plain": [
       "(244, 10)"
      ]
     },
     "execution_count": 10,
     "metadata": {},
     "output_type": "execute_result"
    }
   ],
   "source": [
    "isri_data.shape"
   ]
  },
  {
   "cell_type": "code",
   "execution_count": null,
   "id": "0c9c0c9a",
   "metadata": {},
   "outputs": [],
   "source": []
  },
  {
   "cell_type": "code",
   "execution_count": 11,
   "id": "63470d46",
   "metadata": {},
   "outputs": [
    {
     "data": {
      "text/html": [
       "<div>\n",
       "<style scoped>\n",
       "    .dataframe tbody tr th:only-of-type {\n",
       "        vertical-align: middle;\n",
       "    }\n",
       "\n",
       "    .dataframe tbody tr th {\n",
       "        vertical-align: top;\n",
       "    }\n",
       "\n",
       "    .dataframe thead th {\n",
       "        text-align: right;\n",
       "    }\n",
       "</style>\n",
       "<table border=\"1\" class=\"dataframe\">\n",
       "  <thead>\n",
       "    <tr style=\"text-align: right;\">\n",
       "      <th></th>\n",
       "      <th>isri id</th>\n",
       "      <th>sc:hasCategory</th>\n",
       "      <th>sc:hasForm</th>\n",
       "      <th>sc:isFreeFrom</th>\n",
       "      <th>sc:contains</th>\n",
       "      <th>sc:hasISRICode</th>\n",
       "      <th>sc:hasSpecification</th>\n",
       "      <th>pc:hasName</th>\n",
       "      <th>sc:isComposedOf</th>\n",
       "      <th>sc:isProcessedBy</th>\n",
       "    </tr>\n",
       "  </thead>\n",
       "  <tbody>\n",
       "    <tr>\n",
       "      <th>0</th>\n",
       "      <td>sc:ISRI_0</td>\n",
       "      <td>Nonferrous Scrap - Red Metals</td>\n",
       "      <td>Wire</td>\n",
       "      <td>NaN</td>\n",
       "      <td>Copper</td>\n",
       "      <td>Berry</td>\n",
       "      <td>Bare, Uncoated, Unalloyed</td>\n",
       "      <td>No. 1 Copper Wire</td>\n",
       "      <td>sc:Material_249</td>\n",
       "      <td>sc:Process_257</td>\n",
       "    </tr>\n",
       "    <tr>\n",
       "      <th>1</th>\n",
       "      <td>sc:ISRI_1</td>\n",
       "      <td>Nonferrous Scrap - Red Metals</td>\n",
       "      <td>Wire and Cable</td>\n",
       "      <td>Brittle Burnt Wire, Copper Tubing</td>\n",
       "      <td>Copper</td>\n",
       "      <td>Barley</td>\n",
       "      <td>Clean, Untinned, Uncoated, Unalloyed</td>\n",
       "      <td>No. 1 Copper Wire</td>\n",
       "      <td>sc:Material_249</td>\n",
       "      <td>sc:Process_257</td>\n",
       "    </tr>\n",
       "    <tr>\n",
       "      <th>2</th>\n",
       "      <td>sc:ISRI_2</td>\n",
       "      <td>Nonferrous Scrap - Red Metals</td>\n",
       "      <td>Miscellaneous, Wire</td>\n",
       "      <td>Excessively leaded, tinned, soldered copper wi...</td>\n",
       "      <td>Copper</td>\n",
       "      <td>Birch</td>\n",
       "      <td>Unalloyed</td>\n",
       "      <td>No. 2 Copper Wire</td>\n",
       "      <td>sc:Material_249</td>\n",
       "      <td>sc:Process_257</td>\n",
       "    </tr>\n",
       "    <tr>\n",
       "      <th>3</th>\n",
       "      <td>sc:ISRI_3</td>\n",
       "      <td>Nonferrous Scrap - Red Metals</td>\n",
       "      <td>Clippings, punchings, bus bars, commutator seg...</td>\n",
       "      <td>NaN</td>\n",
       "      <td>Copper</td>\n",
       "      <td>Candy</td>\n",
       "      <td>clean, unalloyed, uncoated</td>\n",
       "      <td>No. 1 Heavy Copper Solids and Tubing</td>\n",
       "      <td>sc:Material_249</td>\n",
       "      <td>sc:Process_257</td>\n",
       "    </tr>\n",
       "    <tr>\n",
       "      <th>4</th>\n",
       "      <td>sc:ISRI_4</td>\n",
       "      <td>Nonferrous Scrap - Red Metals</td>\n",
       "      <td>Miscellaneous Scrap</td>\n",
       "      <td>excessively leaded, tinned, soldered copper sc...</td>\n",
       "      <td>Copper</td>\n",
       "      <td>Cliff</td>\n",
       "      <td>Unalloyed</td>\n",
       "      <td>No. 2 Copper Solids and Tubing</td>\n",
       "      <td>sc:Material_249</td>\n",
       "      <td>sc:Process_257</td>\n",
       "    </tr>\n",
       "  </tbody>\n",
       "</table>\n",
       "</div>"
      ],
      "text/plain": [
       "     isri id                 sc:hasCategory  \\\n",
       "0  sc:ISRI_0  Nonferrous Scrap - Red Metals   \n",
       "1  sc:ISRI_1  Nonferrous Scrap - Red Metals   \n",
       "2  sc:ISRI_2  Nonferrous Scrap - Red Metals   \n",
       "3  sc:ISRI_3  Nonferrous Scrap - Red Metals   \n",
       "4  sc:ISRI_4  Nonferrous Scrap - Red Metals   \n",
       "\n",
       "                                          sc:hasForm  \\\n",
       "0                                               Wire   \n",
       "1                                     Wire and Cable   \n",
       "2                                Miscellaneous, Wire   \n",
       "3  Clippings, punchings, bus bars, commutator seg...   \n",
       "4                                Miscellaneous Scrap   \n",
       "\n",
       "                                       sc:isFreeFrom sc:contains  \\\n",
       "0                                                NaN      Copper   \n",
       "1                  Brittle Burnt Wire, Copper Tubing      Copper   \n",
       "2  Excessively leaded, tinned, soldered copper wi...      Copper   \n",
       "3                                                NaN      Copper   \n",
       "4  excessively leaded, tinned, soldered copper sc...      Copper   \n",
       "\n",
       "  sc:hasISRICode                   sc:hasSpecification  \\\n",
       "0          Berry             Bare, Uncoated, Unalloyed   \n",
       "1         Barley  Clean, Untinned, Uncoated, Unalloyed   \n",
       "2          Birch                             Unalloyed   \n",
       "3          Candy            clean, unalloyed, uncoated   \n",
       "4          Cliff                             Unalloyed   \n",
       "\n",
       "                             pc:hasName  sc:isComposedOf sc:isProcessedBy  \n",
       "0                     No. 1 Copper Wire  sc:Material_249   sc:Process_257  \n",
       "1                     No. 1 Copper Wire  sc:Material_249   sc:Process_257  \n",
       "2                     No. 2 Copper Wire  sc:Material_249   sc:Process_257  \n",
       "3  No. 1 Heavy Copper Solids and Tubing  sc:Material_249   sc:Process_257  \n",
       "4        No. 2 Copper Solids and Tubing  sc:Material_249   sc:Process_257  "
      ]
     },
     "execution_count": 11,
     "metadata": {},
     "output_type": "execute_result"
    }
   ],
   "source": [
    "isri_data.head()"
   ]
  },
  {
   "cell_type": "markdown",
   "id": "84bdb19a",
   "metadata": {},
   "source": [
    "How many __unique__ ISRI?"
   ]
  },
  {
   "cell_type": "code",
   "execution_count": 12,
   "id": "c3da8789",
   "metadata": {},
   "outputs": [
    {
     "data": {
      "text/plain": [
       "244"
      ]
     },
     "execution_count": 12,
     "metadata": {},
     "output_type": "execute_result"
    }
   ],
   "source": [
    "isri_data['isri id'].nunique()"
   ]
  },
  {
   "cell_type": "code",
   "execution_count": 13,
   "id": "6e2cce3c",
   "metadata": {},
   "outputs": [
    {
     "data": {
      "text/plain": [
       "isri id                  0\n",
       "sc:hasCategory           0\n",
       "sc:hasForm              43\n",
       "sc:isFreeFrom           87\n",
       "sc:contains             68\n",
       "sc:hasISRICode           0\n",
       "sc:hasSpecification     12\n",
       "pc:hasName               7\n",
       "sc:isComposedOf        109\n",
       "sc:isProcessedBy       194\n",
       "dtype: int64"
      ]
     },
     "execution_count": 13,
     "metadata": {},
     "output_type": "execute_result"
    }
   ],
   "source": [
    "# check nans\n",
    "isri_data.isna().sum()"
   ]
  },
  {
   "cell_type": "markdown",
   "id": "3a7846f8",
   "metadata": {},
   "source": [
    "Όσα `ISRI` έχουν available `process`, ανήκουν στο ίδιο. Επομένως, δεν έχει νοήμα η προσπάθεια πρόβλεψης του process κάποιου scrap."
   ]
  },
  {
   "cell_type": "code",
   "execution_count": 14,
   "id": "d1bee531",
   "metadata": {},
   "outputs": [
    {
     "name": "stdout",
     "output_type": "stream",
     "text": [
      "['sc:Process_257' nan]\n"
     ]
    }
   ],
   "source": [
    "print(isri_data['sc:isProcessedBy'].unique())\n",
    "\n",
    "# drop process from ISRI\n",
    "isri_data.drop('sc:isProcessedBy', axis=1, inplace=True)"
   ]
  },
  {
   "cell_type": "code",
   "execution_count": 15,
   "id": "54120ac9",
   "metadata": {},
   "outputs": [
    {
     "data": {
      "text/plain": [
       "Nonferrous Scrap - Red Metals                                                                       50\n",
       "Nonferrous Scrap - Aluminum                                                                         48\n",
       "Ferrous Scrap                                                                                       30\n",
       "Ferrous Scrap - Electric Furnace Casting and Foundry Grades                                         25\n",
       "Nonferrous Scrap - Nickel/Stainless/Hi Temp                                                         19\n",
       "Ferrous Scrap - Specially processed Grades to Meet Consumer Requirements - Cast Iron Grades         15\n",
       "Nonferrous Scrap - Zinc                                                                             13\n",
       "Ferrous scrap - Steel from Scrap Tires                                                              11\n",
       "Nonferrous Scrap - Lead                                                                             10\n",
       "Nonferrous Scrap - Mixed Metals                                                                      9\n",
       "Nonferrous Scrap - Magnesium                                                                         5\n",
       "Ferrous Scrap - Specially processed Grades to Meet Consumer Requirements - Special Boring Grades     5\n",
       "Nonferrous Scrap - Other                                                                             4\n",
       "Name: sc:hasCategory, dtype: int64"
      ]
     },
     "execution_count": 15,
     "metadata": {},
     "output_type": "execute_result"
    }
   ],
   "source": [
    "isri_data['sc:hasCategory'].value_counts()"
   ]
  },
  {
   "cell_type": "code",
   "execution_count": 16,
   "id": "b3aa65fc",
   "metadata": {},
   "outputs": [
    {
     "data": {
      "text/html": [
       "<div>\n",
       "<style scoped>\n",
       "    .dataframe tbody tr th:only-of-type {\n",
       "        vertical-align: middle;\n",
       "    }\n",
       "\n",
       "    .dataframe tbody tr th {\n",
       "        vertical-align: top;\n",
       "    }\n",
       "\n",
       "    .dataframe thead th {\n",
       "        text-align: right;\n",
       "    }\n",
       "</style>\n",
       "<table border=\"1\" class=\"dataframe\">\n",
       "  <thead>\n",
       "    <tr style=\"text-align: right;\">\n",
       "      <th></th>\n",
       "      <th>isri id</th>\n",
       "      <th>sc:hasCategory</th>\n",
       "      <th>sc:hasForm</th>\n",
       "      <th>sc:isFreeFrom</th>\n",
       "      <th>sc:contains</th>\n",
       "      <th>sc:hasISRICode</th>\n",
       "      <th>sc:hasSpecification</th>\n",
       "      <th>pc:hasName</th>\n",
       "      <th>sc:isComposedOf</th>\n",
       "    </tr>\n",
       "  </thead>\n",
       "  <tbody>\n",
       "    <tr>\n",
       "      <th>0</th>\n",
       "      <td>sc:ISRI_0</td>\n",
       "      <td>Nonferrous Scrap - Red Metals</td>\n",
       "      <td>Wire</td>\n",
       "      <td>NaN</td>\n",
       "      <td>Copper</td>\n",
       "      <td>Berry</td>\n",
       "      <td>Bare, Uncoated, Unalloyed</td>\n",
       "      <td>No. 1 Copper Wire</td>\n",
       "      <td>sc:Material_249</td>\n",
       "    </tr>\n",
       "    <tr>\n",
       "      <th>1</th>\n",
       "      <td>sc:ISRI_1</td>\n",
       "      <td>Nonferrous Scrap - Red Metals</td>\n",
       "      <td>Wire and Cable</td>\n",
       "      <td>Brittle Burnt Wire, Copper Tubing</td>\n",
       "      <td>Copper</td>\n",
       "      <td>Barley</td>\n",
       "      <td>Clean, Untinned, Uncoated, Unalloyed</td>\n",
       "      <td>No. 1 Copper Wire</td>\n",
       "      <td>sc:Material_249</td>\n",
       "    </tr>\n",
       "    <tr>\n",
       "      <th>2</th>\n",
       "      <td>sc:ISRI_2</td>\n",
       "      <td>Nonferrous Scrap - Red Metals</td>\n",
       "      <td>Miscellaneous, Wire</td>\n",
       "      <td>Excessively leaded, tinned, soldered copper wi...</td>\n",
       "      <td>Copper</td>\n",
       "      <td>Birch</td>\n",
       "      <td>Unalloyed</td>\n",
       "      <td>No. 2 Copper Wire</td>\n",
       "      <td>sc:Material_249</td>\n",
       "    </tr>\n",
       "    <tr>\n",
       "      <th>3</th>\n",
       "      <td>sc:ISRI_3</td>\n",
       "      <td>Nonferrous Scrap - Red Metals</td>\n",
       "      <td>Clippings, punchings, bus bars, commutator seg...</td>\n",
       "      <td>NaN</td>\n",
       "      <td>Copper</td>\n",
       "      <td>Candy</td>\n",
       "      <td>clean, unalloyed, uncoated</td>\n",
       "      <td>No. 1 Heavy Copper Solids and Tubing</td>\n",
       "      <td>sc:Material_249</td>\n",
       "    </tr>\n",
       "    <tr>\n",
       "      <th>4</th>\n",
       "      <td>sc:ISRI_4</td>\n",
       "      <td>Nonferrous Scrap - Red Metals</td>\n",
       "      <td>Miscellaneous Scrap</td>\n",
       "      <td>excessively leaded, tinned, soldered copper sc...</td>\n",
       "      <td>Copper</td>\n",
       "      <td>Cliff</td>\n",
       "      <td>Unalloyed</td>\n",
       "      <td>No. 2 Copper Solids and Tubing</td>\n",
       "      <td>sc:Material_249</td>\n",
       "    </tr>\n",
       "    <tr>\n",
       "      <th>...</th>\n",
       "      <td>...</td>\n",
       "      <td>...</td>\n",
       "      <td>...</td>\n",
       "      <td>...</td>\n",
       "      <td>...</td>\n",
       "      <td>...</td>\n",
       "      <td>...</td>\n",
       "      <td>...</td>\n",
       "      <td>...</td>\n",
       "    </tr>\n",
       "    <tr>\n",
       "      <th>239</th>\n",
       "      <td>sc:ISRI_239</td>\n",
       "      <td>Ferrous scrap - Steel from Scrap Tires</td>\n",
       "      <td>NaN</td>\n",
       "      <td>NaN</td>\n",
       "      <td>NaN</td>\n",
       "      <td>278</td>\n",
       "      <td>Chopped. Less than two percent (&lt;2%) rubber/fi...</td>\n",
       "      <td>Pulled Bead Wire (Ferrous) - Grade 1</td>\n",
       "      <td>NaN</td>\n",
       "    </tr>\n",
       "    <tr>\n",
       "      <th>240</th>\n",
       "      <td>sc:ISRI_240</td>\n",
       "      <td>Ferrous scrap - Steel from Scrap Tires</td>\n",
       "      <td>NaN</td>\n",
       "      <td>NaN</td>\n",
       "      <td>NaN</td>\n",
       "      <td>279</td>\n",
       "      <td>Chopped. Less than five percent (&lt;5%) rubber/f...</td>\n",
       "      <td>Pulled Bead Wire (Ferrous) - Grade 2</td>\n",
       "      <td>NaN</td>\n",
       "    </tr>\n",
       "    <tr>\n",
       "      <th>241</th>\n",
       "      <td>sc:ISRI_241</td>\n",
       "      <td>Ferrous scrap - Steel from Scrap Tires</td>\n",
       "      <td>NaN</td>\n",
       "      <td>NaN</td>\n",
       "      <td>NaN</td>\n",
       "      <td>280</td>\n",
       "      <td>Chopped. Less than five percent (&lt;5%) rubber/f...</td>\n",
       "      <td>Pulled Bead Wire (Ferrous) - Grade 3</td>\n",
       "      <td>NaN</td>\n",
       "    </tr>\n",
       "    <tr>\n",
       "      <th>242</th>\n",
       "      <td>sc:ISRI_242</td>\n",
       "      <td>Ferrous scrap - Steel from Scrap Tires</td>\n",
       "      <td>NaN</td>\n",
       "      <td>NaN</td>\n",
       "      <td>NaN</td>\n",
       "      <td>281</td>\n",
       "      <td>Chopped. Ten to twenty percent (10-20%) rubber...</td>\n",
       "      <td>Pulled Bead Wire (Ferrous) - Grade 4</td>\n",
       "      <td>NaN</td>\n",
       "    </tr>\n",
       "    <tr>\n",
       "      <th>243</th>\n",
       "      <td>sc:ISRI_243</td>\n",
       "      <td>Ferrous scrap - Steel from Scrap Tires</td>\n",
       "      <td>NaN</td>\n",
       "      <td>NaN</td>\n",
       "      <td>NaN</td>\n",
       "      <td>282</td>\n",
       "      <td>Chopped. Greater than twenty percent (&gt;20%) ru...</td>\n",
       "      <td>Pulled Bead Wire (Ferrous) - Grade 5</td>\n",
       "      <td>NaN</td>\n",
       "    </tr>\n",
       "  </tbody>\n",
       "</table>\n",
       "<p>244 rows × 9 columns</p>\n",
       "</div>"
      ],
      "text/plain": [
       "         isri id                          sc:hasCategory  \\\n",
       "0      sc:ISRI_0           Nonferrous Scrap - Red Metals   \n",
       "1      sc:ISRI_1           Nonferrous Scrap - Red Metals   \n",
       "2      sc:ISRI_2           Nonferrous Scrap - Red Metals   \n",
       "3      sc:ISRI_3           Nonferrous Scrap - Red Metals   \n",
       "4      sc:ISRI_4           Nonferrous Scrap - Red Metals   \n",
       "..           ...                                     ...   \n",
       "239  sc:ISRI_239  Ferrous scrap - Steel from Scrap Tires   \n",
       "240  sc:ISRI_240  Ferrous scrap - Steel from Scrap Tires   \n",
       "241  sc:ISRI_241  Ferrous scrap - Steel from Scrap Tires   \n",
       "242  sc:ISRI_242  Ferrous scrap - Steel from Scrap Tires   \n",
       "243  sc:ISRI_243  Ferrous scrap - Steel from Scrap Tires   \n",
       "\n",
       "                                            sc:hasForm  \\\n",
       "0                                                 Wire   \n",
       "1                                       Wire and Cable   \n",
       "2                                  Miscellaneous, Wire   \n",
       "3    Clippings, punchings, bus bars, commutator seg...   \n",
       "4                                  Miscellaneous Scrap   \n",
       "..                                                 ...   \n",
       "239                                                NaN   \n",
       "240                                                NaN   \n",
       "241                                                NaN   \n",
       "242                                                NaN   \n",
       "243                                                NaN   \n",
       "\n",
       "                                         sc:isFreeFrom sc:contains  \\\n",
       "0                                                  NaN      Copper   \n",
       "1                    Brittle Burnt Wire, Copper Tubing      Copper   \n",
       "2    Excessively leaded, tinned, soldered copper wi...      Copper   \n",
       "3                                                  NaN      Copper   \n",
       "4    excessively leaded, tinned, soldered copper sc...      Copper   \n",
       "..                                                 ...         ...   \n",
       "239                                                NaN         NaN   \n",
       "240                                                NaN         NaN   \n",
       "241                                                NaN         NaN   \n",
       "242                                                NaN         NaN   \n",
       "243                                                NaN         NaN   \n",
       "\n",
       "    sc:hasISRICode                                sc:hasSpecification  \\\n",
       "0            Berry                          Bare, Uncoated, Unalloyed   \n",
       "1           Barley               Clean, Untinned, Uncoated, Unalloyed   \n",
       "2            Birch                                          Unalloyed   \n",
       "3            Candy                         clean, unalloyed, uncoated   \n",
       "4            Cliff                                          Unalloyed   \n",
       "..             ...                                                ...   \n",
       "239            278  Chopped. Less than two percent (<2%) rubber/fi...   \n",
       "240            279  Chopped. Less than five percent (<5%) rubber/f...   \n",
       "241            280  Chopped. Less than five percent (<5%) rubber/f...   \n",
       "242            281  Chopped. Ten to twenty percent (10-20%) rubber...   \n",
       "243            282  Chopped. Greater than twenty percent (>20%) ru...   \n",
       "\n",
       "                               pc:hasName  sc:isComposedOf  \n",
       "0                       No. 1 Copper Wire  sc:Material_249  \n",
       "1                       No. 1 Copper Wire  sc:Material_249  \n",
       "2                       No. 2 Copper Wire  sc:Material_249  \n",
       "3    No. 1 Heavy Copper Solids and Tubing  sc:Material_249  \n",
       "4          No. 2 Copper Solids and Tubing  sc:Material_249  \n",
       "..                                    ...              ...  \n",
       "239  Pulled Bead Wire (Ferrous) - Grade 1              NaN  \n",
       "240  Pulled Bead Wire (Ferrous) - Grade 2              NaN  \n",
       "241  Pulled Bead Wire (Ferrous) - Grade 3              NaN  \n",
       "242  Pulled Bead Wire (Ferrous) - Grade 4              NaN  \n",
       "243  Pulled Bead Wire (Ferrous) - Grade 5              NaN  \n",
       "\n",
       "[244 rows x 9 columns]"
      ]
     },
     "execution_count": 16,
     "metadata": {},
     "output_type": "execute_result"
    }
   ],
   "source": [
    "isri_data"
   ]
  },
  {
   "cell_type": "markdown",
   "id": "9b752787",
   "metadata": {},
   "source": [
    "# Full merged `ISRI` dataset"
   ]
  },
  {
   "cell_type": "code",
   "execution_count": 17,
   "id": "4d740848",
   "metadata": {},
   "outputs": [
    {
     "data": {
      "text/html": [
       "<div>\n",
       "<style scoped>\n",
       "    .dataframe tbody tr th:only-of-type {\n",
       "        vertical-align: middle;\n",
       "    }\n",
       "\n",
       "    .dataframe tbody tr th {\n",
       "        vertical-align: top;\n",
       "    }\n",
       "\n",
       "    .dataframe thead th {\n",
       "        text-align: right;\n",
       "    }\n",
       "</style>\n",
       "<table border=\"1\" class=\"dataframe\">\n",
       "  <thead>\n",
       "    <tr style=\"text-align: right;\">\n",
       "      <th></th>\n",
       "      <th>isri id</th>\n",
       "      <th>sc:hasCategory</th>\n",
       "      <th>sc:hasForm</th>\n",
       "      <th>sc:isFreeFrom</th>\n",
       "      <th>sc:contains</th>\n",
       "      <th>sc:hasISRICode</th>\n",
       "      <th>sc:hasSpecification</th>\n",
       "      <th>pc:hasName</th>\n",
       "      <th>sc:isComposedOf</th>\n",
       "    </tr>\n",
       "  </thead>\n",
       "  <tbody>\n",
       "    <tr>\n",
       "      <th>0</th>\n",
       "      <td>sc:ISRI_0</td>\n",
       "      <td>Nonferrous Scrap - Red Metals</td>\n",
       "      <td>Wire</td>\n",
       "      <td>NaN</td>\n",
       "      <td>Copper</td>\n",
       "      <td>Berry</td>\n",
       "      <td>Bare, Uncoated, Unalloyed</td>\n",
       "      <td>No. 1 Copper Wire</td>\n",
       "      <td>sc:Material_249</td>\n",
       "    </tr>\n",
       "    <tr>\n",
       "      <th>1</th>\n",
       "      <td>sc:ISRI_1</td>\n",
       "      <td>Nonferrous Scrap - Red Metals</td>\n",
       "      <td>Wire and Cable</td>\n",
       "      <td>Brittle Burnt Wire, Copper Tubing</td>\n",
       "      <td>Copper</td>\n",
       "      <td>Barley</td>\n",
       "      <td>Clean, Untinned, Uncoated, Unalloyed</td>\n",
       "      <td>No. 1 Copper Wire</td>\n",
       "      <td>sc:Material_249</td>\n",
       "    </tr>\n",
       "    <tr>\n",
       "      <th>2</th>\n",
       "      <td>sc:ISRI_2</td>\n",
       "      <td>Nonferrous Scrap - Red Metals</td>\n",
       "      <td>Miscellaneous, Wire</td>\n",
       "      <td>Excessively leaded, tinned, soldered copper wi...</td>\n",
       "      <td>Copper</td>\n",
       "      <td>Birch</td>\n",
       "      <td>Unalloyed</td>\n",
       "      <td>No. 2 Copper Wire</td>\n",
       "      <td>sc:Material_249</td>\n",
       "    </tr>\n",
       "    <tr>\n",
       "      <th>3</th>\n",
       "      <td>sc:ISRI_3</td>\n",
       "      <td>Nonferrous Scrap - Red Metals</td>\n",
       "      <td>Clippings, punchings, bus bars, commutator seg...</td>\n",
       "      <td>NaN</td>\n",
       "      <td>Copper</td>\n",
       "      <td>Candy</td>\n",
       "      <td>clean, unalloyed, uncoated</td>\n",
       "      <td>No. 1 Heavy Copper Solids and Tubing</td>\n",
       "      <td>sc:Material_249</td>\n",
       "    </tr>\n",
       "    <tr>\n",
       "      <th>4</th>\n",
       "      <td>sc:ISRI_4</td>\n",
       "      <td>Nonferrous Scrap - Red Metals</td>\n",
       "      <td>Miscellaneous Scrap</td>\n",
       "      <td>excessively leaded, tinned, soldered copper sc...</td>\n",
       "      <td>Copper</td>\n",
       "      <td>Cliff</td>\n",
       "      <td>Unalloyed</td>\n",
       "      <td>No. 2 Copper Solids and Tubing</td>\n",
       "      <td>sc:Material_249</td>\n",
       "    </tr>\n",
       "  </tbody>\n",
       "</table>\n",
       "</div>"
      ],
      "text/plain": [
       "     isri id                 sc:hasCategory  \\\n",
       "0  sc:ISRI_0  Nonferrous Scrap - Red Metals   \n",
       "1  sc:ISRI_1  Nonferrous Scrap - Red Metals   \n",
       "2  sc:ISRI_2  Nonferrous Scrap - Red Metals   \n",
       "3  sc:ISRI_3  Nonferrous Scrap - Red Metals   \n",
       "4  sc:ISRI_4  Nonferrous Scrap - Red Metals   \n",
       "\n",
       "                                          sc:hasForm  \\\n",
       "0                                               Wire   \n",
       "1                                     Wire and Cable   \n",
       "2                                Miscellaneous, Wire   \n",
       "3  Clippings, punchings, bus bars, commutator seg...   \n",
       "4                                Miscellaneous Scrap   \n",
       "\n",
       "                                       sc:isFreeFrom sc:contains  \\\n",
       "0                                                NaN      Copper   \n",
       "1                  Brittle Burnt Wire, Copper Tubing      Copper   \n",
       "2  Excessively leaded, tinned, soldered copper wi...      Copper   \n",
       "3                                                NaN      Copper   \n",
       "4  excessively leaded, tinned, soldered copper sc...      Copper   \n",
       "\n",
       "  sc:hasISRICode                   sc:hasSpecification  \\\n",
       "0          Berry             Bare, Uncoated, Unalloyed   \n",
       "1         Barley  Clean, Untinned, Uncoated, Unalloyed   \n",
       "2          Birch                             Unalloyed   \n",
       "3          Candy            clean, unalloyed, uncoated   \n",
       "4          Cliff                             Unalloyed   \n",
       "\n",
       "                             pc:hasName  sc:isComposedOf  \n",
       "0                     No. 1 Copper Wire  sc:Material_249  \n",
       "1                     No. 1 Copper Wire  sc:Material_249  \n",
       "2                     No. 2 Copper Wire  sc:Material_249  \n",
       "3  No. 1 Heavy Copper Solids and Tubing  sc:Material_249  \n",
       "4        No. 2 Copper Solids and Tubing  sc:Material_249  "
      ]
     },
     "execution_count": 17,
     "metadata": {},
     "output_type": "execute_result"
    }
   ],
   "source": [
    "isri_data.head()"
   ]
  },
  {
   "cell_type": "code",
   "execution_count": 18,
   "id": "28477be0",
   "metadata": {},
   "outputs": [
    {
     "data": {
      "text/plain": [
       "(244, 9)"
      ]
     },
     "execution_count": 18,
     "metadata": {},
     "output_type": "execute_result"
    }
   ],
   "source": [
    "isri_data.shape"
   ]
  },
  {
   "cell_type": "code",
   "execution_count": 19,
   "id": "20bd6f7b",
   "metadata": {},
   "outputs": [
    {
     "data": {
      "text/plain": [
       "isri id                  0\n",
       "sc:hasCategory           0\n",
       "sc:hasForm              43\n",
       "sc:isFreeFrom           87\n",
       "sc:contains             68\n",
       "sc:hasISRICode           0\n",
       "sc:hasSpecification     12\n",
       "pc:hasName               7\n",
       "sc:isComposedOf        109\n",
       "dtype: int64"
      ]
     },
     "execution_count": 19,
     "metadata": {},
     "output_type": "execute_result"
    }
   ],
   "source": [
    "isri_data.isna().sum()"
   ]
  },
  {
   "cell_type": "code",
   "execution_count": 20,
   "id": "e37c3c53",
   "metadata": {},
   "outputs": [],
   "source": [
    "isri_data.fillna('zxcv', inplace=True)"
   ]
  },
  {
   "cell_type": "code",
   "execution_count": 21,
   "id": "36d1920d",
   "metadata": {},
   "outputs": [
    {
     "data": {
      "text/plain": [
       "isri id                0\n",
       "sc:hasCategory         0\n",
       "sc:hasForm             0\n",
       "sc:isFreeFrom          0\n",
       "sc:contains            0\n",
       "sc:hasISRICode         0\n",
       "sc:hasSpecification    0\n",
       "pc:hasName             0\n",
       "sc:isComposedOf        0\n",
       "dtype: int64"
      ]
     },
     "execution_count": 21,
     "metadata": {},
     "output_type": "execute_result"
    }
   ],
   "source": [
    "isri_data.isna().sum()"
   ]
  },
  {
   "cell_type": "code",
   "execution_count": null,
   "id": "10dca834",
   "metadata": {},
   "outputs": [],
   "source": []
  },
  {
   "cell_type": "markdown",
   "id": "4e321bd1",
   "metadata": {},
   "source": [
    "## Cluster `isri_data['sc:hasCategory']` "
   ]
  },
  {
   "cell_type": "code",
   "execution_count": 22,
   "id": "330480b0",
   "metadata": {},
   "outputs": [],
   "source": [
    "# Probably just a 'code name'. We will drop it\n",
    "isri_data.drop('sc:hasISRICode', axis=1, inplace=True)"
   ]
  },
  {
   "cell_type": "code",
   "execution_count": 23,
   "id": "862baded",
   "metadata": {},
   "outputs": [],
   "source": [
    "import nltk\n",
    "from nltk.corpus import stopwords\n",
    "from sklearn.feature_extraction.text import TfidfVectorizer\n",
    "from sklearn.cluster import KMeans\n",
    "from sklearn.decomposition import PCA\n",
    "\n",
    "# import other required libs\n",
    "import pandas as pd\n",
    "import numpy as np\n",
    "\n",
    "# string manipulation libs\n",
    "import re\n",
    "import string\n",
    "import nltk\n",
    "from nltk.corpus import stopwords"
   ]
  },
  {
   "cell_type": "code",
   "execution_count": 24,
   "id": "369552f0",
   "metadata": {},
   "outputs": [],
   "source": [
    "def preprocess_text(text: str, remove_stopwords: bool) -> str:\n",
    "    # remove links\n",
    "    text = re.sub(r\"http\\S+\", \"\", text)\n",
    "    # remove numbers and special chars\n",
    "    text = re.sub(\"[^A-Za-z]+\", \" \", text)\n",
    "    # remove stopwords\n",
    "    if remove_stopwords:\n",
    "        # 1. creates tokens\n",
    "        tokens = nltk.word_tokenize(text)\n",
    "        # 2. checks if token is a stopword and removes it\n",
    "        tokens = [w for w in tokens if not w.lower() in stopwords.words(\"english\")]\n",
    "        # 3. joins all tokens again\n",
    "        text = \" \".join(tokens)\n",
    "    # returns cleaned text\n",
    "    text = text.lower().strip()\n",
    "    return text"
   ]
  },
  {
   "cell_type": "code",
   "execution_count": 25,
   "id": "6a21aab3",
   "metadata": {},
   "outputs": [
    {
     "data": {
      "text/html": [
       "<div>\n",
       "<style scoped>\n",
       "    .dataframe tbody tr th:only-of-type {\n",
       "        vertical-align: middle;\n",
       "    }\n",
       "\n",
       "    .dataframe tbody tr th {\n",
       "        vertical-align: top;\n",
       "    }\n",
       "\n",
       "    .dataframe thead th {\n",
       "        text-align: right;\n",
       "    }\n",
       "</style>\n",
       "<table border=\"1\" class=\"dataframe\">\n",
       "  <thead>\n",
       "    <tr style=\"text-align: right;\">\n",
       "      <th></th>\n",
       "      <th>isri id</th>\n",
       "      <th>sc:hasCategory</th>\n",
       "      <th>sc:hasForm</th>\n",
       "      <th>sc:isFreeFrom</th>\n",
       "      <th>sc:contains</th>\n",
       "      <th>sc:hasSpecification</th>\n",
       "      <th>pc:hasName</th>\n",
       "      <th>sc:isComposedOf</th>\n",
       "    </tr>\n",
       "  </thead>\n",
       "  <tbody>\n",
       "    <tr>\n",
       "      <th>0</th>\n",
       "      <td>sc:ISRI_0</td>\n",
       "      <td>Nonferrous Scrap - Red Metals</td>\n",
       "      <td>Wire</td>\n",
       "      <td>zxcv</td>\n",
       "      <td>Copper</td>\n",
       "      <td>Bare, Uncoated, Unalloyed</td>\n",
       "      <td>No. 1 Copper Wire</td>\n",
       "      <td>sc:Material_249</td>\n",
       "    </tr>\n",
       "    <tr>\n",
       "      <th>1</th>\n",
       "      <td>sc:ISRI_1</td>\n",
       "      <td>Nonferrous Scrap - Red Metals</td>\n",
       "      <td>Wire and Cable</td>\n",
       "      <td>Brittle Burnt Wire, Copper Tubing</td>\n",
       "      <td>Copper</td>\n",
       "      <td>Clean, Untinned, Uncoated, Unalloyed</td>\n",
       "      <td>No. 1 Copper Wire</td>\n",
       "      <td>sc:Material_249</td>\n",
       "    </tr>\n",
       "  </tbody>\n",
       "</table>\n",
       "</div>"
      ],
      "text/plain": [
       "     isri id                 sc:hasCategory      sc:hasForm  \\\n",
       "0  sc:ISRI_0  Nonferrous Scrap - Red Metals            Wire   \n",
       "1  sc:ISRI_1  Nonferrous Scrap - Red Metals  Wire and Cable   \n",
       "\n",
       "                       sc:isFreeFrom sc:contains  \\\n",
       "0                               zxcv      Copper   \n",
       "1  Brittle Burnt Wire, Copper Tubing      Copper   \n",
       "\n",
       "                    sc:hasSpecification         pc:hasName  sc:isComposedOf  \n",
       "0             Bare, Uncoated, Unalloyed  No. 1 Copper Wire  sc:Material_249  \n",
       "1  Clean, Untinned, Uncoated, Unalloyed  No. 1 Copper Wire  sc:Material_249  "
      ]
     },
     "execution_count": 25,
     "metadata": {},
     "output_type": "execute_result"
    }
   ],
   "source": [
    "isri_data.head(2)"
   ]
  },
  {
   "cell_type": "code",
   "execution_count": 26,
   "id": "685793cd",
   "metadata": {},
   "outputs": [
    {
     "name": "stderr",
     "output_type": "stream",
     "text": [
      "/tmp/ipykernel_7606/3924512351.py:2: SettingWithCopyWarning: \n",
      "A value is trying to be set on a copy of a slice from a DataFrame\n",
      "\n",
      "See the caveats in the documentation: https://pandas.pydata.org/pandas-docs/stable/user_guide/indexing.html#returning-a-view-versus-a-copy\n",
      "  pred_isComposedOf_df.drop(columns=['isri id', 'sc:isFreeFrom'], inplace=True)\n"
     ]
    },
    {
     "data": {
      "text/html": [
       "<div>\n",
       "<style scoped>\n",
       "    .dataframe tbody tr th:only-of-type {\n",
       "        vertical-align: middle;\n",
       "    }\n",
       "\n",
       "    .dataframe tbody tr th {\n",
       "        vertical-align: top;\n",
       "    }\n",
       "\n",
       "    .dataframe thead th {\n",
       "        text-align: right;\n",
       "    }\n",
       "</style>\n",
       "<table border=\"1\" class=\"dataframe\">\n",
       "  <thead>\n",
       "    <tr style=\"text-align: right;\">\n",
       "      <th></th>\n",
       "      <th>sc:hasCategory</th>\n",
       "      <th>sc:hasForm</th>\n",
       "      <th>sc:contains</th>\n",
       "      <th>sc:hasSpecification</th>\n",
       "      <th>pc:hasName</th>\n",
       "      <th>sc:isComposedOf</th>\n",
       "    </tr>\n",
       "  </thead>\n",
       "  <tbody>\n",
       "    <tr>\n",
       "      <th>0</th>\n",
       "      <td>Nonferrous Scrap - Red Metals</td>\n",
       "      <td>Wire</td>\n",
       "      <td>Copper</td>\n",
       "      <td>Bare, Uncoated, Unalloyed</td>\n",
       "      <td>No. 1 Copper Wire</td>\n",
       "      <td>sc:Material_249</td>\n",
       "    </tr>\n",
       "    <tr>\n",
       "      <th>1</th>\n",
       "      <td>Nonferrous Scrap - Red Metals</td>\n",
       "      <td>Wire and Cable</td>\n",
       "      <td>Copper</td>\n",
       "      <td>Clean, Untinned, Uncoated, Unalloyed</td>\n",
       "      <td>No. 1 Copper Wire</td>\n",
       "      <td>sc:Material_249</td>\n",
       "    </tr>\n",
       "    <tr>\n",
       "      <th>2</th>\n",
       "      <td>Nonferrous Scrap - Red Metals</td>\n",
       "      <td>Miscellaneous, Wire</td>\n",
       "      <td>Copper</td>\n",
       "      <td>Unalloyed</td>\n",
       "      <td>No. 2 Copper Wire</td>\n",
       "      <td>sc:Material_249</td>\n",
       "    </tr>\n",
       "    <tr>\n",
       "      <th>3</th>\n",
       "      <td>Nonferrous Scrap - Red Metals</td>\n",
       "      <td>Clippings, punchings, bus bars, commutator seg...</td>\n",
       "      <td>Copper</td>\n",
       "      <td>clean, unalloyed, uncoated</td>\n",
       "      <td>No. 1 Heavy Copper Solids and Tubing</td>\n",
       "      <td>sc:Material_249</td>\n",
       "    </tr>\n",
       "    <tr>\n",
       "      <th>4</th>\n",
       "      <td>Nonferrous Scrap - Red Metals</td>\n",
       "      <td>Miscellaneous Scrap</td>\n",
       "      <td>Copper</td>\n",
       "      <td>Unalloyed</td>\n",
       "      <td>No. 2 Copper Solids and Tubing</td>\n",
       "      <td>sc:Material_249</td>\n",
       "    </tr>\n",
       "  </tbody>\n",
       "</table>\n",
       "</div>"
      ],
      "text/plain": [
       "                  sc:hasCategory  \\\n",
       "0  Nonferrous Scrap - Red Metals   \n",
       "1  Nonferrous Scrap - Red Metals   \n",
       "2  Nonferrous Scrap - Red Metals   \n",
       "3  Nonferrous Scrap - Red Metals   \n",
       "4  Nonferrous Scrap - Red Metals   \n",
       "\n",
       "                                          sc:hasForm sc:contains  \\\n",
       "0                                               Wire      Copper   \n",
       "1                                     Wire and Cable      Copper   \n",
       "2                                Miscellaneous, Wire      Copper   \n",
       "3  Clippings, punchings, bus bars, commutator seg...      Copper   \n",
       "4                                Miscellaneous Scrap      Copper   \n",
       "\n",
       "                    sc:hasSpecification                            pc:hasName  \\\n",
       "0             Bare, Uncoated, Unalloyed                     No. 1 Copper Wire   \n",
       "1  Clean, Untinned, Uncoated, Unalloyed                     No. 1 Copper Wire   \n",
       "2                             Unalloyed                     No. 2 Copper Wire   \n",
       "3            clean, unalloyed, uncoated  No. 1 Heavy Copper Solids and Tubing   \n",
       "4                             Unalloyed        No. 2 Copper Solids and Tubing   \n",
       "\n",
       "   sc:isComposedOf  \n",
       "0  sc:Material_249  \n",
       "1  sc:Material_249  \n",
       "2  sc:Material_249  \n",
       "3  sc:Material_249  \n",
       "4  sc:Material_249  "
      ]
     },
     "execution_count": 26,
     "metadata": {},
     "output_type": "execute_result"
    }
   ],
   "source": [
    "pred_isComposedOf_df = isri_data[isri_data['sc:isComposedOf'] != 'zxcv']\n",
    "pred_isComposedOf_df.drop(columns=['isri id', 'sc:isFreeFrom'], inplace=True)\n",
    "pred_isComposedOf_df.head()"
   ]
  },
  {
   "cell_type": "code",
   "execution_count": 27,
   "id": "dc45193a",
   "metadata": {},
   "outputs": [
    {
     "name": "stderr",
     "output_type": "stream",
     "text": [
      "/tmp/ipykernel_7606/2651882633.py:17: SettingWithCopyWarning: \n",
      "A value is trying to be set on a copy of a slice from a DataFrame.\n",
      "Try using .loc[row_indexer,col_indexer] = value instead\n",
      "\n",
      "See the caveats in the documentation: https://pandas.pydata.org/pandas-docs/stable/user_guide/indexing.html#returning-a-view-versus-a-copy\n",
      "  pred_isComposedOf_df[col_name] = df['cleaned']\n",
      "/tmp/ipykernel_7606/2651882633.py:17: SettingWithCopyWarning: \n",
      "A value is trying to be set on a copy of a slice from a DataFrame.\n",
      "Try using .loc[row_indexer,col_indexer] = value instead\n",
      "\n",
      "See the caveats in the documentation: https://pandas.pydata.org/pandas-docs/stable/user_guide/indexing.html#returning-a-view-versus-a-copy\n",
      "  pred_isComposedOf_df[col_name] = df['cleaned']\n",
      "/tmp/ipykernel_7606/2651882633.py:17: SettingWithCopyWarning: \n",
      "A value is trying to be set on a copy of a slice from a DataFrame.\n",
      "Try using .loc[row_indexer,col_indexer] = value instead\n",
      "\n",
      "See the caveats in the documentation: https://pandas.pydata.org/pandas-docs/stable/user_guide/indexing.html#returning-a-view-versus-a-copy\n",
      "  pred_isComposedOf_df[col_name] = df['cleaned']\n",
      "/tmp/ipykernel_7606/2651882633.py:17: SettingWithCopyWarning: \n",
      "A value is trying to be set on a copy of a slice from a DataFrame.\n",
      "Try using .loc[row_indexer,col_indexer] = value instead\n",
      "\n",
      "See the caveats in the documentation: https://pandas.pydata.org/pandas-docs/stable/user_guide/indexing.html#returning-a-view-versus-a-copy\n",
      "  pred_isComposedOf_df[col_name] = df['cleaned']\n",
      "/tmp/ipykernel_7606/2651882633.py:17: SettingWithCopyWarning: \n",
      "A value is trying to be set on a copy of a slice from a DataFrame.\n",
      "Try using .loc[row_indexer,col_indexer] = value instead\n",
      "\n",
      "See the caveats in the documentation: https://pandas.pydata.org/pandas-docs/stable/user_guide/indexing.html#returning-a-view-versus-a-copy\n",
      "  pred_isComposedOf_df[col_name] = df['cleaned']\n"
     ]
    }
   ],
   "source": [
    "from sklearn.feature_extraction.text import TfidfVectorizer\n",
    "\n",
    "# columns = ['sc:hasCategory', 'pc:hasName']\n",
    "columns = pred_isComposedOf_df.columns\n",
    "\n",
    "for col_name in columns:\n",
    "    \n",
    "    if col_name == 'sc:isComposedOf': continue\n",
    "    else:\n",
    "            \n",
    "        text = isri_data[col_name]\n",
    "\n",
    "        df = pd.DataFrame()\n",
    "        df['corpus'] = text\n",
    "        df['cleaned'] = df['corpus'].apply(lambda x: preprocess_text(x, remove_stopwords=True))\n",
    "\n",
    "        pred_isComposedOf_df[col_name] = df['cleaned']\n",
    "\n",
    "        del df"
   ]
  },
  {
   "cell_type": "code",
   "execution_count": 28,
   "id": "d9b059dd",
   "metadata": {},
   "outputs": [
    {
     "data": {
      "text/html": [
       "<div>\n",
       "<style scoped>\n",
       "    .dataframe tbody tr th:only-of-type {\n",
       "        vertical-align: middle;\n",
       "    }\n",
       "\n",
       "    .dataframe tbody tr th {\n",
       "        vertical-align: top;\n",
       "    }\n",
       "\n",
       "    .dataframe thead th {\n",
       "        text-align: right;\n",
       "    }\n",
       "</style>\n",
       "<table border=\"1\" class=\"dataframe\">\n",
       "  <thead>\n",
       "    <tr style=\"text-align: right;\">\n",
       "      <th></th>\n",
       "      <th>sc:hasCategory</th>\n",
       "      <th>sc:hasForm</th>\n",
       "      <th>sc:contains</th>\n",
       "      <th>sc:hasSpecification</th>\n",
       "      <th>pc:hasName</th>\n",
       "      <th>sc:isComposedOf</th>\n",
       "    </tr>\n",
       "  </thead>\n",
       "  <tbody>\n",
       "    <tr>\n",
       "      <th>0</th>\n",
       "      <td>nonferrous scrap red metals</td>\n",
       "      <td>wire</td>\n",
       "      <td>copper</td>\n",
       "      <td>bare uncoated unalloyed</td>\n",
       "      <td>copper wire</td>\n",
       "      <td>sc:Material_249</td>\n",
       "    </tr>\n",
       "    <tr>\n",
       "      <th>1</th>\n",
       "      <td>nonferrous scrap red metals</td>\n",
       "      <td>wire cable</td>\n",
       "      <td>copper</td>\n",
       "      <td>clean untinned uncoated unalloyed</td>\n",
       "      <td>copper wire</td>\n",
       "      <td>sc:Material_249</td>\n",
       "    </tr>\n",
       "    <tr>\n",
       "      <th>2</th>\n",
       "      <td>nonferrous scrap red metals</td>\n",
       "      <td>miscellaneous wire</td>\n",
       "      <td>copper</td>\n",
       "      <td>unalloyed</td>\n",
       "      <td>copper wire</td>\n",
       "      <td>sc:Material_249</td>\n",
       "    </tr>\n",
       "    <tr>\n",
       "      <th>3</th>\n",
       "      <td>nonferrous scrap red metals</td>\n",
       "      <td>clippings punchings bus bars commutator segmen...</td>\n",
       "      <td>copper</td>\n",
       "      <td>clean unalloyed uncoated</td>\n",
       "      <td>heavy copper solids tubing</td>\n",
       "      <td>sc:Material_249</td>\n",
       "    </tr>\n",
       "    <tr>\n",
       "      <th>4</th>\n",
       "      <td>nonferrous scrap red metals</td>\n",
       "      <td>miscellaneous scrap</td>\n",
       "      <td>copper</td>\n",
       "      <td>unalloyed</td>\n",
       "      <td>copper solids tubing</td>\n",
       "      <td>sc:Material_249</td>\n",
       "    </tr>\n",
       "    <tr>\n",
       "      <th>...</th>\n",
       "      <td>...</td>\n",
       "      <td>...</td>\n",
       "      <td>...</td>\n",
       "      <td>...</td>\n",
       "      <td>...</td>\n",
       "      <td>...</td>\n",
       "    </tr>\n",
       "    <tr>\n",
       "      <th>228</th>\n",
       "      <td>ferrous scrap specially processed grades meet ...</td>\n",
       "      <td>borings drillings</td>\n",
       "      <td>cast malleable iron</td>\n",
       "      <td>containing percent oil</td>\n",
       "      <td>chemical borings</td>\n",
       "      <td>sc:Material_245</td>\n",
       "    </tr>\n",
       "    <tr>\n",
       "      <th>229</th>\n",
       "      <td>ferrous scrap specially processed grades meet ...</td>\n",
       "      <td>borings</td>\n",
       "      <td>cast iron</td>\n",
       "      <td>heated briquetted density approximately percen...</td>\n",
       "      <td>briquetted cast iron borings hot process</td>\n",
       "      <td>sc:Material_697</td>\n",
       "    </tr>\n",
       "    <tr>\n",
       "      <th>230</th>\n",
       "      <td>ferrous scrap specially processed grades meet ...</td>\n",
       "      <td>boring briquettes</td>\n",
       "      <td>cast iron</td>\n",
       "      <td>hydraulically compressed cohesive solid densit...</td>\n",
       "      <td>briquetted cast iron borings cold process</td>\n",
       "      <td>sc:Material_697</td>\n",
       "    </tr>\n",
       "    <tr>\n",
       "      <th>231</th>\n",
       "      <td>ferrous scrap specially processed grades meet ...</td>\n",
       "      <td>borings drillings</td>\n",
       "      <td>malleable iron</td>\n",
       "      <td>clean</td>\n",
       "      <td>malleable borings</td>\n",
       "      <td>sc:Material_245</td>\n",
       "    </tr>\n",
       "    <tr>\n",
       "      <th>232</th>\n",
       "      <td>ferrous scrap specially processed grades meet ...</td>\n",
       "      <td>borings drillings</td>\n",
       "      <td>cast malleable iron</td>\n",
       "      <td>nea clean containing percent oil</td>\n",
       "      <td>chemical borings</td>\n",
       "      <td>sc:Material_245</td>\n",
       "    </tr>\n",
       "  </tbody>\n",
       "</table>\n",
       "<p>135 rows × 6 columns</p>\n",
       "</div>"
      ],
      "text/plain": [
       "                                        sc:hasCategory  \\\n",
       "0                          nonferrous scrap red metals   \n",
       "1                          nonferrous scrap red metals   \n",
       "2                          nonferrous scrap red metals   \n",
       "3                          nonferrous scrap red metals   \n",
       "4                          nonferrous scrap red metals   \n",
       "..                                                 ...   \n",
       "228  ferrous scrap specially processed grades meet ...   \n",
       "229  ferrous scrap specially processed grades meet ...   \n",
       "230  ferrous scrap specially processed grades meet ...   \n",
       "231  ferrous scrap specially processed grades meet ...   \n",
       "232  ferrous scrap specially processed grades meet ...   \n",
       "\n",
       "                                            sc:hasForm          sc:contains  \\\n",
       "0                                                 wire               copper   \n",
       "1                                           wire cable               copper   \n",
       "2                                   miscellaneous wire               copper   \n",
       "3    clippings punchings bus bars commutator segmen...               copper   \n",
       "4                                  miscellaneous scrap               copper   \n",
       "..                                                 ...                  ...   \n",
       "228                                  borings drillings  cast malleable iron   \n",
       "229                                            borings            cast iron   \n",
       "230                                  boring briquettes            cast iron   \n",
       "231                                  borings drillings       malleable iron   \n",
       "232                                  borings drillings  cast malleable iron   \n",
       "\n",
       "                                   sc:hasSpecification  \\\n",
       "0                              bare uncoated unalloyed   \n",
       "1                    clean untinned uncoated unalloyed   \n",
       "2                                            unalloyed   \n",
       "3                             clean unalloyed uncoated   \n",
       "4                                            unalloyed   \n",
       "..                                                 ...   \n",
       "228                             containing percent oil   \n",
       "229  heated briquetted density approximately percen...   \n",
       "230  hydraulically compressed cohesive solid densit...   \n",
       "231                                              clean   \n",
       "232                   nea clean containing percent oil   \n",
       "\n",
       "                                    pc:hasName  sc:isComposedOf  \n",
       "0                                  copper wire  sc:Material_249  \n",
       "1                                  copper wire  sc:Material_249  \n",
       "2                                  copper wire  sc:Material_249  \n",
       "3                   heavy copper solids tubing  sc:Material_249  \n",
       "4                         copper solids tubing  sc:Material_249  \n",
       "..                                         ...              ...  \n",
       "228                           chemical borings  sc:Material_245  \n",
       "229   briquetted cast iron borings hot process  sc:Material_697  \n",
       "230  briquetted cast iron borings cold process  sc:Material_697  \n",
       "231                          malleable borings  sc:Material_245  \n",
       "232                           chemical borings  sc:Material_245  \n",
       "\n",
       "[135 rows x 6 columns]"
      ]
     },
     "execution_count": 28,
     "metadata": {},
     "output_type": "execute_result"
    }
   ],
   "source": [
    "pred_isComposedOf_df"
   ]
  },
  {
   "cell_type": "code",
   "execution_count": null,
   "id": "0ef09569",
   "metadata": {},
   "outputs": [],
   "source": []
  },
  {
   "cell_type": "code",
   "execution_count": null,
   "id": "f3dc941d",
   "metadata": {},
   "outputs": [],
   "source": []
  },
  {
   "cell_type": "code",
   "execution_count": 29,
   "id": "3810945e",
   "metadata": {},
   "outputs": [],
   "source": [
    "def cluster_text(text, true_k):\n",
    "    vectorizer = TfidfVectorizer()\n",
    "    X = vectorizer.fit_transform(text)\n",
    "\n",
    "    return X\n",
    "\n",
    "   #  Sum_of_squared_distances = []\n",
    "   #  K = range(2,10)\n",
    "   #  for k in K:\n",
    "   #     km = KMeans(n_clusters=k, max_iter=200, n_init=10)\n",
    "   #     km = km.fit(X)\n",
    "   #     Sum_of_squared_distances.append(km.inertia_)\n",
    "   #  plt.plot(K, Sum_of_squared_distances, 'bx-')\n",
    "   #  plt.xlabel('k')\n",
    "   #  plt.ylabel('Sum_of_squared_distances')\n",
    "   #  plt.title('Elbow Method For Optimal k')\n",
    "   #  plt.show()\n",
    "\n",
    "   # #  true_k = 6\n",
    "   #  model = KMeans(n_clusters=true_k, init='k-means++', max_iter=200, n_init=10)\n",
    "   #  model.fit(X)\n",
    "\n",
    "   #  labels=model.labels_\n",
    "   #  clusters=pd.DataFrame(list(zip(text,labels)),columns=['title','cluster'])\n",
    "   #  #print(clusters.sort_values(by=['cluster']))\n",
    "       \n",
    "   #  return clusters"
   ]
  },
  {
   "cell_type": "code",
   "execution_count": 30,
   "id": "a3955dcf",
   "metadata": {},
   "outputs": [
    {
     "data": {
      "text/plain": [
       "(135, 22)"
      ]
     },
     "execution_count": 30,
     "metadata": {},
     "output_type": "execute_result"
    }
   ],
   "source": [
    "X = cluster_text(pred_isComposedOf_df['sc:hasCategory'], 6)\n",
    "X.shape"
   ]
  },
  {
   "cell_type": "code",
   "execution_count": 32,
   "id": "a8149bcc",
   "metadata": {},
   "outputs": [],
   "source": [
    "for mat in pred_isComposedOf_df['sc:isComposedOf'].value_counts().tail(15).index.values:\n",
    "\n",
    "    pred_isComposedOf_df = pred_isComposedOf_df[pred_isComposedOf_df['sc:isComposedOf'] != mat]"
   ]
  },
  {
   "cell_type": "code",
   "execution_count": 61,
   "id": "02c529dd",
   "metadata": {},
   "outputs": [],
   "source": [
    "from sklearn.model_selection import train_test_split\n",
    "\n",
    "X = pred_isComposedOf_df.drop('sc:isComposedOf', axis=1)\n",
    "y = pred_isComposedOf_df['sc:isComposedOf']\n",
    "\n",
    "X = cluster_text(X['sc:hasCategory'], 6)\n",
    "\n",
    "X_train, X_test, y_train, y_test = train_test_split(X, y, test_size=0.2)"
   ]
  },
  {
   "cell_type": "code",
   "execution_count": 64,
   "id": "cd38c584",
   "metadata": {},
   "outputs": [
    {
     "data": {
      "text/plain": [
       "<113x22 sparse matrix of type '<class 'numpy.float64'>'\n",
       "\twith 481 stored elements in Compressed Sparse Row format>"
      ]
     },
     "execution_count": 64,
     "metadata": {},
     "output_type": "execute_result"
    }
   ],
   "source": []
  },
  {
   "cell_type": "code",
   "execution_count": 67,
   "id": "3036549a",
   "metadata": {},
   "outputs": [],
   "source": [
    "le = LabelEncoder()\n",
    "\n",
    "y_train = le.fit_transform(y_train)\n",
    "y_test = le.transform(y_test)"
   ]
  },
  {
   "cell_type": "code",
   "execution_count": 68,
   "id": "8b776b16",
   "metadata": {},
   "outputs": [],
   "source": [
    "from sklearn.linear_model import LogisticRegression\n",
    "\n",
    "model = LogisticRegression()\n",
    "\n",
    "model.fit(X_train, y_train)\n",
    "y_hat = model.predict(X_test)\n"
   ]
  },
  {
   "cell_type": "code",
   "execution_count": 69,
   "id": "79e1c1f2",
   "metadata": {},
   "outputs": [
    {
     "data": {
      "text/html": [
       "<div>\n",
       "<style scoped>\n",
       "    .dataframe tbody tr th:only-of-type {\n",
       "        vertical-align: middle;\n",
       "    }\n",
       "\n",
       "    .dataframe tbody tr th {\n",
       "        vertical-align: top;\n",
       "    }\n",
       "\n",
       "    .dataframe thead th {\n",
       "        text-align: right;\n",
       "    }\n",
       "</style>\n",
       "<table border=\"1\" class=\"dataframe\">\n",
       "  <thead>\n",
       "    <tr style=\"text-align: right;\">\n",
       "      <th></th>\n",
       "      <th>true</th>\n",
       "      <th>pred</th>\n",
       "    </tr>\n",
       "  </thead>\n",
       "  <tbody>\n",
       "    <tr>\n",
       "      <th>0</th>\n",
       "      <td>4</td>\n",
       "      <td>3</td>\n",
       "    </tr>\n",
       "    <tr>\n",
       "      <th>1</th>\n",
       "      <td>7</td>\n",
       "      <td>7</td>\n",
       "    </tr>\n",
       "    <tr>\n",
       "      <th>2</th>\n",
       "      <td>11</td>\n",
       "      <td>11</td>\n",
       "    </tr>\n",
       "    <tr>\n",
       "      <th>3</th>\n",
       "      <td>3</td>\n",
       "      <td>3</td>\n",
       "    </tr>\n",
       "    <tr>\n",
       "      <th>4</th>\n",
       "      <td>4</td>\n",
       "      <td>3</td>\n",
       "    </tr>\n",
       "    <tr>\n",
       "      <th>5</th>\n",
       "      <td>9</td>\n",
       "      <td>9</td>\n",
       "    </tr>\n",
       "    <tr>\n",
       "      <th>6</th>\n",
       "      <td>9</td>\n",
       "      <td>10</td>\n",
       "    </tr>\n",
       "    <tr>\n",
       "      <th>7</th>\n",
       "      <td>6</td>\n",
       "      <td>3</td>\n",
       "    </tr>\n",
       "    <tr>\n",
       "      <th>8</th>\n",
       "      <td>4</td>\n",
       "      <td>3</td>\n",
       "    </tr>\n",
       "    <tr>\n",
       "      <th>9</th>\n",
       "      <td>7</td>\n",
       "      <td>7</td>\n",
       "    </tr>\n",
       "    <tr>\n",
       "      <th>10</th>\n",
       "      <td>9</td>\n",
       "      <td>9</td>\n",
       "    </tr>\n",
       "    <tr>\n",
       "      <th>11</th>\n",
       "      <td>2</td>\n",
       "      <td>3</td>\n",
       "    </tr>\n",
       "    <tr>\n",
       "      <th>12</th>\n",
       "      <td>1</td>\n",
       "      <td>9</td>\n",
       "    </tr>\n",
       "    <tr>\n",
       "      <th>13</th>\n",
       "      <td>12</td>\n",
       "      <td>13</td>\n",
       "    </tr>\n",
       "    <tr>\n",
       "      <th>14</th>\n",
       "      <td>7</td>\n",
       "      <td>7</td>\n",
       "    </tr>\n",
       "    <tr>\n",
       "      <th>15</th>\n",
       "      <td>1</td>\n",
       "      <td>9</td>\n",
       "    </tr>\n",
       "    <tr>\n",
       "      <th>16</th>\n",
       "      <td>0</td>\n",
       "      <td>0</td>\n",
       "    </tr>\n",
       "    <tr>\n",
       "      <th>17</th>\n",
       "      <td>7</td>\n",
       "      <td>7</td>\n",
       "    </tr>\n",
       "    <tr>\n",
       "      <th>18</th>\n",
       "      <td>13</td>\n",
       "      <td>13</td>\n",
       "    </tr>\n",
       "    <tr>\n",
       "      <th>19</th>\n",
       "      <td>6</td>\n",
       "      <td>3</td>\n",
       "    </tr>\n",
       "    <tr>\n",
       "      <th>20</th>\n",
       "      <td>9</td>\n",
       "      <td>9</td>\n",
       "    </tr>\n",
       "    <tr>\n",
       "      <th>21</th>\n",
       "      <td>12</td>\n",
       "      <td>13</td>\n",
       "    </tr>\n",
       "    <tr>\n",
       "      <th>22</th>\n",
       "      <td>0</td>\n",
       "      <td>0</td>\n",
       "    </tr>\n",
       "  </tbody>\n",
       "</table>\n",
       "</div>"
      ],
      "text/plain": [
       "    true  pred\n",
       "0      4     3\n",
       "1      7     7\n",
       "2     11    11\n",
       "3      3     3\n",
       "4      4     3\n",
       "5      9     9\n",
       "6      9    10\n",
       "7      6     3\n",
       "8      4     3\n",
       "9      7     7\n",
       "10     9     9\n",
       "11     2     3\n",
       "12     1     9\n",
       "13    12    13\n",
       "14     7     7\n",
       "15     1     9\n",
       "16     0     0\n",
       "17     7     7\n",
       "18    13    13\n",
       "19     6     3\n",
       "20     9     9\n",
       "21    12    13\n",
       "22     0     0"
      ]
     },
     "execution_count": 69,
     "metadata": {},
     "output_type": "execute_result"
    }
   ],
   "source": [
    "results = pd.DataFrame()\n",
    "\n",
    "results['true'] = y_test\n",
    "results['pred'] = y_hat\n",
    "\n",
    "results"
   ]
  },
  {
   "cell_type": "code",
   "execution_count": 70,
   "id": "fa634706",
   "metadata": {},
   "outputs": [
    {
     "data": {
      "text/plain": [
       "0.5217391304347826"
      ]
     },
     "execution_count": 70,
     "metadata": {},
     "output_type": "execute_result"
    }
   ],
   "source": [
    "accuracy_score(y_test, y_hat)"
   ]
  },
  {
   "cell_type": "code",
   "execution_count": null,
   "id": "83447305",
   "metadata": {},
   "outputs": [],
   "source": [
    "isri_data['cluster_category'] = cluster_text(isri_data['sc:hasCategory'], 6)['cluster']\n",
    "isri_data.head(2)"
   ]
  },
  {
   "cell_type": "code",
   "execution_count": null,
   "id": "a08730d8",
   "metadata": {},
   "outputs": [],
   "source": [
    "isri_data['cluster_hasName'] = cluster_text(isri_data['pc:hasName'], 5)['cluster']\n",
    "isri_data.head(2)"
   ]
  },
  {
   "cell_type": "code",
   "execution_count": null,
   "id": "8e291fe5",
   "metadata": {},
   "outputs": [],
   "source": [
    " isri_data[isri_data['cluster_hasName'] == 1]"
   ]
  },
  {
   "cell_type": "code",
   "execution_count": null,
   "id": "58ed8c23",
   "metadata": {},
   "outputs": [],
   "source": []
  },
  {
   "cell_type": "code",
   "execution_count": null,
   "id": "87d88011",
   "metadata": {},
   "outputs": [],
   "source": []
  },
  {
   "cell_type": "code",
   "execution_count": null,
   "id": "502dbf9d",
   "metadata": {},
   "outputs": [],
   "source": []
  },
  {
   "cell_type": "code",
   "execution_count": null,
   "id": "2f11c100",
   "metadata": {},
   "outputs": [],
   "source": []
  },
  {
   "cell_type": "code",
   "execution_count": null,
   "id": "61d8f884",
   "metadata": {},
   "outputs": [],
   "source": []
  },
  {
   "cell_type": "code",
   "execution_count": null,
   "id": "9160d857",
   "metadata": {},
   "outputs": [],
   "source": []
  },
  {
   "cell_type": "code",
   "execution_count": null,
   "id": "4fe4ba88",
   "metadata": {},
   "outputs": [],
   "source": []
  },
  {
   "cell_type": "code",
   "execution_count": null,
   "id": "8db9f959",
   "metadata": {},
   "outputs": [],
   "source": []
  },
  {
   "cell_type": "code",
   "execution_count": null,
   "id": "39fb819c",
   "metadata": {},
   "outputs": [],
   "source": []
  },
  {
   "cell_type": "code",
   "execution_count": null,
   "id": "ee975f81",
   "metadata": {},
   "outputs": [],
   "source": []
  },
  {
   "cell_type": "code",
   "execution_count": null,
   "id": "327a291b",
   "metadata": {},
   "outputs": [],
   "source": []
  },
  {
   "cell_type": "code",
   "execution_count": null,
   "id": "1bca9ede",
   "metadata": {},
   "outputs": [],
   "source": []
  },
  {
   "cell_type": "code",
   "execution_count": null,
   "id": "49807158",
   "metadata": {},
   "outputs": [],
   "source": []
  },
  {
   "cell_type": "code",
   "execution_count": null,
   "id": "283e3376",
   "metadata": {},
   "outputs": [],
   "source": []
  },
  {
   "cell_type": "markdown",
   "id": "fe567339",
   "metadata": {},
   "source": [
    "Keep only `anamets` with english description"
   ]
  },
  {
   "cell_type": "code",
   "execution_count": null,
   "id": "2759e8d4",
   "metadata": {},
   "outputs": [],
   "source": [
    "# Keep only anamets with english sc:descritpion\n",
    "import unicodedata as ud\n",
    "\n",
    "latin_letters= {}\n",
    "\n",
    "def is_latin(uchr):\n",
    "    try: return latin_letters[uchr]\n",
    "    except KeyError:\n",
    "         return latin_letters.setdefault(uchr, 'LATIN' in ud.name(uchr))\n",
    "\n",
    "def only_roman_chars(unistr):\n",
    "    return all(is_latin(uchr)\n",
    "           for uchr in unistr\n",
    "           if uchr.isalpha()) # isalpha suggested by John Machin\n",
    "\n",
    "e_description_index = []\n",
    "for row in range(len(anamet_data)):\n",
    "    if only_roman_chars(str(anamet_data['sc:description'].iloc[row])):\n",
    "        e_description_index.append(row)\n",
    "        \n",
    "anamet_data = anamet_data.iloc[e_description_index]"
   ]
  },
  {
   "cell_type": "code",
   "execution_count": null,
   "id": "425fe37a",
   "metadata": {},
   "outputs": [],
   "source": []
  },
  {
   "cell_type": "code",
   "execution_count": null,
   "id": "b64e083d",
   "metadata": {},
   "outputs": [],
   "source": []
  },
  {
   "cell_type": "code",
   "execution_count": null,
   "id": "f121d95f",
   "metadata": {},
   "outputs": [],
   "source": []
  },
  {
   "cell_type": "code",
   "execution_count": null,
   "id": "03710827",
   "metadata": {},
   "outputs": [],
   "source": [
    "uns_data.head(2)"
   ]
  },
  {
   "cell_type": "code",
   "execution_count": null,
   "id": "33897ffc",
   "metadata": {},
   "outputs": [],
   "source": [
    "isri_data.head(2)"
   ]
  },
  {
   "cell_type": "code",
   "execution_count": null,
   "id": "d4e5d004",
   "metadata": {},
   "outputs": [],
   "source": [
    "anamet_data.head(2)"
   ]
  },
  {
   "cell_type": "code",
   "execution_count": null,
   "id": "bf4aa0df",
   "metadata": {},
   "outputs": [],
   "source": [
    "print(uns_data.isna().sum(), '\\n')\n",
    "print(isri_data.isna().sum(), '\\n')\n",
    "print(anamet_data.isna().sum(), '\\n')"
   ]
  },
  {
   "cell_type": "code",
   "execution_count": null,
   "id": "f7ef8190",
   "metadata": {},
   "outputs": [],
   "source": [
    "anamet_data['sc:hasCategory'].value_counts()"
   ]
  },
  {
   "cell_type": "code",
   "execution_count": null,
   "id": "1f03d8ff",
   "metadata": {},
   "outputs": [],
   "source": [
    "isri_data"
   ]
  },
  {
   "cell_type": "code",
   "execution_count": null,
   "id": "54bdb6c8",
   "metadata": {},
   "outputs": [],
   "source": [
    "isri_data['sc:isProcessedBy'].value_counts()"
   ]
  },
  {
   "cell_type": "code",
   "execution_count": null,
   "id": "02bb0a37",
   "metadata": {},
   "outputs": [],
   "source": [
    "isri_for_ml = isri_data.drop(columns=['isri id', 'pc:hasName', 'sc:isProcessedBy'])"
   ]
  },
  {
   "cell_type": "markdown",
   "id": "d3440e08",
   "metadata": {},
   "source": [
    "# NLP"
   ]
  },
  {
   "cell_type": "code",
   "execution_count": null,
   "id": "72dba6fd",
   "metadata": {},
   "outputs": [],
   "source": [
    "from gensim.utils import simple_preprocess"
   ]
  },
  {
   "cell_type": "markdown",
   "id": "fe567339",
   "metadata": {},
   "source": [
    "Keep only `anamets` with english description"
   ]
  },
  {
   "cell_type": "markdown",
   "id": "314a1d00",
   "metadata": {},
   "source": [
    "## ANAMET `anamet_data`"
   ]
  },
  {
   "cell_type": "code",
   "execution_count": null,
   "id": "a2c80d99",
   "metadata": {},
   "outputs": [],
   "source": [
    "# Keep only anamets with english sc:descritpion\n",
    "import unicodedata as ud\n",
    "\n",
    "latin_letters= {}\n",
    "\n",
    "def is_latin(uchr):\n",
    "    try: return latin_letters[uchr]\n",
    "    except KeyError:\n",
    "         return latin_letters.setdefault(uchr, 'LATIN' in ud.name(uchr))\n",
    "\n",
    "def only_roman_chars(unistr):\n",
    "    return all(is_latin(uchr)\n",
    "           for uchr in unistr\n",
    "           if uchr.isalpha()) # isalpha suggested by John Machin\n",
    "\n",
    "e_description_index = []\n",
    "for row in range(len(anamet_data)):\n",
    "    if only_roman_chars(str(anamet_data['sc:description'].iloc[row])):\n",
    "        e_description_index.append(row)\n",
    "        \n",
    "anamet_data = anamet_data.iloc[e_description_index]\n",
    "anamet_data"
   ]
  },
  {
   "cell_type": "markdown",
   "id": "857b2897",
   "metadata": {},
   "source": [
    "Preprocess text data using `gensim.utils.simple_preprocess()`"
   ]
  },
  {
   "cell_type": "code",
   "execution_count": null,
   "id": "c16128a0",
   "metadata": {},
   "outputs": [],
   "source": [
    "anamet_data['sc:description'] = anamet_data['sc:description'].apply(simple_preprocess)\n",
    "anamet_data.head(2)"
   ]
  },
  {
   "cell_type": "markdown",
   "id": "202e7f09",
   "metadata": {},
   "source": [
    "Delete word `scrap` and `for` from description"
   ]
  },
  {
   "cell_type": "code",
   "execution_count": null,
   "id": "e8142bcf",
   "metadata": {},
   "outputs": [],
   "source": [
    "# Delete word scrap\n",
    "for i in range(len(anamet_data)):\n",
    "    if 'scrap' in anamet_data['sc:description'].iloc[i]:\n",
    "        anamet_data['sc:description'].iloc[i].remove('scrap')\n",
    "    if 'for' in anamet_data['sc:description'].iloc[i]:\n",
    "        anamet_data['sc:description'].iloc[i].remove('for')"
   ]
  },
  {
   "cell_type": "code",
   "execution_count": null,
   "id": "e56e6f67",
   "metadata": {},
   "outputs": [],
   "source": [
    "anamet_data.head(2)"
   ]
  },
  {
   "cell_type": "markdown",
   "id": "3b490d1b-0ed2-4a65-bd3d-b1d0fdb99d5d",
   "metadata": {},
   "source": [
    "## UNS `uns_data`"
   ]
  },
  {
   "cell_type": "code",
   "execution_count": null,
   "id": "0a14099a",
   "metadata": {},
   "outputs": [],
   "source": [
    "uns_data['hasName'] = uns_data['hasName'].apply(simple_preprocess)\n",
    "uns_data.head(2)"
   ]
  },
  {
   "cell_type": "markdown",
   "id": "2d58c227",
   "metadata": {},
   "source": [
    "Θέλουμε να συσχετίσουμε τα `anamet` με τα `uns`. Οι μόνες πληροφορίες που έχουμε (features) είναι το `sc:description` και `hasName`. Θα εφαρμόσουμε NLP και ειδικότερα Word2Vec για ομοιότητες μεταξύ των texts."
   ]
  },
  {
   "cell_type": "code",
   "execution_count": null,
   "id": "a6434f33",
   "metadata": {},
   "outputs": [],
   "source": [
    "print(anamet_data['anamet entity'].nunique(), \"unique anamet ids\")\n",
    "print(uns_data['uns id'].nunique(), \"unique uns ids\")"
   ]
  },
  {
   "cell_type": "markdown",
   "id": "3ee04c03",
   "metadata": {},
   "source": [
    "## ISRI `isri_data`"
   ]
  },
  {
   "cell_type": "code",
   "execution_count": null,
   "id": "c2dbdb1d",
   "metadata": {},
   "outputs": [],
   "source": [
    "isri_data.head(2)"
   ]
  },
  {
   "cell_type": "code",
   "execution_count": null,
   "id": "6bacff12",
   "metadata": {},
   "outputs": [],
   "source": [
    "isri_data.drop(columns=['sc:isComposedOf', 'sc:isProcessedBy'], inplace=True)"
   ]
  },
  {
   "cell_type": "code",
   "execution_count": null,
   "id": "218bd21e",
   "metadata": {},
   "outputs": [],
   "source": [
    "isri_data.isna().sum()\n"
   ]
  },
  {
   "cell_type": "code",
   "execution_count": null,
   "id": "1519ac9f",
   "metadata": {},
   "outputs": [],
   "source": [
    "isri_data.fillna('nan', inplace=True)\n",
    "isri_data.isna().sum()"
   ]
  },
  {
   "cell_type": "code",
   "execution_count": null,
   "id": "a612a9f5",
   "metadata": {},
   "outputs": [],
   "source": [
    "isri_data['sc:hasCategory'] = isri_data['sc:hasCategory'].apply(simple_preprocess)\n",
    "isri_data['sc:hasForm'] = isri_data['sc:hasForm'].apply(simple_preprocess)\n",
    "isri_data['sc:isFreeFrom'] = isri_data['sc:isFreeFrom'].apply(simple_preprocess)\n",
    "isri_data['sc:contains'] = isri_data['sc:contains'].apply(simple_preprocess)\n",
    "isri_data['sc:hasISRICode'] = isri_data['sc:hasISRICode'].astype(str).apply(simple_preprocess)\n",
    "isri_data['sc:hasSpecification'] = isri_data['sc:hasSpecification'].apply(simple_preprocess)\n",
    "isri_data['pc:hasName'] = isri_data['pc:hasName'].apply(simple_preprocess)"
   ]
  },
  {
   "cell_type": "code",
   "execution_count": null,
   "id": "8ffc013b",
   "metadata": {},
   "outputs": [],
   "source": [
    "isri_data.head(3)"
   ]
  },
  {
   "cell_type": "markdown",
   "id": "202e7f09",
   "metadata": {},
   "source": [
    "Delete word `scrap` and `for` from description"
   ]
  },
  {
   "cell_type": "code",
   "execution_count": null,
   "id": "e8142bcf",
   "metadata": {},
   "outputs": [],
   "source": [
    "# Delete word scrap\n",
    "for i in range(len(isri_data)):\n",
    "    if 'scrap' in isri_data['sc:hasCategory'].iloc[i]:\n",
    "        \n",
    "        isri_data['sc:hasCategory'].iloc[i].remove('scrap')"
   ]
  },
  {
   "cell_type": "code",
   "execution_count": null,
   "id": "1bd83f0c",
   "metadata": {},
   "outputs": [],
   "source": []
  },
  {
   "cell_type": "markdown",
   "id": "93687c25",
   "metadata": {},
   "source": [
    "### Try Word2Vec stuff"
   ]
  },
  {
   "cell_type": "code",
   "execution_count": null,
   "id": "84a7da02",
   "metadata": {},
   "outputs": [],
   "source": [
    "import gensim\n",
    "import gensim.downloader\n",
    "\n",
    "# for model_name in list(gensim.downloader.info()['models'].keys()):\n",
    "    # print(model_name)\n",
    "    \n",
    "model_pretrained = gensim.downloader.load('glove-twitter-25')\n",
    "print(model_pretrained)"
   ]
  },
  {
   "cell_type": "code",
   "execution_count": null,
   "id": "890cc31d",
   "metadata": {},
   "outputs": [],
   "source": [
    "# NLP preprocess\n",
    "from gensim.utils import simple_preprocess\n",
    "from gensim.models import Word2Vec\n",
    "\n",
    "description = anamet_data['sc:description']\n",
    "description\n",
    "\n",
    "model_anamet = Word2Vec(min_count=1, \n",
    "                 vector_size=25, \n",
    "                 workers=4, \n",
    "                 window=2, \n",
    "                 sg=1)\n",
    "\n",
    "model_anamet.build_vocab(description)\n",
    "model_anamet.train(description, total_examples=model_anamet.corpus_count,\n",
    "           epochs=500)\n",
    "print(model_anamet)"
   ]
  },
  {
   "cell_type": "markdown",
   "id": "3ada8b03",
   "metadata": {},
   "source": [
    "#### Test example"
   ]
  },
  {
   "cell_type": "code",
   "execution_count": null,
   "id": "f9213f5e",
   "metadata": {},
   "outputs": [],
   "source": [
    "test_anamet = anamet_data.iloc[120]\n",
    "print(test_anamet)\n",
    "print('\\n')\n",
    "print(test_anamet['sc:description'])"
   ]
  },
  {
   "cell_type": "code",
   "execution_count": null,
   "id": "710e2fca",
   "metadata": {},
   "outputs": [],
   "source": [
    "uns_data"
   ]
  },
  {
   "cell_type": "code",
   "execution_count": null,
   "id": "49af2bd9",
   "metadata": {},
   "outputs": [],
   "source": [
    "for row in range(len(uns_data)):\n",
    "    w1 = uns_data['hasName'].iloc[row][0]\n",
    "    w2 = 'copper'\n",
    "    try:\n",
    "        sim = model_anamet.wv.similarity(w1, w2)\n",
    "    except KeyError:\n",
    "        sim = model_pretrained.similarity(w1, w2)\n",
    "    if sim >= .7: print(w1, w2, sim, uns_data['uns id'].iloc[row])"
   ]
  },
  {
   "cell_type": "code",
   "execution_count": null,
   "id": "77636642",
   "metadata": {},
   "outputs": [],
   "source": [
    "model_anamet.wv.similarity('tin', test_anamet['sc:description'][0])"
   ]
  },
  {
   "cell_type": "code",
   "execution_count": null,
   "id": "153d6c50",
   "metadata": {},
   "outputs": [],
   "source": [
    "model_pretrained.similarity('tin', test_anamet['sc:description'][0])"
   ]
  },
  {
   "cell_type": "code",
   "execution_count": null,
   "id": "d105edf1",
   "metadata": {},
   "outputs": [],
   "source": [
    "anamet_data['sc:description']"
   ]
  },
  {
   "cell_type": "code",
   "execution_count": null,
   "id": "4c2d4bae-8e70-4714-bed8-1a5ee0f16c36",
   "metadata": {},
   "outputs": [],
   "source": [
    "for row in range(200, 250):\n",
    "    w1 = uns_data['hasName'].iloc[row][0]\n",
    "    \n",
    "    for j in range(3):\n",
    "        try:\n",
    "            w2 = anamet_data['sc:description'].iloc[j]\n",
    "            print(w1, w2[0], model.similarity(w1, w2[0]))\n",
    "        except KeyError:\n",
    "            continue"
   ]
  },
  {
   "cell_type": "code",
   "execution_count": null,
   "id": "26791d7e-db74-4a7f-9399-1e63cfd28103",
   "metadata": {},
   "outputs": [],
   "source": []
  },
  {
   "cell_type": "code",
   "execution_count": null,
   "id": "f4b568fe-6826-425f-b138-cea62d2cd46e",
   "metadata": {},
   "outputs": [],
   "source": []
  },
  {
   "cell_type": "markdown",
   "id": "0b25a362",
   "metadata": {},
   "source": [
    "# Clustering chemical elements"
   ]
  },
  {
   "cell_type": "code",
   "execution_count": null,
   "id": "b40129ce",
   "metadata": {},
   "outputs": [],
   "source": [
    "elements_data_df = elements_data[['ar', 'atomicNumber', 'density', 'meltingPoint', 'hasName']]\n",
    "elements_data_df['hasName'] = elements_data_df['hasName'].apply(simple_preprocess)\n",
    "elements_data_df.head(2)"
   ]
  },
  {
   "cell_type": "code",
   "execution_count": null,
   "id": "f46fe628",
   "metadata": {},
   "outputs": [],
   "source": [
    "print(elements_data.shape)\n",
    "print(elements_data['hasName'].nunique())"
   ]
  },
  {
   "cell_type": "markdown",
   "id": "7f5aa7ad",
   "metadata": {},
   "source": [
    "Elements _included_ and _not included_ on uns_data"
   ]
  },
  {
   "cell_type": "code",
   "execution_count": null,
   "id": "a437e1a6",
   "metadata": {},
   "outputs": [],
   "source": [
    "not_included = []\n",
    "included = []\n",
    "for row in range(len(uns_data)):\n",
    "    try:\n",
    "        model_anamet.wv.most_similar(uns_data['hasName'].iloc[row])\n",
    "        included.append(uns_data['hasName'].iloc[row])\n",
    "    except KeyError: \n",
    "        not_included.append(uns_data['hasName'].iloc[row])\n",
    "\n",
    "included = pd.DataFrame(included)[0].unique()\n",
    "not_included = pd.DataFrame(not_included)[0].unique()\n",
    "\n",
    "print(included)\n",
    "print(not_included)"
   ]
  },
  {
   "cell_type": "code",
   "execution_count": null,
   "id": "16129281",
   "metadata": {
    "scrolled": true
   },
   "outputs": [],
   "source": [
    "from sklearn.preprocessing import LabelEncoder\n",
    "\n",
    "label_enc = LabelEncoder()\n",
    "\n",
    "elements_data_df['hasName_id'] = label_enc.fit_transform(elements_data['hasName'])\n",
    "elements_data_df.head(2)"
   ]
  },
  {
   "cell_type": "code",
   "execution_count": null,
   "id": "77d63a47",
   "metadata": {},
   "outputs": [],
   "source": [
    "from sklearn.cluster import KMeans\n",
    "\n",
    "kmeans = KMeans(n_clusters=5)\n",
    "kmeans.fit(elements_data_df.drop('hasName', axis=1))"
   ]
  },
  {
   "cell_type": "code",
   "execution_count": null,
   "id": "8537622b",
   "metadata": {
    "scrolled": true
   },
   "outputs": [],
   "source": [
    "yhat = kmeans.predict(elements_data_df.drop('hasName', axis=1))\n",
    "elements_data_df['cluster'] = yhat\n",
    "elements_data_df"
   ]
  },
  {
   "cell_type": "code",
   "execution_count": null,
   "id": "d530735b",
   "metadata": {},
   "outputs": [],
   "source": [
    "for row in range(len(elements_data)):\n",
    "\n",
    "    if elements_data_df['hasName'].iloc[row] in included:\n",
    "        print(elements_data_df['hasName'].iloc[row], \"->\", elements_data_df['cluster'].iloc[row])"
   ]
  },
  {
   "cell_type": "code",
   "execution_count": null,
   "id": "4cca7944",
   "metadata": {},
   "outputs": [],
   "source": [
    "elements_dict = {}\n",
    "\n",
    "for row in range(len(elements_data)):\n",
    "\n",
    "    if elements_data_df['hasName'].iloc[row] in included:\n",
    "        name = elements_data_df['hasName'].iloc[row][0]\n",
    "        cluster = elements_data_df['cluster'].iloc[row]\n",
    "        elements_dict[name] = cluster\n",
    "\n",
    "elements_dict\n",
    "\n",
    "similar_elements_dict = {}\n",
    "for row in range(len(elements_data)):\n",
    "\n",
    "    if elements_data_df['hasName'].iloc[row] in not_included:\n",
    "        name = elements_data_df['hasName'].iloc[row][0]\n",
    "        cluster = elements_data_df['cluster'].iloc[row]\n",
    "        \n",
    "        for key in elements_dict:\n",
    "\n",
    "            if elements_dict[key] == cluster:\n",
    "                similar_elements_dict[name] = key"
   ]
  },
  {
   "cell_type": "code",
   "execution_count": null,
   "id": "395bd25c",
   "metadata": {},
   "outputs": [],
   "source": [
    "similar_elements_dict"
   ]
  },
  {
   "cell_type": "code",
   "execution_count": null,
   "id": "3aeab8ce",
   "metadata": {},
   "outputs": [],
   "source": []
  }
 ],
 "metadata": {
  "kernelspec": {
   "display_name": "Python 3.9.10 ('main-bio')",
   "language": "python",
   "name": "python3"
  },
  "language_info": {
   "codemirror_mode": {
    "name": "ipython",
    "version": 3
   },
   "file_extension": ".py",
   "mimetype": "text/x-python",
   "name": "python",
   "nbconvert_exporter": "python",
   "pygments_lexer": "ipython3",
   "version": "3.9.10"
  },
  "vscode": {
   "interpreter": {
    "hash": "c6c04a7e252f45ffc2f7191e380805b6a5dd99aa68793d835f69a35c16ce4a30"
   }
  }
 },
 "nbformat": 4,
 "nbformat_minor": 5
}
