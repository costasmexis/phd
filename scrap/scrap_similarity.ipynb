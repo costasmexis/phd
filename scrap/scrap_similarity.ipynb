{
 "cells": [
  {
   "cell_type": "markdown",
   "id": "0cf57602-125b-4b81-a94d-b5010df11e76",
   "metadata": {},
   "source": [
    "# Import libraries"
   ]
  },
  {
   "cell_type": "code",
   "execution_count": 1,
   "id": "45c7e20b-c57f-4e13-b77e-11572f9e6409",
   "metadata": {},
   "outputs": [],
   "source": [
    "import pandas as pd\n",
    "import numpy as np\n",
    "import matplotlib.pyplot as plt  \n",
    "import scipy\n",
    "\n",
    "from sklearn.preprocessing import LabelEncoder\n",
    "\n",
    "from tqdm import tqdm\n",
    "\n",
    "import matplotlib.pyplot as plt\n",
    "\n",
    "from sklearn.model_selection import train_test_split\n",
    "from sklearn.feature_extraction.text import TfidfVectorizer\n",
    "from sklearn.naive_bayes import MultinomialNB\n",
    "from sklearn.metrics import accuracy_score\n",
    "from sklearn.multiclass import OneVsRestClassifier\n",
    "from nltk.corpus import stopwords\n",
    "stop_words = set(stopwords.words('english'))\n",
    "from sklearn.svm import LinearSVC\n",
    "from sklearn.linear_model import LogisticRegression\n",
    "from sklearn.pipeline import Pipeline\n",
    "import seaborn as sns\n",
    "\n",
    "import nltk\n",
    "from nltk.corpus import stopwords\n",
    "from sklearn.feature_extraction.text import TfidfVectorizer\n",
    "from sklearn.cluster import KMeans\n",
    "from sklearn.decomposition import PCA"
   ]
  },
  {
   "cell_type": "markdown",
   "id": "72776f13",
   "metadata": {},
   "source": [
    "# Data loading"
   ]
  },
  {
   "cell_type": "code",
   "execution_count": 2,
   "id": "d5cd106c",
   "metadata": {},
   "outputs": [
    {
     "data": {
      "text/plain": [
       "['ANAMET',\n",
       " 'Anamet data',\n",
       " 'ISRI',\n",
       " 'Isri data',\n",
       " 'UNS data',\n",
       " 'Elements data',\n",
       " 'Material data',\n",
       " 'Process']"
      ]
     },
     "execution_count": 2,
     "metadata": {},
     "output_type": "execute_result"
    }
   ],
   "source": [
    "xls = pd.ExcelFile('data/edited_nikos_data.xlsx')\n",
    "xls.sheet_names"
   ]
  },
  {
   "cell_type": "code",
   "execution_count": 3,
   "id": "87cde166",
   "metadata": {},
   "outputs": [],
   "source": [
    "uns_data = pd.read_excel(xls, 'UNS data')\n",
    "\n",
    "uns_data.rename(columns = {'sc:isComposedOf':'elements id'}, inplace = True)\n",
    "\n",
    "elements_data = pd.read_excel(xls, 'Elements data')\n",
    "\n",
    "uns_data = pd.merge(uns_data, elements_data, how='inner', on = 'elements id')\n",
    "isri_data = pd.read_excel(xls, 'Isri data')\n",
    "anamet_data = pd.read_excel(xls, 'Anamet data')\n",
    "material_data = pd.read_excel(xls, 'Material data')\n",
    "elements_data = pd.read_excel(xls, 'Elements data')"
   ]
  },
  {
   "cell_type": "code",
   "execution_count": 4,
   "id": "b3ab523a",
   "metadata": {},
   "outputs": [
    {
     "data": {
      "text/html": [
       "<div>\n",
       "<style scoped>\n",
       "    .dataframe tbody tr th:only-of-type {\n",
       "        vertical-align: middle;\n",
       "    }\n",
       "\n",
       "    .dataframe tbody tr th {\n",
       "        vertical-align: top;\n",
       "    }\n",
       "\n",
       "    .dataframe thead th {\n",
       "        text-align: right;\n",
       "    }\n",
       "</style>\n",
       "<table border=\"1\" class=\"dataframe\">\n",
       "  <thead>\n",
       "    <tr style=\"text-align: right;\">\n",
       "      <th></th>\n",
       "      <th>isri id</th>\n",
       "      <th>sc:hasCategory</th>\n",
       "      <th>sc:hasForm</th>\n",
       "      <th>sc:isFreeFrom</th>\n",
       "      <th>sc:contains</th>\n",
       "      <th>sc:hasISRICode</th>\n",
       "      <th>sc:hasSpecification</th>\n",
       "      <th>pc:hasName</th>\n",
       "      <th>sc:isComposedOf</th>\n",
       "      <th>sc:isProcessedBy</th>\n",
       "    </tr>\n",
       "  </thead>\n",
       "  <tbody>\n",
       "    <tr>\n",
       "      <th>0</th>\n",
       "      <td>sc:ISRI_0</td>\n",
       "      <td>Nonferrous Scrap - Red Metals</td>\n",
       "      <td>Wire</td>\n",
       "      <td>NaN</td>\n",
       "      <td>Copper</td>\n",
       "      <td>Berry</td>\n",
       "      <td>Bare, Uncoated, Unalloyed</td>\n",
       "      <td>No. 1 Copper Wire</td>\n",
       "      <td>sc:Material_249</td>\n",
       "      <td>sc:Process_257</td>\n",
       "    </tr>\n",
       "    <tr>\n",
       "      <th>1</th>\n",
       "      <td>sc:ISRI_1</td>\n",
       "      <td>Nonferrous Scrap - Red Metals</td>\n",
       "      <td>Wire and Cable</td>\n",
       "      <td>Brittle Burnt Wire, Copper Tubing</td>\n",
       "      <td>Copper</td>\n",
       "      <td>Barley</td>\n",
       "      <td>Clean, Untinned, Uncoated, Unalloyed</td>\n",
       "      <td>No. 1 Copper Wire</td>\n",
       "      <td>sc:Material_249</td>\n",
       "      <td>sc:Process_257</td>\n",
       "    </tr>\n",
       "  </tbody>\n",
       "</table>\n",
       "</div>"
      ],
      "text/plain": [
       "     isri id                 sc:hasCategory      sc:hasForm  \\\n",
       "0  sc:ISRI_0  Nonferrous Scrap - Red Metals            Wire   \n",
       "1  sc:ISRI_1  Nonferrous Scrap - Red Metals  Wire and Cable   \n",
       "\n",
       "                       sc:isFreeFrom sc:contains sc:hasISRICode  \\\n",
       "0                                NaN      Copper          Berry   \n",
       "1  Brittle Burnt Wire, Copper Tubing      Copper         Barley   \n",
       "\n",
       "                    sc:hasSpecification         pc:hasName  sc:isComposedOf  \\\n",
       "0             Bare, Uncoated, Unalloyed  No. 1 Copper Wire  sc:Material_249   \n",
       "1  Clean, Untinned, Uncoated, Unalloyed  No. 1 Copper Wire  sc:Material_249   \n",
       "\n",
       "  sc:isProcessedBy  \n",
       "0   sc:Process_257  \n",
       "1   sc:Process_257  "
      ]
     },
     "execution_count": 4,
     "metadata": {},
     "output_type": "execute_result"
    }
   ],
   "source": [
    "isri_data.head(2)"
   ]
  },
  {
   "cell_type": "code",
   "execution_count": 5,
   "id": "80fdedf3",
   "metadata": {},
   "outputs": [
    {
     "data": {
      "text/html": [
       "<div>\n",
       "<style scoped>\n",
       "    .dataframe tbody tr th:only-of-type {\n",
       "        vertical-align: middle;\n",
       "    }\n",
       "\n",
       "    .dataframe tbody tr th {\n",
       "        vertical-align: top;\n",
       "    }\n",
       "\n",
       "    .dataframe thead th {\n",
       "        text-align: right;\n",
       "    }\n",
       "</style>\n",
       "<table border=\"1\" class=\"dataframe\">\n",
       "  <thead>\n",
       "    <tr style=\"text-align: right;\">\n",
       "      <th></th>\n",
       "      <th>anamet entity</th>\n",
       "      <th>sc:description</th>\n",
       "      <th>sc:hasCategory</th>\n",
       "      <th>sc:internal_code</th>\n",
       "      <th>sc:isProcessedBy</th>\n",
       "    </tr>\n",
       "  </thead>\n",
       "  <tbody>\n",
       "    <tr>\n",
       "      <th>0</th>\n",
       "      <td>sc:ANAMET_437</td>\n",
       "      <td>ΣΚΡΑΠ ΨΑΛΙΔΙΣΜΕΝΟ ΠΥΚΝ &gt;450 ΚG/M3 (ΥΛΗ)</td>\n",
       "      <td>Ferrous</td>\n",
       "      <td>40000</td>\n",
       "      <td>sc:Process_690</td>\n",
       "    </tr>\n",
       "    <tr>\n",
       "      <th>1</th>\n",
       "      <td>sc:ANAMET_438</td>\n",
       "      <td>άγνωστο</td>\n",
       "      <td>Ferrous</td>\n",
       "      <td>9000</td>\n",
       "      <td>NaN</td>\n",
       "    </tr>\n",
       "  </tbody>\n",
       "</table>\n",
       "</div>"
      ],
      "text/plain": [
       "   anamet entity                           sc:description sc:hasCategory  \\\n",
       "0  sc:ANAMET_437  ΣΚΡΑΠ ΨΑΛΙΔΙΣΜΕΝΟ ΠΥΚΝ >450 ΚG/M3 (ΥΛΗ)        Ferrous   \n",
       "1  sc:ANAMET_438                                  άγνωστο        Ferrous   \n",
       "\n",
       "   sc:internal_code sc:isProcessedBy  \n",
       "0             40000   sc:Process_690  \n",
       "1              9000              NaN  "
      ]
     },
     "execution_count": 5,
     "metadata": {},
     "output_type": "execute_result"
    }
   ],
   "source": [
    "anamet_data.head(2)"
   ]
  },
  {
   "cell_type": "code",
   "execution_count": 6,
   "id": "ba0d9d75",
   "metadata": {},
   "outputs": [
    {
     "data": {
      "text/html": [
       "<div>\n",
       "<style scoped>\n",
       "    .dataframe tbody tr th:only-of-type {\n",
       "        vertical-align: middle;\n",
       "    }\n",
       "\n",
       "    .dataframe tbody tr th {\n",
       "        vertical-align: top;\n",
       "    }\n",
       "\n",
       "    .dataframe thead th {\n",
       "        text-align: right;\n",
       "    }\n",
       "</style>\n",
       "<table border=\"1\" class=\"dataframe\">\n",
       "  <thead>\n",
       "    <tr style=\"text-align: right;\">\n",
       "      <th></th>\n",
       "      <th>uns id</th>\n",
       "      <th>sc:hasName</th>\n",
       "      <th>elements id</th>\n",
       "      <th>ar</th>\n",
       "      <th>atomicNumber</th>\n",
       "      <th>density</th>\n",
       "      <th>meltingPoint</th>\n",
       "      <th>hasName</th>\n",
       "      <th>symbol</th>\n",
       "    </tr>\n",
       "  </thead>\n",
       "  <tbody>\n",
       "    <tr>\n",
       "      <th>0</th>\n",
       "      <td>sc:UNS_712</td>\n",
       "      <td>C83300</td>\n",
       "      <td>sc:Elements_329</td>\n",
       "      <td>207.2</td>\n",
       "      <td>82</td>\n",
       "      <td>11.29</td>\n",
       "      <td>327.5</td>\n",
       "      <td>LEAD</td>\n",
       "      <td>Pb</td>\n",
       "    </tr>\n",
       "    <tr>\n",
       "      <th>1</th>\n",
       "      <td>sc:UNS_733</td>\n",
       "      <td>C84500</td>\n",
       "      <td>sc:Elements_329</td>\n",
       "      <td>207.2</td>\n",
       "      <td>82</td>\n",
       "      <td>11.29</td>\n",
       "      <td>327.5</td>\n",
       "      <td>LEAD</td>\n",
       "      <td>Pb</td>\n",
       "    </tr>\n",
       "  </tbody>\n",
       "</table>\n",
       "</div>"
      ],
      "text/plain": [
       "       uns id sc:hasName      elements id     ar  atomicNumber  density  \\\n",
       "0  sc:UNS_712     C83300  sc:Elements_329  207.2            82    11.29   \n",
       "1  sc:UNS_733     C84500  sc:Elements_329  207.2            82    11.29   \n",
       "\n",
       "   meltingPoint hasName symbol  \n",
       "0         327.5    LEAD     Pb  \n",
       "1         327.5    LEAD     Pb  "
      ]
     },
     "execution_count": 6,
     "metadata": {},
     "output_type": "execute_result"
    }
   ],
   "source": [
    "uns_data.head(2)"
   ]
  },
  {
   "cell_type": "markdown",
   "id": "d17d2cce",
   "metadata": {},
   "source": [
    "# Create `df` using `anamet` and `isri`"
   ]
  },
  {
   "cell_type": "markdown",
   "id": "b8b023e0",
   "metadata": {},
   "source": [
    "Classify a given scrap.\n",
    "\n",
    "Προσπάθεια classifiaction ενός δοθέντος scap σε anamet / isri δεδομένου ενός description"
   ]
  },
  {
   "cell_type": "markdown",
   "id": "eb262c79",
   "metadata": {},
   "source": [
    "### Raw data preprocessing"
   ]
  },
  {
   "cell_type": "markdown",
   "id": "ce9fa248",
   "metadata": {},
   "source": [
    "#### `ISRI`"
   ]
  },
  {
   "cell_type": "code",
   "execution_count": 7,
   "id": "ab145ffc",
   "metadata": {},
   "outputs": [
    {
     "data": {
      "text/html": [
       "<div>\n",
       "<style scoped>\n",
       "    .dataframe tbody tr th:only-of-type {\n",
       "        vertical-align: middle;\n",
       "    }\n",
       "\n",
       "    .dataframe tbody tr th {\n",
       "        vertical-align: top;\n",
       "    }\n",
       "\n",
       "    .dataframe thead th {\n",
       "        text-align: right;\n",
       "    }\n",
       "</style>\n",
       "<table border=\"1\" class=\"dataframe\">\n",
       "  <thead>\n",
       "    <tr style=\"text-align: right;\">\n",
       "      <th></th>\n",
       "      <th>isri id</th>\n",
       "      <th>sc:hasCategory</th>\n",
       "      <th>sc:hasForm</th>\n",
       "      <th>sc:isFreeFrom</th>\n",
       "      <th>sc:contains</th>\n",
       "      <th>sc:hasISRICode</th>\n",
       "      <th>sc:hasSpecification</th>\n",
       "      <th>pc:hasName</th>\n",
       "      <th>sc:isComposedOf</th>\n",
       "      <th>sc:isProcessedBy</th>\n",
       "    </tr>\n",
       "  </thead>\n",
       "  <tbody>\n",
       "    <tr>\n",
       "      <th>0</th>\n",
       "      <td>sc:ISRI_0</td>\n",
       "      <td>Nonferrous Scrap - Red Metals</td>\n",
       "      <td>Wire</td>\n",
       "      <td>NaN</td>\n",
       "      <td>Copper</td>\n",
       "      <td>Berry</td>\n",
       "      <td>Bare, Uncoated, Unalloyed</td>\n",
       "      <td>No. 1 Copper Wire</td>\n",
       "      <td>sc:Material_249</td>\n",
       "      <td>sc:Process_257</td>\n",
       "    </tr>\n",
       "  </tbody>\n",
       "</table>\n",
       "</div>"
      ],
      "text/plain": [
       "     isri id                 sc:hasCategory sc:hasForm sc:isFreeFrom  \\\n",
       "0  sc:ISRI_0  Nonferrous Scrap - Red Metals       Wire           NaN   \n",
       "\n",
       "  sc:contains sc:hasISRICode        sc:hasSpecification         pc:hasName  \\\n",
       "0      Copper          Berry  Bare, Uncoated, Unalloyed  No. 1 Copper Wire   \n",
       "\n",
       "   sc:isComposedOf sc:isProcessedBy  \n",
       "0  sc:Material_249   sc:Process_257  "
      ]
     },
     "execution_count": 7,
     "metadata": {},
     "output_type": "execute_result"
    }
   ],
   "source": [
    "isri_data.head(1)"
   ]
  },
  {
   "cell_type": "code",
   "execution_count": 8,
   "id": "b5ddb481",
   "metadata": {},
   "outputs": [
    {
     "data": {
      "text/plain": [
       "(244, 10)"
      ]
     },
     "execution_count": 8,
     "metadata": {},
     "output_type": "execute_result"
    }
   ],
   "source": [
    "isri_data.shape"
   ]
  },
  {
   "cell_type": "code",
   "execution_count": 9,
   "id": "4b0ba9bd",
   "metadata": {},
   "outputs": [],
   "source": [
    "isri_data = isri_data[['isri id', 'sc:hasCategory', 'sc:hasForm', 'sc:hasSpecification', 'sc:contains', 'pc:hasName']]"
   ]
  },
  {
   "cell_type": "code",
   "execution_count": 10,
   "id": "166dc78c",
   "metadata": {},
   "outputs": [
    {
     "data": {
      "text/plain": [
       "isri id                 0\n",
       "sc:hasCategory          0\n",
       "sc:hasForm             43\n",
       "sc:hasSpecification    12\n",
       "sc:contains            68\n",
       "pc:hasName              7\n",
       "dtype: int64"
      ]
     },
     "execution_count": 10,
     "metadata": {},
     "output_type": "execute_result"
    }
   ],
   "source": [
    "isri_data.isna().sum()"
   ]
  },
  {
   "cell_type": "code",
   "execution_count": 11,
   "id": "f117c17e",
   "metadata": {},
   "outputs": [
    {
     "data": {
      "text/html": [
       "<div>\n",
       "<style scoped>\n",
       "    .dataframe tbody tr th:only-of-type {\n",
       "        vertical-align: middle;\n",
       "    }\n",
       "\n",
       "    .dataframe tbody tr th {\n",
       "        vertical-align: top;\n",
       "    }\n",
       "\n",
       "    .dataframe thead th {\n",
       "        text-align: right;\n",
       "    }\n",
       "</style>\n",
       "<table border=\"1\" class=\"dataframe\">\n",
       "  <thead>\n",
       "    <tr style=\"text-align: right;\">\n",
       "      <th></th>\n",
       "      <th>isri id</th>\n",
       "      <th>sc:hasCategory</th>\n",
       "      <th>sc:hasForm</th>\n",
       "      <th>sc:hasSpecification</th>\n",
       "      <th>sc:contains</th>\n",
       "      <th>pc:hasName</th>\n",
       "    </tr>\n",
       "  </thead>\n",
       "  <tbody>\n",
       "    <tr>\n",
       "      <th>0</th>\n",
       "      <td>sc:ISRI_0</td>\n",
       "      <td>nonferrous scrap red metals</td>\n",
       "      <td>wire</td>\n",
       "      <td>bare uncoated unalloyed</td>\n",
       "      <td>copper</td>\n",
       "      <td>copper wire</td>\n",
       "    </tr>\n",
       "    <tr>\n",
       "      <th>1</th>\n",
       "      <td>sc:ISRI_1</td>\n",
       "      <td>nonferrous scrap red metals</td>\n",
       "      <td>wire cable</td>\n",
       "      <td>clean untinned uncoated unalloyed</td>\n",
       "      <td>copper</td>\n",
       "      <td>copper wire</td>\n",
       "    </tr>\n",
       "  </tbody>\n",
       "</table>\n",
       "</div>"
      ],
      "text/plain": [
       "     isri id               sc:hasCategory  sc:hasForm  \\\n",
       "0  sc:ISRI_0  nonferrous scrap red metals        wire   \n",
       "1  sc:ISRI_1  nonferrous scrap red metals  wire cable   \n",
       "\n",
       "                 sc:hasSpecification sc:contains   pc:hasName  \n",
       "0            bare uncoated unalloyed      copper  copper wire  \n",
       "1  clean untinned uncoated unalloyed      copper  copper wire  "
      ]
     },
     "execution_count": 11,
     "metadata": {},
     "output_type": "execute_result"
    }
   ],
   "source": [
    "import texthero as hero\n",
    "from texthero import preprocessing\n",
    "\n",
    "custom_pipeline = [preprocessing.fillna,\n",
    "                   preprocessing.lowercase,\n",
    "                   preprocessing.remove_whitespace,\n",
    "                   preprocessing.remove_stopwords]\n",
    "\n",
    "for col in isri_data.drop('isri id', axis=1).columns:\n",
    "    isri_data[col] = hero.clean(isri_data[col])\n",
    "\n",
    "isri_data.head(2)"
   ]
  },
  {
   "cell_type": "code",
   "execution_count": 12,
   "id": "82002c7c",
   "metadata": {},
   "outputs": [
    {
     "data": {
      "text/plain": [
       "isri id                0\n",
       "sc:hasCategory         0\n",
       "sc:hasForm             0\n",
       "sc:hasSpecification    0\n",
       "sc:contains            0\n",
       "pc:hasName             0\n",
       "dtype: int64"
      ]
     },
     "execution_count": 12,
     "metadata": {},
     "output_type": "execute_result"
    }
   ],
   "source": [
    "isri_data.isna().sum()"
   ]
  },
  {
   "cell_type": "markdown",
   "id": "31858ecc",
   "metadata": {},
   "source": [
    "#### `ANAMET`"
   ]
  },
  {
   "cell_type": "code",
   "execution_count": 13,
   "id": "c1c3a3a6",
   "metadata": {},
   "outputs": [
    {
     "data": {
      "text/html": [
       "<div>\n",
       "<style scoped>\n",
       "    .dataframe tbody tr th:only-of-type {\n",
       "        vertical-align: middle;\n",
       "    }\n",
       "\n",
       "    .dataframe tbody tr th {\n",
       "        vertical-align: top;\n",
       "    }\n",
       "\n",
       "    .dataframe thead th {\n",
       "        text-align: right;\n",
       "    }\n",
       "</style>\n",
       "<table border=\"1\" class=\"dataframe\">\n",
       "  <thead>\n",
       "    <tr style=\"text-align: right;\">\n",
       "      <th></th>\n",
       "      <th>anamet entity</th>\n",
       "      <th>sc:description</th>\n",
       "      <th>sc:hasCategory</th>\n",
       "      <th>sc:internal_code</th>\n",
       "      <th>sc:isProcessedBy</th>\n",
       "    </tr>\n",
       "  </thead>\n",
       "  <tbody>\n",
       "    <tr>\n",
       "      <th>0</th>\n",
       "      <td>sc:ANAMET_437</td>\n",
       "      <td>ΣΚΡΑΠ ΨΑΛΙΔΙΣΜΕΝΟ ΠΥΚΝ &gt;450 ΚG/M3 (ΥΛΗ)</td>\n",
       "      <td>Ferrous</td>\n",
       "      <td>40000</td>\n",
       "      <td>sc:Process_690</td>\n",
       "    </tr>\n",
       "    <tr>\n",
       "      <th>1</th>\n",
       "      <td>sc:ANAMET_438</td>\n",
       "      <td>άγνωστο</td>\n",
       "      <td>Ferrous</td>\n",
       "      <td>9000</td>\n",
       "      <td>NaN</td>\n",
       "    </tr>\n",
       "    <tr>\n",
       "      <th>2</th>\n",
       "      <td>sc:ANAMET_439</td>\n",
       "      <td>κουτάκι</td>\n",
       "      <td>Ferrous</td>\n",
       "      <td>9101</td>\n",
       "      <td>NaN</td>\n",
       "    </tr>\n",
       "    <tr>\n",
       "      <th>3</th>\n",
       "      <td>sc:ANAMET_440</td>\n",
       "      <td>λαμαρίνες</td>\n",
       "      <td>Ferrous</td>\n",
       "      <td>9102</td>\n",
       "      <td>NaN</td>\n",
       "    </tr>\n",
       "    <tr>\n",
       "      <th>4</th>\n",
       "      <td>sc:ANAMET_441</td>\n",
       "      <td>ζάντες + βαρύ προς shredder κλπ από ΟΤΚΖ</td>\n",
       "      <td>Ferrous</td>\n",
       "      <td>9103</td>\n",
       "      <td>NaN</td>\n",
       "    </tr>\n",
       "  </tbody>\n",
       "</table>\n",
       "</div>"
      ],
      "text/plain": [
       "   anamet entity                            sc:description sc:hasCategory  \\\n",
       "0  sc:ANAMET_437   ΣΚΡΑΠ ΨΑΛΙΔΙΣΜΕΝΟ ΠΥΚΝ >450 ΚG/M3 (ΥΛΗ)        Ferrous   \n",
       "1  sc:ANAMET_438                                   άγνωστο        Ferrous   \n",
       "2  sc:ANAMET_439                                   κουτάκι        Ferrous   \n",
       "3  sc:ANAMET_440                                 λαμαρίνες        Ferrous   \n",
       "4  sc:ANAMET_441  ζάντες + βαρύ προς shredder κλπ από ΟΤΚΖ        Ferrous   \n",
       "\n",
       "   sc:internal_code sc:isProcessedBy  \n",
       "0             40000   sc:Process_690  \n",
       "1              9000              NaN  \n",
       "2              9101              NaN  \n",
       "3              9102              NaN  \n",
       "4              9103              NaN  "
      ]
     },
     "execution_count": 13,
     "metadata": {},
     "output_type": "execute_result"
    }
   ],
   "source": [
    "anamet_data.head()"
   ]
  },
  {
   "cell_type": "code",
   "execution_count": 14,
   "id": "898d7c51",
   "metadata": {},
   "outputs": [
    {
     "data": {
      "text/plain": [
       "(322, 5)"
      ]
     },
     "execution_count": 14,
     "metadata": {},
     "output_type": "execute_result"
    }
   ],
   "source": [
    "anamet_data.shape"
   ]
  },
  {
   "cell_type": "markdown",
   "id": "f2747bbb",
   "metadata": {},
   "source": [
    "Keep only ANAMET with english `sc:description`"
   ]
  },
  {
   "cell_type": "code",
   "execution_count": 15,
   "id": "3cd6d986",
   "metadata": {},
   "outputs": [
    {
     "data": {
      "text/html": [
       "<div>\n",
       "<style scoped>\n",
       "    .dataframe tbody tr th:only-of-type {\n",
       "        vertical-align: middle;\n",
       "    }\n",
       "\n",
       "    .dataframe tbody tr th {\n",
       "        vertical-align: top;\n",
       "    }\n",
       "\n",
       "    .dataframe thead th {\n",
       "        text-align: right;\n",
       "    }\n",
       "</style>\n",
       "<table border=\"1\" class=\"dataframe\">\n",
       "  <thead>\n",
       "    <tr style=\"text-align: right;\">\n",
       "      <th></th>\n",
       "      <th>anamet entity</th>\n",
       "      <th>sc:description</th>\n",
       "      <th>sc:hasCategory</th>\n",
       "      <th>sc:internal_code</th>\n",
       "      <th>sc:isProcessedBy</th>\n",
       "    </tr>\n",
       "  </thead>\n",
       "  <tbody>\n",
       "    <tr>\n",
       "      <th>28</th>\n",
       "      <td>sc:ANAMET_465</td>\n",
       "      <td>COPPER SCRAP MILLBERRY CABLES FOR STRIP.</td>\n",
       "      <td>Non-Ferrous</td>\n",
       "      <td>40014</td>\n",
       "      <td>NaN</td>\n",
       "    </tr>\n",
       "    <tr>\n",
       "      <th>30</th>\n",
       "      <td>sc:ANAMET_466</td>\n",
       "      <td>COPPER SCRAP BIRCH CABLES FOR STRIPPING</td>\n",
       "      <td>Non-Ferrous</td>\n",
       "      <td>40015</td>\n",
       "      <td>NaN</td>\n",
       "    </tr>\n",
       "  </tbody>\n",
       "</table>\n",
       "</div>"
      ],
      "text/plain": [
       "    anamet entity                            sc:description sc:hasCategory  \\\n",
       "28  sc:ANAMET_465  COPPER SCRAP MILLBERRY CABLES FOR STRIP.    Non-Ferrous   \n",
       "30  sc:ANAMET_466   COPPER SCRAP BIRCH CABLES FOR STRIPPING    Non-Ferrous   \n",
       "\n",
       "    sc:internal_code sc:isProcessedBy  \n",
       "28             40014              NaN  \n",
       "30             40015              NaN  "
      ]
     },
     "execution_count": 15,
     "metadata": {},
     "output_type": "execute_result"
    }
   ],
   "source": [
    "import unicodedata as ud\n",
    "\n",
    "latin_letters= {}\n",
    "\n",
    "def is_latin(uchr):\n",
    "    try: return latin_letters[uchr]\n",
    "    except KeyError:\n",
    "         return latin_letters.setdefault(uchr, 'LATIN' in ud.name(uchr))\n",
    "\n",
    "def only_roman_chars(unistr):\n",
    "    return all(is_latin(uchr)\n",
    "           for uchr in unistr\n",
    "           if uchr.isalpha()) # isalpha suggested by John Machin\n",
    "\n",
    "e_description_index = []\n",
    "for row in range(len(anamet_data)):\n",
    "    if only_roman_chars(str(anamet_data['sc:description'].iloc[row])):\n",
    "        e_description_index.append(row)\n",
    "        \n",
    "anamet_data = anamet_data.iloc[e_description_index]\n",
    "anamet_data.head(2)"
   ]
  },
  {
   "cell_type": "code",
   "execution_count": 16,
   "id": "95749748",
   "metadata": {},
   "outputs": [
    {
     "data": {
      "text/plain": [
       "(214, 5)"
      ]
     },
     "execution_count": 16,
     "metadata": {},
     "output_type": "execute_result"
    }
   ],
   "source": [
    "anamet_data.shape"
   ]
  },
  {
   "cell_type": "code",
   "execution_count": 17,
   "id": "38ad4328",
   "metadata": {},
   "outputs": [
    {
     "data": {
      "text/html": [
       "<div>\n",
       "<style scoped>\n",
       "    .dataframe tbody tr th:only-of-type {\n",
       "        vertical-align: middle;\n",
       "    }\n",
       "\n",
       "    .dataframe tbody tr th {\n",
       "        vertical-align: top;\n",
       "    }\n",
       "\n",
       "    .dataframe thead th {\n",
       "        text-align: right;\n",
       "    }\n",
       "</style>\n",
       "<table border=\"1\" class=\"dataframe\">\n",
       "  <thead>\n",
       "    <tr style=\"text-align: right;\">\n",
       "      <th></th>\n",
       "      <th>anamet entity</th>\n",
       "      <th>sc:description</th>\n",
       "      <th>sc:hasCategory</th>\n",
       "    </tr>\n",
       "  </thead>\n",
       "  <tbody>\n",
       "    <tr>\n",
       "      <th>28</th>\n",
       "      <td>sc:ANAMET_465</td>\n",
       "      <td>COPPER SCRAP MILLBERRY CABLES FOR STRIP.</td>\n",
       "      <td>Non-Ferrous</td>\n",
       "    </tr>\n",
       "    <tr>\n",
       "      <th>30</th>\n",
       "      <td>sc:ANAMET_466</td>\n",
       "      <td>COPPER SCRAP BIRCH CABLES FOR STRIPPING</td>\n",
       "      <td>Non-Ferrous</td>\n",
       "    </tr>\n",
       "  </tbody>\n",
       "</table>\n",
       "</div>"
      ],
      "text/plain": [
       "    anamet entity                            sc:description sc:hasCategory\n",
       "28  sc:ANAMET_465  COPPER SCRAP MILLBERRY CABLES FOR STRIP.    Non-Ferrous\n",
       "30  sc:ANAMET_466   COPPER SCRAP BIRCH CABLES FOR STRIPPING    Non-Ferrous"
      ]
     },
     "execution_count": 17,
     "metadata": {},
     "output_type": "execute_result"
    }
   ],
   "source": [
    "anamet_data = anamet_data[['anamet entity', 'sc:description', 'sc:hasCategory']]\n",
    "anamet_data.head(2)"
   ]
  },
  {
   "cell_type": "code",
   "execution_count": 18,
   "id": "42de23f5",
   "metadata": {},
   "outputs": [
    {
     "data": {
      "text/plain": [
       "anamet entity     0\n",
       "sc:description    0\n",
       "sc:hasCategory    0\n",
       "dtype: int64"
      ]
     },
     "execution_count": 18,
     "metadata": {},
     "output_type": "execute_result"
    }
   ],
   "source": [
    "anamet_data.isna().sum()"
   ]
  },
  {
   "cell_type": "code",
   "execution_count": 19,
   "id": "6bf60987",
   "metadata": {},
   "outputs": [
    {
     "data": {
      "text/html": [
       "<div>\n",
       "<style scoped>\n",
       "    .dataframe tbody tr th:only-of-type {\n",
       "        vertical-align: middle;\n",
       "    }\n",
       "\n",
       "    .dataframe tbody tr th {\n",
       "        vertical-align: top;\n",
       "    }\n",
       "\n",
       "    .dataframe thead th {\n",
       "        text-align: right;\n",
       "    }\n",
       "</style>\n",
       "<table border=\"1\" class=\"dataframe\">\n",
       "  <thead>\n",
       "    <tr style=\"text-align: right;\">\n",
       "      <th></th>\n",
       "      <th>anamet entity</th>\n",
       "      <th>sc:description</th>\n",
       "      <th>sc:hasCategory</th>\n",
       "    </tr>\n",
       "  </thead>\n",
       "  <tbody>\n",
       "    <tr>\n",
       "      <th>28</th>\n",
       "      <td>sc:ANAMET_465</td>\n",
       "      <td>copper scrap millberry cables strip</td>\n",
       "      <td>non ferrous</td>\n",
       "    </tr>\n",
       "    <tr>\n",
       "      <th>30</th>\n",
       "      <td>sc:ANAMET_466</td>\n",
       "      <td>copper scrap birch cables stripping</td>\n",
       "      <td>non ferrous</td>\n",
       "    </tr>\n",
       "  </tbody>\n",
       "</table>\n",
       "</div>"
      ],
      "text/plain": [
       "    anamet entity                       sc:description sc:hasCategory\n",
       "28  sc:ANAMET_465  copper scrap millberry cables strip    non ferrous\n",
       "30  sc:ANAMET_466  copper scrap birch cables stripping    non ferrous"
      ]
     },
     "execution_count": 19,
     "metadata": {},
     "output_type": "execute_result"
    }
   ],
   "source": [
    "for col in anamet_data.drop('anamet entity', axis=1).columns:\n",
    "    anamet_data[col] = hero.clean(anamet_data[col])\n",
    "\n",
    "anamet_data.head(2)"
   ]
  },
  {
   "cell_type": "markdown",
   "id": "58b291bd",
   "metadata": {},
   "source": [
    "# Combine both datasets"
   ]
  },
  {
   "cell_type": "markdown",
   "id": "8224e3d5",
   "metadata": {},
   "source": [
    "Will combine `ISRI` and `ANAMET` dataframes into one."
   ]
  },
  {
   "cell_type": "code",
   "execution_count": 20,
   "id": "6a6cab11",
   "metadata": {},
   "outputs": [],
   "source": [
    "df = pd.DataFrame()"
   ]
  },
  {
   "cell_type": "code",
   "execution_count": 21,
   "id": "0af6b6d4",
   "metadata": {},
   "outputs": [
    {
     "data": {
      "text/html": [
       "<div>\n",
       "<style scoped>\n",
       "    .dataframe tbody tr th:only-of-type {\n",
       "        vertical-align: middle;\n",
       "    }\n",
       "\n",
       "    .dataframe tbody tr th {\n",
       "        vertical-align: top;\n",
       "    }\n",
       "\n",
       "    .dataframe thead th {\n",
       "        text-align: right;\n",
       "    }\n",
       "</style>\n",
       "<table border=\"1\" class=\"dataframe\">\n",
       "  <thead>\n",
       "    <tr style=\"text-align: right;\">\n",
       "      <th></th>\n",
       "      <th>isri id</th>\n",
       "      <th>sc:hasCategory</th>\n",
       "      <th>sc:hasForm</th>\n",
       "      <th>sc:hasSpecification</th>\n",
       "      <th>sc:contains</th>\n",
       "      <th>pc:hasName</th>\n",
       "    </tr>\n",
       "  </thead>\n",
       "  <tbody>\n",
       "    <tr>\n",
       "      <th>0</th>\n",
       "      <td>sc:ISRI_0</td>\n",
       "      <td>nonferrous scrap red metals</td>\n",
       "      <td>wire</td>\n",
       "      <td>bare uncoated unalloyed</td>\n",
       "      <td>copper</td>\n",
       "      <td>copper wire</td>\n",
       "    </tr>\n",
       "  </tbody>\n",
       "</table>\n",
       "</div>"
      ],
      "text/plain": [
       "     isri id               sc:hasCategory sc:hasForm      sc:hasSpecification  \\\n",
       "0  sc:ISRI_0  nonferrous scrap red metals       wire  bare uncoated unalloyed   \n",
       "\n",
       "  sc:contains   pc:hasName  \n",
       "0      copper  copper wire  "
      ]
     },
     "execution_count": 21,
     "metadata": {},
     "output_type": "execute_result"
    }
   ],
   "source": [
    "isri_data.head(1)"
   ]
  },
  {
   "cell_type": "code",
   "execution_count": 22,
   "id": "46d40181",
   "metadata": {},
   "outputs": [
    {
     "data": {
      "text/html": [
       "<div>\n",
       "<style scoped>\n",
       "    .dataframe tbody tr th:only-of-type {\n",
       "        vertical-align: middle;\n",
       "    }\n",
       "\n",
       "    .dataframe tbody tr th {\n",
       "        vertical-align: top;\n",
       "    }\n",
       "\n",
       "    .dataframe thead th {\n",
       "        text-align: right;\n",
       "    }\n",
       "</style>\n",
       "<table border=\"1\" class=\"dataframe\">\n",
       "  <thead>\n",
       "    <tr style=\"text-align: right;\">\n",
       "      <th></th>\n",
       "      <th>anamet entity</th>\n",
       "      <th>sc:description</th>\n",
       "      <th>sc:hasCategory</th>\n",
       "    </tr>\n",
       "  </thead>\n",
       "  <tbody>\n",
       "    <tr>\n",
       "      <th>28</th>\n",
       "      <td>sc:ANAMET_465</td>\n",
       "      <td>copper scrap millberry cables strip</td>\n",
       "      <td>non ferrous</td>\n",
       "    </tr>\n",
       "  </tbody>\n",
       "</table>\n",
       "</div>"
      ],
      "text/plain": [
       "    anamet entity                       sc:description sc:hasCategory\n",
       "28  sc:ANAMET_465  copper scrap millberry cables strip    non ferrous"
      ]
     },
     "execution_count": 22,
     "metadata": {},
     "output_type": "execute_result"
    }
   ],
   "source": [
    "anamet_data.head(1)"
   ]
  },
  {
   "cell_type": "code",
   "execution_count": 23,
   "id": "7362d091-2302-4990-86fb-827fca292ace",
   "metadata": {},
   "outputs": [
    {
     "data": {
      "text/html": [
       "<div>\n",
       "<style scoped>\n",
       "    .dataframe tbody tr th:only-of-type {\n",
       "        vertical-align: middle;\n",
       "    }\n",
       "\n",
       "    .dataframe tbody tr th {\n",
       "        vertical-align: top;\n",
       "    }\n",
       "\n",
       "    .dataframe thead th {\n",
       "        text-align: right;\n",
       "    }\n",
       "</style>\n",
       "<table border=\"1\" class=\"dataframe\">\n",
       "  <thead>\n",
       "    <tr style=\"text-align: right;\">\n",
       "      <th></th>\n",
       "      <th>isri id</th>\n",
       "      <th>corpus</th>\n",
       "    </tr>\n",
       "  </thead>\n",
       "  <tbody>\n",
       "    <tr>\n",
       "      <th>0</th>\n",
       "      <td>sc:ISRI_0</td>\n",
       "      <td>bare uncoated unalloyed wire copper nonferrous...</td>\n",
       "    </tr>\n",
       "  </tbody>\n",
       "</table>\n",
       "</div>"
      ],
      "text/plain": [
       "     isri id                                             corpus\n",
       "0  sc:ISRI_0  bare uncoated unalloyed wire copper nonferrous..."
      ]
     },
     "execution_count": 23,
     "metadata": {},
     "output_type": "execute_result"
    }
   ],
   "source": [
    "isri_data['corpus'] = isri_data['sc:hasSpecification'] + ' ' + isri_data['sc:hasForm'] + ' '  + isri_data['sc:contains'] + ' ' + isri_data['sc:hasCategory'] + ' '+ isri_data['pc:hasName']\n",
    "isri_data = isri_data[['isri id', 'corpus']]\n",
    "isri_data.head(1)"
   ]
  },
  {
   "cell_type": "code",
   "execution_count": 24,
   "id": "aecbf48a-8249-43a0-8a1d-3ccf70c680b3",
   "metadata": {},
   "outputs": [
    {
     "data": {
      "text/html": [
       "<div>\n",
       "<style scoped>\n",
       "    .dataframe tbody tr th:only-of-type {\n",
       "        vertical-align: middle;\n",
       "    }\n",
       "\n",
       "    .dataframe tbody tr th {\n",
       "        vertical-align: top;\n",
       "    }\n",
       "\n",
       "    .dataframe thead th {\n",
       "        text-align: right;\n",
       "    }\n",
       "</style>\n",
       "<table border=\"1\" class=\"dataframe\">\n",
       "  <thead>\n",
       "    <tr style=\"text-align: right;\">\n",
       "      <th></th>\n",
       "      <th>anamet entity</th>\n",
       "      <th>corpus</th>\n",
       "    </tr>\n",
       "  </thead>\n",
       "  <tbody>\n",
       "    <tr>\n",
       "      <th>28</th>\n",
       "      <td>sc:ANAMET_465</td>\n",
       "      <td>copper scrap millberry cables strip non ferrous</td>\n",
       "    </tr>\n",
       "  </tbody>\n",
       "</table>\n",
       "</div>"
      ],
      "text/plain": [
       "    anamet entity                                           corpus\n",
       "28  sc:ANAMET_465  copper scrap millberry cables strip non ferrous"
      ]
     },
     "execution_count": 24,
     "metadata": {},
     "output_type": "execute_result"
    }
   ],
   "source": [
    "anamet_data['corpus'] = anamet_data['sc:description'] + ' ' + anamet_data['sc:hasCategory']\n",
    "anamet_data = anamet_data[['anamet entity', 'corpus']]\n",
    "anamet_data.head(1)"
   ]
  },
  {
   "cell_type": "code",
   "execution_count": 25,
   "id": "0372ab2f",
   "metadata": {},
   "outputs": [],
   "source": [
    "isri_data.rename(columns = {'isri id':'scrap_type'}, inplace = True)\n",
    "anamet_data.rename(columns= {'anamet entity':'scrap_type'}, inplace = True)"
   ]
  },
  {
   "cell_type": "markdown",
   "id": "e85dad4b",
   "metadata": {},
   "source": [
    "Concat the dfs"
   ]
  },
  {
   "cell_type": "code",
   "execution_count": 26,
   "id": "aee66fdd",
   "metadata": {},
   "outputs": [
    {
     "data": {
      "text/html": [
       "<div>\n",
       "<style scoped>\n",
       "    .dataframe tbody tr th:only-of-type {\n",
       "        vertical-align: middle;\n",
       "    }\n",
       "\n",
       "    .dataframe tbody tr th {\n",
       "        vertical-align: top;\n",
       "    }\n",
       "\n",
       "    .dataframe thead th {\n",
       "        text-align: right;\n",
       "    }\n",
       "</style>\n",
       "<table border=\"1\" class=\"dataframe\">\n",
       "  <thead>\n",
       "    <tr style=\"text-align: right;\">\n",
       "      <th></th>\n",
       "      <th>scrap_type</th>\n",
       "      <th>corpus</th>\n",
       "    </tr>\n",
       "  </thead>\n",
       "  <tbody>\n",
       "    <tr>\n",
       "      <th>0</th>\n",
       "      <td>sc:ISRI_0</td>\n",
       "      <td>bare uncoated unalloyed wire copper nonferrous...</td>\n",
       "    </tr>\n",
       "    <tr>\n",
       "      <th>1</th>\n",
       "      <td>sc:ISRI_1</td>\n",
       "      <td>clean untinned uncoated unalloyed wire cable c...</td>\n",
       "    </tr>\n",
       "    <tr>\n",
       "      <th>2</th>\n",
       "      <td>sc:ISRI_2</td>\n",
       "      <td>unalloyed miscellaneous wire copper nonferrous...</td>\n",
       "    </tr>\n",
       "    <tr>\n",
       "      <th>3</th>\n",
       "      <td>sc:ISRI_3</td>\n",
       "      <td>clean unalloyed uncoated clippings punchings b...</td>\n",
       "    </tr>\n",
       "    <tr>\n",
       "      <th>4</th>\n",
       "      <td>sc:ISRI_4</td>\n",
       "      <td>unalloyed miscellaneous scrap copper nonferrou...</td>\n",
       "    </tr>\n",
       "    <tr>\n",
       "      <th>...</th>\n",
       "      <td>...</td>\n",
       "      <td>...</td>\n",
       "    </tr>\n",
       "    <tr>\n",
       "      <th>317</th>\n",
       "      <td>sc:ANAMET_684</td>\n",
       "      <td>lead scrap e non ferrous</td>\n",
       "    </tr>\n",
       "    <tr>\n",
       "      <th>318</th>\n",
       "      <td>sc:ANAMET_685</td>\n",
       "      <td>electric motors shredded weee non ferrous</td>\n",
       "    </tr>\n",
       "    <tr>\n",
       "      <th>319</th>\n",
       "      <td>sc:ANAMET_686</td>\n",
       "      <td>black plastic scrap weee e non ferrous</td>\n",
       "    </tr>\n",
       "    <tr>\n",
       "      <th>320</th>\n",
       "      <td>sc:ANAMET_687</td>\n",
       "      <td>scrap plexiglass e non ferrous</td>\n",
       "    </tr>\n",
       "    <tr>\n",
       "      <th>321</th>\n",
       "      <td>sc:ANAMET_688</td>\n",
       "      <td>mixed plastic scrap weee e non ferrous</td>\n",
       "    </tr>\n",
       "  </tbody>\n",
       "</table>\n",
       "<p>458 rows × 2 columns</p>\n",
       "</div>"
      ],
      "text/plain": [
       "        scrap_type                                             corpus\n",
       "0        sc:ISRI_0  bare uncoated unalloyed wire copper nonferrous...\n",
       "1        sc:ISRI_1  clean untinned uncoated unalloyed wire cable c...\n",
       "2        sc:ISRI_2  unalloyed miscellaneous wire copper nonferrous...\n",
       "3        sc:ISRI_3  clean unalloyed uncoated clippings punchings b...\n",
       "4        sc:ISRI_4  unalloyed miscellaneous scrap copper nonferrou...\n",
       "..             ...                                                ...\n",
       "317  sc:ANAMET_684                           lead scrap e non ferrous\n",
       "318  sc:ANAMET_685          electric motors shredded weee non ferrous\n",
       "319  sc:ANAMET_686             black plastic scrap weee e non ferrous\n",
       "320  sc:ANAMET_687                     scrap plexiglass e non ferrous\n",
       "321  sc:ANAMET_688             mixed plastic scrap weee e non ferrous\n",
       "\n",
       "[458 rows x 2 columns]"
      ]
     },
     "execution_count": 26,
     "metadata": {},
     "output_type": "execute_result"
    }
   ],
   "source": [
    "df = pd.concat([isri_data, anamet_data], axis=0)\n",
    "df"
   ]
  },
  {
   "cell_type": "code",
   "execution_count": 27,
   "id": "8e49b176-fb35-4195-81b7-77f1469dd642",
   "metadata": {},
   "outputs": [
    {
     "name": "stdout",
     "output_type": "stream",
     "text": [
      "244\n",
      "214\n",
      "458\n"
     ]
    }
   ],
   "source": [
    "print( isri_data['scrap_type'].nunique() )\n",
    "print( anamet_data['scrap_type'].nunique() )\n",
    "print( df['scrap_type'].nunique() )"
   ]
  },
  {
   "cell_type": "markdown",
   "id": "f223fa09-59b4-4959-a120-93c29a4e835c",
   "metadata": {},
   "source": [
    "Every row is a different scrap type."
   ]
  },
  {
   "cell_type": "markdown",
   "id": "b1112140",
   "metadata": {},
   "source": [
    "### Create a _validation set_"
   ]
  },
  {
   "cell_type": "markdown",
   "id": "0794de8f",
   "metadata": {},
   "source": [
    "Keep some (~5) examples as validation set"
   ]
  },
  {
   "cell_type": "code",
   "execution_count": 28,
   "id": "adaa452f",
   "metadata": {},
   "outputs": [
    {
     "data": {
      "text/html": [
       "<div>\n",
       "<style scoped>\n",
       "    .dataframe tbody tr th:only-of-type {\n",
       "        vertical-align: middle;\n",
       "    }\n",
       "\n",
       "    .dataframe tbody tr th {\n",
       "        vertical-align: top;\n",
       "    }\n",
       "\n",
       "    .dataframe thead th {\n",
       "        text-align: right;\n",
       "    }\n",
       "</style>\n",
       "<table border=\"1\" class=\"dataframe\">\n",
       "  <thead>\n",
       "    <tr style=\"text-align: right;\">\n",
       "      <th></th>\n",
       "      <th>scrap_type</th>\n",
       "      <th>corpus</th>\n",
       "    </tr>\n",
       "  </thead>\n",
       "  <tbody>\n",
       "    <tr>\n",
       "      <th>10</th>\n",
       "      <td>sc:ISRI_10</td>\n",
       "      <td>various types insulation sold sample recovery ...</td>\n",
       "    </tr>\n",
       "    <tr>\n",
       "      <th>100</th>\n",
       "      <td>sc:ISRI_100</td>\n",
       "      <td>clean old used foreign attachments extraneous ...</td>\n",
       "    </tr>\n",
       "    <tr>\n",
       "      <th>120</th>\n",
       "      <td>sc:ISRI_120</td>\n",
       "      <td>lead covered copper cable cable lead copper no...</td>\n",
       "    </tr>\n",
       "    <tr>\n",
       "      <th>200</th>\n",
       "      <td>sc:ISRI_200</td>\n",
       "      <td>material suitable acceptable consumer containi...</td>\n",
       "    </tr>\n",
       "    <tr>\n",
       "      <th>118</th>\n",
       "      <td>sc:ANAMET_510</td>\n",
       "      <td>brass scrap ms non ferrous</td>\n",
       "    </tr>\n",
       "    <tr>\n",
       "      <th>175</th>\n",
       "      <td>sc:ANAMET_542</td>\n",
       "      <td>scrap tlb pe without process non ferrous</td>\n",
       "    </tr>\n",
       "  </tbody>\n",
       "</table>\n",
       "</div>"
      ],
      "text/plain": [
       "        scrap_type                                             corpus\n",
       "10      sc:ISRI_10  various types insulation sold sample recovery ...\n",
       "100    sc:ISRI_100  clean old used foreign attachments extraneous ...\n",
       "120    sc:ISRI_120  lead covered copper cable cable lead copper no...\n",
       "200    sc:ISRI_200  material suitable acceptable consumer containi...\n",
       "118  sc:ANAMET_510                         brass scrap ms non ferrous\n",
       "175  sc:ANAMET_542           scrap tlb pe without process non ferrous"
      ]
     },
     "execution_count": 28,
     "metadata": {},
     "output_type": "execute_result"
    }
   ],
   "source": [
    "index_test = [10, 100, 120, 200, 289, 320]\n",
    "\n",
    "df_val = df.iloc[index_test]\n",
    "\n",
    "df.drop(index=index_test, inplace=True)\n",
    "\n",
    "df_val"
   ]
  },
  {
   "cell_type": "markdown",
   "id": "e2c84ffd-70d2-4342-a893-47e7f1945c7c",
   "metadata": {},
   "source": [
    "### Vectorize `corpus` using TF-IDF"
   ]
  },
  {
   "cell_type": "code",
   "execution_count": 29,
   "id": "4f4c8abe-5c8c-4d70-ba92-5fd575ef6c68",
   "metadata": {},
   "outputs": [
    {
     "data": {
      "text/plain": [
       "<449x35 sparse matrix of type '<class 'numpy.float64'>'\n",
       "\twith 2381 stored elements in Compressed Sparse Row format>"
      ]
     },
     "execution_count": 29,
     "metadata": {},
     "output_type": "execute_result"
    }
   ],
   "source": [
    "vectorizer = TfidfVectorizer(min_df=25, max_df=.85)\n",
    "\n",
    "X = vectorizer.fit_transform(df['corpus'])                             \n",
    "X"
   ]
  },
  {
   "cell_type": "markdown",
   "id": "696d2192-edf9-474d-9728-f50a8bf05781",
   "metadata": {},
   "source": [
    "### Elbow method - Optimal k"
   ]
  },
  {
   "cell_type": "code",
   "execution_count": 30,
   "id": "e2d8025c-88db-44ef-a5a0-f596a1e8a95a",
   "metadata": {},
   "outputs": [
    {
     "data": {
      "image/png": "[encoded data removed]",
      "text/plain": [
       "<Figure size 800x550 with 1 Axes>"
      ]
     },
     "metadata": {},
     "output_type": "display_data"
    },
    {
     "data": {
      "text/html": [
       "<style>#sk-container-id-1 {color: black;background-color: white;}#sk-container-id-1 pre{padding: 0;}#sk-container-id-1 div.sk-toggleable {background-color: white;}#sk-container-id-1 label.sk-toggleable__label {cursor: pointer;display: block;width: 100%;margin-bottom: 0;padding: 0.3em;box-sizing: border-box;text-align: center;}#sk-container-id-1 label.sk-toggleable__label-arrow:before {content: \"▸\";float: left;margin-right: 0.25em;color: #696969;}#sk-container-id-1 label.sk-toggleable__label-arrow:hover:before {color: black;}#sk-container-id-1 div.sk-estimator:hover label.sk-toggleable__label-arrow:before {color: black;}#sk-container-id-1 div.sk-toggleable__content {max-height: 0;max-width: 0;overflow: hidden;text-align: left;background-color: #f0f8ff;}#sk-container-id-1 div.sk-toggleable__content pre {margin: 0.2em;color: black;border-radius: 0.25em;background-color: #f0f8ff;}#sk-container-id-1 input.sk-toggleable__control:checked~div.sk-toggleable__content {max-height: 200px;max-width: 100%;overflow: auto;}#sk-container-id-1 input.sk-toggleable__control:checked~label.sk-toggleable__label-arrow:before {content: \"▾\";}#sk-container-id-1 div.sk-estimator input.sk-toggleable__control:checked~label.sk-toggleable__label {background-color: #d4ebff;}#sk-container-id-1 div.sk-label input.sk-toggleable__control:checked~label.sk-toggleable__label {background-color: #d4ebff;}#sk-container-id-1 input.sk-hidden--visually {border: 0;clip: rect(1px 1px 1px 1px);clip: rect(1px, 1px, 1px, 1px);height: 1px;margin: -1px;overflow: hidden;padding: 0;position: absolute;width: 1px;}#sk-container-id-1 div.sk-estimator {font-family: monospace;background-color: #f0f8ff;border: 1px dotted black;border-radius: 0.25em;box-sizing: border-box;margin-bottom: 0.5em;}#sk-container-id-1 div.sk-estimator:hover {background-color: #d4ebff;}#sk-container-id-1 div.sk-parallel-item::after {content: \"\";width: 100%;border-bottom: 1px solid gray;flex-grow: 1;}#sk-container-id-1 div.sk-label:hover label.sk-toggleable__label {background-color: #d4ebff;}#sk-container-id-1 div.sk-serial::before {content: \"\";position: absolute;border-left: 1px solid gray;box-sizing: border-box;top: 0;bottom: 0;left: 50%;z-index: 0;}#sk-container-id-1 div.sk-serial {display: flex;flex-direction: column;align-items: center;background-color: white;padding-right: 0.2em;padding-left: 0.2em;position: relative;}#sk-container-id-1 div.sk-item {position: relative;z-index: 1;}#sk-container-id-1 div.sk-parallel {display: flex;align-items: stretch;justify-content: center;background-color: white;position: relative;}#sk-container-id-1 div.sk-item::before, #sk-container-id-1 div.sk-parallel-item::before {content: \"\";position: absolute;border-left: 1px solid gray;box-sizing: border-box;top: 0;bottom: 0;left: 50%;z-index: -1;}#sk-container-id-1 div.sk-parallel-item {display: flex;flex-direction: column;z-index: 1;position: relative;background-color: white;}#sk-container-id-1 div.sk-parallel-item:first-child::after {align-self: flex-end;width: 50%;}#sk-container-id-1 div.sk-parallel-item:last-child::after {align-self: flex-start;width: 50%;}#sk-container-id-1 div.sk-parallel-item:only-child::after {width: 0;}#sk-container-id-1 div.sk-dashed-wrapped {border: 1px dashed gray;margin: 0 0.4em 0.5em 0.4em;box-sizing: border-box;padding-bottom: 0.4em;background-color: white;}#sk-container-id-1 div.sk-label label {font-family: monospace;font-weight: bold;display: inline-block;line-height: 1.2em;}#sk-container-id-1 div.sk-label-container {text-align: center;}#sk-container-id-1 div.sk-container {/* jupyter's `normalize.less` sets `[hidden] { display: none; }` but bootstrap.min.css set `[hidden] { display: none !important; }` so we also need the `!important` here to be able to override the default hidden behavior on the sphinx rendered scikit-learn.org. See: https://github.com/scikit-learn/scikit-learn/issues/21755 */display: inline-block !important;position: relative;}#sk-container-id-1 div.sk-text-repr-fallback {display: none;}</style><div id=\"sk-container-id-1\" class=\"sk-top-container\"><div class=\"sk-text-repr-fallback\"><pre>KElbowVisualizer(ax=&lt;AxesSubplot: title={&#x27;center&#x27;: &#x27;Distortion Score Elbow for KMeans Clustering&#x27;}, xlabel=&#x27;k&#x27;, ylabel=&#x27;distortion score&#x27;&gt;,\n",
       "                 estimator=KMeans(n_clusters=14, random_state=1), k=(2, 15),\n",
       "                 timings=False)</pre><b>In a Jupyter environment, please rerun this cell to show the HTML representation or trust the notebook. <br />On GitHub, the HTML representation is unable to render, please try loading this page with nbviewer.org.</b></div><div class=\"sk-container\" hidden><div class=\"sk-item sk-dashed-wrapped\"><div class=\"sk-label-container\"><div class=\"sk-label sk-toggleable\"><input class=\"sk-toggleable__control sk-hidden--visually\" id=\"sk-estimator-id-1\" type=\"checkbox\" ><label for=\"sk-estimator-id-1\" class=\"sk-toggleable__label sk-toggleable__label-arrow\">KElbowVisualizer</label><div class=\"sk-toggleable__content\"><pre>KElbowVisualizer(ax=&lt;AxesSubplot: title={&#x27;center&#x27;: &#x27;Distortion Score Elbow for KMeans Clustering&#x27;}, xlabel=&#x27;k&#x27;, ylabel=&#x27;distortion score&#x27;&gt;,\n",
       "                 estimator=KMeans(n_clusters=14, random_state=1), k=(2, 15),\n",
       "                 timings=False)</pre></div></div></div><div class=\"sk-parallel\"><div class=\"sk-parallel-item\"><div class=\"sk-item\"><div class=\"sk-label-container\"><div class=\"sk-label sk-toggleable\"><input class=\"sk-toggleable__control sk-hidden--visually\" id=\"sk-estimator-id-2\" type=\"checkbox\" ><label for=\"sk-estimator-id-2\" class=\"sk-toggleable__label sk-toggleable__label-arrow\">estimator: KMeans</label><div class=\"sk-toggleable__content\"><pre>KMeans(n_clusters=14, random_state=1)</pre></div></div></div><div class=\"sk-serial\"><div class=\"sk-item\"><div class=\"sk-estimator sk-toggleable\"><input class=\"sk-toggleable__control sk-hidden--visually\" id=\"sk-estimator-id-3\" type=\"checkbox\" ><label for=\"sk-estimator-id-3\" class=\"sk-toggleable__label sk-toggleable__label-arrow\">KMeans</label><div class=\"sk-toggleable__content\"><pre>KMeans(n_clusters=14, random_state=1)</pre></div></div></div></div></div></div></div></div></div></div>"
      ],
      "text/plain": [
       "KElbowVisualizer(ax=<AxesSubplot: title={'center': 'Distortion Score Elbow for KMeans Clustering'}, xlabel='k', ylabel='distortion score'>,\n",
       "                 estimator=KMeans(n_clusters=14, random_state=1), k=(2, 15),\n",
       "                 timings=False)"
      ]
     },
     "execution_count": 30,
     "metadata": {},
     "output_type": "execute_result"
    }
   ],
   "source": [
    "from yellowbrick.cluster.elbow import kelbow_visualizer\n",
    "\n",
    "kelbow_visualizer(KMeans(random_state=1),\n",
    "                  np.asarray(X.todense()),\n",
    "                  k=(2, 15),\n",
    "                  timings=False)"
   ]
  },
  {
   "cell_type": "markdown",
   "id": "9d50f2eb",
   "metadata": {},
   "source": [
    "We could also use k=4 "
   ]
  },
  {
   "cell_type": "code",
   "execution_count": 31,
   "id": "72a52a40-5af0-4ab6-9f84-95a7a0eb1104",
   "metadata": {},
   "outputs": [],
   "source": [
    "from sklearn.cluster import KMeans\n",
    "\n",
    "kmeans = KMeans(n_clusters=7, random_state=42)\n",
    "kmeans.fit(X)\n",
    "clusters = kmeans.labels_"
   ]
  },
  {
   "cell_type": "code",
   "execution_count": 32,
   "id": "853f5b2d-d466-4417-953b-584345354882",
   "metadata": {},
   "outputs": [
    {
     "name": "stdout",
     "output_type": "stream",
     "text": [
      "\n",
      "Cluster 0\n",
      "contain,clean,brass,copper,scrap,aluminum,ferrous,non,isri,per\n",
      "\n",
      "Cluster 1\n",
      "may,ferrous,electric,clean,zinc,lead,scrap,grades,cast,iron\n",
      "\n",
      "Cluster 2\n",
      "furnace,casting,non,iron,wire,percent,stainless,ferrous,scrap,steel\n",
      "\n",
      "Cluster 3\n",
      "furnace,grades,include,copper,mixed,scrap,electric,ferrous,non,weee\n",
      "\n",
      "Cluster 4\n",
      "free,wire,new,material,clean,ferrous,nonferrous,non,scrap,aluminum\n",
      "\n",
      "Cluster 5\n",
      "wire,clean,solids,copper,scrap,metals,brass,nickel,red,nonferrous\n",
      "\n",
      "Cluster 6\n",
      "new,material,zinc,mixed,lead,brass,copper,scrap,ferrous,non\n",
      "None\n"
     ]
    },
    {
     "data": {
      "image/png": "[encoded data removed]",
      "text/plain": [
       "<Figure size 1200x700 with 1 Axes>"
      ]
     },
     "metadata": {},
     "output_type": "display_data"
    }
   ],
   "source": [
    "from sklearn.decomposition import PCA\n",
    "\n",
    "# initialize PCA with 2 components\n",
    "pca = PCA(n_components=2, random_state=42)\n",
    "# pass our X to the pca and store the reduced vectors into pca_vecs\n",
    "pca_vecs = pca.fit_transform(X.toarray())\n",
    "# save our two dimensions into x0 and x1\n",
    "x0 = pca_vecs[:, 0]\n",
    "x1 = pca_vecs[:, 1]\n",
    "\n",
    "df['cluster'] = clusters\n",
    "df['x0'] = x0\n",
    "df['x1'] = x1\n",
    "\n",
    "def get_top_keywords(n_terms):\n",
    "    \"\"\"This function returns the keywords for each centroid of the KMeans\"\"\"\n",
    "    df = pd.DataFrame(X.todense()).groupby(clusters).mean() # groups the TF-IDF vector by cluster\n",
    "    terms = vectorizer.get_feature_names_out() # access tf-idf terms\n",
    "    for i,r in df.iterrows():\n",
    "        print('\\nCluster {}'.format(i))\n",
    "        print(','.join([terms[t] for t in np.argsort(r)[-n_terms:]])) # for each row of the dataframe, find the n terms that have the highest tf idf score\n",
    "            \n",
    "print(get_top_keywords(10))\n",
    "\n",
    "plt.figure(figsize=(12, 7))\n",
    "# set a title\n",
    "plt.title(\"TF-IDF + KMeans\", fontdict={\"fontsize\": 18})\n",
    "# set axes names\n",
    "plt.xlabel(\"X0\", fontdict={\"fontsize\": 16})\n",
    "plt.ylabel(\"X1\", fontdict={\"fontsize\": 16})\n",
    "# create scatter plot with seaborn, where hue is the class used to group the data\n",
    "sns.scatterplot(data=df, x='x0', y='x1', hue='cluster', palette=\"coolwarm\")\n",
    "plt.show()"
   ]
  },
  {
   "cell_type": "code",
   "execution_count": 33,
   "id": "82b7eee9-1288-4156-b84b-3eb2c39501d5",
   "metadata": {},
   "outputs": [
    {
     "data": {
      "image/png": "[encoded data removed]",
      "text/plain": [
       "<Figure size 800x550 with 2 Axes>"
      ]
     },
     "metadata": {},
     "output_type": "display_data"
    },
    {
     "data": {
      "text/html": [
       "<style>#sk-container-id-2 {color: black;background-color: white;}#sk-container-id-2 pre{padding: 0;}#sk-container-id-2 div.sk-toggleable {background-color: white;}#sk-container-id-2 label.sk-toggleable__label {cursor: pointer;display: block;width: 100%;margin-bottom: 0;padding: 0.3em;box-sizing: border-box;text-align: center;}#sk-container-id-2 label.sk-toggleable__label-arrow:before {content: \"▸\";float: left;margin-right: 0.25em;color: #696969;}#sk-container-id-2 label.sk-toggleable__label-arrow:hover:before {color: black;}#sk-container-id-2 div.sk-estimator:hover label.sk-toggleable__label-arrow:before {color: black;}#sk-container-id-2 div.sk-toggleable__content {max-height: 0;max-width: 0;overflow: hidden;text-align: left;background-color: #f0f8ff;}#sk-container-id-2 div.sk-toggleable__content pre {margin: 0.2em;color: black;border-radius: 0.25em;background-color: #f0f8ff;}#sk-container-id-2 input.sk-toggleable__control:checked~div.sk-toggleable__content {max-height: 200px;max-width: 100%;overflow: auto;}#sk-container-id-2 input.sk-toggleable__control:checked~label.sk-toggleable__label-arrow:before {content: \"▾\";}#sk-container-id-2 div.sk-estimator input.sk-toggleable__control:checked~label.sk-toggleable__label {background-color: #d4ebff;}#sk-container-id-2 div.sk-label input.sk-toggleable__control:checked~label.sk-toggleable__label {background-color: #d4ebff;}#sk-container-id-2 input.sk-hidden--visually {border: 0;clip: rect(1px 1px 1px 1px);clip: rect(1px, 1px, 1px, 1px);height: 1px;margin: -1px;overflow: hidden;padding: 0;position: absolute;width: 1px;}#sk-container-id-2 div.sk-estimator {font-family: monospace;background-color: #f0f8ff;border: 1px dotted black;border-radius: 0.25em;box-sizing: border-box;margin-bottom: 0.5em;}#sk-container-id-2 div.sk-estimator:hover {background-color: #d4ebff;}#sk-container-id-2 div.sk-parallel-item::after {content: \"\";width: 100%;border-bottom: 1px solid gray;flex-grow: 1;}#sk-container-id-2 div.sk-label:hover label.sk-toggleable__label {background-color: #d4ebff;}#sk-container-id-2 div.sk-serial::before {content: \"\";position: absolute;border-left: 1px solid gray;box-sizing: border-box;top: 0;bottom: 0;left: 50%;z-index: 0;}#sk-container-id-2 div.sk-serial {display: flex;flex-direction: column;align-items: center;background-color: white;padding-right: 0.2em;padding-left: 0.2em;position: relative;}#sk-container-id-2 div.sk-item {position: relative;z-index: 1;}#sk-container-id-2 div.sk-parallel {display: flex;align-items: stretch;justify-content: center;background-color: white;position: relative;}#sk-container-id-2 div.sk-item::before, #sk-container-id-2 div.sk-parallel-item::before {content: \"\";position: absolute;border-left: 1px solid gray;box-sizing: border-box;top: 0;bottom: 0;left: 50%;z-index: -1;}#sk-container-id-2 div.sk-parallel-item {display: flex;flex-direction: column;z-index: 1;position: relative;background-color: white;}#sk-container-id-2 div.sk-parallel-item:first-child::after {align-self: flex-end;width: 50%;}#sk-container-id-2 div.sk-parallel-item:last-child::after {align-self: flex-start;width: 50%;}#sk-container-id-2 div.sk-parallel-item:only-child::after {width: 0;}#sk-container-id-2 div.sk-dashed-wrapped {border: 1px dashed gray;margin: 0 0.4em 0.5em 0.4em;box-sizing: border-box;padding-bottom: 0.4em;background-color: white;}#sk-container-id-2 div.sk-label label {font-family: monospace;font-weight: bold;display: inline-block;line-height: 1.2em;}#sk-container-id-2 div.sk-label-container {text-align: center;}#sk-container-id-2 div.sk-container {/* jupyter's `normalize.less` sets `[hidden] { display: none; }` but bootstrap.min.css set `[hidden] { display: none !important; }` so we also need the `!important` here to be able to override the default hidden behavior on the sphinx rendered scikit-learn.org. See: https://github.com/scikit-learn/scikit-learn/issues/21755 */display: inline-block !important;position: relative;}#sk-container-id-2 div.sk-text-repr-fallback {display: none;}</style><div id=\"sk-container-id-2\" class=\"sk-top-container\"><div class=\"sk-text-repr-fallback\"><pre>InterclusterDistance(ax=&lt;AxesSubplot: title={&#x27;center&#x27;: &#x27;KMeans Intercluster Distance Map (via MDS)&#x27;}, xlabel=&#x27;PC2&#x27;, ylabel=&#x27;PC1&#x27;&gt;,\n",
       "                     estimator=KMeans(n_clusters=7, random_state=42),\n",
       "                     random_state=12)</pre><b>In a Jupyter environment, please rerun this cell to show the HTML representation or trust the notebook. <br />On GitHub, the HTML representation is unable to render, please try loading this page with nbviewer.org.</b></div><div class=\"sk-container\" hidden><div class=\"sk-item sk-dashed-wrapped\"><div class=\"sk-label-container\"><div class=\"sk-label sk-toggleable\"><input class=\"sk-toggleable__control sk-hidden--visually\" id=\"sk-estimator-id-4\" type=\"checkbox\" ><label for=\"sk-estimator-id-4\" class=\"sk-toggleable__label sk-toggleable__label-arrow\">InterclusterDistance</label><div class=\"sk-toggleable__content\"><pre>InterclusterDistance(ax=&lt;AxesSubplot: title={&#x27;center&#x27;: &#x27;KMeans Intercluster Distance Map (via MDS)&#x27;}, xlabel=&#x27;PC2&#x27;, ylabel=&#x27;PC1&#x27;&gt;,\n",
       "                     estimator=KMeans(n_clusters=7, random_state=42),\n",
       "                     random_state=12)</pre></div></div></div><div class=\"sk-parallel\"><div class=\"sk-parallel-item\"><div class=\"sk-item\"><div class=\"sk-label-container\"><div class=\"sk-label sk-toggleable\"><input class=\"sk-toggleable__control sk-hidden--visually\" id=\"sk-estimator-id-5\" type=\"checkbox\" ><label for=\"sk-estimator-id-5\" class=\"sk-toggleable__label sk-toggleable__label-arrow\">estimator: KMeans</label><div class=\"sk-toggleable__content\"><pre>KMeans(n_clusters=7, random_state=42)</pre></div></div></div><div class=\"sk-serial\"><div class=\"sk-item\"><div class=\"sk-estimator sk-toggleable\"><input class=\"sk-toggleable__control sk-hidden--visually\" id=\"sk-estimator-id-6\" type=\"checkbox\" ><label for=\"sk-estimator-id-6\" class=\"sk-toggleable__label sk-toggleable__label-arrow\">KMeans</label><div class=\"sk-toggleable__content\"><pre>KMeans(n_clusters=7, random_state=42)</pre></div></div></div></div></div></div></div></div></div></div>"
      ],
      "text/plain": [
       "InterclusterDistance(ax=<AxesSubplot: title={'center': 'KMeans Intercluster Distance Map (via MDS)'}, xlabel='PC2', ylabel='PC1'>,\n",
       "                     estimator=KMeans(n_clusters=7, random_state=42),\n",
       "                     random_state=12)"
      ]
     },
     "execution_count": 33,
     "metadata": {},
     "output_type": "execute_result"
    }
   ],
   "source": [
    "from yellowbrick.cluster import intercluster_distance\n",
    "\n",
    "intercluster_distance(kmeans, \n",
    "                      X.todense(), \n",
    "                      embedding='mds', \n",
    "                      random_state=12) # other option for embedding 'tsne'"
   ]
  },
  {
   "cell_type": "code",
   "execution_count": 34,
   "id": "2c7d6108-0e4f-4b9f-b2ee-f1d2ea37090e",
   "metadata": {},
   "outputs": [
    {
     "data": {
      "text/html": [
       "<div>\n",
       "<style scoped>\n",
       "    .dataframe tbody tr th:only-of-type {\n",
       "        vertical-align: middle;\n",
       "    }\n",
       "\n",
       "    .dataframe tbody tr th {\n",
       "        vertical-align: top;\n",
       "    }\n",
       "\n",
       "    .dataframe thead th {\n",
       "        text-align: right;\n",
       "    }\n",
       "</style>\n",
       "<table border=\"1\" class=\"dataframe\">\n",
       "  <thead>\n",
       "    <tr style=\"text-align: right;\">\n",
       "      <th></th>\n",
       "      <th>scrap_type</th>\n",
       "      <th>corpus</th>\n",
       "      <th>cluster</th>\n",
       "    </tr>\n",
       "  </thead>\n",
       "  <tbody>\n",
       "    <tr>\n",
       "      <th>0</th>\n",
       "      <td>sc:ISRI_0</td>\n",
       "      <td>bare uncoated unalloyed wire copper nonferrous...</td>\n",
       "      <td>5</td>\n",
       "    </tr>\n",
       "    <tr>\n",
       "      <th>1</th>\n",
       "      <td>sc:ISRI_1</td>\n",
       "      <td>clean untinned uncoated unalloyed wire cable c...</td>\n",
       "      <td>5</td>\n",
       "    </tr>\n",
       "    <tr>\n",
       "      <th>2</th>\n",
       "      <td>sc:ISRI_2</td>\n",
       "      <td>unalloyed miscellaneous wire copper nonferrous...</td>\n",
       "      <td>5</td>\n",
       "    </tr>\n",
       "    <tr>\n",
       "      <th>3</th>\n",
       "      <td>sc:ISRI_3</td>\n",
       "      <td>clean unalloyed uncoated clippings punchings b...</td>\n",
       "      <td>5</td>\n",
       "    </tr>\n",
       "    <tr>\n",
       "      <th>4</th>\n",
       "      <td>sc:ISRI_4</td>\n",
       "      <td>unalloyed miscellaneous scrap copper nonferrou...</td>\n",
       "      <td>5</td>\n",
       "    </tr>\n",
       "    <tr>\n",
       "      <th>...</th>\n",
       "      <td>...</td>\n",
       "      <td>...</td>\n",
       "      <td>...</td>\n",
       "    </tr>\n",
       "    <tr>\n",
       "      <th>316</th>\n",
       "      <td>sc:ANAMET_683</td>\n",
       "      <td>zinc scrap zamak e non ferrous</td>\n",
       "      <td>6</td>\n",
       "    </tr>\n",
       "    <tr>\n",
       "      <th>317</th>\n",
       "      <td>sc:ANAMET_684</td>\n",
       "      <td>lead scrap e non ferrous</td>\n",
       "      <td>6</td>\n",
       "    </tr>\n",
       "    <tr>\n",
       "      <th>318</th>\n",
       "      <td>sc:ANAMET_685</td>\n",
       "      <td>electric motors shredded weee non ferrous</td>\n",
       "      <td>3</td>\n",
       "    </tr>\n",
       "    <tr>\n",
       "      <th>319</th>\n",
       "      <td>sc:ANAMET_686</td>\n",
       "      <td>black plastic scrap weee e non ferrous</td>\n",
       "      <td>3</td>\n",
       "    </tr>\n",
       "    <tr>\n",
       "      <th>321</th>\n",
       "      <td>sc:ANAMET_688</td>\n",
       "      <td>mixed plastic scrap weee e non ferrous</td>\n",
       "      <td>3</td>\n",
       "    </tr>\n",
       "  </tbody>\n",
       "</table>\n",
       "<p>449 rows × 3 columns</p>\n",
       "</div>"
      ],
      "text/plain": [
       "        scrap_type                                             corpus  cluster\n",
       "0        sc:ISRI_0  bare uncoated unalloyed wire copper nonferrous...        5\n",
       "1        sc:ISRI_1  clean untinned uncoated unalloyed wire cable c...        5\n",
       "2        sc:ISRI_2  unalloyed miscellaneous wire copper nonferrous...        5\n",
       "3        sc:ISRI_3  clean unalloyed uncoated clippings punchings b...        5\n",
       "4        sc:ISRI_4  unalloyed miscellaneous scrap copper nonferrou...        5\n",
       "..             ...                                                ...      ...\n",
       "316  sc:ANAMET_683                     zinc scrap zamak e non ferrous        6\n",
       "317  sc:ANAMET_684                           lead scrap e non ferrous        6\n",
       "318  sc:ANAMET_685          electric motors shredded weee non ferrous        3\n",
       "319  sc:ANAMET_686             black plastic scrap weee e non ferrous        3\n",
       "321  sc:ANAMET_688             mixed plastic scrap weee e non ferrous        3\n",
       "\n",
       "[449 rows x 3 columns]"
      ]
     },
     "execution_count": 34,
     "metadata": {},
     "output_type": "execute_result"
    }
   ],
   "source": [
    "df[['scrap_type', 'corpus', 'cluster']]"
   ]
  },
  {
   "cell_type": "code",
   "execution_count": 35,
   "id": "a0d76d4c-478f-4c6d-af77-54f0613ecb26",
   "metadata": {},
   "outputs": [
    {
     "name": "stdout",
     "output_type": "stream",
     "text": [
      "Cluster 0 : 36\n",
      "Cluster 1 : 74\n",
      "Cluster 2 : 54\n",
      "Cluster 3 : 37\n",
      "Cluster 4 : 68\n",
      "Cluster 5 : 77\n",
      "Cluster 6 : 103\n"
     ]
    }
   ],
   "source": [
    "for cluster in range(len(df['cluster'].unique())): print(\"Cluster\", cluster, \":\", len(df[df['cluster'] == cluster]))"
   ]
  },
  {
   "cell_type": "markdown",
   "id": "d415e120-1125-4bbd-8f45-279e1df9fcec",
   "metadata": {},
   "source": [
    "# Cluster new _unseen_ scraps"
   ]
  },
  {
   "cell_type": "code",
   "execution_count": 36,
   "id": "811d20bc",
   "metadata": {},
   "outputs": [
    {
     "name": "stdout",
     "output_type": "stream",
     "text": [
      "(6, 35)\n"
     ]
    },
    {
     "name": "stderr",
     "output_type": "stream",
     "text": [
      "/tmp/ipykernel_57776/991023937.py:4: SettingWithCopyWarning: \n",
      "A value is trying to be set on a copy of a slice from a DataFrame.\n",
      "Try using .loc[row_indexer,col_indexer] = value instead\n",
      "\n",
      "See the caveats in the documentation: https://pandas.pydata.org/pandas-docs/stable/user_guide/indexing.html#returning-a-view-versus-a-copy\n",
      "  df_val['cluster'] = kmeans.predict(validation_vectors)\n"
     ]
    }
   ],
   "source": [
    "X_s = df_val['corpus']\n",
    "\n",
    "validation_vectors = vectorizer.transform(X_s)\n",
    "df_val['cluster'] = kmeans.predict(validation_vectors)\n",
    "\n",
    "print(validation_vectors.shape)"
   ]
  },
  {
   "cell_type": "code",
   "execution_count": 37,
   "id": "851f3b01",
   "metadata": {},
   "outputs": [
    {
     "data": {
      "text/html": [
       "<div>\n",
       "<style scoped>\n",
       "    .dataframe tbody tr th:only-of-type {\n",
       "        vertical-align: middle;\n",
       "    }\n",
       "\n",
       "    .dataframe tbody tr th {\n",
       "        vertical-align: top;\n",
       "    }\n",
       "\n",
       "    .dataframe thead th {\n",
       "        text-align: right;\n",
       "    }\n",
       "</style>\n",
       "<table border=\"1\" class=\"dataframe\">\n",
       "  <thead>\n",
       "    <tr style=\"text-align: right;\">\n",
       "      <th></th>\n",
       "      <th>scrap_type</th>\n",
       "      <th>corpus</th>\n",
       "      <th>cluster</th>\n",
       "    </tr>\n",
       "  </thead>\n",
       "  <tbody>\n",
       "    <tr>\n",
       "      <th>10</th>\n",
       "      <td>sc:ISRI_10</td>\n",
       "      <td>various types insulation sold sample recovery ...</td>\n",
       "      <td>5</td>\n",
       "    </tr>\n",
       "    <tr>\n",
       "      <th>100</th>\n",
       "      <td>sc:ISRI_100</td>\n",
       "      <td>clean old used foreign attachments extraneous ...</td>\n",
       "      <td>1</td>\n",
       "    </tr>\n",
       "    <tr>\n",
       "      <th>120</th>\n",
       "      <td>sc:ISRI_120</td>\n",
       "      <td>lead covered copper cable cable lead copper no...</td>\n",
       "      <td>1</td>\n",
       "    </tr>\n",
       "    <tr>\n",
       "      <th>200</th>\n",
       "      <td>sc:ISRI_200</td>\n",
       "      <td>material suitable acceptable consumer containi...</td>\n",
       "      <td>1</td>\n",
       "    </tr>\n",
       "    <tr>\n",
       "      <th>118</th>\n",
       "      <td>sc:ANAMET_510</td>\n",
       "      <td>brass scrap ms non ferrous</td>\n",
       "      <td>6</td>\n",
       "    </tr>\n",
       "    <tr>\n",
       "      <th>175</th>\n",
       "      <td>sc:ANAMET_542</td>\n",
       "      <td>scrap tlb pe without process non ferrous</td>\n",
       "      <td>6</td>\n",
       "    </tr>\n",
       "  </tbody>\n",
       "</table>\n",
       "</div>"
      ],
      "text/plain": [
       "        scrap_type                                             corpus  cluster\n",
       "10      sc:ISRI_10  various types insulation sold sample recovery ...        5\n",
       "100    sc:ISRI_100  clean old used foreign attachments extraneous ...        1\n",
       "120    sc:ISRI_120  lead covered copper cable cable lead copper no...        1\n",
       "200    sc:ISRI_200  material suitable acceptable consumer containi...        1\n",
       "118  sc:ANAMET_510                         brass scrap ms non ferrous        6\n",
       "175  sc:ANAMET_542           scrap tlb pe without process non ferrous        6"
      ]
     },
     "execution_count": 37,
     "metadata": {},
     "output_type": "execute_result"
    }
   ],
   "source": [
    "df_val"
   ]
  },
  {
   "cell_type": "code",
   "execution_count": 38,
   "id": "991ecbd3-344c-4e06-bd78-013740e64a24",
   "metadata": {},
   "outputs": [
    {
     "name": "stdout",
     "output_type": "stream",
     "text": [
      "5 \n",
      " 0.9801614675196639 \n",
      " uncoated unalloyed chopped shredded wire scrap nodules copper nonferrous scrap red metals copper wire nodules sc:ISRI_5 \n",
      "\n",
      " various types insulation sold sample recovery basis subject agreement buyer seller existence jelly wire subject agreement buyer seller wire copper nonferrous scrap red metals insulated copper wire scrap\n",
      "11 \n",
      " 0.9427611628427388 \n",
      " metal skimmed top pot molten zinc die cast metal must unsweated unfluxed shiny smooth metallic poured molds small mounds skimmings  nonferrous scrap zinc prime zinc die cast dross sc:ISRI_110 \n",
      "\n",
      " clean old used foreign attachments extraneous materials deductible die castings automotive grilles zinc nonferrous scrap zinc zinc die cast automotive grilles\n",
      "15 \n",
      " 0.8615405840612343 \n",
      " cases either plastic rubber complete including caps non lead nicad ni fe carbonaire etc acceptable whole intact lead lead nonferrous scrap lead scrap drained dry whole intact lead sc:ISRI_118 \n",
      "\n",
      " lead covered copper cable cable lead copper nonferrous scrap lead lead covered copper cable\n",
      "51 \n",
      " 0.9798771078908559 \n",
      " chargeable slab crops material suitable acceptable consumer containing percent phosphorus percent sulphur percent silicon slab crops  ferrous scrap electric furnace casting foundry grades chargeable slab crops sc:ISRI_210 \n",
      "\n",
      " material suitable acceptable consumer containing percent phosphorus sulphur percent silicon chargeable ingots ingot butts  ferrous scrap electric furnace casting foundry grades chargeable ingots ingot butts\n",
      "28 \n",
      " 1.0 \n",
      " brass scrap ms non ferrous sc:ANAMET_510 \n",
      "\n",
      " brass scrap ms non ferrous\n",
      "5 \n",
      " 1.0 \n",
      " scrap ms raw non ferrous sc:ANAMET_470 \n",
      "\n",
      " scrap tlb pe without process non ferrous\n"
     ]
    }
   ],
   "source": [
    "from sklearn.metrics.pairwise import cosine_similarity\n",
    "\n",
    "\n",
    "for idx in range(len(df_val)):\n",
    "\n",
    "\n",
    "    s = df_val['corpus'].iloc[idx]\n",
    "    c = df_val['cluster'].iloc[idx]\n",
    "\n",
    "    similarity = []\n",
    "    index = []\n",
    "    similar_string = []\n",
    "    scrap_type = []\n",
    "    similarity_df = pd.DataFrame()\n",
    "\n",
    "    df_cluster = df[df['cluster'] == c]\n",
    "\n",
    "    for row in range(len(df_cluster)):\n",
    "        s1 = df_cluster['corpus'].iloc[row]\n",
    "\n",
    "        strings = [s, s1]\n",
    "        str_sim = pd.DataFrame(data=strings)\n",
    "\n",
    "        # vectorizer_sim = TfidfVectorizer()\n",
    "        # strings_vectors = vectorizer_sim.fit_transform(str_sim[0])\n",
    "        strings_vectors = vectorizer.transform(str_sim[0])\n",
    "\n",
    "        csim = cosine_similarity(strings_vectors[0], strings_vectors[1])\n",
    "        similarity.append(csim)\n",
    "        index.append(row)\n",
    "        similar_string.append(s1)\n",
    "        scrap_type.append(df_cluster['scrap_type'].iloc[row])\n",
    "\n",
    "    similarity_df['csim'] = similarity\n",
    "    similarity_df['corpus'] = similar_string\n",
    "    similarity_df['scrap_type'] = scrap_type\n",
    "\n",
    "    similarity_df['csim'] = similarity_df['csim'].astype(float)\n",
    "    similarity_df['corpus'] = similarity_df['corpus'].astype(str)\n",
    "    similarity_df['scrap_type'] = similarity_df['scrap_type'].astype(str)\n",
    "\n",
    "    print(similarity_df['csim'].idxmax(), \"\\n\", similarity_df['csim'].max(), '\\n', similarity_df['corpus'].iloc[similarity_df['csim'].idxmax()], similarity_df['scrap_type'].iloc[similarity_df['csim'].idxmax()], '\\n\\n', s)"
   ]
  },
  {
   "cell_type": "code",
   "execution_count": 39,
   "id": "d09a8f52",
   "metadata": {},
   "outputs": [
    {
     "name": "stderr",
     "output_type": "stream",
     "text": [
      "/tmp/ipykernel_57776/1149053935.py:6: SettingWithCopyWarning: \n",
      "A value is trying to be set on a copy of a slice from a DataFrame.\n",
      "Try using .loc[row_indexer,col_indexer] = value instead\n",
      "\n",
      "See the caveats in the documentation: https://pandas.pydata.org/pandas-docs/stable/user_guide/indexing.html#returning-a-view-versus-a-copy\n",
      "  df_val['x0'] = x0\n",
      "/tmp/ipykernel_57776/1149053935.py:7: SettingWithCopyWarning: \n",
      "A value is trying to be set on a copy of a slice from a DataFrame.\n",
      "Try using .loc[row_indexer,col_indexer] = value instead\n",
      "\n",
      "See the caveats in the documentation: https://pandas.pydata.org/pandas-docs/stable/user_guide/indexing.html#returning-a-view-versus-a-copy\n",
      "  df_val['x1'] = x1\n"
     ]
    }
   ],
   "source": [
    "pca_s_vecs = pca.transform(validation_vectors.toarray())\n",
    "\n",
    "x0 = pca_s_vecs[:, 0]\n",
    "x1 = pca_s_vecs[:, 1]\n",
    "\n",
    "df_val['x0'] = x0\n",
    "df_val['x1'] = x1"
   ]
  },
  {
   "cell_type": "code",
   "execution_count": 40,
   "id": "abaa5879",
   "metadata": {},
   "outputs": [
    {
     "name": "stdout",
     "output_type": "stream",
     "text": [
      "(4, 35)\n"
     ]
    }
   ],
   "source": [
    "s = ['Open Extinguisher with no heads | 6061 grade',\n",
    "     'Regulary purchase of galvalume dross, capacity 300-500mt/month',\n",
    "     'With no cable, plate or grit. CuSN in cable, plate or grit, separately. Not mixed. In the case of small packaged (30x30 cm) and palletized cable, ball and shot in BIG BAGS',\n",
    "     'Clean copper aluminum radiator without iron, the price may vary depending on the LME of the copper Lowest 3 months 7656€.']\n",
    "\n",
    "df_s = pd.DataFrame()\n",
    "df_s['corpus'] = s\n",
    "df_s['corpus'] = hero.clean(df_s['corpus'])\n",
    "\n",
    "X_s = df_s['corpus']\n",
    "\n",
    "validation_vectors = vectorizer.transform(X_s)\n",
    "df_s['cluster'] = kmeans.predict(validation_vectors)\n",
    "\n",
    "print(validation_vectors.shape)"
   ]
  },
  {
   "cell_type": "code",
   "execution_count": 41,
   "id": "4125f7aa",
   "metadata": {},
   "outputs": [],
   "source": [
    "pca_s_vecs = pca.transform(validation_vectors.toarray())\n",
    "\n",
    "x0 = pca_s_vecs[:, 0]\n",
    "x1 = pca_s_vecs[:, 1]\n",
    "\n",
    "df_s['x0'] = x0\n",
    "df_s['x1'] = x1"
   ]
  },
  {
   "cell_type": "code",
   "execution_count": 42,
   "id": "a25886f6",
   "metadata": {},
   "outputs": [
    {
     "data": {
      "text/html": [
       "<div>\n",
       "<style scoped>\n",
       "    .dataframe tbody tr th:only-of-type {\n",
       "        vertical-align: middle;\n",
       "    }\n",
       "\n",
       "    .dataframe tbody tr th {\n",
       "        vertical-align: top;\n",
       "    }\n",
       "\n",
       "    .dataframe thead th {\n",
       "        text-align: right;\n",
       "    }\n",
       "</style>\n",
       "<table border=\"1\" class=\"dataframe\">\n",
       "  <thead>\n",
       "    <tr style=\"text-align: right;\">\n",
       "      <th></th>\n",
       "      <th>corpus</th>\n",
       "      <th>cluster</th>\n",
       "      <th>x0</th>\n",
       "      <th>x1</th>\n",
       "    </tr>\n",
       "  </thead>\n",
       "  <tbody>\n",
       "    <tr>\n",
       "      <th>0</th>\n",
       "      <td>open extinguisher heads grade</td>\n",
       "      <td>1</td>\n",
       "      <td>-0.167801</td>\n",
       "      <td>-0.078897</td>\n",
       "    </tr>\n",
       "    <tr>\n",
       "      <th>1</th>\n",
       "      <td>regulary purchase galvalume dross capacity 500...</td>\n",
       "      <td>1</td>\n",
       "      <td>-0.167801</td>\n",
       "      <td>-0.078897</td>\n",
       "    </tr>\n",
       "    <tr>\n",
       "      <th>2</th>\n",
       "      <td>cable plate grit cusn cable plate grit separat...</td>\n",
       "      <td>1</td>\n",
       "      <td>-0.184054</td>\n",
       "      <td>-0.078671</td>\n",
       "    </tr>\n",
       "    <tr>\n",
       "      <th>3</th>\n",
       "      <td>clean copper aluminum radiator without iron pr...</td>\n",
       "      <td>1</td>\n",
       "      <td>-0.334286</td>\n",
       "      <td>0.104089</td>\n",
       "    </tr>\n",
       "  </tbody>\n",
       "</table>\n",
       "</div>"
      ],
      "text/plain": [
       "                                              corpus  cluster        x0  \\\n",
       "0                      open extinguisher heads grade        1 -0.167801   \n",
       "1  regulary purchase galvalume dross capacity 500...        1 -0.167801   \n",
       "2  cable plate grit cusn cable plate grit separat...        1 -0.184054   \n",
       "3  clean copper aluminum radiator without iron pr...        1 -0.334286   \n",
       "\n",
       "         x1  \n",
       "0 -0.078897  \n",
       "1 -0.078897  \n",
       "2 -0.078671  \n",
       "3  0.104089  "
      ]
     },
     "execution_count": 42,
     "metadata": {},
     "output_type": "execute_result"
    }
   ],
   "source": [
    "df_s"
   ]
  },
  {
   "cell_type": "code",
   "execution_count": 43,
   "id": "844d68e6",
   "metadata": {},
   "outputs": [
    {
     "name": "stdout",
     "output_type": "stream",
     "text": [
      "0 \n",
      " 0.0 \n",
      " miscellaneous old zinc base die castings without iron foreign attachments unmeltables dirt foreign attachments volatile substances rubber cork plastic grease etc deductible material containing excess iron constitute good delivery die castings zinc nonferrous scrap zinc old zinc die cast scrap sc:ISRI_98 \n",
      "\n",
      " open extinguisher heads grade\n",
      "0 \n",
      " 0.0 \n",
      " miscellaneous old zinc base die castings without iron foreign attachments unmeltables dirt foreign attachments volatile substances rubber cork plastic grease etc deductible material containing excess iron constitute good delivery die castings zinc nonferrous scrap zinc old zinc die cast scrap sc:ISRI_98 \n",
      "\n",
      " regulary purchase galvalume dross capacity 500mt month\n",
      "27 \n",
      " 0.6391561312808985 \n",
      " shall consist lead base bearing metal containing less tin  babbit nonferrous scrap mixed common babbitt sc:ISRI_157 \n",
      "\n",
      " cable plate grit cusn cable plate grit separately mixed case small packaged 30x30 cm palletized cable ball shot big bags\n",
      "33 \n",
      " 0.473630930699775 \n",
      " clean may include badly rusted corroded stock trunings borings iron wrought iron steel ferrous scrap machine shop turnings iron borings sc:ISRI_179 \n",
      "\n",
      " clean copper aluminum radiator without iron price may vary depending lme copper lowest months EUR\n"
     ]
    }
   ],
   "source": [
    "df_val = df_s.copy()\n",
    "\n",
    "for idx in range(len(df_val)):\n",
    "\n",
    "    s = df_val['corpus'].iloc[idx]\n",
    "    c = df_val['cluster'].iloc[idx]\n",
    "\n",
    "    similarity = []\n",
    "    index = []\n",
    "    similar_string = []\n",
    "    scrap_type = []\n",
    "    similarity_df = pd.DataFrame()\n",
    "\n",
    "    df_cluster = df[df['cluster'] == c]\n",
    "\n",
    "    for row in range(len(df_cluster)):\n",
    "        s1 = df_cluster['corpus'].iloc[row]\n",
    "\n",
    "        strings = [s, s1]\n",
    "        str_sim = pd.DataFrame(data=strings)\n",
    "\n",
    "        # vectorizer_sim = TfidfVectorizer()\n",
    "        # strings_vectors = vectorizer_sim.fit_transform(str_sim[0])\n",
    "        strings_vectors = vectorizer.transform(str_sim[0])\n",
    "\n",
    "        csim = cosine_similarity(strings_vectors[0], strings_vectors[1])\n",
    "        similarity.append(csim)\n",
    "        index.append(row)\n",
    "        similar_string.append(s1)\n",
    "        scrap_type.append(df_cluster['scrap_type'].iloc[row])\n",
    "\n",
    "    similarity_df['csim'] = similarity\n",
    "    similarity_df['corpus'] = similar_string\n",
    "    similarity_df['scrap_type'] = scrap_type\n",
    "\n",
    "    similarity_df['csim'] = similarity_df['csim'].astype(float)\n",
    "    similarity_df['corpus'] = similarity_df['corpus'].astype(str)\n",
    "    similarity_df['scrap_type'] = similarity_df['scrap_type'].astype(str)\n",
    "\n",
    "    print(similarity_df['csim'].idxmax(), \"\\n\", similarity_df['csim'].max(), '\\n', similarity_df['corpus'].iloc[similarity_df['csim'].idxmax()], similarity_df['scrap_type'].iloc[similarity_df['csim'].idxmax()], '\\n\\n', s)"
   ]
  },
  {
   "cell_type": "code",
   "execution_count": 52,
   "id": "4a0242e4",
   "metadata": {
    "scrolled": false
   },
   "outputs": [
    {
     "data": {
      "image/png": "[encoded data removed]",
      "text/plain": [
       "<Figure size 1200x700 with 1 Axes>"
      ]
     },
     "metadata": {},
     "output_type": "display_data"
    }
   ],
   "source": [
    "plt.figure(figsize=(12, 7))\n",
    "# set a title\n",
    "plt.title(\"TF-IDF + KMeans\", fontdict={\"fontsize\": 18})\n",
    "# set axes names\n",
    "plt.xlabel(\"PCA0\", fontdict={\"fontsize\": 16})\n",
    "plt.ylabel(\"PCA1\", fontdict={\"fontsize\": 16})\n",
    "plt.xlim(-0.5, 0.8)\n",
    "plt.ylim(-0.5, 0.8)\n",
    "# create scatter plot with seaborn, where hue is the class used to group the data\n",
    "sns.scatterplot(data=df, x='x0', y='x1', hue='cluster', palette=\"coolwarm\")\n",
    "sns.scatterplot(data=df[df['scrap_type'] == 'sc:ISRI_157'], x='x0', y='x1', color='red')\n",
    "sns.scatterplot(data=df[df['scrap_type'] == 'sc:ISRI_179'], x='x0', y='x1', color='red')\n",
    "\n",
    "sns.scatterplot(data=df_s, x='x0', y='x1', color='black')\n",
    "plt.show()"
   ]
  },
  {
   "cell_type": "code",
   "execution_count": 54,
   "id": "9ad77390",
   "metadata": {},
   "outputs": [
    {
     "data": {
      "text/html": [
       "<div>\n",
       "<style scoped>\n",
       "    .dataframe tbody tr th:only-of-type {\n",
       "        vertical-align: middle;\n",
       "    }\n",
       "\n",
       "    .dataframe tbody tr th {\n",
       "        vertical-align: top;\n",
       "    }\n",
       "\n",
       "    .dataframe thead th {\n",
       "        text-align: right;\n",
       "    }\n",
       "</style>\n",
       "<table border=\"1\" class=\"dataframe\">\n",
       "  <thead>\n",
       "    <tr style=\"text-align: right;\">\n",
       "      <th></th>\n",
       "      <th>scrap_type</th>\n",
       "      <th>corpus</th>\n",
       "      <th>cluster</th>\n",
       "      <th>x0</th>\n",
       "      <th>x1</th>\n",
       "    </tr>\n",
       "  </thead>\n",
       "  <tbody>\n",
       "    <tr>\n",
       "      <th>179</th>\n",
       "      <td>sc:ISRI_179</td>\n",
       "      <td>clean may include badly rusted corroded stock ...</td>\n",
       "      <td>1</td>\n",
       "      <td>-0.308002</td>\n",
       "      <td>-0.310283</td>\n",
       "    </tr>\n",
       "  </tbody>\n",
       "</table>\n",
       "</div>"
      ],
      "text/plain": [
       "      scrap_type                                             corpus  cluster  \\\n",
       "179  sc:ISRI_179  clean may include badly rusted corroded stock ...        1   \n",
       "\n",
       "           x0        x1  \n",
       "179 -0.308002 -0.310283  "
      ]
     },
     "execution_count": 54,
     "metadata": {},
     "output_type": "execute_result"
    }
   ],
   "source": [
    "df[df['scrap_type'] == 'sc:ISRI_179']"
   ]
  },
  {
   "cell_type": "code",
   "execution_count": 46,
   "id": "30bf93bb",
   "metadata": {},
   "outputs": [
    {
     "data": {
      "image/png": "[encoded data removed]",
      "text/plain": [
       "<Figure size 1200x700 with 1 Axes>"
      ]
     },
     "metadata": {},
     "output_type": "display_data"
    }
   ],
   "source": [
    "plt.figure(figsize=(12, 7))\n",
    "# set a title\n",
    "plt.title(\"TF-IDF + KMeans\", fontdict={\"fontsize\": 18})\n",
    "# set axes names\n",
    "plt.xlabel(\"PCA0\", fontdict={\"fontsize\": 16})\n",
    "plt.ylabel(\"PCA1\", fontdict={\"fontsize\": 16})\n",
    "plt.xlim(-0.5, 0.8)\n",
    "plt.ylim(-0.5, 0.8)\n",
    "# create scatter plot with seaborn, where hue is the class used to group the data\n",
    "sns.scatterplot(data=df_s, x='x0', y='x1', hue='cluster', palette=\"coolwarm\")\n",
    "plt.show()"
   ]
  },
  {
   "cell_type": "code",
   "execution_count": null,
   "id": "e0186436",
   "metadata": {},
   "outputs": [],
   "source": []
  }
 ],
 "metadata": {
  "kernelspec": {
   "display_name": "Python 3 (ipykernel)",
   "language": "python",
   "name": "python3"
  },
  "language_info": {
   "codemirror_mode": {
    "name": "ipython",
    "version": 3
   },
   "file_extension": ".py",
   "mimetype": "text/x-python",
   "name": "python",
   "nbconvert_exporter": "python",
   "pygments_lexer": "ipython3",
   "version": "3.9.10"
  },
  "vscode": {
   "interpreter": {
    "hash": "c6c04a7e252f45ffc2f7191e380805b6a5dd99aa68793d835f69a35c16ce4a30"
   }
  }
 },
 "nbformat": 4,
 "nbformat_minor": 5
}
