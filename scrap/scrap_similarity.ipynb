{
 "cells": [
  {
   "cell_type": "markdown",
   "id": "0cf57602-125b-4b81-a94d-b5010df11e76",
   "metadata": {},
   "source": [
    "# Import libraries"
   ]
  },
  {
   "cell_type": "code",
   "execution_count": 1,
   "id": "45c7e20b-c57f-4e13-b77e-11572f9e6409",
   "metadata": {},
   "outputs": [],
   "source": [
    "import pandas as pd\n",
    "import numpy as np\n",
    "import matplotlib.pyplot as plt  \n",
    "import scipy\n",
    "\n",
    "from sklearn.preprocessing import LabelEncoder\n",
    "\n",
    "from tqdm import tqdm\n",
    "\n",
    "import matplotlib.pyplot as plt\n",
    "\n",
    "from sklearn.model_selection import train_test_split\n",
    "from sklearn.feature_extraction.text import TfidfVectorizer\n",
    "from sklearn.naive_bayes import MultinomialNB\n",
    "from sklearn.metrics import accuracy_score\n",
    "from sklearn.multiclass import OneVsRestClassifier\n",
    "from nltk.corpus import stopwords\n",
    "stop_words = set(stopwords.words('english'))\n",
    "from sklearn.svm import LinearSVC\n",
    "from sklearn.linear_model import LogisticRegression\n",
    "from sklearn.pipeline import Pipeline\n",
    "import seaborn as sns\n",
    "\n",
    "import nltk\n",
    "from nltk.corpus import stopwords\n",
    "from sklearn.feature_extraction.text import TfidfVectorizer\n",
    "from sklearn.cluster import KMeans\n",
    "from sklearn.decomposition import PCA"
   ]
  },
  {
   "cell_type": "markdown",
   "id": "ba22e924-fdeb-4ee5-9cfa-9f67282f50e7",
   "metadata": {},
   "source": [
    "## Read data"
   ]
  },
  {
   "cell_type": "code",
   "execution_count": 2,
   "id": "43402469-b408-470d-8d55-2244f142384a",
   "metadata": {},
   "outputs": [],
   "source": [
    "uns = pd.read_csv('uns_df.csv', index_col=0)\n",
    "isri = pd.read_csv('isri_df.csv', index_col=0)\n",
    "process = pd.read_csv('process_df.csv', index_col=0)\n",
    "anamet = pd.read_csv('anamet_df.csv', index_col=0)\n",
    "materials = pd.read_csv('materials_df.csv', index_col=0)"
   ]
  },
  {
   "cell_type": "markdown",
   "id": "72776f13",
   "metadata": {},
   "source": [
    "# Read updated *Nikos* data"
   ]
  },
  {
   "cell_type": "code",
   "execution_count": 3,
   "id": "d5cd106c",
   "metadata": {},
   "outputs": [
    {
     "data": {
      "text/plain": [
       "['ANAMET',\n",
       " 'Anamet data',\n",
       " 'ISRI',\n",
       " 'Isri data',\n",
       " 'UNS data',\n",
       " 'Elements data',\n",
       " 'Material data',\n",
       " 'Process']"
      ]
     },
     "execution_count": 3,
     "metadata": {},
     "output_type": "execute_result"
    }
   ],
   "source": [
    "xls = pd.ExcelFile('data/edited_nikos_data.xlsx')\n",
    "xls.sheet_names"
   ]
  },
  {
   "cell_type": "code",
   "execution_count": 34,
   "id": "87cde166",
   "metadata": {},
   "outputs": [],
   "source": [
    "uns_data = pd.read_excel(xls, 'UNS data')\n",
    "\n",
    "uns_data.rename(columns = {'sc:isComposedOf':'elements id'}, inplace = True)\n",
    "\n",
    "elements_data = pd.read_excel(xls, 'Elements data')\n",
    "\n",
    "uns_data = pd.merge(uns_data, elements_data, how='inner', on = 'elements id')\n",
    "isri_data = pd.read_excel(xls, 'Isri data')\n",
    "anamet_data = pd.read_excel(xls, 'Anamet data')\n",
    "material_data = pd.read_excel(xls, 'Material data')\n",
    "elements_data = pd.read_excel(xls, 'Elements data')"
   ]
  },
  {
   "cell_type": "code",
   "execution_count": 35,
   "id": "b3ab523a",
   "metadata": {},
   "outputs": [
    {
     "data": {
      "text/html": [
       "<div>\n",
       "<style scoped>\n",
       "    .dataframe tbody tr th:only-of-type {\n",
       "        vertical-align: middle;\n",
       "    }\n",
       "\n",
       "    .dataframe tbody tr th {\n",
       "        vertical-align: top;\n",
       "    }\n",
       "\n",
       "    .dataframe thead th {\n",
       "        text-align: right;\n",
       "    }\n",
       "</style>\n",
       "<table border=\"1\" class=\"dataframe\">\n",
       "  <thead>\n",
       "    <tr style=\"text-align: right;\">\n",
       "      <th></th>\n",
       "      <th>isri id</th>\n",
       "      <th>sc:hasCategory</th>\n",
       "      <th>sc:hasForm</th>\n",
       "      <th>sc:isFreeFrom</th>\n",
       "      <th>sc:contains</th>\n",
       "      <th>sc:hasISRICode</th>\n",
       "      <th>sc:hasSpecification</th>\n",
       "      <th>pc:hasName</th>\n",
       "      <th>sc:isComposedOf</th>\n",
       "      <th>sc:isProcessedBy</th>\n",
       "    </tr>\n",
       "  </thead>\n",
       "  <tbody>\n",
       "    <tr>\n",
       "      <th>0</th>\n",
       "      <td>sc:ISRI_0</td>\n",
       "      <td>Nonferrous Scrap - Red Metals</td>\n",
       "      <td>Wire</td>\n",
       "      <td>NaN</td>\n",
       "      <td>Copper</td>\n",
       "      <td>Berry</td>\n",
       "      <td>Bare, Uncoated, Unalloyed</td>\n",
       "      <td>No. 1 Copper Wire</td>\n",
       "      <td>sc:Material_249</td>\n",
       "      <td>sc:Process_257</td>\n",
       "    </tr>\n",
       "    <tr>\n",
       "      <th>1</th>\n",
       "      <td>sc:ISRI_1</td>\n",
       "      <td>Nonferrous Scrap - Red Metals</td>\n",
       "      <td>Wire and Cable</td>\n",
       "      <td>Brittle Burnt Wire, Copper Tubing</td>\n",
       "      <td>Copper</td>\n",
       "      <td>Barley</td>\n",
       "      <td>Clean, Untinned, Uncoated, Unalloyed</td>\n",
       "      <td>No. 1 Copper Wire</td>\n",
       "      <td>sc:Material_249</td>\n",
       "      <td>sc:Process_257</td>\n",
       "    </tr>\n",
       "  </tbody>\n",
       "</table>\n",
       "</div>"
      ],
      "text/plain": [
       "     isri id                 sc:hasCategory      sc:hasForm  \\\n",
       "0  sc:ISRI_0  Nonferrous Scrap - Red Metals            Wire   \n",
       "1  sc:ISRI_1  Nonferrous Scrap - Red Metals  Wire and Cable   \n",
       "\n",
       "                       sc:isFreeFrom sc:contains sc:hasISRICode  \\\n",
       "0                                NaN      Copper          Berry   \n",
       "1  Brittle Burnt Wire, Copper Tubing      Copper         Barley   \n",
       "\n",
       "                    sc:hasSpecification         pc:hasName  sc:isComposedOf  \\\n",
       "0             Bare, Uncoated, Unalloyed  No. 1 Copper Wire  sc:Material_249   \n",
       "1  Clean, Untinned, Uncoated, Unalloyed  No. 1 Copper Wire  sc:Material_249   \n",
       "\n",
       "  sc:isProcessedBy  \n",
       "0   sc:Process_257  \n",
       "1   sc:Process_257  "
      ]
     },
     "execution_count": 35,
     "metadata": {},
     "output_type": "execute_result"
    }
   ],
   "source": [
    "isri_data.head(2)"
   ]
  },
  {
   "cell_type": "code",
   "execution_count": 36,
   "id": "80fdedf3",
   "metadata": {},
   "outputs": [
    {
     "data": {
      "text/html": [
       "<div>\n",
       "<style scoped>\n",
       "    .dataframe tbody tr th:only-of-type {\n",
       "        vertical-align: middle;\n",
       "    }\n",
       "\n",
       "    .dataframe tbody tr th {\n",
       "        vertical-align: top;\n",
       "    }\n",
       "\n",
       "    .dataframe thead th {\n",
       "        text-align: right;\n",
       "    }\n",
       "</style>\n",
       "<table border=\"1\" class=\"dataframe\">\n",
       "  <thead>\n",
       "    <tr style=\"text-align: right;\">\n",
       "      <th></th>\n",
       "      <th>anamet entity</th>\n",
       "      <th>sc:description</th>\n",
       "      <th>sc:hasCategory</th>\n",
       "      <th>sc:internal_code</th>\n",
       "      <th>sc:isProcessedBy</th>\n",
       "    </tr>\n",
       "  </thead>\n",
       "  <tbody>\n",
       "    <tr>\n",
       "      <th>0</th>\n",
       "      <td>sc:ANAMET_437</td>\n",
       "      <td>ΣΚΡΑΠ ΨΑΛΙΔΙΣΜΕΝΟ ΠΥΚΝ &gt;450 ΚG/M3 (ΥΛΗ)</td>\n",
       "      <td>Ferrous</td>\n",
       "      <td>40000</td>\n",
       "      <td>sc:Process_690</td>\n",
       "    </tr>\n",
       "    <tr>\n",
       "      <th>1</th>\n",
       "      <td>sc:ANAMET_438</td>\n",
       "      <td>άγνωστο</td>\n",
       "      <td>Ferrous</td>\n",
       "      <td>9000</td>\n",
       "      <td>NaN</td>\n",
       "    </tr>\n",
       "  </tbody>\n",
       "</table>\n",
       "</div>"
      ],
      "text/plain": [
       "   anamet entity                           sc:description sc:hasCategory  \\\n",
       "0  sc:ANAMET_437  ΣΚΡΑΠ ΨΑΛΙΔΙΣΜΕΝΟ ΠΥΚΝ >450 ΚG/M3 (ΥΛΗ)        Ferrous   \n",
       "1  sc:ANAMET_438                                  άγνωστο        Ferrous   \n",
       "\n",
       "   sc:internal_code sc:isProcessedBy  \n",
       "0             40000   sc:Process_690  \n",
       "1              9000              NaN  "
      ]
     },
     "execution_count": 36,
     "metadata": {},
     "output_type": "execute_result"
    }
   ],
   "source": [
    "anamet_data.head(2)"
   ]
  },
  {
   "cell_type": "code",
   "execution_count": 37,
   "id": "ba0d9d75",
   "metadata": {},
   "outputs": [
    {
     "data": {
      "text/html": [
       "<div>\n",
       "<style scoped>\n",
       "    .dataframe tbody tr th:only-of-type {\n",
       "        vertical-align: middle;\n",
       "    }\n",
       "\n",
       "    .dataframe tbody tr th {\n",
       "        vertical-align: top;\n",
       "    }\n",
       "\n",
       "    .dataframe thead th {\n",
       "        text-align: right;\n",
       "    }\n",
       "</style>\n",
       "<table border=\"1\" class=\"dataframe\">\n",
       "  <thead>\n",
       "    <tr style=\"text-align: right;\">\n",
       "      <th></th>\n",
       "      <th>uns id</th>\n",
       "      <th>sc:hasName</th>\n",
       "      <th>elements id</th>\n",
       "      <th>ar</th>\n",
       "      <th>atomicNumber</th>\n",
       "      <th>density</th>\n",
       "      <th>meltingPoint</th>\n",
       "      <th>hasName</th>\n",
       "      <th>symbol</th>\n",
       "    </tr>\n",
       "  </thead>\n",
       "  <tbody>\n",
       "    <tr>\n",
       "      <th>0</th>\n",
       "      <td>sc:UNS_712</td>\n",
       "      <td>C83300</td>\n",
       "      <td>sc:Elements_329</td>\n",
       "      <td>207.2</td>\n",
       "      <td>82</td>\n",
       "      <td>11.29</td>\n",
       "      <td>327.5</td>\n",
       "      <td>LEAD</td>\n",
       "      <td>Pb</td>\n",
       "    </tr>\n",
       "    <tr>\n",
       "      <th>1</th>\n",
       "      <td>sc:UNS_733</td>\n",
       "      <td>C84500</td>\n",
       "      <td>sc:Elements_329</td>\n",
       "      <td>207.2</td>\n",
       "      <td>82</td>\n",
       "      <td>11.29</td>\n",
       "      <td>327.5</td>\n",
       "      <td>LEAD</td>\n",
       "      <td>Pb</td>\n",
       "    </tr>\n",
       "  </tbody>\n",
       "</table>\n",
       "</div>"
      ],
      "text/plain": [
       "       uns id sc:hasName      elements id     ar  atomicNumber  density  \\\n",
       "0  sc:UNS_712     C83300  sc:Elements_329  207.2            82    11.29   \n",
       "1  sc:UNS_733     C84500  sc:Elements_329  207.2            82    11.29   \n",
       "\n",
       "   meltingPoint hasName symbol  \n",
       "0         327.5    LEAD     Pb  \n",
       "1         327.5    LEAD     Pb  "
      ]
     },
     "execution_count": 37,
     "metadata": {},
     "output_type": "execute_result"
    }
   ],
   "source": [
    "uns_data.head(2)"
   ]
  },
  {
   "cell_type": "markdown",
   "id": "d17d2cce",
   "metadata": {},
   "source": [
    "# Create `df` using `anamet` and `isri`"
   ]
  },
  {
   "cell_type": "markdown",
   "id": "b8b023e0",
   "metadata": {},
   "source": [
    "Προσπάθεια classifiaction ενός δοθέντος scap σε anamet / isri δεδομένου ενός description"
   ]
  },
  {
   "cell_type": "markdown",
   "id": "eb262c79",
   "metadata": {},
   "source": [
    "### Raw data preprocessing"
   ]
  },
  {
   "cell_type": "markdown",
   "id": "ce9fa248",
   "metadata": {},
   "source": [
    "#### `ISRI`"
   ]
  },
  {
   "cell_type": "code",
   "execution_count": 38,
   "id": "ab145ffc",
   "metadata": {},
   "outputs": [
    {
     "data": {
      "text/html": [
       "<div>\n",
       "<style scoped>\n",
       "    .dataframe tbody tr th:only-of-type {\n",
       "        vertical-align: middle;\n",
       "    }\n",
       "\n",
       "    .dataframe tbody tr th {\n",
       "        vertical-align: top;\n",
       "    }\n",
       "\n",
       "    .dataframe thead th {\n",
       "        text-align: right;\n",
       "    }\n",
       "</style>\n",
       "<table border=\"1\" class=\"dataframe\">\n",
       "  <thead>\n",
       "    <tr style=\"text-align: right;\">\n",
       "      <th></th>\n",
       "      <th>isri id</th>\n",
       "      <th>sc:hasCategory</th>\n",
       "      <th>sc:hasForm</th>\n",
       "      <th>sc:isFreeFrom</th>\n",
       "      <th>sc:contains</th>\n",
       "      <th>sc:hasISRICode</th>\n",
       "      <th>sc:hasSpecification</th>\n",
       "      <th>pc:hasName</th>\n",
       "      <th>sc:isComposedOf</th>\n",
       "      <th>sc:isProcessedBy</th>\n",
       "    </tr>\n",
       "  </thead>\n",
       "  <tbody>\n",
       "    <tr>\n",
       "      <th>0</th>\n",
       "      <td>sc:ISRI_0</td>\n",
       "      <td>Nonferrous Scrap - Red Metals</td>\n",
       "      <td>Wire</td>\n",
       "      <td>NaN</td>\n",
       "      <td>Copper</td>\n",
       "      <td>Berry</td>\n",
       "      <td>Bare, Uncoated, Unalloyed</td>\n",
       "      <td>No. 1 Copper Wire</td>\n",
       "      <td>sc:Material_249</td>\n",
       "      <td>sc:Process_257</td>\n",
       "    </tr>\n",
       "    <tr>\n",
       "      <th>1</th>\n",
       "      <td>sc:ISRI_1</td>\n",
       "      <td>Nonferrous Scrap - Red Metals</td>\n",
       "      <td>Wire and Cable</td>\n",
       "      <td>Brittle Burnt Wire, Copper Tubing</td>\n",
       "      <td>Copper</td>\n",
       "      <td>Barley</td>\n",
       "      <td>Clean, Untinned, Uncoated, Unalloyed</td>\n",
       "      <td>No. 1 Copper Wire</td>\n",
       "      <td>sc:Material_249</td>\n",
       "      <td>sc:Process_257</td>\n",
       "    </tr>\n",
       "  </tbody>\n",
       "</table>\n",
       "</div>"
      ],
      "text/plain": [
       "     isri id                 sc:hasCategory      sc:hasForm  \\\n",
       "0  sc:ISRI_0  Nonferrous Scrap - Red Metals            Wire   \n",
       "1  sc:ISRI_1  Nonferrous Scrap - Red Metals  Wire and Cable   \n",
       "\n",
       "                       sc:isFreeFrom sc:contains sc:hasISRICode  \\\n",
       "0                                NaN      Copper          Berry   \n",
       "1  Brittle Burnt Wire, Copper Tubing      Copper         Barley   \n",
       "\n",
       "                    sc:hasSpecification         pc:hasName  sc:isComposedOf  \\\n",
       "0             Bare, Uncoated, Unalloyed  No. 1 Copper Wire  sc:Material_249   \n",
       "1  Clean, Untinned, Uncoated, Unalloyed  No. 1 Copper Wire  sc:Material_249   \n",
       "\n",
       "  sc:isProcessedBy  \n",
       "0   sc:Process_257  \n",
       "1   sc:Process_257  "
      ]
     },
     "execution_count": 38,
     "metadata": {},
     "output_type": "execute_result"
    }
   ],
   "source": [
    "isri_data.head(2)"
   ]
  },
  {
   "cell_type": "code",
   "execution_count": 39,
   "id": "b5ddb481",
   "metadata": {},
   "outputs": [
    {
     "data": {
      "text/plain": [
       "(244, 10)"
      ]
     },
     "execution_count": 39,
     "metadata": {},
     "output_type": "execute_result"
    }
   ],
   "source": [
    "isri_data.shape"
   ]
  },
  {
   "cell_type": "code",
   "execution_count": 40,
   "id": "4b0ba9bd",
   "metadata": {},
   "outputs": [],
   "source": [
    "isri_data = isri_data[['isri id', 'sc:hasCategory', 'sc:hasSpecification']]"
   ]
  },
  {
   "cell_type": "code",
   "execution_count": 41,
   "id": "166dc78c",
   "metadata": {},
   "outputs": [
    {
     "data": {
      "text/plain": [
       "isri id                 0\n",
       "sc:hasCategory          0\n",
       "sc:hasSpecification    12\n",
       "dtype: int64"
      ]
     },
     "execution_count": 41,
     "metadata": {},
     "output_type": "execute_result"
    }
   ],
   "source": [
    "isri_data.isna().sum()"
   ]
  },
  {
   "cell_type": "code",
   "execution_count": 42,
   "id": "f117c17e",
   "metadata": {},
   "outputs": [
    {
     "data": {
      "text/html": [
       "<div>\n",
       "<style scoped>\n",
       "    .dataframe tbody tr th:only-of-type {\n",
       "        vertical-align: middle;\n",
       "    }\n",
       "\n",
       "    .dataframe tbody tr th {\n",
       "        vertical-align: top;\n",
       "    }\n",
       "\n",
       "    .dataframe thead th {\n",
       "        text-align: right;\n",
       "    }\n",
       "</style>\n",
       "<table border=\"1\" class=\"dataframe\">\n",
       "  <thead>\n",
       "    <tr style=\"text-align: right;\">\n",
       "      <th></th>\n",
       "      <th>isri id</th>\n",
       "      <th>sc:hasCategory</th>\n",
       "      <th>sc:hasSpecification</th>\n",
       "    </tr>\n",
       "  </thead>\n",
       "  <tbody>\n",
       "    <tr>\n",
       "      <th>0</th>\n",
       "      <td>sc isri 0</td>\n",
       "      <td>nonferrous scrap red metals</td>\n",
       "      <td>bare uncoated unalloyed</td>\n",
       "    </tr>\n",
       "    <tr>\n",
       "      <th>1</th>\n",
       "      <td>sc isri 1</td>\n",
       "      <td>nonferrous scrap red metals</td>\n",
       "      <td>clean untinned uncoated unalloyed</td>\n",
       "    </tr>\n",
       "  </tbody>\n",
       "</table>\n",
       "</div>"
      ],
      "text/plain": [
       "     isri id               sc:hasCategory                sc:hasSpecification\n",
       "0  sc isri 0  nonferrous scrap red metals            bare uncoated unalloyed\n",
       "1  sc isri 1  nonferrous scrap red metals  clean untinned uncoated unalloyed"
      ]
     },
     "execution_count": 42,
     "metadata": {},
     "output_type": "execute_result"
    }
   ],
   "source": [
    "import texthero as hero\n",
    "from texthero import preprocessing\n",
    "\n",
    "custom_pipeline = [preprocessing.fillna,\n",
    "                   preprocessing.lowercase,\n",
    "                   preprocessing.remove_whitespace,\n",
    "                   preprocessing.remove_stopwords]\n",
    "\n",
    "for col in isri_data.columns:\n",
    "    isri_data[col] = hero.clean(isri_data[col])\n",
    "\n",
    "isri_data.head(2)"
   ]
  },
  {
   "cell_type": "code",
   "execution_count": 43,
   "id": "82002c7c",
   "metadata": {},
   "outputs": [
    {
     "data": {
      "text/plain": [
       "isri id                0\n",
       "sc:hasCategory         0\n",
       "sc:hasSpecification    0\n",
       "dtype: int64"
      ]
     },
     "execution_count": 43,
     "metadata": {},
     "output_type": "execute_result"
    }
   ],
   "source": [
    "isri_data.isna().sum()"
   ]
  },
  {
   "cell_type": "markdown",
   "id": "ce9fa248",
   "metadata": {},
   "source": [
    "#### `ANAMET`"
   ]
  },
  {
   "cell_type": "code",
   "execution_count": 44,
   "id": "c1c3a3a6",
   "metadata": {},
   "outputs": [
    {
     "data": {
      "text/html": [
       "<div>\n",
       "<style scoped>\n",
       "    .dataframe tbody tr th:only-of-type {\n",
       "        vertical-align: middle;\n",
       "    }\n",
       "\n",
       "    .dataframe tbody tr th {\n",
       "        vertical-align: top;\n",
       "    }\n",
       "\n",
       "    .dataframe thead th {\n",
       "        text-align: right;\n",
       "    }\n",
       "</style>\n",
       "<table border=\"1\" class=\"dataframe\">\n",
       "  <thead>\n",
       "    <tr style=\"text-align: right;\">\n",
       "      <th></th>\n",
       "      <th>anamet entity</th>\n",
       "      <th>sc:description</th>\n",
       "      <th>sc:hasCategory</th>\n",
       "      <th>sc:internal_code</th>\n",
       "      <th>sc:isProcessedBy</th>\n",
       "    </tr>\n",
       "  </thead>\n",
       "  <tbody>\n",
       "    <tr>\n",
       "      <th>0</th>\n",
       "      <td>sc:ANAMET_437</td>\n",
       "      <td>ΣΚΡΑΠ ΨΑΛΙΔΙΣΜΕΝΟ ΠΥΚΝ &gt;450 ΚG/M3 (ΥΛΗ)</td>\n",
       "      <td>Ferrous</td>\n",
       "      <td>40000</td>\n",
       "      <td>sc:Process_690</td>\n",
       "    </tr>\n",
       "    <tr>\n",
       "      <th>1</th>\n",
       "      <td>sc:ANAMET_438</td>\n",
       "      <td>άγνωστο</td>\n",
       "      <td>Ferrous</td>\n",
       "      <td>9000</td>\n",
       "      <td>NaN</td>\n",
       "    </tr>\n",
       "    <tr>\n",
       "      <th>2</th>\n",
       "      <td>sc:ANAMET_439</td>\n",
       "      <td>κουτάκι</td>\n",
       "      <td>Ferrous</td>\n",
       "      <td>9101</td>\n",
       "      <td>NaN</td>\n",
       "    </tr>\n",
       "    <tr>\n",
       "      <th>3</th>\n",
       "      <td>sc:ANAMET_440</td>\n",
       "      <td>λαμαρίνες</td>\n",
       "      <td>Ferrous</td>\n",
       "      <td>9102</td>\n",
       "      <td>NaN</td>\n",
       "    </tr>\n",
       "    <tr>\n",
       "      <th>4</th>\n",
       "      <td>sc:ANAMET_441</td>\n",
       "      <td>ζάντες + βαρύ προς shredder κλπ από ΟΤΚΖ</td>\n",
       "      <td>Ferrous</td>\n",
       "      <td>9103</td>\n",
       "      <td>NaN</td>\n",
       "    </tr>\n",
       "  </tbody>\n",
       "</table>\n",
       "</div>"
      ],
      "text/plain": [
       "   anamet entity                            sc:description sc:hasCategory  \\\n",
       "0  sc:ANAMET_437   ΣΚΡΑΠ ΨΑΛΙΔΙΣΜΕΝΟ ΠΥΚΝ >450 ΚG/M3 (ΥΛΗ)        Ferrous   \n",
       "1  sc:ANAMET_438                                   άγνωστο        Ferrous   \n",
       "2  sc:ANAMET_439                                   κουτάκι        Ferrous   \n",
       "3  sc:ANAMET_440                                 λαμαρίνες        Ferrous   \n",
       "4  sc:ANAMET_441  ζάντες + βαρύ προς shredder κλπ από ΟΤΚΖ        Ferrous   \n",
       "\n",
       "   sc:internal_code sc:isProcessedBy  \n",
       "0             40000   sc:Process_690  \n",
       "1              9000              NaN  \n",
       "2              9101              NaN  \n",
       "3              9102              NaN  \n",
       "4              9103              NaN  "
      ]
     },
     "execution_count": 44,
     "metadata": {},
     "output_type": "execute_result"
    }
   ],
   "source": [
    "anamet_data.head()"
   ]
  },
  {
   "cell_type": "code",
   "execution_count": 45,
   "id": "898d7c51",
   "metadata": {},
   "outputs": [
    {
     "data": {
      "text/plain": [
       "(322, 5)"
      ]
     },
     "execution_count": 45,
     "metadata": {},
     "output_type": "execute_result"
    }
   ],
   "source": [
    "anamet_data.shape"
   ]
  },
  {
   "cell_type": "markdown",
   "id": "f2747bbb",
   "metadata": {},
   "source": [
    "Keep only ANAMET with english `sc:description`"
   ]
  },
  {
   "cell_type": "code",
   "execution_count": 46,
   "id": "3cd6d986",
   "metadata": {},
   "outputs": [
    {
     "data": {
      "text/html": [
       "<div>\n",
       "<style scoped>\n",
       "    .dataframe tbody tr th:only-of-type {\n",
       "        vertical-align: middle;\n",
       "    }\n",
       "\n",
       "    .dataframe tbody tr th {\n",
       "        vertical-align: top;\n",
       "    }\n",
       "\n",
       "    .dataframe thead th {\n",
       "        text-align: right;\n",
       "    }\n",
       "</style>\n",
       "<table border=\"1\" class=\"dataframe\">\n",
       "  <thead>\n",
       "    <tr style=\"text-align: right;\">\n",
       "      <th></th>\n",
       "      <th>anamet entity</th>\n",
       "      <th>sc:description</th>\n",
       "      <th>sc:hasCategory</th>\n",
       "      <th>sc:internal_code</th>\n",
       "      <th>sc:isProcessedBy</th>\n",
       "    </tr>\n",
       "  </thead>\n",
       "  <tbody>\n",
       "    <tr>\n",
       "      <th>28</th>\n",
       "      <td>sc:ANAMET_465</td>\n",
       "      <td>COPPER SCRAP MILLBERRY CABLES FOR STRIP.</td>\n",
       "      <td>Non-Ferrous</td>\n",
       "      <td>40014</td>\n",
       "      <td>NaN</td>\n",
       "    </tr>\n",
       "    <tr>\n",
       "      <th>30</th>\n",
       "      <td>sc:ANAMET_466</td>\n",
       "      <td>COPPER SCRAP BIRCH CABLES FOR STRIPPING</td>\n",
       "      <td>Non-Ferrous</td>\n",
       "      <td>40015</td>\n",
       "      <td>NaN</td>\n",
       "    </tr>\n",
       "  </tbody>\n",
       "</table>\n",
       "</div>"
      ],
      "text/plain": [
       "    anamet entity                            sc:description sc:hasCategory  \\\n",
       "28  sc:ANAMET_465  COPPER SCRAP MILLBERRY CABLES FOR STRIP.    Non-Ferrous   \n",
       "30  sc:ANAMET_466   COPPER SCRAP BIRCH CABLES FOR STRIPPING    Non-Ferrous   \n",
       "\n",
       "    sc:internal_code sc:isProcessedBy  \n",
       "28             40014              NaN  \n",
       "30             40015              NaN  "
      ]
     },
     "execution_count": 46,
     "metadata": {},
     "output_type": "execute_result"
    }
   ],
   "source": [
    "import unicodedata as ud\n",
    "\n",
    "latin_letters= {}\n",
    "\n",
    "def is_latin(uchr):\n",
    "    try: return latin_letters[uchr]\n",
    "    except KeyError:\n",
    "         return latin_letters.setdefault(uchr, 'LATIN' in ud.name(uchr))\n",
    "\n",
    "def only_roman_chars(unistr):\n",
    "    return all(is_latin(uchr)\n",
    "           for uchr in unistr\n",
    "           if uchr.isalpha()) # isalpha suggested by John Machin\n",
    "\n",
    "e_description_index = []\n",
    "for row in range(len(anamet_data)):\n",
    "    if only_roman_chars(str(anamet_data['sc:description'].iloc[row])):\n",
    "        e_description_index.append(row)\n",
    "        \n",
    "anamet_data = anamet_data.iloc[e_description_index]\n",
    "anamet_data.head(2)"
   ]
  },
  {
   "cell_type": "code",
   "execution_count": 47,
   "id": "95749748",
   "metadata": {},
   "outputs": [
    {
     "data": {
      "text/plain": [
       "(214, 5)"
      ]
     },
     "execution_count": 47,
     "metadata": {},
     "output_type": "execute_result"
    }
   ],
   "source": [
    "anamet_data.shape"
   ]
  },
  {
   "cell_type": "code",
   "execution_count": 48,
   "id": "38ad4328",
   "metadata": {},
   "outputs": [
    {
     "data": {
      "text/html": [
       "<div>\n",
       "<style scoped>\n",
       "    .dataframe tbody tr th:only-of-type {\n",
       "        vertical-align: middle;\n",
       "    }\n",
       "\n",
       "    .dataframe tbody tr th {\n",
       "        vertical-align: top;\n",
       "    }\n",
       "\n",
       "    .dataframe thead th {\n",
       "        text-align: right;\n",
       "    }\n",
       "</style>\n",
       "<table border=\"1\" class=\"dataframe\">\n",
       "  <thead>\n",
       "    <tr style=\"text-align: right;\">\n",
       "      <th></th>\n",
       "      <th>anamet entity</th>\n",
       "      <th>sc:description</th>\n",
       "      <th>sc:hasCategory</th>\n",
       "    </tr>\n",
       "  </thead>\n",
       "  <tbody>\n",
       "    <tr>\n",
       "      <th>28</th>\n",
       "      <td>sc:ANAMET_465</td>\n",
       "      <td>COPPER SCRAP MILLBERRY CABLES FOR STRIP.</td>\n",
       "      <td>Non-Ferrous</td>\n",
       "    </tr>\n",
       "    <tr>\n",
       "      <th>30</th>\n",
       "      <td>sc:ANAMET_466</td>\n",
       "      <td>COPPER SCRAP BIRCH CABLES FOR STRIPPING</td>\n",
       "      <td>Non-Ferrous</td>\n",
       "    </tr>\n",
       "  </tbody>\n",
       "</table>\n",
       "</div>"
      ],
      "text/plain": [
       "    anamet entity                            sc:description sc:hasCategory\n",
       "28  sc:ANAMET_465  COPPER SCRAP MILLBERRY CABLES FOR STRIP.    Non-Ferrous\n",
       "30  sc:ANAMET_466   COPPER SCRAP BIRCH CABLES FOR STRIPPING    Non-Ferrous"
      ]
     },
     "execution_count": 48,
     "metadata": {},
     "output_type": "execute_result"
    }
   ],
   "source": [
    "anamet_data = anamet_data[['anamet entity', 'sc:description', 'sc:hasCategory']]\n",
    "anamet_data.head(2)"
   ]
  },
  {
   "cell_type": "code",
   "execution_count": 49,
   "id": "42de23f5",
   "metadata": {},
   "outputs": [
    {
     "data": {
      "text/plain": [
       "anamet entity     0\n",
       "sc:description    0\n",
       "sc:hasCategory    0\n",
       "dtype: int64"
      ]
     },
     "execution_count": 49,
     "metadata": {},
     "output_type": "execute_result"
    }
   ],
   "source": [
    "anamet_data.isna().sum()"
   ]
  },
  {
   "cell_type": "code",
   "execution_count": 50,
   "id": "6bf60987",
   "metadata": {},
   "outputs": [
    {
     "data": {
      "text/html": [
       "<div>\n",
       "<style scoped>\n",
       "    .dataframe tbody tr th:only-of-type {\n",
       "        vertical-align: middle;\n",
       "    }\n",
       "\n",
       "    .dataframe tbody tr th {\n",
       "        vertical-align: top;\n",
       "    }\n",
       "\n",
       "    .dataframe thead th {\n",
       "        text-align: right;\n",
       "    }\n",
       "</style>\n",
       "<table border=\"1\" class=\"dataframe\">\n",
       "  <thead>\n",
       "    <tr style=\"text-align: right;\">\n",
       "      <th></th>\n",
       "      <th>anamet entity</th>\n",
       "      <th>sc:description</th>\n",
       "      <th>sc:hasCategory</th>\n",
       "    </tr>\n",
       "  </thead>\n",
       "  <tbody>\n",
       "    <tr>\n",
       "      <th>28</th>\n",
       "      <td>sc anamet 465</td>\n",
       "      <td>copper scrap millberry cables strip</td>\n",
       "      <td>non ferrous</td>\n",
       "    </tr>\n",
       "    <tr>\n",
       "      <th>30</th>\n",
       "      <td>sc anamet 466</td>\n",
       "      <td>copper scrap birch cables stripping</td>\n",
       "      <td>non ferrous</td>\n",
       "    </tr>\n",
       "  </tbody>\n",
       "</table>\n",
       "</div>"
      ],
      "text/plain": [
       "    anamet entity                       sc:description sc:hasCategory\n",
       "28  sc anamet 465  copper scrap millberry cables strip    non ferrous\n",
       "30  sc anamet 466  copper scrap birch cables stripping    non ferrous"
      ]
     },
     "execution_count": 50,
     "metadata": {},
     "output_type": "execute_result"
    }
   ],
   "source": [
    "for col in anamet_data.columns:\n",
    "    anamet_data[col] = hero.clean(anamet_data[col])\n",
    "\n",
    "anamet_data.head(2)"
   ]
  },
  {
   "cell_type": "markdown",
   "id": "58b291bd",
   "metadata": {},
   "source": [
    "# Combine both datasets"
   ]
  },
  {
   "cell_type": "markdown",
   "id": "8224e3d5",
   "metadata": {},
   "source": [
    "Will combine `ISRI` and `ANAMET` dataframes into one."
   ]
  },
  {
   "cell_type": "code",
   "execution_count": 51,
   "id": "6a6cab11",
   "metadata": {},
   "outputs": [],
   "source": [
    "df = pd.DataFrame()"
   ]
  },
  {
   "cell_type": "code",
   "execution_count": 52,
   "id": "0af6b6d4",
   "metadata": {},
   "outputs": [
    {
     "data": {
      "text/html": [
       "<div>\n",
       "<style scoped>\n",
       "    .dataframe tbody tr th:only-of-type {\n",
       "        vertical-align: middle;\n",
       "    }\n",
       "\n",
       "    .dataframe tbody tr th {\n",
       "        vertical-align: top;\n",
       "    }\n",
       "\n",
       "    .dataframe thead th {\n",
       "        text-align: right;\n",
       "    }\n",
       "</style>\n",
       "<table border=\"1\" class=\"dataframe\">\n",
       "  <thead>\n",
       "    <tr style=\"text-align: right;\">\n",
       "      <th></th>\n",
       "      <th>isri id</th>\n",
       "      <th>sc:hasCategory</th>\n",
       "      <th>sc:hasSpecification</th>\n",
       "    </tr>\n",
       "  </thead>\n",
       "  <tbody>\n",
       "    <tr>\n",
       "      <th>0</th>\n",
       "      <td>sc isri 0</td>\n",
       "      <td>nonferrous scrap red metals</td>\n",
       "      <td>bare uncoated unalloyed</td>\n",
       "    </tr>\n",
       "  </tbody>\n",
       "</table>\n",
       "</div>"
      ],
      "text/plain": [
       "     isri id               sc:hasCategory      sc:hasSpecification\n",
       "0  sc isri 0  nonferrous scrap red metals  bare uncoated unalloyed"
      ]
     },
     "execution_count": 52,
     "metadata": {},
     "output_type": "execute_result"
    }
   ],
   "source": [
    "isri_data.head(1)"
   ]
  },
  {
   "cell_type": "code",
   "execution_count": 53,
   "id": "46d40181",
   "metadata": {},
   "outputs": [
    {
     "data": {
      "text/html": [
       "<div>\n",
       "<style scoped>\n",
       "    .dataframe tbody tr th:only-of-type {\n",
       "        vertical-align: middle;\n",
       "    }\n",
       "\n",
       "    .dataframe tbody tr th {\n",
       "        vertical-align: top;\n",
       "    }\n",
       "\n",
       "    .dataframe thead th {\n",
       "        text-align: right;\n",
       "    }\n",
       "</style>\n",
       "<table border=\"1\" class=\"dataframe\">\n",
       "  <thead>\n",
       "    <tr style=\"text-align: right;\">\n",
       "      <th></th>\n",
       "      <th>anamet entity</th>\n",
       "      <th>sc:description</th>\n",
       "      <th>sc:hasCategory</th>\n",
       "    </tr>\n",
       "  </thead>\n",
       "  <tbody>\n",
       "    <tr>\n",
       "      <th>28</th>\n",
       "      <td>sc anamet 465</td>\n",
       "      <td>copper scrap millberry cables strip</td>\n",
       "      <td>non ferrous</td>\n",
       "    </tr>\n",
       "  </tbody>\n",
       "</table>\n",
       "</div>"
      ],
      "text/plain": [
       "    anamet entity                       sc:description sc:hasCategory\n",
       "28  sc anamet 465  copper scrap millberry cables strip    non ferrous"
      ]
     },
     "execution_count": 53,
     "metadata": {},
     "output_type": "execute_result"
    }
   ],
   "source": [
    "anamet_data.head(1)"
   ]
  },
  {
   "cell_type": "code",
   "execution_count": 54,
   "id": "0372ab2f",
   "metadata": {},
   "outputs": [],
   "source": [
    "isri_data.rename(columns = {'isri id':'scrap_type', 'sc:hasCategory':'f1', 'sc:hasSpecification':'f2'}, inplace = True)\n",
    "anamet_data.rename(columns= {'anamet entity':'scrap_type', 'sc:description':'f2', 'sc:hasCategory':'f1'}, inplace = True)"
   ]
  },
  {
   "cell_type": "code",
   "execution_count": 55,
   "id": "0875119e",
   "metadata": {},
   "outputs": [],
   "source": [
    "isri_data['scrap_type'] = 'isri'\n",
    "anamet_data['scrap_type'] = 'anamet'"
   ]
  },
  {
   "cell_type": "markdown",
   "id": "e85dad4b",
   "metadata": {},
   "source": [
    "Concat the dfs"
   ]
  },
  {
   "cell_type": "code",
   "execution_count": 56,
   "id": "aee66fdd",
   "metadata": {},
   "outputs": [
    {
     "data": {
      "text/html": [
       "<div>\n",
       "<style scoped>\n",
       "    .dataframe tbody tr th:only-of-type {\n",
       "        vertical-align: middle;\n",
       "    }\n",
       "\n",
       "    .dataframe tbody tr th {\n",
       "        vertical-align: top;\n",
       "    }\n",
       "\n",
       "    .dataframe thead th {\n",
       "        text-align: right;\n",
       "    }\n",
       "</style>\n",
       "<table border=\"1\" class=\"dataframe\">\n",
       "  <thead>\n",
       "    <tr style=\"text-align: right;\">\n",
       "      <th></th>\n",
       "      <th>scrap_type</th>\n",
       "      <th>f1</th>\n",
       "      <th>f2</th>\n",
       "    </tr>\n",
       "  </thead>\n",
       "  <tbody>\n",
       "    <tr>\n",
       "      <th>0</th>\n",
       "      <td>isri</td>\n",
       "      <td>nonferrous scrap red metals</td>\n",
       "      <td>bare uncoated unalloyed</td>\n",
       "    </tr>\n",
       "    <tr>\n",
       "      <th>1</th>\n",
       "      <td>isri</td>\n",
       "      <td>nonferrous scrap red metals</td>\n",
       "      <td>clean untinned uncoated unalloyed</td>\n",
       "    </tr>\n",
       "    <tr>\n",
       "      <th>2</th>\n",
       "      <td>isri</td>\n",
       "      <td>nonferrous scrap red metals</td>\n",
       "      <td>unalloyed</td>\n",
       "    </tr>\n",
       "    <tr>\n",
       "      <th>3</th>\n",
       "      <td>isri</td>\n",
       "      <td>nonferrous scrap red metals</td>\n",
       "      <td>clean unalloyed uncoated</td>\n",
       "    </tr>\n",
       "    <tr>\n",
       "      <th>4</th>\n",
       "      <td>isri</td>\n",
       "      <td>nonferrous scrap red metals</td>\n",
       "      <td>unalloyed</td>\n",
       "    </tr>\n",
       "    <tr>\n",
       "      <th>...</th>\n",
       "      <td>...</td>\n",
       "      <td>...</td>\n",
       "      <td>...</td>\n",
       "    </tr>\n",
       "    <tr>\n",
       "      <th>317</th>\n",
       "      <td>anamet</td>\n",
       "      <td>non ferrous</td>\n",
       "      <td>lead scrap e</td>\n",
       "    </tr>\n",
       "    <tr>\n",
       "      <th>318</th>\n",
       "      <td>anamet</td>\n",
       "      <td>non ferrous</td>\n",
       "      <td>electric motors shredded weee</td>\n",
       "    </tr>\n",
       "    <tr>\n",
       "      <th>319</th>\n",
       "      <td>anamet</td>\n",
       "      <td>non ferrous</td>\n",
       "      <td>black plastic scrap weee e</td>\n",
       "    </tr>\n",
       "    <tr>\n",
       "      <th>320</th>\n",
       "      <td>anamet</td>\n",
       "      <td>non ferrous</td>\n",
       "      <td>scrap plexiglass e</td>\n",
       "    </tr>\n",
       "    <tr>\n",
       "      <th>321</th>\n",
       "      <td>anamet</td>\n",
       "      <td>non ferrous</td>\n",
       "      <td>mixed plastic scrap weee e</td>\n",
       "    </tr>\n",
       "  </tbody>\n",
       "</table>\n",
       "<p>458 rows × 3 columns</p>\n",
       "</div>"
      ],
      "text/plain": [
       "    scrap_type                           f1                                 f2\n",
       "0         isri  nonferrous scrap red metals            bare uncoated unalloyed\n",
       "1         isri  nonferrous scrap red metals  clean untinned uncoated unalloyed\n",
       "2         isri  nonferrous scrap red metals                          unalloyed\n",
       "3         isri  nonferrous scrap red metals           clean unalloyed uncoated\n",
       "4         isri  nonferrous scrap red metals                          unalloyed\n",
       "..         ...                          ...                                ...\n",
       "317     anamet                  non ferrous                       lead scrap e\n",
       "318     anamet                  non ferrous      electric motors shredded weee\n",
       "319     anamet                  non ferrous         black plastic scrap weee e\n",
       "320     anamet                  non ferrous                 scrap plexiglass e\n",
       "321     anamet                  non ferrous         mixed plastic scrap weee e\n",
       "\n",
       "[458 rows x 3 columns]"
      ]
     },
     "execution_count": 56,
     "metadata": {},
     "output_type": "execute_result"
    }
   ],
   "source": [
    "df = pd.concat([isri_data, anamet_data], axis=0)\n",
    "df"
   ]
  },
  {
   "cell_type": "code",
   "execution_count": 57,
   "id": "c735617f",
   "metadata": {},
   "outputs": [
    {
     "data": {
      "text/html": [
       "<div>\n",
       "<style scoped>\n",
       "    .dataframe tbody tr th:only-of-type {\n",
       "        vertical-align: middle;\n",
       "    }\n",
       "\n",
       "    .dataframe tbody tr th {\n",
       "        vertical-align: top;\n",
       "    }\n",
       "\n",
       "    .dataframe thead th {\n",
       "        text-align: right;\n",
       "    }\n",
       "</style>\n",
       "<table border=\"1\" class=\"dataframe\">\n",
       "  <thead>\n",
       "    <tr style=\"text-align: right;\">\n",
       "      <th></th>\n",
       "      <th>scrap_type</th>\n",
       "      <th>description</th>\n",
       "    </tr>\n",
       "  </thead>\n",
       "  <tbody>\n",
       "    <tr>\n",
       "      <th>0</th>\n",
       "      <td>isri</td>\n",
       "      <td>bare uncoated unalloyed</td>\n",
       "    </tr>\n",
       "    <tr>\n",
       "      <th>1</th>\n",
       "      <td>isri</td>\n",
       "      <td>clean untinned uncoated unalloyed</td>\n",
       "    </tr>\n",
       "    <tr>\n",
       "      <th>2</th>\n",
       "      <td>isri</td>\n",
       "      <td>unalloyed</td>\n",
       "    </tr>\n",
       "    <tr>\n",
       "      <th>3</th>\n",
       "      <td>isri</td>\n",
       "      <td>clean unalloyed uncoated</td>\n",
       "    </tr>\n",
       "    <tr>\n",
       "      <th>4</th>\n",
       "      <td>isri</td>\n",
       "      <td>unalloyed</td>\n",
       "    </tr>\n",
       "    <tr>\n",
       "      <th>...</th>\n",
       "      <td>...</td>\n",
       "      <td>...</td>\n",
       "    </tr>\n",
       "    <tr>\n",
       "      <th>317</th>\n",
       "      <td>anamet</td>\n",
       "      <td>lead scrap e</td>\n",
       "    </tr>\n",
       "    <tr>\n",
       "      <th>318</th>\n",
       "      <td>anamet</td>\n",
       "      <td>electric motors shredded weee</td>\n",
       "    </tr>\n",
       "    <tr>\n",
       "      <th>319</th>\n",
       "      <td>anamet</td>\n",
       "      <td>black plastic scrap weee e</td>\n",
       "    </tr>\n",
       "    <tr>\n",
       "      <th>320</th>\n",
       "      <td>anamet</td>\n",
       "      <td>scrap plexiglass e</td>\n",
       "    </tr>\n",
       "    <tr>\n",
       "      <th>321</th>\n",
       "      <td>anamet</td>\n",
       "      <td>mixed plastic scrap weee e</td>\n",
       "    </tr>\n",
       "  </tbody>\n",
       "</table>\n",
       "<p>458 rows × 2 columns</p>\n",
       "</div>"
      ],
      "text/plain": [
       "    scrap_type                        description\n",
       "0         isri            bare uncoated unalloyed\n",
       "1         isri  clean untinned uncoated unalloyed\n",
       "2         isri                          unalloyed\n",
       "3         isri           clean unalloyed uncoated\n",
       "4         isri                          unalloyed\n",
       "..         ...                                ...\n",
       "317     anamet                       lead scrap e\n",
       "318     anamet      electric motors shredded weee\n",
       "319     anamet         black plastic scrap weee e\n",
       "320     anamet                 scrap plexiglass e\n",
       "321     anamet         mixed plastic scrap weee e\n",
       "\n",
       "[458 rows x 2 columns]"
      ]
     },
     "execution_count": 57,
     "metadata": {},
     "output_type": "execute_result"
    }
   ],
   "source": [
    "# df['description'] = df['f1'] + df['f2']\n",
    "\n",
    "# df.drop(columns=['f1','f2'], inplace=True)\n",
    "# df.head(2)\n",
    "\n",
    "df['description'] = df['f2'] \n",
    "\n",
    "df.drop(columns=['f1','f2'], inplace=True)\n",
    "df"
   ]
  },
  {
   "cell_type": "code",
   "execution_count": 58,
   "id": "1e4e5a94",
   "metadata": {},
   "outputs": [
    {
     "name": "stdout",
     "output_type": "stream",
     "text": [
      "(274, 604) (184, 604)\n"
     ]
    }
   ],
   "source": [
    "from sklearn.model_selection import train_test_split\n",
    "\n",
    "X = df['description']\n",
    "y = df['scrap_type']\n",
    "\n",
    "X_train, X_test, y_train, y_test = train_test_split(X, y, test_size=0.40, random_state=4, stratify=y)\n",
    "\n",
    "from sklearn.feature_extraction.text import TfidfTransformer\n",
    "from sklearn.feature_extraction.text import TfidfVectorizer\n",
    "\n",
    "vectorizer = TfidfVectorizer()\n",
    "train_vectors = vectorizer.fit_transform(X_train)\n",
    "test_vectors = vectorizer.transform(X_test)\n",
    "\n",
    "print(train_vectors.shape, test_vectors.shape)"
   ]
  },
  {
   "cell_type": "code",
   "execution_count": 59,
   "id": "e10372d1",
   "metadata": {},
   "outputs": [
    {
     "name": "stdout",
     "output_type": "stream",
     "text": [
      "isri      0.532847\n",
      "anamet    0.467153\n",
      "Name: scrap_type, dtype: float64\n",
      " \n",
      "isri      0.532609\n",
      "anamet    0.467391\n",
      "Name: scrap_type, dtype: float64\n"
     ]
    }
   ],
   "source": [
    "print(y_train.value_counts(normalize=True))\n",
    "print(\" \")\n",
    "print(y_test.value_counts(normalize=True))"
   ]
  },
  {
   "cell_type": "code",
   "execution_count": 60,
   "id": "6974a6b4",
   "metadata": {},
   "outputs": [
    {
     "name": "stdout",
     "output_type": "stream",
     "text": [
      "0.9565217391304348\n"
     ]
    }
   ],
   "source": [
    "model = LogisticRegression()\n",
    "\n",
    "model.fit(train_vectors, y_train)\n",
    "predicted = model.predict(test_vectors)\n",
    "print(accuracy_score(y_test,predicted))\n",
    "\n",
    "results = pd.DataFrame(columns=['true', 'pred'])\n",
    "results['true'] = y_test\n",
    "results['pred'] = predicted"
   ]
  },
  {
   "cell_type": "code",
   "execution_count": 61,
   "id": "45115533",
   "metadata": {},
   "outputs": [
    {
     "name": "stdout",
     "output_type": "stream",
     "text": [
      "0.9619565217391305\n"
     ]
    }
   ],
   "source": [
    "from sklearn.svm import SVC\n",
    "\n",
    "model = SVC()\n",
    "\n",
    "model.fit(train_vectors, y_train)\n",
    "predicted = model.predict(test_vectors)\n",
    "print(accuracy_score(y_test,predicted))\n",
    "\n",
    "results = pd.DataFrame(columns=['true', 'pred'])\n",
    "results['true'] = y_test\n",
    "results['pred'] = predicted"
   ]
  },
  {
   "cell_type": "code",
   "execution_count": 62,
   "id": "721a95c1",
   "metadata": {},
   "outputs": [
    {
     "data": {
      "text/html": [
       "<div>\n",
       "<style scoped>\n",
       "    .dataframe tbody tr th:only-of-type {\n",
       "        vertical-align: middle;\n",
       "    }\n",
       "\n",
       "    .dataframe tbody tr th {\n",
       "        vertical-align: top;\n",
       "    }\n",
       "\n",
       "    .dataframe thead th {\n",
       "        text-align: right;\n",
       "    }\n",
       "</style>\n",
       "<table border=\"1\" class=\"dataframe\">\n",
       "  <thead>\n",
       "    <tr style=\"text-align: right;\">\n",
       "      <th></th>\n",
       "      <th>true</th>\n",
       "      <th>pred</th>\n",
       "    </tr>\n",
       "  </thead>\n",
       "  <tbody>\n",
       "    <tr>\n",
       "      <th>178</th>\n",
       "      <td>anamet</td>\n",
       "      <td>anamet</td>\n",
       "    </tr>\n",
       "    <tr>\n",
       "      <th>90</th>\n",
       "      <td>isri</td>\n",
       "      <td>isri</td>\n",
       "    </tr>\n",
       "    <tr>\n",
       "      <th>177</th>\n",
       "      <td>anamet</td>\n",
       "      <td>anamet</td>\n",
       "    </tr>\n",
       "    <tr>\n",
       "      <th>234</th>\n",
       "      <td>isri</td>\n",
       "      <td>isri</td>\n",
       "    </tr>\n",
       "    <tr>\n",
       "      <th>48</th>\n",
       "      <td>isri</td>\n",
       "      <td>isri</td>\n",
       "    </tr>\n",
       "    <tr>\n",
       "      <th>...</th>\n",
       "      <td>...</td>\n",
       "      <td>...</td>\n",
       "    </tr>\n",
       "    <tr>\n",
       "      <th>23</th>\n",
       "      <td>isri</td>\n",
       "      <td>anamet</td>\n",
       "    </tr>\n",
       "    <tr>\n",
       "      <th>207</th>\n",
       "      <td>anamet</td>\n",
       "      <td>isri</td>\n",
       "    </tr>\n",
       "    <tr>\n",
       "      <th>118</th>\n",
       "      <td>isri</td>\n",
       "      <td>isri</td>\n",
       "    </tr>\n",
       "    <tr>\n",
       "      <th>75</th>\n",
       "      <td>anamet</td>\n",
       "      <td>anamet</td>\n",
       "    </tr>\n",
       "    <tr>\n",
       "      <th>138</th>\n",
       "      <td>anamet</td>\n",
       "      <td>anamet</td>\n",
       "    </tr>\n",
       "  </tbody>\n",
       "</table>\n",
       "<p>184 rows × 2 columns</p>\n",
       "</div>"
      ],
      "text/plain": [
       "       true    pred\n",
       "178  anamet  anamet\n",
       "90     isri    isri\n",
       "177  anamet  anamet\n",
       "234    isri    isri\n",
       "48     isri    isri\n",
       "..      ...     ...\n",
       "23     isri  anamet\n",
       "207  anamet    isri\n",
       "118    isri    isri\n",
       "75   anamet  anamet\n",
       "138  anamet  anamet\n",
       "\n",
       "[184 rows x 2 columns]"
      ]
     },
     "execution_count": 62,
     "metadata": {},
     "output_type": "execute_result"
    }
   ],
   "source": [
    "results"
   ]
  }
 ],
 "metadata": {
  "kernelspec": {
   "display_name": "Python 3.9.10 ('main-bio')",
   "language": "python",
   "name": "python3"
  },
  "language_info": {
   "codemirror_mode": {
    "name": "ipython",
    "version": 3
   },
   "file_extension": ".py",
   "mimetype": "text/x-python",
   "name": "python",
   "nbconvert_exporter": "python",
   "pygments_lexer": "ipython3",
   "version": "3.9.10"
  },
  "vscode": {
   "interpreter": {
    "hash": "c6c04a7e252f45ffc2f7191e380805b6a5dd99aa68793d835f69a35c16ce4a30"
   }
  }
 },
 "nbformat": 4,
 "nbformat_minor": 5
}
