{
 "cells": [
  {
   "cell_type": "markdown",
   "id": "0cf57602-125b-4b81-a94d-b5010df11e76",
   "metadata": {},
   "source": [
    "# Import libraries"
   ]
  },
  {
   "cell_type": "code",
   "execution_count": 99,
   "id": "45c7e20b-c57f-4e13-b77e-11572f9e6409",
   "metadata": {},
   "outputs": [],
   "source": [
    "import pandas as pd\n",
    "import numpy as np\n",
    "import matplotlib.pyplot as plt  \n",
    "import scipy\n",
    "\n",
    "from sklearn.preprocessing import LabelEncoder\n",
    "\n",
    "from tqdm import tqdm\n",
    "\n",
    "import matplotlib.pyplot as plt\n",
    "\n",
    "from sklearn.model_selection import train_test_split\n",
    "from sklearn.feature_extraction.text import TfidfVectorizer\n",
    "from sklearn.naive_bayes import MultinomialNB\n",
    "from sklearn.metrics import accuracy_score\n",
    "from sklearn.multiclass import OneVsRestClassifier\n",
    "from nltk.corpus import stopwords\n",
    "stop_words = set(stopwords.words('english'))\n",
    "from sklearn.svm import LinearSVC\n",
    "from sklearn.linear_model import LogisticRegression\n",
    "from sklearn.pipeline import Pipeline\n",
    "import seaborn as sns\n",
    "\n",
    "import nltk\n",
    "from nltk.corpus import stopwords\n",
    "from sklearn.feature_extraction.text import TfidfVectorizer\n",
    "from sklearn.cluster import KMeans\n",
    "from sklearn.decomposition import PCA"
   ]
  },
  {
   "cell_type": "markdown",
   "id": "ba22e924-fdeb-4ee5-9cfa-9f67282f50e7",
   "metadata": {},
   "source": [
    "## Read data"
   ]
  },
  {
   "cell_type": "code",
   "execution_count": 100,
   "id": "43402469-b408-470d-8d55-2244f142384a",
   "metadata": {},
   "outputs": [],
   "source": [
    "uns = pd.read_csv('uns_df.csv', index_col=0)\n",
    "isri = pd.read_csv('isri_df.csv', index_col=0)\n",
    "process = pd.read_csv('process_df.csv', index_col=0)\n",
    "anamet = pd.read_csv('anamet_df.csv', index_col=0)\n",
    "materials = pd.read_csv('materials_df.csv', index_col=0)"
   ]
  },
  {
   "cell_type": "markdown",
   "id": "72776f13",
   "metadata": {},
   "source": [
    "# Read updated *Nikos* data"
   ]
  },
  {
   "cell_type": "code",
   "execution_count": 101,
   "id": "d5cd106c",
   "metadata": {},
   "outputs": [
    {
     "data": {
      "text/plain": [
       "['ANAMET',\n",
       " 'Anamet data',\n",
       " 'ISRI',\n",
       " 'Isri data',\n",
       " 'UNS data',\n",
       " 'Elements data',\n",
       " 'Material data',\n",
       " 'Process']"
      ]
     },
     "execution_count": 101,
     "metadata": {},
     "output_type": "execute_result"
    }
   ],
   "source": [
    "xls = pd.ExcelFile('data/edited_nikos_data.xlsx')\n",
    "xls.sheet_names"
   ]
  },
  {
   "cell_type": "code",
   "execution_count": 102,
   "id": "87cde166",
   "metadata": {},
   "outputs": [],
   "source": [
    "uns_data = pd.read_excel(xls, 'UNS data')\n",
    "\n",
    "uns_data.rename(columns = {'sc:isComposedOf':'elements id'}, inplace = True)\n",
    "\n",
    "elements_data = pd.read_excel(xls, 'Elements data')\n",
    "\n",
    "uns_data = pd.merge(uns_data, elements_data, how='inner', on = 'elements id')\n",
    "isri_data = pd.read_excel(xls, 'Isri data')\n",
    "anamet_data = pd.read_excel(xls, 'Anamet data')\n",
    "material_data = pd.read_excel(xls, 'Material data')\n",
    "elements_data = pd.read_excel(xls, 'Elements data')"
   ]
  },
  {
   "cell_type": "markdown",
   "id": "eb262c79",
   "metadata": {},
   "source": [
    "# Raw data preprocessing"
   ]
  },
  {
   "cell_type": "code",
   "execution_count": 103,
   "id": "ab145ffc",
   "metadata": {},
   "outputs": [
    {
     "data": {
      "text/html": [
       "<div>\n",
       "<style scoped>\n",
       "    .dataframe tbody tr th:only-of-type {\n",
       "        vertical-align: middle;\n",
       "    }\n",
       "\n",
       "    .dataframe tbody tr th {\n",
       "        vertical-align: top;\n",
       "    }\n",
       "\n",
       "    .dataframe thead th {\n",
       "        text-align: right;\n",
       "    }\n",
       "</style>\n",
       "<table border=\"1\" class=\"dataframe\">\n",
       "  <thead>\n",
       "    <tr style=\"text-align: right;\">\n",
       "      <th></th>\n",
       "      <th>isri id</th>\n",
       "      <th>sc:hasCategory</th>\n",
       "      <th>sc:hasForm</th>\n",
       "      <th>sc:isFreeFrom</th>\n",
       "      <th>sc:contains</th>\n",
       "      <th>sc:hasISRICode</th>\n",
       "      <th>sc:hasSpecification</th>\n",
       "      <th>pc:hasName</th>\n",
       "      <th>sc:isComposedOf</th>\n",
       "      <th>sc:isProcessedBy</th>\n",
       "    </tr>\n",
       "  </thead>\n",
       "  <tbody>\n",
       "    <tr>\n",
       "      <th>0</th>\n",
       "      <td>sc:ISRI_0</td>\n",
       "      <td>Nonferrous Scrap - Red Metals</td>\n",
       "      <td>Wire</td>\n",
       "      <td>NaN</td>\n",
       "      <td>Copper</td>\n",
       "      <td>Berry</td>\n",
       "      <td>Bare, Uncoated, Unalloyed</td>\n",
       "      <td>No. 1 Copper Wire</td>\n",
       "      <td>sc:Material_249</td>\n",
       "      <td>sc:Process_257</td>\n",
       "    </tr>\n",
       "    <tr>\n",
       "      <th>1</th>\n",
       "      <td>sc:ISRI_1</td>\n",
       "      <td>Nonferrous Scrap - Red Metals</td>\n",
       "      <td>Wire and Cable</td>\n",
       "      <td>Brittle Burnt Wire, Copper Tubing</td>\n",
       "      <td>Copper</td>\n",
       "      <td>Barley</td>\n",
       "      <td>Clean, Untinned, Uncoated, Unalloyed</td>\n",
       "      <td>No. 1 Copper Wire</td>\n",
       "      <td>sc:Material_249</td>\n",
       "      <td>sc:Process_257</td>\n",
       "    </tr>\n",
       "  </tbody>\n",
       "</table>\n",
       "</div>"
      ],
      "text/plain": [
       "     isri id                 sc:hasCategory      sc:hasForm  \\\n",
       "0  sc:ISRI_0  Nonferrous Scrap - Red Metals            Wire   \n",
       "1  sc:ISRI_1  Nonferrous Scrap - Red Metals  Wire and Cable   \n",
       "\n",
       "                       sc:isFreeFrom sc:contains sc:hasISRICode  \\\n",
       "0                                NaN      Copper          Berry   \n",
       "1  Brittle Burnt Wire, Copper Tubing      Copper         Barley   \n",
       "\n",
       "                    sc:hasSpecification         pc:hasName  sc:isComposedOf  \\\n",
       "0             Bare, Uncoated, Unalloyed  No. 1 Copper Wire  sc:Material_249   \n",
       "1  Clean, Untinned, Uncoated, Unalloyed  No. 1 Copper Wire  sc:Material_249   \n",
       "\n",
       "  sc:isProcessedBy  \n",
       "0   sc:Process_257  \n",
       "1   sc:Process_257  "
      ]
     },
     "execution_count": 103,
     "metadata": {},
     "output_type": "execute_result"
    }
   ],
   "source": [
    "isri_data.head(2)"
   ]
  },
  {
   "cell_type": "code",
   "execution_count": 104,
   "id": "b5ddb481",
   "metadata": {},
   "outputs": [
    {
     "data": {
      "text/plain": [
       "(244, 10)"
      ]
     },
     "execution_count": 104,
     "metadata": {},
     "output_type": "execute_result"
    }
   ],
   "source": [
    "isri_data.shape"
   ]
  },
  {
   "cell_type": "code",
   "execution_count": 105,
   "id": "166dc78c",
   "metadata": {},
   "outputs": [
    {
     "data": {
      "text/plain": [
       "isri id                  0\n",
       "sc:hasCategory           0\n",
       "sc:hasForm              43\n",
       "sc:isFreeFrom           87\n",
       "sc:contains             68\n",
       "sc:hasISRICode           0\n",
       "sc:hasSpecification     12\n",
       "pc:hasName               7\n",
       "sc:isComposedOf        109\n",
       "sc:isProcessedBy       194\n",
       "dtype: int64"
      ]
     },
     "execution_count": 105,
     "metadata": {},
     "output_type": "execute_result"
    }
   ],
   "source": [
    "isri_data.isna().sum()"
   ]
  },
  {
   "cell_type": "markdown",
   "id": "8bd16a1b",
   "metadata": {},
   "source": [
    "#### Drop unusefull columns"
   ]
  },
  {
   "cell_type": "code",
   "execution_count": 106,
   "id": "ab1e1e6a",
   "metadata": {},
   "outputs": [
    {
     "data": {
      "text/plain": [
       "(244, 7)"
      ]
     },
     "execution_count": 106,
     "metadata": {},
     "output_type": "execute_result"
    }
   ],
   "source": [
    "df = isri_data.copy()\n",
    "df.drop(columns=['isri id', 'sc:hasISRICode', 'sc:isProcessedBy'], inplace=True)\n",
    "df.shape"
   ]
  },
  {
   "cell_type": "code",
   "execution_count": 107,
   "id": "f117c17e",
   "metadata": {},
   "outputs": [
    {
     "data": {
      "text/html": [
       "<div>\n",
       "<style scoped>\n",
       "    .dataframe tbody tr th:only-of-type {\n",
       "        vertical-align: middle;\n",
       "    }\n",
       "\n",
       "    .dataframe tbody tr th {\n",
       "        vertical-align: top;\n",
       "    }\n",
       "\n",
       "    .dataframe thead th {\n",
       "        text-align: right;\n",
       "    }\n",
       "</style>\n",
       "<table border=\"1\" class=\"dataframe\">\n",
       "  <thead>\n",
       "    <tr style=\"text-align: right;\">\n",
       "      <th></th>\n",
       "      <th>sc:hasCategory</th>\n",
       "      <th>sc:hasForm</th>\n",
       "      <th>sc:isFreeFrom</th>\n",
       "      <th>sc:contains</th>\n",
       "      <th>sc:hasSpecification</th>\n",
       "      <th>pc:hasName</th>\n",
       "      <th>sc:isComposedOf</th>\n",
       "    </tr>\n",
       "  </thead>\n",
       "  <tbody>\n",
       "    <tr>\n",
       "      <th>0</th>\n",
       "      <td>nonferrous scrap red metals</td>\n",
       "      <td>wire</td>\n",
       "      <td></td>\n",
       "      <td>copper</td>\n",
       "      <td>bare uncoated unalloyed</td>\n",
       "      <td>copper wire</td>\n",
       "      <td>sc:Material_249</td>\n",
       "    </tr>\n",
       "    <tr>\n",
       "      <th>1</th>\n",
       "      <td>nonferrous scrap red metals</td>\n",
       "      <td>wire cable</td>\n",
       "      <td>brittle burnt wire copper tubing</td>\n",
       "      <td>copper</td>\n",
       "      <td>clean untinned uncoated unalloyed</td>\n",
       "      <td>copper wire</td>\n",
       "      <td>sc:Material_249</td>\n",
       "    </tr>\n",
       "    <tr>\n",
       "      <th>2</th>\n",
       "      <td>nonferrous scrap red metals</td>\n",
       "      <td>miscellaneous wire</td>\n",
       "      <td>excessively leaded tinned soldered copper wire...</td>\n",
       "      <td>copper</td>\n",
       "      <td>unalloyed</td>\n",
       "      <td>copper wire</td>\n",
       "      <td>sc:Material_249</td>\n",
       "    </tr>\n",
       "    <tr>\n",
       "      <th>3</th>\n",
       "      <td>nonferrous scrap red metals</td>\n",
       "      <td>clippings punchings bus bars commutator segmen...</td>\n",
       "      <td></td>\n",
       "      <td>copper</td>\n",
       "      <td>clean unalloyed uncoated</td>\n",
       "      <td>heavy copper solids tubing</td>\n",
       "      <td>sc:Material_249</td>\n",
       "    </tr>\n",
       "    <tr>\n",
       "      <th>4</th>\n",
       "      <td>nonferrous scrap red metals</td>\n",
       "      <td>miscellaneous scrap</td>\n",
       "      <td>excessively leaded tinned soldered copper scra...</td>\n",
       "      <td>copper</td>\n",
       "      <td>unalloyed</td>\n",
       "      <td>copper solids tubing</td>\n",
       "      <td>sc:Material_249</td>\n",
       "    </tr>\n",
       "  </tbody>\n",
       "</table>\n",
       "</div>"
      ],
      "text/plain": [
       "                sc:hasCategory  \\\n",
       "0  nonferrous scrap red metals   \n",
       "1  nonferrous scrap red metals   \n",
       "2  nonferrous scrap red metals   \n",
       "3  nonferrous scrap red metals   \n",
       "4  nonferrous scrap red metals   \n",
       "\n",
       "                                          sc:hasForm  \\\n",
       "0                                               wire   \n",
       "1                                         wire cable   \n",
       "2                                 miscellaneous wire   \n",
       "3  clippings punchings bus bars commutator segmen...   \n",
       "4                                miscellaneous scrap   \n",
       "\n",
       "                                       sc:isFreeFrom sc:contains  \\\n",
       "0                                                         copper   \n",
       "1                   brittle burnt wire copper tubing      copper   \n",
       "2  excessively leaded tinned soldered copper wire...      copper   \n",
       "3                                                         copper   \n",
       "4  excessively leaded tinned soldered copper scra...      copper   \n",
       "\n",
       "                 sc:hasSpecification                  pc:hasName  \\\n",
       "0            bare uncoated unalloyed                 copper wire   \n",
       "1  clean untinned uncoated unalloyed                 copper wire   \n",
       "2                          unalloyed                 copper wire   \n",
       "3           clean unalloyed uncoated  heavy copper solids tubing   \n",
       "4                          unalloyed        copper solids tubing   \n",
       "\n",
       "   sc:isComposedOf  \n",
       "0  sc:Material_249  \n",
       "1  sc:Material_249  \n",
       "2  sc:Material_249  \n",
       "3  sc:Material_249  \n",
       "4  sc:Material_249  "
      ]
     },
     "execution_count": 107,
     "metadata": {},
     "output_type": "execute_result"
    }
   ],
   "source": [
    "import texthero as hero\n",
    "from texthero import preprocessing\n",
    "\n",
    "custom_pipeline = [preprocessing.fillna,\n",
    "                   preprocessing.lowercase,\n",
    "                   preprocessing.remove_whitespace,\n",
    "                   preprocessing.remove_stopwords]\n",
    "\n",
    "for col in df.drop('sc:isComposedOf',axis=1).columns:\n",
    "    df[col] = hero.clean(df[col])\n",
    "\n",
    "df.head()\n"
   ]
  },
  {
   "cell_type": "code",
   "execution_count": 108,
   "id": "82002c7c",
   "metadata": {},
   "outputs": [
    {
     "data": {
      "text/plain": [
       "sc:hasCategory           0\n",
       "sc:hasForm               0\n",
       "sc:isFreeFrom            0\n",
       "sc:contains              0\n",
       "sc:hasSpecification      0\n",
       "pc:hasName               0\n",
       "sc:isComposedOf        109\n",
       "dtype: int64"
      ]
     },
     "execution_count": 108,
     "metadata": {},
     "output_type": "execute_result"
    }
   ],
   "source": [
    "df.isna().sum()"
   ]
  },
  {
   "cell_type": "markdown",
   "id": "124fa3bd",
   "metadata": {},
   "source": [
    "## Predict `sc:isComposedOf`"
   ]
  },
  {
   "cell_type": "markdown",
   "id": "c2ec876b",
   "metadata": {},
   "source": [
    "#### TfIdfVectorizer"
   ]
  },
  {
   "cell_type": "code",
   "execution_count": 109,
   "id": "d2ebd2ed",
   "metadata": {},
   "outputs": [
    {
     "data": {
      "text/plain": [
       "(135, 7)"
      ]
     },
     "execution_count": 109,
     "metadata": {},
     "output_type": "execute_result"
    }
   ],
   "source": [
    "df = df[df['sc:isComposedOf'].notna()]\n",
    "df.shape"
   ]
  },
  {
   "cell_type": "code",
   "execution_count": 116,
   "id": "6643427f",
   "metadata": {},
   "outputs": [],
   "source": [
    "df['corpus'] = df['sc:hasCategory']\n",
    "df['corpus'] = df['sc:hasCategory'] + ' ' + df['sc:hasSpecification'] + ' ' + df['sc:hasForm'] + df['sc:contains']\n",
    "\n",
    "# for col in df.drop(['sc:hasCategory', 'sc:isComposedOf'], axis=1):\n",
    "#     df['corpus'] = df['corpus'] + ' ' + df[col]\n",
    "\n",
    "# df.shape"
   ]
  },
  {
   "cell_type": "code",
   "execution_count": 117,
   "id": "5819505f",
   "metadata": {},
   "outputs": [
    {
     "data": {
      "text/html": [
       "<div>\n",
       "<style scoped>\n",
       "    .dataframe tbody tr th:only-of-type {\n",
       "        vertical-align: middle;\n",
       "    }\n",
       "\n",
       "    .dataframe tbody tr th {\n",
       "        vertical-align: top;\n",
       "    }\n",
       "\n",
       "    .dataframe thead th {\n",
       "        text-align: right;\n",
       "    }\n",
       "</style>\n",
       "<table border=\"1\" class=\"dataframe\">\n",
       "  <thead>\n",
       "    <tr style=\"text-align: right;\">\n",
       "      <th></th>\n",
       "      <th>sc:hasCategory</th>\n",
       "      <th>sc:hasForm</th>\n",
       "      <th>sc:isFreeFrom</th>\n",
       "      <th>sc:contains</th>\n",
       "      <th>sc:hasSpecification</th>\n",
       "      <th>pc:hasName</th>\n",
       "      <th>sc:isComposedOf</th>\n",
       "      <th>corpus</th>\n",
       "    </tr>\n",
       "  </thead>\n",
       "  <tbody>\n",
       "    <tr>\n",
       "      <th>0</th>\n",
       "      <td>nonferrous scrap red metals</td>\n",
       "      <td>wire</td>\n",
       "      <td></td>\n",
       "      <td>copper</td>\n",
       "      <td>bare uncoated unalloyed</td>\n",
       "      <td>copper wire</td>\n",
       "      <td>sc:Material_249</td>\n",
       "      <td>nonferrous scrap red metals bare uncoated unal...</td>\n",
       "    </tr>\n",
       "    <tr>\n",
       "      <th>1</th>\n",
       "      <td>nonferrous scrap red metals</td>\n",
       "      <td>wire cable</td>\n",
       "      <td>brittle burnt wire copper tubing</td>\n",
       "      <td>copper</td>\n",
       "      <td>clean untinned uncoated unalloyed</td>\n",
       "      <td>copper wire</td>\n",
       "      <td>sc:Material_249</td>\n",
       "      <td>nonferrous scrap red metals clean untinned unc...</td>\n",
       "    </tr>\n",
       "  </tbody>\n",
       "</table>\n",
       "</div>"
      ],
      "text/plain": [
       "                sc:hasCategory  sc:hasForm                     sc:isFreeFrom  \\\n",
       "0  nonferrous scrap red metals        wire                                     \n",
       "1  nonferrous scrap red metals  wire cable  brittle burnt wire copper tubing   \n",
       "\n",
       "  sc:contains                sc:hasSpecification   pc:hasName  \\\n",
       "0      copper            bare uncoated unalloyed  copper wire   \n",
       "1      copper  clean untinned uncoated unalloyed  copper wire   \n",
       "\n",
       "   sc:isComposedOf                                             corpus  \n",
       "0  sc:Material_249  nonferrous scrap red metals bare uncoated unal...  \n",
       "1  sc:Material_249  nonferrous scrap red metals clean untinned unc...  "
      ]
     },
     "execution_count": 117,
     "metadata": {},
     "output_type": "execute_result"
    }
   ],
   "source": [
    "df.head(2)"
   ]
  },
  {
   "cell_type": "code",
   "execution_count": 118,
   "id": "bcf1152b",
   "metadata": {},
   "outputs": [
    {
     "name": "stdout",
     "output_type": "stream",
     "text": [
      "(108, 489) (27, 489)\n"
     ]
    }
   ],
   "source": [
    "from sklearn.model_selection import train_test_split\n",
    "\n",
    "# X = df.drop('sc:isComposedOf', axis=1)\n",
    "X = df['corpus']\n",
    "y = df['sc:isComposedOf']\n",
    "\n",
    "X_train, X_test, y_train, y_test = train_test_split(X, y, test_size=0.20, random_state=4)\n",
    "\n",
    "from sklearn.feature_extraction.text import TfidfTransformer\n",
    "from sklearn.feature_extraction.text import TfidfVectorizer\n",
    "\n",
    "# X_train = X_train['sc:hasCategory'].values\n",
    "# X_test = X_test['sc:hasCategory'].values\n",
    "\n",
    "y_train = y_train.values\n",
    "y_test = y_test.values\n",
    "\n",
    "vectorizer = TfidfVectorizer()\n",
    "train_vectors = vectorizer.fit_transform(X_train)\n",
    "test_vectors = vectorizer.transform(X_test)\n",
    "\n",
    "print(train_vectors.shape, test_vectors.shape)"
   ]
  },
  {
   "cell_type": "code",
   "execution_count": 119,
   "id": "6974a6b4",
   "metadata": {},
   "outputs": [
    {
     "name": "stdout",
     "output_type": "stream",
     "text": [
      "0.4444444444444444\n"
     ]
    }
   ],
   "source": [
    "model = LogisticRegression()\n",
    "\n",
    "model.fit(train_vectors, y_train)\n",
    "predicted = model.predict(test_vectors)\n",
    "print(accuracy_score(y_test,predicted))\n",
    "\n",
    "results = pd.DataFrame(columns=['true', 'pred'])\n",
    "results['true'] = y_test\n",
    "results['pred'] = predicted"
   ]
  },
  {
   "cell_type": "code",
   "execution_count": 120,
   "id": "45115533",
   "metadata": {},
   "outputs": [
    {
     "name": "stdout",
     "output_type": "stream",
     "text": [
      "0.7777777777777778\n"
     ]
    }
   ],
   "source": [
    "from sklearn.svm import SVC\n",
    "\n",
    "model = SVC(C=100, gamma=.1)\n",
    "\n",
    "model.fit(train_vectors, y_train)\n",
    "predicted = model.predict(test_vectors)\n",
    "print(accuracy_score(y_test,predicted))\n",
    "\n",
    "results = pd.DataFrame(columns=['true', 'pred'])\n",
    "results['true'] = y_test\n",
    "results['pred'] = predicted"
   ]
  },
  {
   "cell_type": "code",
   "execution_count": 121,
   "id": "721a95c1",
   "metadata": {},
   "outputs": [
    {
     "data": {
      "text/html": [
       "<div>\n",
       "<style scoped>\n",
       "    .dataframe tbody tr th:only-of-type {\n",
       "        vertical-align: middle;\n",
       "    }\n",
       "\n",
       "    .dataframe tbody tr th {\n",
       "        vertical-align: top;\n",
       "    }\n",
       "\n",
       "    .dataframe thead th {\n",
       "        text-align: right;\n",
       "    }\n",
       "</style>\n",
       "<table border=\"1\" class=\"dataframe\">\n",
       "  <thead>\n",
       "    <tr style=\"text-align: right;\">\n",
       "      <th></th>\n",
       "      <th>true</th>\n",
       "      <th>pred</th>\n",
       "    </tr>\n",
       "  </thead>\n",
       "  <tbody>\n",
       "    <tr>\n",
       "      <th>0</th>\n",
       "      <td>sc:Material_254</td>\n",
       "      <td>sc:Material_254</td>\n",
       "    </tr>\n",
       "    <tr>\n",
       "      <th>1</th>\n",
       "      <td>sc:Material_706</td>\n",
       "      <td>sc:Material_707</td>\n",
       "    </tr>\n",
       "    <tr>\n",
       "      <th>2</th>\n",
       "      <td>sc:Material_255</td>\n",
       "      <td>sc:Material_244</td>\n",
       "    </tr>\n",
       "    <tr>\n",
       "      <th>3</th>\n",
       "      <td>sc:Material_249</td>\n",
       "      <td>sc:Material_249</td>\n",
       "    </tr>\n",
       "    <tr>\n",
       "      <th>4</th>\n",
       "      <td>sc:Material_254</td>\n",
       "      <td>sc:Material_254</td>\n",
       "    </tr>\n",
       "    <tr>\n",
       "      <th>5</th>\n",
       "      <td>sc:Material_249</td>\n",
       "      <td>sc:Material_249</td>\n",
       "    </tr>\n",
       "    <tr>\n",
       "      <th>6</th>\n",
       "      <td>sc:Material_707</td>\n",
       "      <td>sc:Material_707</td>\n",
       "    </tr>\n",
       "    <tr>\n",
       "      <th>7</th>\n",
       "      <td>sc:Material_703</td>\n",
       "      <td>sc:Material_703</td>\n",
       "    </tr>\n",
       "    <tr>\n",
       "      <th>8</th>\n",
       "      <td>sc:Material_701</td>\n",
       "      <td>sc:Material_701</td>\n",
       "    </tr>\n",
       "    <tr>\n",
       "      <th>9</th>\n",
       "      <td>sc:Material_696</td>\n",
       "      <td>sc:Material_696</td>\n",
       "    </tr>\n",
       "    <tr>\n",
       "      <th>10</th>\n",
       "      <td>sc:Material_245</td>\n",
       "      <td>sc:Material_697</td>\n",
       "    </tr>\n",
       "    <tr>\n",
       "      <th>11</th>\n",
       "      <td>sc:Material_695</td>\n",
       "      <td>sc:Material_695</td>\n",
       "    </tr>\n",
       "    <tr>\n",
       "      <th>12</th>\n",
       "      <td>sc:Material_254</td>\n",
       "      <td>sc:Material_244</td>\n",
       "    </tr>\n",
       "    <tr>\n",
       "      <th>13</th>\n",
       "      <td>sc:Material_247</td>\n",
       "      <td>sc:Material_247</td>\n",
       "    </tr>\n",
       "    <tr>\n",
       "      <th>14</th>\n",
       "      <td>sc:Material_256</td>\n",
       "      <td>sc:Material_256</td>\n",
       "    </tr>\n",
       "    <tr>\n",
       "      <th>15</th>\n",
       "      <td>sc:Material_256</td>\n",
       "      <td>sc:Material_255</td>\n",
       "    </tr>\n",
       "    <tr>\n",
       "      <th>16</th>\n",
       "      <td>sc:Material_696</td>\n",
       "      <td>sc:Material_696</td>\n",
       "    </tr>\n",
       "    <tr>\n",
       "      <th>17</th>\n",
       "      <td>sc:Material_700</td>\n",
       "      <td>sc:Material_700</td>\n",
       "    </tr>\n",
       "    <tr>\n",
       "      <th>18</th>\n",
       "      <td>sc:Material_700</td>\n",
       "      <td>sc:Material_700</td>\n",
       "    </tr>\n",
       "    <tr>\n",
       "      <th>19</th>\n",
       "      <td>sc:Material_249</td>\n",
       "      <td>sc:Material_249</td>\n",
       "    </tr>\n",
       "    <tr>\n",
       "      <th>20</th>\n",
       "      <td>sc:Material_256</td>\n",
       "      <td>sc:Material_244</td>\n",
       "    </tr>\n",
       "    <tr>\n",
       "      <th>21</th>\n",
       "      <td>sc:Material_244</td>\n",
       "      <td>sc:Material_244</td>\n",
       "    </tr>\n",
       "    <tr>\n",
       "      <th>22</th>\n",
       "      <td>sc:Material_254</td>\n",
       "      <td>sc:Material_254</td>\n",
       "    </tr>\n",
       "    <tr>\n",
       "      <th>23</th>\n",
       "      <td>sc:Material_247</td>\n",
       "      <td>sc:Material_247</td>\n",
       "    </tr>\n",
       "    <tr>\n",
       "      <th>24</th>\n",
       "      <td>sc:Material_695</td>\n",
       "      <td>sc:Material_695</td>\n",
       "    </tr>\n",
       "    <tr>\n",
       "      <th>25</th>\n",
       "      <td>sc:Material_256</td>\n",
       "      <td>sc:Material_256</td>\n",
       "    </tr>\n",
       "    <tr>\n",
       "      <th>26</th>\n",
       "      <td>sc:Material_244</td>\n",
       "      <td>sc:Material_244</td>\n",
       "    </tr>\n",
       "  </tbody>\n",
       "</table>\n",
       "</div>"
      ],
      "text/plain": [
       "               true             pred\n",
       "0   sc:Material_254  sc:Material_254\n",
       "1   sc:Material_706  sc:Material_707\n",
       "2   sc:Material_255  sc:Material_244\n",
       "3   sc:Material_249  sc:Material_249\n",
       "4   sc:Material_254  sc:Material_254\n",
       "5   sc:Material_249  sc:Material_249\n",
       "6   sc:Material_707  sc:Material_707\n",
       "7   sc:Material_703  sc:Material_703\n",
       "8   sc:Material_701  sc:Material_701\n",
       "9   sc:Material_696  sc:Material_696\n",
       "10  sc:Material_245  sc:Material_697\n",
       "11  sc:Material_695  sc:Material_695\n",
       "12  sc:Material_254  sc:Material_244\n",
       "13  sc:Material_247  sc:Material_247\n",
       "14  sc:Material_256  sc:Material_256\n",
       "15  sc:Material_256  sc:Material_255\n",
       "16  sc:Material_696  sc:Material_696\n",
       "17  sc:Material_700  sc:Material_700\n",
       "18  sc:Material_700  sc:Material_700\n",
       "19  sc:Material_249  sc:Material_249\n",
       "20  sc:Material_256  sc:Material_244\n",
       "21  sc:Material_244  sc:Material_244\n",
       "22  sc:Material_254  sc:Material_254\n",
       "23  sc:Material_247  sc:Material_247\n",
       "24  sc:Material_695  sc:Material_695\n",
       "25  sc:Material_256  sc:Material_256\n",
       "26  sc:Material_244  sc:Material_244"
      ]
     },
     "execution_count": 121,
     "metadata": {},
     "output_type": "execute_result"
    }
   ],
   "source": [
    "results"
   ]
  },
  {
   "cell_type": "code",
   "execution_count": null,
   "id": "1bae964a",
   "metadata": {},
   "outputs": [],
   "source": []
  },
  {
   "cell_type": "code",
   "execution_count": null,
   "id": "66b290f2",
   "metadata": {},
   "outputs": [],
   "source": []
  },
  {
   "cell_type": "code",
   "execution_count": null,
   "id": "27b16c55",
   "metadata": {},
   "outputs": [],
   "source": []
  },
  {
   "cell_type": "markdown",
   "id": "bf4ccd0a",
   "metadata": {},
   "source": [
    "# Study `UNS`"
   ]
  },
  {
   "cell_type": "code",
   "execution_count": 95,
   "id": "3fbad74b",
   "metadata": {},
   "outputs": [
    {
     "data": {
      "text/html": [
       "<div>\n",
       "<style scoped>\n",
       "    .dataframe tbody tr th:only-of-type {\n",
       "        vertical-align: middle;\n",
       "    }\n",
       "\n",
       "    .dataframe tbody tr th {\n",
       "        vertical-align: top;\n",
       "    }\n",
       "\n",
       "    .dataframe thead th {\n",
       "        text-align: right;\n",
       "    }\n",
       "</style>\n",
       "<table border=\"1\" class=\"dataframe\">\n",
       "  <thead>\n",
       "    <tr style=\"text-align: right;\">\n",
       "      <th></th>\n",
       "      <th>uns id</th>\n",
       "      <th>elements id</th>\n",
       "      <th>ar</th>\n",
       "      <th>atomicNumber</th>\n",
       "      <th>density</th>\n",
       "      <th>meltingPoint</th>\n",
       "      <th>hasName</th>\n",
       "      <th>symbol</th>\n",
       "    </tr>\n",
       "  </thead>\n",
       "  <tbody>\n",
       "    <tr>\n",
       "      <th>0</th>\n",
       "      <td>sc:UNS_712</td>\n",
       "      <td>sc:Elements_329</td>\n",
       "      <td>207.200</td>\n",
       "      <td>82</td>\n",
       "      <td>11.29</td>\n",
       "      <td>327.5</td>\n",
       "      <td>LEAD</td>\n",
       "      <td>Pb</td>\n",
       "    </tr>\n",
       "    <tr>\n",
       "      <th>1</th>\n",
       "      <td>sc:UNS_733</td>\n",
       "      <td>sc:Elements_329</td>\n",
       "      <td>207.200</td>\n",
       "      <td>82</td>\n",
       "      <td>11.29</td>\n",
       "      <td>327.5</td>\n",
       "      <td>LEAD</td>\n",
       "      <td>Pb</td>\n",
       "    </tr>\n",
       "    <tr>\n",
       "      <th>2</th>\n",
       "      <td>sc:UNS_738</td>\n",
       "      <td>sc:Elements_329</td>\n",
       "      <td>207.200</td>\n",
       "      <td>82</td>\n",
       "      <td>11.29</td>\n",
       "      <td>327.5</td>\n",
       "      <td>LEAD</td>\n",
       "      <td>Pb</td>\n",
       "    </tr>\n",
       "    <tr>\n",
       "      <th>3</th>\n",
       "      <td>sc:UNS_752</td>\n",
       "      <td>sc:Elements_329</td>\n",
       "      <td>207.200</td>\n",
       "      <td>82</td>\n",
       "      <td>11.29</td>\n",
       "      <td>327.5</td>\n",
       "      <td>LEAD</td>\n",
       "      <td>Pb</td>\n",
       "    </tr>\n",
       "    <tr>\n",
       "      <th>4</th>\n",
       "      <td>sc:UNS_837</td>\n",
       "      <td>sc:Elements_329</td>\n",
       "      <td>207.200</td>\n",
       "      <td>82</td>\n",
       "      <td>11.29</td>\n",
       "      <td>327.5</td>\n",
       "      <td>LEAD</td>\n",
       "      <td>Pb</td>\n",
       "    </tr>\n",
       "    <tr>\n",
       "      <th>...</th>\n",
       "      <td>...</td>\n",
       "      <td>...</td>\n",
       "      <td>...</td>\n",
       "      <td>...</td>\n",
       "      <td>...</td>\n",
       "      <td>...</td>\n",
       "      <td>...</td>\n",
       "      <td>...</td>\n",
       "    </tr>\n",
       "    <tr>\n",
       "      <th>907</th>\n",
       "      <td>sc:UNS_1657</td>\n",
       "      <td>sc:Elements_943</td>\n",
       "      <td>32.605</td>\n",
       "      <td>16</td>\n",
       "      <td>2.07</td>\n",
       "      <td>112.8</td>\n",
       "      <td>SULFUR</td>\n",
       "      <td>S</td>\n",
       "    </tr>\n",
       "    <tr>\n",
       "      <th>908</th>\n",
       "      <td>sc:UNS_1305</td>\n",
       "      <td>sc:Elements_943</td>\n",
       "      <td>32.605</td>\n",
       "      <td>16</td>\n",
       "      <td>2.07</td>\n",
       "      <td>112.8</td>\n",
       "      <td>SULFUR</td>\n",
       "      <td>S</td>\n",
       "    </tr>\n",
       "    <tr>\n",
       "      <th>909</th>\n",
       "      <td>sc:UNS_1654</td>\n",
       "      <td>sc:Elements_943</td>\n",
       "      <td>32.605</td>\n",
       "      <td>16</td>\n",
       "      <td>2.07</td>\n",
       "      <td>112.8</td>\n",
       "      <td>SULFUR</td>\n",
       "      <td>S</td>\n",
       "    </tr>\n",
       "    <tr>\n",
       "      <th>910</th>\n",
       "      <td>sc:UNS_1767</td>\n",
       "      <td>sc:Elements_946</td>\n",
       "      <td>10.811</td>\n",
       "      <td>5</td>\n",
       "      <td>2.34</td>\n",
       "      <td>2076.0</td>\n",
       "      <td>BORON</td>\n",
       "      <td>B</td>\n",
       "    </tr>\n",
       "    <tr>\n",
       "      <th>911</th>\n",
       "      <td>sc:UNS_1304</td>\n",
       "      <td>sc:Elements_946</td>\n",
       "      <td>10.811</td>\n",
       "      <td>5</td>\n",
       "      <td>2.34</td>\n",
       "      <td>2076.0</td>\n",
       "      <td>BORON</td>\n",
       "      <td>B</td>\n",
       "    </tr>\n",
       "  </tbody>\n",
       "</table>\n",
       "<p>912 rows × 8 columns</p>\n",
       "</div>"
      ],
      "text/plain": [
       "          uns id      elements id       ar  atomicNumber  density  \\\n",
       "0     sc:UNS_712  sc:Elements_329  207.200            82    11.29   \n",
       "1     sc:UNS_733  sc:Elements_329  207.200            82    11.29   \n",
       "2     sc:UNS_738  sc:Elements_329  207.200            82    11.29   \n",
       "3     sc:UNS_752  sc:Elements_329  207.200            82    11.29   \n",
       "4     sc:UNS_837  sc:Elements_329  207.200            82    11.29   \n",
       "..           ...              ...      ...           ...      ...   \n",
       "907  sc:UNS_1657  sc:Elements_943   32.605            16     2.07   \n",
       "908  sc:UNS_1305  sc:Elements_943   32.605            16     2.07   \n",
       "909  sc:UNS_1654  sc:Elements_943   32.605            16     2.07   \n",
       "910  sc:UNS_1767  sc:Elements_946   10.811             5     2.34   \n",
       "911  sc:UNS_1304  sc:Elements_946   10.811             5     2.34   \n",
       "\n",
       "     meltingPoint hasName symbol  \n",
       "0           327.5    LEAD     Pb  \n",
       "1           327.5    LEAD     Pb  \n",
       "2           327.5    LEAD     Pb  \n",
       "3           327.5    LEAD     Pb  \n",
       "4           327.5    LEAD     Pb  \n",
       "..            ...     ...    ...  \n",
       "907         112.8  SULFUR      S  \n",
       "908         112.8  SULFUR      S  \n",
       "909         112.8  SULFUR      S  \n",
       "910        2076.0   BORON      B  \n",
       "911        2076.0   BORON      B  \n",
       "\n",
       "[912 rows x 8 columns]"
      ]
     },
     "execution_count": 95,
     "metadata": {},
     "output_type": "execute_result"
    }
   ],
   "source": [
    "uns_data"
   ]
  },
  {
   "cell_type": "code",
   "execution_count": 93,
   "id": "dba70d7a",
   "metadata": {},
   "outputs": [],
   "source": [
    "uns_data.drop('sc:hasName', axis=1, inplace=True)"
   ]
  },
  {
   "cell_type": "code",
   "execution_count": 94,
   "id": "52a667f6",
   "metadata": {},
   "outputs": [
    {
     "data": {
      "text/plain": [
       "uns id          0\n",
       "elements id     0\n",
       "ar              0\n",
       "atomicNumber    0\n",
       "density         0\n",
       "meltingPoint    0\n",
       "hasName         0\n",
       "symbol          0\n",
       "dtype: int64"
      ]
     },
     "execution_count": 94,
     "metadata": {},
     "output_type": "execute_result"
    }
   ],
   "source": [
    "uns_data.isna().sum()"
   ]
  },
  {
   "cell_type": "code",
   "execution_count": null,
   "id": "2554f16e",
   "metadata": {},
   "outputs": [],
   "source": []
  },
  {
   "cell_type": "markdown",
   "id": "9025e620",
   "metadata": {},
   "source": [
    "# Study `ANAMET`"
   ]
  },
  {
   "cell_type": "code",
   "execution_count": 96,
   "id": "2dc5123b",
   "metadata": {},
   "outputs": [
    {
     "data": {
      "text/html": [
       "<div>\n",
       "<style scoped>\n",
       "    .dataframe tbody tr th:only-of-type {\n",
       "        vertical-align: middle;\n",
       "    }\n",
       "\n",
       "    .dataframe tbody tr th {\n",
       "        vertical-align: top;\n",
       "    }\n",
       "\n",
       "    .dataframe thead th {\n",
       "        text-align: right;\n",
       "    }\n",
       "</style>\n",
       "<table border=\"1\" class=\"dataframe\">\n",
       "  <thead>\n",
       "    <tr style=\"text-align: right;\">\n",
       "      <th></th>\n",
       "      <th>anamet entity</th>\n",
       "      <th>sc:description</th>\n",
       "      <th>sc:hasCategory</th>\n",
       "      <th>sc:internal_code</th>\n",
       "      <th>sc:isProcessedBy</th>\n",
       "    </tr>\n",
       "  </thead>\n",
       "  <tbody>\n",
       "    <tr>\n",
       "      <th>0</th>\n",
       "      <td>sc:ANAMET_437</td>\n",
       "      <td>ΣΚΡΑΠ ΨΑΛΙΔΙΣΜΕΝΟ ΠΥΚΝ &gt;450 ΚG/M3 (ΥΛΗ)</td>\n",
       "      <td>Ferrous</td>\n",
       "      <td>40000</td>\n",
       "      <td>sc:Process_690</td>\n",
       "    </tr>\n",
       "    <tr>\n",
       "      <th>1</th>\n",
       "      <td>sc:ANAMET_438</td>\n",
       "      <td>άγνωστο</td>\n",
       "      <td>Ferrous</td>\n",
       "      <td>9000</td>\n",
       "      <td>NaN</td>\n",
       "    </tr>\n",
       "    <tr>\n",
       "      <th>2</th>\n",
       "      <td>sc:ANAMET_439</td>\n",
       "      <td>κουτάκι</td>\n",
       "      <td>Ferrous</td>\n",
       "      <td>9101</td>\n",
       "      <td>NaN</td>\n",
       "    </tr>\n",
       "    <tr>\n",
       "      <th>3</th>\n",
       "      <td>sc:ANAMET_440</td>\n",
       "      <td>λαμαρίνες</td>\n",
       "      <td>Ferrous</td>\n",
       "      <td>9102</td>\n",
       "      <td>NaN</td>\n",
       "    </tr>\n",
       "    <tr>\n",
       "      <th>4</th>\n",
       "      <td>sc:ANAMET_441</td>\n",
       "      <td>ζάντες + βαρύ προς shredder κλπ από ΟΤΚΖ</td>\n",
       "      <td>Ferrous</td>\n",
       "      <td>9103</td>\n",
       "      <td>NaN</td>\n",
       "    </tr>\n",
       "    <tr>\n",
       "      <th>...</th>\n",
       "      <td>...</td>\n",
       "      <td>...</td>\n",
       "      <td>...</td>\n",
       "      <td>...</td>\n",
       "      <td>...</td>\n",
       "    </tr>\n",
       "    <tr>\n",
       "      <th>317</th>\n",
       "      <td>sc:ANAMET_684</td>\n",
       "      <td>LEAD SCRAP (E)</td>\n",
       "      <td>Non-Ferrous</td>\n",
       "      <td>50185</td>\n",
       "      <td>NaN</td>\n",
       "    </tr>\n",
       "    <tr>\n",
       "      <th>318</th>\n",
       "      <td>sc:ANAMET_685</td>\n",
       "      <td>ELECTRIC MOTORS SHREDDED (WEEE)</td>\n",
       "      <td>Non-Ferrous</td>\n",
       "      <td>50259</td>\n",
       "      <td>NaN</td>\n",
       "    </tr>\n",
       "    <tr>\n",
       "      <th>319</th>\n",
       "      <td>sc:ANAMET_686</td>\n",
       "      <td>BLACK PLASTIC SCRAP (WEEE)  ( E )</td>\n",
       "      <td>Non-Ferrous</td>\n",
       "      <td>50117</td>\n",
       "      <td>NaN</td>\n",
       "    </tr>\n",
       "    <tr>\n",
       "      <th>320</th>\n",
       "      <td>sc:ANAMET_687</td>\n",
       "      <td>SCRAP PLEXIGLASS ( E )</td>\n",
       "      <td>Non-Ferrous</td>\n",
       "      <td>50118</td>\n",
       "      <td>NaN</td>\n",
       "    </tr>\n",
       "    <tr>\n",
       "      <th>321</th>\n",
       "      <td>sc:ANAMET_688</td>\n",
       "      <td>MIXED PLASTIC SCRAP (WEEE) ( E )</td>\n",
       "      <td>Non-Ferrous</td>\n",
       "      <td>50119</td>\n",
       "      <td>NaN</td>\n",
       "    </tr>\n",
       "  </tbody>\n",
       "</table>\n",
       "<p>322 rows × 5 columns</p>\n",
       "</div>"
      ],
      "text/plain": [
       "     anamet entity                            sc:description sc:hasCategory  \\\n",
       "0    sc:ANAMET_437   ΣΚΡΑΠ ΨΑΛΙΔΙΣΜΕΝΟ ΠΥΚΝ >450 ΚG/M3 (ΥΛΗ)        Ferrous   \n",
       "1    sc:ANAMET_438                                   άγνωστο        Ferrous   \n",
       "2    sc:ANAMET_439                                   κουτάκι        Ferrous   \n",
       "3    sc:ANAMET_440                                 λαμαρίνες        Ferrous   \n",
       "4    sc:ANAMET_441  ζάντες + βαρύ προς shredder κλπ από ΟΤΚΖ        Ferrous   \n",
       "..             ...                                       ...            ...   \n",
       "317  sc:ANAMET_684                            LEAD SCRAP (E)    Non-Ferrous   \n",
       "318  sc:ANAMET_685           ELECTRIC MOTORS SHREDDED (WEEE)    Non-Ferrous   \n",
       "319  sc:ANAMET_686         BLACK PLASTIC SCRAP (WEEE)  ( E )    Non-Ferrous   \n",
       "320  sc:ANAMET_687                    SCRAP PLEXIGLASS ( E )    Non-Ferrous   \n",
       "321  sc:ANAMET_688          MIXED PLASTIC SCRAP (WEEE) ( E )    Non-Ferrous   \n",
       "\n",
       "     sc:internal_code sc:isProcessedBy  \n",
       "0               40000   sc:Process_690  \n",
       "1                9000              NaN  \n",
       "2                9101              NaN  \n",
       "3                9102              NaN  \n",
       "4                9103              NaN  \n",
       "..                ...              ...  \n",
       "317             50185              NaN  \n",
       "318             50259              NaN  \n",
       "319             50117              NaN  \n",
       "320             50118              NaN  \n",
       "321             50119              NaN  \n",
       "\n",
       "[322 rows x 5 columns]"
      ]
     },
     "execution_count": 96,
     "metadata": {},
     "output_type": "execute_result"
    }
   ],
   "source": [
    "anamet_data"
   ]
  },
  {
   "cell_type": "code",
   "execution_count": null,
   "id": "9f665c13",
   "metadata": {},
   "outputs": [],
   "source": []
  },
  {
   "cell_type": "markdown",
   "id": "552f7e17",
   "metadata": {},
   "source": [
    "# Unified dataset"
   ]
  },
  {
   "cell_type": "code",
   "execution_count": 97,
   "id": "3214af66",
   "metadata": {},
   "outputs": [],
   "source": [
    "uns_data = pd.read_excel(xls, 'UNS data')\n",
    "\n",
    "uns_data.rename(columns = {'sc:isComposedOf':'elements id'}, inplace = True)\n",
    "\n",
    "elements_data = pd.read_excel(xls, 'Elements data')\n",
    "\n",
    "uns_data = pd.merge(uns_data, elements_data, how='inner', on = 'elements id')\n",
    "isri_data = pd.read_excel(xls, 'Isri data')\n",
    "anamet_data = pd.read_excel(xls, 'Anamet data')\n",
    "material_data = pd.read_excel(xls, 'Material data')\n",
    "elements_data = pd.read_excel(xls, 'Elements data')"
   ]
  },
  {
   "cell_type": "code",
   "execution_count": null,
   "id": "1f87a270",
   "metadata": {},
   "outputs": [],
   "source": []
  },
  {
   "cell_type": "code",
   "execution_count": null,
   "id": "1421b933",
   "metadata": {},
   "outputs": [],
   "source": []
  },
  {
   "cell_type": "code",
   "execution_count": null,
   "id": "0a69676f",
   "metadata": {},
   "outputs": [],
   "source": []
  },
  {
   "cell_type": "code",
   "execution_count": null,
   "id": "5730dadc",
   "metadata": {},
   "outputs": [],
   "source": []
  },
  {
   "cell_type": "code",
   "execution_count": null,
   "id": "e659ee4e",
   "metadata": {},
   "outputs": [],
   "source": []
  },
  {
   "cell_type": "markdown",
   "id": "84bdb19a",
   "metadata": {},
   "source": [
    "How many __unique__ ISRI?"
   ]
  },
  {
   "cell_type": "code",
   "execution_count": null,
   "id": "c3da8789",
   "metadata": {},
   "outputs": [],
   "source": [
    "isri_data['isri id'].nunique()"
   ]
  },
  {
   "cell_type": "code",
   "execution_count": null,
   "id": "6e2cce3c",
   "metadata": {},
   "outputs": [],
   "source": [
    "# check nans\n",
    "isri_data.isna().sum()"
   ]
  },
  {
   "cell_type": "markdown",
   "id": "3a7846f8",
   "metadata": {},
   "source": [
    "Όσα `ISRI` έχουν available `process`, ανήκουν στο ίδιο. Επομένως, δεν έχει νοήμα η προσπάθεια πρόβλεψης του process κάποιου scrap."
   ]
  },
  {
   "cell_type": "code",
   "execution_count": null,
   "id": "d1bee531",
   "metadata": {},
   "outputs": [],
   "source": [
    "print(isri_data['sc:isProcessedBy'].unique())\n",
    "\n",
    "# drop process from ISRI\n",
    "isri_data.drop('sc:isProcessedBy', axis=1, inplace=True)"
   ]
  },
  {
   "cell_type": "code",
   "execution_count": null,
   "id": "54120ac9",
   "metadata": {},
   "outputs": [],
   "source": [
    "isri_data['sc:hasCategory'].value_counts()"
   ]
  },
  {
   "cell_type": "code",
   "execution_count": null,
   "id": "b3aa65fc",
   "metadata": {},
   "outputs": [],
   "source": [
    "isri_data.head(2)"
   ]
  },
  {
   "cell_type": "markdown",
   "id": "8b2de420",
   "metadata": {},
   "source": [
    "#### Check for NaNs and fill them with empty string"
   ]
  },
  {
   "cell_type": "code",
   "execution_count": null,
   "id": "20bd6f7b",
   "metadata": {},
   "outputs": [],
   "source": [
    "isri_data.isna().sum()"
   ]
  },
  {
   "cell_type": "code",
   "execution_count": null,
   "id": "e37c3c53",
   "metadata": {},
   "outputs": [],
   "source": [
    "# isri_data.fillna('', inplace=True)"
   ]
  },
  {
   "cell_type": "code",
   "execution_count": null,
   "id": "330480b0",
   "metadata": {},
   "outputs": [],
   "source": [
    "# Probably just a 'code name'. We will drop it\n",
    "isri_data.drop('sc:hasISRICode', axis=1, inplace=True)"
   ]
  },
  {
   "cell_type": "code",
   "execution_count": null,
   "id": "6a21aab3",
   "metadata": {},
   "outputs": [],
   "source": [
    "isri_data.head(2)"
   ]
  },
  {
   "cell_type": "markdown",
   "id": "1fa70986",
   "metadata": {},
   "source": [
    "# TDS: How to vectorize text in DF for NLP"
   ]
  },
  {
   "cell_type": "code",
   "execution_count": null,
   "id": "387c467c",
   "metadata": {},
   "outputs": [],
   "source": [
    "import texthero as hero\n",
    "from texthero import preprocessing"
   ]
  },
  {
   "cell_type": "code",
   "execution_count": null,
   "id": "ad529325",
   "metadata": {},
   "outputs": [],
   "source": [
    "custom_pipeline = [preprocessing.fillna,\n",
    "                   preprocessing.lowercase,\n",
    "                   preprocessing.remove_whitespace,\n",
    "                   preprocessing.remove_stopwords]\n",
    "\n",
    "df = isri_data.copy()"
   ]
  },
  {
   "cell_type": "code",
   "execution_count": null,
   "id": "6eea7ae1",
   "metadata": {},
   "outputs": [],
   "source": [
    "df.head()"
   ]
  },
  {
   "cell_type": "code",
   "execution_count": null,
   "id": "501d4359",
   "metadata": {},
   "outputs": [],
   "source": [
    "reviews = df['sc:hasCategory'].str.cat(sep=' ')"
   ]
  },
  {
   "cell_type": "code",
   "execution_count": null,
   "id": "10670339",
   "metadata": {},
   "outputs": [],
   "source": [
    "le = LabelEncoder()\n",
    "\n",
    "df['sc:isComposedOf'] = le.fit_transform(df['sc:isComposedOf'])\n",
    "df.head(2)"
   ]
  },
  {
   "cell_type": "code",
   "execution_count": null,
   "id": "1d54b664",
   "metadata": {},
   "outputs": [],
   "source": [
    "from sklearn.model_selection import train_test_split\n",
    "\n",
    "X = df.drop('sc:isComposedOf', axis=1)\n",
    "y = df['sc:isComposedOf']\n",
    "\n",
    "X_train, X_test, y_train, y_test = train_test_split(X, y, test_size=0.2)"
   ]
  },
  {
   "cell_type": "code",
   "execution_count": null,
   "id": "9ebe620f",
   "metadata": {},
   "outputs": [],
   "source": [
    "from sklearn.feature_extraction.text import TfidfTransformer\n",
    "from sklearn.feature_extraction.text import TfidfVectorizer\n",
    "\n",
    "X_train = X_train['sc:hasCategory'].values\n",
    "X_test = X_test['sc:hasCategory'].values\n",
    "\n",
    "y_train = y_train.values\n",
    "y_test = y_test.values\n",
    "\n",
    "vectorizer = TfidfVectorizer()\n",
    "train_vectors = vectorizer.fit_transform(X_train)\n",
    "test_vectors = vectorizer.transform(X_test)\n",
    "\n",
    "print(train_vectors.shape, test_vectors.shape)\n",
    "\n",
    "from sklearn.naive_bayes import MultinomialNB\n",
    "\n",
    "clf = MultinomialNB().fit(train_vectors, y_train)\n",
    "predicted = clf.predict(test_vectors)\n",
    "print(accuracy_score(y_test,predicted))"
   ]
  },
  {
   "cell_type": "code",
   "execution_count": null,
   "id": "4551aad3",
   "metadata": {},
   "outputs": [],
   "source": [
    "pd.DataFrame(train_vectors.todense())"
   ]
  },
  {
   "cell_type": "code",
   "execution_count": null,
   "id": "a8b16e70",
   "metadata": {},
   "outputs": [],
   "source": [
    "train_vectors.todense()"
   ]
  },
  {
   "cell_type": "code",
   "execution_count": null,
   "id": "2b06673f",
   "metadata": {},
   "outputs": [],
   "source": [
    "for col in X_train.columns:\n",
    "    vectorizer = TfidfVectorizer()\n",
    "    train_vectors = vectorizer.fit_tr\n",
    "    print(col)"
   ]
  },
  {
   "cell_type": "code",
   "execution_count": null,
   "id": "250b8f45",
   "metadata": {},
   "outputs": [],
   "source": []
  },
  {
   "cell_type": "code",
   "execution_count": null,
   "id": "2717105b",
   "metadata": {},
   "outputs": [],
   "source": [
    "from sklearn.feature_extraction.text import CountVectorizer\n",
    "\n",
    "X = df['sc:hasCategory']\n",
    "\n",
    "cvec = CountVectorizer().fit(X)\n",
    "X = cvec.transform(X)\n",
    "df_train = pd.DataFrame(X.todense(), columns=cvec.get_feature_names())\n",
    "df_train"
   ]
  },
  {
   "cell_type": "code",
   "execution_count": null,
   "id": "d2b8bf96",
   "metadata": {},
   "outputs": [],
   "source": []
  },
  {
   "cell_type": "code",
   "execution_count": null,
   "id": "0006c7c5",
   "metadata": {},
   "outputs": [],
   "source": []
  },
  {
   "cell_type": "code",
   "execution_count": null,
   "id": "8073a26d",
   "metadata": {},
   "outputs": [],
   "source": []
  },
  {
   "cell_type": "code",
   "execution_count": null,
   "id": "8651b767",
   "metadata": {},
   "outputs": [],
   "source": [
    "for col in df.drop('sc:isComposedOf', axis=1).columns:\n",
    "    df[col] = hero.clean(df[col])\n",
    "    df[col] = df[col].pipe(hero.clean, custom_pipeline)\n",
    "\n",
    "df.head()\n"
   ]
  },
  {
   "cell_type": "code",
   "execution_count": null,
   "id": "1cca54f2",
   "metadata": {},
   "outputs": [],
   "source": []
  },
  {
   "cell_type": "code",
   "execution_count": null,
   "id": "ac262915",
   "metadata": {},
   "outputs": [],
   "source": []
  },
  {
   "cell_type": "code",
   "execution_count": null,
   "id": "7418c28c",
   "metadata": {},
   "outputs": [],
   "source": []
  },
  {
   "cell_type": "code",
   "execution_count": null,
   "id": "19e74462",
   "metadata": {},
   "outputs": [],
   "source": []
  },
  {
   "cell_type": "code",
   "execution_count": null,
   "id": "1fc9cddb",
   "metadata": {},
   "outputs": [],
   "source": []
  },
  {
   "cell_type": "code",
   "execution_count": null,
   "id": "4897896c",
   "metadata": {},
   "outputs": [],
   "source": []
  },
  {
   "cell_type": "code",
   "execution_count": null,
   "id": "19f9bde8",
   "metadata": {},
   "outputs": [],
   "source": []
  },
  {
   "cell_type": "code",
   "execution_count": null,
   "id": "15a0de15",
   "metadata": {},
   "outputs": [],
   "source": []
  },
  {
   "cell_type": "code",
   "execution_count": null,
   "id": "f16dbc5e",
   "metadata": {},
   "outputs": [],
   "source": []
  },
  {
   "cell_type": "code",
   "execution_count": null,
   "id": "1cfed2fb",
   "metadata": {},
   "outputs": [],
   "source": []
  },
  {
   "cell_type": "code",
   "execution_count": null,
   "id": "8d3bc9f5",
   "metadata": {},
   "outputs": [],
   "source": []
  },
  {
   "cell_type": "code",
   "execution_count": null,
   "id": "62530fe8",
   "metadata": {},
   "outputs": [],
   "source": [
    "for col in df.drop('sc:isComposedOf', axis=1).columns:\n",
    "    df[col] = hero.tfidf(df[col])\n",
    "\n",
    "df.head()"
   ]
  },
  {
   "cell_type": "code",
   "execution_count": null,
   "id": "12cc1f98",
   "metadata": {},
   "outputs": [],
   "source": [
    "print(df.isna().sum())\n",
    "\n",
    "df.fillna('', inplace=True)"
   ]
  },
  {
   "cell_type": "code",
   "execution_count": null,
   "id": "51fdffd2",
   "metadata": {},
   "outputs": [],
   "source": [
    "pred_isComposedOf_df = df[df['sc:isComposedOf'] != '']\n",
    "pred_isComposedOf_df.shape\n"
   ]
  },
  {
   "cell_type": "code",
   "execution_count": null,
   "id": "10670339",
   "metadata": {},
   "outputs": [],
   "source": [
    "le = LabelEncoder()\n",
    "\n",
    "pred_isComposedOf_df['sc:isComposedOf'] = le.fit_transform(pred_isComposedOf_df['sc:isComposedOf'])\n",
    "pred_isComposedOf_df.head(2)"
   ]
  },
  {
   "cell_type": "code",
   "execution_count": null,
   "id": "1d54b664",
   "metadata": {},
   "outputs": [],
   "source": [
    "from sklearn.model_selection import train_test_split\n",
    "\n",
    "X = pred_isComposedOf_df.drop('sc:isComposedOf', axis=1)\n",
    "y = pred_isComposedOf_df['sc:isComposedOf']\n",
    "\n",
    "X_train, X_test, y_train, y_test = train_test_split(X, y, test_size=0.2)"
   ]
  },
  {
   "cell_type": "code",
   "execution_count": null,
   "id": "cc1fda1e",
   "metadata": {},
   "outputs": [],
   "source": [
    "from sklearn.naive_bayes import MultinomialNB\n",
    "from sklearn.linear_model import SGDClassifier\n",
    "from sklearn.linear_model import LogisticRegression\n",
    "from sklearn.multiclass import OneVsRestClassifier\n",
    "\n",
    "model = OneVsRestClassifier(LogisticRegression())\n",
    "\n",
    "model.fit(X_train['sc:hasCategory'], y_train)\n",
    "y_hat = model.predict(X_test)\n",
    "\n",
    "results = pd.DataFrame()\n",
    "\n",
    "results['true'] = y_test\n",
    "results['pred'] = y_hat\n",
    "\n",
    "accuracy_score(y_test, y_hat)"
   ]
  },
  {
   "cell_type": "code",
   "execution_count": null,
   "id": "20aa1fbe",
   "metadata": {},
   "outputs": [],
   "source": []
  },
  {
   "cell_type": "code",
   "execution_count": null,
   "id": "e6c54780",
   "metadata": {},
   "outputs": [],
   "source": []
  },
  {
   "cell_type": "code",
   "execution_count": null,
   "id": "6d1db1cf",
   "metadata": {},
   "outputs": [],
   "source": []
  },
  {
   "cell_type": "code",
   "execution_count": null,
   "id": "3bce05be",
   "metadata": {},
   "outputs": [],
   "source": []
  },
  {
   "cell_type": "code",
   "execution_count": null,
   "id": "5b9e4c1a",
   "metadata": {},
   "outputs": [],
   "source": []
  },
  {
   "cell_type": "code",
   "execution_count": null,
   "id": "685793cd",
   "metadata": {},
   "outputs": [],
   "source": [
    "pred_isComposedOf_df = isri_data[isri_data['sc:isComposedOf'] != '']\n",
    "pred_isComposedOf_df.drop(columns=['isri id', 'sc:isFreeFrom'], inplace=True)\n",
    "pred_isComposedOf_df.head()"
   ]
  },
  {
   "cell_type": "code",
   "execution_count": null,
   "id": "dc45193a",
   "metadata": {},
   "outputs": [],
   "source": [
    "from sklearn.feature_extraction.text import TfidfVectorizer\n",
    "\n",
    "# columns = ['sc:hasCategory', 'pc:hasName']\n",
    "columns = pred_isComposedOf_df.columns\n",
    "\n",
    "for col_name in columns:\n",
    "    \n",
    "    if col_name == 'sc:isComposedOf': continue\n",
    "    else:\n",
    "            \n",
    "        text = isri_data[col_name]\n",
    "\n",
    "        df = pd.DataFrame()\n",
    "        df['corpus'] = text\n",
    "        df['cleaned'] = df['corpus'].apply(lambda x: preprocess_text(x, remove_stopwords=True))\n",
    "\n",
    "        pred_isComposedOf_df[col_name] = df['cleaned']\n",
    "\n",
    "        del df"
   ]
  },
  {
   "cell_type": "code",
   "execution_count": null,
   "id": "d9b059dd",
   "metadata": {},
   "outputs": [],
   "source": [
    "pred_isComposedOf_df"
   ]
  },
  {
   "cell_type": "code",
   "execution_count": null,
   "id": "0ef09569",
   "metadata": {},
   "outputs": [],
   "source": []
  },
  {
   "cell_type": "code",
   "execution_count": null,
   "id": "f3dc941d",
   "metadata": {},
   "outputs": [],
   "source": []
  },
  {
   "cell_type": "code",
   "execution_count": null,
   "id": "3810945e",
   "metadata": {},
   "outputs": [],
   "source": [
    "def cluster_text(text, true_k):\n",
    "    vectorizer = TfidfVectorizer()\n",
    "    X = vectorizer.fit_transform(text)\n",
    "\n",
    "    return X\n",
    "\n",
    "   #  Sum_of_squared_distances = []\n",
    "   #  K = range(2,10)\n",
    "   #  for k in K:\n",
    "   #     km = KMeans(n_clusters=k, max_iter=200, n_init=10)\n",
    "   #     km = km.fit(X)\n",
    "   #     Sum_of_squared_distances.append(km.inertia_)\n",
    "   #  plt.plot(K, Sum_of_squared_distances, 'bx-')\n",
    "   #  plt.xlabel('k')\n",
    "   #  plt.ylabel('Sum_of_squared_distances')\n",
    "   #  plt.title('Elbow Method For Optimal k')\n",
    "   #  plt.show()\n",
    "\n",
    "   # #  true_k = 6\n",
    "   #  model = KMeans(n_clusters=true_k, init='k-means++', max_iter=200, n_init=10)\n",
    "   #  model.fit(X)\n",
    "\n",
    "   #  labels=model.labels_\n",
    "   #  clusters=pd.DataFrame(list(zip(text,labels)),columns=['title','cluster'])\n",
    "   #  #print(clusters.sort_values(by=['cluster']))\n",
    "       \n",
    "   #  return clusters"
   ]
  },
  {
   "cell_type": "code",
   "execution_count": null,
   "id": "a3955dcf",
   "metadata": {},
   "outputs": [],
   "source": [
    "X = cluster_text(pred_isComposedOf_df['sc:hasCategory'], 6)\n",
    "X.shape"
   ]
  },
  {
   "cell_type": "code",
   "execution_count": null,
   "id": "a8149bcc",
   "metadata": {},
   "outputs": [],
   "source": [
    "for mat in pred_isComposedOf_df['sc:isComposedOf'].value_counts().tail(15).index.values:\n",
    "\n",
    "    pred_isComposedOf_df = pred_isComposedOf_df[pred_isComposedOf_df['sc:isComposedOf'] != mat]"
   ]
  },
  {
   "cell_type": "code",
   "execution_count": null,
   "id": "02c529dd",
   "metadata": {},
   "outputs": [],
   "source": [
    "from sklearn.model_selection import train_test_split\n",
    "\n",
    "X = pred_isComposedOf_df.drop('sc:isComposedOf', axis=1)\n",
    "y = pred_isComposedOf_df['sc:isComposedOf']\n",
    "\n",
    "X = cluster_text(X['sc:hasCategory'], 6)\n",
    "\n",
    "X_train, X_test, y_train, y_test = train_test_split(X, y, test_size=0.2)"
   ]
  },
  {
   "cell_type": "code",
   "execution_count": null,
   "id": "cd38c584",
   "metadata": {},
   "outputs": [],
   "source": []
  },
  {
   "cell_type": "code",
   "execution_count": null,
   "id": "3036549a",
   "metadata": {},
   "outputs": [],
   "source": [
    "le = LabelEncoder()\n",
    "\n",
    "y_train = le.fit_transform(y_train)\n",
    "y_test = le.transform(y_test)"
   ]
  },
  {
   "cell_type": "code",
   "execution_count": null,
   "id": "8b776b16",
   "metadata": {},
   "outputs": [],
   "source": [
    "from sklearn.naive_bayes import MultinomialNB\n",
    "from sklearn.linear_model import SGDClassifier\n",
    "from sklearn.linear_model import LogisticRegression\n",
    "from sklearn.multiclass import OneVsRestClassifier\n",
    "\n",
    "model = OneVsRestClassifier(LogisticRegression())\n",
    "\n",
    "model.fit(X_train, y_train)\n",
    "y_hat = model.predict(X_test)\n",
    "\n",
    "results = pd.DataFrame()\n",
    "\n",
    "results['true'] = y_test\n",
    "results['pred'] = y_hat\n",
    "\n",
    "accuracy_score(y_test, y_hat)"
   ]
  },
  {
   "cell_type": "code",
   "execution_count": null,
   "id": "79e1c1f2",
   "metadata": {},
   "outputs": [],
   "source": []
  },
  {
   "cell_type": "code",
   "execution_count": null,
   "id": "fa634706",
   "metadata": {},
   "outputs": [],
   "source": []
  },
  {
   "cell_type": "code",
   "execution_count": null,
   "id": "83447305",
   "metadata": {},
   "outputs": [],
   "source": [
    "isri_data['cluster_category'] = cluster_text(isri_data['sc:hasCategory'], 6)['cluster']\n",
    "isri_data.head(2)"
   ]
  },
  {
   "cell_type": "code",
   "execution_count": null,
   "id": "a08730d8",
   "metadata": {},
   "outputs": [],
   "source": [
    "isri_data['cluster_hasName'] = cluster_text(isri_data['pc:hasName'], 5)['cluster']\n",
    "isri_data.head(2)"
   ]
  },
  {
   "cell_type": "code",
   "execution_count": null,
   "id": "8e291fe5",
   "metadata": {},
   "outputs": [],
   "source": [
    " isri_data[isri_data['cluster_hasName'] == 1]"
   ]
  },
  {
   "cell_type": "code",
   "execution_count": null,
   "id": "58ed8c23",
   "metadata": {},
   "outputs": [],
   "source": []
  },
  {
   "cell_type": "code",
   "execution_count": null,
   "id": "0c6b0d4c",
   "metadata": {},
   "outputs": [],
   "source": [
    "from sklearn.feature_extraction.text import CountVectorizer\n",
    "from sklearn.feature_extraction.text import TfidfTransformer\n",
    "from sklearn.preprocessing import MultiLabelBinarizer\n",
    "\n",
    "df = pred_isComposedOf_df.copy()\n",
    "multilabel_binarizer = MultiLabelBinarizer()\n",
    "multilabel_binarizer.fit(df['sc:isComposedOf'])\n",
    "Y = multilabel_binarizer.transform(df['sc:isComposedOf'])\n",
    "\n",
    "count_vect = CountVectorizer()\n",
    "X_counts = count_vect.fit_transform(df['sc:hasCategory'])\n",
    "\n",
    "tfidf_transformer = TfidfTransformer()\n",
    "X_tfidf = tfidf_transformer.fit_transform(X_counts)\n"
   ]
  },
  {
   "cell_type": "code",
   "execution_count": null,
   "id": "2f11c100",
   "metadata": {},
   "outputs": [],
   "source": [
    "x_train_tfidf, x_test_tfidf, y_train_tfidf, y_test_tfidf = train_test_split(X_tfidf, Y, \n",
    "                    test_size=0.2, random_state=2)"
   ]
  },
  {
   "cell_type": "code",
   "execution_count": null,
   "id": "4fe4ba88",
   "metadata": {},
   "outputs": [],
   "source": [
    "from sklearn.naive_bayes import MultinomialNB\n",
    "from sklearn.linear_model import SGDClassifier\n",
    "from sklearn.linear_model import LogisticRegression\n",
    "from sklearn.multiclass import OneVsRestClassifier\n",
    "from sklearn.metrics import hamming_loss\n",
    "\n",
    "def hamming_score(y_true, y_pred, normalize=True, sample_weight=None):\n",
    "    '''\n",
    "    Compute the Hamming score (a.k.a. label-based accuracy) for the multi-label case\n",
    "    http://stackoverflow.com/q/32239577/395857\n",
    "    '''\n",
    "    acc_list = []\n",
    "    for i in range(y_true.shape[0]):\n",
    "        set_true = set( np.where(y_true[i])[0] )\n",
    "        set_pred = set( np.where(y_pred[i])[0] )\n",
    "        tmp_a = None\n",
    "        if len(set_true) == 0 and len(set_pred) == 0:\n",
    "            tmp_a = 1\n",
    "        else:\n",
    "            tmp_a = len(set_true.intersection(set_pred))/float(len(set_true.union(set_pred)) )\n",
    "        acc_list.append(tmp_a)\n",
    "    return np.mean(acc_list)\n",
    "\n",
    "def print_score(y_pred, clf):\n",
    "    print(\"Clf: \", clf.__class__.__name__)\n",
    "    print(\"Hamming loss: {}\".format(hamming_loss(y_pred, y_test_tfidf)))\n",
    "    print(\"Hamming score: {}\".format(hamming_score(y_pred, y_test_tfidf)))\n",
    "    print(\"Accuracy: {}\".format(accuracy_score(y_pred, y_test_tfidf)))\n",
    "    print(\"---\")    \n",
    "\n",
    "nb_clf = MultinomialNB()\n",
    "sgd = SGDClassifier(loss='hinge', penalty='l2', alpha=1e-3, random_state=42, max_iter=6, tol=None)\n",
    "lr = LogisticRegression()\n",
    "mn = MultinomialNB()\n",
    "\n",
    "for classifier in [nb_clf, sgd, lr, mn]:\n",
    "    clf = OneVsRestClassifier(classifier)\n",
    "    clf.fit(x_train_tfidf, y_train_tfidf)\n",
    "    y_pred = clf.predict(x_test_tfidf)\n",
    "    print_score(y_pred, classifier)"
   ]
  },
  {
   "cell_type": "code",
   "execution_count": null,
   "id": "8db9f959",
   "metadata": {},
   "outputs": [],
   "source": []
  },
  {
   "cell_type": "code",
   "execution_count": null,
   "id": "39fb819c",
   "metadata": {},
   "outputs": [],
   "source": []
  },
  {
   "cell_type": "code",
   "execution_count": null,
   "id": "ee975f81",
   "metadata": {},
   "outputs": [],
   "source": []
  },
  {
   "cell_type": "code",
   "execution_count": null,
   "id": "327a291b",
   "metadata": {},
   "outputs": [],
   "source": []
  },
  {
   "cell_type": "code",
   "execution_count": null,
   "id": "1bca9ede",
   "metadata": {},
   "outputs": [],
   "source": []
  },
  {
   "cell_type": "code",
   "execution_count": null,
   "id": "49807158",
   "metadata": {},
   "outputs": [],
   "source": []
  },
  {
   "cell_type": "code",
   "execution_count": null,
   "id": "283e3376",
   "metadata": {},
   "outputs": [],
   "source": []
  },
  {
   "cell_type": "markdown",
   "id": "fe567339",
   "metadata": {},
   "source": [
    "Keep only `anamets` with english description"
   ]
  },
  {
   "cell_type": "code",
   "execution_count": null,
   "id": "2759e8d4",
   "metadata": {},
   "outputs": [],
   "source": [
    "# Keep only anamets with english sc:descritpion\n",
    "import unicodedata as ud\n",
    "\n",
    "latin_letters= {}\n",
    "\n",
    "def is_latin(uchr):\n",
    "    try: return latin_letters[uchr]\n",
    "    except KeyError:\n",
    "         return latin_letters.setdefault(uchr, 'LATIN' in ud.name(uchr))\n",
    "\n",
    "def only_roman_chars(unistr):\n",
    "    return all(is_latin(uchr)\n",
    "           for uchr in unistr\n",
    "           if uchr.isalpha()) # isalpha suggested by John Machin\n",
    "\n",
    "e_description_index = []\n",
    "for row in range(len(anamet_data)):\n",
    "    if only_roman_chars(str(anamet_data['sc:description'].iloc[row])):\n",
    "        e_description_index.append(row)\n",
    "        \n",
    "anamet_data = anamet_data.iloc[e_description_index]"
   ]
  },
  {
   "cell_type": "code",
   "execution_count": null,
   "id": "425fe37a",
   "metadata": {},
   "outputs": [],
   "source": []
  },
  {
   "cell_type": "code",
   "execution_count": null,
   "id": "b64e083d",
   "metadata": {},
   "outputs": [],
   "source": []
  },
  {
   "cell_type": "code",
   "execution_count": null,
   "id": "f121d95f",
   "metadata": {},
   "outputs": [],
   "source": []
  },
  {
   "cell_type": "code",
   "execution_count": null,
   "id": "03710827",
   "metadata": {},
   "outputs": [],
   "source": [
    "uns_data.head(2)"
   ]
  },
  {
   "cell_type": "code",
   "execution_count": null,
   "id": "33897ffc",
   "metadata": {},
   "outputs": [],
   "source": [
    "isri_data.head(2)"
   ]
  },
  {
   "cell_type": "code",
   "execution_count": null,
   "id": "d4e5d004",
   "metadata": {},
   "outputs": [],
   "source": [
    "anamet_data.head(2)"
   ]
  },
  {
   "cell_type": "code",
   "execution_count": null,
   "id": "bf4aa0df",
   "metadata": {},
   "outputs": [],
   "source": [
    "print(uns_data.isna().sum(), '\\n')\n",
    "print(isri_data.isna().sum(), '\\n')\n",
    "print(anamet_data.isna().sum(), '\\n')"
   ]
  },
  {
   "cell_type": "code",
   "execution_count": null,
   "id": "f7ef8190",
   "metadata": {},
   "outputs": [],
   "source": [
    "anamet_data['sc:hasCategory'].value_counts()"
   ]
  },
  {
   "cell_type": "code",
   "execution_count": null,
   "id": "1f03d8ff",
   "metadata": {},
   "outputs": [],
   "source": [
    "isri_data"
   ]
  },
  {
   "cell_type": "code",
   "execution_count": null,
   "id": "54bdb6c8",
   "metadata": {},
   "outputs": [],
   "source": [
    "isri_data['sc:isProcessedBy'].value_counts()"
   ]
  },
  {
   "cell_type": "code",
   "execution_count": null,
   "id": "02bb0a37",
   "metadata": {},
   "outputs": [],
   "source": [
    "isri_for_ml = isri_data.drop(columns=['isri id', 'pc:hasName', 'sc:isProcessedBy'])"
   ]
  },
  {
   "cell_type": "markdown",
   "id": "d3440e08",
   "metadata": {},
   "source": [
    "# NLP"
   ]
  },
  {
   "cell_type": "code",
   "execution_count": null,
   "id": "72dba6fd",
   "metadata": {},
   "outputs": [],
   "source": []
  },
  {
   "cell_type": "markdown",
   "id": "fe567339",
   "metadata": {},
   "source": [
    "Keep only `anamets` with english description"
   ]
  },
  {
   "cell_type": "markdown",
   "id": "314a1d00",
   "metadata": {},
   "source": [
    "## ANAMET `anamet_data`"
   ]
  },
  {
   "cell_type": "code",
   "execution_count": null,
   "id": "a2c80d99",
   "metadata": {},
   "outputs": [],
   "source": [
    "# Keep only anamets with english sc:descritpion\n",
    "import unicodedata as ud\n",
    "\n",
    "latin_letters= {}\n",
    "\n",
    "def is_latin(uchr):\n",
    "    try: return latin_letters[uchr]\n",
    "    except KeyError:\n",
    "         return latin_letters.setdefault(uchr, 'LATIN' in ud.name(uchr))\n",
    "\n",
    "def only_roman_chars(unistr):\n",
    "    return all(is_latin(uchr)\n",
    "           for uchr in unistr\n",
    "           if uchr.isalpha()) # isalpha suggested by John Machin\n",
    "\n",
    "e_description_index = []\n",
    "for row in range(len(anamet_data)):\n",
    "    if only_roman_chars(str(anamet_data['sc:description'].iloc[row])):\n",
    "        e_description_index.append(row)\n",
    "        \n",
    "anamet_data = anamet_data.iloc[e_description_index]\n",
    "anamet_data"
   ]
  },
  {
   "cell_type": "markdown",
   "id": "857b2897",
   "metadata": {},
   "source": [
    "Preprocess text data using `gensim.utils.simple_preprocess()`"
   ]
  },
  {
   "cell_type": "code",
   "execution_count": null,
   "id": "c16128a0",
   "metadata": {},
   "outputs": [],
   "source": [
    "anamet_data['sc:description'] = anamet_data['sc:description'].apply(simple_preprocess)\n",
    "anamet_data.head(2)"
   ]
  },
  {
   "cell_type": "markdown",
   "id": "202e7f09",
   "metadata": {},
   "source": [
    "Delete word `scrap` and `for` from description"
   ]
  },
  {
   "cell_type": "code",
   "execution_count": null,
   "id": "e8142bcf",
   "metadata": {},
   "outputs": [],
   "source": [
    "# Delete word scrap\n",
    "for i in range(len(anamet_data)):\n",
    "    if 'scrap' in anamet_data['sc:description'].iloc[i]:\n",
    "        anamet_data['sc:description'].iloc[i].remove('scrap')\n",
    "    if 'for' in anamet_data['sc:description'].iloc[i]:\n",
    "        anamet_data['sc:description'].iloc[i].remove('for')"
   ]
  },
  {
   "cell_type": "code",
   "execution_count": null,
   "id": "e56e6f67",
   "metadata": {},
   "outputs": [],
   "source": [
    "anamet_data.head(2)"
   ]
  },
  {
   "cell_type": "markdown",
   "id": "3b490d1b-0ed2-4a65-bd3d-b1d0fdb99d5d",
   "metadata": {},
   "source": [
    "## UNS `uns_data`"
   ]
  },
  {
   "cell_type": "code",
   "execution_count": null,
   "id": "0a14099a",
   "metadata": {},
   "outputs": [],
   "source": [
    "uns_data['hasName'] = uns_data['hasName'].apply(simple_preprocess)\n",
    "uns_data.head(2)"
   ]
  },
  {
   "cell_type": "markdown",
   "id": "2d58c227",
   "metadata": {},
   "source": [
    "Θέλουμε να συσχετίσουμε τα `anamet` με τα `uns`. Οι μόνες πληροφορίες που έχουμε (features) είναι το `sc:description` και `hasName`. Θα εφαρμόσουμε NLP και ειδικότερα Word2Vec για ομοιότητες μεταξύ των texts."
   ]
  },
  {
   "cell_type": "code",
   "execution_count": null,
   "id": "a6434f33",
   "metadata": {},
   "outputs": [],
   "source": [
    "print(anamet_data['anamet entity'].nunique(), \"unique anamet ids\")\n",
    "print(uns_data['uns id'].nunique(), \"unique uns ids\")"
   ]
  },
  {
   "cell_type": "markdown",
   "id": "3ee04c03",
   "metadata": {},
   "source": [
    "## ISRI `isri_data`"
   ]
  },
  {
   "cell_type": "code",
   "execution_count": null,
   "id": "c2dbdb1d",
   "metadata": {},
   "outputs": [],
   "source": [
    "isri_data.head(2)"
   ]
  },
  {
   "cell_type": "code",
   "execution_count": null,
   "id": "6bacff12",
   "metadata": {},
   "outputs": [],
   "source": [
    "isri_data.drop(columns=['sc:isComposedOf', 'sc:isProcessedBy'], inplace=True)"
   ]
  },
  {
   "cell_type": "code",
   "execution_count": null,
   "id": "218bd21e",
   "metadata": {},
   "outputs": [],
   "source": [
    "isri_data.isna().sum()\n"
   ]
  },
  {
   "cell_type": "code",
   "execution_count": null,
   "id": "1519ac9f",
   "metadata": {},
   "outputs": [],
   "source": [
    "isri_data.fillna('nan', inplace=True)\n",
    "isri_data.isna().sum()"
   ]
  },
  {
   "cell_type": "code",
   "execution_count": null,
   "id": "a612a9f5",
   "metadata": {},
   "outputs": [],
   "source": [
    "isri_data['sc:hasCategory'] = isri_data['sc:hasCategory'].apply(simple_preprocess)\n",
    "isri_data['sc:hasForm'] = isri_data['sc:hasForm'].apply(simple_preprocess)\n",
    "isri_data['sc:isFreeFrom'] = isri_data['sc:isFreeFrom'].apply(simple_preprocess)\n",
    "isri_data['sc:contains'] = isri_data['sc:contains'].apply(simple_preprocess)\n",
    "isri_data['sc:hasISRICode'] = isri_data['sc:hasISRICode'].astype(str).apply(simple_preprocess)\n",
    "isri_data['sc:hasSpecification'] = isri_data['sc:hasSpecification'].apply(simple_preprocess)\n",
    "isri_data['pc:hasName'] = isri_data['pc:hasName'].apply(simple_preprocess)"
   ]
  },
  {
   "cell_type": "code",
   "execution_count": null,
   "id": "8ffc013b",
   "metadata": {},
   "outputs": [],
   "source": [
    "isri_data.head(3)"
   ]
  },
  {
   "cell_type": "markdown",
   "id": "202e7f09",
   "metadata": {},
   "source": [
    "Delete word `scrap` and `for` from description"
   ]
  },
  {
   "cell_type": "code",
   "execution_count": null,
   "id": "e8142bcf",
   "metadata": {},
   "outputs": [],
   "source": [
    "# Delete word scrap\n",
    "for i in range(len(isri_data)):\n",
    "    if 'scrap' in isri_data['sc:hasCategory'].iloc[i]:\n",
    "        \n",
    "        isri_data['sc:hasCategory'].iloc[i].remove('scrap')"
   ]
  },
  {
   "cell_type": "code",
   "execution_count": null,
   "id": "1bd83f0c",
   "metadata": {},
   "outputs": [],
   "source": []
  },
  {
   "cell_type": "markdown",
   "id": "93687c25",
   "metadata": {},
   "source": [
    "### Try Word2Vec stuff"
   ]
  },
  {
   "cell_type": "code",
   "execution_count": null,
   "id": "84a7da02",
   "metadata": {},
   "outputs": [],
   "source": [
    "import gensim\n",
    "import gensim.downloader\n",
    "\n",
    "# for model_name in list(gensim.downloader.info()['models'].keys()):\n",
    "    # print(model_name)\n",
    "    \n",
    "model_pretrained = gensim.downloader.load('glove-twitter-25')\n",
    "print(model_pretrained)"
   ]
  },
  {
   "cell_type": "code",
   "execution_count": null,
   "id": "890cc31d",
   "metadata": {},
   "outputs": [],
   "source": [
    "# NLP preprocess\n",
    "from gensim.utils import simple_preprocess\n",
    "from gensim.models import Word2Vec\n",
    "\n",
    "description = anamet_data['sc:description']\n",
    "description\n",
    "\n",
    "model_anamet = Word2Vec(min_count=1, \n",
    "                 vector_size=25, \n",
    "                 workers=4, \n",
    "                 window=2, \n",
    "                 sg=1)\n",
    "\n",
    "model_anamet.build_vocab(description)\n",
    "model_anamet.train(description, total_examples=model_anamet.corpus_count,\n",
    "           epochs=500)\n",
    "print(model_anamet)"
   ]
  },
  {
   "cell_type": "markdown",
   "id": "3ada8b03",
   "metadata": {},
   "source": [
    "#### Test example"
   ]
  },
  {
   "cell_type": "code",
   "execution_count": null,
   "id": "f9213f5e",
   "metadata": {},
   "outputs": [],
   "source": [
    "test_anamet = anamet_data.iloc[120]\n",
    "print(test_anamet)\n",
    "print('\\n')\n",
    "print(test_anamet['sc:description'])"
   ]
  },
  {
   "cell_type": "code",
   "execution_count": null,
   "id": "710e2fca",
   "metadata": {},
   "outputs": [],
   "source": [
    "uns_data"
   ]
  },
  {
   "cell_type": "code",
   "execution_count": null,
   "id": "49af2bd9",
   "metadata": {},
   "outputs": [],
   "source": [
    "for row in range(len(uns_data)):\n",
    "    w1 = uns_data['hasName'].iloc[row][0]\n",
    "    w2 = 'copper'\n",
    "    try:\n",
    "        sim = model_anamet.wv.similarity(w1, w2)\n",
    "    except KeyError:\n",
    "        sim = model_pretrained.similarity(w1, w2)\n",
    "    if sim >= .7: print(w1, w2, sim, uns_data['uns id'].iloc[row])"
   ]
  },
  {
   "cell_type": "code",
   "execution_count": null,
   "id": "77636642",
   "metadata": {},
   "outputs": [],
   "source": [
    "model_anamet.wv.similarity('tin', test_anamet['sc:description'][0])"
   ]
  },
  {
   "cell_type": "code",
   "execution_count": null,
   "id": "153d6c50",
   "metadata": {},
   "outputs": [],
   "source": [
    "model_pretrained.similarity('tin', test_anamet['sc:description'][0])"
   ]
  },
  {
   "cell_type": "code",
   "execution_count": null,
   "id": "d105edf1",
   "metadata": {},
   "outputs": [],
   "source": [
    "anamet_data['sc:description']"
   ]
  },
  {
   "cell_type": "code",
   "execution_count": null,
   "id": "4c2d4bae-8e70-4714-bed8-1a5ee0f16c36",
   "metadata": {},
   "outputs": [],
   "source": [
    "for row in range(200, 250):\n",
    "    w1 = uns_data['hasName'].iloc[row][0]\n",
    "    \n",
    "    for j in range(3):\n",
    "        try:\n",
    "            w2 = anamet_data['sc:description'].iloc[j]\n",
    "            print(w1, w2[0], model.similarity(w1, w2[0]))\n",
    "        except KeyError:\n",
    "            continue"
   ]
  },
  {
   "cell_type": "code",
   "execution_count": null,
   "id": "26791d7e-db74-4a7f-9399-1e63cfd28103",
   "metadata": {},
   "outputs": [],
   "source": []
  },
  {
   "cell_type": "code",
   "execution_count": null,
   "id": "f4b568fe-6826-425f-b138-cea62d2cd46e",
   "metadata": {},
   "outputs": [],
   "source": []
  },
  {
   "cell_type": "markdown",
   "id": "0b25a362",
   "metadata": {},
   "source": [
    "# Clustering elements_data"
   ]
  },
  {
   "cell_type": "code",
   "execution_count": null,
   "id": "b40129ce",
   "metadata": {},
   "outputs": [],
   "source": [
    "from gensim.utils import simple_preprocess\n",
    "\n",
    "elements_data_df = elements_data[['ar', 'atomicNumber', 'density', 'meltingPoint', 'hasName']]\n",
    "elements_data_df['hasName'] = elements_data_df['hasName'].apply(simple_preprocess)\n",
    "elements_data_df.head(2)"
   ]
  },
  {
   "cell_type": "code",
   "execution_count": null,
   "id": "f46fe628",
   "metadata": {},
   "outputs": [],
   "source": [
    "print(elements_data.shape)\n",
    "print(elements_data['hasName'].nunique())"
   ]
  },
  {
   "cell_type": "code",
   "execution_count": null,
   "id": "9b101f16",
   "metadata": {},
   "outputs": [],
   "source": [
    "elements_data.isna().sum()"
   ]
  },
  {
   "cell_type": "code",
   "execution_count": null,
   "id": "16129281",
   "metadata": {
    "scrolled": true
   },
   "outputs": [],
   "source": [
    "from sklearn.preprocessing import LabelEncoder\n",
    "\n",
    "label_enc = LabelEncoder()\n",
    "\n",
    "elements_data_df['hasName_id'] = label_enc.fit_transform(elements_data['hasName'])\n",
    "elements_data_df.head(2)"
   ]
  },
  {
   "cell_type": "code",
   "execution_count": null,
   "id": "6d82bc56",
   "metadata": {},
   "outputs": [],
   "source": [
    "from sklearn.cluster import KMeans\n",
    "\n",
    "df = elements_data_df.drop('hasName', axis=1).copy()\n",
    "\n",
    "distortions = []\n",
    "K = range(1,18)\n",
    "for k in K:\n",
    "    kmeanModel = KMeans(n_clusters=k)\n",
    "    kmeanModel.fit(df)\n",
    "    distortions.append(kmeanModel.inertia_)\n",
    "\n",
    "plt.figure(figsize=(8,6))\n",
    "plt.plot(K, distortions, 'bx-')\n",
    "plt.xlabel('k')\n",
    "plt.ylabel('Distortion')\n",
    "plt.title('The Elbow Method showing the optimal k')\n",
    "plt.show()"
   ]
  },
  {
   "cell_type": "code",
   "execution_count": null,
   "id": "77d63a47",
   "metadata": {},
   "outputs": [],
   "source": [
    "opt_k = 3\n",
    "kmeans = KMeans(n_clusters=opt_k)\n",
    "kmeans.fit(df)"
   ]
  },
  {
   "cell_type": "code",
   "execution_count": null,
   "id": "8c68d845",
   "metadata": {},
   "outputs": [],
   "source": [
    "elements_data_df['cluster'] = kmeans.predict(df)\n",
    "elements_data_df.head()"
   ]
  },
  {
   "cell_type": "code",
   "execution_count": null,
   "id": "b37ece1e",
   "metadata": {},
   "outputs": [],
   "source": [
    "elements_data_df[elements_data_df['cluster'] == 0]"
   ]
  },
  {
   "cell_type": "code",
   "execution_count": null,
   "id": "b59fc8b5",
   "metadata": {},
   "outputs": [],
   "source": [
    "elements_data_df[elements_data_df['cluster'] == 1]"
   ]
  },
  {
   "cell_type": "code",
   "execution_count": null,
   "id": "d27cec01",
   "metadata": {},
   "outputs": [],
   "source": []
  },
  {
   "cell_type": "code",
   "execution_count": null,
   "id": "9b937191",
   "metadata": {},
   "outputs": [],
   "source": []
  }
 ],
 "metadata": {
  "kernelspec": {
   "display_name": "Python 3.9.10 ('main-bio')",
   "language": "python",
   "name": "python3"
  },
  "language_info": {
   "codemirror_mode": {
    "name": "ipython",
    "version": 3
   },
   "file_extension": ".py",
   "mimetype": "text/x-python",
   "name": "python",
   "nbconvert_exporter": "python",
   "pygments_lexer": "ipython3",
   "version": "3.9.10"
  },
  "vscode": {
   "interpreter": {
    "hash": "c6c04a7e252f45ffc2f7191e380805b6a5dd99aa68793d835f69a35c16ce4a30"
   }
  }
 },
 "nbformat": 4,
 "nbformat_minor": 5
}
