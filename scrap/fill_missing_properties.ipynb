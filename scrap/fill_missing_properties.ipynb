{
 "cells": [
  {
   "cell_type": "markdown",
   "id": "0cf57602-125b-4b81-a94d-b5010df11e76",
   "metadata": {},
   "source": [
    "# Import libraries"
   ]
  },
  {
   "cell_type": "code",
   "execution_count": 1,
   "id": "45c7e20b-c57f-4e13-b77e-11572f9e6409",
   "metadata": {},
   "outputs": [],
   "source": [
    "import pandas as pd\n",
    "import numpy as np\n",
    "import matplotlib.pyplot as plt  \n",
    "import scipy\n",
    "\n",
    "from sklearn.preprocessing import LabelEncoder\n",
    "\n",
    "from tqdm import tqdm\n",
    "\n",
    "import matplotlib.pyplot as plt\n",
    "\n",
    "from sklearn.model_selection import train_test_split\n",
    "from sklearn.feature_extraction.text import TfidfVectorizer\n",
    "from sklearn.naive_bayes import MultinomialNB\n",
    "from sklearn.metrics import accuracy_score\n",
    "from sklearn.multiclass import OneVsRestClassifier\n",
    "from nltk.corpus import stopwords\n",
    "stop_words = set(stopwords.words('english'))\n",
    "from sklearn.svm import LinearSVC\n",
    "from sklearn.linear_model import LogisticRegression\n",
    "from sklearn.pipeline import Pipeline\n",
    "import seaborn as sns\n",
    "\n",
    "import nltk\n",
    "from nltk.corpus import stopwords\n",
    "from sklearn.feature_extraction.text import TfidfVectorizer\n",
    "from sklearn.cluster import KMeans\n",
    "from sklearn.decomposition import PCA"
   ]
  },
  {
   "cell_type": "markdown",
   "id": "ba22e924-fdeb-4ee5-9cfa-9f67282f50e7",
   "metadata": {},
   "source": [
    "## Read data"
   ]
  },
  {
   "cell_type": "code",
   "execution_count": 4,
   "id": "43402469-b408-470d-8d55-2244f142384a",
   "metadata": {},
   "outputs": [],
   "source": [
    "uns = pd.read_csv('uns_df.csv', index_col=0)\n",
    "isri = pd.read_csv('isri_df.csv', index_col=0)\n",
    "process = pd.read_csv('process_df.csv', index_col=0)\n",
    "anamet = pd.read_csv('anamet_df.csv', index_col=0)\n",
    "materials = pd.read_csv('materials_df.csv', index_col=0)"
   ]
  },
  {
   "cell_type": "markdown",
   "id": "72776f13",
   "metadata": {},
   "source": [
    "# Read updated *Nikos* data"
   ]
  },
  {
   "cell_type": "code",
   "execution_count": 5,
   "id": "d5cd106c",
   "metadata": {},
   "outputs": [
    {
     "data": {
      "text/plain": [
       "['ANAMET',\n",
       " 'Anamet data',\n",
       " 'ISRI',\n",
       " 'Isri data',\n",
       " 'UNS data',\n",
       " 'Elements data',\n",
       " 'Material data',\n",
       " 'Process']"
      ]
     },
     "execution_count": 5,
     "metadata": {},
     "output_type": "execute_result"
    }
   ],
   "source": [
    "xls = pd.ExcelFile('data/edited_nikos_data.xlsx')\n",
    "xls.sheet_names"
   ]
  },
  {
   "cell_type": "code",
   "execution_count": 6,
   "id": "87cde166",
   "metadata": {},
   "outputs": [],
   "source": [
    "uns_data = pd.read_excel(xls, 'UNS data')\n",
    "\n",
    "uns_data.rename(columns = {'sc:isComposedOf':'elements id'}, inplace = True)\n",
    "\n",
    "elements_data = pd.read_excel(xls, 'Elements data')\n",
    "\n",
    "uns_data = pd.merge(uns_data, elements_data, how='inner', on = 'elements id')\n",
    "isri_data = pd.read_excel(xls, 'Isri data')\n",
    "anamet_data = pd.read_excel(xls, 'Anamet data')\n",
    "material_data = pd.read_excel(xls, 'Material data')\n",
    "elements_data = pd.read_excel(xls, 'Elements data')"
   ]
  },
  {
   "cell_type": "markdown",
   "id": "eb262c79",
   "metadata": {},
   "source": [
    "# Raw data preprocessing"
   ]
  },
  {
   "cell_type": "code",
   "execution_count": 7,
   "id": "ab145ffc",
   "metadata": {},
   "outputs": [
    {
     "data": {
      "text/html": [
       "<div>\n",
       "<style scoped>\n",
       "    .dataframe tbody tr th:only-of-type {\n",
       "        vertical-align: middle;\n",
       "    }\n",
       "\n",
       "    .dataframe tbody tr th {\n",
       "        vertical-align: top;\n",
       "    }\n",
       "\n",
       "    .dataframe thead th {\n",
       "        text-align: right;\n",
       "    }\n",
       "</style>\n",
       "<table border=\"1\" class=\"dataframe\">\n",
       "  <thead>\n",
       "    <tr style=\"text-align: right;\">\n",
       "      <th></th>\n",
       "      <th>isri id</th>\n",
       "      <th>sc:hasCategory</th>\n",
       "      <th>sc:hasForm</th>\n",
       "      <th>sc:isFreeFrom</th>\n",
       "      <th>sc:contains</th>\n",
       "      <th>sc:hasISRICode</th>\n",
       "      <th>sc:hasSpecification</th>\n",
       "      <th>pc:hasName</th>\n",
       "      <th>sc:isComposedOf</th>\n",
       "      <th>sc:isProcessedBy</th>\n",
       "    </tr>\n",
       "  </thead>\n",
       "  <tbody>\n",
       "    <tr>\n",
       "      <th>0</th>\n",
       "      <td>sc:ISRI_0</td>\n",
       "      <td>Nonferrous Scrap - Red Metals</td>\n",
       "      <td>Wire</td>\n",
       "      <td>NaN</td>\n",
       "      <td>Copper</td>\n",
       "      <td>Berry</td>\n",
       "      <td>Bare, Uncoated, Unalloyed</td>\n",
       "      <td>No. 1 Copper Wire</td>\n",
       "      <td>sc:Material_249</td>\n",
       "      <td>sc:Process_257</td>\n",
       "    </tr>\n",
       "    <tr>\n",
       "      <th>1</th>\n",
       "      <td>sc:ISRI_1</td>\n",
       "      <td>Nonferrous Scrap - Red Metals</td>\n",
       "      <td>Wire and Cable</td>\n",
       "      <td>Brittle Burnt Wire, Copper Tubing</td>\n",
       "      <td>Copper</td>\n",
       "      <td>Barley</td>\n",
       "      <td>Clean, Untinned, Uncoated, Unalloyed</td>\n",
       "      <td>No. 1 Copper Wire</td>\n",
       "      <td>sc:Material_249</td>\n",
       "      <td>sc:Process_257</td>\n",
       "    </tr>\n",
       "  </tbody>\n",
       "</table>\n",
       "</div>"
      ],
      "text/plain": [
       "     isri id                 sc:hasCategory      sc:hasForm  \\\n",
       "0  sc:ISRI_0  Nonferrous Scrap - Red Metals            Wire   \n",
       "1  sc:ISRI_1  Nonferrous Scrap - Red Metals  Wire and Cable   \n",
       "\n",
       "                       sc:isFreeFrom sc:contains sc:hasISRICode  \\\n",
       "0                                NaN      Copper          Berry   \n",
       "1  Brittle Burnt Wire, Copper Tubing      Copper         Barley   \n",
       "\n",
       "                    sc:hasSpecification         pc:hasName  sc:isComposedOf  \\\n",
       "0             Bare, Uncoated, Unalloyed  No. 1 Copper Wire  sc:Material_249   \n",
       "1  Clean, Untinned, Uncoated, Unalloyed  No. 1 Copper Wire  sc:Material_249   \n",
       "\n",
       "  sc:isProcessedBy  \n",
       "0   sc:Process_257  \n",
       "1   sc:Process_257  "
      ]
     },
     "execution_count": 7,
     "metadata": {},
     "output_type": "execute_result"
    }
   ],
   "source": [
    "isri_data.head(2)"
   ]
  },
  {
   "cell_type": "code",
   "execution_count": 8,
   "id": "b5ddb481",
   "metadata": {},
   "outputs": [
    {
     "data": {
      "text/plain": [
       "(244, 10)"
      ]
     },
     "execution_count": 8,
     "metadata": {},
     "output_type": "execute_result"
    }
   ],
   "source": [
    "isri_data.shape"
   ]
  },
  {
   "cell_type": "code",
   "execution_count": 9,
   "id": "166dc78c",
   "metadata": {},
   "outputs": [
    {
     "data": {
      "text/plain": [
       "isri id                  0\n",
       "sc:hasCategory           0\n",
       "sc:hasForm              43\n",
       "sc:isFreeFrom           87\n",
       "sc:contains             68\n",
       "sc:hasISRICode           0\n",
       "sc:hasSpecification     12\n",
       "pc:hasName               7\n",
       "sc:isComposedOf        109\n",
       "sc:isProcessedBy       194\n",
       "dtype: int64"
      ]
     },
     "execution_count": 9,
     "metadata": {},
     "output_type": "execute_result"
    }
   ],
   "source": [
    "isri_data.isna().sum()"
   ]
  },
  {
   "cell_type": "markdown",
   "id": "8bd16a1b",
   "metadata": {},
   "source": [
    "#### Drop unusefull columns"
   ]
  },
  {
   "cell_type": "code",
   "execution_count": 10,
   "id": "ab1e1e6a",
   "metadata": {},
   "outputs": [
    {
     "data": {
      "text/plain": [
       "(244, 7)"
      ]
     },
     "execution_count": 10,
     "metadata": {},
     "output_type": "execute_result"
    }
   ],
   "source": [
    "df = isri_data.copy()\n",
    "df.drop(columns=['isri id', 'sc:hasISRICode', 'sc:isProcessedBy'], inplace=True)\n",
    "df.shape"
   ]
  },
  {
   "cell_type": "code",
   "execution_count": 11,
   "id": "f117c17e",
   "metadata": {},
   "outputs": [
    {
     "data": {
      "text/html": [
       "<div>\n",
       "<style scoped>\n",
       "    .dataframe tbody tr th:only-of-type {\n",
       "        vertical-align: middle;\n",
       "    }\n",
       "\n",
       "    .dataframe tbody tr th {\n",
       "        vertical-align: top;\n",
       "    }\n",
       "\n",
       "    .dataframe thead th {\n",
       "        text-align: right;\n",
       "    }\n",
       "</style>\n",
       "<table border=\"1\" class=\"dataframe\">\n",
       "  <thead>\n",
       "    <tr style=\"text-align: right;\">\n",
       "      <th></th>\n",
       "      <th>sc:hasCategory</th>\n",
       "      <th>sc:hasForm</th>\n",
       "      <th>sc:isFreeFrom</th>\n",
       "      <th>sc:contains</th>\n",
       "      <th>sc:hasSpecification</th>\n",
       "      <th>pc:hasName</th>\n",
       "      <th>sc:isComposedOf</th>\n",
       "    </tr>\n",
       "  </thead>\n",
       "  <tbody>\n",
       "    <tr>\n",
       "      <th>0</th>\n",
       "      <td>nonferrous scrap red metals</td>\n",
       "      <td>wire</td>\n",
       "      <td></td>\n",
       "      <td>copper</td>\n",
       "      <td>bare uncoated unalloyed</td>\n",
       "      <td>copper wire</td>\n",
       "      <td>sc:Material_249</td>\n",
       "    </tr>\n",
       "    <tr>\n",
       "      <th>1</th>\n",
       "      <td>nonferrous scrap red metals</td>\n",
       "      <td>wire cable</td>\n",
       "      <td>brittle burnt wire copper tubing</td>\n",
       "      <td>copper</td>\n",
       "      <td>clean untinned uncoated unalloyed</td>\n",
       "      <td>copper wire</td>\n",
       "      <td>sc:Material_249</td>\n",
       "    </tr>\n",
       "    <tr>\n",
       "      <th>2</th>\n",
       "      <td>nonferrous scrap red metals</td>\n",
       "      <td>miscellaneous wire</td>\n",
       "      <td>excessively leaded tinned soldered copper wire...</td>\n",
       "      <td>copper</td>\n",
       "      <td>unalloyed</td>\n",
       "      <td>copper wire</td>\n",
       "      <td>sc:Material_249</td>\n",
       "    </tr>\n",
       "    <tr>\n",
       "      <th>3</th>\n",
       "      <td>nonferrous scrap red metals</td>\n",
       "      <td>clippings punchings bus bars commutator segmen...</td>\n",
       "      <td></td>\n",
       "      <td>copper</td>\n",
       "      <td>clean unalloyed uncoated</td>\n",
       "      <td>heavy copper solids tubing</td>\n",
       "      <td>sc:Material_249</td>\n",
       "    </tr>\n",
       "    <tr>\n",
       "      <th>4</th>\n",
       "      <td>nonferrous scrap red metals</td>\n",
       "      <td>miscellaneous scrap</td>\n",
       "      <td>excessively leaded tinned soldered copper scra...</td>\n",
       "      <td>copper</td>\n",
       "      <td>unalloyed</td>\n",
       "      <td>copper solids tubing</td>\n",
       "      <td>sc:Material_249</td>\n",
       "    </tr>\n",
       "  </tbody>\n",
       "</table>\n",
       "</div>"
      ],
      "text/plain": [
       "                sc:hasCategory  \\\n",
       "0  nonferrous scrap red metals   \n",
       "1  nonferrous scrap red metals   \n",
       "2  nonferrous scrap red metals   \n",
       "3  nonferrous scrap red metals   \n",
       "4  nonferrous scrap red metals   \n",
       "\n",
       "                                          sc:hasForm  \\\n",
       "0                                               wire   \n",
       "1                                         wire cable   \n",
       "2                                 miscellaneous wire   \n",
       "3  clippings punchings bus bars commutator segmen...   \n",
       "4                                miscellaneous scrap   \n",
       "\n",
       "                                       sc:isFreeFrom sc:contains  \\\n",
       "0                                                         copper   \n",
       "1                   brittle burnt wire copper tubing      copper   \n",
       "2  excessively leaded tinned soldered copper wire...      copper   \n",
       "3                                                         copper   \n",
       "4  excessively leaded tinned soldered copper scra...      copper   \n",
       "\n",
       "                 sc:hasSpecification                  pc:hasName  \\\n",
       "0            bare uncoated unalloyed                 copper wire   \n",
       "1  clean untinned uncoated unalloyed                 copper wire   \n",
       "2                          unalloyed                 copper wire   \n",
       "3           clean unalloyed uncoated  heavy copper solids tubing   \n",
       "4                          unalloyed        copper solids tubing   \n",
       "\n",
       "   sc:isComposedOf  \n",
       "0  sc:Material_249  \n",
       "1  sc:Material_249  \n",
       "2  sc:Material_249  \n",
       "3  sc:Material_249  \n",
       "4  sc:Material_249  "
      ]
     },
     "execution_count": 11,
     "metadata": {},
     "output_type": "execute_result"
    }
   ],
   "source": [
    "import texthero as hero\n",
    "from texthero import preprocessing\n",
    "\n",
    "custom_pipeline = [preprocessing.fillna,\n",
    "                   preprocessing.lowercase,\n",
    "                   preprocessing.remove_whitespace,\n",
    "                   preprocessing.remove_stopwords]\n",
    "\n",
    "for col in df.drop('sc:isComposedOf',axis=1).columns:\n",
    "    df[col] = hero.clean(df[col])\n",
    "\n",
    "df.head()\n"
   ]
  },
  {
   "cell_type": "code",
   "execution_count": 12,
   "id": "82002c7c",
   "metadata": {},
   "outputs": [
    {
     "data": {
      "text/plain": [
       "sc:hasCategory           0\n",
       "sc:hasForm               0\n",
       "sc:isFreeFrom            0\n",
       "sc:contains              0\n",
       "sc:hasSpecification      0\n",
       "pc:hasName               0\n",
       "sc:isComposedOf        109\n",
       "dtype: int64"
      ]
     },
     "execution_count": 12,
     "metadata": {},
     "output_type": "execute_result"
    }
   ],
   "source": [
    "df.isna().sum()"
   ]
  },
  {
   "cell_type": "markdown",
   "id": "124fa3bd",
   "metadata": {},
   "source": [
    "## Predict `sc:isComposedOf`"
   ]
  },
  {
   "cell_type": "markdown",
   "id": "c2ec876b",
   "metadata": {},
   "source": [
    "#### TfIdfVectorizer"
   ]
  },
  {
   "cell_type": "code",
   "execution_count": 13,
   "id": "d2ebd2ed",
   "metadata": {},
   "outputs": [
    {
     "data": {
      "text/plain": [
       "(135, 7)"
      ]
     },
     "execution_count": 13,
     "metadata": {},
     "output_type": "execute_result"
    }
   ],
   "source": [
    "df = df[df['sc:isComposedOf'].notna()]\n",
    "df.shape"
   ]
  },
  {
   "cell_type": "code",
   "execution_count": 14,
   "id": "6643427f",
   "metadata": {},
   "outputs": [],
   "source": [
    "df['corpus'] = df['sc:hasCategory']\n",
    "df['corpus'] = df['sc:hasCategory'] + ' ' + df['sc:hasSpecification'] + ' ' + df['sc:hasForm'] + df['sc:contains']\n",
    "\n",
    "# for col in df.drop(['sc:hasCategory', 'sc:isComposedOf'], axis=1):\n",
    "#     df['corpus'] = df['corpus'] + ' ' + df[col]\n",
    "\n",
    "# df.shape"
   ]
  },
  {
   "cell_type": "code",
   "execution_count": 15,
   "id": "5819505f",
   "metadata": {},
   "outputs": [
    {
     "data": {
      "text/html": [
       "<div>\n",
       "<style scoped>\n",
       "    .dataframe tbody tr th:only-of-type {\n",
       "        vertical-align: middle;\n",
       "    }\n",
       "\n",
       "    .dataframe tbody tr th {\n",
       "        vertical-align: top;\n",
       "    }\n",
       "\n",
       "    .dataframe thead th {\n",
       "        text-align: right;\n",
       "    }\n",
       "</style>\n",
       "<table border=\"1\" class=\"dataframe\">\n",
       "  <thead>\n",
       "    <tr style=\"text-align: right;\">\n",
       "      <th></th>\n",
       "      <th>sc:hasCategory</th>\n",
       "      <th>sc:hasForm</th>\n",
       "      <th>sc:isFreeFrom</th>\n",
       "      <th>sc:contains</th>\n",
       "      <th>sc:hasSpecification</th>\n",
       "      <th>pc:hasName</th>\n",
       "      <th>sc:isComposedOf</th>\n",
       "      <th>corpus</th>\n",
       "    </tr>\n",
       "  </thead>\n",
       "  <tbody>\n",
       "    <tr>\n",
       "      <th>0</th>\n",
       "      <td>nonferrous scrap red metals</td>\n",
       "      <td>wire</td>\n",
       "      <td></td>\n",
       "      <td>copper</td>\n",
       "      <td>bare uncoated unalloyed</td>\n",
       "      <td>copper wire</td>\n",
       "      <td>sc:Material_249</td>\n",
       "      <td>nonferrous scrap red metals bare uncoated unal...</td>\n",
       "    </tr>\n",
       "    <tr>\n",
       "      <th>1</th>\n",
       "      <td>nonferrous scrap red metals</td>\n",
       "      <td>wire cable</td>\n",
       "      <td>brittle burnt wire copper tubing</td>\n",
       "      <td>copper</td>\n",
       "      <td>clean untinned uncoated unalloyed</td>\n",
       "      <td>copper wire</td>\n",
       "      <td>sc:Material_249</td>\n",
       "      <td>nonferrous scrap red metals clean untinned unc...</td>\n",
       "    </tr>\n",
       "  </tbody>\n",
       "</table>\n",
       "</div>"
      ],
      "text/plain": [
       "                sc:hasCategory  sc:hasForm                     sc:isFreeFrom  \\\n",
       "0  nonferrous scrap red metals        wire                                     \n",
       "1  nonferrous scrap red metals  wire cable  brittle burnt wire copper tubing   \n",
       "\n",
       "  sc:contains                sc:hasSpecification   pc:hasName  \\\n",
       "0      copper            bare uncoated unalloyed  copper wire   \n",
       "1      copper  clean untinned uncoated unalloyed  copper wire   \n",
       "\n",
       "   sc:isComposedOf                                             corpus  \n",
       "0  sc:Material_249  nonferrous scrap red metals bare uncoated unal...  \n",
       "1  sc:Material_249  nonferrous scrap red metals clean untinned unc...  "
      ]
     },
     "execution_count": 15,
     "metadata": {},
     "output_type": "execute_result"
    }
   ],
   "source": [
    "df.head(2)"
   ]
  },
  {
   "cell_type": "code",
   "execution_count": 16,
   "id": "bcf1152b",
   "metadata": {},
   "outputs": [
    {
     "name": "stdout",
     "output_type": "stream",
     "text": [
      "(108, 489) (27, 489)\n"
     ]
    }
   ],
   "source": [
    "from sklearn.model_selection import train_test_split\n",
    "\n",
    "# X = df.drop('sc:isComposedOf', axis=1)\n",
    "X = df['corpus']\n",
    "y = df['sc:isComposedOf']\n",
    "\n",
    "X_train, X_test, y_train, y_test = train_test_split(X, y, test_size=0.20, random_state=4)\n",
    "\n",
    "from sklearn.feature_extraction.text import TfidfTransformer\n",
    "from sklearn.feature_extraction.text import TfidfVectorizer\n",
    "\n",
    "# X_train = X_train['sc:hasCategory'].values\n",
    "# X_test = X_test['sc:hasCategory'].values\n",
    "\n",
    "y_train = y_train.values\n",
    "y_test = y_test.values\n",
    "\n",
    "vectorizer = TfidfVectorizer()\n",
    "train_vectors = vectorizer.fit_transform(X_train)\n",
    "test_vectors = vectorizer.transform(X_test)\n",
    "\n",
    "print(train_vectors.shape, test_vectors.shape)"
   ]
  },
  {
   "cell_type": "code",
   "execution_count": 17,
   "id": "8952c4a2",
   "metadata": {},
   "outputs": [
    {
     "data": {
      "text/plain": [
       "0      nonferrous scrap red metals bare uncoated unal...\n",
       "1      nonferrous scrap red metals clean untinned unc...\n",
       "2      nonferrous scrap red metals unalloyed miscella...\n",
       "3      nonferrous scrap red metals clean unalloyed un...\n",
       "4      nonferrous scrap red metals unalloyed miscella...\n",
       "                             ...                        \n",
       "228    ferrous scrap specially processed grades meet ...\n",
       "229    ferrous scrap specially processed grades meet ...\n",
       "230    ferrous scrap specially processed grades meet ...\n",
       "231    ferrous scrap specially processed grades meet ...\n",
       "232    ferrous scrap specially processed grades meet ...\n",
       "Name: corpus, Length: 135, dtype: object"
      ]
     },
     "execution_count": 17,
     "metadata": {},
     "output_type": "execute_result"
    }
   ],
   "source": [
    "X"
   ]
  },
  {
   "cell_type": "code",
   "execution_count": 15,
   "id": "6974a6b4",
   "metadata": {},
   "outputs": [
    {
     "name": "stdout",
     "output_type": "stream",
     "text": [
      "0.4444444444444444\n"
     ]
    }
   ],
   "source": [
    "model = LogisticRegression()\n",
    "\n",
    "model.fit(train_vectors, y_train)\n",
    "predicted = model.predict(test_vectors)\n",
    "print(accuracy_score(y_test,predicted))\n",
    "\n",
    "results = pd.DataFrame(columns=['true', 'pred'])\n",
    "results['true'] = y_test\n",
    "results['pred'] = predicted"
   ]
  },
  {
   "cell_type": "code",
   "execution_count": 16,
   "id": "45115533",
   "metadata": {},
   "outputs": [
    {
     "name": "stdout",
     "output_type": "stream",
     "text": [
      "0.7777777777777778\n"
     ]
    }
   ],
   "source": [
    "from sklearn.svm import SVC\n",
    "\n",
    "model = SVC(C=100, gamma=.1)\n",
    "\n",
    "model.fit(train_vectors, y_train)\n",
    "predicted = model.predict(test_vectors)\n",
    "print(accuracy_score(y_test,predicted))\n",
    "\n",
    "results = pd.DataFrame(columns=['true', 'pred'])\n",
    "results['true'] = y_test\n",
    "results['pred'] = predicted"
   ]
  },
  {
   "cell_type": "code",
   "execution_count": 17,
   "id": "721a95c1",
   "metadata": {},
   "outputs": [
    {
     "data": {
      "text/html": [
       "<div>\n",
       "<style scoped>\n",
       "    .dataframe tbody tr th:only-of-type {\n",
       "        vertical-align: middle;\n",
       "    }\n",
       "\n",
       "    .dataframe tbody tr th {\n",
       "        vertical-align: top;\n",
       "    }\n",
       "\n",
       "    .dataframe thead th {\n",
       "        text-align: right;\n",
       "    }\n",
       "</style>\n",
       "<table border=\"1\" class=\"dataframe\">\n",
       "  <thead>\n",
       "    <tr style=\"text-align: right;\">\n",
       "      <th></th>\n",
       "      <th>true</th>\n",
       "      <th>pred</th>\n",
       "    </tr>\n",
       "  </thead>\n",
       "  <tbody>\n",
       "    <tr>\n",
       "      <th>0</th>\n",
       "      <td>sc:Material_254</td>\n",
       "      <td>sc:Material_254</td>\n",
       "    </tr>\n",
       "    <tr>\n",
       "      <th>1</th>\n",
       "      <td>sc:Material_706</td>\n",
       "      <td>sc:Material_707</td>\n",
       "    </tr>\n",
       "    <tr>\n",
       "      <th>2</th>\n",
       "      <td>sc:Material_255</td>\n",
       "      <td>sc:Material_244</td>\n",
       "    </tr>\n",
       "    <tr>\n",
       "      <th>3</th>\n",
       "      <td>sc:Material_249</td>\n",
       "      <td>sc:Material_249</td>\n",
       "    </tr>\n",
       "    <tr>\n",
       "      <th>4</th>\n",
       "      <td>sc:Material_254</td>\n",
       "      <td>sc:Material_254</td>\n",
       "    </tr>\n",
       "    <tr>\n",
       "      <th>5</th>\n",
       "      <td>sc:Material_249</td>\n",
       "      <td>sc:Material_249</td>\n",
       "    </tr>\n",
       "    <tr>\n",
       "      <th>6</th>\n",
       "      <td>sc:Material_707</td>\n",
       "      <td>sc:Material_707</td>\n",
       "    </tr>\n",
       "    <tr>\n",
       "      <th>7</th>\n",
       "      <td>sc:Material_703</td>\n",
       "      <td>sc:Material_703</td>\n",
       "    </tr>\n",
       "    <tr>\n",
       "      <th>8</th>\n",
       "      <td>sc:Material_701</td>\n",
       "      <td>sc:Material_701</td>\n",
       "    </tr>\n",
       "    <tr>\n",
       "      <th>9</th>\n",
       "      <td>sc:Material_696</td>\n",
       "      <td>sc:Material_696</td>\n",
       "    </tr>\n",
       "    <tr>\n",
       "      <th>10</th>\n",
       "      <td>sc:Material_245</td>\n",
       "      <td>sc:Material_697</td>\n",
       "    </tr>\n",
       "    <tr>\n",
       "      <th>11</th>\n",
       "      <td>sc:Material_695</td>\n",
       "      <td>sc:Material_695</td>\n",
       "    </tr>\n",
       "    <tr>\n",
       "      <th>12</th>\n",
       "      <td>sc:Material_254</td>\n",
       "      <td>sc:Material_244</td>\n",
       "    </tr>\n",
       "    <tr>\n",
       "      <th>13</th>\n",
       "      <td>sc:Material_247</td>\n",
       "      <td>sc:Material_247</td>\n",
       "    </tr>\n",
       "    <tr>\n",
       "      <th>14</th>\n",
       "      <td>sc:Material_256</td>\n",
       "      <td>sc:Material_256</td>\n",
       "    </tr>\n",
       "    <tr>\n",
       "      <th>15</th>\n",
       "      <td>sc:Material_256</td>\n",
       "      <td>sc:Material_255</td>\n",
       "    </tr>\n",
       "    <tr>\n",
       "      <th>16</th>\n",
       "      <td>sc:Material_696</td>\n",
       "      <td>sc:Material_696</td>\n",
       "    </tr>\n",
       "    <tr>\n",
       "      <th>17</th>\n",
       "      <td>sc:Material_700</td>\n",
       "      <td>sc:Material_700</td>\n",
       "    </tr>\n",
       "    <tr>\n",
       "      <th>18</th>\n",
       "      <td>sc:Material_700</td>\n",
       "      <td>sc:Material_700</td>\n",
       "    </tr>\n",
       "    <tr>\n",
       "      <th>19</th>\n",
       "      <td>sc:Material_249</td>\n",
       "      <td>sc:Material_249</td>\n",
       "    </tr>\n",
       "    <tr>\n",
       "      <th>20</th>\n",
       "      <td>sc:Material_256</td>\n",
       "      <td>sc:Material_244</td>\n",
       "    </tr>\n",
       "    <tr>\n",
       "      <th>21</th>\n",
       "      <td>sc:Material_244</td>\n",
       "      <td>sc:Material_244</td>\n",
       "    </tr>\n",
       "    <tr>\n",
       "      <th>22</th>\n",
       "      <td>sc:Material_254</td>\n",
       "      <td>sc:Material_254</td>\n",
       "    </tr>\n",
       "    <tr>\n",
       "      <th>23</th>\n",
       "      <td>sc:Material_247</td>\n",
       "      <td>sc:Material_247</td>\n",
       "    </tr>\n",
       "    <tr>\n",
       "      <th>24</th>\n",
       "      <td>sc:Material_695</td>\n",
       "      <td>sc:Material_695</td>\n",
       "    </tr>\n",
       "    <tr>\n",
       "      <th>25</th>\n",
       "      <td>sc:Material_256</td>\n",
       "      <td>sc:Material_256</td>\n",
       "    </tr>\n",
       "    <tr>\n",
       "      <th>26</th>\n",
       "      <td>sc:Material_244</td>\n",
       "      <td>sc:Material_244</td>\n",
       "    </tr>\n",
       "  </tbody>\n",
       "</table>\n",
       "</div>"
      ],
      "text/plain": [
       "               true             pred\n",
       "0   sc:Material_254  sc:Material_254\n",
       "1   sc:Material_706  sc:Material_707\n",
       "2   sc:Material_255  sc:Material_244\n",
       "3   sc:Material_249  sc:Material_249\n",
       "4   sc:Material_254  sc:Material_254\n",
       "5   sc:Material_249  sc:Material_249\n",
       "6   sc:Material_707  sc:Material_707\n",
       "7   sc:Material_703  sc:Material_703\n",
       "8   sc:Material_701  sc:Material_701\n",
       "9   sc:Material_696  sc:Material_696\n",
       "10  sc:Material_245  sc:Material_697\n",
       "11  sc:Material_695  sc:Material_695\n",
       "12  sc:Material_254  sc:Material_244\n",
       "13  sc:Material_247  sc:Material_247\n",
       "14  sc:Material_256  sc:Material_256\n",
       "15  sc:Material_256  sc:Material_255\n",
       "16  sc:Material_696  sc:Material_696\n",
       "17  sc:Material_700  sc:Material_700\n",
       "18  sc:Material_700  sc:Material_700\n",
       "19  sc:Material_249  sc:Material_249\n",
       "20  sc:Material_256  sc:Material_244\n",
       "21  sc:Material_244  sc:Material_244\n",
       "22  sc:Material_254  sc:Material_254\n",
       "23  sc:Material_247  sc:Material_247\n",
       "24  sc:Material_695  sc:Material_695\n",
       "25  sc:Material_256  sc:Material_256\n",
       "26  sc:Material_244  sc:Material_244"
      ]
     },
     "execution_count": 17,
     "metadata": {},
     "output_type": "execute_result"
    }
   ],
   "source": [
    "results"
   ]
  },
  {
   "cell_type": "markdown",
   "id": "bf4ccd0a",
   "metadata": {},
   "source": [
    "# Study `UNS`"
   ]
  },
  {
   "cell_type": "code",
   "execution_count": 45,
   "id": "3fbad74b",
   "metadata": {},
   "outputs": [
    {
     "data": {
      "text/html": [
       "<div>\n",
       "<style scoped>\n",
       "    .dataframe tbody tr th:only-of-type {\n",
       "        vertical-align: middle;\n",
       "    }\n",
       "\n",
       "    .dataframe tbody tr th {\n",
       "        vertical-align: top;\n",
       "    }\n",
       "\n",
       "    .dataframe thead th {\n",
       "        text-align: right;\n",
       "    }\n",
       "</style>\n",
       "<table border=\"1\" class=\"dataframe\">\n",
       "  <thead>\n",
       "    <tr style=\"text-align: right;\">\n",
       "      <th></th>\n",
       "      <th>uns id</th>\n",
       "      <th>sc:hasName</th>\n",
       "      <th>elements id</th>\n",
       "      <th>ar</th>\n",
       "      <th>atomicNumber</th>\n",
       "      <th>density</th>\n",
       "      <th>meltingPoint</th>\n",
       "      <th>hasName</th>\n",
       "      <th>symbol</th>\n",
       "    </tr>\n",
       "  </thead>\n",
       "  <tbody>\n",
       "    <tr>\n",
       "      <th>0</th>\n",
       "      <td>sc:UNS_712</td>\n",
       "      <td>C83300</td>\n",
       "      <td>sc:Elements_329</td>\n",
       "      <td>207.200</td>\n",
       "      <td>82</td>\n",
       "      <td>11.29</td>\n",
       "      <td>327.5</td>\n",
       "      <td>LEAD</td>\n",
       "      <td>Pb</td>\n",
       "    </tr>\n",
       "    <tr>\n",
       "      <th>1</th>\n",
       "      <td>sc:UNS_733</td>\n",
       "      <td>C84500</td>\n",
       "      <td>sc:Elements_329</td>\n",
       "      <td>207.200</td>\n",
       "      <td>82</td>\n",
       "      <td>11.29</td>\n",
       "      <td>327.5</td>\n",
       "      <td>LEAD</td>\n",
       "      <td>Pb</td>\n",
       "    </tr>\n",
       "    <tr>\n",
       "      <th>2</th>\n",
       "      <td>sc:UNS_738</td>\n",
       "      <td>C85310</td>\n",
       "      <td>sc:Elements_329</td>\n",
       "      <td>207.200</td>\n",
       "      <td>82</td>\n",
       "      <td>11.29</td>\n",
       "      <td>327.5</td>\n",
       "      <td>LEAD</td>\n",
       "      <td>Pb</td>\n",
       "    </tr>\n",
       "    <tr>\n",
       "      <th>3</th>\n",
       "      <td>sc:UNS_752</td>\n",
       "      <td>C85710</td>\n",
       "      <td>sc:Elements_329</td>\n",
       "      <td>207.200</td>\n",
       "      <td>82</td>\n",
       "      <td>11.29</td>\n",
       "      <td>327.5</td>\n",
       "      <td>LEAD</td>\n",
       "      <td>Pb</td>\n",
       "    </tr>\n",
       "    <tr>\n",
       "      <th>4</th>\n",
       "      <td>sc:UNS_837</td>\n",
       "      <td>C91500</td>\n",
       "      <td>sc:Elements_329</td>\n",
       "      <td>207.200</td>\n",
       "      <td>82</td>\n",
       "      <td>11.29</td>\n",
       "      <td>327.5</td>\n",
       "      <td>LEAD</td>\n",
       "      <td>Pb</td>\n",
       "    </tr>\n",
       "    <tr>\n",
       "      <th>...</th>\n",
       "      <td>...</td>\n",
       "      <td>...</td>\n",
       "      <td>...</td>\n",
       "      <td>...</td>\n",
       "      <td>...</td>\n",
       "      <td>...</td>\n",
       "      <td>...</td>\n",
       "      <td>...</td>\n",
       "      <td>...</td>\n",
       "    </tr>\n",
       "    <tr>\n",
       "      <th>907</th>\n",
       "      <td>sc:UNS_1657</td>\n",
       "      <td>C50200</td>\n",
       "      <td>sc:Elements_943</td>\n",
       "      <td>32.605</td>\n",
       "      <td>16</td>\n",
       "      <td>2.07</td>\n",
       "      <td>112.8</td>\n",
       "      <td>SULFUR</td>\n",
       "      <td>S</td>\n",
       "    </tr>\n",
       "    <tr>\n",
       "      <th>908</th>\n",
       "      <td>sc:UNS_1305</td>\n",
       "      <td>NaN</td>\n",
       "      <td>sc:Elements_943</td>\n",
       "      <td>32.605</td>\n",
       "      <td>16</td>\n",
       "      <td>2.07</td>\n",
       "      <td>112.8</td>\n",
       "      <td>SULFUR</td>\n",
       "      <td>S</td>\n",
       "    </tr>\n",
       "    <tr>\n",
       "      <th>909</th>\n",
       "      <td>sc:UNS_1654</td>\n",
       "      <td>NaN</td>\n",
       "      <td>sc:Elements_943</td>\n",
       "      <td>32.605</td>\n",
       "      <td>16</td>\n",
       "      <td>2.07</td>\n",
       "      <td>112.8</td>\n",
       "      <td>SULFUR</td>\n",
       "      <td>S</td>\n",
       "    </tr>\n",
       "    <tr>\n",
       "      <th>910</th>\n",
       "      <td>sc:UNS_1767</td>\n",
       "      <td>C70280</td>\n",
       "      <td>sc:Elements_946</td>\n",
       "      <td>10.811</td>\n",
       "      <td>5</td>\n",
       "      <td>2.34</td>\n",
       "      <td>2076.0</td>\n",
       "      <td>BORON</td>\n",
       "      <td>B</td>\n",
       "    </tr>\n",
       "    <tr>\n",
       "      <th>911</th>\n",
       "      <td>sc:UNS_1304</td>\n",
       "      <td>NaN</td>\n",
       "      <td>sc:Elements_946</td>\n",
       "      <td>10.811</td>\n",
       "      <td>5</td>\n",
       "      <td>2.34</td>\n",
       "      <td>2076.0</td>\n",
       "      <td>BORON</td>\n",
       "      <td>B</td>\n",
       "    </tr>\n",
       "  </tbody>\n",
       "</table>\n",
       "<p>912 rows × 9 columns</p>\n",
       "</div>"
      ],
      "text/plain": [
       "          uns id sc:hasName      elements id       ar  atomicNumber  density  \\\n",
       "0     sc:UNS_712     C83300  sc:Elements_329  207.200            82    11.29   \n",
       "1     sc:UNS_733     C84500  sc:Elements_329  207.200            82    11.29   \n",
       "2     sc:UNS_738     C85310  sc:Elements_329  207.200            82    11.29   \n",
       "3     sc:UNS_752     C85710  sc:Elements_329  207.200            82    11.29   \n",
       "4     sc:UNS_837     C91500  sc:Elements_329  207.200            82    11.29   \n",
       "..           ...        ...              ...      ...           ...      ...   \n",
       "907  sc:UNS_1657     C50200  sc:Elements_943   32.605            16     2.07   \n",
       "908  sc:UNS_1305        NaN  sc:Elements_943   32.605            16     2.07   \n",
       "909  sc:UNS_1654        NaN  sc:Elements_943   32.605            16     2.07   \n",
       "910  sc:UNS_1767     C70280  sc:Elements_946   10.811             5     2.34   \n",
       "911  sc:UNS_1304        NaN  sc:Elements_946   10.811             5     2.34   \n",
       "\n",
       "     meltingPoint hasName symbol  \n",
       "0           327.5    LEAD     Pb  \n",
       "1           327.5    LEAD     Pb  \n",
       "2           327.5    LEAD     Pb  \n",
       "3           327.5    LEAD     Pb  \n",
       "4           327.5    LEAD     Pb  \n",
       "..            ...     ...    ...  \n",
       "907         112.8  SULFUR      S  \n",
       "908         112.8  SULFUR      S  \n",
       "909         112.8  SULFUR      S  \n",
       "910        2076.0   BORON      B  \n",
       "911        2076.0   BORON      B  \n",
       "\n",
       "[912 rows x 9 columns]"
      ]
     },
     "execution_count": 45,
     "metadata": {},
     "output_type": "execute_result"
    }
   ],
   "source": [
    "uns_data"
   ]
  },
  {
   "cell_type": "code",
   "execution_count": 46,
   "id": "dba70d7a",
   "metadata": {},
   "outputs": [],
   "source": [
    "uns_data.drop('sc:hasName', axis=1, inplace=True)"
   ]
  },
  {
   "cell_type": "code",
   "execution_count": 47,
   "id": "52a667f6",
   "metadata": {},
   "outputs": [
    {
     "data": {
      "text/plain": [
       "uns id          0\n",
       "elements id     0\n",
       "ar              0\n",
       "atomicNumber    0\n",
       "density         0\n",
       "meltingPoint    0\n",
       "hasName         0\n",
       "symbol          0\n",
       "dtype: int64"
      ]
     },
     "execution_count": 47,
     "metadata": {},
     "output_type": "execute_result"
    }
   ],
   "source": [
    "uns_data.isna().sum()"
   ]
  },
  {
   "cell_type": "code",
   "execution_count": 48,
   "id": "fcc2030c",
   "metadata": {},
   "outputs": [
    {
     "name": "stdout",
     "output_type": "stream",
     "text": [
      "912 unique UNS-type scraps.\n"
     ]
    }
   ],
   "source": [
    "print(uns_data['uns id'].nunique(), \"unique UNS-type scraps.\")"
   ]
  },
  {
   "cell_type": "code",
   "execution_count": 51,
   "id": "14de8183",
   "metadata": {},
   "outputs": [
    {
     "name": "stdout",
     "output_type": "stream",
     "text": [
      "25\n",
      "['LEAD' 'COPPER' 'TIN' 'NICKEL' 'ZINC' 'MANGANESE' 'IRON' 'BISMUTH'\n",
      " 'ALUMINUM' 'ANTIMONY' 'SILICON' 'MAGNESIUM' 'SILVER' 'CHROMIUM'\n",
      " 'BERYLLIUM' 'PHOSPHORUS' 'ARSENIC' 'COBALT' 'ZIRCONIUM' 'CARBON'\n",
      " 'TITANIUM' 'OXYGEN' 'CADMIUM' 'SULFUR' 'BORON']\n"
     ]
    }
   ],
   "source": [
    "print(uns_data['hasName'].nunique())\n",
    "print(uns_data['hasName'].unique())"
   ]
  },
  {
   "cell_type": "code",
   "execution_count": 57,
   "id": "0b858da4",
   "metadata": {},
   "outputs": [
    {
     "data": {
      "text/html": [
       "<div>\n",
       "<style scoped>\n",
       "    .dataframe tbody tr th:only-of-type {\n",
       "        vertical-align: middle;\n",
       "    }\n",
       "\n",
       "    .dataframe tbody tr th {\n",
       "        vertical-align: top;\n",
       "    }\n",
       "\n",
       "    .dataframe thead th {\n",
       "        text-align: right;\n",
       "    }\n",
       "</style>\n",
       "<table border=\"1\" class=\"dataframe\">\n",
       "  <thead>\n",
       "    <tr style=\"text-align: right;\">\n",
       "      <th></th>\n",
       "      <th>elements id</th>\n",
       "      <th>ar</th>\n",
       "      <th>atomicNumber</th>\n",
       "      <th>density</th>\n",
       "      <th>meltingPoint</th>\n",
       "      <th>hasName</th>\n",
       "      <th>symbol</th>\n",
       "    </tr>\n",
       "  </thead>\n",
       "  <tbody>\n",
       "    <tr>\n",
       "      <th>0</th>\n",
       "      <td>sc:Elements_319</td>\n",
       "      <td>63.546000</td>\n",
       "      <td>29</td>\n",
       "      <td>8.960</td>\n",
       "      <td>1085.00</td>\n",
       "      <td>COPPER</td>\n",
       "      <td>Cu</td>\n",
       "    </tr>\n",
       "    <tr>\n",
       "      <th>1</th>\n",
       "      <td>sc:Elements_320</td>\n",
       "      <td>47.867000</td>\n",
       "      <td>22</td>\n",
       "      <td>4.500</td>\n",
       "      <td>1668.00</td>\n",
       "      <td>TITANIUM</td>\n",
       "      <td>Ti</td>\n",
       "    </tr>\n",
       "    <tr>\n",
       "      <th>2</th>\n",
       "      <td>sc:Elements_321</td>\n",
       "      <td>55.845000</td>\n",
       "      <td>26</td>\n",
       "      <td>7.874</td>\n",
       "      <td>1538.00</td>\n",
       "      <td>IRON</td>\n",
       "      <td>Fe</td>\n",
       "    </tr>\n",
       "    <tr>\n",
       "      <th>3</th>\n",
       "      <td>sc:Elements_322</td>\n",
       "      <td>26.981539</td>\n",
       "      <td>13</td>\n",
       "      <td>2.700</td>\n",
       "      <td>660.30</td>\n",
       "      <td>ALUMINUM</td>\n",
       "      <td>Al</td>\n",
       "    </tr>\n",
       "    <tr>\n",
       "      <th>4</th>\n",
       "      <td>sc:Elements_323</td>\n",
       "      <td>24.305000</td>\n",
       "      <td>12</td>\n",
       "      <td>1.738</td>\n",
       "      <td>650.00</td>\n",
       "      <td>MAGNESIUM</td>\n",
       "      <td>Mg</td>\n",
       "    </tr>\n",
       "    <tr>\n",
       "      <th>5</th>\n",
       "      <td>sc:Elements_324</td>\n",
       "      <td>6.941000</td>\n",
       "      <td>3</td>\n",
       "      <td>534.000</td>\n",
       "      <td>180.50</td>\n",
       "      <td>LITHIUM</td>\n",
       "      <td>Li</td>\n",
       "    </tr>\n",
       "    <tr>\n",
       "      <th>6</th>\n",
       "      <td>sc:Elements_325</td>\n",
       "      <td>186.207000</td>\n",
       "      <td>75</td>\n",
       "      <td>21.020</td>\n",
       "      <td>3185.00</td>\n",
       "      <td>RHENIUM</td>\n",
       "      <td>Re</td>\n",
       "    </tr>\n",
       "    <tr>\n",
       "      <th>7</th>\n",
       "      <td>sc:Elements_326</td>\n",
       "      <td>118.710000</td>\n",
       "      <td>50</td>\n",
       "      <td>5.750</td>\n",
       "      <td>231.90</td>\n",
       "      <td>TIN</td>\n",
       "      <td>Sn</td>\n",
       "    </tr>\n",
       "    <tr>\n",
       "      <th>8</th>\n",
       "      <td>sc:Elements_327</td>\n",
       "      <td>58.693400</td>\n",
       "      <td>28</td>\n",
       "      <td>8.902</td>\n",
       "      <td>1455.00</td>\n",
       "      <td>NICKEL</td>\n",
       "      <td>Ni</td>\n",
       "    </tr>\n",
       "    <tr>\n",
       "      <th>9</th>\n",
       "      <td>sc:Elements_328</td>\n",
       "      <td>65.380000</td>\n",
       "      <td>30</td>\n",
       "      <td>7.130</td>\n",
       "      <td>419.50</td>\n",
       "      <td>ZINC</td>\n",
       "      <td>Zn</td>\n",
       "    </tr>\n",
       "    <tr>\n",
       "      <th>10</th>\n",
       "      <td>sc:Elements_329</td>\n",
       "      <td>207.200000</td>\n",
       "      <td>82</td>\n",
       "      <td>11.290</td>\n",
       "      <td>327.50</td>\n",
       "      <td>LEAD</td>\n",
       "      <td>Pb</td>\n",
       "    </tr>\n",
       "    <tr>\n",
       "      <th>11</th>\n",
       "      <td>sc:Elements_330</td>\n",
       "      <td>54.938044</td>\n",
       "      <td>25</td>\n",
       "      <td>7.260</td>\n",
       "      <td>1246.00</td>\n",
       "      <td>MANGANESE</td>\n",
       "      <td>Mn</td>\n",
       "    </tr>\n",
       "    <tr>\n",
       "      <th>12</th>\n",
       "      <td>sc:Elements_331</td>\n",
       "      <td>121.760000</td>\n",
       "      <td>51</td>\n",
       "      <td>6.631</td>\n",
       "      <td>630.50</td>\n",
       "      <td>ANTIMONY</td>\n",
       "      <td>Sb</td>\n",
       "    </tr>\n",
       "    <tr>\n",
       "      <th>13</th>\n",
       "      <td>sc:Elements_332</td>\n",
       "      <td>208.980400</td>\n",
       "      <td>83</td>\n",
       "      <td>10.022</td>\n",
       "      <td>271.40</td>\n",
       "      <td>BISMUTH</td>\n",
       "      <td>Bi</td>\n",
       "    </tr>\n",
       "    <tr>\n",
       "      <th>14</th>\n",
       "      <td>sc:Elements_333</td>\n",
       "      <td>28.085500</td>\n",
       "      <td>14</td>\n",
       "      <td>2.330</td>\n",
       "      <td>1414.00</td>\n",
       "      <td>SILICON</td>\n",
       "      <td>Si</td>\n",
       "    </tr>\n",
       "    <tr>\n",
       "      <th>15</th>\n",
       "      <td>sc:Elements_429</td>\n",
       "      <td>107.868200</td>\n",
       "      <td>47</td>\n",
       "      <td>10.490</td>\n",
       "      <td>961.80</td>\n",
       "      <td>SILVER</td>\n",
       "      <td>Ag</td>\n",
       "    </tr>\n",
       "    <tr>\n",
       "      <th>16</th>\n",
       "      <td>sc:Elements_430</td>\n",
       "      <td>112.411000</td>\n",
       "      <td>48</td>\n",
       "      <td>8.650</td>\n",
       "      <td>594.22</td>\n",
       "      <td>CADMIUM</td>\n",
       "      <td>Cd</td>\n",
       "    </tr>\n",
       "    <tr>\n",
       "      <th>17</th>\n",
       "      <td>sc:Elements_431</td>\n",
       "      <td>51.996100</td>\n",
       "      <td>24</td>\n",
       "      <td>7.190</td>\n",
       "      <td>1907.00</td>\n",
       "      <td>CHROMIUM</td>\n",
       "      <td>Cr</td>\n",
       "    </tr>\n",
       "    <tr>\n",
       "      <th>18</th>\n",
       "      <td>sc:Elements_432</td>\n",
       "      <td>72.640000</td>\n",
       "      <td>32</td>\n",
       "      <td>5.323</td>\n",
       "      <td>938.20</td>\n",
       "      <td>GERMANIUM</td>\n",
       "      <td>Ge</td>\n",
       "    </tr>\n",
       "    <tr>\n",
       "      <th>19</th>\n",
       "      <td>sc:Elements_433</td>\n",
       "      <td>15.999000</td>\n",
       "      <td>8</td>\n",
       "      <td>1.429</td>\n",
       "      <td>-222.65</td>\n",
       "      <td>OXYGEN</td>\n",
       "      <td>O</td>\n",
       "    </tr>\n",
       "    <tr>\n",
       "      <th>20</th>\n",
       "      <td>sc:Elements_434</td>\n",
       "      <td>44.955900</td>\n",
       "      <td>21</td>\n",
       "      <td>3.000</td>\n",
       "      <td>1541.00</td>\n",
       "      <td>SCANDIUM</td>\n",
       "      <td>Sc</td>\n",
       "    </tr>\n",
       "    <tr>\n",
       "      <th>21</th>\n",
       "      <td>sc:Elements_435</td>\n",
       "      <td>50.945100</td>\n",
       "      <td>23</td>\n",
       "      <td>6.110</td>\n",
       "      <td>1910.00</td>\n",
       "      <td>VANADIUM</td>\n",
       "      <td>V</td>\n",
       "    </tr>\n",
       "    <tr>\n",
       "      <th>22</th>\n",
       "      <td>sc:Elements_436</td>\n",
       "      <td>91.224000</td>\n",
       "      <td>40</td>\n",
       "      <td>6.490</td>\n",
       "      <td>1855.00</td>\n",
       "      <td>ZIRCONIUM</td>\n",
       "      <td>Zr</td>\n",
       "    </tr>\n",
       "    <tr>\n",
       "      <th>23</th>\n",
       "      <td>sc:Elements_942</td>\n",
       "      <td>30.973762</td>\n",
       "      <td>15</td>\n",
       "      <td>1.820</td>\n",
       "      <td>44.10</td>\n",
       "      <td>PHOSPHORUS</td>\n",
       "      <td>P</td>\n",
       "    </tr>\n",
       "    <tr>\n",
       "      <th>24</th>\n",
       "      <td>sc:Elements_943</td>\n",
       "      <td>32.605000</td>\n",
       "      <td>16</td>\n",
       "      <td>2.070</td>\n",
       "      <td>112.80</td>\n",
       "      <td>SULFUR</td>\n",
       "      <td>S</td>\n",
       "    </tr>\n",
       "    <tr>\n",
       "      <th>25</th>\n",
       "      <td>sc:Elements_944</td>\n",
       "      <td>74.921600</td>\n",
       "      <td>33</td>\n",
       "      <td>5.720</td>\n",
       "      <td>816.80</td>\n",
       "      <td>ARSENIC</td>\n",
       "      <td>As</td>\n",
       "    </tr>\n",
       "    <tr>\n",
       "      <th>26</th>\n",
       "      <td>sc:Elements_945</td>\n",
       "      <td>78.960000</td>\n",
       "      <td>34</td>\n",
       "      <td>4.790</td>\n",
       "      <td>220.00</td>\n",
       "      <td>SELENIUM</td>\n",
       "      <td>Se</td>\n",
       "    </tr>\n",
       "    <tr>\n",
       "      <th>27</th>\n",
       "      <td>sc:Elements_946</td>\n",
       "      <td>10.811000</td>\n",
       "      <td>5</td>\n",
       "      <td>2.340</td>\n",
       "      <td>2076.00</td>\n",
       "      <td>BORON</td>\n",
       "      <td>B</td>\n",
       "    </tr>\n",
       "    <tr>\n",
       "      <th>28</th>\n",
       "      <td>sc:Elements_947</td>\n",
       "      <td>12.010700</td>\n",
       "      <td>6</td>\n",
       "      <td>2.260</td>\n",
       "      <td>3550.00</td>\n",
       "      <td>CARBON</td>\n",
       "      <td>C</td>\n",
       "    </tr>\n",
       "    <tr>\n",
       "      <th>29</th>\n",
       "      <td>sc:Elements_948</td>\n",
       "      <td>9.012182</td>\n",
       "      <td>4</td>\n",
       "      <td>1.848</td>\n",
       "      <td>1287.00</td>\n",
       "      <td>BERYLLIUM</td>\n",
       "      <td>Be</td>\n",
       "    </tr>\n",
       "    <tr>\n",
       "      <th>30</th>\n",
       "      <td>sc:Elements_950</td>\n",
       "      <td>58.933195</td>\n",
       "      <td>27</td>\n",
       "      <td>8.900</td>\n",
       "      <td>1495.00</td>\n",
       "      <td>COBALT</td>\n",
       "      <td>Co</td>\n",
       "    </tr>\n",
       "  </tbody>\n",
       "</table>\n",
       "</div>"
      ],
      "text/plain": [
       "        elements id          ar  atomicNumber  density  meltingPoint  \\\n",
       "0   sc:Elements_319   63.546000            29    8.960       1085.00   \n",
       "1   sc:Elements_320   47.867000            22    4.500       1668.00   \n",
       "2   sc:Elements_321   55.845000            26    7.874       1538.00   \n",
       "3   sc:Elements_322   26.981539            13    2.700        660.30   \n",
       "4   sc:Elements_323   24.305000            12    1.738        650.00   \n",
       "5   sc:Elements_324    6.941000             3  534.000        180.50   \n",
       "6   sc:Elements_325  186.207000            75   21.020       3185.00   \n",
       "7   sc:Elements_326  118.710000            50    5.750        231.90   \n",
       "8   sc:Elements_327   58.693400            28    8.902       1455.00   \n",
       "9   sc:Elements_328   65.380000            30    7.130        419.50   \n",
       "10  sc:Elements_329  207.200000            82   11.290        327.50   \n",
       "11  sc:Elements_330   54.938044            25    7.260       1246.00   \n",
       "12  sc:Elements_331  121.760000            51    6.631        630.50   \n",
       "13  sc:Elements_332  208.980400            83   10.022        271.40   \n",
       "14  sc:Elements_333   28.085500            14    2.330       1414.00   \n",
       "15  sc:Elements_429  107.868200            47   10.490        961.80   \n",
       "16  sc:Elements_430  112.411000            48    8.650        594.22   \n",
       "17  sc:Elements_431   51.996100            24    7.190       1907.00   \n",
       "18  sc:Elements_432   72.640000            32    5.323        938.20   \n",
       "19  sc:Elements_433   15.999000             8    1.429       -222.65   \n",
       "20  sc:Elements_434   44.955900            21    3.000       1541.00   \n",
       "21  sc:Elements_435   50.945100            23    6.110       1910.00   \n",
       "22  sc:Elements_436   91.224000            40    6.490       1855.00   \n",
       "23  sc:Elements_942   30.973762            15    1.820         44.10   \n",
       "24  sc:Elements_943   32.605000            16    2.070        112.80   \n",
       "25  sc:Elements_944   74.921600            33    5.720        816.80   \n",
       "26  sc:Elements_945   78.960000            34    4.790        220.00   \n",
       "27  sc:Elements_946   10.811000             5    2.340       2076.00   \n",
       "28  sc:Elements_947   12.010700             6    2.260       3550.00   \n",
       "29  sc:Elements_948    9.012182             4    1.848       1287.00   \n",
       "30  sc:Elements_950   58.933195            27    8.900       1495.00   \n",
       "\n",
       "       hasName symbol  \n",
       "0       COPPER     Cu  \n",
       "1     TITANIUM     Ti  \n",
       "2         IRON     Fe  \n",
       "3     ALUMINUM     Al  \n",
       "4    MAGNESIUM     Mg  \n",
       "5      LITHIUM     Li  \n",
       "6      RHENIUM     Re  \n",
       "7          TIN     Sn  \n",
       "8       NICKEL     Ni  \n",
       "9         ZINC     Zn  \n",
       "10        LEAD     Pb  \n",
       "11   MANGANESE     Mn  \n",
       "12    ANTIMONY     Sb  \n",
       "13     BISMUTH     Bi  \n",
       "14     SILICON     Si  \n",
       "15      SILVER     Ag  \n",
       "16     CADMIUM     Cd  \n",
       "17    CHROMIUM     Cr  \n",
       "18   GERMANIUM     Ge  \n",
       "19      OXYGEN      O  \n",
       "20    SCANDIUM     Sc  \n",
       "21    VANADIUM      V  \n",
       "22   ZIRCONIUM     Zr  \n",
       "23  PHOSPHORUS      P  \n",
       "24      SULFUR      S  \n",
       "25     ARSENIC     As  \n",
       "26    SELENIUM     Se  \n",
       "27       BORON      B  \n",
       "28      CARBON      C  \n",
       "29   BERYLLIUM     Be  \n",
       "30      COBALT     Co  "
      ]
     },
     "execution_count": 57,
     "metadata": {},
     "output_type": "execute_result"
    }
   ],
   "source": [
    "elements_data"
   ]
  },
  {
   "cell_type": "markdown",
   "id": "2f2e15f5",
   "metadata": {},
   "source": [
    "### Clustering on `UNS` types"
   ]
  },
  {
   "cell_type": "code",
   "execution_count": 26,
   "id": "7eabbd66",
   "metadata": {},
   "outputs": [],
   "source": [
    "uns_data.drop(columns=['elements id', 'hasName', 'symbol'], inplace=True)"
   ]
  },
  {
   "cell_type": "code",
   "execution_count": 29,
   "id": "f3509029",
   "metadata": {},
   "outputs": [
    {
     "data": {
      "text/html": [
       "<div>\n",
       "<style scoped>\n",
       "    .dataframe tbody tr th:only-of-type {\n",
       "        vertical-align: middle;\n",
       "    }\n",
       "\n",
       "    .dataframe tbody tr th {\n",
       "        vertical-align: top;\n",
       "    }\n",
       "\n",
       "    .dataframe thead th {\n",
       "        text-align: right;\n",
       "    }\n",
       "</style>\n",
       "<table border=\"1\" class=\"dataframe\">\n",
       "  <thead>\n",
       "    <tr style=\"text-align: right;\">\n",
       "      <th></th>\n",
       "      <th>uns id</th>\n",
       "      <th>ar</th>\n",
       "      <th>atomicNumber</th>\n",
       "      <th>density</th>\n",
       "      <th>meltingPoint</th>\n",
       "    </tr>\n",
       "  </thead>\n",
       "  <tbody>\n",
       "    <tr>\n",
       "      <th>0</th>\n",
       "      <td>sc:UNS_712</td>\n",
       "      <td>207.2</td>\n",
       "      <td>82</td>\n",
       "      <td>11.29</td>\n",
       "      <td>327.5</td>\n",
       "    </tr>\n",
       "    <tr>\n",
       "      <th>1</th>\n",
       "      <td>sc:UNS_733</td>\n",
       "      <td>207.2</td>\n",
       "      <td>82</td>\n",
       "      <td>11.29</td>\n",
       "      <td>327.5</td>\n",
       "    </tr>\n",
       "  </tbody>\n",
       "</table>\n",
       "</div>"
      ],
      "text/plain": [
       "       uns id     ar  atomicNumber  density  meltingPoint\n",
       "0  sc:UNS_712  207.2            82    11.29         327.5\n",
       "1  sc:UNS_733  207.2            82    11.29         327.5"
      ]
     },
     "execution_count": 29,
     "metadata": {},
     "output_type": "execute_result"
    }
   ],
   "source": [
    "uns_data.head(2)"
   ]
  },
  {
   "cell_type": "code",
   "execution_count": 30,
   "id": "16129281",
   "metadata": {
    "scrolled": true
   },
   "outputs": [
    {
     "data": {
      "text/html": [
       "<div>\n",
       "<style scoped>\n",
       "    .dataframe tbody tr th:only-of-type {\n",
       "        vertical-align: middle;\n",
       "    }\n",
       "\n",
       "    .dataframe tbody tr th {\n",
       "        vertical-align: top;\n",
       "    }\n",
       "\n",
       "    .dataframe thead th {\n",
       "        text-align: right;\n",
       "    }\n",
       "</style>\n",
       "<table border=\"1\" class=\"dataframe\">\n",
       "  <thead>\n",
       "    <tr style=\"text-align: right;\">\n",
       "      <th></th>\n",
       "      <th>uns id</th>\n",
       "      <th>ar</th>\n",
       "      <th>atomicNumber</th>\n",
       "      <th>density</th>\n",
       "      <th>meltingPoint</th>\n",
       "    </tr>\n",
       "  </thead>\n",
       "  <tbody>\n",
       "    <tr>\n",
       "      <th>0</th>\n",
       "      <td>679</td>\n",
       "      <td>207.2</td>\n",
       "      <td>82</td>\n",
       "      <td>11.29</td>\n",
       "      <td>327.5</td>\n",
       "    </tr>\n",
       "    <tr>\n",
       "      <th>1</th>\n",
       "      <td>700</td>\n",
       "      <td>207.2</td>\n",
       "      <td>82</td>\n",
       "      <td>11.29</td>\n",
       "      <td>327.5</td>\n",
       "    </tr>\n",
       "  </tbody>\n",
       "</table>\n",
       "</div>"
      ],
      "text/plain": [
       "   uns id     ar  atomicNumber  density  meltingPoint\n",
       "0     679  207.2            82    11.29         327.5\n",
       "1     700  207.2            82    11.29         327.5"
      ]
     },
     "execution_count": 30,
     "metadata": {},
     "output_type": "execute_result"
    }
   ],
   "source": [
    "from sklearn.preprocessing import LabelEncoder\n",
    "\n",
    "label_enc = LabelEncoder()\n",
    "\n",
    "uns_data['uns id'] = label_enc.fit_transform(uns_data['uns id'])\n",
    "uns_data.head(2)"
   ]
  },
  {
   "cell_type": "code",
   "execution_count": 34,
   "id": "6d82bc56",
   "metadata": {},
   "outputs": [
    {
     "data": {
      "image/png": "[encoded data removed]",
      "text/plain": [
       "<Figure size 800x600 with 1 Axes>"
      ]
     },
     "metadata": {},
     "output_type": "display_data"
    }
   ],
   "source": [
    "from sklearn.cluster import KMeans\n",
    "\n",
    "df = uns_data.drop('uns id', axis=1).copy()\n",
    "\n",
    "distortions = []\n",
    "K = range(1,10)\n",
    "for k in K:\n",
    "    kmeanModel = KMeans(n_clusters=k)\n",
    "    kmeanModel.fit(df)\n",
    "    distortions.append(kmeanModel.inertia_)\n",
    "\n",
    "plt.figure(figsize=(8,6))\n",
    "plt.plot(K, distortions, 'bx-')\n",
    "plt.xlabel('k')\n",
    "plt.ylabel('Distortion')\n",
    "plt.title('The Elbow Method showing the optimal k')\n",
    "plt.show()"
   ]
  },
  {
   "cell_type": "code",
   "execution_count": 35,
   "id": "77d63a47",
   "metadata": {},
   "outputs": [
    {
     "data": {
      "text/html": [
       "<style>#sk-container-id-1 {color: black;background-color: white;}#sk-container-id-1 pre{padding: 0;}#sk-container-id-1 div.sk-toggleable {background-color: white;}#sk-container-id-1 label.sk-toggleable__label {cursor: pointer;display: block;width: 100%;margin-bottom: 0;padding: 0.3em;box-sizing: border-box;text-align: center;}#sk-container-id-1 label.sk-toggleable__label-arrow:before {content: \"▸\";float: left;margin-right: 0.25em;color: #696969;}#sk-container-id-1 label.sk-toggleable__label-arrow:hover:before {color: black;}#sk-container-id-1 div.sk-estimator:hover label.sk-toggleable__label-arrow:before {color: black;}#sk-container-id-1 div.sk-toggleable__content {max-height: 0;max-width: 0;overflow: hidden;text-align: left;background-color: #f0f8ff;}#sk-container-id-1 div.sk-toggleable__content pre {margin: 0.2em;color: black;border-radius: 0.25em;background-color: #f0f8ff;}#sk-container-id-1 input.sk-toggleable__control:checked~div.sk-toggleable__content {max-height: 200px;max-width: 100%;overflow: auto;}#sk-container-id-1 input.sk-toggleable__control:checked~label.sk-toggleable__label-arrow:before {content: \"▾\";}#sk-container-id-1 div.sk-estimator input.sk-toggleable__control:checked~label.sk-toggleable__label {background-color: #d4ebff;}#sk-container-id-1 div.sk-label input.sk-toggleable__control:checked~label.sk-toggleable__label {background-color: #d4ebff;}#sk-container-id-1 input.sk-hidden--visually {border: 0;clip: rect(1px 1px 1px 1px);clip: rect(1px, 1px, 1px, 1px);height: 1px;margin: -1px;overflow: hidden;padding: 0;position: absolute;width: 1px;}#sk-container-id-1 div.sk-estimator {font-family: monospace;background-color: #f0f8ff;border: 1px dotted black;border-radius: 0.25em;box-sizing: border-box;margin-bottom: 0.5em;}#sk-container-id-1 div.sk-estimator:hover {background-color: #d4ebff;}#sk-container-id-1 div.sk-parallel-item::after {content: \"\";width: 100%;border-bottom: 1px solid gray;flex-grow: 1;}#sk-container-id-1 div.sk-label:hover label.sk-toggleable__label {background-color: #d4ebff;}#sk-container-id-1 div.sk-serial::before {content: \"\";position: absolute;border-left: 1px solid gray;box-sizing: border-box;top: 0;bottom: 0;left: 50%;z-index: 0;}#sk-container-id-1 div.sk-serial {display: flex;flex-direction: column;align-items: center;background-color: white;padding-right: 0.2em;padding-left: 0.2em;position: relative;}#sk-container-id-1 div.sk-item {position: relative;z-index: 1;}#sk-container-id-1 div.sk-parallel {display: flex;align-items: stretch;justify-content: center;background-color: white;position: relative;}#sk-container-id-1 div.sk-item::before, #sk-container-id-1 div.sk-parallel-item::before {content: \"\";position: absolute;border-left: 1px solid gray;box-sizing: border-box;top: 0;bottom: 0;left: 50%;z-index: -1;}#sk-container-id-1 div.sk-parallel-item {display: flex;flex-direction: column;z-index: 1;position: relative;background-color: white;}#sk-container-id-1 div.sk-parallel-item:first-child::after {align-self: flex-end;width: 50%;}#sk-container-id-1 div.sk-parallel-item:last-child::after {align-self: flex-start;width: 50%;}#sk-container-id-1 div.sk-parallel-item:only-child::after {width: 0;}#sk-container-id-1 div.sk-dashed-wrapped {border: 1px dashed gray;margin: 0 0.4em 0.5em 0.4em;box-sizing: border-box;padding-bottom: 0.4em;background-color: white;}#sk-container-id-1 div.sk-label label {font-family: monospace;font-weight: bold;display: inline-block;line-height: 1.2em;}#sk-container-id-1 div.sk-label-container {text-align: center;}#sk-container-id-1 div.sk-container {/* jupyter's `normalize.less` sets `[hidden] { display: none; }` but bootstrap.min.css set `[hidden] { display: none !important; }` so we also need the `!important` here to be able to override the default hidden behavior on the sphinx rendered scikit-learn.org. See: https://github.com/scikit-learn/scikit-learn/issues/21755 */display: inline-block !important;position: relative;}#sk-container-id-1 div.sk-text-repr-fallback {display: none;}</style><div id=\"sk-container-id-1\" class=\"sk-top-container\"><div class=\"sk-text-repr-fallback\"><pre>KMeans(n_clusters=3)</pre><b>In a Jupyter environment, please rerun this cell to show the HTML representation or trust the notebook. <br />On GitHub, the HTML representation is unable to render, please try loading this page with nbviewer.org.</b></div><div class=\"sk-container\" hidden><div class=\"sk-item\"><div class=\"sk-estimator sk-toggleable\"><input class=\"sk-toggleable__control sk-hidden--visually\" id=\"sk-estimator-id-1\" type=\"checkbox\" checked><label for=\"sk-estimator-id-1\" class=\"sk-toggleable__label sk-toggleable__label-arrow\">KMeans</label><div class=\"sk-toggleable__content\"><pre>KMeans(n_clusters=3)</pre></div></div></div></div></div>"
      ],
      "text/plain": [
       "KMeans(n_clusters=3)"
      ]
     },
     "execution_count": 35,
     "metadata": {},
     "output_type": "execute_result"
    }
   ],
   "source": [
    "opt_k = 3\n",
    "kmeans = KMeans(n_clusters=opt_k)\n",
    "kmeans.fit(df)"
   ]
  },
  {
   "cell_type": "code",
   "execution_count": 39,
   "id": "d27cec01",
   "metadata": {},
   "outputs": [],
   "source": [
    "uns_data['cluster'] = kmeans.labels_"
   ]
  },
  {
   "cell_type": "code",
   "execution_count": 40,
   "id": "9b937191",
   "metadata": {},
   "outputs": [
    {
     "data": {
      "text/html": [
       "<div>\n",
       "<style scoped>\n",
       "    .dataframe tbody tr th:only-of-type {\n",
       "        vertical-align: middle;\n",
       "    }\n",
       "\n",
       "    .dataframe tbody tr th {\n",
       "        vertical-align: top;\n",
       "    }\n",
       "\n",
       "    .dataframe thead th {\n",
       "        text-align: right;\n",
       "    }\n",
       "</style>\n",
       "<table border=\"1\" class=\"dataframe\">\n",
       "  <thead>\n",
       "    <tr style=\"text-align: right;\">\n",
       "      <th></th>\n",
       "      <th>uns id</th>\n",
       "      <th>ar</th>\n",
       "      <th>atomicNumber</th>\n",
       "      <th>density</th>\n",
       "      <th>meltingPoint</th>\n",
       "      <th>cluster</th>\n",
       "    </tr>\n",
       "  </thead>\n",
       "  <tbody>\n",
       "    <tr>\n",
       "      <th>0</th>\n",
       "      <td>679</td>\n",
       "      <td>207.200</td>\n",
       "      <td>82</td>\n",
       "      <td>11.29</td>\n",
       "      <td>327.5</td>\n",
       "      <td>1</td>\n",
       "    </tr>\n",
       "    <tr>\n",
       "      <th>1</th>\n",
       "      <td>700</td>\n",
       "      <td>207.200</td>\n",
       "      <td>82</td>\n",
       "      <td>11.29</td>\n",
       "      <td>327.5</td>\n",
       "      <td>1</td>\n",
       "    </tr>\n",
       "    <tr>\n",
       "      <th>2</th>\n",
       "      <td>705</td>\n",
       "      <td>207.200</td>\n",
       "      <td>82</td>\n",
       "      <td>11.29</td>\n",
       "      <td>327.5</td>\n",
       "      <td>1</td>\n",
       "    </tr>\n",
       "    <tr>\n",
       "      <th>3</th>\n",
       "      <td>719</td>\n",
       "      <td>207.200</td>\n",
       "      <td>82</td>\n",
       "      <td>11.29</td>\n",
       "      <td>327.5</td>\n",
       "      <td>1</td>\n",
       "    </tr>\n",
       "    <tr>\n",
       "      <th>4</th>\n",
       "      <td>804</td>\n",
       "      <td>207.200</td>\n",
       "      <td>82</td>\n",
       "      <td>11.29</td>\n",
       "      <td>327.5</td>\n",
       "      <td>1</td>\n",
       "    </tr>\n",
       "    <tr>\n",
       "      <th>...</th>\n",
       "      <td>...</td>\n",
       "      <td>...</td>\n",
       "      <td>...</td>\n",
       "      <td>...</td>\n",
       "      <td>...</td>\n",
       "      <td>...</td>\n",
       "    </tr>\n",
       "    <tr>\n",
       "      <th>907</th>\n",
       "      <td>372</td>\n",
       "      <td>32.605</td>\n",
       "      <td>16</td>\n",
       "      <td>2.07</td>\n",
       "      <td>112.8</td>\n",
       "      <td>1</td>\n",
       "    </tr>\n",
       "    <tr>\n",
       "      <th>908</th>\n",
       "      <td>29</td>\n",
       "      <td>32.605</td>\n",
       "      <td>16</td>\n",
       "      <td>2.07</td>\n",
       "      <td>112.8</td>\n",
       "      <td>1</td>\n",
       "    </tr>\n",
       "    <tr>\n",
       "      <th>909</th>\n",
       "      <td>369</td>\n",
       "      <td>32.605</td>\n",
       "      <td>16</td>\n",
       "      <td>2.07</td>\n",
       "      <td>112.8</td>\n",
       "      <td>1</td>\n",
       "    </tr>\n",
       "    <tr>\n",
       "      <th>910</th>\n",
       "      <td>481</td>\n",
       "      <td>10.811</td>\n",
       "      <td>5</td>\n",
       "      <td>2.34</td>\n",
       "      <td>2076.0</td>\n",
       "      <td>2</td>\n",
       "    </tr>\n",
       "    <tr>\n",
       "      <th>911</th>\n",
       "      <td>28</td>\n",
       "      <td>10.811</td>\n",
       "      <td>5</td>\n",
       "      <td>2.34</td>\n",
       "      <td>2076.0</td>\n",
       "      <td>2</td>\n",
       "    </tr>\n",
       "  </tbody>\n",
       "</table>\n",
       "<p>912 rows × 6 columns</p>\n",
       "</div>"
      ],
      "text/plain": [
       "     uns id       ar  atomicNumber  density  meltingPoint  cluster\n",
       "0       679  207.200            82    11.29         327.5        1\n",
       "1       700  207.200            82    11.29         327.5        1\n",
       "2       705  207.200            82    11.29         327.5        1\n",
       "3       719  207.200            82    11.29         327.5        1\n",
       "4       804  207.200            82    11.29         327.5        1\n",
       "..      ...      ...           ...      ...           ...      ...\n",
       "907     372   32.605            16     2.07         112.8        1\n",
       "908      29   32.605            16     2.07         112.8        1\n",
       "909     369   32.605            16     2.07         112.8        1\n",
       "910     481   10.811             5     2.34        2076.0        2\n",
       "911      28   10.811             5     2.34        2076.0        2\n",
       "\n",
       "[912 rows x 6 columns]"
      ]
     },
     "execution_count": 40,
     "metadata": {},
     "output_type": "execute_result"
    }
   ],
   "source": [
    "uns_data"
   ]
  },
  {
   "cell_type": "code",
   "execution_count": null,
   "id": "9b937191",
   "metadata": {},
   "outputs": [],
   "source": []
  },
  {
   "cell_type": "code",
   "execution_count": null,
   "id": "9b937191",
   "metadata": {},
   "outputs": [],
   "source": []
  },
  {
   "cell_type": "code",
   "execution_count": null,
   "id": "9b937191",
   "metadata": {},
   "outputs": [],
   "source": []
  },
  {
   "cell_type": "code",
   "execution_count": null,
   "id": "9b937191",
   "metadata": {},
   "outputs": [],
   "source": []
  },
  {
   "cell_type": "code",
   "execution_count": null,
   "id": "c2871e69",
   "metadata": {},
   "outputs": [],
   "source": []
  },
  {
   "cell_type": "code",
   "execution_count": null,
   "id": "4b4ab37d",
   "metadata": {},
   "outputs": [],
   "source": []
  },
  {
   "cell_type": "code",
   "execution_count": null,
   "id": "5b5b76ea",
   "metadata": {},
   "outputs": [],
   "source": []
  },
  {
   "cell_type": "code",
   "execution_count": null,
   "id": "fc437f98",
   "metadata": {},
   "outputs": [],
   "source": []
  },
  {
   "cell_type": "code",
   "execution_count": null,
   "id": "2554f16e",
   "metadata": {},
   "outputs": [],
   "source": []
  },
  {
   "cell_type": "markdown",
   "id": "9025e620",
   "metadata": {},
   "source": [
    "# Study `ANAMET`"
   ]
  },
  {
   "cell_type": "code",
   "execution_count": 96,
   "id": "2dc5123b",
   "metadata": {},
   "outputs": [
    {
     "data": {
      "text/html": [
       "<div>\n",
       "<style scoped>\n",
       "    .dataframe tbody tr th:only-of-type {\n",
       "        vertical-align: middle;\n",
       "    }\n",
       "\n",
       "    .dataframe tbody tr th {\n",
       "        vertical-align: top;\n",
       "    }\n",
       "\n",
       "    .dataframe thead th {\n",
       "        text-align: right;\n",
       "    }\n",
       "</style>\n",
       "<table border=\"1\" class=\"dataframe\">\n",
       "  <thead>\n",
       "    <tr style=\"text-align: right;\">\n",
       "      <th></th>\n",
       "      <th>anamet entity</th>\n",
       "      <th>sc:description</th>\n",
       "      <th>sc:hasCategory</th>\n",
       "      <th>sc:internal_code</th>\n",
       "      <th>sc:isProcessedBy</th>\n",
       "    </tr>\n",
       "  </thead>\n",
       "  <tbody>\n",
       "    <tr>\n",
       "      <th>0</th>\n",
       "      <td>sc:ANAMET_437</td>\n",
       "      <td>ΣΚΡΑΠ ΨΑΛΙΔΙΣΜΕΝΟ ΠΥΚΝ &gt;450 ΚG/M3 (ΥΛΗ)</td>\n",
       "      <td>Ferrous</td>\n",
       "      <td>40000</td>\n",
       "      <td>sc:Process_690</td>\n",
       "    </tr>\n",
       "    <tr>\n",
       "      <th>1</th>\n",
       "      <td>sc:ANAMET_438</td>\n",
       "      <td>άγνωστο</td>\n",
       "      <td>Ferrous</td>\n",
       "      <td>9000</td>\n",
       "      <td>NaN</td>\n",
       "    </tr>\n",
       "    <tr>\n",
       "      <th>2</th>\n",
       "      <td>sc:ANAMET_439</td>\n",
       "      <td>κουτάκι</td>\n",
       "      <td>Ferrous</td>\n",
       "      <td>9101</td>\n",
       "      <td>NaN</td>\n",
       "    </tr>\n",
       "    <tr>\n",
       "      <th>3</th>\n",
       "      <td>sc:ANAMET_440</td>\n",
       "      <td>λαμαρίνες</td>\n",
       "      <td>Ferrous</td>\n",
       "      <td>9102</td>\n",
       "      <td>NaN</td>\n",
       "    </tr>\n",
       "    <tr>\n",
       "      <th>4</th>\n",
       "      <td>sc:ANAMET_441</td>\n",
       "      <td>ζάντες + βαρύ προς shredder κλπ από ΟΤΚΖ</td>\n",
       "      <td>Ferrous</td>\n",
       "      <td>9103</td>\n",
       "      <td>NaN</td>\n",
       "    </tr>\n",
       "    <tr>\n",
       "      <th>...</th>\n",
       "      <td>...</td>\n",
       "      <td>...</td>\n",
       "      <td>...</td>\n",
       "      <td>...</td>\n",
       "      <td>...</td>\n",
       "    </tr>\n",
       "    <tr>\n",
       "      <th>317</th>\n",
       "      <td>sc:ANAMET_684</td>\n",
       "      <td>LEAD SCRAP (E)</td>\n",
       "      <td>Non-Ferrous</td>\n",
       "      <td>50185</td>\n",
       "      <td>NaN</td>\n",
       "    </tr>\n",
       "    <tr>\n",
       "      <th>318</th>\n",
       "      <td>sc:ANAMET_685</td>\n",
       "      <td>ELECTRIC MOTORS SHREDDED (WEEE)</td>\n",
       "      <td>Non-Ferrous</td>\n",
       "      <td>50259</td>\n",
       "      <td>NaN</td>\n",
       "    </tr>\n",
       "    <tr>\n",
       "      <th>319</th>\n",
       "      <td>sc:ANAMET_686</td>\n",
       "      <td>BLACK PLASTIC SCRAP (WEEE)  ( E )</td>\n",
       "      <td>Non-Ferrous</td>\n",
       "      <td>50117</td>\n",
       "      <td>NaN</td>\n",
       "    </tr>\n",
       "    <tr>\n",
       "      <th>320</th>\n",
       "      <td>sc:ANAMET_687</td>\n",
       "      <td>SCRAP PLEXIGLASS ( E )</td>\n",
       "      <td>Non-Ferrous</td>\n",
       "      <td>50118</td>\n",
       "      <td>NaN</td>\n",
       "    </tr>\n",
       "    <tr>\n",
       "      <th>321</th>\n",
       "      <td>sc:ANAMET_688</td>\n",
       "      <td>MIXED PLASTIC SCRAP (WEEE) ( E )</td>\n",
       "      <td>Non-Ferrous</td>\n",
       "      <td>50119</td>\n",
       "      <td>NaN</td>\n",
       "    </tr>\n",
       "  </tbody>\n",
       "</table>\n",
       "<p>322 rows × 5 columns</p>\n",
       "</div>"
      ],
      "text/plain": [
       "     anamet entity                            sc:description sc:hasCategory  \\\n",
       "0    sc:ANAMET_437   ΣΚΡΑΠ ΨΑΛΙΔΙΣΜΕΝΟ ΠΥΚΝ >450 ΚG/M3 (ΥΛΗ)        Ferrous   \n",
       "1    sc:ANAMET_438                                   άγνωστο        Ferrous   \n",
       "2    sc:ANAMET_439                                   κουτάκι        Ferrous   \n",
       "3    sc:ANAMET_440                                 λαμαρίνες        Ferrous   \n",
       "4    sc:ANAMET_441  ζάντες + βαρύ προς shredder κλπ από ΟΤΚΖ        Ferrous   \n",
       "..             ...                                       ...            ...   \n",
       "317  sc:ANAMET_684                            LEAD SCRAP (E)    Non-Ferrous   \n",
       "318  sc:ANAMET_685           ELECTRIC MOTORS SHREDDED (WEEE)    Non-Ferrous   \n",
       "319  sc:ANAMET_686         BLACK PLASTIC SCRAP (WEEE)  ( E )    Non-Ferrous   \n",
       "320  sc:ANAMET_687                    SCRAP PLEXIGLASS ( E )    Non-Ferrous   \n",
       "321  sc:ANAMET_688          MIXED PLASTIC SCRAP (WEEE) ( E )    Non-Ferrous   \n",
       "\n",
       "     sc:internal_code sc:isProcessedBy  \n",
       "0               40000   sc:Process_690  \n",
       "1                9000              NaN  \n",
       "2                9101              NaN  \n",
       "3                9102              NaN  \n",
       "4                9103              NaN  \n",
       "..                ...              ...  \n",
       "317             50185              NaN  \n",
       "318             50259              NaN  \n",
       "319             50117              NaN  \n",
       "320             50118              NaN  \n",
       "321             50119              NaN  \n",
       "\n",
       "[322 rows x 5 columns]"
      ]
     },
     "execution_count": 96,
     "metadata": {},
     "output_type": "execute_result"
    }
   ],
   "source": [
    "anamet_data"
   ]
  },
  {
   "cell_type": "code",
   "execution_count": null,
   "id": "9f665c13",
   "metadata": {},
   "outputs": [],
   "source": []
  },
  {
   "cell_type": "markdown",
   "id": "552f7e17",
   "metadata": {},
   "source": [
    "# Unified dataset"
   ]
  },
  {
   "cell_type": "code",
   "execution_count": 97,
   "id": "3214af66",
   "metadata": {},
   "outputs": [],
   "source": [
    "uns_data = pd.read_excel(xls, 'UNS data')\n",
    "\n",
    "uns_data.rename(columns = {'sc:isComposedOf':'elements id'}, inplace = True)\n",
    "\n",
    "elements_data = pd.read_excel(xls, 'Elements data')\n",
    "\n",
    "uns_data = pd.merge(uns_data, elements_data, how='inner', on = 'elements id')\n",
    "isri_data = pd.read_excel(xls, 'Isri data')\n",
    "anamet_data = pd.read_excel(xls, 'Anamet data')\n",
    "material_data = pd.read_excel(xls, 'Material data')\n",
    "elements_data = pd.read_excel(xls, 'Elements data')"
   ]
  },
  {
   "cell_type": "code",
   "execution_count": null,
   "id": "1f87a270",
   "metadata": {},
   "outputs": [],
   "source": []
  },
  {
   "cell_type": "code",
   "execution_count": null,
   "id": "1421b933",
   "metadata": {},
   "outputs": [],
   "source": []
  },
  {
   "cell_type": "code",
   "execution_count": null,
   "id": "0a69676f",
   "metadata": {},
   "outputs": [],
   "source": []
  },
  {
   "cell_type": "code",
   "execution_count": null,
   "id": "5730dadc",
   "metadata": {},
   "outputs": [],
   "source": []
  },
  {
   "cell_type": "code",
   "execution_count": null,
   "id": "e659ee4e",
   "metadata": {},
   "outputs": [],
   "source": []
  },
  {
   "cell_type": "markdown",
   "id": "84bdb19a",
   "metadata": {},
   "source": [
    "How many __unique__ ISRI?"
   ]
  },
  {
   "cell_type": "code",
   "execution_count": null,
   "id": "c3da8789",
   "metadata": {},
   "outputs": [],
   "source": [
    "isri_data['isri id'].nunique()"
   ]
  },
  {
   "cell_type": "code",
   "execution_count": null,
   "id": "6e2cce3c",
   "metadata": {},
   "outputs": [],
   "source": [
    "# check nans\n",
    "isri_data.isna().sum()"
   ]
  },
  {
   "cell_type": "markdown",
   "id": "3a7846f8",
   "metadata": {},
   "source": [
    "Όσα `ISRI` έχουν available `process`, ανήκουν στο ίδιο. Επομένως, δεν έχει νοήμα η προσπάθεια πρόβλεψης του process κάποιου scrap."
   ]
  },
  {
   "cell_type": "code",
   "execution_count": null,
   "id": "d1bee531",
   "metadata": {},
   "outputs": [],
   "source": [
    "print(isri_data['sc:isProcessedBy'].unique())\n",
    "\n",
    "# drop process from ISRI\n",
    "isri_data.drop('sc:isProcessedBy', axis=1, inplace=True)"
   ]
  },
  {
   "cell_type": "code",
   "execution_count": null,
   "id": "54120ac9",
   "metadata": {},
   "outputs": [],
   "source": [
    "isri_data['sc:hasCategory'].value_counts()"
   ]
  },
  {
   "cell_type": "code",
   "execution_count": null,
   "id": "b3aa65fc",
   "metadata": {},
   "outputs": [],
   "source": [
    "isri_data.head(2)"
   ]
  },
  {
   "cell_type": "markdown",
   "id": "8b2de420",
   "metadata": {},
   "source": [
    "#### Check for NaNs and fill them with empty string"
   ]
  },
  {
   "cell_type": "code",
   "execution_count": null,
   "id": "20bd6f7b",
   "metadata": {},
   "outputs": [],
   "source": [
    "isri_data.isna().sum()"
   ]
  },
  {
   "cell_type": "code",
   "execution_count": null,
   "id": "e37c3c53",
   "metadata": {},
   "outputs": [],
   "source": [
    "# isri_data.fillna('', inplace=True)"
   ]
  },
  {
   "cell_type": "code",
   "execution_count": null,
   "id": "330480b0",
   "metadata": {},
   "outputs": [],
   "source": [
    "# Probably just a 'code name'. We will drop it\n",
    "isri_data.drop('sc:hasISRICode', axis=1, inplace=True)"
   ]
  },
  {
   "cell_type": "code",
   "execution_count": null,
   "id": "6a21aab3",
   "metadata": {},
   "outputs": [],
   "source": [
    "isri_data.head(2)"
   ]
  },
  {
   "cell_type": "markdown",
   "id": "1fa70986",
   "metadata": {},
   "source": [
    "# TDS: How to vectorize text in DF for NLP"
   ]
  },
  {
   "cell_type": "code",
   "execution_count": null,
   "id": "387c467c",
   "metadata": {},
   "outputs": [],
   "source": [
    "import texthero as hero\n",
    "from texthero import preprocessing"
   ]
  },
  {
   "cell_type": "code",
   "execution_count": null,
   "id": "ad529325",
   "metadata": {},
   "outputs": [],
   "source": [
    "custom_pipeline = [preprocessing.fillna,\n",
    "                   preprocessing.lowercase,\n",
    "                   preprocessing.remove_whitespace,\n",
    "                   preprocessing.remove_stopwords]\n",
    "\n",
    "df = isri_data.copy()"
   ]
  },
  {
   "cell_type": "code",
   "execution_count": null,
   "id": "6eea7ae1",
   "metadata": {},
   "outputs": [],
   "source": [
    "df.head()"
   ]
  },
  {
   "cell_type": "code",
   "execution_count": null,
   "id": "501d4359",
   "metadata": {},
   "outputs": [],
   "source": [
    "reviews = df['sc:hasCategory'].str.cat(sep=' ')"
   ]
  },
  {
   "cell_type": "code",
   "execution_count": null,
   "id": "10670339",
   "metadata": {},
   "outputs": [],
   "source": [
    "le = LabelEncoder()\n",
    "\n",
    "df['sc:isComposedOf'] = le.fit_transform(df['sc:isComposedOf'])\n",
    "df.head(2)"
   ]
  },
  {
   "cell_type": "code",
   "execution_count": null,
   "id": "1d54b664",
   "metadata": {},
   "outputs": [],
   "source": [
    "from sklearn.model_selection import train_test_split\n",
    "\n",
    "X = df.drop('sc:isComposedOf', axis=1)\n",
    "y = df['sc:isComposedOf']\n",
    "\n",
    "X_train, X_test, y_train, y_test = train_test_split(X, y, test_size=0.2)"
   ]
  },
  {
   "cell_type": "code",
   "execution_count": null,
   "id": "9ebe620f",
   "metadata": {},
   "outputs": [],
   "source": [
    "from sklearn.feature_extraction.text import TfidfTransformer\n",
    "from sklearn.feature_extraction.text import TfidfVectorizer\n",
    "\n",
    "X_train = X_train['sc:hasCategory'].values\n",
    "X_test = X_test['sc:hasCategory'].values\n",
    "\n",
    "y_train = y_train.values\n",
    "y_test = y_test.values\n",
    "\n",
    "vectorizer = TfidfVectorizer()\n",
    "train_vectors = vectorizer.fit_transform(X_train)\n",
    "test_vectors = vectorizer.transform(X_test)\n",
    "\n",
    "print(train_vectors.shape, test_vectors.shape)\n",
    "\n",
    "from sklearn.naive_bayes import MultinomialNB\n",
    "\n",
    "clf = MultinomialNB().fit(train_vectors, y_train)\n",
    "predicted = clf.predict(test_vectors)\n",
    "print(accuracy_score(y_test,predicted))"
   ]
  },
  {
   "cell_type": "code",
   "execution_count": null,
   "id": "4551aad3",
   "metadata": {},
   "outputs": [],
   "source": [
    "pd.DataFrame(train_vectors.todense())"
   ]
  },
  {
   "cell_type": "code",
   "execution_count": null,
   "id": "a8b16e70",
   "metadata": {},
   "outputs": [],
   "source": [
    "train_vectors.todense()"
   ]
  },
  {
   "cell_type": "code",
   "execution_count": null,
   "id": "2b06673f",
   "metadata": {},
   "outputs": [],
   "source": [
    "for col in X_train.columns:\n",
    "    vectorizer = TfidfVectorizer()\n",
    "    train_vectors = vectorizer.fit_tr\n",
    "    print(col)"
   ]
  },
  {
   "cell_type": "code",
   "execution_count": null,
   "id": "250b8f45",
   "metadata": {},
   "outputs": [],
   "source": []
  },
  {
   "cell_type": "code",
   "execution_count": null,
   "id": "2717105b",
   "metadata": {},
   "outputs": [],
   "source": [
    "from sklearn.feature_extraction.text import CountVectorizer\n",
    "\n",
    "X = df['sc:hasCategory']\n",
    "\n",
    "cvec = CountVectorizer().fit(X)\n",
    "X = cvec.transform(X)\n",
    "df_train = pd.DataFrame(X.todense(), columns=cvec.get_feature_names())\n",
    "df_train"
   ]
  },
  {
   "cell_type": "code",
   "execution_count": null,
   "id": "d2b8bf96",
   "metadata": {},
   "outputs": [],
   "source": []
  },
  {
   "cell_type": "code",
   "execution_count": null,
   "id": "0006c7c5",
   "metadata": {},
   "outputs": [],
   "source": []
  },
  {
   "cell_type": "code",
   "execution_count": null,
   "id": "8073a26d",
   "metadata": {},
   "outputs": [],
   "source": []
  },
  {
   "cell_type": "code",
   "execution_count": null,
   "id": "8651b767",
   "metadata": {},
   "outputs": [],
   "source": [
    "for col in df.drop('sc:isComposedOf', axis=1).columns:\n",
    "    df[col] = hero.clean(df[col])\n",
    "    df[col] = df[col].pipe(hero.clean, custom_pipeline)\n",
    "\n",
    "df.head()\n"
   ]
  },
  {
   "cell_type": "code",
   "execution_count": null,
   "id": "1cca54f2",
   "metadata": {},
   "outputs": [],
   "source": []
  },
  {
   "cell_type": "code",
   "execution_count": null,
   "id": "ac262915",
   "metadata": {},
   "outputs": [],
   "source": []
  },
  {
   "cell_type": "code",
   "execution_count": null,
   "id": "7418c28c",
   "metadata": {},
   "outputs": [],
   "source": []
  },
  {
   "cell_type": "code",
   "execution_count": null,
   "id": "19e74462",
   "metadata": {},
   "outputs": [],
   "source": []
  },
  {
   "cell_type": "code",
   "execution_count": null,
   "id": "1fc9cddb",
   "metadata": {},
   "outputs": [],
   "source": []
  },
  {
   "cell_type": "code",
   "execution_count": null,
   "id": "4897896c",
   "metadata": {},
   "outputs": [],
   "source": []
  },
  {
   "cell_type": "code",
   "execution_count": null,
   "id": "19f9bde8",
   "metadata": {},
   "outputs": [],
   "source": []
  },
  {
   "cell_type": "code",
   "execution_count": null,
   "id": "15a0de15",
   "metadata": {},
   "outputs": [],
   "source": []
  },
  {
   "cell_type": "code",
   "execution_count": null,
   "id": "f16dbc5e",
   "metadata": {},
   "outputs": [],
   "source": []
  },
  {
   "cell_type": "code",
   "execution_count": null,
   "id": "1cfed2fb",
   "metadata": {},
   "outputs": [],
   "source": []
  },
  {
   "cell_type": "code",
   "execution_count": null,
   "id": "8d3bc9f5",
   "metadata": {},
   "outputs": [],
   "source": []
  },
  {
   "cell_type": "code",
   "execution_count": null,
   "id": "62530fe8",
   "metadata": {},
   "outputs": [],
   "source": [
    "for col in df.drop('sc:isComposedOf', axis=1).columns:\n",
    "    df[col] = hero.tfidf(df[col])\n",
    "\n",
    "df.head()"
   ]
  },
  {
   "cell_type": "code",
   "execution_count": null,
   "id": "12cc1f98",
   "metadata": {},
   "outputs": [],
   "source": [
    "print(df.isna().sum())\n",
    "\n",
    "df.fillna('', inplace=True)"
   ]
  },
  {
   "cell_type": "code",
   "execution_count": null,
   "id": "51fdffd2",
   "metadata": {},
   "outputs": [],
   "source": [
    "pred_isComposedOf_df = df[df['sc:isComposedOf'] != '']\n",
    "pred_isComposedOf_df.shape\n"
   ]
  },
  {
   "cell_type": "code",
   "execution_count": null,
   "id": "10670339",
   "metadata": {},
   "outputs": [],
   "source": [
    "le = LabelEncoder()\n",
    "\n",
    "pred_isComposedOf_df['sc:isComposedOf'] = le.fit_transform(pred_isComposedOf_df['sc:isComposedOf'])\n",
    "pred_isComposedOf_df.head(2)"
   ]
  },
  {
   "cell_type": "code",
   "execution_count": null,
   "id": "1d54b664",
   "metadata": {},
   "outputs": [],
   "source": [
    "from sklearn.model_selection import train_test_split\n",
    "\n",
    "X = pred_isComposedOf_df.drop('sc:isComposedOf', axis=1)\n",
    "y = pred_isComposedOf_df['sc:isComposedOf']\n",
    "\n",
    "X_train, X_test, y_train, y_test = train_test_split(X, y, test_size=0.2)"
   ]
  },
  {
   "cell_type": "code",
   "execution_count": null,
   "id": "cc1fda1e",
   "metadata": {},
   "outputs": [],
   "source": [
    "from sklearn.naive_bayes import MultinomialNB\n",
    "from sklearn.linear_model import SGDClassifier\n",
    "from sklearn.linear_model import LogisticRegression\n",
    "from sklearn.multiclass import OneVsRestClassifier\n",
    "\n",
    "model = OneVsRestClassifier(LogisticRegression())\n",
    "\n",
    "model.fit(X_train['sc:hasCategory'], y_train)\n",
    "y_hat = model.predict(X_test)\n",
    "\n",
    "results = pd.DataFrame()\n",
    "\n",
    "results['true'] = y_test\n",
    "results['pred'] = y_hat\n",
    "\n",
    "accuracy_score(y_test, y_hat)"
   ]
  },
  {
   "cell_type": "code",
   "execution_count": null,
   "id": "20aa1fbe",
   "metadata": {},
   "outputs": [],
   "source": []
  },
  {
   "cell_type": "code",
   "execution_count": null,
   "id": "e6c54780",
   "metadata": {},
   "outputs": [],
   "source": []
  },
  {
   "cell_type": "code",
   "execution_count": null,
   "id": "6d1db1cf",
   "metadata": {},
   "outputs": [],
   "source": []
  },
  {
   "cell_type": "code",
   "execution_count": null,
   "id": "3bce05be",
   "metadata": {},
   "outputs": [],
   "source": []
  },
  {
   "cell_type": "code",
   "execution_count": null,
   "id": "5b9e4c1a",
   "metadata": {},
   "outputs": [],
   "source": []
  },
  {
   "cell_type": "code",
   "execution_count": null,
   "id": "685793cd",
   "metadata": {},
   "outputs": [],
   "source": [
    "pred_isComposedOf_df = isri_data[isri_data['sc:isComposedOf'] != '']\n",
    "pred_isComposedOf_df.drop(columns=['isri id', 'sc:isFreeFrom'], inplace=True)\n",
    "pred_isComposedOf_df.head()"
   ]
  },
  {
   "cell_type": "code",
   "execution_count": null,
   "id": "dc45193a",
   "metadata": {},
   "outputs": [],
   "source": [
    "from sklearn.feature_extraction.text import TfidfVectorizer\n",
    "\n",
    "# columns = ['sc:hasCategory', 'pc:hasName']\n",
    "columns = pred_isComposedOf_df.columns\n",
    "\n",
    "for col_name in columns:\n",
    "    \n",
    "    if col_name == 'sc:isComposedOf': continue\n",
    "    else:\n",
    "            \n",
    "        text = isri_data[col_name]\n",
    "\n",
    "        df = pd.DataFrame()\n",
    "        df['corpus'] = text\n",
    "        df['cleaned'] = df['corpus'].apply(lambda x: preprocess_text(x, remove_stopwords=True))\n",
    "\n",
    "        pred_isComposedOf_df[col_name] = df['cleaned']\n",
    "\n",
    "        del df"
   ]
  },
  {
   "cell_type": "code",
   "execution_count": null,
   "id": "d9b059dd",
   "metadata": {},
   "outputs": [],
   "source": [
    "pred_isComposedOf_df"
   ]
  },
  {
   "cell_type": "code",
   "execution_count": null,
   "id": "0ef09569",
   "metadata": {},
   "outputs": [],
   "source": []
  },
  {
   "cell_type": "code",
   "execution_count": null,
   "id": "f3dc941d",
   "metadata": {},
   "outputs": [],
   "source": []
  },
  {
   "cell_type": "code",
   "execution_count": null,
   "id": "3810945e",
   "metadata": {},
   "outputs": [],
   "source": [
    "def cluster_text(text, true_k):\n",
    "    vectorizer = TfidfVectorizer()\n",
    "    X = vectorizer.fit_transform(text)\n",
    "\n",
    "    return X\n",
    "\n",
    "   #  Sum_of_squared_distances = []\n",
    "   #  K = range(2,10)\n",
    "   #  for k in K:\n",
    "   #     km = KMeans(n_clusters=k, max_iter=200, n_init=10)\n",
    "   #     km = km.fit(X)\n",
    "   #     Sum_of_squared_distances.append(km.inertia_)\n",
    "   #  plt.plot(K, Sum_of_squared_distances, 'bx-')\n",
    "   #  plt.xlabel('k')\n",
    "   #  plt.ylabel('Sum_of_squared_distances')\n",
    "   #  plt.title('Elbow Method For Optimal k')\n",
    "   #  plt.show()\n",
    "\n",
    "   # #  true_k = 6\n",
    "   #  model = KMeans(n_clusters=true_k, init='k-means++', max_iter=200, n_init=10)\n",
    "   #  model.fit(X)\n",
    "\n",
    "   #  labels=model.labels_\n",
    "   #  clusters=pd.DataFrame(list(zip(text,labels)),columns=['title','cluster'])\n",
    "   #  #print(clusters.sort_values(by=['cluster']))\n",
    "       \n",
    "   #  return clusters"
   ]
  },
  {
   "cell_type": "code",
   "execution_count": null,
   "id": "a3955dcf",
   "metadata": {},
   "outputs": [],
   "source": [
    "X = cluster_text(pred_isComposedOf_df['sc:hasCategory'], 6)\n",
    "X.shape"
   ]
  },
  {
   "cell_type": "code",
   "execution_count": null,
   "id": "a8149bcc",
   "metadata": {},
   "outputs": [],
   "source": [
    "for mat in pred_isComposedOf_df['sc:isComposedOf'].value_counts().tail(15).index.values:\n",
    "\n",
    "    pred_isComposedOf_df = pred_isComposedOf_df[pred_isComposedOf_df['sc:isComposedOf'] != mat]"
   ]
  },
  {
   "cell_type": "code",
   "execution_count": null,
   "id": "02c529dd",
   "metadata": {},
   "outputs": [],
   "source": [
    "from sklearn.model_selection import train_test_split\n",
    "\n",
    "X = pred_isComposedOf_df.drop('sc:isComposedOf', axis=1)\n",
    "y = pred_isComposedOf_df['sc:isComposedOf']\n",
    "\n",
    "X = cluster_text(X['sc:hasCategory'], 6)\n",
    "\n",
    "X_train, X_test, y_train, y_test = train_test_split(X, y, test_size=0.2)"
   ]
  },
  {
   "cell_type": "code",
   "execution_count": null,
   "id": "cd38c584",
   "metadata": {},
   "outputs": [],
   "source": []
  },
  {
   "cell_type": "code",
   "execution_count": null,
   "id": "3036549a",
   "metadata": {},
   "outputs": [],
   "source": [
    "le = LabelEncoder()\n",
    "\n",
    "y_train = le.fit_transform(y_train)\n",
    "y_test = le.transform(y_test)"
   ]
  },
  {
   "cell_type": "code",
   "execution_count": null,
   "id": "8b776b16",
   "metadata": {},
   "outputs": [],
   "source": [
    "from sklearn.naive_bayes import MultinomialNB\n",
    "from sklearn.linear_model import SGDClassifier\n",
    "from sklearn.linear_model import LogisticRegression\n",
    "from sklearn.multiclass import OneVsRestClassifier\n",
    "\n",
    "model = OneVsRestClassifier(LogisticRegression())\n",
    "\n",
    "model.fit(X_train, y_train)\n",
    "y_hat = model.predict(X_test)\n",
    "\n",
    "results = pd.DataFrame()\n",
    "\n",
    "results['true'] = y_test\n",
    "results['pred'] = y_hat\n",
    "\n",
    "accuracy_score(y_test, y_hat)"
   ]
  },
  {
   "cell_type": "code",
   "execution_count": null,
   "id": "79e1c1f2",
   "metadata": {},
   "outputs": [],
   "source": []
  },
  {
   "cell_type": "code",
   "execution_count": null,
   "id": "fa634706",
   "metadata": {},
   "outputs": [],
   "source": []
  },
  {
   "cell_type": "code",
   "execution_count": null,
   "id": "83447305",
   "metadata": {},
   "outputs": [],
   "source": [
    "isri_data['cluster_category'] = cluster_text(isri_data['sc:hasCategory'], 6)['cluster']\n",
    "isri_data.head(2)"
   ]
  },
  {
   "cell_type": "code",
   "execution_count": null,
   "id": "a08730d8",
   "metadata": {},
   "outputs": [],
   "source": [
    "isri_data['cluster_hasName'] = cluster_text(isri_data['pc:hasName'], 5)['cluster']\n",
    "isri_data.head(2)"
   ]
  },
  {
   "cell_type": "code",
   "execution_count": null,
   "id": "8e291fe5",
   "metadata": {},
   "outputs": [],
   "source": [
    " isri_data[isri_data['cluster_hasName'] == 1]"
   ]
  },
  {
   "cell_type": "code",
   "execution_count": null,
   "id": "58ed8c23",
   "metadata": {},
   "outputs": [],
   "source": []
  },
  {
   "cell_type": "code",
   "execution_count": null,
   "id": "0c6b0d4c",
   "metadata": {},
   "outputs": [],
   "source": [
    "from sklearn.feature_extraction.text import CountVectorizer\n",
    "from sklearn.feature_extraction.text import TfidfTransformer\n",
    "from sklearn.preprocessing import MultiLabelBinarizer\n",
    "\n",
    "df = pred_isComposedOf_df.copy()\n",
    "multilabel_binarizer = MultiLabelBinarizer()\n",
    "multilabel_binarizer.fit(df['sc:isComposedOf'])\n",
    "Y = multilabel_binarizer.transform(df['sc:isComposedOf'])\n",
    "\n",
    "count_vect = CountVectorizer()\n",
    "X_counts = count_vect.fit_transform(df['sc:hasCategory'])\n",
    "\n",
    "tfidf_transformer = TfidfTransformer()\n",
    "X_tfidf = tfidf_transformer.fit_transform(X_counts)\n"
   ]
  },
  {
   "cell_type": "code",
   "execution_count": null,
   "id": "2f11c100",
   "metadata": {},
   "outputs": [],
   "source": [
    "x_train_tfidf, x_test_tfidf, y_train_tfidf, y_test_tfidf = train_test_split(X_tfidf, Y, \n",
    "                    test_size=0.2, random_state=2)"
   ]
  },
  {
   "cell_type": "code",
   "execution_count": null,
   "id": "4fe4ba88",
   "metadata": {},
   "outputs": [],
   "source": [
    "from sklearn.naive_bayes import MultinomialNB\n",
    "from sklearn.linear_model import SGDClassifier\n",
    "from sklearn.linear_model import LogisticRegression\n",
    "from sklearn.multiclass import OneVsRestClassifier\n",
    "from sklearn.metrics import hamming_loss\n",
    "\n",
    "def hamming_score(y_true, y_pred, normalize=True, sample_weight=None):\n",
    "    '''\n",
    "    Compute the Hamming score (a.k.a. label-based accuracy) for the multi-label case\n",
    "    http://stackoverflow.com/q/32239577/395857\n",
    "    '''\n",
    "    acc_list = []\n",
    "    for i in range(y_true.shape[0]):\n",
    "        set_true = set( np.where(y_true[i])[0] )\n",
    "        set_pred = set( np.where(y_pred[i])[0] )\n",
    "        tmp_a = None\n",
    "        if len(set_true) == 0 and len(set_pred) == 0:\n",
    "            tmp_a = 1\n",
    "        else:\n",
    "            tmp_a = len(set_true.intersection(set_pred))/float(len(set_true.union(set_pred)) )\n",
    "        acc_list.append(tmp_a)\n",
    "    return np.mean(acc_list)\n",
    "\n",
    "def print_score(y_pred, clf):\n",
    "    print(\"Clf: \", clf.__class__.__name__)\n",
    "    print(\"Hamming loss: {}\".format(hamming_loss(y_pred, y_test_tfidf)))\n",
    "    print(\"Hamming score: {}\".format(hamming_score(y_pred, y_test_tfidf)))\n",
    "    print(\"Accuracy: {}\".format(accuracy_score(y_pred, y_test_tfidf)))\n",
    "    print(\"---\")    \n",
    "\n",
    "nb_clf = MultinomialNB()\n",
    "sgd = SGDClassifier(loss='hinge', penalty='l2', alpha=1e-3, random_state=42, max_iter=6, tol=None)\n",
    "lr = LogisticRegression()\n",
    "mn = MultinomialNB()\n",
    "\n",
    "for classifier in [nb_clf, sgd, lr, mn]:\n",
    "    clf = OneVsRestClassifier(classifier)\n",
    "    clf.fit(x_train_tfidf, y_train_tfidf)\n",
    "    y_pred = clf.predict(x_test_tfidf)\n",
    "    print_score(y_pred, classifier)"
   ]
  },
  {
   "cell_type": "code",
   "execution_count": null,
   "id": "8db9f959",
   "metadata": {},
   "outputs": [],
   "source": []
  },
  {
   "cell_type": "code",
   "execution_count": null,
   "id": "39fb819c",
   "metadata": {},
   "outputs": [],
   "source": []
  },
  {
   "cell_type": "code",
   "execution_count": null,
   "id": "ee975f81",
   "metadata": {},
   "outputs": [],
   "source": []
  },
  {
   "cell_type": "code",
   "execution_count": null,
   "id": "327a291b",
   "metadata": {},
   "outputs": [],
   "source": []
  },
  {
   "cell_type": "code",
   "execution_count": null,
   "id": "1bca9ede",
   "metadata": {},
   "outputs": [],
   "source": []
  },
  {
   "cell_type": "code",
   "execution_count": null,
   "id": "49807158",
   "metadata": {},
   "outputs": [],
   "source": []
  },
  {
   "cell_type": "code",
   "execution_count": null,
   "id": "283e3376",
   "metadata": {},
   "outputs": [],
   "source": []
  },
  {
   "cell_type": "markdown",
   "id": "fe567339",
   "metadata": {},
   "source": [
    "Keep only `anamets` with english description"
   ]
  },
  {
   "cell_type": "code",
   "execution_count": null,
   "id": "2759e8d4",
   "metadata": {},
   "outputs": [],
   "source": [
    "# Keep only anamets with english sc:descritpion\n",
    "import unicodedata as ud\n",
    "\n",
    "latin_letters= {}\n",
    "\n",
    "def is_latin(uchr):\n",
    "    try: return latin_letters[uchr]\n",
    "    except KeyError:\n",
    "         return latin_letters.setdefault(uchr, 'LATIN' in ud.name(uchr))\n",
    "\n",
    "def only_roman_chars(unistr):\n",
    "    return all(is_latin(uchr)\n",
    "           for uchr in unistr\n",
    "           if uchr.isalpha()) # isalpha suggested by John Machin\n",
    "\n",
    "e_description_index = []\n",
    "for row in range(len(anamet_data)):\n",
    "    if only_roman_chars(str(anamet_data['sc:description'].iloc[row])):\n",
    "        e_description_index.append(row)\n",
    "        \n",
    "anamet_data = anamet_data.iloc[e_description_index]"
   ]
  },
  {
   "cell_type": "code",
   "execution_count": null,
   "id": "425fe37a",
   "metadata": {},
   "outputs": [],
   "source": []
  },
  {
   "cell_type": "code",
   "execution_count": null,
   "id": "b64e083d",
   "metadata": {},
   "outputs": [],
   "source": []
  },
  {
   "cell_type": "code",
   "execution_count": null,
   "id": "f121d95f",
   "metadata": {},
   "outputs": [],
   "source": []
  },
  {
   "cell_type": "code",
   "execution_count": null,
   "id": "03710827",
   "metadata": {},
   "outputs": [],
   "source": [
    "uns_data.head(2)"
   ]
  },
  {
   "cell_type": "code",
   "execution_count": null,
   "id": "33897ffc",
   "metadata": {},
   "outputs": [],
   "source": [
    "isri_data.head(2)"
   ]
  },
  {
   "cell_type": "code",
   "execution_count": null,
   "id": "d4e5d004",
   "metadata": {},
   "outputs": [],
   "source": [
    "anamet_data.head(2)"
   ]
  },
  {
   "cell_type": "code",
   "execution_count": null,
   "id": "bf4aa0df",
   "metadata": {},
   "outputs": [],
   "source": [
    "print(uns_data.isna().sum(), '\\n')\n",
    "print(isri_data.isna().sum(), '\\n')\n",
    "print(anamet_data.isna().sum(), '\\n')"
   ]
  },
  {
   "cell_type": "code",
   "execution_count": null,
   "id": "f7ef8190",
   "metadata": {},
   "outputs": [],
   "source": [
    "anamet_data['sc:hasCategory'].value_counts()"
   ]
  },
  {
   "cell_type": "code",
   "execution_count": null,
   "id": "1f03d8ff",
   "metadata": {},
   "outputs": [],
   "source": [
    "isri_data"
   ]
  },
  {
   "cell_type": "code",
   "execution_count": null,
   "id": "54bdb6c8",
   "metadata": {},
   "outputs": [],
   "source": [
    "isri_data['sc:isProcessedBy'].value_counts()"
   ]
  },
  {
   "cell_type": "code",
   "execution_count": null,
   "id": "02bb0a37",
   "metadata": {},
   "outputs": [],
   "source": [
    "isri_for_ml = isri_data.drop(columns=['isri id', 'pc:hasName', 'sc:isProcessedBy'])"
   ]
  },
  {
   "cell_type": "markdown",
   "id": "d3440e08",
   "metadata": {},
   "source": [
    "# NLP"
   ]
  },
  {
   "cell_type": "code",
   "execution_count": null,
   "id": "72dba6fd",
   "metadata": {},
   "outputs": [],
   "source": []
  },
  {
   "cell_type": "markdown",
   "id": "fe567339",
   "metadata": {},
   "source": [
    "Keep only `anamets` with english description"
   ]
  },
  {
   "cell_type": "markdown",
   "id": "314a1d00",
   "metadata": {},
   "source": [
    "## ANAMET `anamet_data`"
   ]
  },
  {
   "cell_type": "code",
   "execution_count": null,
   "id": "a2c80d99",
   "metadata": {},
   "outputs": [],
   "source": [
    "# Keep only anamets with english sc:descritpion\n",
    "import unicodedata as ud\n",
    "\n",
    "latin_letters= {}\n",
    "\n",
    "def is_latin(uchr):\n",
    "    try: return latin_letters[uchr]\n",
    "    except KeyError:\n",
    "         return latin_letters.setdefault(uchr, 'LATIN' in ud.name(uchr))\n",
    "\n",
    "def only_roman_chars(unistr):\n",
    "    return all(is_latin(uchr)\n",
    "           for uchr in unistr\n",
    "           if uchr.isalpha()) # isalpha suggested by John Machin\n",
    "\n",
    "e_description_index = []\n",
    "for row in range(len(anamet_data)):\n",
    "    if only_roman_chars(str(anamet_data['sc:description'].iloc[row])):\n",
    "        e_description_index.append(row)\n",
    "        \n",
    "anamet_data = anamet_data.iloc[e_description_index]\n",
    "anamet_data"
   ]
  },
  {
   "cell_type": "markdown",
   "id": "857b2897",
   "metadata": {},
   "source": [
    "Preprocess text data using `gensim.utils.simple_preprocess()`"
   ]
  },
  {
   "cell_type": "code",
   "execution_count": null,
   "id": "c16128a0",
   "metadata": {},
   "outputs": [],
   "source": [
    "anamet_data['sc:description'] = anamet_data['sc:description'].apply(simple_preprocess)\n",
    "anamet_data.head(2)"
   ]
  },
  {
   "cell_type": "markdown",
   "id": "202e7f09",
   "metadata": {},
   "source": [
    "Delete word `scrap` and `for` from description"
   ]
  },
  {
   "cell_type": "code",
   "execution_count": null,
   "id": "e8142bcf",
   "metadata": {},
   "outputs": [],
   "source": [
    "# Delete word scrap\n",
    "for i in range(len(anamet_data)):\n",
    "    if 'scrap' in anamet_data['sc:description'].iloc[i]:\n",
    "        anamet_data['sc:description'].iloc[i].remove('scrap')\n",
    "    if 'for' in anamet_data['sc:description'].iloc[i]:\n",
    "        anamet_data['sc:description'].iloc[i].remove('for')"
   ]
  },
  {
   "cell_type": "code",
   "execution_count": null,
   "id": "e56e6f67",
   "metadata": {},
   "outputs": [],
   "source": [
    "anamet_data.head(2)"
   ]
  },
  {
   "cell_type": "markdown",
   "id": "3b490d1b-0ed2-4a65-bd3d-b1d0fdb99d5d",
   "metadata": {},
   "source": [
    "## UNS `uns_data`"
   ]
  },
  {
   "cell_type": "code",
   "execution_count": null,
   "id": "0a14099a",
   "metadata": {},
   "outputs": [],
   "source": [
    "uns_data['hasName'] = uns_data['hasName'].apply(simple_preprocess)\n",
    "uns_data.head(2)"
   ]
  },
  {
   "cell_type": "markdown",
   "id": "2d58c227",
   "metadata": {},
   "source": [
    "Θέλουμε να συσχετίσουμε τα `anamet` με τα `uns`. Οι μόνες πληροφορίες που έχουμε (features) είναι το `sc:description` και `hasName`. Θα εφαρμόσουμε NLP και ειδικότερα Word2Vec για ομοιότητες μεταξύ των texts."
   ]
  },
  {
   "cell_type": "code",
   "execution_count": null,
   "id": "a6434f33",
   "metadata": {},
   "outputs": [],
   "source": [
    "print(anamet_data['anamet entity'].nunique(), \"unique anamet ids\")\n",
    "print(uns_data['uns id'].nunique(), \"unique uns ids\")"
   ]
  },
  {
   "cell_type": "markdown",
   "id": "3ee04c03",
   "metadata": {},
   "source": [
    "## ISRI `isri_data`"
   ]
  },
  {
   "cell_type": "code",
   "execution_count": null,
   "id": "c2dbdb1d",
   "metadata": {},
   "outputs": [],
   "source": [
    "isri_data.head(2)"
   ]
  },
  {
   "cell_type": "code",
   "execution_count": null,
   "id": "6bacff12",
   "metadata": {},
   "outputs": [],
   "source": [
    "isri_data.drop(columns=['sc:isComposedOf', 'sc:isProcessedBy'], inplace=True)"
   ]
  },
  {
   "cell_type": "code",
   "execution_count": null,
   "id": "218bd21e",
   "metadata": {},
   "outputs": [],
   "source": [
    "isri_data.isna().sum()\n"
   ]
  },
  {
   "cell_type": "code",
   "execution_count": null,
   "id": "1519ac9f",
   "metadata": {},
   "outputs": [],
   "source": [
    "isri_data.fillna('nan', inplace=True)\n",
    "isri_data.isna().sum()"
   ]
  },
  {
   "cell_type": "code",
   "execution_count": null,
   "id": "a612a9f5",
   "metadata": {},
   "outputs": [],
   "source": [
    "isri_data['sc:hasCategory'] = isri_data['sc:hasCategory'].apply(simple_preprocess)\n",
    "isri_data['sc:hasForm'] = isri_data['sc:hasForm'].apply(simple_preprocess)\n",
    "isri_data['sc:isFreeFrom'] = isri_data['sc:isFreeFrom'].apply(simple_preprocess)\n",
    "isri_data['sc:contains'] = isri_data['sc:contains'].apply(simple_preprocess)\n",
    "isri_data['sc:hasISRICode'] = isri_data['sc:hasISRICode'].astype(str).apply(simple_preprocess)\n",
    "isri_data['sc:hasSpecification'] = isri_data['sc:hasSpecification'].apply(simple_preprocess)\n",
    "isri_data['pc:hasName'] = isri_data['pc:hasName'].apply(simple_preprocess)"
   ]
  },
  {
   "cell_type": "code",
   "execution_count": null,
   "id": "8ffc013b",
   "metadata": {},
   "outputs": [],
   "source": [
    "isri_data.head(3)"
   ]
  },
  {
   "cell_type": "markdown",
   "id": "202e7f09",
   "metadata": {},
   "source": [
    "Delete word `scrap` and `for` from description"
   ]
  },
  {
   "cell_type": "code",
   "execution_count": null,
   "id": "e8142bcf",
   "metadata": {},
   "outputs": [],
   "source": [
    "# Delete word scrap\n",
    "for i in range(len(isri_data)):\n",
    "    if 'scrap' in isri_data['sc:hasCategory'].iloc[i]:\n",
    "        \n",
    "        isri_data['sc:hasCategory'].iloc[i].remove('scrap')"
   ]
  },
  {
   "cell_type": "code",
   "execution_count": null,
   "id": "1bd83f0c",
   "metadata": {},
   "outputs": [],
   "source": []
  },
  {
   "cell_type": "markdown",
   "id": "93687c25",
   "metadata": {},
   "source": [
    "### Try Word2Vec stuff"
   ]
  },
  {
   "cell_type": "code",
   "execution_count": null,
   "id": "84a7da02",
   "metadata": {},
   "outputs": [],
   "source": [
    "import gensim\n",
    "import gensim.downloader\n",
    "\n",
    "# for model_name in list(gensim.downloader.info()['models'].keys()):\n",
    "    # print(model_name)\n",
    "    \n",
    "model_pretrained = gensim.downloader.load('glove-twitter-25')\n",
    "print(model_pretrained)"
   ]
  },
  {
   "cell_type": "code",
   "execution_count": null,
   "id": "890cc31d",
   "metadata": {},
   "outputs": [],
   "source": [
    "# NLP preprocess\n",
    "from gensim.utils import simple_preprocess\n",
    "from gensim.models import Word2Vec\n",
    "\n",
    "description = anamet_data['sc:description']\n",
    "description\n",
    "\n",
    "model_anamet = Word2Vec(min_count=1, \n",
    "                 vector_size=25, \n",
    "                 workers=4, \n",
    "                 window=2, \n",
    "                 sg=1)\n",
    "\n",
    "model_anamet.build_vocab(description)\n",
    "model_anamet.train(description, total_examples=model_anamet.corpus_count,\n",
    "           epochs=500)\n",
    "print(model_anamet)"
   ]
  },
  {
   "cell_type": "markdown",
   "id": "3ada8b03",
   "metadata": {},
   "source": [
    "#### Test example"
   ]
  },
  {
   "cell_type": "code",
   "execution_count": null,
   "id": "f9213f5e",
   "metadata": {},
   "outputs": [],
   "source": [
    "test_anamet = anamet_data.iloc[120]\n",
    "print(test_anamet)\n",
    "print('\\n')\n",
    "print(test_anamet['sc:description'])"
   ]
  },
  {
   "cell_type": "code",
   "execution_count": null,
   "id": "710e2fca",
   "metadata": {},
   "outputs": [],
   "source": [
    "uns_data"
   ]
  },
  {
   "cell_type": "code",
   "execution_count": null,
   "id": "49af2bd9",
   "metadata": {},
   "outputs": [],
   "source": [
    "for row in range(len(uns_data)):\n",
    "    w1 = uns_data['hasName'].iloc[row][0]\n",
    "    w2 = 'copper'\n",
    "    try:\n",
    "        sim = model_anamet.wv.similarity(w1, w2)\n",
    "    except KeyError:\n",
    "        sim = model_pretrained.similarity(w1, w2)\n",
    "    if sim >= .7: print(w1, w2, sim, uns_data['uns id'].iloc[row])"
   ]
  },
  {
   "cell_type": "code",
   "execution_count": null,
   "id": "77636642",
   "metadata": {},
   "outputs": [],
   "source": [
    "model_anamet.wv.similarity('tin', test_anamet['sc:description'][0])"
   ]
  },
  {
   "cell_type": "code",
   "execution_count": null,
   "id": "153d6c50",
   "metadata": {},
   "outputs": [],
   "source": [
    "model_pretrained.similarity('tin', test_anamet['sc:description'][0])"
   ]
  },
  {
   "cell_type": "code",
   "execution_count": null,
   "id": "d105edf1",
   "metadata": {},
   "outputs": [],
   "source": [
    "anamet_data['sc:description']"
   ]
  },
  {
   "cell_type": "code",
   "execution_count": null,
   "id": "4c2d4bae-8e70-4714-bed8-1a5ee0f16c36",
   "metadata": {},
   "outputs": [],
   "source": [
    "for row in range(200, 250):\n",
    "    w1 = uns_data['hasName'].iloc[row][0]\n",
    "    \n",
    "    for j in range(3):\n",
    "        try:\n",
    "            w2 = anamet_data['sc:description'].iloc[j]\n",
    "            print(w1, w2[0], model.similarity(w1, w2[0]))\n",
    "        except KeyError:\n",
    "            continue"
   ]
  },
  {
   "cell_type": "code",
   "execution_count": null,
   "id": "26791d7e-db74-4a7f-9399-1e63cfd28103",
   "metadata": {},
   "outputs": [],
   "source": []
  },
  {
   "cell_type": "code",
   "execution_count": null,
   "id": "f4b568fe-6826-425f-b138-cea62d2cd46e",
   "metadata": {},
   "outputs": [],
   "source": []
  },
  {
   "cell_type": "markdown",
   "id": "0b25a362",
   "metadata": {},
   "source": [
    "# Clustering elements_data"
   ]
  },
  {
   "cell_type": "code",
   "execution_count": null,
   "id": "b40129ce",
   "metadata": {},
   "outputs": [],
   "source": [
    "from gensim.utils import simple_preprocess\n",
    "\n",
    "elements_data_df = elements_data[['ar', 'atomicNumber', 'density', 'meltingPoint', 'hasName']]\n",
    "elements_data_df['hasName'] = elements_data_df['hasName'].apply(simple_preprocess)\n",
    "elements_data_df.head(2)"
   ]
  },
  {
   "cell_type": "code",
   "execution_count": null,
   "id": "f46fe628",
   "metadata": {},
   "outputs": [],
   "source": [
    "print(elements_data.shape)\n",
    "print(elements_data['hasName'].nunique())"
   ]
  },
  {
   "cell_type": "code",
   "execution_count": null,
   "id": "9b101f16",
   "metadata": {},
   "outputs": [],
   "source": [
    "elements_data.isna().sum()"
   ]
  },
  {
   "cell_type": "code",
   "execution_count": null,
   "id": "16129281",
   "metadata": {
    "scrolled": true
   },
   "outputs": [],
   "source": [
    "from sklearn.preprocessing import LabelEncoder\n",
    "\n",
    "label_enc = LabelEncoder()\n",
    "\n",
    "elements_data_df['hasName_id'] = label_enc.fit_transform(elements_data['hasName'])\n",
    "elements_data_df.head(2)"
   ]
  },
  {
   "cell_type": "code",
   "execution_count": null,
   "id": "6d82bc56",
   "metadata": {},
   "outputs": [],
   "source": [
    "from sklearn.cluster import KMeans\n",
    "\n",
    "df = elements_data_df.drop('hasName', axis=1).copy()\n",
    "\n",
    "distortions = []\n",
    "K = range(1,18)\n",
    "for k in K:\n",
    "    kmeanModel = KMeans(n_clusters=k)\n",
    "    kmeanModel.fit(df)\n",
    "    distortions.append(kmeanModel.inertia_)\n",
    "\n",
    "plt.figure(figsize=(8,6))\n",
    "plt.plot(K, distortions, 'bx-')\n",
    "plt.xlabel('k')\n",
    "plt.ylabel('Distortion')\n",
    "plt.title('The Elbow Method showing the optimal k')\n",
    "plt.show()"
   ]
  },
  {
   "cell_type": "code",
   "execution_count": null,
   "id": "77d63a47",
   "metadata": {},
   "outputs": [],
   "source": [
    "opt_k = 3\n",
    "kmeans = KMeans(n_clusters=opt_k)\n",
    "kmeans.fit(df)"
   ]
  },
  {
   "cell_type": "code",
   "execution_count": null,
   "id": "8c68d845",
   "metadata": {},
   "outputs": [],
   "source": [
    "elements_data_df['cluster'] = kmeans.predict(df)\n",
    "elements_data_df.head()"
   ]
  },
  {
   "cell_type": "code",
   "execution_count": null,
   "id": "b37ece1e",
   "metadata": {},
   "outputs": [],
   "source": [
    "elements_data_df[elements_data_df['cluster'] == 0]"
   ]
  },
  {
   "cell_type": "code",
   "execution_count": null,
   "id": "b59fc8b5",
   "metadata": {},
   "outputs": [],
   "source": [
    "elements_data_df[elements_data_df['cluster'] == 1]"
   ]
  },
  {
   "cell_type": "code",
   "execution_count": null,
   "id": "d27cec01",
   "metadata": {},
   "outputs": [],
   "source": []
  },
  {
   "cell_type": "code",
   "execution_count": null,
   "id": "9b937191",
   "metadata": {},
   "outputs": [],
   "source": []
  }
 ],
 "metadata": {
  "kernelspec": {
   "display_name": "Python 3.9.10 ('main-bio')",
   "language": "python",
   "name": "python3"
  },
  "language_info": {
   "codemirror_mode": {
    "name": "ipython",
    "version": 3
   },
   "file_extension": ".py",
   "mimetype": "text/x-python",
   "name": "python",
   "nbconvert_exporter": "python",
   "pygments_lexer": "ipython3",
   "version": "3.9.10"
  },
  "vscode": {
   "interpreter": {
    "hash": "c6c04a7e252f45ffc2f7191e380805b6a5dd99aa68793d835f69a35c16ce4a30"
   }
  }
 },
 "nbformat": 4,
 "nbformat_minor": 5
}
