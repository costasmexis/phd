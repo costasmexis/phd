{
 "cells": [
  {
   "cell_type": "code",
   "execution_count": 1,
   "id": "0e06fede",
   "metadata": {},
   "outputs": [],
   "source": [
    "import pandas as pd"
   ]
  },
  {
   "cell_type": "code",
   "execution_count": 2,
   "id": "6585b685",
   "metadata": {},
   "outputs": [],
   "source": [
    "xls = pd.ExcelFile('data/raw.xlsx')"
   ]
  },
  {
   "cell_type": "code",
   "execution_count": 3,
   "id": "161178ff",
   "metadata": {},
   "outputs": [
    {
     "data": {
      "text/plain": [
       "['ANAMET', 'Sheet6', 'UNS', 'ISRI', 'Materials', 'Process']"
      ]
     },
     "execution_count": 3,
     "metadata": {},
     "output_type": "execute_result"
    }
   ],
   "source": [
    "xls.sheet_names"
   ]
  },
  {
   "cell_type": "code",
   "execution_count": 4,
   "id": "c46856bb",
   "metadata": {},
   "outputs": [
    {
     "data": {
      "text/html": [
       "<div>\n",
       "<style scoped>\n",
       "    .dataframe tbody tr th:only-of-type {\n",
       "        vertical-align: middle;\n",
       "    }\n",
       "\n",
       "    .dataframe tbody tr th {\n",
       "        vertical-align: top;\n",
       "    }\n",
       "\n",
       "    .dataframe thead th {\n",
       "        text-align: right;\n",
       "    }\n",
       "</style>\n",
       "<table border=\"1\" class=\"dataframe\">\n",
       "  <thead>\n",
       "    <tr style=\"text-align: right;\">\n",
       "      <th></th>\n",
       "      <th>Node ID</th>\n",
       "      <th>Source Entity</th>\n",
       "      <th>Target Entity</th>\n",
       "      <th>Relationship</th>\n",
       "      <th>Node ID.1</th>\n",
       "      <th>Unnamed: 5</th>\n",
       "      <th>Unnamed: 6</th>\n",
       "      <th>Unnamed: 7</th>\n",
       "      <th>Unnamed: 8</th>\n",
       "      <th>Unnamed: 9</th>\n",
       "      <th>Unnamed: 10</th>\n",
       "    </tr>\n",
       "  </thead>\n",
       "  <tbody>\n",
       "    <tr>\n",
       "      <th>0</th>\n",
       "      <td>437.0</td>\n",
       "      <td>{\"Description\":ΣΚΡΑΠ ΨΑΛΙΔΙΣΜΕΝΟ ΠΥΚΝ &gt;450 ΚG/...</td>\n",
       "      <td>{\"Description\":Σύρματα + διάφορο,\"Category\":Fe...</td>\n",
       "      <td>CONTAINS</td>\n",
       "      <td>437.0</td>\n",
       "      <td>NaN</td>\n",
       "      <td>NaN</td>\n",
       "      <td>NaN</td>\n",
       "      <td>NaN</td>\n",
       "      <td>NaN</td>\n",
       "      <td>NaN</td>\n",
       "    </tr>\n",
       "    <tr>\n",
       "      <th>1</th>\n",
       "      <td>437.0</td>\n",
       "      <td>{\"Description\":ΣΚΡΑΠ ΨΑΛΙΔΙΣΜΕΝΟ ΠΥΚΝ &gt;450 ΚG/...</td>\n",
       "      <td>{\"Description\":Βαρύ για ΣΟΒΕΛ,\"Category\":Ferro...</td>\n",
       "      <td>CONTAINS</td>\n",
       "      <td>437.0</td>\n",
       "      <td>NaN</td>\n",
       "      <td>NaN</td>\n",
       "      <td>NaN</td>\n",
       "      <td>NaN</td>\n",
       "      <td>NaN</td>\n",
       "      <td>NaN</td>\n",
       "    </tr>\n",
       "    <tr>\n",
       "      <th>2</th>\n",
       "      <td>437.0</td>\n",
       "      <td>{\"Description\":ΣΚΡΑΠ ΨΑΛΙΔΙΣΜΕΝΟ ΠΥΚΝ &gt;450 ΚG/...</td>\n",
       "      <td>{\"Description\":ζάντες + βαρύ προς shredder κλπ...</td>\n",
       "      <td>CONTAINS</td>\n",
       "      <td>437.0</td>\n",
       "      <td>NaN</td>\n",
       "      <td>NaN</td>\n",
       "      <td>NaN</td>\n",
       "      <td>NaN</td>\n",
       "      <td>NaN</td>\n",
       "      <td>NaN</td>\n",
       "    </tr>\n",
       "  </tbody>\n",
       "</table>\n",
       "</div>"
      ],
      "text/plain": [
       "   Node ID                                      Source Entity  \\\n",
       "0    437.0  {\"Description\":ΣΚΡΑΠ ΨΑΛΙΔΙΣΜΕΝΟ ΠΥΚΝ >450 ΚG/...   \n",
       "1    437.0  {\"Description\":ΣΚΡΑΠ ΨΑΛΙΔΙΣΜΕΝΟ ΠΥΚΝ >450 ΚG/...   \n",
       "2    437.0  {\"Description\":ΣΚΡΑΠ ΨΑΛΙΔΙΣΜΕΝΟ ΠΥΚΝ >450 ΚG/...   \n",
       "\n",
       "                                       Target Entity Relationship  Node ID.1  \\\n",
       "0  {\"Description\":Σύρματα + διάφορο,\"Category\":Fe...     CONTAINS      437.0   \n",
       "1  {\"Description\":Βαρύ για ΣΟΒΕΛ,\"Category\":Ferro...     CONTAINS      437.0   \n",
       "2  {\"Description\":ζάντες + βαρύ προς shredder κλπ...     CONTAINS      437.0   \n",
       "\n",
       "  Unnamed: 5 Unnamed: 6 Unnamed: 7 Unnamed: 8 Unnamed: 9 Unnamed: 10  \n",
       "0        NaN        NaN        NaN        NaN        NaN         NaN  \n",
       "1        NaN        NaN        NaN        NaN        NaN         NaN  \n",
       "2        NaN        NaN        NaN        NaN        NaN         NaN  "
      ]
     },
     "execution_count": 4,
     "metadata": {},
     "output_type": "execute_result"
    }
   ],
   "source": [
    "anamet = pd.read_excel(xls, 'ANAMET')\n",
    "anamet.head(3)"
   ]
  },
  {
   "cell_type": "code",
   "execution_count": 5,
   "id": "05b81cae",
   "metadata": {},
   "outputs": [
    {
     "data": {
      "text/plain": [
       "wastePercentage\"\":3.2    1\n",
       "Name: Unnamed: 5, dtype: int64"
      ]
     },
     "execution_count": 5,
     "metadata": {},
     "output_type": "execute_result"
    }
   ],
   "source": [
    "anamet['Unnamed: 5'].value_counts()"
   ]
  },
  {
   "cell_type": "markdown",
   "id": "4e867fbb",
   "metadata": {},
   "source": [
    "# Process Sheet"
   ]
  },
  {
   "cell_type": "code",
   "execution_count": 6,
   "id": "7c351651",
   "metadata": {
    "scrolled": true
   },
   "outputs": [
    {
     "data": {
      "text/html": [
       "<div>\n",
       "<style scoped>\n",
       "    .dataframe tbody tr th:only-of-type {\n",
       "        vertical-align: middle;\n",
       "    }\n",
       "\n",
       "    .dataframe tbody tr th {\n",
       "        vertical-align: top;\n",
       "    }\n",
       "\n",
       "    .dataframe thead th {\n",
       "        text-align: right;\n",
       "    }\n",
       "</style>\n",
       "<table border=\"1\" class=\"dataframe\">\n",
       "  <thead>\n",
       "    <tr style=\"text-align: right;\">\n",
       "      <th></th>\n",
       "      <th>Source Entity</th>\n",
       "      <th>Target Entity</th>\n",
       "      <th>Relationship</th>\n",
       "    </tr>\n",
       "  </thead>\n",
       "  <tbody>\n",
       "    <tr>\n",
       "      <th>0</th>\n",
       "      <td>{\"name\":Pyrometallurgical,\"full_community_id\":...</td>\n",
       "      <td>{\"Free_of\":semi-red brass castings (78% to 81%...</td>\n",
       "      <td>IS_PROCESSED_WITH</td>\n",
       "    </tr>\n",
       "    <tr>\n",
       "      <th>1</th>\n",
       "      <td>{\"name\":Pyrometallurgical,\"full_community_id\":...</td>\n",
       "      <td>{\"Categorisation\":Nonferrous Scrap - Red Metal...</td>\n",
       "      <td>IS_PROCESSED_WITH</td>\n",
       "    </tr>\n",
       "    <tr>\n",
       "      <th>2</th>\n",
       "      <td>{\"name\":Pyrometallurgical,\"full_community_id\":...</td>\n",
       "      <td>{\"Free_of\":brass forgings, silicon bronze, alu...</td>\n",
       "      <td>IS_PROCESSED_WITH</td>\n",
       "    </tr>\n",
       "  </tbody>\n",
       "</table>\n",
       "</div>"
      ],
      "text/plain": [
       "                                       Source Entity  \\\n",
       "0  {\"name\":Pyrometallurgical,\"full_community_id\":...   \n",
       "1  {\"name\":Pyrometallurgical,\"full_community_id\":...   \n",
       "2  {\"name\":Pyrometallurgical,\"full_community_id\":...   \n",
       "\n",
       "                                       Target Entity       Relationship  \n",
       "0  {\"Free_of\":semi-red brass castings (78% to 81%...  IS_PROCESSED_WITH  \n",
       "1  {\"Categorisation\":Nonferrous Scrap - Red Metal...  IS_PROCESSED_WITH  \n",
       "2  {\"Free_of\":brass forgings, silicon bronze, alu...  IS_PROCESSED_WITH  "
      ]
     },
     "execution_count": 6,
     "metadata": {},
     "output_type": "execute_result"
    }
   ],
   "source": [
    "process = pd.read_excel(xls, 'Process')\n",
    "process.head(3)"
   ]
  },
  {
   "cell_type": "code",
   "execution_count": 10,
   "id": "c99ff7dc",
   "metadata": {},
   "outputs": [
    {
     "data": {
      "text/html": [
       "<div>\n",
       "<style scoped>\n",
       "    .dataframe tbody tr th:only-of-type {\n",
       "        vertical-align: middle;\n",
       "    }\n",
       "\n",
       "    .dataframe tbody tr th {\n",
       "        vertical-align: top;\n",
       "    }\n",
       "\n",
       "    .dataframe thead th {\n",
       "        text-align: right;\n",
       "    }\n",
       "</style>\n",
       "<table border=\"1\" class=\"dataframe\">\n",
       "  <thead>\n",
       "    <tr style=\"text-align: right;\">\n",
       "      <th></th>\n",
       "      <th>Source Entity</th>\n",
       "      <th>Target Entity</th>\n",
       "      <th>Relationship</th>\n",
       "    </tr>\n",
       "  </thead>\n",
       "  <tbody>\n",
       "    <tr>\n",
       "      <th>0</th>\n",
       "      <td>name:Pyrometallurgical,full_community_id:257</td>\n",
       "      <td>Free_of:semi-red brass castings (78% to 81% co...</td>\n",
       "      <td>IS_PROCESSED_WITH</td>\n",
       "    </tr>\n",
       "    <tr>\n",
       "      <th>1</th>\n",
       "      <td>name:Pyrometallurgical,full_community_id:257</td>\n",
       "      <td>Categorisation:Nonferrous Scrap - Red Metals,S...</td>\n",
       "      <td>IS_PROCESSED_WITH</td>\n",
       "    </tr>\n",
       "    <tr>\n",
       "      <th>2</th>\n",
       "      <td>name:Pyrometallurgical,full_community_id:257</td>\n",
       "      <td>Free_of:brass forgings, silicon bronze, alumin...</td>\n",
       "      <td>IS_PROCESSED_WITH</td>\n",
       "    </tr>\n",
       "    <tr>\n",
       "      <th>3</th>\n",
       "      <td>name:Pyrometallurgical,full_community_id:257</td>\n",
       "      <td>Categorisation:Nonferrous Scrap - Red Metals,S...</td>\n",
       "      <td>IS_PROCESSED_WITH</td>\n",
       "    </tr>\n",
       "    <tr>\n",
       "      <th>4</th>\n",
       "      <td>name:Pyrometallurgical,full_community_id:257</td>\n",
       "      <td>Free_of:Yellow boxes and iron-backed boxes,Cat...</td>\n",
       "      <td>IS_PROCESSED_WITH</td>\n",
       "    </tr>\n",
       "  </tbody>\n",
       "</table>\n",
       "</div>"
      ],
      "text/plain": [
       "                                  Source Entity  \\\n",
       "0  name:Pyrometallurgical,full_community_id:257   \n",
       "1  name:Pyrometallurgical,full_community_id:257   \n",
       "2  name:Pyrometallurgical,full_community_id:257   \n",
       "3  name:Pyrometallurgical,full_community_id:257   \n",
       "4  name:Pyrometallurgical,full_community_id:257   \n",
       "\n",
       "                                       Target Entity       Relationship  \n",
       "0  Free_of:semi-red brass castings (78% to 81% co...  IS_PROCESSED_WITH  \n",
       "1  Categorisation:Nonferrous Scrap - Red Metals,S...  IS_PROCESSED_WITH  \n",
       "2  Free_of:brass forgings, silicon bronze, alumin...  IS_PROCESSED_WITH  \n",
       "3  Categorisation:Nonferrous Scrap - Red Metals,S...  IS_PROCESSED_WITH  \n",
       "4  Free_of:Yellow boxes and iron-backed boxes,Cat...  IS_PROCESSED_WITH  "
      ]
     },
     "execution_count": 10,
     "metadata": {},
     "output_type": "execute_result"
    }
   ],
   "source": [
    "for col in process.columns:\n",
    "    process[col] = process[col].str.replace('\"', '', regex=True)\n",
    "    process[col] = process[col] .str.replace('{', '', regex=True)\n",
    "    process[col] = process[col] .str.replace('}', '', regex=True)\n",
    "\n",
    "process.head()"
   ]
  },
  {
   "cell_type": "code",
   "execution_count": null,
   "id": "c319138c",
   "metadata": {},
   "outputs": [],
   "source": []
  }
 ],
 "metadata": {
  "kernelspec": {
   "display_name": "Python 3 (ipykernel)",
   "language": "python",
   "name": "python3"
  },
  "language_info": {
   "codemirror_mode": {
    "name": "ipython",
    "version": 3
   },
   "file_extension": ".py",
   "mimetype": "text/x-python",
   "name": "python",
   "nbconvert_exporter": "python",
   "pygments_lexer": "ipython3",
   "version": "3.9.10"
  }
 },
 "nbformat": 4,
 "nbformat_minor": 5
}
