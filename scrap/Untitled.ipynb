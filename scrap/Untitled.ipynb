{
 "cells": [
  {
   "cell_type": "markdown",
   "id": "0cf57602-125b-4b81-a94d-b5010df11e76",
   "metadata": {},
   "source": [
    "# Import libraries"
   ]
  },
  {
   "cell_type": "code",
   "execution_count": 1,
   "id": "45c7e20b-c57f-4e13-b77e-11572f9e6409",
   "metadata": {},
   "outputs": [],
   "source": [
    "import pandas as pd\n",
    "import numpy as np\n",
    "\n",
    "from tqdm import tqdm"
   ]
  },
  {
   "cell_type": "markdown",
   "id": "ba22e924-fdeb-4ee5-9cfa-9f67282f50e7",
   "metadata": {},
   "source": [
    "## Read data"
   ]
  },
  {
   "cell_type": "code",
   "execution_count": 2,
   "id": "43402469-b408-470d-8d55-2244f142384a",
   "metadata": {},
   "outputs": [],
   "source": [
    "uns = pd.read_csv('uns_df.csv', index_col=0)\n",
    "isri = pd.read_csv('isri_df.csv', index_col=0)\n",
    "process = pd.read_csv('process_df.csv', index_col=0)\n",
    "anamet = pd.read_csv('anamet_df.csv', index_col=0)\n",
    "materials = pd.read_csv('materials_df.csv', index_col=0)"
   ]
  },
  {
   "cell_type": "markdown",
   "id": "72776f13",
   "metadata": {},
   "source": [
    "# New *NIKOS* data"
   ]
  },
  {
   "cell_type": "code",
   "execution_count": 8,
   "id": "d5cd106c",
   "metadata": {},
   "outputs": [],
   "source": [
    "xls = pd.ExcelFile('data/edited_nikos_data.xlsx')"
   ]
  },
  {
   "cell_type": "code",
   "execution_count": 10,
   "id": "7e06ad87",
   "metadata": {},
   "outputs": [],
   "source": [
    "uns_data = pd.read_excel(xls, 'UNS data')\n"
   ]
  },
  {
   "cell_type": "code",
   "execution_count": 11,
   "id": "6ce3328d",
   "metadata": {},
   "outputs": [],
   "source": [
    "uns_data.rename(columns = {'sc:isComposedOf':'elements id'}, inplace = True)"
   ]
  },
  {
   "cell_type": "code",
   "execution_count": 12,
   "id": "87cde166",
   "metadata": {},
   "outputs": [],
   "source": [
    "elements_data = pd.read_excel(xls, 'Elements data')"
   ]
  },
  {
   "cell_type": "code",
   "execution_count": 13,
   "id": "a056dcae",
   "metadata": {},
   "outputs": [],
   "source": [
    "uns_data = pd.merge(uns_data, elements_data, how='inner', on = 'elements id')"
   ]
  },
  {
   "cell_type": "code",
   "execution_count": 14,
   "id": "d2ee19c0",
   "metadata": {},
   "outputs": [],
   "source": [
    "isri_data = pd.read_excel(xls, 'Isri data')"
   ]
  },
  {
   "cell_type": "code",
   "execution_count": 15,
   "id": "1a5cd73d",
   "metadata": {},
   "outputs": [],
   "source": [
    "anamet_data = pd.read_excel(xls, 'Anamet data')"
   ]
  },
  {
   "cell_type": "markdown",
   "id": "d3440e08",
   "metadata": {},
   "source": [
    "# NLP"
   ]
  },
  {
   "cell_type": "code",
   "execution_count": 16,
   "id": "72dba6fd",
   "metadata": {},
   "outputs": [],
   "source": [
    "from gensim.utils import simple_preprocess"
   ]
  },
  {
   "cell_type": "code",
   "execution_count": 19,
   "id": "a2c80d99",
   "metadata": {},
   "outputs": [
    {
     "data": {
      "text/html": [
       "<div>\n",
       "<style scoped>\n",
       "    .dataframe tbody tr th:only-of-type {\n",
       "        vertical-align: middle;\n",
       "    }\n",
       "\n",
       "    .dataframe tbody tr th {\n",
       "        vertical-align: top;\n",
       "    }\n",
       "\n",
       "    .dataframe thead th {\n",
       "        text-align: right;\n",
       "    }\n",
       "</style>\n",
       "<table border=\"1\" class=\"dataframe\">\n",
       "  <thead>\n",
       "    <tr style=\"text-align: right;\">\n",
       "      <th></th>\n",
       "      <th>anamet entity</th>\n",
       "      <th>sc:description</th>\n",
       "      <th>sc:hasCategory</th>\n",
       "      <th>sc:internal_code</th>\n",
       "      <th>sc:isProcessedBy</th>\n",
       "    </tr>\n",
       "  </thead>\n",
       "  <tbody>\n",
       "    <tr>\n",
       "      <th>28</th>\n",
       "      <td>sc:ANAMET_465</td>\n",
       "      <td>COPPER SCRAP MILLBERRY CABLES FOR STRIP.</td>\n",
       "      <td>Non-Ferrous</td>\n",
       "      <td>40014</td>\n",
       "      <td>NaN</td>\n",
       "    </tr>\n",
       "    <tr>\n",
       "      <th>30</th>\n",
       "      <td>sc:ANAMET_466</td>\n",
       "      <td>COPPER SCRAP BIRCH CABLES FOR STRIPPING</td>\n",
       "      <td>Non-Ferrous</td>\n",
       "      <td>40015</td>\n",
       "      <td>NaN</td>\n",
       "    </tr>\n",
       "    <tr>\n",
       "      <th>33</th>\n",
       "      <td>sc:ANAMET_467</td>\n",
       "      <td>MIXED COPPER CABLES SCRAP( RAW )</td>\n",
       "      <td>Non-Ferrous</td>\n",
       "      <td>40091</td>\n",
       "      <td>NaN</td>\n",
       "    </tr>\n",
       "    <tr>\n",
       "      <th>34</th>\n",
       "      <td>sc:ANAMET_468</td>\n",
       "      <td>CABLES COPPER - LEAD(RAW)</td>\n",
       "      <td>Non-Ferrous</td>\n",
       "      <td>40133</td>\n",
       "      <td>NaN</td>\n",
       "    </tr>\n",
       "    <tr>\n",
       "      <th>37</th>\n",
       "      <td>sc:ANAMET_469</td>\n",
       "      <td>COPPER SCRAP BERRY/CANDY AS PER ISR(RAW)</td>\n",
       "      <td>Non-Ferrous</td>\n",
       "      <td>40210</td>\n",
       "      <td>NaN</td>\n",
       "    </tr>\n",
       "    <tr>\n",
       "      <th>...</th>\n",
       "      <td>...</td>\n",
       "      <td>...</td>\n",
       "      <td>...</td>\n",
       "      <td>...</td>\n",
       "      <td>...</td>\n",
       "    </tr>\n",
       "    <tr>\n",
       "      <th>317</th>\n",
       "      <td>sc:ANAMET_684</td>\n",
       "      <td>LEAD SCRAP (E)</td>\n",
       "      <td>Non-Ferrous</td>\n",
       "      <td>50185</td>\n",
       "      <td>NaN</td>\n",
       "    </tr>\n",
       "    <tr>\n",
       "      <th>318</th>\n",
       "      <td>sc:ANAMET_685</td>\n",
       "      <td>ELECTRIC MOTORS SHREDDED (WEEE)</td>\n",
       "      <td>Non-Ferrous</td>\n",
       "      <td>50259</td>\n",
       "      <td>NaN</td>\n",
       "    </tr>\n",
       "    <tr>\n",
       "      <th>319</th>\n",
       "      <td>sc:ANAMET_686</td>\n",
       "      <td>BLACK PLASTIC SCRAP (WEEE)  ( E )</td>\n",
       "      <td>Non-Ferrous</td>\n",
       "      <td>50117</td>\n",
       "      <td>NaN</td>\n",
       "    </tr>\n",
       "    <tr>\n",
       "      <th>320</th>\n",
       "      <td>sc:ANAMET_687</td>\n",
       "      <td>SCRAP PLEXIGLASS ( E )</td>\n",
       "      <td>Non-Ferrous</td>\n",
       "      <td>50118</td>\n",
       "      <td>NaN</td>\n",
       "    </tr>\n",
       "    <tr>\n",
       "      <th>321</th>\n",
       "      <td>sc:ANAMET_688</td>\n",
       "      <td>MIXED PLASTIC SCRAP (WEEE) ( E )</td>\n",
       "      <td>Non-Ferrous</td>\n",
       "      <td>50119</td>\n",
       "      <td>NaN</td>\n",
       "    </tr>\n",
       "  </tbody>\n",
       "</table>\n",
       "<p>214 rows × 5 columns</p>\n",
       "</div>"
      ],
      "text/plain": [
       "     anamet entity                            sc:description sc:hasCategory  \\\n",
       "28   sc:ANAMET_465  COPPER SCRAP MILLBERRY CABLES FOR STRIP.    Non-Ferrous   \n",
       "30   sc:ANAMET_466   COPPER SCRAP BIRCH CABLES FOR STRIPPING    Non-Ferrous   \n",
       "33   sc:ANAMET_467          MIXED COPPER CABLES SCRAP( RAW )    Non-Ferrous   \n",
       "34   sc:ANAMET_468                 CABLES COPPER - LEAD(RAW)    Non-Ferrous   \n",
       "37   sc:ANAMET_469  COPPER SCRAP BERRY/CANDY AS PER ISR(RAW)    Non-Ferrous   \n",
       "..             ...                                       ...            ...   \n",
       "317  sc:ANAMET_684                            LEAD SCRAP (E)    Non-Ferrous   \n",
       "318  sc:ANAMET_685           ELECTRIC MOTORS SHREDDED (WEEE)    Non-Ferrous   \n",
       "319  sc:ANAMET_686         BLACK PLASTIC SCRAP (WEEE)  ( E )    Non-Ferrous   \n",
       "320  sc:ANAMET_687                    SCRAP PLEXIGLASS ( E )    Non-Ferrous   \n",
       "321  sc:ANAMET_688          MIXED PLASTIC SCRAP (WEEE) ( E )    Non-Ferrous   \n",
       "\n",
       "     sc:internal_code sc:isProcessedBy  \n",
       "28              40014              NaN  \n",
       "30              40015              NaN  \n",
       "33              40091              NaN  \n",
       "34              40133              NaN  \n",
       "37              40210              NaN  \n",
       "..                ...              ...  \n",
       "317             50185              NaN  \n",
       "318             50259              NaN  \n",
       "319             50117              NaN  \n",
       "320             50118              NaN  \n",
       "321             50119              NaN  \n",
       "\n",
       "[214 rows x 5 columns]"
      ]
     },
     "execution_count": 19,
     "metadata": {},
     "output_type": "execute_result"
    }
   ],
   "source": [
    "# Keep only anamets with english sc:descritpion\n",
    "import unicodedata as ud\n",
    "\n",
    "latin_letters= {}\n",
    "\n",
    "def is_latin(uchr):\n",
    "    try: return latin_letters[uchr]\n",
    "    except KeyError:\n",
    "         return latin_letters.setdefault(uchr, 'LATIN' in ud.name(uchr))\n",
    "\n",
    "def only_roman_chars(unistr):\n",
    "    return all(is_latin(uchr)\n",
    "           for uchr in unistr\n",
    "           if uchr.isalpha()) # isalpha suggested by John Machin\n",
    "\n",
    "e_description_index = []\n",
    "for row in range(len(anamet_data)):\n",
    "    if only_roman_chars(str(anamet_data['sc:description'].iloc[row])):\n",
    "        e_description_index.append(row)\n",
    "        \n",
    "anamet_data = anamet_data.iloc[e_description_index]\n",
    "anamet_data"
   ]
  },
  {
   "cell_type": "markdown",
   "id": "857b2897",
   "metadata": {},
   "source": [
    "Preprocess text data using `gensim.utils.simple_preprocess()`"
   ]
  },
  {
   "cell_type": "code",
   "execution_count": 26,
   "id": "c16128a0",
   "metadata": {},
   "outputs": [
    {
     "name": "stderr",
     "output_type": "stream",
     "text": [
      "/tmp/ipykernel_14657/4168331537.py:1: SettingWithCopyWarning: \n",
      "A value is trying to be set on a copy of a slice from a DataFrame.\n",
      "Try using .loc[row_indexer,col_indexer] = value instead\n",
      "\n",
      "See the caveats in the documentation: https://pandas.pydata.org/pandas-docs/stable/user_guide/indexing.html#returning-a-view-versus-a-copy\n",
      "  anamet_data['sc:description'] = anamet_data['sc:description'].apply(simple_preprocess)\n"
     ]
    },
    {
     "data": {
      "text/html": [
       "<div>\n",
       "<style scoped>\n",
       "    .dataframe tbody tr th:only-of-type {\n",
       "        vertical-align: middle;\n",
       "    }\n",
       "\n",
       "    .dataframe tbody tr th {\n",
       "        vertical-align: top;\n",
       "    }\n",
       "\n",
       "    .dataframe thead th {\n",
       "        text-align: right;\n",
       "    }\n",
       "</style>\n",
       "<table border=\"1\" class=\"dataframe\">\n",
       "  <thead>\n",
       "    <tr style=\"text-align: right;\">\n",
       "      <th></th>\n",
       "      <th>anamet entity</th>\n",
       "      <th>sc:description</th>\n",
       "      <th>sc:hasCategory</th>\n",
       "      <th>sc:internal_code</th>\n",
       "      <th>sc:isProcessedBy</th>\n",
       "    </tr>\n",
       "  </thead>\n",
       "  <tbody>\n",
       "    <tr>\n",
       "      <th>28</th>\n",
       "      <td>sc:ANAMET_465</td>\n",
       "      <td>[copper, scrap, millberry, cables, for, strip]</td>\n",
       "      <td>Non-Ferrous</td>\n",
       "      <td>40014</td>\n",
       "      <td>NaN</td>\n",
       "    </tr>\n",
       "    <tr>\n",
       "      <th>30</th>\n",
       "      <td>sc:ANAMET_466</td>\n",
       "      <td>[copper, scrap, birch, cables, for, stripping]</td>\n",
       "      <td>Non-Ferrous</td>\n",
       "      <td>40015</td>\n",
       "      <td>NaN</td>\n",
       "    </tr>\n",
       "  </tbody>\n",
       "</table>\n",
       "</div>"
      ],
      "text/plain": [
       "    anamet entity                                  sc:description  \\\n",
       "28  sc:ANAMET_465  [copper, scrap, millberry, cables, for, strip]   \n",
       "30  sc:ANAMET_466  [copper, scrap, birch, cables, for, stripping]   \n",
       "\n",
       "   sc:hasCategory  sc:internal_code sc:isProcessedBy  \n",
       "28    Non-Ferrous             40014              NaN  \n",
       "30    Non-Ferrous             40015              NaN  "
      ]
     },
     "execution_count": 26,
     "metadata": {},
     "output_type": "execute_result"
    }
   ],
   "source": [
    "anamet_data['sc:description'] = anamet_data['sc:description'].apply(simple_preprocess)\n",
    "anamet_data.head(2)"
   ]
  },
  {
   "cell_type": "code",
   "execution_count": 29,
   "id": "e8142bcf",
   "metadata": {},
   "outputs": [],
   "source": [
    "# Delete word scrap\n",
    "for i in range(len(anamet_data)):\n",
    "    if 'scrap' in anamet_data['sc:description'].iloc[i]:\n",
    "        anamet_data['sc:description'].iloc[i].remove('scrap')"
   ]
  },
  {
   "cell_type": "code",
   "execution_count": 30,
   "id": "e56e6f67",
   "metadata": {},
   "outputs": [
    {
     "data": {
      "text/html": [
       "<div>\n",
       "<style scoped>\n",
       "    .dataframe tbody tr th:only-of-type {\n",
       "        vertical-align: middle;\n",
       "    }\n",
       "\n",
       "    .dataframe tbody tr th {\n",
       "        vertical-align: top;\n",
       "    }\n",
       "\n",
       "    .dataframe thead th {\n",
       "        text-align: right;\n",
       "    }\n",
       "</style>\n",
       "<table border=\"1\" class=\"dataframe\">\n",
       "  <thead>\n",
       "    <tr style=\"text-align: right;\">\n",
       "      <th></th>\n",
       "      <th>anamet entity</th>\n",
       "      <th>sc:description</th>\n",
       "      <th>sc:hasCategory</th>\n",
       "      <th>sc:internal_code</th>\n",
       "      <th>sc:isProcessedBy</th>\n",
       "    </tr>\n",
       "  </thead>\n",
       "  <tbody>\n",
       "    <tr>\n",
       "      <th>28</th>\n",
       "      <td>sc:ANAMET_465</td>\n",
       "      <td>[copper, millberry, cables, for, strip]</td>\n",
       "      <td>Non-Ferrous</td>\n",
       "      <td>40014</td>\n",
       "      <td>NaN</td>\n",
       "    </tr>\n",
       "    <tr>\n",
       "      <th>30</th>\n",
       "      <td>sc:ANAMET_466</td>\n",
       "      <td>[copper, birch, cables, for, stripping]</td>\n",
       "      <td>Non-Ferrous</td>\n",
       "      <td>40015</td>\n",
       "      <td>NaN</td>\n",
       "    </tr>\n",
       "  </tbody>\n",
       "</table>\n",
       "</div>"
      ],
      "text/plain": [
       "    anamet entity                           sc:description sc:hasCategory  \\\n",
       "28  sc:ANAMET_465  [copper, millberry, cables, for, strip]    Non-Ferrous   \n",
       "30  sc:ANAMET_466  [copper, birch, cables, for, stripping]    Non-Ferrous   \n",
       "\n",
       "    sc:internal_code sc:isProcessedBy  \n",
       "28             40014              NaN  \n",
       "30             40015              NaN  "
      ]
     },
     "execution_count": 30,
     "metadata": {},
     "output_type": "execute_result"
    }
   ],
   "source": [
    "anamet_data.head(2)"
   ]
  },
  {
   "cell_type": "code",
   "execution_count": null,
   "id": "31ff7d77",
   "metadata": {},
   "outputs": [],
   "source": []
  },
  {
   "cell_type": "code",
   "execution_count": null,
   "id": "bb2ea62a",
   "metadata": {},
   "outputs": [],
   "source": []
  },
  {
   "cell_type": "markdown",
   "id": "83379335",
   "metadata": {},
   "source": [
    "# Anamet"
   ]
  },
  {
   "cell_type": "code",
   "execution_count": null,
   "id": "70ecbc77",
   "metadata": {},
   "outputs": [],
   "source": [
    "anamet.head()"
   ]
  },
  {
   "cell_type": "code",
   "execution_count": null,
   "id": "eeac8f3a",
   "metadata": {},
   "outputs": [],
   "source": [
    "anamet.shape"
   ]
  },
  {
   "cell_type": "markdown",
   "id": "40a38f8c",
   "metadata": {},
   "source": [
    "How many __unique__ ANAMET types exist?"
   ]
  },
  {
   "cell_type": "code",
   "execution_count": null,
   "id": "2f48fb52",
   "metadata": {},
   "outputs": [],
   "source": [
    "anamet['name_src'].nunique()"
   ]
  },
  {
   "cell_type": "code",
   "execution_count": null,
   "id": "c49f7239",
   "metadata": {},
   "outputs": [],
   "source": [
    "anamet['full_community_id_src'].nunique()"
   ]
  },
  {
   "cell_type": "markdown",
   "id": "f7de52d0",
   "metadata": {},
   "source": [
    "ANAMET Relationships"
   ]
  },
  {
   "cell_type": "code",
   "execution_count": null,
   "id": "eb3e2600",
   "metadata": {},
   "outputs": [],
   "source": [
    "anamet['Relationship'].value_counts()"
   ]
  },
  {
   "cell_type": "code",
   "execution_count": null,
   "id": "4a3c3461",
   "metadata": {},
   "outputs": [],
   "source": [
    "anamet[anamet['Relationship'] == 'IS_PROCESSED_WITH']['name_trg'].value_counts()"
   ]
  },
  {
   "cell_type": "markdown",
   "id": "922e8a12",
   "metadata": {},
   "source": [
    "Όλα περνάνε και από τα 3 processes."
   ]
  },
  {
   "cell_type": "code",
   "execution_count": null,
   "id": "bc89f60f",
   "metadata": {},
   "outputs": [],
   "source": []
  },
  {
   "cell_type": "code",
   "execution_count": null,
   "id": "562d15e6",
   "metadata": {},
   "outputs": [],
   "source": []
  },
  {
   "cell_type": "markdown",
   "id": "28579d00",
   "metadata": {},
   "source": [
    "# ISRI"
   ]
  },
  {
   "cell_type": "code",
   "execution_count": null,
   "id": "1d13418b",
   "metadata": {},
   "outputs": [],
   "source": [
    "isri.head()"
   ]
  },
  {
   "cell_type": "code",
   "execution_count": null,
   "id": "a8870283",
   "metadata": {},
   "outputs": [],
   "source": []
  },
  {
   "cell_type": "code",
   "execution_count": null,
   "id": "d0330aeb",
   "metadata": {},
   "outputs": [],
   "source": []
  },
  {
   "cell_type": "markdown",
   "id": "027d7887",
   "metadata": {},
   "source": [
    "# UNS"
   ]
  },
  {
   "cell_type": "code",
   "execution_count": null,
   "id": "211fcafb",
   "metadata": {},
   "outputs": [],
   "source": [
    "uns.head()"
   ]
  },
  {
   "cell_type": "code",
   "execution_count": null,
   "id": "5f831ab7-19ea-4782-acb9-fe4b459ab104",
   "metadata": {},
   "outputs": [],
   "source": [
    "uns.shape"
   ]
  },
  {
   "cell_type": "code",
   "execution_count": null,
   "id": "09de9bec-a61a-4d13-8d44-9eaea5d97513",
   "metadata": {},
   "outputs": [],
   "source": [
    "uns['Relationship'].value_counts()"
   ]
  },
  {
   "cell_type": "code",
   "execution_count": null,
   "id": "4e1ea3b5-e0ba-4390-a8df-28fff126102e",
   "metadata": {},
   "outputs": [],
   "source": [
    "print(uns['name_src'].nunique())"
   ]
  },
  {
   "cell_type": "code",
   "execution_count": null,
   "id": "8cf24006-d132-4bb8-853a-6262b0f5db14",
   "metadata": {},
   "outputs": [],
   "source": []
  },
  {
   "cell_type": "markdown",
   "id": "2d0042a3-ffc9-4593-b460-1f7f64418ece",
   "metadata": {},
   "source": [
    "# Clustering"
   ]
  },
  {
   "cell_type": "code",
   "execution_count": null,
   "id": "292d38f4-6041-4ed6-9fa4-048cd201358e",
   "metadata": {},
   "outputs": [],
   "source": [
    "import matplotlib.pyplot as plt\n",
    "from sklearn.cluster import KMeans\n",
    "from sklearn.cluster import DBSCAN\n",
    "from sklearn.metrics import silhouette_score\n",
    "from sklearn.preprocessing import StandardScaler\n",
    "from sklearn.preprocessing import LabelEncoder"
   ]
  },
  {
   "cell_type": "code",
   "execution_count": null,
   "id": "f82df8a9-d47a-4b93-87f4-ebb8c186f604",
   "metadata": {},
   "outputs": [],
   "source": [
    "def label_encoding(df):\n",
    "    for col in df.columns:\n",
    "        if df[col].dtypes == 'object':\n",
    "            labelencoder = LabelEncoder()\n",
    "            df[col] = labelencoder.fit_transform(df[col])        \n",
    "            del labelencoder\n",
    "    return df"
   ]
  },
  {
   "cell_type": "code",
   "execution_count": null,
   "id": "641f95e5-9151-4e57-9d15-a62ab07bb1e1",
   "metadata": {},
   "outputs": [],
   "source": [
    "uns_copy = uns.copy()"
   ]
  },
  {
   "cell_type": "code",
   "execution_count": null,
   "id": "2193f4f3-f43f-4c10-bb67-ca7f0d579de5",
   "metadata": {},
   "outputs": [],
   "source": [
    "uns = label_encoding(uns)"
   ]
  },
  {
   "cell_type": "code",
   "execution_count": null,
   "id": "c8cd699d-c5e9-42d2-bb23-c9a1ca281757",
   "metadata": {},
   "outputs": [],
   "source": [
    "uns.isna().sum()"
   ]
  },
  {
   "cell_type": "code",
   "execution_count": null,
   "id": "b9158f53-aec9-4511-87c5-649524adc758",
   "metadata": {},
   "outputs": [],
   "source": [
    "uns = uns.dropna()"
   ]
  },
  {
   "cell_type": "code",
   "execution_count": null,
   "id": "ea527c1d-0dd6-4ba9-8ec7-38ef8be08262",
   "metadata": {},
   "outputs": [],
   "source": [
    "from sklearn.neighbors import NearestNeighbors\n",
    "\n",
    "nbrs = NearestNeighbors(n_neighbors=5).fit(uns)\n",
    "neigh_dist, neigh_ind = nbrs.kneighbors(uns)\n",
    "sort_neigh_dist = np.sort(neigh_dist, axis=0)"
   ]
  },
  {
   "cell_type": "code",
   "execution_count": null,
   "id": "f54e747e-76a5-4daf-b0c1-14eed5957b58",
   "metadata": {},
   "outputs": [],
   "source": [
    "import matplotlib.pyplot as plt\n",
    "k_dist = sort_neigh_dist[:, 4]\n",
    "plt.plot(k_dist)\n",
    "plt.axhline(y=2.5, linewidth=1, linestyle='dashed', color='k')\n",
    "plt.ylabel(\"k-NN distance\")\n",
    "plt.xlabel(\"Sorted observations (4th NN)\")\n",
    "plt.show()"
   ]
  },
  {
   "cell_type": "code",
   "execution_count": null,
   "id": "831705ca-f7fc-4699-9870-94ef422ef03e",
   "metadata": {},
   "outputs": [],
   "source": [
    "from sklearn.cluster import DBSCAN\n",
    "\n",
    "clusters = DBSCAN(eps=22, min_samples=100).fit(uns)\n",
    "clusters.labels_\n",
    "set(clusters.labels_)"
   ]
  },
  {
   "cell_type": "code",
   "execution_count": null,
   "id": "3b9461f2-2dee-4a82-8f86-144918bed13f",
   "metadata": {},
   "outputs": [],
   "source": [
    "uns_copy = uns_copy.dropna()\n",
    "uns_copy['cluster'] = clusters.labels_"
   ]
  },
  {
   "cell_type": "code",
   "execution_count": null,
   "id": "1a897885-347e-4fe2-aa90-90fe16b1dec3",
   "metadata": {},
   "outputs": [],
   "source": [
    "uns_copy[uns_copy['cluster'] == 6]"
   ]
  },
  {
   "cell_type": "code",
   "execution_count": null,
   "id": "16bb62cf-95a6-4185-b80b-84740e83cbbd",
   "metadata": {},
   "outputs": [],
   "source": []
  },
  {
   "cell_type": "code",
   "execution_count": null,
   "id": "9211faec-e2bd-4fb7-9964-baa4da9491f2",
   "metadata": {},
   "outputs": [],
   "source": []
  },
  {
   "cell_type": "code",
   "execution_count": null,
   "id": "c105297e-cd83-4099-a99e-530f645f55d4",
   "metadata": {},
   "outputs": [],
   "source": [
    "uns"
   ]
  },
  {
   "cell_type": "code",
   "execution_count": null,
   "id": "1684fe3a-0e41-431a-9d6b-e6021287d4de",
   "metadata": {},
   "outputs": [],
   "source": []
  },
  {
   "cell_type": "code",
   "execution_count": null,
   "id": "b6ee8266",
   "metadata": {},
   "outputs": [],
   "source": []
  },
  {
   "cell_type": "code",
   "execution_count": null,
   "id": "c89ef4a6",
   "metadata": {},
   "outputs": [],
   "source": [
    "!pip install --upgrade gensim"
   ]
  },
  {
   "cell_type": "markdown",
   "id": "cc85377a",
   "metadata": {},
   "source": [
    "# New *NIKOS* data"
   ]
  },
  {
   "cell_type": "code",
   "execution_count": null,
   "id": "ab889e4e",
   "metadata": {},
   "outputs": [],
   "source": [
    "xls = pd.ExcelFile('data/edited_nikos_data.xlsx')\n",
    "xls.sheet_names"
   ]
  },
  {
   "cell_type": "code",
   "execution_count": null,
   "id": "a5296f6d",
   "metadata": {},
   "outputs": [],
   "source": [
    "uns_data = pd.read_excel(xls, 'UNS data')\n",
    "uns_data.head()"
   ]
  },
  {
   "cell_type": "code",
   "execution_count": null,
   "id": "70dbeb3e",
   "metadata": {},
   "outputs": [],
   "source": [
    "uns_data.rename(columns = {'sc:isComposedOf':'elements id'}, inplace = True)"
   ]
  },
  {
   "cell_type": "code",
   "execution_count": null,
   "id": "ede8c5b0",
   "metadata": {},
   "outputs": [],
   "source": [
    "elements_data = pd.read_excel(xls, 'Elements data')\n",
    "elements_data.head()"
   ]
  },
  {
   "cell_type": "code",
   "execution_count": null,
   "id": "46fd2c48",
   "metadata": {},
   "outputs": [],
   "source": [
    "uns_data = pd.merge(uns_data, elements_data, how='inner', on = 'elements id')\n",
    "uns_data"
   ]
  },
  {
   "cell_type": "code",
   "execution_count": null,
   "id": "d0b95c66",
   "metadata": {},
   "outputs": [],
   "source": [
    "isri_data = pd.read_excel(xls, 'Isri data')\n",
    "isri_data.head()"
   ]
  },
  {
   "cell_type": "code",
   "execution_count": null,
   "id": "8776c7be",
   "metadata": {},
   "outputs": [],
   "source": [
    "anamet_data = pd.read_excel(xls, 'Anamet data')\n",
    "anamet_data.head()"
   ]
  },
  {
   "cell_type": "code",
   "execution_count": null,
   "id": "7bdc1176",
   "metadata": {},
   "outputs": [],
   "source": []
  },
  {
   "cell_type": "markdown",
   "id": "497e590f",
   "metadata": {},
   "source": [
    "Keep only anamets with english description"
   ]
  },
  {
   "cell_type": "code",
   "execution_count": null,
   "id": "0114c9a4",
   "metadata": {},
   "outputs": [],
   "source": [
    "english_anamet_data['anamet entity'].nunique()"
   ]
  },
  {
   "cell_type": "code",
   "execution_count": null,
   "id": "8be61444",
   "metadata": {},
   "outputs": [],
   "source": [
    "english_anamet_data['sc:hasCategory'].value_counts()"
   ]
  },
  {
   "cell_type": "code",
   "execution_count": null,
   "id": "5cca0936",
   "metadata": {},
   "outputs": [],
   "source": [
    "english_anamet_data['sc:isProcessedBy'].value_counts()"
   ]
  },
  {
   "cell_type": "code",
   "execution_count": null,
   "id": "3e9a7e88",
   "metadata": {},
   "outputs": [],
   "source": [
    "anamet_data['sc:hasCategory'].value_countsnts()"
   ]
  },
  {
   "cell_type": "code",
   "execution_count": null,
   "id": "2d41b541",
   "metadata": {},
   "outputs": [],
   "source": []
  },
  {
   "cell_type": "code",
   "execution_count": null,
   "id": "ea1dc336",
   "metadata": {},
   "outputs": [],
   "source": [
    "# Func to count number of common words between two strings\n",
    "def num_of_common_words(s1, s2):\n",
    "    s1 = s1.lower()\n",
    "    s2 = s2.lower()\n",
    "    s1List = s1.split(\" \")\n",
    "    s2List = s2.split(\" \")\n",
    "    return len(list(set(s1List) & set(s2List)))"
   ]
  },
  {
   "cell_type": "code",
   "execution_count": null,
   "id": "15ace515",
   "metadata": {},
   "outputs": [],
   "source": [
    "num_of_common_words(english_anamet_data['sc:description'].iloc[0], \n",
    "                    english_anamet_data['sc:description'].iloc[1])"
   ]
  },
  {
   "cell_type": "code",
   "execution_count": null,
   "id": "2cfd2ce4",
   "metadata": {},
   "outputs": [],
   "source": [
    "isri_data"
   ]
  },
  {
   "cell_type": "code",
   "execution_count": null,
   "id": "6e8e4067",
   "metadata": {},
   "outputs": [],
   "source": []
  },
  {
   "cell_type": "code",
   "execution_count": null,
   "id": "584e4748",
   "metadata": {},
   "outputs": [],
   "source": []
  },
  {
   "cell_type": "code",
   "execution_count": null,
   "id": "83fbcee3",
   "metadata": {},
   "outputs": [],
   "source": [
    "df1 = pd.DataFrame()\n",
    "df1['anamet'] = english_anamet_data['sc:description']\n",
    "df1['uns'] = uns_data['hasName']\n",
    "df1.head(2)"
   ]
  },
  {
   "cell_type": "code",
   "execution_count": null,
   "id": "df3afe39",
   "metadata": {},
   "outputs": [],
   "source": [
    "df2 = df1.apply(lambda x: ','.join(x.astype(str)), axis=1)\n",
    "df_clean = pd.DataFrame({'clean': df2})"
   ]
  },
  {
   "cell_type": "code",
   "execution_count": null,
   "id": "97226042",
   "metadata": {},
   "outputs": [],
   "source": [
    "# Create the list of list format of the custom corpus for gensim modeling \n",
    "sent = [row.split(',') for row in df_clean['clean']]"
   ]
  },
  {
   "cell_type": "code",
   "execution_count": null,
   "id": "80d48c2b",
   "metadata": {},
   "outputs": [],
   "source": [
    "sent[:2]"
   ]
  },
  {
   "cell_type": "code",
   "execution_count": null,
   "id": "ba77efcf",
   "metadata": {},
   "outputs": [],
   "source": [
    "from gensim.models import Word2Vec\n",
    "\n",
    "model = Word2Vec(sent, min_count=1, vector_size=50, \n",
    "                 workers=3, window=3, sg=1)"
   ]
  },
  {
   "cell_type": "code",
   "execution_count": null,
   "id": "ad7d26de",
   "metadata": {},
   "outputs": [],
   "source": [
    "model.train(sent, total_examples=100, epochs=10)"
   ]
  },
  {
   "cell_type": "code",
   "execution_count": null,
   "id": "025f58a8",
   "metadata": {},
   "outputs": [],
   "source": []
  },
  {
   "cell_type": "code",
   "execution_count": null,
   "id": "0c026c43",
   "metadata": {},
   "outputs": [],
   "source": [
    "model.wv.similarity(sent[1][0], sent[1][1])"
   ]
  },
  {
   "cell_type": "code",
   "execution_count": null,
   "id": "86a5d53b",
   "metadata": {},
   "outputs": [],
   "source": [
    "english_anamet_data['sc:description'].iloc[0]"
   ]
  },
  {
   "cell_type": "code",
   "execution_count": null,
   "id": "9a6038ec",
   "metadata": {},
   "outputs": [],
   "source": []
  },
  {
   "cell_type": "markdown",
   "id": "efb07b8b",
   "metadata": {},
   "source": [
    "### Word2Vec for similar scraps"
   ]
  },
  {
   "cell_type": "code",
   "execution_count": null,
   "id": "b1d6c14b",
   "metadata": {},
   "outputs": [],
   "source": [
    "nlp_anamet = english_anamet_data.copy()\n",
    "\n",
    "# NLP preprocess\n",
    "from gensim.utils import simple_preprocess\n",
    "description = nlp_anamet['sc:description'].apply(simple_preprocess)\n",
    "description"
   ]
  },
  {
   "cell_type": "code",
   "execution_count": null,
   "id": "ec369289",
   "metadata": {},
   "outputs": [],
   "source": [
    "for i in range(len(description)):\n",
    "    if 'scrap' in description.iloc[i]:\n",
    "        description.iloc[i].remove('scrap')"
   ]
  },
  {
   "cell_type": "code",
   "execution_count": null,
   "id": "bbc42ef4",
   "metadata": {},
   "outputs": [],
   "source": [
    "description"
   ]
  },
  {
   "cell_type": "code",
   "execution_count": null,
   "id": "f5ec6c61",
   "metadata": {},
   "outputs": [],
   "source": [
    "model = Word2Vec(min_count=1, \n",
    "                 vector_size=50, \n",
    "                 workers=4, \n",
    "                 window=1, \n",
    "                 sg=1)"
   ]
  },
  {
   "cell_type": "code",
   "execution_count": null,
   "id": "b87ced2a",
   "metadata": {},
   "outputs": [],
   "source": [
    "model.build_vocab(description, progress_per=10)"
   ]
  },
  {
   "cell_type": "code",
   "execution_count": null,
   "id": "bd65a826",
   "metadata": {},
   "outputs": [],
   "source": [
    "model.epochs"
   ]
  },
  {
   "cell_type": "code",
   "execution_count": null,
   "id": "6fddab89",
   "metadata": {},
   "outputs": [],
   "source": [
    "model.train(description, total_examples=model.corpus_count,\n",
    "           epochs=100)"
   ]
  },
  {
   "cell_type": "code",
   "execution_count": null,
   "id": "a151e221",
   "metadata": {},
   "outputs": [],
   "source": [
    "model.wv.most_similar(\"zinc\")"
   ]
  },
  {
   "cell_type": "code",
   "execution_count": null,
   "id": "736ed136",
   "metadata": {},
   "outputs": [],
   "source": [
    "nlp_anamet"
   ]
  },
  {
   "cell_type": "code",
   "execution_count": null,
   "id": "77d39602",
   "metadata": {},
   "outputs": [],
   "source": []
  }
 ],
 "metadata": {
  "kernelspec": {
   "display_name": "Python 3 (ipykernel)",
   "language": "python",
   "name": "python3"
  },
  "language_info": {
   "codemirror_mode": {
    "name": "ipython",
    "version": 3
   },
   "file_extension": ".py",
   "mimetype": "text/x-python",
   "name": "python",
   "nbconvert_exporter": "python",
   "pygments_lexer": "ipython3",
   "version": "3.9.10"
  }
 },
 "nbformat": 4,
 "nbformat_minor": 5
}
