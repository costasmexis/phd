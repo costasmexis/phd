{
 "cells": [
  {
   "cell_type": "markdown",
   "id": "399100c3",
   "metadata": {},
   "source": [
    "# Import Libraries "
   ]
  },
  {
   "cell_type": "code",
   "execution_count": 1,
   "id": "0e06fede",
   "metadata": {},
   "outputs": [],
   "source": [
    "import pandas as pd\n",
    "import numpy as np\n",
    "from tqdm import tqdm"
   ]
  },
  {
   "cell_type": "markdown",
   "id": "848d5b06",
   "metadata": {},
   "source": [
    "# Define functions"
   ]
  },
  {
   "cell_type": "code",
   "execution_count": 2,
   "id": "8414e3f7",
   "metadata": {},
   "outputs": [],
   "source": [
    "def preprocess_raw_data(df):\n",
    "    \n",
    "    for col in df.columns:\n",
    "        df[col] = df[col].str.replace('\"', '', regex=True)\n",
    "        df[col] = df[col].str.replace('{', '', regex=True)\n",
    "        df[col] = df[col].str.replace('}', '', regex=True)\n",
    "\n",
    "    return df\n",
    "\n",
    "def unique_keys(df, col):\n",
    "    unq = []\n",
    "    for row in range(len(df)):\n",
    "        split_1 = len(df[col].iloc[row].split(':')) - 1\n",
    "        \n",
    "        for i in range(split_1):\n",
    "            \n",
    "            last_element = len(df[col].iloc[row].split(':')[i].split(',')) - 1\n",
    "            unq.append(df[col].iloc[row].split(':')[i].split(',')[last_element])            \n",
    "            \n",
    "    print(np.unique(unq))\n",
    "    return np.unique(unq)\n",
    "\n",
    "def create_cols_target_entity(df, col):\n",
    "    unq = []\n",
    "    for row in tqdm(range(len(df))):\n",
    "        split_1 = len(df[col].iloc[row].split(':')) - 1\n",
    "\n",
    "        for i in range(0, split_1):\n",
    "            if(len(df[col].iloc[row].split(':')[i].split(',')) == 1):\n",
    "                last_element = len(df[col].iloc[row].split(':')[i].split(',')) - 1\n",
    "                col_name = (df[col].iloc[row].split(':')[i].split(',')[last_element])    \n",
    "                value = (df[col].iloc[row].split(':')[i+1].split(',')[0])    \n",
    "\n",
    "            else:\n",
    "                last_element = len(df[col].iloc[row].split(':')[i].split(',')) - 1\n",
    "                col_name = (df[col].iloc[row].split(':')[i].split(',')[last_element])    \n",
    "                value = (df[col].iloc[row].split(':')[i].split(',')[0])    \n",
    "\n",
    "            df[col_name].iloc[row] = value\n",
    "    return df\n",
    "\n",
    "def full_community_id_and_name(df):\n",
    "    \n",
    "    df['name'] = np.nan\n",
    "    df['full_community_id'] = np.nan\n",
    "\n",
    "    for row in range(len(df)):\n",
    "        df['name'].iloc[row] = df['Source Entity'].str.split(',').iloc[row][0].split(':')[1]\n",
    "        df['full_community_id'].iloc[row] = df['Source Entity'].str.split(',').iloc[row][1].split(':')[1]\n",
    "\n",
    "    df.drop(columns='Source Entity', inplace=True)\n",
    "    return df"
   ]
  },
  {
   "cell_type": "markdown",
   "id": "3967f701",
   "metadata": {},
   "source": [
    "# Read data"
   ]
  },
  {
   "cell_type": "code",
   "execution_count": 3,
   "id": "6585b685",
   "metadata": {},
   "outputs": [],
   "source": [
    "xls = pd.ExcelFile('data/raw.xlsx')"
   ]
  },
  {
   "cell_type": "code",
   "execution_count": 4,
   "id": "161178ff",
   "metadata": {},
   "outputs": [
    {
     "data": {
      "text/plain": [
       "['ANAMET', 'UNS', 'ISRI', 'Materials', 'Process']"
      ]
     },
     "execution_count": 4,
     "metadata": {},
     "output_type": "execute_result"
    }
   ],
   "source": [
    "xls.sheet_names"
   ]
  },
  {
   "cell_type": "markdown",
   "id": "d290baf5",
   "metadata": {},
   "source": [
    "# Common `Source Entity`"
   ]
  },
  {
   "cell_type": "code",
   "execution_count": 5,
   "id": "e3c4a917",
   "metadata": {},
   "outputs": [],
   "source": [
    "anamet_sheet = pd.read_excel(xls, 'ANAMET')\n",
    "uns_sheet = pd.read_excel(xls, 'UNS')\n",
    "isri_sheet = pd.read_excel(xls, 'ISRI')\n",
    "materials_sheet = pd.read_excel(xls, 'Materials')\n",
    "process_sheet = pd.read_excel(xls, 'Process')"
   ]
  },
  {
   "cell_type": "code",
   "execution_count": 6,
   "id": "56ce3270",
   "metadata": {},
   "outputs": [
    {
     "name": "stdout",
     "output_type": "stream",
     "text": [
      "Index(['Node ID', 'Source Entity', 'Target Entity', 'Relationship',\n",
      "       'Node ID.1'],\n",
      "      dtype='object')\n",
      "Index(['Source Entity', 'Target Entity', 'Relationship'], dtype='object')\n",
      "Index(['Source Entity', 'Target Entity', 'Relationship'], dtype='object')\n",
      "Index(['Source Entity', 'Target Entity', 'Relationship'], dtype='object')\n",
      "Index(['Source Entity', 'Target Entity', 'Relationship'], dtype='object')\n"
     ]
    }
   ],
   "source": [
    "sheets = [anamet_sheet, uns_sheet, isri_sheet, materials_sheet, process_sheet]\n",
    "\n",
    "for df in sheets:\n",
    "    print(df.columns)"
   ]
  },
  {
   "cell_type": "code",
   "execution_count": 7,
   "id": "b7c60c6d",
   "metadata": {},
   "outputs": [],
   "source": [
    "anamet_sheet.drop(columns=['Node ID', 'Node ID.1'], inplace=True)"
   ]
  },
  {
   "cell_type": "code",
   "execution_count": 8,
   "id": "4c103c53",
   "metadata": {},
   "outputs": [],
   "source": [
    "def preprocess_raw_data(df):\n",
    "    \n",
    "    for col in df.columns:\n",
    "        df[col] = df[col].str.replace('\"', '', regex=True)\n",
    "        df[col] = df[col].str.replace('{', '', regex=True)\n",
    "        df[col] = df[col].str.replace('}', '', regex=True)\n",
    "\n",
    "    return df"
   ]
  },
  {
   "cell_type": "code",
   "execution_count": 9,
   "id": "efaf1a3a",
   "metadata": {},
   "outputs": [],
   "source": [
    "anamet_sheet = preprocess_raw_data(anamet_sheet)\n",
    "uns_sheet = preprocess_raw_data(uns_sheet)\n",
    "isri_sheet = preprocess_raw_data(isri_sheet)\n",
    "materials_sheet = preprocess_raw_data(materials_sheet)\n",
    "process_sheet = preprocess_raw_data(process_sheet)"
   ]
  },
  {
   "cell_type": "code",
   "execution_count": 10,
   "id": "a45b7505",
   "metadata": {},
   "outputs": [],
   "source": [
    "se_anamet = anamet_sheet['Source Entity']\n",
    "se_uns = uns_sheet['Source Entity']\n",
    "se_isri = isri_sheet['Source Entity']\n",
    "se_materials = materials_sheet['Source Entity']\n",
    "se_process = process_sheet['Source Entity']"
   ]
  },
  {
   "cell_type": "code",
   "execution_count": 11,
   "id": "3c164ad1",
   "metadata": {},
   "outputs": [],
   "source": [
    "def unique_keys(df, col):\n",
    "    unq = []\n",
    "    for row in range(len(df)):\n",
    "        split_1 = len(df[col].iloc[row].split(':')) - 1\n",
    "        \n",
    "        for i in range(split_1):\n",
    "            \n",
    "            last_element = len(df[col].iloc[row].split(':')[i].split(',')) - 1\n",
    "            unq.append(df[col].iloc[row].split(':')[i].split(',')[last_element])            \n",
    "            \n",
    "    return np.unique(unq)"
   ]
  },
  {
   "cell_type": "code",
   "execution_count": 12,
   "id": "0d212c53",
   "metadata": {},
   "outputs": [
    {
     "data": {
      "text/plain": [
       "array(['Category', 'Description', 'EDescription', 'GDescription',\n",
       "       'full_community_id', 'name'], dtype='<U17')"
      ]
     },
     "execution_count": 12,
     "metadata": {},
     "output_type": "execute_result"
    }
   ],
   "source": [
    "se_anamet_unq = unique_keys(anamet_sheet, 'Source Entity')\n",
    "se_anamet_unq"
   ]
  },
  {
   "cell_type": "markdown",
   "id": "3053e2b6",
   "metadata": {},
   "source": [
    "`GDescripiton` and `EDescription` is the same thing. The first one is in English, while the second one is in Greek. Both of the are `Description`"
   ]
  },
  {
   "cell_type": "code",
   "execution_count": 13,
   "id": "26afd8c8",
   "metadata": {},
   "outputs": [
    {
     "data": {
      "text/plain": [
       "array(['full_community_id', 'name'], dtype='<U17')"
      ]
     },
     "execution_count": 13,
     "metadata": {},
     "output_type": "execute_result"
    }
   ],
   "source": [
    "se_uns_unq = unique_keys(uns_sheet, 'Source Entity')\n",
    "se_uns_unq"
   ]
  },
  {
   "cell_type": "code",
   "execution_count": 14,
   "id": "c02fcce0",
   "metadata": {},
   "outputs": [
    {
     "data": {
      "text/plain": [
       "array(['Categorisation', 'Dimensions', 'Form', 'Free_of', 'Material',\n",
       "       'Specifications', 'Title', 'full_community_id', 'name'],\n",
       "      dtype='<U17')"
      ]
     },
     "execution_count": 14,
     "metadata": {},
     "output_type": "execute_result"
    }
   ],
   "source": [
    "se_isri_unq = unique_keys(isri_sheet, 'Source Entity')\n",
    "se_isri_unq"
   ]
  },
  {
   "cell_type": "code",
   "execution_count": 15,
   "id": "c9b7a7c0",
   "metadata": {},
   "outputs": [
    {
     "data": {
      "text/plain": [
       "array(['full_community_id', 'name'], dtype='<U17')"
      ]
     },
     "execution_count": 15,
     "metadata": {},
     "output_type": "execute_result"
    }
   ],
   "source": [
    "se_materials_unq = unique_keys(materials_sheet, 'Source Entity')\n",
    "se_materials_unq"
   ]
  },
  {
   "cell_type": "code",
   "execution_count": 16,
   "id": "9f537d2b",
   "metadata": {},
   "outputs": [
    {
     "data": {
      "text/plain": [
       "array(['full_community_id', 'name'], dtype='<U17')"
      ]
     },
     "execution_count": 16,
     "metadata": {},
     "output_type": "execute_result"
    }
   ],
   "source": [
    "se_process_unq = unique_keys(process_sheet, 'Source Entity')\n",
    "se_process_unq"
   ]
  },
  {
   "cell_type": "code",
   "execution_count": null,
   "id": "5e7a2866",
   "metadata": {},
   "outputs": [],
   "source": []
  },
  {
   "cell_type": "code",
   "execution_count": null,
   "id": "c0211825",
   "metadata": {},
   "outputs": [],
   "source": []
  },
  {
   "cell_type": "code",
   "execution_count": 17,
   "id": "8a518cbf",
   "metadata": {},
   "outputs": [
    {
     "data": {
      "text/plain": [
       "array(['Categorisation', 'Category', 'Description', 'Dimensions', 'Form',\n",
       "       'Free_of', 'Material', 'Specifications', 'Title', 'ewc',\n",
       "       'finalValue', 'full_community_id', 'name', 'orderCount',\n",
       "       'startingValue', 'startingWeight', 'waste', 'wastePercentage'],\n",
       "      dtype='<U17')"
      ]
     },
     "execution_count": 17,
     "metadata": {},
     "output_type": "execute_result"
    }
   ],
   "source": [
    "te_anamet_unq = unique_keys(anamet_sheet, 'Target Entity')\n",
    "te_anamet_unq"
   ]
  },
  {
   "cell_type": "code",
   "execution_count": 18,
   "id": "cdb3f182",
   "metadata": {},
   "outputs": [
    {
     "data": {
      "text/plain": [
       "array(['Ar', 'AtomicNumber', 'Density', 'MeltingPoint', 'Symbol',\n",
       "       'full_community_id', 'name'], dtype='<U17')"
      ]
     },
     "execution_count": 18,
     "metadata": {},
     "output_type": "execute_result"
    }
   ],
   "source": [
    "te_uns_unq = unique_keys(uns_sheet, 'Target Entity')\n",
    "te_uns_unq"
   ]
  },
  {
   "cell_type": "code",
   "execution_count": 19,
   "id": "3eafcc6a",
   "metadata": {},
   "outputs": [
    {
     "data": {
      "text/plain": [
       "array(['Ar', 'AtomicNumber', 'Category', 'Density', 'EDescription',\n",
       "       'GDescription', 'MeltingPoint', 'Series', 'Symbol',\n",
       "       'full_community_id', 'name'], dtype='<U17')"
      ]
     },
     "execution_count": 19,
     "metadata": {},
     "output_type": "execute_result"
    }
   ],
   "source": [
    "te_isri_unq = unique_keys(isri_sheet, 'Target Entity')\n",
    "te_isri_unq"
   ]
  },
  {
   "cell_type": "code",
   "execution_count": 20,
   "id": "bb92b0fe",
   "metadata": {},
   "outputs": [
    {
     "data": {
      "text/plain": [
       "array(['Ar', 'AtomicNumber', 'Categorisation', 'Density', 'Dimensions',\n",
       "       'Form', 'Free_of', 'Material', 'MeltingPoint', 'Series',\n",
       "       'Specifications', 'Symbol', 'Title', 'full_community_id', 'name'],\n",
       "      dtype='<U17')"
      ]
     },
     "execution_count": 20,
     "metadata": {},
     "output_type": "execute_result"
    }
   ],
   "source": [
    "te_materials_unq = unique_keys(materials_sheet, 'Target Entity')\n",
    "te_materials_unq"
   ]
  },
  {
   "cell_type": "code",
   "execution_count": 21,
   "id": "d49a6b04",
   "metadata": {},
   "outputs": [
    {
     "data": {
      "text/plain": [
       "array(['Categorisation', 'Category', 'Description', 'Dimensions',\n",
       "       'EDescription', 'Form', 'Free_of', 'GDescription', 'Material',\n",
       "       'Specifications', 'Title', 'full_community_id', 'name'],\n",
       "      dtype='<U17')"
      ]
     },
     "execution_count": 21,
     "metadata": {},
     "output_type": "execute_result"
    }
   ],
   "source": [
    "te_process_unq = unique_keys(process_sheet, 'Target Entity')\n",
    "te_process_unq"
   ]
  },
  {
   "cell_type": "code",
   "execution_count": null,
   "id": "c6b3c853",
   "metadata": {},
   "outputs": [],
   "source": []
  },
  {
   "cell_type": "code",
   "execution_count": null,
   "id": "b3cf2cb3",
   "metadata": {},
   "outputs": [],
   "source": []
  },
  {
   "cell_type": "markdown",
   "id": "059e54d7",
   "metadata": {},
   "source": [
    "# Analyze `UNS`"
   ]
  },
  {
   "cell_type": "code",
   "execution_count": 22,
   "id": "cd7dd9a0",
   "metadata": {},
   "outputs": [
    {
     "data": {
      "text/html": [
       "<div>\n",
       "<style scoped>\n",
       "    .dataframe tbody tr th:only-of-type {\n",
       "        vertical-align: middle;\n",
       "    }\n",
       "\n",
       "    .dataframe tbody tr th {\n",
       "        vertical-align: top;\n",
       "    }\n",
       "\n",
       "    .dataframe thead th {\n",
       "        text-align: right;\n",
       "    }\n",
       "</style>\n",
       "<table border=\"1\" class=\"dataframe\">\n",
       "  <thead>\n",
       "    <tr style=\"text-align: right;\">\n",
       "      <th></th>\n",
       "      <th>Source Entity</th>\n",
       "      <th>Target Entity</th>\n",
       "      <th>Relationship</th>\n",
       "    </tr>\n",
       "  </thead>\n",
       "  <tbody>\n",
       "    <tr>\n",
       "      <th>0</th>\n",
       "      <td>name:C83300,full_community_id:712</td>\n",
       "      <td>MeltingPoint:327.5,Ar:207.2,Symbol:Pb,name:LEA...</td>\n",
       "      <td>IS_COMPOSED_OF</td>\n",
       "    </tr>\n",
       "    <tr>\n",
       "      <th>1</th>\n",
       "      <td>name:C83300,full_community_id:712</td>\n",
       "      <td>MeltingPoint:231.9,Ar:118.71,Symbol:Sn,name:TI...</td>\n",
       "      <td>IS_COMPOSED_OF</td>\n",
       "    </tr>\n",
       "    <tr>\n",
       "      <th>2</th>\n",
       "      <td>name:C83300,full_community_id:712</td>\n",
       "      <td>MeltingPoint:1085,Ar:63.546,Symbol:Cu,name:COP...</td>\n",
       "      <td>IS_COMPOSED_OF</td>\n",
       "    </tr>\n",
       "    <tr>\n",
       "      <th>3</th>\n",
       "      <td>name:C83300,full_community_id:712</td>\n",
       "      <td>MeltingPoint:419.5,Ar:65.38,Symbol:Zn,name:ZIN...</td>\n",
       "      <td>IS_COMPOSED_OF</td>\n",
       "    </tr>\n",
       "    <tr>\n",
       "      <th>4</th>\n",
       "      <td>name:C83300,full_community_id:712</td>\n",
       "      <td>MeltingPoint:419.5,Ar:65.38,Symbol:Zn,name:ZIN...</td>\n",
       "      <td>IS_COMPOSED_OF</td>\n",
       "    </tr>\n",
       "  </tbody>\n",
       "</table>\n",
       "</div>"
      ],
      "text/plain": [
       "                       Source Entity  \\\n",
       "0  name:C83300,full_community_id:712   \n",
       "1  name:C83300,full_community_id:712   \n",
       "2  name:C83300,full_community_id:712   \n",
       "3  name:C83300,full_community_id:712   \n",
       "4  name:C83300,full_community_id:712   \n",
       "\n",
       "                                       Target Entity    Relationship  \n",
       "0  MeltingPoint:327.5,Ar:207.2,Symbol:Pb,name:LEA...  IS_COMPOSED_OF  \n",
       "1  MeltingPoint:231.9,Ar:118.71,Symbol:Sn,name:TI...  IS_COMPOSED_OF  \n",
       "2  MeltingPoint:1085,Ar:63.546,Symbol:Cu,name:COP...  IS_COMPOSED_OF  \n",
       "3  MeltingPoint:419.5,Ar:65.38,Symbol:Zn,name:ZIN...  IS_COMPOSED_OF  \n",
       "4  MeltingPoint:419.5,Ar:65.38,Symbol:Zn,name:ZIN...  IS_COMPOSED_OF  "
      ]
     },
     "execution_count": 22,
     "metadata": {},
     "output_type": "execute_result"
    }
   ],
   "source": [
    "uns_sheet.head()"
   ]
  },
  {
   "cell_type": "markdown",
   "id": "ce815897",
   "metadata": {},
   "source": [
    "### Create columns for `se_uns_unq`"
   ]
  },
  {
   "cell_type": "code",
   "execution_count": 23,
   "id": "dfebc07d",
   "metadata": {},
   "outputs": [
    {
     "data": {
      "text/plain": [
       "array(['full_community_id', 'name'], dtype='<U17')"
      ]
     },
     "execution_count": 23,
     "metadata": {},
     "output_type": "execute_result"
    }
   ],
   "source": [
    "se_uns_unq"
   ]
  },
  {
   "cell_type": "code",
   "execution_count": 24,
   "id": "68d14682",
   "metadata": {},
   "outputs": [],
   "source": [
    "for col in se_uns_unq:\n",
    "    uns_sheet[col+\"_src\"] = np.nan"
   ]
  },
  {
   "cell_type": "markdown",
   "id": "1ddf3faf",
   "metadata": {},
   "source": [
    "Fill the above columns"
   ]
  },
  {
   "cell_type": "code",
   "execution_count": 25,
   "id": "2d14ade6",
   "metadata": {},
   "outputs": [
    {
     "name": "stderr",
     "output_type": "stream",
     "text": [
      "  0%|                                                  | 0/7118 [00:00<?, ?it/s]/tmp/ipykernel_12998/786414604.py:10: SettingWithCopyWarning: \n",
      "A value is trying to be set on a copy of a slice from a DataFrame\n",
      "\n",
      "See the caveats in the documentation: https://pandas.pydata.org/pandas-docs/stable/user_guide/indexing.html#returning-a-view-versus-a-copy\n",
      "  uns_sheet[col_name].iloc[row] = value\n",
      "100%|███████████████████████████████████████| 7118/7118 [03:51<00:00, 30.73it/s]\n"
     ]
    }
   ],
   "source": [
    "for row in tqdm(range(len(uns_sheet))):\n",
    "    \n",
    "    length = len(uns_sheet['Source Entity'].str.split(',').iloc[row])\n",
    "    \n",
    "    for j in range(length):\n",
    "        \n",
    "        col_name = uns_sheet['Source Entity'].str.split(',').iloc[row][j].split(':')[0]+'_src'\n",
    "        value = uns_sheet['Source Entity'].str.split(',').iloc[row][j].split(':')[1]\n",
    "        \n",
    "        uns_sheet[col_name].iloc[row] = value\n",
    "        \n",
    "uns_sheet.drop('Source Entity', axis=1, inplace=True)"
   ]
  },
  {
   "cell_type": "code",
   "execution_count": 26,
   "id": "2b1fd328",
   "metadata": {},
   "outputs": [
    {
     "data": {
      "text/html": [
       "<div>\n",
       "<style scoped>\n",
       "    .dataframe tbody tr th:only-of-type {\n",
       "        vertical-align: middle;\n",
       "    }\n",
       "\n",
       "    .dataframe tbody tr th {\n",
       "        vertical-align: top;\n",
       "    }\n",
       "\n",
       "    .dataframe thead th {\n",
       "        text-align: right;\n",
       "    }\n",
       "</style>\n",
       "<table border=\"1\" class=\"dataframe\">\n",
       "  <thead>\n",
       "    <tr style=\"text-align: right;\">\n",
       "      <th></th>\n",
       "      <th>Target Entity</th>\n",
       "      <th>Relationship</th>\n",
       "      <th>full_community_id_src</th>\n",
       "      <th>name_src</th>\n",
       "    </tr>\n",
       "  </thead>\n",
       "  <tbody>\n",
       "    <tr>\n",
       "      <th>0</th>\n",
       "      <td>MeltingPoint:327.5,Ar:207.2,Symbol:Pb,name:LEA...</td>\n",
       "      <td>IS_COMPOSED_OF</td>\n",
       "      <td>712</td>\n",
       "      <td>C83300</td>\n",
       "    </tr>\n",
       "    <tr>\n",
       "      <th>1</th>\n",
       "      <td>MeltingPoint:231.9,Ar:118.71,Symbol:Sn,name:TI...</td>\n",
       "      <td>IS_COMPOSED_OF</td>\n",
       "      <td>712</td>\n",
       "      <td>C83300</td>\n",
       "    </tr>\n",
       "  </tbody>\n",
       "</table>\n",
       "</div>"
      ],
      "text/plain": [
       "                                       Target Entity    Relationship  \\\n",
       "0  MeltingPoint:327.5,Ar:207.2,Symbol:Pb,name:LEA...  IS_COMPOSED_OF   \n",
       "1  MeltingPoint:231.9,Ar:118.71,Symbol:Sn,name:TI...  IS_COMPOSED_OF   \n",
       "\n",
       "  full_community_id_src name_src  \n",
       "0                   712   C83300  \n",
       "1                   712   C83300  "
      ]
     },
     "execution_count": 26,
     "metadata": {},
     "output_type": "execute_result"
    }
   ],
   "source": [
    "uns_sheet.head(2)"
   ]
  },
  {
   "cell_type": "markdown",
   "id": "42a73a35",
   "metadata": {},
   "source": [
    "### Create columns for `te_uns_unq`"
   ]
  },
  {
   "cell_type": "code",
   "execution_count": 27,
   "id": "b3d0f326",
   "metadata": {},
   "outputs": [
    {
     "data": {
      "text/plain": [
       "array(['Ar', 'AtomicNumber', 'Density', 'MeltingPoint', 'Symbol',\n",
       "       'full_community_id', 'name'], dtype='<U17')"
      ]
     },
     "execution_count": 27,
     "metadata": {},
     "output_type": "execute_result"
    }
   ],
   "source": [
    "te_uns_unq"
   ]
  },
  {
   "cell_type": "code",
   "execution_count": 28,
   "id": "097daa59",
   "metadata": {},
   "outputs": [],
   "source": [
    "for col in te_uns_unq:\n",
    "    uns_sheet[col+\"_trg\"] = np.nan"
   ]
  },
  {
   "cell_type": "markdown",
   "id": "ab99f1c0",
   "metadata": {},
   "source": [
    "Fill the above columns"
   ]
  },
  {
   "cell_type": "code",
   "execution_count": 29,
   "id": "322fadcb",
   "metadata": {},
   "outputs": [
    {
     "data": {
      "text/html": [
       "<div>\n",
       "<style scoped>\n",
       "    .dataframe tbody tr th:only-of-type {\n",
       "        vertical-align: middle;\n",
       "    }\n",
       "\n",
       "    .dataframe tbody tr th {\n",
       "        vertical-align: top;\n",
       "    }\n",
       "\n",
       "    .dataframe thead th {\n",
       "        text-align: right;\n",
       "    }\n",
       "</style>\n",
       "<table border=\"1\" class=\"dataframe\">\n",
       "  <thead>\n",
       "    <tr style=\"text-align: right;\">\n",
       "      <th></th>\n",
       "      <th>Target Entity</th>\n",
       "      <th>Relationship</th>\n",
       "      <th>full_community_id_src</th>\n",
       "      <th>name_src</th>\n",
       "      <th>Ar_trg</th>\n",
       "      <th>AtomicNumber_trg</th>\n",
       "      <th>Density_trg</th>\n",
       "      <th>MeltingPoint_trg</th>\n",
       "      <th>Symbol_trg</th>\n",
       "      <th>full_community_id_trg</th>\n",
       "      <th>name_trg</th>\n",
       "    </tr>\n",
       "  </thead>\n",
       "  <tbody>\n",
       "    <tr>\n",
       "      <th>0</th>\n",
       "      <td>MeltingPoint:327.5,Ar:207.2,Symbol:Pb,name:LEA...</td>\n",
       "      <td>IS_COMPOSED_OF</td>\n",
       "      <td>712</td>\n",
       "      <td>C83300</td>\n",
       "      <td>NaN</td>\n",
       "      <td>NaN</td>\n",
       "      <td>NaN</td>\n",
       "      <td>NaN</td>\n",
       "      <td>NaN</td>\n",
       "      <td>NaN</td>\n",
       "      <td>NaN</td>\n",
       "    </tr>\n",
       "    <tr>\n",
       "      <th>1</th>\n",
       "      <td>MeltingPoint:231.9,Ar:118.71,Symbol:Sn,name:TI...</td>\n",
       "      <td>IS_COMPOSED_OF</td>\n",
       "      <td>712</td>\n",
       "      <td>C83300</td>\n",
       "      <td>NaN</td>\n",
       "      <td>NaN</td>\n",
       "      <td>NaN</td>\n",
       "      <td>NaN</td>\n",
       "      <td>NaN</td>\n",
       "      <td>NaN</td>\n",
       "      <td>NaN</td>\n",
       "    </tr>\n",
       "    <tr>\n",
       "      <th>2</th>\n",
       "      <td>MeltingPoint:1085,Ar:63.546,Symbol:Cu,name:COP...</td>\n",
       "      <td>IS_COMPOSED_OF</td>\n",
       "      <td>712</td>\n",
       "      <td>C83300</td>\n",
       "      <td>NaN</td>\n",
       "      <td>NaN</td>\n",
       "      <td>NaN</td>\n",
       "      <td>NaN</td>\n",
       "      <td>NaN</td>\n",
       "      <td>NaN</td>\n",
       "      <td>NaN</td>\n",
       "    </tr>\n",
       "    <tr>\n",
       "      <th>3</th>\n",
       "      <td>MeltingPoint:419.5,Ar:65.38,Symbol:Zn,name:ZIN...</td>\n",
       "      <td>IS_COMPOSED_OF</td>\n",
       "      <td>712</td>\n",
       "      <td>C83300</td>\n",
       "      <td>NaN</td>\n",
       "      <td>NaN</td>\n",
       "      <td>NaN</td>\n",
       "      <td>NaN</td>\n",
       "      <td>NaN</td>\n",
       "      <td>NaN</td>\n",
       "      <td>NaN</td>\n",
       "    </tr>\n",
       "    <tr>\n",
       "      <th>4</th>\n",
       "      <td>MeltingPoint:419.5,Ar:65.38,Symbol:Zn,name:ZIN...</td>\n",
       "      <td>IS_COMPOSED_OF</td>\n",
       "      <td>712</td>\n",
       "      <td>C83300</td>\n",
       "      <td>NaN</td>\n",
       "      <td>NaN</td>\n",
       "      <td>NaN</td>\n",
       "      <td>NaN</td>\n",
       "      <td>NaN</td>\n",
       "      <td>NaN</td>\n",
       "      <td>NaN</td>\n",
       "    </tr>\n",
       "    <tr>\n",
       "      <th>...</th>\n",
       "      <td>...</td>\n",
       "      <td>...</td>\n",
       "      <td>...</td>\n",
       "      <td>...</td>\n",
       "      <td>...</td>\n",
       "      <td>...</td>\n",
       "      <td>...</td>\n",
       "      <td>...</td>\n",
       "      <td>...</td>\n",
       "      <td>...</td>\n",
       "      <td>...</td>\n",
       "    </tr>\n",
       "    <tr>\n",
       "      <th>7113</th>\n",
       "      <td>MeltingPoint:1085,Ar:63.546,Symbol:Cu,name:COP...</td>\n",
       "      <td>IS_COMPOSED_OF</td>\n",
       "      <td>1961</td>\n",
       "      <td>C11907</td>\n",
       "      <td>NaN</td>\n",
       "      <td>NaN</td>\n",
       "      <td>NaN</td>\n",
       "      <td>NaN</td>\n",
       "      <td>NaN</td>\n",
       "      <td>NaN</td>\n",
       "      <td>NaN</td>\n",
       "    </tr>\n",
       "    <tr>\n",
       "      <th>7114</th>\n",
       "      <td>MeltingPoint:961.8,Ar:107.8682,Symbol:Ag,name:...</td>\n",
       "      <td>IS_COMPOSED_OF</td>\n",
       "      <td>1961</td>\n",
       "      <td>C11907</td>\n",
       "      <td>NaN</td>\n",
       "      <td>NaN</td>\n",
       "      <td>NaN</td>\n",
       "      <td>NaN</td>\n",
       "      <td>NaN</td>\n",
       "      <td>NaN</td>\n",
       "      <td>NaN</td>\n",
       "    </tr>\n",
       "    <tr>\n",
       "      <th>7115</th>\n",
       "      <td>MeltingPoint:1085,Ar:63.546,Symbol:Cu,name:COP...</td>\n",
       "      <td>IS_COMPOSED_OF</td>\n",
       "      <td>1962</td>\n",
       "      <td>C13100</td>\n",
       "      <td>NaN</td>\n",
       "      <td>NaN</td>\n",
       "      <td>NaN</td>\n",
       "      <td>NaN</td>\n",
       "      <td>NaN</td>\n",
       "      <td>NaN</td>\n",
       "      <td>NaN</td>\n",
       "    </tr>\n",
       "    <tr>\n",
       "      <th>7116</th>\n",
       "      <td>MeltingPoint:1085,Ar:63.546,Symbol:Cu,name:COP...</td>\n",
       "      <td>IS_COMPOSED_OF</td>\n",
       "      <td>1963</td>\n",
       "      <td>C13150</td>\n",
       "      <td>NaN</td>\n",
       "      <td>NaN</td>\n",
       "      <td>NaN</td>\n",
       "      <td>NaN</td>\n",
       "      <td>NaN</td>\n",
       "      <td>NaN</td>\n",
       "      <td>NaN</td>\n",
       "    </tr>\n",
       "    <tr>\n",
       "      <th>7117</th>\n",
       "      <td>MeltingPoint:1085,Ar:63.546,Symbol:Cu,name:COP...</td>\n",
       "      <td>IS_COMPOSED_OF</td>\n",
       "      <td>1964</td>\n",
       "      <td>C14730</td>\n",
       "      <td>NaN</td>\n",
       "      <td>NaN</td>\n",
       "      <td>NaN</td>\n",
       "      <td>NaN</td>\n",
       "      <td>NaN</td>\n",
       "      <td>NaN</td>\n",
       "      <td>NaN</td>\n",
       "    </tr>\n",
       "  </tbody>\n",
       "</table>\n",
       "<p>7118 rows × 11 columns</p>\n",
       "</div>"
      ],
      "text/plain": [
       "                                          Target Entity    Relationship  \\\n",
       "0     MeltingPoint:327.5,Ar:207.2,Symbol:Pb,name:LEA...  IS_COMPOSED_OF   \n",
       "1     MeltingPoint:231.9,Ar:118.71,Symbol:Sn,name:TI...  IS_COMPOSED_OF   \n",
       "2     MeltingPoint:1085,Ar:63.546,Symbol:Cu,name:COP...  IS_COMPOSED_OF   \n",
       "3     MeltingPoint:419.5,Ar:65.38,Symbol:Zn,name:ZIN...  IS_COMPOSED_OF   \n",
       "4     MeltingPoint:419.5,Ar:65.38,Symbol:Zn,name:ZIN...  IS_COMPOSED_OF   \n",
       "...                                                 ...             ...   \n",
       "7113  MeltingPoint:1085,Ar:63.546,Symbol:Cu,name:COP...  IS_COMPOSED_OF   \n",
       "7114  MeltingPoint:961.8,Ar:107.8682,Symbol:Ag,name:...  IS_COMPOSED_OF   \n",
       "7115  MeltingPoint:1085,Ar:63.546,Symbol:Cu,name:COP...  IS_COMPOSED_OF   \n",
       "7116  MeltingPoint:1085,Ar:63.546,Symbol:Cu,name:COP...  IS_COMPOSED_OF   \n",
       "7117  MeltingPoint:1085,Ar:63.546,Symbol:Cu,name:COP...  IS_COMPOSED_OF   \n",
       "\n",
       "     full_community_id_src name_src  Ar_trg  AtomicNumber_trg  Density_trg  \\\n",
       "0                      712   C83300     NaN               NaN          NaN   \n",
       "1                      712   C83300     NaN               NaN          NaN   \n",
       "2                      712   C83300     NaN               NaN          NaN   \n",
       "3                      712   C83300     NaN               NaN          NaN   \n",
       "4                      712   C83300     NaN               NaN          NaN   \n",
       "...                    ...      ...     ...               ...          ...   \n",
       "7113                  1961   C11907     NaN               NaN          NaN   \n",
       "7114                  1961   C11907     NaN               NaN          NaN   \n",
       "7115                  1962   C13100     NaN               NaN          NaN   \n",
       "7116                  1963   C13150     NaN               NaN          NaN   \n",
       "7117                  1964   C14730     NaN               NaN          NaN   \n",
       "\n",
       "      MeltingPoint_trg  Symbol_trg  full_community_id_trg  name_trg  \n",
       "0                  NaN         NaN                    NaN       NaN  \n",
       "1                  NaN         NaN                    NaN       NaN  \n",
       "2                  NaN         NaN                    NaN       NaN  \n",
       "3                  NaN         NaN                    NaN       NaN  \n",
       "4                  NaN         NaN                    NaN       NaN  \n",
       "...                ...         ...                    ...       ...  \n",
       "7113               NaN         NaN                    NaN       NaN  \n",
       "7114               NaN         NaN                    NaN       NaN  \n",
       "7115               NaN         NaN                    NaN       NaN  \n",
       "7116               NaN         NaN                    NaN       NaN  \n",
       "7117               NaN         NaN                    NaN       NaN  \n",
       "\n",
       "[7118 rows x 11 columns]"
      ]
     },
     "execution_count": 29,
     "metadata": {},
     "output_type": "execute_result"
    }
   ],
   "source": [
    "uns_sheet"
   ]
  },
  {
   "cell_type": "code",
   "execution_count": 30,
   "id": "6883926b",
   "metadata": {},
   "outputs": [
    {
     "name": "stderr",
     "output_type": "stream",
     "text": [
      "  0%|                                                  | 0/7118 [00:00<?, ?it/s]/tmp/ipykernel_12998/2543632640.py:11: SettingWithCopyWarning: \n",
      "A value is trying to be set on a copy of a slice from a DataFrame\n",
      "\n",
      "See the caveats in the documentation: https://pandas.pydata.org/pandas-docs/stable/user_guide/indexing.html#returning-a-view-versus-a-copy\n",
      "  df[col_name].iloc[row] = value\n",
      "100%|██████████████████████████████████████| 7118/7118 [00:07<00:00, 946.52it/s]\n"
     ]
    }
   ],
   "source": [
    "df = uns_sheet\n",
    "col = 'Target Entity'\n",
    "for row in tqdm(range(len(df))):\n",
    "    split_1 = len(df[col].iloc[row].split(':')) - 1\n",
    "\n",
    "    for i in range(0, split_1):\n",
    "        last_element = len(df[col].iloc[row].split(':')[i].split(',')) - 1\n",
    "        col_name = (df[col].iloc[row].split(':')[i].split(',')[last_element]+'_trg')    \n",
    "        value = (df[col].iloc[row].split(':')[i+1].split(',')[0])    \n",
    "\n",
    "        df[col_name].iloc[row] = value"
   ]
  },
  {
   "cell_type": "code",
   "execution_count": 31,
   "id": "8fa6713e",
   "metadata": {},
   "outputs": [
    {
     "data": {
      "text/html": [
       "<div>\n",
       "<style scoped>\n",
       "    .dataframe tbody tr th:only-of-type {\n",
       "        vertical-align: middle;\n",
       "    }\n",
       "\n",
       "    .dataframe tbody tr th {\n",
       "        vertical-align: top;\n",
       "    }\n",
       "\n",
       "    .dataframe thead th {\n",
       "        text-align: right;\n",
       "    }\n",
       "</style>\n",
       "<table border=\"1\" class=\"dataframe\">\n",
       "  <thead>\n",
       "    <tr style=\"text-align: right;\">\n",
       "      <th></th>\n",
       "      <th>Relationship</th>\n",
       "      <th>full_community_id_src</th>\n",
       "      <th>name_src</th>\n",
       "      <th>Ar_trg</th>\n",
       "      <th>AtomicNumber_trg</th>\n",
       "      <th>Density_trg</th>\n",
       "      <th>MeltingPoint_trg</th>\n",
       "      <th>Symbol_trg</th>\n",
       "      <th>full_community_id_trg</th>\n",
       "      <th>name_trg</th>\n",
       "    </tr>\n",
       "  </thead>\n",
       "  <tbody>\n",
       "    <tr>\n",
       "      <th>0</th>\n",
       "      <td>IS_COMPOSED_OF</td>\n",
       "      <td>712</td>\n",
       "      <td>C83300</td>\n",
       "      <td>207.2</td>\n",
       "      <td>82</td>\n",
       "      <td>11.29</td>\n",
       "      <td>327.5</td>\n",
       "      <td>Pb</td>\n",
       "      <td>329</td>\n",
       "      <td>LEAD</td>\n",
       "    </tr>\n",
       "    <tr>\n",
       "      <th>1</th>\n",
       "      <td>IS_COMPOSED_OF</td>\n",
       "      <td>712</td>\n",
       "      <td>C83300</td>\n",
       "      <td>118.71</td>\n",
       "      <td>50</td>\n",
       "      <td>5.75</td>\n",
       "      <td>231.9</td>\n",
       "      <td>Sn</td>\n",
       "      <td>326</td>\n",
       "      <td>TIN</td>\n",
       "    </tr>\n",
       "  </tbody>\n",
       "</table>\n",
       "</div>"
      ],
      "text/plain": [
       "     Relationship full_community_id_src name_src  Ar_trg AtomicNumber_trg  \\\n",
       "0  IS_COMPOSED_OF                   712   C83300   207.2               82   \n",
       "1  IS_COMPOSED_OF                   712   C83300  118.71               50   \n",
       "\n",
       "  Density_trg MeltingPoint_trg Symbol_trg full_community_id_trg name_trg  \n",
       "0       11.29            327.5         Pb                   329     LEAD  \n",
       "1        5.75            231.9         Sn                   326      TIN  "
      ]
     },
     "execution_count": 31,
     "metadata": {},
     "output_type": "execute_result"
    }
   ],
   "source": [
    "uns_sheet.drop('Target Entity', axis=1, inplace=True)\n",
    "uns_sheet.head(2)"
   ]
  },
  {
   "cell_type": "code",
   "execution_count": 32,
   "id": "a2434e76",
   "metadata": {},
   "outputs": [],
   "source": [
    "uns_sheet.to_csv('uns_df.csv')"
   ]
  },
  {
   "cell_type": "markdown",
   "id": "d6e856c6",
   "metadata": {},
   "source": [
    "## READ `UNS` DATA"
   ]
  },
  {
   "cell_type": "code",
   "execution_count": 33,
   "id": "b5415926",
   "metadata": {},
   "outputs": [
    {
     "data": {
      "text/html": [
       "<div>\n",
       "<style scoped>\n",
       "    .dataframe tbody tr th:only-of-type {\n",
       "        vertical-align: middle;\n",
       "    }\n",
       "\n",
       "    .dataframe tbody tr th {\n",
       "        vertical-align: top;\n",
       "    }\n",
       "\n",
       "    .dataframe thead th {\n",
       "        text-align: right;\n",
       "    }\n",
       "</style>\n",
       "<table border=\"1\" class=\"dataframe\">\n",
       "  <thead>\n",
       "    <tr style=\"text-align: right;\">\n",
       "      <th></th>\n",
       "      <th>Relationship</th>\n",
       "      <th>full_community_id_src</th>\n",
       "      <th>name_src</th>\n",
       "      <th>Ar_trg</th>\n",
       "      <th>AtomicNumber_trg</th>\n",
       "      <th>Density_trg</th>\n",
       "      <th>MeltingPoint_trg</th>\n",
       "      <th>Symbol_trg</th>\n",
       "      <th>full_community_id_trg</th>\n",
       "      <th>name_trg</th>\n",
       "    </tr>\n",
       "  </thead>\n",
       "  <tbody>\n",
       "    <tr>\n",
       "      <th>0</th>\n",
       "      <td>IS_COMPOSED_OF</td>\n",
       "      <td>712</td>\n",
       "      <td>C83300</td>\n",
       "      <td>207.2000</td>\n",
       "      <td>82.0</td>\n",
       "      <td>11.29</td>\n",
       "      <td>327.5</td>\n",
       "      <td>Pb</td>\n",
       "      <td>329</td>\n",
       "      <td>LEAD</td>\n",
       "    </tr>\n",
       "    <tr>\n",
       "      <th>1</th>\n",
       "      <td>IS_COMPOSED_OF</td>\n",
       "      <td>712</td>\n",
       "      <td>C83300</td>\n",
       "      <td>118.7100</td>\n",
       "      <td>50.0</td>\n",
       "      <td>5.75</td>\n",
       "      <td>231.9</td>\n",
       "      <td>Sn</td>\n",
       "      <td>326</td>\n",
       "      <td>TIN</td>\n",
       "    </tr>\n",
       "    <tr>\n",
       "      <th>2</th>\n",
       "      <td>IS_COMPOSED_OF</td>\n",
       "      <td>712</td>\n",
       "      <td>C83300</td>\n",
       "      <td>63.5460</td>\n",
       "      <td>29.0</td>\n",
       "      <td>8.96</td>\n",
       "      <td>1085</td>\n",
       "      <td>Cu</td>\n",
       "      <td>319</td>\n",
       "      <td>COPPER</td>\n",
       "    </tr>\n",
       "    <tr>\n",
       "      <th>3</th>\n",
       "      <td>IS_COMPOSED_OF</td>\n",
       "      <td>712</td>\n",
       "      <td>C83300</td>\n",
       "      <td>65.3800</td>\n",
       "      <td>30.0</td>\n",
       "      <td>7.13</td>\n",
       "      <td>419.5</td>\n",
       "      <td>Zn</td>\n",
       "      <td>328</td>\n",
       "      <td>ZINC</td>\n",
       "    </tr>\n",
       "    <tr>\n",
       "      <th>4</th>\n",
       "      <td>IS_COMPOSED_OF</td>\n",
       "      <td>712</td>\n",
       "      <td>C83300</td>\n",
       "      <td>65.3800</td>\n",
       "      <td>30.0</td>\n",
       "      <td>7.13</td>\n",
       "      <td>419.5</td>\n",
       "      <td>Zn</td>\n",
       "      <td>328</td>\n",
       "      <td>ZINC</td>\n",
       "    </tr>\n",
       "    <tr>\n",
       "      <th>...</th>\n",
       "      <td>...</td>\n",
       "      <td>...</td>\n",
       "      <td>...</td>\n",
       "      <td>...</td>\n",
       "      <td>...</td>\n",
       "      <td>...</td>\n",
       "      <td>...</td>\n",
       "      <td>...</td>\n",
       "      <td>...</td>\n",
       "      <td>...</td>\n",
       "    </tr>\n",
       "    <tr>\n",
       "      <th>7113</th>\n",
       "      <td>IS_COMPOSED_OF</td>\n",
       "      <td>1961</td>\n",
       "      <td>C11907</td>\n",
       "      <td>63.5460</td>\n",
       "      <td>29.0</td>\n",
       "      <td>8.96</td>\n",
       "      <td>1085</td>\n",
       "      <td>Cu</td>\n",
       "      <td>319</td>\n",
       "      <td>COPPER</td>\n",
       "    </tr>\n",
       "    <tr>\n",
       "      <th>7114</th>\n",
       "      <td>IS_COMPOSED_OF</td>\n",
       "      <td>1961</td>\n",
       "      <td>C11907</td>\n",
       "      <td>107.8682</td>\n",
       "      <td>47.0</td>\n",
       "      <td>10.49</td>\n",
       "      <td>961.8</td>\n",
       "      <td>Ag</td>\n",
       "      <td>429</td>\n",
       "      <td>SILVER</td>\n",
       "    </tr>\n",
       "    <tr>\n",
       "      <th>7115</th>\n",
       "      <td>IS_COMPOSED_OF</td>\n",
       "      <td>1962</td>\n",
       "      <td>C13100</td>\n",
       "      <td>63.5460</td>\n",
       "      <td>29.0</td>\n",
       "      <td>8.96</td>\n",
       "      <td>1085</td>\n",
       "      <td>Cu</td>\n",
       "      <td>319</td>\n",
       "      <td>COPPER</td>\n",
       "    </tr>\n",
       "    <tr>\n",
       "      <th>7116</th>\n",
       "      <td>IS_COMPOSED_OF</td>\n",
       "      <td>1963</td>\n",
       "      <td>C13150</td>\n",
       "      <td>63.5460</td>\n",
       "      <td>29.0</td>\n",
       "      <td>8.96</td>\n",
       "      <td>1085</td>\n",
       "      <td>Cu</td>\n",
       "      <td>319</td>\n",
       "      <td>COPPER</td>\n",
       "    </tr>\n",
       "    <tr>\n",
       "      <th>7117</th>\n",
       "      <td>IS_COMPOSED_OF</td>\n",
       "      <td>1964</td>\n",
       "      <td>C14730</td>\n",
       "      <td>63.5460</td>\n",
       "      <td>29.0</td>\n",
       "      <td>8.96</td>\n",
       "      <td>1085</td>\n",
       "      <td>Cu</td>\n",
       "      <td>319</td>\n",
       "      <td>COPPER</td>\n",
       "    </tr>\n",
       "  </tbody>\n",
       "</table>\n",
       "<p>7118 rows × 10 columns</p>\n",
       "</div>"
      ],
      "text/plain": [
       "        Relationship  full_community_id_src name_src    Ar_trg  \\\n",
       "0     IS_COMPOSED_OF                    712   C83300  207.2000   \n",
       "1     IS_COMPOSED_OF                    712   C83300  118.7100   \n",
       "2     IS_COMPOSED_OF                    712   C83300   63.5460   \n",
       "3     IS_COMPOSED_OF                    712   C83300   65.3800   \n",
       "4     IS_COMPOSED_OF                    712   C83300   65.3800   \n",
       "...              ...                    ...      ...       ...   \n",
       "7113  IS_COMPOSED_OF                   1961   C11907   63.5460   \n",
       "7114  IS_COMPOSED_OF                   1961   C11907  107.8682   \n",
       "7115  IS_COMPOSED_OF                   1962   C13100   63.5460   \n",
       "7116  IS_COMPOSED_OF                   1963   C13150   63.5460   \n",
       "7117  IS_COMPOSED_OF                   1964   C14730   63.5460   \n",
       "\n",
       "      AtomicNumber_trg Density_trg MeltingPoint_trg Symbol_trg  \\\n",
       "0                 82.0       11.29            327.5         Pb   \n",
       "1                 50.0        5.75            231.9         Sn   \n",
       "2                 29.0        8.96             1085         Cu   \n",
       "3                 30.0        7.13            419.5         Zn   \n",
       "4                 30.0        7.13            419.5         Zn   \n",
       "...                ...         ...              ...        ...   \n",
       "7113              29.0        8.96             1085         Cu   \n",
       "7114              47.0       10.49            961.8         Ag   \n",
       "7115              29.0        8.96             1085         Cu   \n",
       "7116              29.0        8.96             1085         Cu   \n",
       "7117              29.0        8.96             1085         Cu   \n",
       "\n",
       "      full_community_id_trg name_trg  \n",
       "0                       329     LEAD  \n",
       "1                       326      TIN  \n",
       "2                       319   COPPER  \n",
       "3                       328     ZINC  \n",
       "4                       328     ZINC  \n",
       "...                     ...      ...  \n",
       "7113                    319   COPPER  \n",
       "7114                    429   SILVER  \n",
       "7115                    319   COPPER  \n",
       "7116                    319   COPPER  \n",
       "7117                    319   COPPER  \n",
       "\n",
       "[7118 rows x 10 columns]"
      ]
     },
     "execution_count": 33,
     "metadata": {},
     "output_type": "execute_result"
    }
   ],
   "source": [
    "uns_sheet = pd.read_csv('uns_df.csv', index_col=0)\n",
    "uns_sheet"
   ]
  },
  {
   "cell_type": "code",
   "execution_count": 34,
   "id": "2beb270d",
   "metadata": {},
   "outputs": [
    {
     "data": {
      "text/plain": [
       "IS_COMPOSED_OF    7118\n",
       "Name: Relationship, dtype: int64"
      ]
     },
     "execution_count": 34,
     "metadata": {},
     "output_type": "execute_result"
    }
   ],
   "source": [
    "uns_sheet['Relationship'].value_counts()"
   ]
  },
  {
   "cell_type": "markdown",
   "id": "de90fd05",
   "metadata": {},
   "source": [
    "Τι σημαίνει `IS_COMPOSED_OF` σε σχέση με τις columns?"
   ]
  },
  {
   "cell_type": "markdown",
   "id": "cfb01740",
   "metadata": {},
   "source": [
    "# Analyze `Materials`"
   ]
  },
  {
   "cell_type": "code",
   "execution_count": 35,
   "id": "831cc4d6",
   "metadata": {},
   "outputs": [
    {
     "data": {
      "text/html": [
       "<div>\n",
       "<style scoped>\n",
       "    .dataframe tbody tr th:only-of-type {\n",
       "        vertical-align: middle;\n",
       "    }\n",
       "\n",
       "    .dataframe tbody tr th {\n",
       "        vertical-align: top;\n",
       "    }\n",
       "\n",
       "    .dataframe thead th {\n",
       "        text-align: right;\n",
       "    }\n",
       "</style>\n",
       "<table border=\"1\" class=\"dataframe\">\n",
       "  <thead>\n",
       "    <tr style=\"text-align: right;\">\n",
       "      <th></th>\n",
       "      <th>Source Entity</th>\n",
       "      <th>Target Entity</th>\n",
       "      <th>Relationship</th>\n",
       "    </tr>\n",
       "  </thead>\n",
       "  <tbody>\n",
       "    <tr>\n",
       "      <th>0</th>\n",
       "      <td>name:ALUMINUM,full_community_id:244</td>\n",
       "      <td>Free_of:paper, plastic, ink, and any other con...</td>\n",
       "      <td>IS_COMPOSED_OF</td>\n",
       "    </tr>\n",
       "    <tr>\n",
       "      <th>1</th>\n",
       "      <td>name:ALUMINUM,full_community_id:244</td>\n",
       "      <td>Free_of:paper, plastic, excessively inked shee...</td>\n",
       "      <td>IS_COMPOSED_OF</td>\n",
       "    </tr>\n",
       "    <tr>\n",
       "      <th>2</th>\n",
       "      <td>name:ALUMINUM,full_community_id:244</td>\n",
       "      <td>Free_of:Radioactive material, dross, or ash,Ca...</td>\n",
       "      <td>IS_COMPOSED_OF</td>\n",
       "    </tr>\n",
       "    <tr>\n",
       "      <th>3</th>\n",
       "      <td>name:ALUMINUM,full_community_id:244</td>\n",
       "      <td>Free_of:Radar chaff foil, chemically etched fo...</td>\n",
       "      <td>IS_COMPOSED_OF</td>\n",
       "    </tr>\n",
       "    <tr>\n",
       "      <th>4</th>\n",
       "      <td>name:ALUMINUM,full_community_id:244</td>\n",
       "      <td>Free_of:Hair wire, wire screen, dirt and other...</td>\n",
       "      <td>IS_COMPOSED_OF</td>\n",
       "    </tr>\n",
       "  </tbody>\n",
       "</table>\n",
       "</div>"
      ],
      "text/plain": [
       "                         Source Entity  \\\n",
       "0  name:ALUMINUM,full_community_id:244   \n",
       "1  name:ALUMINUM,full_community_id:244   \n",
       "2  name:ALUMINUM,full_community_id:244   \n",
       "3  name:ALUMINUM,full_community_id:244   \n",
       "4  name:ALUMINUM,full_community_id:244   \n",
       "\n",
       "                                       Target Entity    Relationship  \n",
       "0  Free_of:paper, plastic, ink, and any other con...  IS_COMPOSED_OF  \n",
       "1  Free_of:paper, plastic, excessively inked shee...  IS_COMPOSED_OF  \n",
       "2  Free_of:Radioactive material, dross, or ash,Ca...  IS_COMPOSED_OF  \n",
       "3  Free_of:Radar chaff foil, chemically etched fo...  IS_COMPOSED_OF  \n",
       "4  Free_of:Hair wire, wire screen, dirt and other...  IS_COMPOSED_OF  "
      ]
     },
     "execution_count": 35,
     "metadata": {},
     "output_type": "execute_result"
    }
   ],
   "source": [
    "materials_sheet.head()"
   ]
  },
  {
   "cell_type": "markdown",
   "id": "a5eff9bb",
   "metadata": {},
   "source": [
    "### Create columns for `se_materials_unq`"
   ]
  },
  {
   "cell_type": "code",
   "execution_count": 36,
   "id": "52415bf2",
   "metadata": {},
   "outputs": [
    {
     "data": {
      "text/plain": [
       "array(['full_community_id', 'name'], dtype='<U17')"
      ]
     },
     "execution_count": 36,
     "metadata": {},
     "output_type": "execute_result"
    }
   ],
   "source": [
    "se_materials_unq"
   ]
  },
  {
   "cell_type": "code",
   "execution_count": 37,
   "id": "2ed7fdd2",
   "metadata": {},
   "outputs": [],
   "source": [
    "for col in se_materials_unq:\n",
    "    materials_sheet[col+\"_src\"] = np.nan"
   ]
  },
  {
   "cell_type": "markdown",
   "id": "1ae90fc9",
   "metadata": {},
   "source": [
    "Fill the above columns"
   ]
  },
  {
   "cell_type": "code",
   "execution_count": 38,
   "id": "8cff165d",
   "metadata": {},
   "outputs": [
    {
     "name": "stderr",
     "output_type": "stream",
     "text": [
      "  0%|                                                   | 0/364 [00:00<?, ?it/s]/tmp/ipykernel_12998/3347723871.py:10: SettingWithCopyWarning: \n",
      "A value is trying to be set on a copy of a slice from a DataFrame\n",
      "\n",
      "See the caveats in the documentation: https://pandas.pydata.org/pandas-docs/stable/user_guide/indexing.html#returning-a-view-versus-a-copy\n",
      "  materials_sheet[col_name].iloc[row] = value\n",
      "100%|████████████████████████████████████████| 364/364 [00:00<00:00, 479.58it/s]\n"
     ]
    },
    {
     "data": {
      "text/html": [
       "<div>\n",
       "<style scoped>\n",
       "    .dataframe tbody tr th:only-of-type {\n",
       "        vertical-align: middle;\n",
       "    }\n",
       "\n",
       "    .dataframe tbody tr th {\n",
       "        vertical-align: top;\n",
       "    }\n",
       "\n",
       "    .dataframe thead th {\n",
       "        text-align: right;\n",
       "    }\n",
       "</style>\n",
       "<table border=\"1\" class=\"dataframe\">\n",
       "  <thead>\n",
       "    <tr style=\"text-align: right;\">\n",
       "      <th></th>\n",
       "      <th>Target Entity</th>\n",
       "      <th>Relationship</th>\n",
       "      <th>full_community_id_src</th>\n",
       "      <th>name_src</th>\n",
       "    </tr>\n",
       "  </thead>\n",
       "  <tbody>\n",
       "    <tr>\n",
       "      <th>0</th>\n",
       "      <td>Free_of:paper, plastic, ink, and any other con...</td>\n",
       "      <td>IS_COMPOSED_OF</td>\n",
       "      <td>244</td>\n",
       "      <td>ALUMINUM</td>\n",
       "    </tr>\n",
       "    <tr>\n",
       "      <th>1</th>\n",
       "      <td>Free_of:paper, plastic, excessively inked shee...</td>\n",
       "      <td>IS_COMPOSED_OF</td>\n",
       "      <td>244</td>\n",
       "      <td>ALUMINUM</td>\n",
       "    </tr>\n",
       "    <tr>\n",
       "      <th>2</th>\n",
       "      <td>Free_of:Radioactive material, dross, or ash,Ca...</td>\n",
       "      <td>IS_COMPOSED_OF</td>\n",
       "      <td>244</td>\n",
       "      <td>ALUMINUM</td>\n",
       "    </tr>\n",
       "    <tr>\n",
       "      <th>3</th>\n",
       "      <td>Free_of:Radar chaff foil, chemically etched fo...</td>\n",
       "      <td>IS_COMPOSED_OF</td>\n",
       "      <td>244</td>\n",
       "      <td>ALUMINUM</td>\n",
       "    </tr>\n",
       "    <tr>\n",
       "      <th>4</th>\n",
       "      <td>Free_of:Hair wire, wire screen, dirt and other...</td>\n",
       "      <td>IS_COMPOSED_OF</td>\n",
       "      <td>244</td>\n",
       "      <td>ALUMINUM</td>\n",
       "    </tr>\n",
       "  </tbody>\n",
       "</table>\n",
       "</div>"
      ],
      "text/plain": [
       "                                       Target Entity    Relationship  \\\n",
       "0  Free_of:paper, plastic, ink, and any other con...  IS_COMPOSED_OF   \n",
       "1  Free_of:paper, plastic, excessively inked shee...  IS_COMPOSED_OF   \n",
       "2  Free_of:Radioactive material, dross, or ash,Ca...  IS_COMPOSED_OF   \n",
       "3  Free_of:Radar chaff foil, chemically etched fo...  IS_COMPOSED_OF   \n",
       "4  Free_of:Hair wire, wire screen, dirt and other...  IS_COMPOSED_OF   \n",
       "\n",
       "  full_community_id_src  name_src  \n",
       "0                   244  ALUMINUM  \n",
       "1                   244  ALUMINUM  \n",
       "2                   244  ALUMINUM  \n",
       "3                   244  ALUMINUM  \n",
       "4                   244  ALUMINUM  "
      ]
     },
     "execution_count": 38,
     "metadata": {},
     "output_type": "execute_result"
    }
   ],
   "source": [
    "for row in tqdm(range(len(materials_sheet))):\n",
    "    \n",
    "    length = len(materials_sheet['Source Entity'].str.split(',').iloc[row])\n",
    "    \n",
    "    for j in range(length):\n",
    "        \n",
    "        col_name = materials_sheet['Source Entity'].str.split(',').iloc[row][j].split(':')[0]+'_src'\n",
    "        value = materials_sheet['Source Entity'].str.split(',').iloc[row][j].split(':')[1]\n",
    "        \n",
    "        materials_sheet[col_name].iloc[row] = value\n",
    "        \n",
    "materials_sheet.drop('Source Entity', axis=1, inplace=True)\n",
    "materials_sheet.head()"
   ]
  },
  {
   "cell_type": "markdown",
   "id": "2a3d2486",
   "metadata": {},
   "source": [
    "### Create columns for `te_materials_unq`"
   ]
  },
  {
   "cell_type": "code",
   "execution_count": 39,
   "id": "88cc7179",
   "metadata": {},
   "outputs": [
    {
     "data": {
      "text/plain": [
       "array(['Ar', 'AtomicNumber', 'Categorisation', 'Density', 'Dimensions',\n",
       "       'Form', 'Free_of', 'Material', 'MeltingPoint', 'Series',\n",
       "       'Specifications', 'Symbol', 'Title', 'full_community_id', 'name'],\n",
       "      dtype='<U17')"
      ]
     },
     "execution_count": 39,
     "metadata": {},
     "output_type": "execute_result"
    }
   ],
   "source": [
    "te_materials_unq"
   ]
  },
  {
   "cell_type": "code",
   "execution_count": 40,
   "id": "b8772713",
   "metadata": {},
   "outputs": [],
   "source": [
    "for col in te_materials_unq:\n",
    "    materials_sheet[col+\"_trg\"] = np.nan"
   ]
  },
  {
   "cell_type": "markdown",
   "id": "94cc9661",
   "metadata": {},
   "source": [
    "Fill the above columns"
   ]
  },
  {
   "cell_type": "code",
   "execution_count": 41,
   "id": "2096026b",
   "metadata": {
    "scrolled": true
   },
   "outputs": [
    {
     "name": "stderr",
     "output_type": "stream",
     "text": [
      "  0%|                                                   | 0/364 [00:00<?, ?it/s]/tmp/ipykernel_12998/887130170.py:18: SettingWithCopyWarning: \n",
      "A value is trying to be set on a copy of a slice from a DataFrame\n",
      "\n",
      "See the caveats in the documentation: https://pandas.pydata.org/pandas-docs/stable/user_guide/indexing.html#returning-a-view-versus-a-copy\n",
      "  df[col_name].iloc[row] = list(value_to_fill)\n",
      "100%|████████████████████████████████████████| 364/364 [00:00<00:00, 692.93it/s]\n"
     ]
    }
   ],
   "source": [
    "df = materials_sheet\n",
    "col = 'Target Entity'\n",
    "for row in tqdm(range(len(df))):\n",
    "    split_1 = len(df[col].iloc[row].split(':')) - 1\n",
    "\n",
    "    for i in range(0, split_1):\n",
    "        if(len(df[col].iloc[row].split(':')[i].split(',')) == 1):\n",
    "            last_element = len(df[col].iloc[row].split(':')[i].split(',')) - 1\n",
    "            col_name = (df[col].iloc[row].split(':')[i].split(',')[last_element]+'_trg')    \n",
    "            value = (df[col].iloc[row].split(':')[i+1].split(','))    \n",
    "\n",
    "        else:\n",
    "            last_element = len(df[col].iloc[row].split(':')[i].split(',')) - 1\n",
    "            col_name = (df[col].iloc[row].split(':')[i].split(',')[last_element]+'_trg')    \n",
    "            value = (df[col].iloc[row].split(':')[i+1].split(','))    \n",
    "        \n",
    "        value_to_fill = set(value) - set(te_materials_unq)\n",
    "        df[col_name].iloc[row] = list(value_to_fill)\n",
    "#         print(col_name, list(set(value) - set(te_materials_unq)))"
   ]
  },
  {
   "cell_type": "code",
   "execution_count": 42,
   "id": "0efa4ade",
   "metadata": {},
   "outputs": [
    {
     "data": {
      "text/html": [
       "<div>\n",
       "<style scoped>\n",
       "    .dataframe tbody tr th:only-of-type {\n",
       "        vertical-align: middle;\n",
       "    }\n",
       "\n",
       "    .dataframe tbody tr th {\n",
       "        vertical-align: top;\n",
       "    }\n",
       "\n",
       "    .dataframe thead th {\n",
       "        text-align: right;\n",
       "    }\n",
       "</style>\n",
       "<table border=\"1\" class=\"dataframe\">\n",
       "  <thead>\n",
       "    <tr style=\"text-align: right;\">\n",
       "      <th></th>\n",
       "      <th>Relationship</th>\n",
       "      <th>full_community_id_src</th>\n",
       "      <th>name_src</th>\n",
       "      <th>Ar_trg</th>\n",
       "      <th>AtomicNumber_trg</th>\n",
       "      <th>Categorisation_trg</th>\n",
       "      <th>Density_trg</th>\n",
       "      <th>Dimensions_trg</th>\n",
       "      <th>Form_trg</th>\n",
       "      <th>Free_of_trg</th>\n",
       "      <th>Material_trg</th>\n",
       "      <th>MeltingPoint_trg</th>\n",
       "      <th>Series_trg</th>\n",
       "      <th>Specifications_trg</th>\n",
       "      <th>Symbol_trg</th>\n",
       "      <th>Title_trg</th>\n",
       "      <th>full_community_id_trg</th>\n",
       "      <th>name_trg</th>\n",
       "    </tr>\n",
       "  </thead>\n",
       "  <tbody>\n",
       "    <tr>\n",
       "      <th>0</th>\n",
       "      <td>IS_COMPOSED_OF</td>\n",
       "      <td>244</td>\n",
       "      <td>ALUMINUM</td>\n",
       "      <td>NaN</td>\n",
       "      <td>NaN</td>\n",
       "      <td>[Nonferrous Scrap - Aluminum]</td>\n",
       "      <td>NaN</td>\n",
       "      <td>[Minimum size of 3� (8 cm) in any direction]</td>\n",
       "      <td>[Lithographic Sheets]</td>\n",
       "      <td>[ ink, paper,  and any other contaminants,  pl...</td>\n",
       "      <td>[Aluminum]</td>\n",
       "      <td>NaN</td>\n",
       "      <td>NaN</td>\n",
       "      <td>[New,  clean. To consist of 1000 and/or 3000 s...</td>\n",
       "      <td>NaN</td>\n",
       "      <td>[New,  Clean Aluminum Lithographic Sheets]</td>\n",
       "      <td>[51]</td>\n",
       "      <td>[Tabloid]</td>\n",
       "    </tr>\n",
       "    <tr>\n",
       "      <th>1</th>\n",
       "      <td>IS_COMPOSED_OF</td>\n",
       "      <td>244</td>\n",
       "      <td>ALUMINUM</td>\n",
       "      <td>NaN</td>\n",
       "      <td>NaN</td>\n",
       "      <td>[Nonferrous Scrap - Aluminum]</td>\n",
       "      <td>NaN</td>\n",
       "      <td>NaN</td>\n",
       "      <td>[Lithographic Sheets]</td>\n",
       "      <td>[paper,  excessively inked sheets,  and any ot...</td>\n",
       "      <td>[Aluminum ]</td>\n",
       "      <td>NaN</td>\n",
       "      <td>NaN</td>\n",
       "      <td>[Clean. To consist of 1000 and/or 3000 series ...</td>\n",
       "      <td>NaN</td>\n",
       "      <td>[Clean Aluminum Lithographic Sheets]</td>\n",
       "      <td>[50]</td>\n",
       "      <td>[Tablet]</td>\n",
       "    </tr>\n",
       "    <tr>\n",
       "      <th>2</th>\n",
       "      <td>IS_COMPOSED_OF</td>\n",
       "      <td>244</td>\n",
       "      <td>ALUMINUM</td>\n",
       "      <td>NaN</td>\n",
       "      <td>NaN</td>\n",
       "      <td>[Nonferrous Scrap - Aluminum]</td>\n",
       "      <td>NaN</td>\n",
       "      <td>NaN</td>\n",
       "      <td>[Nonferrous Scrap]</td>\n",
       "      <td>[Radioactive material,  or ash,  dross]</td>\n",
       "      <td>NaN</td>\n",
       "      <td>NaN</td>\n",
       "      <td>NaN</td>\n",
       "      <td>[ and zinc, Shall be made up of a combination ...</td>\n",
       "      <td>NaN</td>\n",
       "      <td>[Shredded Nonferrous Scrap (predominantly alum...</td>\n",
       "      <td>[97]</td>\n",
       "      <td>[Zorba]</td>\n",
       "    </tr>\n",
       "    <tr>\n",
       "      <th>3</th>\n",
       "      <td>IS_COMPOSED_OF</td>\n",
       "      <td>244</td>\n",
       "      <td>ALUMINUM</td>\n",
       "      <td>NaN</td>\n",
       "      <td>NaN</td>\n",
       "      <td>[Nonferrous Scrap - Aluminum]</td>\n",
       "      <td>NaN</td>\n",
       "      <td>NaN</td>\n",
       "      <td>[Foil]</td>\n",
       "      <td>[Radar chaff foil,  laminated foils,  iron,  c...</td>\n",
       "      <td>[Aluminum]</td>\n",
       "      <td>NaN</td>\n",
       "      <td>NaN</td>\n",
       "      <td>[ 3000 and 8000 series aluminum alloy. Materia...</td>\n",
       "      <td>NaN</td>\n",
       "      <td>[Post Consumer Aluminum Foil]</td>\n",
       "      <td>[79]</td>\n",
       "      <td>[Tesla]</td>\n",
       "    </tr>\n",
       "    <tr>\n",
       "      <th>4</th>\n",
       "      <td>IS_COMPOSED_OF</td>\n",
       "      <td>244</td>\n",
       "      <td>ALUMINUM</td>\n",
       "      <td>NaN</td>\n",
       "      <td>NaN</td>\n",
       "      <td>[Nonferrous Scrap - Aluminum]</td>\n",
       "      <td>NaN</td>\n",
       "      <td>[Minimum thickness of .015� (.38 mm)]</td>\n",
       "      <td>[Clippings and Solids]</td>\n",
       "      <td>[Hair wire,  dirt and other nonmetallic items....</td>\n",
       "      <td>[Aluminum]</td>\n",
       "      <td>NaN</td>\n",
       "      <td>NaN</td>\n",
       "      <td>[New,  clean,  uncoated and unpainted aluminum...</td>\n",
       "      <td>NaN</td>\n",
       "      <td>[Segregated New Aluminum Alloy Clippings and S...</td>\n",
       "      <td>[85]</td>\n",
       "      <td>[Tooth]</td>\n",
       "    </tr>\n",
       "    <tr>\n",
       "      <th>...</th>\n",
       "      <td>...</td>\n",
       "      <td>...</td>\n",
       "      <td>...</td>\n",
       "      <td>...</td>\n",
       "      <td>...</td>\n",
       "      <td>...</td>\n",
       "      <td>...</td>\n",
       "      <td>...</td>\n",
       "      <td>...</td>\n",
       "      <td>...</td>\n",
       "      <td>...</td>\n",
       "      <td>...</td>\n",
       "      <td>...</td>\n",
       "      <td>...</td>\n",
       "      <td>...</td>\n",
       "      <td>...</td>\n",
       "      <td>...</td>\n",
       "      <td>...</td>\n",
       "    </tr>\n",
       "    <tr>\n",
       "      <th>359</th>\n",
       "      <td>IS_COMPOSED_OF</td>\n",
       "      <td>707</td>\n",
       "      <td>MONEL</td>\n",
       "      <td>NaN</td>\n",
       "      <td>NaN</td>\n",
       "      <td>[Nonferrous Scrap - Nickel/Stainless/Hi Temp]</td>\n",
       "      <td>NaN</td>\n",
       "      <td>NaN</td>\n",
       "      <td>[Solids]</td>\n",
       "      <td>[ non-metallic filling,  foreign attachments, ...</td>\n",
       "      <td>[Monel ]</td>\n",
       "      <td>NaN</td>\n",
       "      <td>NaN</td>\n",
       "      <td>[Consist of soldered and/or brazed miscellaneo...</td>\n",
       "      <td>NaN</td>\n",
       "      <td>[Soldered Monel Sheet and Solids]</td>\n",
       "      <td>[137]</td>\n",
       "      <td>[Junto]</td>\n",
       "    </tr>\n",
       "    <tr>\n",
       "      <th>360</th>\n",
       "      <td>IS_COMPOSED_OF</td>\n",
       "      <td>707</td>\n",
       "      <td>MONEL</td>\n",
       "      <td>NaN</td>\n",
       "      <td>NaN</td>\n",
       "      <td>[Nonferrous Scrap - Nickel/Stainless/Hi Temp]</td>\n",
       "      <td>NaN</td>\n",
       "      <td>NaN</td>\n",
       "      <td>[Solids]</td>\n",
       "      <td>NaN</td>\n",
       "      <td>[K-Monel]</td>\n",
       "      <td>NaN</td>\n",
       "      <td>NaN</td>\n",
       "      <td>[Clean ]</td>\n",
       "      <td>NaN</td>\n",
       "      <td>[K-Monel Solids]</td>\n",
       "      <td>[136]</td>\n",
       "      <td>[Indian]</td>\n",
       "    </tr>\n",
       "    <tr>\n",
       "      <th>361</th>\n",
       "      <td>IS_COMPOSED_OF</td>\n",
       "      <td>707</td>\n",
       "      <td>MONEL</td>\n",
       "      <td>NaN</td>\n",
       "      <td>NaN</td>\n",
       "      <td>[Nonferrous Scrap - Nickel/Stainless/Hi Temp]</td>\n",
       "      <td>NaN</td>\n",
       "      <td>NaN</td>\n",
       "      <td>[ pipe,  tube,  bar,  rod,  other wrought scra...</td>\n",
       "      <td>[Foreign attachments or all other contamination.]</td>\n",
       "      <td>[R-Monel]</td>\n",
       "      <td>NaN</td>\n",
       "      <td>NaN</td>\n",
       "      <td>[ pipe,  tube,  bar,  rod,  or any other wroug...</td>\n",
       "      <td>NaN</td>\n",
       "      <td>[New R-Monel Clippings and Solids]</td>\n",
       "      <td>[133]</td>\n",
       "      <td>[Hitch]</td>\n",
       "    </tr>\n",
       "    <tr>\n",
       "      <th>362</th>\n",
       "      <td>IS_COMPOSED_OF</td>\n",
       "      <td>708</td>\n",
       "      <td>R-MONEL</td>\n",
       "      <td>NaN</td>\n",
       "      <td>NaN</td>\n",
       "      <td>[Nonferrous Scrap - Nickel/Stainless/Hi Temp]</td>\n",
       "      <td>NaN</td>\n",
       "      <td>NaN</td>\n",
       "      <td>[ pipe,  tube,  bar,  rod,  other wrought scra...</td>\n",
       "      <td>[Foreign attachments or all other contamination.]</td>\n",
       "      <td>[R-Monel]</td>\n",
       "      <td>NaN</td>\n",
       "      <td>NaN</td>\n",
       "      <td>[ pipe,  tube,  bar,  rod,  or any other wroug...</td>\n",
       "      <td>NaN</td>\n",
       "      <td>[New R-Monel Clippings and Solids]</td>\n",
       "      <td>[133]</td>\n",
       "      <td>[Hitch]</td>\n",
       "    </tr>\n",
       "    <tr>\n",
       "      <th>363</th>\n",
       "      <td>IS_COMPOSED_OF</td>\n",
       "      <td>709</td>\n",
       "      <td>K-MONEL</td>\n",
       "      <td>NaN</td>\n",
       "      <td>NaN</td>\n",
       "      <td>[Nonferrous Scrap - Nickel/Stainless/Hi Temp]</td>\n",
       "      <td>NaN</td>\n",
       "      <td>NaN</td>\n",
       "      <td>[Solids]</td>\n",
       "      <td>NaN</td>\n",
       "      <td>[K-Monel]</td>\n",
       "      <td>NaN</td>\n",
       "      <td>NaN</td>\n",
       "      <td>[Clean ]</td>\n",
       "      <td>NaN</td>\n",
       "      <td>[K-Monel Solids]</td>\n",
       "      <td>[136]</td>\n",
       "      <td>[Indian]</td>\n",
       "    </tr>\n",
       "  </tbody>\n",
       "</table>\n",
       "<p>364 rows × 18 columns</p>\n",
       "</div>"
      ],
      "text/plain": [
       "       Relationship full_community_id_src  name_src Ar_trg AtomicNumber_trg  \\\n",
       "0    IS_COMPOSED_OF                   244  ALUMINUM    NaN              NaN   \n",
       "1    IS_COMPOSED_OF                   244  ALUMINUM    NaN              NaN   \n",
       "2    IS_COMPOSED_OF                   244  ALUMINUM    NaN              NaN   \n",
       "3    IS_COMPOSED_OF                   244  ALUMINUM    NaN              NaN   \n",
       "4    IS_COMPOSED_OF                   244  ALUMINUM    NaN              NaN   \n",
       "..              ...                   ...       ...    ...              ...   \n",
       "359  IS_COMPOSED_OF                   707     MONEL    NaN              NaN   \n",
       "360  IS_COMPOSED_OF                   707     MONEL    NaN              NaN   \n",
       "361  IS_COMPOSED_OF                   707     MONEL    NaN              NaN   \n",
       "362  IS_COMPOSED_OF                   708   R-MONEL    NaN              NaN   \n",
       "363  IS_COMPOSED_OF                   709   K-MONEL    NaN              NaN   \n",
       "\n",
       "                                Categorisation_trg Density_trg  \\\n",
       "0                    [Nonferrous Scrap - Aluminum]         NaN   \n",
       "1                    [Nonferrous Scrap - Aluminum]         NaN   \n",
       "2                    [Nonferrous Scrap - Aluminum]         NaN   \n",
       "3                    [Nonferrous Scrap - Aluminum]         NaN   \n",
       "4                    [Nonferrous Scrap - Aluminum]         NaN   \n",
       "..                                             ...         ...   \n",
       "359  [Nonferrous Scrap - Nickel/Stainless/Hi Temp]         NaN   \n",
       "360  [Nonferrous Scrap - Nickel/Stainless/Hi Temp]         NaN   \n",
       "361  [Nonferrous Scrap - Nickel/Stainless/Hi Temp]         NaN   \n",
       "362  [Nonferrous Scrap - Nickel/Stainless/Hi Temp]         NaN   \n",
       "363  [Nonferrous Scrap - Nickel/Stainless/Hi Temp]         NaN   \n",
       "\n",
       "                                   Dimensions_trg  \\\n",
       "0    [Minimum size of 3� (8 cm) in any direction]   \n",
       "1                                             NaN   \n",
       "2                                             NaN   \n",
       "3                                             NaN   \n",
       "4           [Minimum thickness of .015� (.38 mm)]   \n",
       "..                                            ...   \n",
       "359                                           NaN   \n",
       "360                                           NaN   \n",
       "361                                           NaN   \n",
       "362                                           NaN   \n",
       "363                                           NaN   \n",
       "\n",
       "                                              Form_trg  \\\n",
       "0                                [Lithographic Sheets]   \n",
       "1                                [Lithographic Sheets]   \n",
       "2                                   [Nonferrous Scrap]   \n",
       "3                                               [Foil]   \n",
       "4                               [Clippings and Solids]   \n",
       "..                                                 ...   \n",
       "359                                           [Solids]   \n",
       "360                                           [Solids]   \n",
       "361  [ pipe,  tube,  bar,  rod,  other wrought scra...   \n",
       "362  [ pipe,  tube,  bar,  rod,  other wrought scra...   \n",
       "363                                           [Solids]   \n",
       "\n",
       "                                           Free_of_trg Material_trg  \\\n",
       "0    [ ink, paper,  and any other contaminants,  pl...   [Aluminum]   \n",
       "1    [paper,  excessively inked sheets,  and any ot...  [Aluminum ]   \n",
       "2              [Radioactive material,  or ash,  dross]          NaN   \n",
       "3    [Radar chaff foil,  laminated foils,  iron,  c...   [Aluminum]   \n",
       "4    [Hair wire,  dirt and other nonmetallic items....   [Aluminum]   \n",
       "..                                                 ...          ...   \n",
       "359  [ non-metallic filling,  foreign attachments, ...     [Monel ]   \n",
       "360                                                NaN    [K-Monel]   \n",
       "361  [Foreign attachments or all other contamination.]    [R-Monel]   \n",
       "362  [Foreign attachments or all other contamination.]    [R-Monel]   \n",
       "363                                                NaN    [K-Monel]   \n",
       "\n",
       "    MeltingPoint_trg Series_trg  \\\n",
       "0                NaN        NaN   \n",
       "1                NaN        NaN   \n",
       "2                NaN        NaN   \n",
       "3                NaN        NaN   \n",
       "4                NaN        NaN   \n",
       "..               ...        ...   \n",
       "359              NaN        NaN   \n",
       "360              NaN        NaN   \n",
       "361              NaN        NaN   \n",
       "362              NaN        NaN   \n",
       "363              NaN        NaN   \n",
       "\n",
       "                                    Specifications_trg Symbol_trg  \\\n",
       "0    [New,  clean. To consist of 1000 and/or 3000 s...        NaN   \n",
       "1    [Clean. To consist of 1000 and/or 3000 series ...        NaN   \n",
       "2    [ and zinc, Shall be made up of a combination ...        NaN   \n",
       "3    [ 3000 and 8000 series aluminum alloy. Materia...        NaN   \n",
       "4    [New,  clean,  uncoated and unpainted aluminum...        NaN   \n",
       "..                                                 ...        ...   \n",
       "359  [Consist of soldered and/or brazed miscellaneo...        NaN   \n",
       "360                                           [Clean ]        NaN   \n",
       "361  [ pipe,  tube,  bar,  rod,  or any other wroug...        NaN   \n",
       "362  [ pipe,  tube,  bar,  rod,  or any other wroug...        NaN   \n",
       "363                                           [Clean ]        NaN   \n",
       "\n",
       "                                             Title_trg full_community_id_trg  \\\n",
       "0           [New,  Clean Aluminum Lithographic Sheets]                  [51]   \n",
       "1                 [Clean Aluminum Lithographic Sheets]                  [50]   \n",
       "2    [Shredded Nonferrous Scrap (predominantly alum...                  [97]   \n",
       "3                        [Post Consumer Aluminum Foil]                  [79]   \n",
       "4    [Segregated New Aluminum Alloy Clippings and S...                  [85]   \n",
       "..                                                 ...                   ...   \n",
       "359                  [Soldered Monel Sheet and Solids]                 [137]   \n",
       "360                                   [K-Monel Solids]                 [136]   \n",
       "361                 [New R-Monel Clippings and Solids]                 [133]   \n",
       "362                 [New R-Monel Clippings and Solids]                 [133]   \n",
       "363                                   [K-Monel Solids]                 [136]   \n",
       "\n",
       "      name_trg  \n",
       "0    [Tabloid]  \n",
       "1     [Tablet]  \n",
       "2      [Zorba]  \n",
       "3      [Tesla]  \n",
       "4      [Tooth]  \n",
       "..         ...  \n",
       "359    [Junto]  \n",
       "360   [Indian]  \n",
       "361    [Hitch]  \n",
       "362    [Hitch]  \n",
       "363   [Indian]  \n",
       "\n",
       "[364 rows x 18 columns]"
      ]
     },
     "execution_count": 42,
     "metadata": {},
     "output_type": "execute_result"
    }
   ],
   "source": [
    "materials_sheet.drop('Target Entity', axis=1, inplace=True)\n",
    "materials_sheet"
   ]
  },
  {
   "cell_type": "code",
   "execution_count": 43,
   "id": "a0fde285",
   "metadata": {},
   "outputs": [],
   "source": [
    "materials_sheet.to_csv('materials_df.csv')"
   ]
  },
  {
   "cell_type": "markdown",
   "id": "d260eade",
   "metadata": {},
   "source": [
    "## READ `MATERIALS` DATA"
   ]
  },
  {
   "cell_type": "code",
   "execution_count": 44,
   "id": "2801bd01",
   "metadata": {},
   "outputs": [],
   "source": [
    "materials_sheet = pd.read_csv('materials_df.csv', index_col=0)"
   ]
  },
  {
   "cell_type": "code",
   "execution_count": 45,
   "id": "9c2beb34",
   "metadata": {},
   "outputs": [
    {
     "data": {
      "text/plain": [
       "CONTAINS          207\n",
       "IS_COMPOSED_OF    157\n",
       "Name: Relationship, dtype: int64"
      ]
     },
     "execution_count": 45,
     "metadata": {},
     "output_type": "execute_result"
    }
   ],
   "source": [
    "materials_sheet['Relationship'].value_counts()"
   ]
  },
  {
   "cell_type": "code",
   "execution_count": 46,
   "id": "5437e707",
   "metadata": {},
   "outputs": [
    {
     "data": {
      "text/html": [
       "<div>\n",
       "<style scoped>\n",
       "    .dataframe tbody tr th:only-of-type {\n",
       "        vertical-align: middle;\n",
       "    }\n",
       "\n",
       "    .dataframe tbody tr th {\n",
       "        vertical-align: top;\n",
       "    }\n",
       "\n",
       "    .dataframe thead th {\n",
       "        text-align: right;\n",
       "    }\n",
       "</style>\n",
       "<table border=\"1\" class=\"dataframe\">\n",
       "  <thead>\n",
       "    <tr style=\"text-align: right;\">\n",
       "      <th></th>\n",
       "      <th>Relationship</th>\n",
       "      <th>full_community_id_src</th>\n",
       "      <th>name_src</th>\n",
       "      <th>Ar_trg</th>\n",
       "      <th>AtomicNumber_trg</th>\n",
       "      <th>Categorisation_trg</th>\n",
       "      <th>Density_trg</th>\n",
       "      <th>Dimensions_trg</th>\n",
       "      <th>Form_trg</th>\n",
       "      <th>Free_of_trg</th>\n",
       "      <th>Material_trg</th>\n",
       "      <th>MeltingPoint_trg</th>\n",
       "      <th>Series_trg</th>\n",
       "      <th>Specifications_trg</th>\n",
       "      <th>Symbol_trg</th>\n",
       "      <th>Title_trg</th>\n",
       "      <th>full_community_id_trg</th>\n",
       "      <th>name_trg</th>\n",
       "    </tr>\n",
       "  </thead>\n",
       "  <tbody>\n",
       "    <tr>\n",
       "      <th>0</th>\n",
       "      <td>IS_COMPOSED_OF</td>\n",
       "      <td>244</td>\n",
       "      <td>ALUMINUM</td>\n",
       "      <td>NaN</td>\n",
       "      <td>NaN</td>\n",
       "      <td>['Nonferrous Scrap - Aluminum']</td>\n",
       "      <td>NaN</td>\n",
       "      <td>['Minimum size of 3� (8 cm) in any direction']</td>\n",
       "      <td>['Lithographic Sheets']</td>\n",
       "      <td>[' ink', 'paper', ' and any other contaminants...</td>\n",
       "      <td>['Aluminum']</td>\n",
       "      <td>NaN</td>\n",
       "      <td>NaN</td>\n",
       "      <td>['New', ' clean. To consist of 1000 and/or 300...</td>\n",
       "      <td>NaN</td>\n",
       "      <td>['New', ' Clean Aluminum Lithographic Sheets']</td>\n",
       "      <td>['51']</td>\n",
       "      <td>['Tabloid']</td>\n",
       "    </tr>\n",
       "    <tr>\n",
       "      <th>1</th>\n",
       "      <td>IS_COMPOSED_OF</td>\n",
       "      <td>244</td>\n",
       "      <td>ALUMINUM</td>\n",
       "      <td>NaN</td>\n",
       "      <td>NaN</td>\n",
       "      <td>['Nonferrous Scrap - Aluminum']</td>\n",
       "      <td>NaN</td>\n",
       "      <td>NaN</td>\n",
       "      <td>['Lithographic Sheets']</td>\n",
       "      <td>['paper', ' excessively inked sheets', ' and a...</td>\n",
       "      <td>['Aluminum ']</td>\n",
       "      <td>NaN</td>\n",
       "      <td>NaN</td>\n",
       "      <td>['Clean. To consist of 1000 and/or 3000 series...</td>\n",
       "      <td>NaN</td>\n",
       "      <td>['Clean Aluminum Lithographic Sheets']</td>\n",
       "      <td>['50']</td>\n",
       "      <td>['Tablet']</td>\n",
       "    </tr>\n",
       "    <tr>\n",
       "      <th>2</th>\n",
       "      <td>IS_COMPOSED_OF</td>\n",
       "      <td>244</td>\n",
       "      <td>ALUMINUM</td>\n",
       "      <td>NaN</td>\n",
       "      <td>NaN</td>\n",
       "      <td>['Nonferrous Scrap - Aluminum']</td>\n",
       "      <td>NaN</td>\n",
       "      <td>NaN</td>\n",
       "      <td>['Nonferrous Scrap']</td>\n",
       "      <td>['Radioactive material', ' or ash', ' dross']</td>\n",
       "      <td>NaN</td>\n",
       "      <td>NaN</td>\n",
       "      <td>NaN</td>\n",
       "      <td>[' and zinc', 'Shall be made up of a combinati...</td>\n",
       "      <td>NaN</td>\n",
       "      <td>['Shredded Nonferrous Scrap (predominantly alu...</td>\n",
       "      <td>['97']</td>\n",
       "      <td>['Zorba']</td>\n",
       "    </tr>\n",
       "    <tr>\n",
       "      <th>3</th>\n",
       "      <td>IS_COMPOSED_OF</td>\n",
       "      <td>244</td>\n",
       "      <td>ALUMINUM</td>\n",
       "      <td>NaN</td>\n",
       "      <td>NaN</td>\n",
       "      <td>['Nonferrous Scrap - Aluminum']</td>\n",
       "      <td>NaN</td>\n",
       "      <td>NaN</td>\n",
       "      <td>['Foil']</td>\n",
       "      <td>['Radar chaff foil', ' laminated foils', ' iro...</td>\n",
       "      <td>['Aluminum']</td>\n",
       "      <td>NaN</td>\n",
       "      <td>NaN</td>\n",
       "      <td>[' 3000 and 8000 series aluminum alloy. Materi...</td>\n",
       "      <td>NaN</td>\n",
       "      <td>['Post Consumer Aluminum Foil']</td>\n",
       "      <td>['79']</td>\n",
       "      <td>['Tesla']</td>\n",
       "    </tr>\n",
       "    <tr>\n",
       "      <th>4</th>\n",
       "      <td>IS_COMPOSED_OF</td>\n",
       "      <td>244</td>\n",
       "      <td>ALUMINUM</td>\n",
       "      <td>NaN</td>\n",
       "      <td>NaN</td>\n",
       "      <td>['Nonferrous Scrap - Aluminum']</td>\n",
       "      <td>NaN</td>\n",
       "      <td>['Minimum thickness of .015� (.38 mm)']</td>\n",
       "      <td>['Clippings and Solids']</td>\n",
       "      <td>['Hair wire', ' dirt and other nonmetallic ite...</td>\n",
       "      <td>['Aluminum']</td>\n",
       "      <td>NaN</td>\n",
       "      <td>NaN</td>\n",
       "      <td>['New', ' clean', ' uncoated and unpainted alu...</td>\n",
       "      <td>NaN</td>\n",
       "      <td>['Segregated New Aluminum Alloy Clippings and ...</td>\n",
       "      <td>['85']</td>\n",
       "      <td>['Tooth']</td>\n",
       "    </tr>\n",
       "  </tbody>\n",
       "</table>\n",
       "</div>"
      ],
      "text/plain": [
       "     Relationship  full_community_id_src  name_src Ar_trg AtomicNumber_trg  \\\n",
       "0  IS_COMPOSED_OF                    244  ALUMINUM    NaN              NaN   \n",
       "1  IS_COMPOSED_OF                    244  ALUMINUM    NaN              NaN   \n",
       "2  IS_COMPOSED_OF                    244  ALUMINUM    NaN              NaN   \n",
       "3  IS_COMPOSED_OF                    244  ALUMINUM    NaN              NaN   \n",
       "4  IS_COMPOSED_OF                    244  ALUMINUM    NaN              NaN   \n",
       "\n",
       "                Categorisation_trg Density_trg  \\\n",
       "0  ['Nonferrous Scrap - Aluminum']         NaN   \n",
       "1  ['Nonferrous Scrap - Aluminum']         NaN   \n",
       "2  ['Nonferrous Scrap - Aluminum']         NaN   \n",
       "3  ['Nonferrous Scrap - Aluminum']         NaN   \n",
       "4  ['Nonferrous Scrap - Aluminum']         NaN   \n",
       "\n",
       "                                   Dimensions_trg                  Form_trg  \\\n",
       "0  ['Minimum size of 3� (8 cm) in any direction']   ['Lithographic Sheets']   \n",
       "1                                             NaN   ['Lithographic Sheets']   \n",
       "2                                             NaN      ['Nonferrous Scrap']   \n",
       "3                                             NaN                  ['Foil']   \n",
       "4         ['Minimum thickness of .015� (.38 mm)']  ['Clippings and Solids']   \n",
       "\n",
       "                                         Free_of_trg   Material_trg  \\\n",
       "0  [' ink', 'paper', ' and any other contaminants...   ['Aluminum']   \n",
       "1  ['paper', ' excessively inked sheets', ' and a...  ['Aluminum ']   \n",
       "2      ['Radioactive material', ' or ash', ' dross']            NaN   \n",
       "3  ['Radar chaff foil', ' laminated foils', ' iro...   ['Aluminum']   \n",
       "4  ['Hair wire', ' dirt and other nonmetallic ite...   ['Aluminum']   \n",
       "\n",
       "  MeltingPoint_trg Series_trg  \\\n",
       "0              NaN        NaN   \n",
       "1              NaN        NaN   \n",
       "2              NaN        NaN   \n",
       "3              NaN        NaN   \n",
       "4              NaN        NaN   \n",
       "\n",
       "                                  Specifications_trg Symbol_trg  \\\n",
       "0  ['New', ' clean. To consist of 1000 and/or 300...        NaN   \n",
       "1  ['Clean. To consist of 1000 and/or 3000 series...        NaN   \n",
       "2  [' and zinc', 'Shall be made up of a combinati...        NaN   \n",
       "3  [' 3000 and 8000 series aluminum alloy. Materi...        NaN   \n",
       "4  ['New', ' clean', ' uncoated and unpainted alu...        NaN   \n",
       "\n",
       "                                           Title_trg full_community_id_trg  \\\n",
       "0     ['New', ' Clean Aluminum Lithographic Sheets']                ['51']   \n",
       "1             ['Clean Aluminum Lithographic Sheets']                ['50']   \n",
       "2  ['Shredded Nonferrous Scrap (predominantly alu...                ['97']   \n",
       "3                    ['Post Consumer Aluminum Foil']                ['79']   \n",
       "4  ['Segregated New Aluminum Alloy Clippings and ...                ['85']   \n",
       "\n",
       "      name_trg  \n",
       "0  ['Tabloid']  \n",
       "1   ['Tablet']  \n",
       "2    ['Zorba']  \n",
       "3    ['Tesla']  \n",
       "4    ['Tooth']  "
      ]
     },
     "execution_count": 46,
     "metadata": {},
     "output_type": "execute_result"
    }
   ],
   "source": [
    "materials_sheet.head()"
   ]
  },
  {
   "cell_type": "markdown",
   "id": "5dc7004f",
   "metadata": {},
   "source": [
    "# Analyze `ISRI`"
   ]
  },
  {
   "cell_type": "code",
   "execution_count": 47,
   "id": "9f2dd7c5",
   "metadata": {},
   "outputs": [
    {
     "data": {
      "text/html": [
       "<div>\n",
       "<style scoped>\n",
       "    .dataframe tbody tr th:only-of-type {\n",
       "        vertical-align: middle;\n",
       "    }\n",
       "\n",
       "    .dataframe tbody tr th {\n",
       "        vertical-align: top;\n",
       "    }\n",
       "\n",
       "    .dataframe thead th {\n",
       "        text-align: right;\n",
       "    }\n",
       "</style>\n",
       "<table border=\"1\" class=\"dataframe\">\n",
       "  <thead>\n",
       "    <tr style=\"text-align: right;\">\n",
       "      <th></th>\n",
       "      <th>Source Entity</th>\n",
       "      <th>Target Entity</th>\n",
       "      <th>Relationship</th>\n",
       "    </tr>\n",
       "  </thead>\n",
       "  <tbody>\n",
       "    <tr>\n",
       "      <th>0</th>\n",
       "      <td>Categorisation:Nonferrous Scrap - Red Metals,S...</td>\n",
       "      <td>name:COPPER,full_community_id:249</td>\n",
       "      <td>IS_COMPOSED_OF</td>\n",
       "    </tr>\n",
       "    <tr>\n",
       "      <th>1</th>\n",
       "      <td>Categorisation:Nonferrous Scrap - Red Metals,S...</td>\n",
       "      <td>name:Pyrometallurgical,full_community_id:257</td>\n",
       "      <td>IS_PROCESSED_WITH</td>\n",
       "    </tr>\n",
       "    <tr>\n",
       "      <th>2</th>\n",
       "      <td>Categorisation:Nonferrous Scrap - Red Metals,S...</td>\n",
       "      <td>GDescription:COPPER SCRAP MILLBERRY CABLES FOR...</td>\n",
       "      <td>IS_EQUIVALENT_TO</td>\n",
       "    </tr>\n",
       "    <tr>\n",
       "      <th>3</th>\n",
       "      <td>Categorisation:Nonferrous Scrap - Red Metals,S...</td>\n",
       "      <td>GDescription:COPPER SCRAP MILLBERRY AS PER ISR...</td>\n",
       "      <td>IS_EQUIVALENT_TO</td>\n",
       "    </tr>\n",
       "    <tr>\n",
       "      <th>4</th>\n",
       "      <td>Free_of:Brittle Burnt Wire, Copper Tubing ,Cat...</td>\n",
       "      <td>name:Pyrometallurgical,full_community_id:257</td>\n",
       "      <td>IS_PROCESSED_WITH</td>\n",
       "    </tr>\n",
       "  </tbody>\n",
       "</table>\n",
       "</div>"
      ],
      "text/plain": [
       "                                       Source Entity  \\\n",
       "0  Categorisation:Nonferrous Scrap - Red Metals,S...   \n",
       "1  Categorisation:Nonferrous Scrap - Red Metals,S...   \n",
       "2  Categorisation:Nonferrous Scrap - Red Metals,S...   \n",
       "3  Categorisation:Nonferrous Scrap - Red Metals,S...   \n",
       "4  Free_of:Brittle Burnt Wire, Copper Tubing ,Cat...   \n",
       "\n",
       "                                       Target Entity       Relationship  \n",
       "0                  name:COPPER,full_community_id:249     IS_COMPOSED_OF  \n",
       "1       name:Pyrometallurgical,full_community_id:257  IS_PROCESSED_WITH  \n",
       "2  GDescription:COPPER SCRAP MILLBERRY CABLES FOR...   IS_EQUIVALENT_TO  \n",
       "3  GDescription:COPPER SCRAP MILLBERRY AS PER ISR...   IS_EQUIVALENT_TO  \n",
       "4       name:Pyrometallurgical,full_community_id:257  IS_PROCESSED_WITH  "
      ]
     },
     "execution_count": 47,
     "metadata": {},
     "output_type": "execute_result"
    }
   ],
   "source": [
    "isri_sheet.head()"
   ]
  },
  {
   "cell_type": "markdown",
   "id": "4d0ea9e0",
   "metadata": {},
   "source": [
    "### Create columns for `se_isri_unq`"
   ]
  },
  {
   "cell_type": "code",
   "execution_count": 48,
   "id": "07a773d6",
   "metadata": {},
   "outputs": [
    {
     "data": {
      "text/plain": [
       "array(['Categorisation', 'Dimensions', 'Form', 'Free_of', 'Material',\n",
       "       'Specifications', 'Title', 'full_community_id', 'name'],\n",
       "      dtype='<U17')"
      ]
     },
     "execution_count": 48,
     "metadata": {},
     "output_type": "execute_result"
    }
   ],
   "source": [
    "se_isri_unq"
   ]
  },
  {
   "cell_type": "code",
   "execution_count": 49,
   "id": "4d7aec17",
   "metadata": {},
   "outputs": [],
   "source": [
    "for col in se_isri_unq:\n",
    "    isri_sheet[col+\"_src\"] = np.nan"
   ]
  },
  {
   "cell_type": "markdown",
   "id": "fef7dabc",
   "metadata": {},
   "source": [
    "Fill the above columns"
   ]
  },
  {
   "cell_type": "code",
   "execution_count": 50,
   "id": "02524cc8",
   "metadata": {},
   "outputs": [
    {
     "name": "stderr",
     "output_type": "stream",
     "text": [
      "  0%|                                                   | 0/279 [00:00<?, ?it/s]/tmp/ipykernel_12998/334691039.py:18: SettingWithCopyWarning: \n",
      "A value is trying to be set on a copy of a slice from a DataFrame\n",
      "\n",
      "See the caveats in the documentation: https://pandas.pydata.org/pandas-docs/stable/user_guide/indexing.html#returning-a-view-versus-a-copy\n",
      "  df[col_name].iloc[row] = list(value_to_fill)\n",
      "100%|████████████████████████████████████████| 279/279 [00:00<00:00, 620.68it/s]\n"
     ]
    }
   ],
   "source": [
    "df = isri_sheet\n",
    "col = 'Source Entity'\n",
    "for row in tqdm(range(len(df))):\n",
    "    split_1 = len(df[col].iloc[row].split(':')) - 1\n",
    "\n",
    "    for i in range(0, split_1):\n",
    "        if(len(df[col].iloc[row].split(':')[i].split(',')) == 1):\n",
    "            last_element = len(df[col].iloc[row].split(':')[i].split(',')) - 1\n",
    "            col_name = (df[col].iloc[row].split(':')[i].split(',')[last_element]+'_src')    \n",
    "            value = (df[col].iloc[row].split(':')[i+1].split(','))    \n",
    "\n",
    "        else:\n",
    "            last_element = len(df[col].iloc[row].split(':')[i].split(',')) - 1\n",
    "            col_name = (df[col].iloc[row].split(':')[i].split(',')[last_element]+'_src')    \n",
    "            value = (df[col].iloc[row].split(':')[i+1].split(','))    \n",
    "        \n",
    "        value_to_fill = set(value) - set(te_materials_unq)\n",
    "        df[col_name].iloc[row] = list(value_to_fill)\n",
    "#         print(col_name, list(set(value) - set(te_materials_unq)))"
   ]
  },
  {
   "cell_type": "code",
   "execution_count": 51,
   "id": "92c75e64",
   "metadata": {},
   "outputs": [
    {
     "data": {
      "text/html": [
       "<div>\n",
       "<style scoped>\n",
       "    .dataframe tbody tr th:only-of-type {\n",
       "        vertical-align: middle;\n",
       "    }\n",
       "\n",
       "    .dataframe tbody tr th {\n",
       "        vertical-align: top;\n",
       "    }\n",
       "\n",
       "    .dataframe thead th {\n",
       "        text-align: right;\n",
       "    }\n",
       "</style>\n",
       "<table border=\"1\" class=\"dataframe\">\n",
       "  <thead>\n",
       "    <tr style=\"text-align: right;\">\n",
       "      <th></th>\n",
       "      <th>Target Entity</th>\n",
       "      <th>Relationship</th>\n",
       "      <th>Categorisation_src</th>\n",
       "      <th>Dimensions_src</th>\n",
       "      <th>Form_src</th>\n",
       "      <th>Free_of_src</th>\n",
       "      <th>Material_src</th>\n",
       "      <th>Specifications_src</th>\n",
       "      <th>Title_src</th>\n",
       "      <th>full_community_id_src</th>\n",
       "      <th>name_src</th>\n",
       "    </tr>\n",
       "  </thead>\n",
       "  <tbody>\n",
       "    <tr>\n",
       "      <th>0</th>\n",
       "      <td>name:COPPER,full_community_id:249</td>\n",
       "      <td>IS_COMPOSED_OF</td>\n",
       "      <td>[Nonferrous Scrap - Red Metals]</td>\n",
       "      <td>[Wire gauge subject to agreement between buyer...</td>\n",
       "      <td>[Wire ]</td>\n",
       "      <td>NaN</td>\n",
       "      <td>[Copper ]</td>\n",
       "      <td>[Bare,  Unalloyed,  Uncoated]</td>\n",
       "      <td>[No. 1 Copper Wire]</td>\n",
       "      <td>[0]</td>\n",
       "      <td>[Berry]</td>\n",
       "    </tr>\n",
       "    <tr>\n",
       "      <th>1</th>\n",
       "      <td>name:Pyrometallurgical,full_community_id:257</td>\n",
       "      <td>IS_PROCESSED_WITH</td>\n",
       "      <td>[Nonferrous Scrap - Red Metals]</td>\n",
       "      <td>[Wire gauge subject to agreement between buyer...</td>\n",
       "      <td>[Wire ]</td>\n",
       "      <td>NaN</td>\n",
       "      <td>[Copper ]</td>\n",
       "      <td>[Bare,  Unalloyed,  Uncoated]</td>\n",
       "      <td>[No. 1 Copper Wire]</td>\n",
       "      <td>[0]</td>\n",
       "      <td>[Berry]</td>\n",
       "    </tr>\n",
       "  </tbody>\n",
       "</table>\n",
       "</div>"
      ],
      "text/plain": [
       "                                  Target Entity       Relationship  \\\n",
       "0             name:COPPER,full_community_id:249     IS_COMPOSED_OF   \n",
       "1  name:Pyrometallurgical,full_community_id:257  IS_PROCESSED_WITH   \n",
       "\n",
       "                Categorisation_src  \\\n",
       "0  [Nonferrous Scrap - Red Metals]   \n",
       "1  [Nonferrous Scrap - Red Metals]   \n",
       "\n",
       "                                      Dimensions_src Form_src Free_of_src  \\\n",
       "0  [Wire gauge subject to agreement between buyer...  [Wire ]         NaN   \n",
       "1  [Wire gauge subject to agreement between buyer...  [Wire ]         NaN   \n",
       "\n",
       "  Material_src             Specifications_src            Title_src  \\\n",
       "0    [Copper ]  [Bare,  Unalloyed,  Uncoated]  [No. 1 Copper Wire]   \n",
       "1    [Copper ]  [Bare,  Unalloyed,  Uncoated]  [No. 1 Copper Wire]   \n",
       "\n",
       "  full_community_id_src name_src  \n",
       "0                   [0]  [Berry]  \n",
       "1                   [0]  [Berry]  "
      ]
     },
     "execution_count": 51,
     "metadata": {},
     "output_type": "execute_result"
    }
   ],
   "source": [
    "isri_sheet.drop('Source Entity', axis=1, inplace=True)\n",
    "isri_sheet.head(2)"
   ]
  },
  {
   "cell_type": "markdown",
   "id": "3f89b530",
   "metadata": {},
   "source": [
    "### Create columns for `te_isri_unq`"
   ]
  },
  {
   "cell_type": "code",
   "execution_count": 52,
   "id": "10b7f08a",
   "metadata": {},
   "outputs": [
    {
     "data": {
      "text/plain": [
       "array(['Ar', 'AtomicNumber', 'Category', 'Density', 'EDescription',\n",
       "       'GDescription', 'MeltingPoint', 'Series', 'Symbol',\n",
       "       'full_community_id', 'name'], dtype='<U17')"
      ]
     },
     "execution_count": 52,
     "metadata": {},
     "output_type": "execute_result"
    }
   ],
   "source": [
    "te_isri_unq"
   ]
  },
  {
   "cell_type": "code",
   "execution_count": 53,
   "id": "d1ed4daa",
   "metadata": {},
   "outputs": [],
   "source": [
    "for col in te_isri_unq:\n",
    "    isri_sheet[col+\"_trg\"] = np.nan"
   ]
  },
  {
   "cell_type": "markdown",
   "id": "5aa38a03",
   "metadata": {},
   "source": [
    "Fill the above columns"
   ]
  },
  {
   "cell_type": "code",
   "execution_count": 54,
   "id": "a5bcfb18",
   "metadata": {},
   "outputs": [
    {
     "name": "stderr",
     "output_type": "stream",
     "text": [
      "  0%|                                                   | 0/279 [00:00<?, ?it/s]/tmp/ipykernel_12998/3263484221.py:18: SettingWithCopyWarning: \n",
      "A value is trying to be set on a copy of a slice from a DataFrame\n",
      "\n",
      "See the caveats in the documentation: https://pandas.pydata.org/pandas-docs/stable/user_guide/indexing.html#returning-a-view-versus-a-copy\n",
      "  df[col_name].iloc[row] = list(value_to_fill)\n",
      "100%|███████████████████████████████████████| 279/279 [00:00<00:00, 1761.02it/s]\n"
     ]
    }
   ],
   "source": [
    "df = isri_sheet\n",
    "col = 'Target Entity'\n",
    "for row in tqdm(range(len(df))):\n",
    "    split_1 = len(df[col].iloc[row].split(':')) - 1\n",
    "\n",
    "    for i in range(0, split_1):\n",
    "        if(len(df[col].iloc[row].split(':')[i].split(',')) == 1):\n",
    "            last_element = len(df[col].iloc[row].split(':')[i].split(',')) - 1\n",
    "            col_name = (df[col].iloc[row].split(':')[i].split(',')[last_element]+'_trg')    \n",
    "            value = (df[col].iloc[row].split(':')[i+1].split(','))    \n",
    "\n",
    "        else:\n",
    "            last_element = len(df[col].iloc[row].split(':')[i].split(',')) - 1\n",
    "            col_name = (df[col].iloc[row].split(':')[i].split(',')[last_element]+'_trg')    \n",
    "            value = (df[col].iloc[row].split(':')[i+1].split(','))    \n",
    "        \n",
    "        value_to_fill = set(value) - set(te_materials_unq)\n",
    "        df[col_name].iloc[row] = list(value_to_fill)\n",
    "#         print(col_name, list(set(value) - set(te_materials_unq)))"
   ]
  },
  {
   "cell_type": "code",
   "execution_count": 55,
   "id": "7a862f37",
   "metadata": {},
   "outputs": [
    {
     "data": {
      "text/html": [
       "<div>\n",
       "<style scoped>\n",
       "    .dataframe tbody tr th:only-of-type {\n",
       "        vertical-align: middle;\n",
       "    }\n",
       "\n",
       "    .dataframe tbody tr th {\n",
       "        vertical-align: top;\n",
       "    }\n",
       "\n",
       "    .dataframe thead th {\n",
       "        text-align: right;\n",
       "    }\n",
       "</style>\n",
       "<table border=\"1\" class=\"dataframe\">\n",
       "  <thead>\n",
       "    <tr style=\"text-align: right;\">\n",
       "      <th></th>\n",
       "      <th>Relationship</th>\n",
       "      <th>Categorisation_src</th>\n",
       "      <th>Dimensions_src</th>\n",
       "      <th>Form_src</th>\n",
       "      <th>Free_of_src</th>\n",
       "      <th>Material_src</th>\n",
       "      <th>Specifications_src</th>\n",
       "      <th>Title_src</th>\n",
       "      <th>full_community_id_src</th>\n",
       "      <th>name_src</th>\n",
       "      <th>...</th>\n",
       "      <th>AtomicNumber_trg</th>\n",
       "      <th>Category_trg</th>\n",
       "      <th>Density_trg</th>\n",
       "      <th>EDescription_trg</th>\n",
       "      <th>GDescription_trg</th>\n",
       "      <th>MeltingPoint_trg</th>\n",
       "      <th>Series_trg</th>\n",
       "      <th>Symbol_trg</th>\n",
       "      <th>full_community_id_trg</th>\n",
       "      <th>name_trg</th>\n",
       "    </tr>\n",
       "  </thead>\n",
       "  <tbody>\n",
       "    <tr>\n",
       "      <th>0</th>\n",
       "      <td>IS_COMPOSED_OF</td>\n",
       "      <td>[Nonferrous Scrap - Red Metals]</td>\n",
       "      <td>[Wire gauge subject to agreement between buyer...</td>\n",
       "      <td>[Wire ]</td>\n",
       "      <td>NaN</td>\n",
       "      <td>[Copper ]</td>\n",
       "      <td>[Bare,  Unalloyed,  Uncoated]</td>\n",
       "      <td>[No. 1 Copper Wire]</td>\n",
       "      <td>[0]</td>\n",
       "      <td>[Berry]</td>\n",
       "      <td>...</td>\n",
       "      <td>NaN</td>\n",
       "      <td>NaN</td>\n",
       "      <td>NaN</td>\n",
       "      <td>NaN</td>\n",
       "      <td>NaN</td>\n",
       "      <td>NaN</td>\n",
       "      <td>NaN</td>\n",
       "      <td>NaN</td>\n",
       "      <td>[249]</td>\n",
       "      <td>[COPPER]</td>\n",
       "    </tr>\n",
       "    <tr>\n",
       "      <th>1</th>\n",
       "      <td>IS_PROCESSED_WITH</td>\n",
       "      <td>[Nonferrous Scrap - Red Metals]</td>\n",
       "      <td>[Wire gauge subject to agreement between buyer...</td>\n",
       "      <td>[Wire ]</td>\n",
       "      <td>NaN</td>\n",
       "      <td>[Copper ]</td>\n",
       "      <td>[Bare,  Unalloyed,  Uncoated]</td>\n",
       "      <td>[No. 1 Copper Wire]</td>\n",
       "      <td>[0]</td>\n",
       "      <td>[Berry]</td>\n",
       "      <td>...</td>\n",
       "      <td>NaN</td>\n",
       "      <td>NaN</td>\n",
       "      <td>NaN</td>\n",
       "      <td>NaN</td>\n",
       "      <td>NaN</td>\n",
       "      <td>NaN</td>\n",
       "      <td>NaN</td>\n",
       "      <td>NaN</td>\n",
       "      <td>[257]</td>\n",
       "      <td>[Pyrometallurgical]</td>\n",
       "    </tr>\n",
       "  </tbody>\n",
       "</table>\n",
       "<p>2 rows × 21 columns</p>\n",
       "</div>"
      ],
      "text/plain": [
       "        Relationship               Categorisation_src  \\\n",
       "0     IS_COMPOSED_OF  [Nonferrous Scrap - Red Metals]   \n",
       "1  IS_PROCESSED_WITH  [Nonferrous Scrap - Red Metals]   \n",
       "\n",
       "                                      Dimensions_src Form_src Free_of_src  \\\n",
       "0  [Wire gauge subject to agreement between buyer...  [Wire ]         NaN   \n",
       "1  [Wire gauge subject to agreement between buyer...  [Wire ]         NaN   \n",
       "\n",
       "  Material_src             Specifications_src            Title_src  \\\n",
       "0    [Copper ]  [Bare,  Unalloyed,  Uncoated]  [No. 1 Copper Wire]   \n",
       "1    [Copper ]  [Bare,  Unalloyed,  Uncoated]  [No. 1 Copper Wire]   \n",
       "\n",
       "  full_community_id_src name_src  ... AtomicNumber_trg Category_trg  \\\n",
       "0                   [0]  [Berry]  ...              NaN          NaN   \n",
       "1                   [0]  [Berry]  ...              NaN          NaN   \n",
       "\n",
       "  Density_trg EDescription_trg GDescription_trg MeltingPoint_trg Series_trg  \\\n",
       "0         NaN              NaN              NaN              NaN        NaN   \n",
       "1         NaN              NaN              NaN              NaN        NaN   \n",
       "\n",
       "  Symbol_trg full_community_id_trg             name_trg  \n",
       "0        NaN                 [249]             [COPPER]  \n",
       "1        NaN                 [257]  [Pyrometallurgical]  \n",
       "\n",
       "[2 rows x 21 columns]"
      ]
     },
     "execution_count": 55,
     "metadata": {},
     "output_type": "execute_result"
    }
   ],
   "source": [
    "isri_sheet.drop('Target Entity', axis=1, inplace=True)\n",
    "isri_sheet.head(2)"
   ]
  },
  {
   "cell_type": "code",
   "execution_count": 56,
   "id": "e058b10d",
   "metadata": {},
   "outputs": [],
   "source": [
    "isri_sheet.to_csv('isri_df.csv')"
   ]
  },
  {
   "cell_type": "markdown",
   "id": "a1be58d3",
   "metadata": {},
   "source": [
    "# READ `ISRI` DATA"
   ]
  },
  {
   "cell_type": "code",
   "execution_count": 57,
   "id": "19aab5ac",
   "metadata": {},
   "outputs": [
    {
     "data": {
      "text/html": [
       "<div>\n",
       "<style scoped>\n",
       "    .dataframe tbody tr th:only-of-type {\n",
       "        vertical-align: middle;\n",
       "    }\n",
       "\n",
       "    .dataframe tbody tr th {\n",
       "        vertical-align: top;\n",
       "    }\n",
       "\n",
       "    .dataframe thead th {\n",
       "        text-align: right;\n",
       "    }\n",
       "</style>\n",
       "<table border=\"1\" class=\"dataframe\">\n",
       "  <thead>\n",
       "    <tr style=\"text-align: right;\">\n",
       "      <th></th>\n",
       "      <th>Relationship</th>\n",
       "      <th>Categorisation_src</th>\n",
       "      <th>Dimensions_src</th>\n",
       "      <th>Form_src</th>\n",
       "      <th>Free_of_src</th>\n",
       "      <th>Material_src</th>\n",
       "      <th>Specifications_src</th>\n",
       "      <th>Title_src</th>\n",
       "      <th>full_community_id_src</th>\n",
       "      <th>name_src</th>\n",
       "      <th>...</th>\n",
       "      <th>AtomicNumber_trg</th>\n",
       "      <th>Category_trg</th>\n",
       "      <th>Density_trg</th>\n",
       "      <th>EDescription_trg</th>\n",
       "      <th>GDescription_trg</th>\n",
       "      <th>MeltingPoint_trg</th>\n",
       "      <th>Series_trg</th>\n",
       "      <th>Symbol_trg</th>\n",
       "      <th>full_community_id_trg</th>\n",
       "      <th>name_trg</th>\n",
       "    </tr>\n",
       "  </thead>\n",
       "  <tbody>\n",
       "    <tr>\n",
       "      <th>0</th>\n",
       "      <td>IS_COMPOSED_OF</td>\n",
       "      <td>['Nonferrous Scrap - Red Metals']</td>\n",
       "      <td>['Wire gauge subject to agreement between buye...</td>\n",
       "      <td>['Wire ']</td>\n",
       "      <td>NaN</td>\n",
       "      <td>['Copper ']</td>\n",
       "      <td>['Bare', ' Unalloyed', ' Uncoated']</td>\n",
       "      <td>['No. 1 Copper Wire']</td>\n",
       "      <td>['0']</td>\n",
       "      <td>['Berry']</td>\n",
       "      <td>...</td>\n",
       "      <td>NaN</td>\n",
       "      <td>NaN</td>\n",
       "      <td>NaN</td>\n",
       "      <td>NaN</td>\n",
       "      <td>NaN</td>\n",
       "      <td>NaN</td>\n",
       "      <td>NaN</td>\n",
       "      <td>NaN</td>\n",
       "      <td>['249']</td>\n",
       "      <td>['COPPER']</td>\n",
       "    </tr>\n",
       "    <tr>\n",
       "      <th>1</th>\n",
       "      <td>IS_PROCESSED_WITH</td>\n",
       "      <td>['Nonferrous Scrap - Red Metals']</td>\n",
       "      <td>['Wire gauge subject to agreement between buye...</td>\n",
       "      <td>['Wire ']</td>\n",
       "      <td>NaN</td>\n",
       "      <td>['Copper ']</td>\n",
       "      <td>['Bare', ' Unalloyed', ' Uncoated']</td>\n",
       "      <td>['No. 1 Copper Wire']</td>\n",
       "      <td>['0']</td>\n",
       "      <td>['Berry']</td>\n",
       "      <td>...</td>\n",
       "      <td>NaN</td>\n",
       "      <td>NaN</td>\n",
       "      <td>NaN</td>\n",
       "      <td>NaN</td>\n",
       "      <td>NaN</td>\n",
       "      <td>NaN</td>\n",
       "      <td>NaN</td>\n",
       "      <td>NaN</td>\n",
       "      <td>['257']</td>\n",
       "      <td>['Pyrometallurgical']</td>\n",
       "    </tr>\n",
       "    <tr>\n",
       "      <th>2</th>\n",
       "      <td>IS_EQUIVALENT_TO</td>\n",
       "      <td>['Nonferrous Scrap - Red Metals']</td>\n",
       "      <td>['Wire gauge subject to agreement between buye...</td>\n",
       "      <td>['Wire ']</td>\n",
       "      <td>NaN</td>\n",
       "      <td>['Copper ']</td>\n",
       "      <td>['Bare', ' Unalloyed', ' Uncoated']</td>\n",
       "      <td>['No. 1 Copper Wire']</td>\n",
       "      <td>['0']</td>\n",
       "      <td>['Berry']</td>\n",
       "      <td>...</td>\n",
       "      <td>NaN</td>\n",
       "      <td>['EDescription', 'Non-Ferrous']</td>\n",
       "      <td>NaN</td>\n",
       "      <td>['ΣΚΡΑΠ ΚΑΛΩΔΙΩΝ ΧΑΛΚΟΥ Α ΠΡΟΣ ΑΠΟΦΛ.(ΥΛΗ)']</td>\n",
       "      <td>['Category', 'COPPER SCRAP MILLBERRY CABLES FO...</td>\n",
       "      <td>NaN</td>\n",
       "      <td>NaN</td>\n",
       "      <td>NaN</td>\n",
       "      <td>['465']</td>\n",
       "      <td>['40014']</td>\n",
       "    </tr>\n",
       "    <tr>\n",
       "      <th>3</th>\n",
       "      <td>IS_EQUIVALENT_TO</td>\n",
       "      <td>['Nonferrous Scrap - Red Metals']</td>\n",
       "      <td>['Wire gauge subject to agreement between buye...</td>\n",
       "      <td>['Wire ']</td>\n",
       "      <td>NaN</td>\n",
       "      <td>['Copper ']</td>\n",
       "      <td>['Bare', ' Unalloyed', ' Uncoated']</td>\n",
       "      <td>['No. 1 Copper Wire']</td>\n",
       "      <td>['0']</td>\n",
       "      <td>['Berry']</td>\n",
       "      <td>...</td>\n",
       "      <td>NaN</td>\n",
       "      <td>['EDescription', 'Non-Ferrous']</td>\n",
       "      <td>NaN</td>\n",
       "      <td>['ΣΚΡΑΠ ΧΑΛΚΟΥ Α1']</td>\n",
       "      <td>['Category', 'COPPER SCRAP MILLBERRY AS PER IS...</td>\n",
       "      <td>NaN</td>\n",
       "      <td>NaN</td>\n",
       "      <td>NaN</td>\n",
       "      <td>['487']</td>\n",
       "      <td>['50018']</td>\n",
       "    </tr>\n",
       "    <tr>\n",
       "      <th>4</th>\n",
       "      <td>IS_PROCESSED_WITH</td>\n",
       "      <td>['Nonferrous Scrap - Red Metals']</td>\n",
       "      <td>['Wire gauge subject to agreement between buye...</td>\n",
       "      <td>['Wire and Cable ']</td>\n",
       "      <td>[' Copper Tubing ', 'Brittle Burnt Wire']</td>\n",
       "      <td>['Copper ']</td>\n",
       "      <td>[' Unalloyed', ' Untinned', ' Uncoated', 'Clean']</td>\n",
       "      <td>['No. 1 Copper Wire']</td>\n",
       "      <td>['1']</td>\n",
       "      <td>['Barley']</td>\n",
       "      <td>...</td>\n",
       "      <td>NaN</td>\n",
       "      <td>NaN</td>\n",
       "      <td>NaN</td>\n",
       "      <td>NaN</td>\n",
       "      <td>NaN</td>\n",
       "      <td>NaN</td>\n",
       "      <td>NaN</td>\n",
       "      <td>NaN</td>\n",
       "      <td>['257']</td>\n",
       "      <td>['Pyrometallurgical']</td>\n",
       "    </tr>\n",
       "  </tbody>\n",
       "</table>\n",
       "<p>5 rows × 21 columns</p>\n",
       "</div>"
      ],
      "text/plain": [
       "        Relationship                 Categorisation_src  \\\n",
       "0     IS_COMPOSED_OF  ['Nonferrous Scrap - Red Metals']   \n",
       "1  IS_PROCESSED_WITH  ['Nonferrous Scrap - Red Metals']   \n",
       "2   IS_EQUIVALENT_TO  ['Nonferrous Scrap - Red Metals']   \n",
       "3   IS_EQUIVALENT_TO  ['Nonferrous Scrap - Red Metals']   \n",
       "4  IS_PROCESSED_WITH  ['Nonferrous Scrap - Red Metals']   \n",
       "\n",
       "                                      Dimensions_src             Form_src  \\\n",
       "0  ['Wire gauge subject to agreement between buye...            ['Wire ']   \n",
       "1  ['Wire gauge subject to agreement between buye...            ['Wire ']   \n",
       "2  ['Wire gauge subject to agreement between buye...            ['Wire ']   \n",
       "3  ['Wire gauge subject to agreement between buye...            ['Wire ']   \n",
       "4  ['Wire gauge subject to agreement between buye...  ['Wire and Cable ']   \n",
       "\n",
       "                                 Free_of_src Material_src  \\\n",
       "0                                        NaN  ['Copper ']   \n",
       "1                                        NaN  ['Copper ']   \n",
       "2                                        NaN  ['Copper ']   \n",
       "3                                        NaN  ['Copper ']   \n",
       "4  [' Copper Tubing ', 'Brittle Burnt Wire']  ['Copper ']   \n",
       "\n",
       "                                  Specifications_src              Title_src  \\\n",
       "0                ['Bare', ' Unalloyed', ' Uncoated']  ['No. 1 Copper Wire']   \n",
       "1                ['Bare', ' Unalloyed', ' Uncoated']  ['No. 1 Copper Wire']   \n",
       "2                ['Bare', ' Unalloyed', ' Uncoated']  ['No. 1 Copper Wire']   \n",
       "3                ['Bare', ' Unalloyed', ' Uncoated']  ['No. 1 Copper Wire']   \n",
       "4  [' Unalloyed', ' Untinned', ' Uncoated', 'Clean']  ['No. 1 Copper Wire']   \n",
       "\n",
       "  full_community_id_src    name_src  ... AtomicNumber_trg  \\\n",
       "0                 ['0']   ['Berry']  ...              NaN   \n",
       "1                 ['0']   ['Berry']  ...              NaN   \n",
       "2                 ['0']   ['Berry']  ...              NaN   \n",
       "3                 ['0']   ['Berry']  ...              NaN   \n",
       "4                 ['1']  ['Barley']  ...              NaN   \n",
       "\n",
       "                      Category_trg Density_trg  \\\n",
       "0                              NaN         NaN   \n",
       "1                              NaN         NaN   \n",
       "2  ['EDescription', 'Non-Ferrous']         NaN   \n",
       "3  ['EDescription', 'Non-Ferrous']         NaN   \n",
       "4                              NaN         NaN   \n",
       "\n",
       "                               EDescription_trg  \\\n",
       "0                                           NaN   \n",
       "1                                           NaN   \n",
       "2  ['ΣΚΡΑΠ ΚΑΛΩΔΙΩΝ ΧΑΛΚΟΥ Α ΠΡΟΣ ΑΠΟΦΛ.(ΥΛΗ)']   \n",
       "3                           ['ΣΚΡΑΠ ΧΑΛΚΟΥ Α1']   \n",
       "4                                           NaN   \n",
       "\n",
       "                                    GDescription_trg MeltingPoint_trg  \\\n",
       "0                                                NaN              NaN   \n",
       "1                                                NaN              NaN   \n",
       "2  ['Category', 'COPPER SCRAP MILLBERRY CABLES FO...              NaN   \n",
       "3  ['Category', 'COPPER SCRAP MILLBERRY AS PER IS...              NaN   \n",
       "4                                                NaN              NaN   \n",
       "\n",
       "  Series_trg Symbol_trg full_community_id_trg               name_trg  \n",
       "0        NaN        NaN               ['249']             ['COPPER']  \n",
       "1        NaN        NaN               ['257']  ['Pyrometallurgical']  \n",
       "2        NaN        NaN               ['465']              ['40014']  \n",
       "3        NaN        NaN               ['487']              ['50018']  \n",
       "4        NaN        NaN               ['257']  ['Pyrometallurgical']  \n",
       "\n",
       "[5 rows x 21 columns]"
      ]
     },
     "execution_count": 57,
     "metadata": {},
     "output_type": "execute_result"
    }
   ],
   "source": [
    "isri_sheet = pd.read_csv('isri_df.csv', index_col=0)\n",
    "isri_sheet.head()"
   ]
  },
  {
   "cell_type": "code",
   "execution_count": 58,
   "id": "d11d692a",
   "metadata": {},
   "outputs": [
    {
     "data": {
      "text/plain": [
       "IS_COMPOSED_OF       191\n",
       "IS_PROCESSED_WITH     50\n",
       "IS_EQUIVALENT_TO      33\n",
       "PRODUCES               4\n",
       "CONTAINS               1\n",
       "Name: Relationship, dtype: int64"
      ]
     },
     "execution_count": 58,
     "metadata": {},
     "output_type": "execute_result"
    }
   ],
   "source": [
    "isri_sheet['Relationship'].value_counts()"
   ]
  },
  {
   "cell_type": "markdown",
   "id": "964e2913",
   "metadata": {},
   "source": [
    "Τι σημαίνουν όλα αυτά?"
   ]
  },
  {
   "cell_type": "markdown",
   "id": "0a9f7666",
   "metadata": {},
   "source": [
    "# Analyze `PROCESS`"
   ]
  },
  {
   "cell_type": "code",
   "execution_count": 59,
   "id": "d932c8e4",
   "metadata": {},
   "outputs": [
    {
     "data": {
      "text/html": [
       "<div>\n",
       "<style scoped>\n",
       "    .dataframe tbody tr th:only-of-type {\n",
       "        vertical-align: middle;\n",
       "    }\n",
       "\n",
       "    .dataframe tbody tr th {\n",
       "        vertical-align: top;\n",
       "    }\n",
       "\n",
       "    .dataframe thead th {\n",
       "        text-align: right;\n",
       "    }\n",
       "</style>\n",
       "<table border=\"1\" class=\"dataframe\">\n",
       "  <thead>\n",
       "    <tr style=\"text-align: right;\">\n",
       "      <th></th>\n",
       "      <th>Source Entity</th>\n",
       "      <th>Target Entity</th>\n",
       "      <th>Relationship</th>\n",
       "    </tr>\n",
       "  </thead>\n",
       "  <tbody>\n",
       "    <tr>\n",
       "      <th>0</th>\n",
       "      <td>name:Pyrometallurgical,full_community_id:257</td>\n",
       "      <td>Free_of:semi-red brass castings (78% to 81% co...</td>\n",
       "      <td>IS_PROCESSED_WITH</td>\n",
       "    </tr>\n",
       "    <tr>\n",
       "      <th>1</th>\n",
       "      <td>name:Pyrometallurgical,full_community_id:257</td>\n",
       "      <td>Categorisation:Nonferrous Scrap - Red Metals,S...</td>\n",
       "      <td>IS_PROCESSED_WITH</td>\n",
       "    </tr>\n",
       "    <tr>\n",
       "      <th>2</th>\n",
       "      <td>name:Pyrometallurgical,full_community_id:257</td>\n",
       "      <td>Free_of:brass forgings, silicon bronze, alumin...</td>\n",
       "      <td>IS_PROCESSED_WITH</td>\n",
       "    </tr>\n",
       "    <tr>\n",
       "      <th>3</th>\n",
       "      <td>name:Pyrometallurgical,full_community_id:257</td>\n",
       "      <td>Categorisation:Nonferrous Scrap - Red Metals,S...</td>\n",
       "      <td>IS_PROCESSED_WITH</td>\n",
       "    </tr>\n",
       "    <tr>\n",
       "      <th>4</th>\n",
       "      <td>name:Pyrometallurgical,full_community_id:257</td>\n",
       "      <td>Free_of:Yellow boxes and iron-backed boxes,Cat...</td>\n",
       "      <td>IS_PROCESSED_WITH</td>\n",
       "    </tr>\n",
       "  </tbody>\n",
       "</table>\n",
       "</div>"
      ],
      "text/plain": [
       "                                  Source Entity  \\\n",
       "0  name:Pyrometallurgical,full_community_id:257   \n",
       "1  name:Pyrometallurgical,full_community_id:257   \n",
       "2  name:Pyrometallurgical,full_community_id:257   \n",
       "3  name:Pyrometallurgical,full_community_id:257   \n",
       "4  name:Pyrometallurgical,full_community_id:257   \n",
       "\n",
       "                                       Target Entity       Relationship  \n",
       "0  Free_of:semi-red brass castings (78% to 81% co...  IS_PROCESSED_WITH  \n",
       "1  Categorisation:Nonferrous Scrap - Red Metals,S...  IS_PROCESSED_WITH  \n",
       "2  Free_of:brass forgings, silicon bronze, alumin...  IS_PROCESSED_WITH  \n",
       "3  Categorisation:Nonferrous Scrap - Red Metals,S...  IS_PROCESSED_WITH  \n",
       "4  Free_of:Yellow boxes and iron-backed boxes,Cat...  IS_PROCESSED_WITH  "
      ]
     },
     "execution_count": 59,
     "metadata": {},
     "output_type": "execute_result"
    }
   ],
   "source": [
    "process_sheet.head()"
   ]
  },
  {
   "cell_type": "markdown",
   "id": "50dc2aee",
   "metadata": {},
   "source": [
    "### Create columns for `se_process_unq`"
   ]
  },
  {
   "cell_type": "code",
   "execution_count": 60,
   "id": "02908d93",
   "metadata": {},
   "outputs": [
    {
     "data": {
      "text/plain": [
       "array(['full_community_id', 'name'], dtype='<U17')"
      ]
     },
     "execution_count": 60,
     "metadata": {},
     "output_type": "execute_result"
    }
   ],
   "source": [
    "se_process_unq"
   ]
  },
  {
   "cell_type": "code",
   "execution_count": 61,
   "id": "b06d2325",
   "metadata": {},
   "outputs": [],
   "source": [
    "for col in se_process_unq:\n",
    "    process_sheet[col+\"_src\"] = np.nan"
   ]
  },
  {
   "cell_type": "markdown",
   "id": "d2b04ea5",
   "metadata": {},
   "source": [
    "Fill the above columns"
   ]
  },
  {
   "cell_type": "code",
   "execution_count": 62,
   "id": "71b4a28b",
   "metadata": {},
   "outputs": [
    {
     "name": "stderr",
     "output_type": "stream",
     "text": [
      "  0%|                                                   | 0/105 [00:00<?, ?it/s]/tmp/ipykernel_12998/3871552412.py:18: SettingWithCopyWarning: \n",
      "A value is trying to be set on a copy of a slice from a DataFrame\n",
      "\n",
      "See the caveats in the documentation: https://pandas.pydata.org/pandas-docs/stable/user_guide/indexing.html#returning-a-view-versus-a-copy\n",
      "  df[col_name].iloc[row] = list(value_to_fill)\n",
      "100%|███████████████████████████████████████| 105/105 [00:00<00:00, 1991.80it/s]\n"
     ]
    }
   ],
   "source": [
    "df = process_sheet\n",
    "col = 'Source Entity'\n",
    "for row in tqdm(range(len(df))):\n",
    "    split_1 = len(df[col].iloc[row].split(':')) - 1\n",
    "\n",
    "    for i in range(0, split_1):\n",
    "        if(len(df[col].iloc[row].split(':')[i].split(',')) == 1):\n",
    "            last_element = len(df[col].iloc[row].split(':')[i].split(',')) - 1\n",
    "            col_name = (df[col].iloc[row].split(':')[i].split(',')[last_element]+'_src')    \n",
    "            value = (df[col].iloc[row].split(':')[i+1].split(','))    \n",
    "\n",
    "        else:\n",
    "            last_element = len(df[col].iloc[row].split(':')[i].split(',')) - 1\n",
    "            col_name = (df[col].iloc[row].split(':')[i].split(',')[last_element]+'_src')    \n",
    "            value = (df[col].iloc[row].split(':')[i+1].split(','))    \n",
    "        \n",
    "        value_to_fill = set(value) - set(te_materials_unq)\n",
    "        df[col_name].iloc[row] = list(value_to_fill)\n",
    "#         print(col_name, list(set(value) - set(te_materials_unq)))"
   ]
  },
  {
   "cell_type": "code",
   "execution_count": 63,
   "id": "b88c70d9",
   "metadata": {},
   "outputs": [
    {
     "data": {
      "text/html": [
       "<div>\n",
       "<style scoped>\n",
       "    .dataframe tbody tr th:only-of-type {\n",
       "        vertical-align: middle;\n",
       "    }\n",
       "\n",
       "    .dataframe tbody tr th {\n",
       "        vertical-align: top;\n",
       "    }\n",
       "\n",
       "    .dataframe thead th {\n",
       "        text-align: right;\n",
       "    }\n",
       "</style>\n",
       "<table border=\"1\" class=\"dataframe\">\n",
       "  <thead>\n",
       "    <tr style=\"text-align: right;\">\n",
       "      <th></th>\n",
       "      <th>Target Entity</th>\n",
       "      <th>Relationship</th>\n",
       "      <th>full_community_id_src</th>\n",
       "      <th>name_src</th>\n",
       "    </tr>\n",
       "  </thead>\n",
       "  <tbody>\n",
       "    <tr>\n",
       "      <th>0</th>\n",
       "      <td>Free_of:semi-red brass castings (78% to 81% co...</td>\n",
       "      <td>IS_PROCESSED_WITH</td>\n",
       "      <td>[257]</td>\n",
       "      <td>[Pyrometallurgical]</td>\n",
       "    </tr>\n",
       "    <tr>\n",
       "      <th>1</th>\n",
       "      <td>Categorisation:Nonferrous Scrap - Red Metals,S...</td>\n",
       "      <td>IS_PROCESSED_WITH</td>\n",
       "      <td>[257]</td>\n",
       "      <td>[Pyrometallurgical]</td>\n",
       "    </tr>\n",
       "  </tbody>\n",
       "</table>\n",
       "</div>"
      ],
      "text/plain": [
       "                                       Target Entity       Relationship  \\\n",
       "0  Free_of:semi-red brass castings (78% to 81% co...  IS_PROCESSED_WITH   \n",
       "1  Categorisation:Nonferrous Scrap - Red Metals,S...  IS_PROCESSED_WITH   \n",
       "\n",
       "  full_community_id_src             name_src  \n",
       "0                 [257]  [Pyrometallurgical]  \n",
       "1                 [257]  [Pyrometallurgical]  "
      ]
     },
     "execution_count": 63,
     "metadata": {},
     "output_type": "execute_result"
    }
   ],
   "source": [
    "process_sheet.drop('Source Entity', axis=1, inplace=True)\n",
    "process_sheet.head(2)"
   ]
  },
  {
   "cell_type": "markdown",
   "id": "1748557b",
   "metadata": {},
   "source": [
    "### Create columns for `te_process_unq`"
   ]
  },
  {
   "cell_type": "code",
   "execution_count": 64,
   "id": "b335f238",
   "metadata": {},
   "outputs": [
    {
     "data": {
      "text/plain": [
       "array(['Categorisation', 'Category', 'Description', 'Dimensions',\n",
       "       'EDescription', 'Form', 'Free_of', 'GDescription', 'Material',\n",
       "       'Specifications', 'Title', 'full_community_id', 'name'],\n",
       "      dtype='<U17')"
      ]
     },
     "execution_count": 64,
     "metadata": {},
     "output_type": "execute_result"
    }
   ],
   "source": [
    "te_process_unq"
   ]
  },
  {
   "cell_type": "code",
   "execution_count": 65,
   "id": "6af1bff5",
   "metadata": {},
   "outputs": [
    {
     "data": {
      "text/plain": [
       "'Free_of:semi-red brass castings (78% to 81% copper); railroad car boxes and other similar high-lead alloys; cocks and faucets; closed water meters; gates; pot pieces; ingots and burned brass; aluminum, silicon, and manganese bronzes; iron and non-metallics.,Categorisation:Nonferrous Scrap - Red Metals,Specifications:Made of copper, tin, zinc, and/or lead,Form:Valves, machinery bearings and other machinery parts, including miscellaneous castings,name:Ebony,Dimensions:No piece to measure more than 12� over any one part or weigh over 100 lbs.,Title:Composition or Red Brass,Material:Red Brass,full_community_id:13'"
      ]
     },
     "execution_count": 65,
     "metadata": {},
     "output_type": "execute_result"
    }
   ],
   "source": [
    "process_sheet['Target Entity'].iloc[0]"
   ]
  },
  {
   "cell_type": "code",
   "execution_count": 66,
   "id": "cc25e2bf",
   "metadata": {},
   "outputs": [],
   "source": [
    "for col in te_process_unq:\n",
    "    process_sheet[col+\"_trg\"] = np.nan"
   ]
  },
  {
   "cell_type": "markdown",
   "id": "9038023b",
   "metadata": {},
   "source": [
    "Fill the above columns"
   ]
  },
  {
   "cell_type": "code",
   "execution_count": 67,
   "id": "e03c995f",
   "metadata": {},
   "outputs": [
    {
     "name": "stderr",
     "output_type": "stream",
     "text": [
      "  0%|                                                   | 0/105 [00:00<?, ?it/s]/tmp/ipykernel_12998/452848140.py:18: SettingWithCopyWarning: \n",
      "A value is trying to be set on a copy of a slice from a DataFrame\n",
      "\n",
      "See the caveats in the documentation: https://pandas.pydata.org/pandas-docs/stable/user_guide/indexing.html#returning-a-view-versus-a-copy\n",
      "  df[col_name].iloc[row] = list(value_to_fill)\n",
      "100%|████████████████████████████████████████| 105/105 [00:00<00:00, 717.38it/s]\n"
     ]
    }
   ],
   "source": [
    "df = process_sheet\n",
    "col = 'Target Entity'\n",
    "for row in tqdm(range(len(df))):\n",
    "    split_1 = len(df[col].iloc[row].split(':')) - 1\n",
    "\n",
    "    for i in range(0, split_1):\n",
    "        if(len(df[col].iloc[row].split(':')[i].split(',')) == 1):\n",
    "            last_element = len(df[col].iloc[row].split(':')[i].split(',')) - 1\n",
    "            col_name = (df[col].iloc[row].split(':')[i].split(',')[last_element]+'_trg')    \n",
    "            value = (df[col].iloc[row].split(':')[i+1].split(','))    \n",
    "\n",
    "        else:\n",
    "            last_element = len(df[col].iloc[row].split(':')[i].split(',')) - 1\n",
    "            col_name = (df[col].iloc[row].split(':')[i].split(',')[last_element]+'_trg')    \n",
    "            value = (df[col].iloc[row].split(':')[i+1].split(','))    \n",
    "        \n",
    "        value_to_fill = set(value) - set(te_materials_unq)\n",
    "        df[col_name].iloc[row] = list(value_to_fill)\n",
    "#         print(col_name, list(set(value) - set(te_materials_unq)))"
   ]
  },
  {
   "cell_type": "code",
   "execution_count": 68,
   "id": "1661cb74",
   "metadata": {},
   "outputs": [
    {
     "data": {
      "text/html": [
       "<div>\n",
       "<style scoped>\n",
       "    .dataframe tbody tr th:only-of-type {\n",
       "        vertical-align: middle;\n",
       "    }\n",
       "\n",
       "    .dataframe tbody tr th {\n",
       "        vertical-align: top;\n",
       "    }\n",
       "\n",
       "    .dataframe thead th {\n",
       "        text-align: right;\n",
       "    }\n",
       "</style>\n",
       "<table border=\"1\" class=\"dataframe\">\n",
       "  <thead>\n",
       "    <tr style=\"text-align: right;\">\n",
       "      <th></th>\n",
       "      <th>Relationship</th>\n",
       "      <th>full_community_id_src</th>\n",
       "      <th>name_src</th>\n",
       "      <th>Categorisation_trg</th>\n",
       "      <th>Category_trg</th>\n",
       "      <th>Description_trg</th>\n",
       "      <th>Dimensions_trg</th>\n",
       "      <th>EDescription_trg</th>\n",
       "      <th>Form_trg</th>\n",
       "      <th>Free_of_trg</th>\n",
       "      <th>GDescription_trg</th>\n",
       "      <th>Material_trg</th>\n",
       "      <th>Specifications_trg</th>\n",
       "      <th>Title_trg</th>\n",
       "      <th>full_community_id_trg</th>\n",
       "      <th>name_trg</th>\n",
       "    </tr>\n",
       "  </thead>\n",
       "  <tbody>\n",
       "    <tr>\n",
       "      <th>0</th>\n",
       "      <td>IS_PROCESSED_WITH</td>\n",
       "      <td>[257]</td>\n",
       "      <td>[Pyrometallurgical]</td>\n",
       "      <td>[Nonferrous Scrap - Red Metals]</td>\n",
       "      <td>NaN</td>\n",
       "      <td>NaN</td>\n",
       "      <td>[No piece to measure more than 12� over any on...</td>\n",
       "      <td>NaN</td>\n",
       "      <td>[Valves,  including miscellaneous castings,  m...</td>\n",
       "      <td>[ and manganese bronzes; iron and non-metallic...</td>\n",
       "      <td>NaN</td>\n",
       "      <td>[Red Brass]</td>\n",
       "      <td>[ zinc, Made of copper,  tin,  and/or lead]</td>\n",
       "      <td>[Composition or Red Brass]</td>\n",
       "      <td>[13]</td>\n",
       "      <td>[Ebony]</td>\n",
       "    </tr>\n",
       "    <tr>\n",
       "      <th>1</th>\n",
       "      <td>IS_PROCESSED_WITH</td>\n",
       "      <td>[257]</td>\n",
       "      <td>[Pyrometallurgical]</td>\n",
       "      <td>[Nonferrous Scrap - Red Metals]</td>\n",
       "      <td>NaN</td>\n",
       "      <td>NaN</td>\n",
       "      <td>NaN</td>\n",
       "      <td>NaN</td>\n",
       "      <td>[Scrap borings and turnings]</td>\n",
       "      <td>NaN</td>\n",
       "      <td>NaN</td>\n",
       "      <td>[Brass]</td>\n",
       "      <td>[ and zinc. Turnings shall be unmixed and have...</td>\n",
       "      <td>[Lead-Free Bismuth Brass Turnings]</td>\n",
       "      <td>[15]</td>\n",
       "      <td>[Ecstatic]</td>\n",
       "    </tr>\n",
       "  </tbody>\n",
       "</table>\n",
       "</div>"
      ],
      "text/plain": [
       "        Relationship full_community_id_src             name_src  \\\n",
       "0  IS_PROCESSED_WITH                 [257]  [Pyrometallurgical]   \n",
       "1  IS_PROCESSED_WITH                 [257]  [Pyrometallurgical]   \n",
       "\n",
       "                Categorisation_trg Category_trg Description_trg  \\\n",
       "0  [Nonferrous Scrap - Red Metals]          NaN             NaN   \n",
       "1  [Nonferrous Scrap - Red Metals]          NaN             NaN   \n",
       "\n",
       "                                      Dimensions_trg EDescription_trg  \\\n",
       "0  [No piece to measure more than 12� over any on...              NaN   \n",
       "1                                                NaN              NaN   \n",
       "\n",
       "                                            Form_trg  \\\n",
       "0  [Valves,  including miscellaneous castings,  m...   \n",
       "1                       [Scrap borings and turnings]   \n",
       "\n",
       "                                         Free_of_trg GDescription_trg  \\\n",
       "0  [ and manganese bronzes; iron and non-metallic...              NaN   \n",
       "1                                                NaN              NaN   \n",
       "\n",
       "  Material_trg                                 Specifications_trg  \\\n",
       "0  [Red Brass]        [ zinc, Made of copper,  tin,  and/or lead]   \n",
       "1      [Brass]  [ and zinc. Turnings shall be unmixed and have...   \n",
       "\n",
       "                            Title_trg full_community_id_trg    name_trg  \n",
       "0          [Composition or Red Brass]                  [13]     [Ebony]  \n",
       "1  [Lead-Free Bismuth Brass Turnings]                  [15]  [Ecstatic]  "
      ]
     },
     "execution_count": 68,
     "metadata": {},
     "output_type": "execute_result"
    }
   ],
   "source": [
    "process_sheet.drop('Target Entity', axis=1, inplace=True)\n",
    "process_sheet.head(2)"
   ]
  },
  {
   "cell_type": "code",
   "execution_count": 69,
   "id": "4227d14c",
   "metadata": {},
   "outputs": [],
   "source": [
    "process_sheet.to_csv('process_df.csv')"
   ]
  },
  {
   "cell_type": "markdown",
   "id": "01d928c2",
   "metadata": {},
   "source": [
    "# READ `PROCESS` DATA"
   ]
  },
  {
   "cell_type": "code",
   "execution_count": 70,
   "id": "c014e50a",
   "metadata": {},
   "outputs": [
    {
     "data": {
      "text/html": [
       "<div>\n",
       "<style scoped>\n",
       "    .dataframe tbody tr th:only-of-type {\n",
       "        vertical-align: middle;\n",
       "    }\n",
       "\n",
       "    .dataframe tbody tr th {\n",
       "        vertical-align: top;\n",
       "    }\n",
       "\n",
       "    .dataframe thead th {\n",
       "        text-align: right;\n",
       "    }\n",
       "</style>\n",
       "<table border=\"1\" class=\"dataframe\">\n",
       "  <thead>\n",
       "    <tr style=\"text-align: right;\">\n",
       "      <th></th>\n",
       "      <th>Relationship</th>\n",
       "      <th>full_community_id_src</th>\n",
       "      <th>name_src</th>\n",
       "      <th>Categorisation_trg</th>\n",
       "      <th>Category_trg</th>\n",
       "      <th>Description_trg</th>\n",
       "      <th>Dimensions_trg</th>\n",
       "      <th>EDescription_trg</th>\n",
       "      <th>Form_trg</th>\n",
       "      <th>Free_of_trg</th>\n",
       "      <th>GDescription_trg</th>\n",
       "      <th>Material_trg</th>\n",
       "      <th>Specifications_trg</th>\n",
       "      <th>Title_trg</th>\n",
       "      <th>full_community_id_trg</th>\n",
       "      <th>name_trg</th>\n",
       "    </tr>\n",
       "  </thead>\n",
       "  <tbody>\n",
       "    <tr>\n",
       "      <th>0</th>\n",
       "      <td>IS_PROCESSED_WITH</td>\n",
       "      <td>['257']</td>\n",
       "      <td>['Pyrometallurgical']</td>\n",
       "      <td>['Nonferrous Scrap - Red Metals']</td>\n",
       "      <td>NaN</td>\n",
       "      <td>NaN</td>\n",
       "      <td>['No piece to measure more than 12� over any o...</td>\n",
       "      <td>NaN</td>\n",
       "      <td>['Valves', ' including miscellaneous castings'...</td>\n",
       "      <td>[' and manganese bronzes; iron and non-metalli...</td>\n",
       "      <td>NaN</td>\n",
       "      <td>['Red Brass']</td>\n",
       "      <td>[' zinc', 'Made of copper', ' tin', ' and/or l...</td>\n",
       "      <td>['Composition or Red Brass']</td>\n",
       "      <td>['13']</td>\n",
       "      <td>['Ebony']</td>\n",
       "    </tr>\n",
       "    <tr>\n",
       "      <th>1</th>\n",
       "      <td>IS_PROCESSED_WITH</td>\n",
       "      <td>['257']</td>\n",
       "      <td>['Pyrometallurgical']</td>\n",
       "      <td>['Nonferrous Scrap - Red Metals']</td>\n",
       "      <td>NaN</td>\n",
       "      <td>NaN</td>\n",
       "      <td>NaN</td>\n",
       "      <td>NaN</td>\n",
       "      <td>['Scrap borings and turnings']</td>\n",
       "      <td>NaN</td>\n",
       "      <td>NaN</td>\n",
       "      <td>['Brass']</td>\n",
       "      <td>[' and zinc. Turnings shall be unmixed and hav...</td>\n",
       "      <td>['Lead-Free Bismuth Brass Turnings']</td>\n",
       "      <td>['15']</td>\n",
       "      <td>['Ecstatic']</td>\n",
       "    </tr>\n",
       "    <tr>\n",
       "      <th>2</th>\n",
       "      <td>IS_PROCESSED_WITH</td>\n",
       "      <td>['257']</td>\n",
       "      <td>['Pyrometallurgical']</td>\n",
       "      <td>['Nonferrous Scrap - Red Metals']</td>\n",
       "      <td>NaN</td>\n",
       "      <td>NaN</td>\n",
       "      <td>['no piece to measure more than 12 inches over...</td>\n",
       "      <td>NaN</td>\n",
       "      <td>['Castings in crucible shape ']</td>\n",
       "      <td>['brass forgings', ' silicon bronze', ' alumin...</td>\n",
       "      <td>NaN</td>\n",
       "      <td>NaN</td>\n",
       "      <td>['not to contain more than 15% nickel plated m...</td>\n",
       "      <td>['Yellow Brass Castings']</td>\n",
       "      <td>['26']</td>\n",
       "      <td>['Ivory']</td>\n",
       "    </tr>\n",
       "    <tr>\n",
       "      <th>3</th>\n",
       "      <td>IS_PROCESSED_WITH</td>\n",
       "      <td>['257']</td>\n",
       "      <td>['Pyrometallurgical']</td>\n",
       "      <td>['Nonferrous Scrap - Red Metals']</td>\n",
       "      <td>NaN</td>\n",
       "      <td>NaN</td>\n",
       "      <td>NaN</td>\n",
       "      <td>NaN</td>\n",
       "      <td>['Rod ends and forgings']</td>\n",
       "      <td>NaN</td>\n",
       "      <td>NaN</td>\n",
       "      <td>['Leaded Brass']</td>\n",
       "      <td>[' zinc and lead. Turnings shall be unmixed an...</td>\n",
       "      <td>['Leaded Brass Scrap Rod Ends and Forgings']</td>\n",
       "      <td>['41']</td>\n",
       "      <td>['Niche']</td>\n",
       "    </tr>\n",
       "    <tr>\n",
       "      <th>4</th>\n",
       "      <td>IS_PROCESSED_WITH</td>\n",
       "      <td>['257']</td>\n",
       "      <td>['Pyrometallurgical']</td>\n",
       "      <td>['Nonferrous Scrap - Red Metals']</td>\n",
       "      <td>NaN</td>\n",
       "      <td>NaN</td>\n",
       "      <td>NaN</td>\n",
       "      <td>NaN</td>\n",
       "      <td>['Red car boxes (clean journals)']</td>\n",
       "      <td>['Yellow boxes and iron-backed boxes']</td>\n",
       "      <td>NaN</td>\n",
       "      <td>NaN</td>\n",
       "      <td>['Standard unlined and/or sweated railroad box...</td>\n",
       "      <td>['Unlined Standard Red Car Boxes (Clean Journa...</td>\n",
       "      <td>['22']</td>\n",
       "      <td>['Fence']</td>\n",
       "    </tr>\n",
       "  </tbody>\n",
       "</table>\n",
       "</div>"
      ],
      "text/plain": [
       "        Relationship full_community_id_src               name_src  \\\n",
       "0  IS_PROCESSED_WITH               ['257']  ['Pyrometallurgical']   \n",
       "1  IS_PROCESSED_WITH               ['257']  ['Pyrometallurgical']   \n",
       "2  IS_PROCESSED_WITH               ['257']  ['Pyrometallurgical']   \n",
       "3  IS_PROCESSED_WITH               ['257']  ['Pyrometallurgical']   \n",
       "4  IS_PROCESSED_WITH               ['257']  ['Pyrometallurgical']   \n",
       "\n",
       "                  Categorisation_trg Category_trg Description_trg  \\\n",
       "0  ['Nonferrous Scrap - Red Metals']          NaN             NaN   \n",
       "1  ['Nonferrous Scrap - Red Metals']          NaN             NaN   \n",
       "2  ['Nonferrous Scrap - Red Metals']          NaN             NaN   \n",
       "3  ['Nonferrous Scrap - Red Metals']          NaN             NaN   \n",
       "4  ['Nonferrous Scrap - Red Metals']          NaN             NaN   \n",
       "\n",
       "                                      Dimensions_trg EDescription_trg  \\\n",
       "0  ['No piece to measure more than 12� over any o...              NaN   \n",
       "1                                                NaN              NaN   \n",
       "2  ['no piece to measure more than 12 inches over...              NaN   \n",
       "3                                                NaN              NaN   \n",
       "4                                                NaN              NaN   \n",
       "\n",
       "                                            Form_trg  \\\n",
       "0  ['Valves', ' including miscellaneous castings'...   \n",
       "1                     ['Scrap borings and turnings']   \n",
       "2                    ['Castings in crucible shape ']   \n",
       "3                          ['Rod ends and forgings']   \n",
       "4                 ['Red car boxes (clean journals)']   \n",
       "\n",
       "                                         Free_of_trg GDescription_trg  \\\n",
       "0  [' and manganese bronzes; iron and non-metalli...              NaN   \n",
       "1                                                NaN              NaN   \n",
       "2  ['brass forgings', ' silicon bronze', ' alumin...              NaN   \n",
       "3                                                NaN              NaN   \n",
       "4             ['Yellow boxes and iron-backed boxes']              NaN   \n",
       "\n",
       "       Material_trg                                 Specifications_trg  \\\n",
       "0     ['Red Brass']  [' zinc', 'Made of copper', ' tin', ' and/or l...   \n",
       "1         ['Brass']  [' and zinc. Turnings shall be unmixed and hav...   \n",
       "2               NaN  ['not to contain more than 15% nickel plated m...   \n",
       "3  ['Leaded Brass']  [' zinc and lead. Turnings shall be unmixed an...   \n",
       "4               NaN  ['Standard unlined and/or sweated railroad box...   \n",
       "\n",
       "                                           Title_trg full_community_id_trg  \\\n",
       "0                       ['Composition or Red Brass']                ['13']   \n",
       "1               ['Lead-Free Bismuth Brass Turnings']                ['15']   \n",
       "2                          ['Yellow Brass Castings']                ['26']   \n",
       "3       ['Leaded Brass Scrap Rod Ends and Forgings']                ['41']   \n",
       "4  ['Unlined Standard Red Car Boxes (Clean Journa...                ['22']   \n",
       "\n",
       "       name_trg  \n",
       "0     ['Ebony']  \n",
       "1  ['Ecstatic']  \n",
       "2     ['Ivory']  \n",
       "3     ['Niche']  \n",
       "4     ['Fence']  "
      ]
     },
     "execution_count": 70,
     "metadata": {},
     "output_type": "execute_result"
    }
   ],
   "source": [
    "process_sheet = pd.read_csv('process_df.csv', index_col=0)\n",
    "process_sheet.head()"
   ]
  },
  {
   "cell_type": "code",
   "execution_count": 71,
   "id": "74eee7df",
   "metadata": {},
   "outputs": [
    {
     "data": {
      "text/plain": [
       "IS_PROCESSED_WITH    101\n",
       "PRODUCES               4\n",
       "Name: Relationship, dtype: int64"
      ]
     },
     "execution_count": 71,
     "metadata": {},
     "output_type": "execute_result"
    }
   ],
   "source": [
    "process_sheet['Relationship'].value_counts()"
   ]
  },
  {
   "cell_type": "markdown",
   "id": "7ae26acb",
   "metadata": {},
   "source": [
    "Τι σημαίνουν όλα αυτά?"
   ]
  },
  {
   "cell_type": "code",
   "execution_count": null,
   "id": "f2b22580",
   "metadata": {},
   "outputs": [],
   "source": []
  },
  {
   "cell_type": "code",
   "execution_count": null,
   "id": "4685fc3d",
   "metadata": {},
   "outputs": [],
   "source": []
  },
  {
   "cell_type": "code",
   "execution_count": null,
   "id": "8e4477fa",
   "metadata": {},
   "outputs": [],
   "source": []
  },
  {
   "cell_type": "code",
   "execution_count": null,
   "id": "bf509b70",
   "metadata": {},
   "outputs": [],
   "source": []
  },
  {
   "cell_type": "code",
   "execution_count": null,
   "id": "e45093ea",
   "metadata": {},
   "outputs": [],
   "source": []
  },
  {
   "cell_type": "code",
   "execution_count": null,
   "id": "8c8c2764",
   "metadata": {},
   "outputs": [],
   "source": []
  },
  {
   "cell_type": "markdown",
   "id": "b64c6821",
   "metadata": {},
   "source": [
    "# Analyze `ANAMET`"
   ]
  },
  {
   "cell_type": "code",
   "execution_count": 72,
   "id": "1f476419",
   "metadata": {},
   "outputs": [
    {
     "data": {
      "text/html": [
       "<div>\n",
       "<style scoped>\n",
       "    .dataframe tbody tr th:only-of-type {\n",
       "        vertical-align: middle;\n",
       "    }\n",
       "\n",
       "    .dataframe tbody tr th {\n",
       "        vertical-align: top;\n",
       "    }\n",
       "\n",
       "    .dataframe thead th {\n",
       "        text-align: right;\n",
       "    }\n",
       "</style>\n",
       "<table border=\"1\" class=\"dataframe\">\n",
       "  <thead>\n",
       "    <tr style=\"text-align: right;\">\n",
       "      <th></th>\n",
       "      <th>Source Entity</th>\n",
       "      <th>Target Entity</th>\n",
       "      <th>Relationship</th>\n",
       "    </tr>\n",
       "  </thead>\n",
       "  <tbody>\n",
       "    <tr>\n",
       "      <th>0</th>\n",
       "      <td>Description:ΣΚΡΑΠ ΨΑΛΙΔΙΣΜΕΝΟ ΠΥΚΝ &gt;450 ΚG/M3 ...</td>\n",
       "      <td>Description:Σύρματα + διάφορο,Category:Ferrous...</td>\n",
       "      <td>CONTAINS</td>\n",
       "    </tr>\n",
       "    <tr>\n",
       "      <th>1</th>\n",
       "      <td>Description:ΣΚΡΑΠ ΨΑΛΙΔΙΣΜΕΝΟ ΠΥΚΝ &gt;450 ΚG/M3 ...</td>\n",
       "      <td>Description:Βαρύ για ΣΟΒΕΛ,Category:Ferrous,na...</td>\n",
       "      <td>CONTAINS</td>\n",
       "    </tr>\n",
       "    <tr>\n",
       "      <th>2</th>\n",
       "      <td>Description:ΣΚΡΑΠ ΨΑΛΙΔΙΣΜΕΝΟ ΠΥΚΝ &gt;450 ΚG/M3 ...</td>\n",
       "      <td>Description:ζάντες + βαρύ προς shredder κλπ απ...</td>\n",
       "      <td>CONTAINS</td>\n",
       "    </tr>\n",
       "    <tr>\n",
       "      <th>3</th>\n",
       "      <td>Description:ΣΚΡΑΠ ΨΑΛΙΔΙΣΜΕΝΟ ΠΥΚΝ &gt;450 ΚG/M3 ...</td>\n",
       "      <td>Category:Ferrous,Description:κουτάκι,name:9101...</td>\n",
       "      <td>CONTAINS</td>\n",
       "    </tr>\n",
       "    <tr>\n",
       "      <th>4</th>\n",
       "      <td>Description:ΣΚΡΑΠ ΨΑΛΙΔΙΣΜΕΝΟ ΠΥΚΝ &gt;450 ΚG/M3 ...</td>\n",
       "      <td>Category:Ferrous,Description:άγνωστο,name:9000...</td>\n",
       "      <td>CONTAINS</td>\n",
       "    </tr>\n",
       "  </tbody>\n",
       "</table>\n",
       "</div>"
      ],
      "text/plain": [
       "                                       Source Entity  \\\n",
       "0  Description:ΣΚΡΑΠ ΨΑΛΙΔΙΣΜΕΝΟ ΠΥΚΝ >450 ΚG/M3 ...   \n",
       "1  Description:ΣΚΡΑΠ ΨΑΛΙΔΙΣΜΕΝΟ ΠΥΚΝ >450 ΚG/M3 ...   \n",
       "2  Description:ΣΚΡΑΠ ΨΑΛΙΔΙΣΜΕΝΟ ΠΥΚΝ >450 ΚG/M3 ...   \n",
       "3  Description:ΣΚΡΑΠ ΨΑΛΙΔΙΣΜΕΝΟ ΠΥΚΝ >450 ΚG/M3 ...   \n",
       "4  Description:ΣΚΡΑΠ ΨΑΛΙΔΙΣΜΕΝΟ ΠΥΚΝ >450 ΚG/M3 ...   \n",
       "\n",
       "                                       Target Entity Relationship  \n",
       "0  Description:Σύρματα + διάφορο,Category:Ferrous...     CONTAINS  \n",
       "1  Description:Βαρύ για ΣΟΒΕΛ,Category:Ferrous,na...     CONTAINS  \n",
       "2  Description:ζάντες + βαρύ προς shredder κλπ απ...     CONTAINS  \n",
       "3  Category:Ferrous,Description:κουτάκι,name:9101...     CONTAINS  \n",
       "4  Category:Ferrous,Description:άγνωστο,name:9000...     CONTAINS  "
      ]
     },
     "execution_count": 72,
     "metadata": {},
     "output_type": "execute_result"
    }
   ],
   "source": [
    "anamet_sheet.head()"
   ]
  },
  {
   "cell_type": "markdown",
   "id": "98db28ae",
   "metadata": {},
   "source": [
    "### Create columns for `se_anamet_unq`"
   ]
  },
  {
   "cell_type": "code",
   "execution_count": 73,
   "id": "0576670f",
   "metadata": {},
   "outputs": [
    {
     "data": {
      "text/plain": [
       "array(['Category', 'Description', 'EDescription', 'GDescription',\n",
       "       'full_community_id', 'name'], dtype='<U17')"
      ]
     },
     "execution_count": 73,
     "metadata": {},
     "output_type": "execute_result"
    }
   ],
   "source": [
    "se_anamet_unq"
   ]
  },
  {
   "cell_type": "code",
   "execution_count": 74,
   "id": "6d82a811",
   "metadata": {},
   "outputs": [],
   "source": [
    "for col in se_anamet_unq:\n",
    "    anamet_sheet[col+\"_src\"] = np.nan"
   ]
  },
  {
   "cell_type": "markdown",
   "id": "0252a38f",
   "metadata": {},
   "source": [
    "Fill the above columns"
   ]
  },
  {
   "cell_type": "code",
   "execution_count": 75,
   "id": "eeb54900",
   "metadata": {},
   "outputs": [
    {
     "name": "stderr",
     "output_type": "stream",
     "text": [
      "  0%|                                                  | 0/1234 [00:00<?, ?it/s]/tmp/ipykernel_12998/3444953912.py:18: SettingWithCopyWarning: \n",
      "A value is trying to be set on a copy of a slice from a DataFrame\n",
      "\n",
      "See the caveats in the documentation: https://pandas.pydata.org/pandas-docs/stable/user_guide/indexing.html#returning-a-view-versus-a-copy\n",
      "  df[col_name].iloc[row] = list(value_to_fill)\n",
      "100%|█████████████████████████████████████| 1234/1234 [00:01<00:00, 1203.88it/s]\n"
     ]
    }
   ],
   "source": [
    "df = anamet_sheet\n",
    "col = 'Source Entity'\n",
    "for row in tqdm(range(len(df))):\n",
    "    split_1 = len(df[col].iloc[row].split(':')) - 1\n",
    "\n",
    "    for i in range(0, split_1):\n",
    "        if(len(df[col].iloc[row].split(':')[i].split(',')) == 1):\n",
    "            last_element = len(df[col].iloc[row].split(':')[i].split(',')) - 1\n",
    "            col_name = (df[col].iloc[row].split(':')[i].split(',')[last_element]+'_src')    \n",
    "            value = (df[col].iloc[row].split(':')[i+1].split(','))    \n",
    "\n",
    "        else:\n",
    "            last_element = len(df[col].iloc[row].split(':')[i].split(',')) - 1\n",
    "            col_name = (df[col].iloc[row].split(':')[i].split(',')[last_element]+'_src')    \n",
    "            value = (df[col].iloc[row].split(':')[i+1].split(','))    \n",
    "        \n",
    "        value_to_fill = set(value) - set(te_materials_unq)\n",
    "        df[col_name].iloc[row] = list(value_to_fill)\n",
    "#         print(col_name, list(set(value) - set(te_materials_unq)))"
   ]
  },
  {
   "cell_type": "code",
   "execution_count": 76,
   "id": "860020db",
   "metadata": {},
   "outputs": [
    {
     "data": {
      "text/html": [
       "<div>\n",
       "<style scoped>\n",
       "    .dataframe tbody tr th:only-of-type {\n",
       "        vertical-align: middle;\n",
       "    }\n",
       "\n",
       "    .dataframe tbody tr th {\n",
       "        vertical-align: top;\n",
       "    }\n",
       "\n",
       "    .dataframe thead th {\n",
       "        text-align: right;\n",
       "    }\n",
       "</style>\n",
       "<table border=\"1\" class=\"dataframe\">\n",
       "  <thead>\n",
       "    <tr style=\"text-align: right;\">\n",
       "      <th></th>\n",
       "      <th>Target Entity</th>\n",
       "      <th>Relationship</th>\n",
       "      <th>Category_src</th>\n",
       "      <th>Description_src</th>\n",
       "      <th>EDescription_src</th>\n",
       "      <th>GDescription_src</th>\n",
       "      <th>full_community_id_src</th>\n",
       "      <th>name_src</th>\n",
       "    </tr>\n",
       "  </thead>\n",
       "  <tbody>\n",
       "    <tr>\n",
       "      <th>0</th>\n",
       "      <td>Description:Σύρματα + διάφορο,Category:Ferrous...</td>\n",
       "      <td>CONTAINS</td>\n",
       "      <td>[Ferrous]</td>\n",
       "      <td>[Category, ΣΚΡΑΠ ΨΑΛΙΔΙΣΜΕΝΟ ΠΥΚΝ &gt;450 ΚG/M3 (...</td>\n",
       "      <td>NaN</td>\n",
       "      <td>NaN</td>\n",
       "      <td>[437]</td>\n",
       "      <td>[40000]</td>\n",
       "    </tr>\n",
       "    <tr>\n",
       "      <th>1</th>\n",
       "      <td>Description:Βαρύ για ΣΟΒΕΛ,Category:Ferrous,na...</td>\n",
       "      <td>CONTAINS</td>\n",
       "      <td>[Ferrous]</td>\n",
       "      <td>[Category, ΣΚΡΑΠ ΨΑΛΙΔΙΣΜΕΝΟ ΠΥΚΝ &gt;450 ΚG/M3 (...</td>\n",
       "      <td>NaN</td>\n",
       "      <td>NaN</td>\n",
       "      <td>[437]</td>\n",
       "      <td>[40000]</td>\n",
       "    </tr>\n",
       "  </tbody>\n",
       "</table>\n",
       "</div>"
      ],
      "text/plain": [
       "                                       Target Entity Relationship  \\\n",
       "0  Description:Σύρματα + διάφορο,Category:Ferrous...     CONTAINS   \n",
       "1  Description:Βαρύ για ΣΟΒΕΛ,Category:Ferrous,na...     CONTAINS   \n",
       "\n",
       "  Category_src                                    Description_src  \\\n",
       "0    [Ferrous]  [Category, ΣΚΡΑΠ ΨΑΛΙΔΙΣΜΕΝΟ ΠΥΚΝ >450 ΚG/M3 (...   \n",
       "1    [Ferrous]  [Category, ΣΚΡΑΠ ΨΑΛΙΔΙΣΜΕΝΟ ΠΥΚΝ >450 ΚG/M3 (...   \n",
       "\n",
       "  EDescription_src GDescription_src full_community_id_src name_src  \n",
       "0              NaN              NaN                 [437]  [40000]  \n",
       "1              NaN              NaN                 [437]  [40000]  "
      ]
     },
     "execution_count": 76,
     "metadata": {},
     "output_type": "execute_result"
    }
   ],
   "source": [
    "anamet_sheet.drop('Source Entity', axis=1, inplace=True)\n",
    "anamet_sheet.head(2)"
   ]
  },
  {
   "cell_type": "markdown",
   "id": "8e910f59",
   "metadata": {},
   "source": [
    "### Create columns for `te_anamet_unq`"
   ]
  },
  {
   "cell_type": "code",
   "execution_count": 77,
   "id": "01cea2c1",
   "metadata": {},
   "outputs": [
    {
     "data": {
      "text/plain": [
       "array(['Categorisation', 'Category', 'Description', 'Dimensions', 'Form',\n",
       "       'Free_of', 'Material', 'Specifications', 'Title', 'ewc',\n",
       "       'finalValue', 'full_community_id', 'name', 'orderCount',\n",
       "       'startingValue', 'startingWeight', 'waste', 'wastePercentage'],\n",
       "      dtype='<U17')"
      ]
     },
     "execution_count": 77,
     "metadata": {},
     "output_type": "execute_result"
    }
   ],
   "source": [
    "te_anamet_unq"
   ]
  },
  {
   "cell_type": "code",
   "execution_count": 78,
   "id": "be0dcbf3",
   "metadata": {},
   "outputs": [],
   "source": [
    "for col in te_anamet_unq:\n",
    "    anamet_sheet[col+\"_trg\"] = np.nan"
   ]
  },
  {
   "cell_type": "markdown",
   "id": "3012f273",
   "metadata": {},
   "source": [
    "Fill the above columns"
   ]
  },
  {
   "cell_type": "code",
   "execution_count": 79,
   "id": "97f8c49d",
   "metadata": {},
   "outputs": [
    {
     "name": "stderr",
     "output_type": "stream",
     "text": [
      "  0%|                                                  | 0/1234 [00:00<?, ?it/s]/tmp/ipykernel_12998/583520602.py:18: SettingWithCopyWarning: \n",
      "A value is trying to be set on a copy of a slice from a DataFrame\n",
      "\n",
      "See the caveats in the documentation: https://pandas.pydata.org/pandas-docs/stable/user_guide/indexing.html#returning-a-view-versus-a-copy\n",
      "  df[col_name].iloc[row] = list(value_to_fill)\n",
      "100%|██████████████████████████████████████| 1234/1234 [00:01<00:00, 653.71it/s]\n"
     ]
    }
   ],
   "source": [
    "df = anamet_sheet\n",
    "col = 'Target Entity'\n",
    "for row in tqdm(range(len(df))):\n",
    "    split_1 = len(df[col].iloc[row].split(':')) - 1\n",
    "\n",
    "    for i in range(0, split_1):\n",
    "        if(len(df[col].iloc[row].split(':')[i].split(',')) == 1):\n",
    "            last_element = len(df[col].iloc[row].split(':')[i].split(',')) - 1\n",
    "            col_name = (df[col].iloc[row].split(':')[i].split(',')[last_element]+'_trg')    \n",
    "            value = (df[col].iloc[row].split(':')[i+1].split(','))    \n",
    "\n",
    "        else:\n",
    "            last_element = len(df[col].iloc[row].split(':')[i].split(',')) - 1\n",
    "            col_name = (df[col].iloc[row].split(':')[i].split(',')[last_element]+'_trg')    \n",
    "            value = (df[col].iloc[row].split(':')[i+1].split(','))    \n",
    "        \n",
    "        value_to_fill = set(value) - set(te_materials_unq)\n",
    "        df[col_name].iloc[row] = list(value_to_fill)\n",
    "#         print(col_name, list(set(value) - set(te_materials_unq)))"
   ]
  },
  {
   "cell_type": "code",
   "execution_count": 80,
   "id": "1b69166a",
   "metadata": {
    "scrolled": true
   },
   "outputs": [
    {
     "data": {
      "text/html": [
       "<div>\n",
       "<style scoped>\n",
       "    .dataframe tbody tr th:only-of-type {\n",
       "        vertical-align: middle;\n",
       "    }\n",
       "\n",
       "    .dataframe tbody tr th {\n",
       "        vertical-align: top;\n",
       "    }\n",
       "\n",
       "    .dataframe thead th {\n",
       "        text-align: right;\n",
       "    }\n",
       "</style>\n",
       "<table border=\"1\" class=\"dataframe\">\n",
       "  <thead>\n",
       "    <tr style=\"text-align: right;\">\n",
       "      <th></th>\n",
       "      <th>Relationship</th>\n",
       "      <th>Category_src</th>\n",
       "      <th>Description_src</th>\n",
       "      <th>EDescription_src</th>\n",
       "      <th>GDescription_src</th>\n",
       "      <th>full_community_id_src</th>\n",
       "      <th>name_src</th>\n",
       "      <th>Categorisation_trg</th>\n",
       "      <th>Category_trg</th>\n",
       "      <th>Description_trg</th>\n",
       "      <th>...</th>\n",
       "      <th>Title_trg</th>\n",
       "      <th>ewc_trg</th>\n",
       "      <th>finalValue_trg</th>\n",
       "      <th>full_community_id_trg</th>\n",
       "      <th>name_trg</th>\n",
       "      <th>orderCount_trg</th>\n",
       "      <th>startingValue_trg</th>\n",
       "      <th>startingWeight_trg</th>\n",
       "      <th>waste_trg</th>\n",
       "      <th>wastePercentage_trg</th>\n",
       "    </tr>\n",
       "  </thead>\n",
       "  <tbody>\n",
       "    <tr>\n",
       "      <th>0</th>\n",
       "      <td>CONTAINS</td>\n",
       "      <td>[Ferrous]</td>\n",
       "      <td>[Category, ΣΚΡΑΠ ΨΑΛΙΔΙΣΜΕΝΟ ΠΥΚΝ &gt;450 ΚG/M3 (...</td>\n",
       "      <td>NaN</td>\n",
       "      <td>NaN</td>\n",
       "      <td>[437]</td>\n",
       "      <td>[40000]</td>\n",
       "      <td>NaN</td>\n",
       "      <td>[Ferrous]</td>\n",
       "      <td>[Σύρματα + διάφορο, Category]</td>\n",
       "      <td>...</td>\n",
       "      <td>NaN</td>\n",
       "      <td>NaN</td>\n",
       "      <td>NaN</td>\n",
       "      <td>[442]</td>\n",
       "      <td>[9104]</td>\n",
       "      <td>NaN</td>\n",
       "      <td>NaN</td>\n",
       "      <td>NaN</td>\n",
       "      <td>NaN</td>\n",
       "      <td>NaN</td>\n",
       "    </tr>\n",
       "    <tr>\n",
       "      <th>1</th>\n",
       "      <td>CONTAINS</td>\n",
       "      <td>[Ferrous]</td>\n",
       "      <td>[Category, ΣΚΡΑΠ ΨΑΛΙΔΙΣΜΕΝΟ ΠΥΚΝ &gt;450 ΚG/M3 (...</td>\n",
       "      <td>NaN</td>\n",
       "      <td>NaN</td>\n",
       "      <td>[437]</td>\n",
       "      <td>[40000]</td>\n",
       "      <td>NaN</td>\n",
       "      <td>[Ferrous]</td>\n",
       "      <td>[Βαρύ για ΣΟΒΕΛ, Category]</td>\n",
       "      <td>...</td>\n",
       "      <td>NaN</td>\n",
       "      <td>NaN</td>\n",
       "      <td>NaN</td>\n",
       "      <td>[444]</td>\n",
       "      <td>[9107]</td>\n",
       "      <td>NaN</td>\n",
       "      <td>NaN</td>\n",
       "      <td>NaN</td>\n",
       "      <td>NaN</td>\n",
       "      <td>NaN</td>\n",
       "    </tr>\n",
       "  </tbody>\n",
       "</table>\n",
       "<p>2 rows × 25 columns</p>\n",
       "</div>"
      ],
      "text/plain": [
       "  Relationship Category_src  \\\n",
       "0     CONTAINS    [Ferrous]   \n",
       "1     CONTAINS    [Ferrous]   \n",
       "\n",
       "                                     Description_src EDescription_src  \\\n",
       "0  [Category, ΣΚΡΑΠ ΨΑΛΙΔΙΣΜΕΝΟ ΠΥΚΝ >450 ΚG/M3 (...              NaN   \n",
       "1  [Category, ΣΚΡΑΠ ΨΑΛΙΔΙΣΜΕΝΟ ΠΥΚΝ >450 ΚG/M3 (...              NaN   \n",
       "\n",
       "  GDescription_src full_community_id_src name_src Categorisation_trg  \\\n",
       "0              NaN                 [437]  [40000]                NaN   \n",
       "1              NaN                 [437]  [40000]                NaN   \n",
       "\n",
       "  Category_trg                Description_trg  ... Title_trg ewc_trg  \\\n",
       "0    [Ferrous]  [Σύρματα + διάφορο, Category]  ...       NaN     NaN   \n",
       "1    [Ferrous]     [Βαρύ για ΣΟΒΕΛ, Category]  ...       NaN     NaN   \n",
       "\n",
       "  finalValue_trg full_community_id_trg name_trg orderCount_trg  \\\n",
       "0            NaN                 [442]   [9104]            NaN   \n",
       "1            NaN                 [444]   [9107]            NaN   \n",
       "\n",
       "  startingValue_trg startingWeight_trg waste_trg wastePercentage_trg  \n",
       "0               NaN                NaN       NaN                 NaN  \n",
       "1               NaN                NaN       NaN                 NaN  \n",
       "\n",
       "[2 rows x 25 columns]"
      ]
     },
     "execution_count": 80,
     "metadata": {},
     "output_type": "execute_result"
    }
   ],
   "source": [
    "anamet_sheet.drop('Target Entity', axis=1, inplace=True)\n",
    "anamet_sheet.head(2)"
   ]
  },
  {
   "cell_type": "code",
   "execution_count": 81,
   "id": "9ee49f8b",
   "metadata": {},
   "outputs": [],
   "source": [
    "anamet_sheet.to_csv('anamet_df.csv')"
   ]
  },
  {
   "cell_type": "markdown",
   "id": "99420801",
   "metadata": {},
   "source": [
    "# READ `ANAMET` DATA"
   ]
  },
  {
   "cell_type": "code",
   "execution_count": 82,
   "id": "e64e19b5",
   "metadata": {},
   "outputs": [
    {
     "data": {
      "text/html": [
       "<div>\n",
       "<style scoped>\n",
       "    .dataframe tbody tr th:only-of-type {\n",
       "        vertical-align: middle;\n",
       "    }\n",
       "\n",
       "    .dataframe tbody tr th {\n",
       "        vertical-align: top;\n",
       "    }\n",
       "\n",
       "    .dataframe thead th {\n",
       "        text-align: right;\n",
       "    }\n",
       "</style>\n",
       "<table border=\"1\" class=\"dataframe\">\n",
       "  <thead>\n",
       "    <tr style=\"text-align: right;\">\n",
       "      <th></th>\n",
       "      <th>Relationship</th>\n",
       "      <th>Category_src</th>\n",
       "      <th>Description_src</th>\n",
       "      <th>EDescription_src</th>\n",
       "      <th>GDescription_src</th>\n",
       "      <th>full_community_id_src</th>\n",
       "      <th>name_src</th>\n",
       "      <th>Categorisation_trg</th>\n",
       "      <th>Category_trg</th>\n",
       "      <th>Description_trg</th>\n",
       "      <th>...</th>\n",
       "      <th>Title_trg</th>\n",
       "      <th>ewc_trg</th>\n",
       "      <th>finalValue_trg</th>\n",
       "      <th>full_community_id_trg</th>\n",
       "      <th>name_trg</th>\n",
       "      <th>orderCount_trg</th>\n",
       "      <th>startingValue_trg</th>\n",
       "      <th>startingWeight_trg</th>\n",
       "      <th>waste_trg</th>\n",
       "      <th>wastePercentage_trg</th>\n",
       "    </tr>\n",
       "  </thead>\n",
       "  <tbody>\n",
       "    <tr>\n",
       "      <th>0</th>\n",
       "      <td>CONTAINS</td>\n",
       "      <td>['Ferrous']</td>\n",
       "      <td>['Category', 'ΣΚΡΑΠ ΨΑΛΙΔΙΣΜΕΝΟ ΠΥΚΝ &gt;450 ΚG/M...</td>\n",
       "      <td>NaN</td>\n",
       "      <td>NaN</td>\n",
       "      <td>['437']</td>\n",
       "      <td>['40000']</td>\n",
       "      <td>NaN</td>\n",
       "      <td>['Ferrous']</td>\n",
       "      <td>['Σύρματα + διάφορο', 'Category']</td>\n",
       "      <td>...</td>\n",
       "      <td>NaN</td>\n",
       "      <td>NaN</td>\n",
       "      <td>NaN</td>\n",
       "      <td>['442']</td>\n",
       "      <td>['9104']</td>\n",
       "      <td>NaN</td>\n",
       "      <td>NaN</td>\n",
       "      <td>NaN</td>\n",
       "      <td>NaN</td>\n",
       "      <td>NaN</td>\n",
       "    </tr>\n",
       "    <tr>\n",
       "      <th>1</th>\n",
       "      <td>CONTAINS</td>\n",
       "      <td>['Ferrous']</td>\n",
       "      <td>['Category', 'ΣΚΡΑΠ ΨΑΛΙΔΙΣΜΕΝΟ ΠΥΚΝ &gt;450 ΚG/M...</td>\n",
       "      <td>NaN</td>\n",
       "      <td>NaN</td>\n",
       "      <td>['437']</td>\n",
       "      <td>['40000']</td>\n",
       "      <td>NaN</td>\n",
       "      <td>['Ferrous']</td>\n",
       "      <td>['Βαρύ για ΣΟΒΕΛ', 'Category']</td>\n",
       "      <td>...</td>\n",
       "      <td>NaN</td>\n",
       "      <td>NaN</td>\n",
       "      <td>NaN</td>\n",
       "      <td>['444']</td>\n",
       "      <td>['9107']</td>\n",
       "      <td>NaN</td>\n",
       "      <td>NaN</td>\n",
       "      <td>NaN</td>\n",
       "      <td>NaN</td>\n",
       "      <td>NaN</td>\n",
       "    </tr>\n",
       "    <tr>\n",
       "      <th>2</th>\n",
       "      <td>CONTAINS</td>\n",
       "      <td>['Ferrous']</td>\n",
       "      <td>['Category', 'ΣΚΡΑΠ ΨΑΛΙΔΙΣΜΕΝΟ ΠΥΚΝ &gt;450 ΚG/M...</td>\n",
       "      <td>NaN</td>\n",
       "      <td>NaN</td>\n",
       "      <td>['437']</td>\n",
       "      <td>['40000']</td>\n",
       "      <td>NaN</td>\n",
       "      <td>['Ferrous']</td>\n",
       "      <td>['ζάντες + βαρύ προς shredder κλπ από ΟΤΚΖ', '...</td>\n",
       "      <td>...</td>\n",
       "      <td>NaN</td>\n",
       "      <td>NaN</td>\n",
       "      <td>NaN</td>\n",
       "      <td>['441']</td>\n",
       "      <td>['9103']</td>\n",
       "      <td>NaN</td>\n",
       "      <td>NaN</td>\n",
       "      <td>NaN</td>\n",
       "      <td>NaN</td>\n",
       "      <td>NaN</td>\n",
       "    </tr>\n",
       "    <tr>\n",
       "      <th>3</th>\n",
       "      <td>CONTAINS</td>\n",
       "      <td>['Ferrous']</td>\n",
       "      <td>['Category', 'ΣΚΡΑΠ ΨΑΛΙΔΙΣΜΕΝΟ ΠΥΚΝ &gt;450 ΚG/M...</td>\n",
       "      <td>NaN</td>\n",
       "      <td>NaN</td>\n",
       "      <td>['437']</td>\n",
       "      <td>['40000']</td>\n",
       "      <td>NaN</td>\n",
       "      <td>['Ferrous', 'Description']</td>\n",
       "      <td>['κουτάκι']</td>\n",
       "      <td>...</td>\n",
       "      <td>NaN</td>\n",
       "      <td>NaN</td>\n",
       "      <td>NaN</td>\n",
       "      <td>['439']</td>\n",
       "      <td>['9101']</td>\n",
       "      <td>NaN</td>\n",
       "      <td>NaN</td>\n",
       "      <td>NaN</td>\n",
       "      <td>NaN</td>\n",
       "      <td>NaN</td>\n",
       "    </tr>\n",
       "    <tr>\n",
       "      <th>4</th>\n",
       "      <td>CONTAINS</td>\n",
       "      <td>['Ferrous']</td>\n",
       "      <td>['Category', 'ΣΚΡΑΠ ΨΑΛΙΔΙΣΜΕΝΟ ΠΥΚΝ &gt;450 ΚG/M...</td>\n",
       "      <td>NaN</td>\n",
       "      <td>NaN</td>\n",
       "      <td>['437']</td>\n",
       "      <td>['40000']</td>\n",
       "      <td>NaN</td>\n",
       "      <td>['Ferrous', 'Description']</td>\n",
       "      <td>['άγνωστο']</td>\n",
       "      <td>...</td>\n",
       "      <td>NaN</td>\n",
       "      <td>NaN</td>\n",
       "      <td>NaN</td>\n",
       "      <td>['438']</td>\n",
       "      <td>['9000']</td>\n",
       "      <td>NaN</td>\n",
       "      <td>NaN</td>\n",
       "      <td>NaN</td>\n",
       "      <td>NaN</td>\n",
       "      <td>NaN</td>\n",
       "    </tr>\n",
       "  </tbody>\n",
       "</table>\n",
       "<p>5 rows × 25 columns</p>\n",
       "</div>"
      ],
      "text/plain": [
       "  Relationship Category_src  \\\n",
       "0     CONTAINS  ['Ferrous']   \n",
       "1     CONTAINS  ['Ferrous']   \n",
       "2     CONTAINS  ['Ferrous']   \n",
       "3     CONTAINS  ['Ferrous']   \n",
       "4     CONTAINS  ['Ferrous']   \n",
       "\n",
       "                                     Description_src EDescription_src  \\\n",
       "0  ['Category', 'ΣΚΡΑΠ ΨΑΛΙΔΙΣΜΕΝΟ ΠΥΚΝ >450 ΚG/M...              NaN   \n",
       "1  ['Category', 'ΣΚΡΑΠ ΨΑΛΙΔΙΣΜΕΝΟ ΠΥΚΝ >450 ΚG/M...              NaN   \n",
       "2  ['Category', 'ΣΚΡΑΠ ΨΑΛΙΔΙΣΜΕΝΟ ΠΥΚΝ >450 ΚG/M...              NaN   \n",
       "3  ['Category', 'ΣΚΡΑΠ ΨΑΛΙΔΙΣΜΕΝΟ ΠΥΚΝ >450 ΚG/M...              NaN   \n",
       "4  ['Category', 'ΣΚΡΑΠ ΨΑΛΙΔΙΣΜΕΝΟ ΠΥΚΝ >450 ΚG/M...              NaN   \n",
       "\n",
       "  GDescription_src full_community_id_src   name_src Categorisation_trg  \\\n",
       "0              NaN               ['437']  ['40000']                NaN   \n",
       "1              NaN               ['437']  ['40000']                NaN   \n",
       "2              NaN               ['437']  ['40000']                NaN   \n",
       "3              NaN               ['437']  ['40000']                NaN   \n",
       "4              NaN               ['437']  ['40000']                NaN   \n",
       "\n",
       "                 Category_trg  \\\n",
       "0                 ['Ferrous']   \n",
       "1                 ['Ferrous']   \n",
       "2                 ['Ferrous']   \n",
       "3  ['Ferrous', 'Description']   \n",
       "4  ['Ferrous', 'Description']   \n",
       "\n",
       "                                     Description_trg  ... Title_trg ewc_trg  \\\n",
       "0                  ['Σύρματα + διάφορο', 'Category']  ...       NaN     NaN   \n",
       "1                     ['Βαρύ για ΣΟΒΕΛ', 'Category']  ...       NaN     NaN   \n",
       "2  ['ζάντες + βαρύ προς shredder κλπ από ΟΤΚΖ', '...  ...       NaN     NaN   \n",
       "3                                        ['κουτάκι']  ...       NaN     NaN   \n",
       "4                                        ['άγνωστο']  ...       NaN     NaN   \n",
       "\n",
       "  finalValue_trg full_community_id_trg  name_trg orderCount_trg  \\\n",
       "0            NaN               ['442']  ['9104']            NaN   \n",
       "1            NaN               ['444']  ['9107']            NaN   \n",
       "2            NaN               ['441']  ['9103']            NaN   \n",
       "3            NaN               ['439']  ['9101']            NaN   \n",
       "4            NaN               ['438']  ['9000']            NaN   \n",
       "\n",
       "  startingValue_trg startingWeight_trg waste_trg wastePercentage_trg  \n",
       "0               NaN                NaN       NaN                 NaN  \n",
       "1               NaN                NaN       NaN                 NaN  \n",
       "2               NaN                NaN       NaN                 NaN  \n",
       "3               NaN                NaN       NaN                 NaN  \n",
       "4               NaN                NaN       NaN                 NaN  \n",
       "\n",
       "[5 rows x 25 columns]"
      ]
     },
     "execution_count": 82,
     "metadata": {},
     "output_type": "execute_result"
    }
   ],
   "source": [
    "anamet_sheet = pd.read_csv('anamet_df.csv', index_col=0)\n",
    "anamet_sheet.head()"
   ]
  },
  {
   "cell_type": "code",
   "execution_count": 83,
   "id": "ae2b1e90",
   "metadata": {},
   "outputs": [
    {
     "data": {
      "text/plain": [
       "IS_PROCESSED_WITH    101\n",
       "PRODUCES               4\n",
       "Name: Relationship, dtype: int64"
      ]
     },
     "execution_count": 83,
     "metadata": {},
     "output_type": "execute_result"
    }
   ],
   "source": [
    "process_sheet['Relationship'].value_counts()"
   ]
  }
 ],
 "metadata": {
  "kernelspec": {
   "display_name": "Python 3 (ipykernel)",
   "language": "python",
   "name": "python3"
  },
  "language_info": {
   "codemirror_mode": {
    "name": "ipython",
    "version": 3
   },
   "file_extension": ".py",
   "mimetype": "text/x-python",
   "name": "python",
   "nbconvert_exporter": "python",
   "pygments_lexer": "ipython3",
   "version": "3.9.10"
  }
 },
 "nbformat": 4,
 "nbformat_minor": 5
}
