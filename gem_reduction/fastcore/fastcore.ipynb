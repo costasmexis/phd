{
 "cells": [
  {
   "cell_type": "code",
   "execution_count": 21,
   "id": "2fd65666-eb90-4cb5-9654-560b52af2e7a",
   "metadata": {},
   "outputs": [
    {
     "name": "stderr",
     "output_type": "stream",
     "text": [
      "WARNING:cobra.io.sbml:Loading SBML model without fbc:strict=\"true\"\n",
      "WARNING:cobra.io.sbml:Loading SBML with fbc-v1 (models should be encoded using fbc-v2)\n",
      "INFO:cobra.core.model:The current solver interface glpk doesn't support setting the optimality tolerance.\n"
     ]
    }
   ],
   "source": [
    "import symbolicSBML\n",
    "import cobra\n",
    "\n",
    "model_path = 'toy.xml'\n",
    "symbolic_model = symbolicSBML.SymbolicModel.from_sbml(model_path)\n",
    "cobra_model = cobra.io.read_sbml_model(str(model_path), f_replace={})\n",
    "\n",
    "cobra_model"
   ]
  },
  {
   "cell_type": "code",
   "execution_count": 15,
   "id": "f01cc84a-4fb1-4b27-887f-36d2fa602acb",
   "metadata": {},
   "outputs": [
    {
     "name": "stderr",
     "output_type": "stream",
     "text": [
      "INFO:cobra.core.model:The current solver interface glpk doesn't support setting the optimality tolerance.\n"
     ]
    },
    {
     "ename": "OSError",
     "evalue": "The file with 'toy.json' does not exist, or is not an SBML string. Provide the path to an existing SBML file or a valid SBML string representation:\n",
     "output_type": "error",
     "traceback": [
      "\u001b[0;31m---------------------------------------------------------------------------\u001b[0m",
      "\u001b[0;31mOSError\u001b[0m                                   Traceback (most recent call last)",
      "Cell \u001b[0;32mIn [15], line 9\u001b[0m\n\u001b[1;32m      6\u001b[0m \u001b[38;5;66;03m# Loading a toy model of E. coli from cobra.test package\u001b[39;00m\n\u001b[1;32m      7\u001b[0m model \u001b[38;5;241m=\u001b[39m load_model(\u001b[38;5;124m'\u001b[39m\u001b[38;5;124mtextbook\u001b[39m\u001b[38;5;124m'\u001b[39m)\n\u001b[0;32m----> 9\u001b[0m model \u001b[38;5;241m=\u001b[39m \u001b[43mread_sbml_model\u001b[49m\u001b[43m(\u001b[49m\u001b[38;5;124;43m'\u001b[39;49m\u001b[38;5;124;43mtoy.json\u001b[39;49m\u001b[38;5;124;43m'\u001b[39;49m\u001b[43m)\u001b[49m\n\u001b[1;32m     12\u001b[0m \u001b[38;5;66;03m# Define the list of core reactions\u001b[39;00m\n\u001b[1;32m     13\u001b[0m \u001b[38;5;66;03m# core_reactions = ['Biomass_Ecoli_core', 'ATPM']\u001b[39;00m\n\u001b[1;32m     14\u001b[0m core_reactions \u001b[38;5;241m=\u001b[39m [\u001b[38;5;124m'\u001b[39m\u001b[38;5;124mOutputX\u001b[39m\u001b[38;5;124m'\u001b[39m]\n",
      "File \u001b[0;32m~/Desktop/python-envs/main-bio/lib/python3.9/site-packages/cobra/io/sbml.py:460\u001b[0m, in \u001b[0;36mread_sbml_model\u001b[0;34m(filename, number, f_replace, **kwargs)\u001b[0m\n\u001b[1;32m    458\u001b[0m     \u001b[38;5;28;01mreturn\u001b[39;00m _sbml_to_model(doc, number\u001b[38;5;241m=\u001b[39mnumber, f_replace\u001b[38;5;241m=\u001b[39mf_replace, \u001b[38;5;241m*\u001b[39m\u001b[38;5;241m*\u001b[39mkwargs)\n\u001b[1;32m    459\u001b[0m \u001b[38;5;28;01mexcept\u001b[39;00m \u001b[38;5;167;01mIOError\u001b[39;00m \u001b[38;5;28;01mas\u001b[39;00m e:\n\u001b[0;32m--> 460\u001b[0m     \u001b[38;5;28;01mraise\u001b[39;00m e\n\u001b[1;32m    462\u001b[0m \u001b[38;5;28;01mexcept\u001b[39;00m \u001b[38;5;167;01mException\u001b[39;00m \u001b[38;5;28;01mas\u001b[39;00m original_error:\n\u001b[1;32m    463\u001b[0m     cobra_error \u001b[38;5;241m=\u001b[39m CobraSBMLError(\n\u001b[1;32m    464\u001b[0m         \u001b[38;5;124m\"\u001b[39m\u001b[38;5;124mSomething went wrong reading the SBML model. Most likely the SBML\u001b[39m\u001b[38;5;124m\"\u001b[39m\n\u001b[1;32m    465\u001b[0m         \u001b[38;5;124m\"\u001b[39m\u001b[38;5;124m model is not valid. Please check that your model is valid using \u001b[39m\u001b[38;5;124m\"\u001b[39m\n\u001b[0;32m   (...)\u001b[0m\n\u001b[1;32m    470\u001b[0m         \u001b[38;5;124m\"\u001b[39m\u001b[38;5;124mat https://github.com/opencobra/cobrapy/issues .\u001b[39m\u001b[38;5;124m\"\u001b[39m\n\u001b[1;32m    471\u001b[0m     )\n",
      "File \u001b[0;32m~/Desktop/python-envs/main-bio/lib/python3.9/site-packages/cobra/io/sbml.py:457\u001b[0m, in \u001b[0;36mread_sbml_model\u001b[0;34m(filename, number, f_replace, **kwargs)\u001b[0m\n\u001b[1;32m    402\u001b[0m \u001b[38;5;124;03m\"\"\"Read SBML model from given filename.\u001b[39;00m\n\u001b[1;32m    403\u001b[0m \n\u001b[1;32m    404\u001b[0m \u001b[38;5;124;03mIf the given filename ends with the suffix ''.gz'' (for example,\u001b[39;00m\n\u001b[0;32m   (...)\u001b[0m\n\u001b[1;32m    454\u001b[0m \u001b[38;5;124;03mFile handles to compressed files are not supported yet.\u001b[39;00m\n\u001b[1;32m    455\u001b[0m \u001b[38;5;124;03m\"\"\"\u001b[39;00m\n\u001b[1;32m    456\u001b[0m \u001b[38;5;28;01mtry\u001b[39;00m:\n\u001b[0;32m--> 457\u001b[0m     doc \u001b[38;5;241m=\u001b[39m \u001b[43m_get_doc_from_filename\u001b[49m\u001b[43m(\u001b[49m\u001b[43mfilename\u001b[49m\u001b[43m)\u001b[49m\n\u001b[1;32m    458\u001b[0m     \u001b[38;5;28;01mreturn\u001b[39;00m _sbml_to_model(doc, number\u001b[38;5;241m=\u001b[39mnumber, f_replace\u001b[38;5;241m=\u001b[39mf_replace, \u001b[38;5;241m*\u001b[39m\u001b[38;5;241m*\u001b[39mkwargs)\n\u001b[1;32m    459\u001b[0m \u001b[38;5;28;01mexcept\u001b[39;00m \u001b[38;5;167;01mIOError\u001b[39;00m \u001b[38;5;28;01mas\u001b[39;00m e:\n",
      "File \u001b[0;32m~/Desktop/python-envs/main-bio/lib/python3.9/site-packages/cobra/io/sbml.py:505\u001b[0m, in \u001b[0;36m_get_doc_from_filename\u001b[0;34m(filename)\u001b[0m\n\u001b[1;32m    502\u001b[0m     \u001b[38;5;28;01melse\u001b[39;00m:\n\u001b[1;32m    503\u001b[0m         \u001b[38;5;66;03m# string representation\u001b[39;00m\n\u001b[1;32m    504\u001b[0m         \u001b[38;5;28;01mif\u001b[39;00m \u001b[38;5;124m\"\u001b[39m\u001b[38;5;124m<sbml\u001b[39m\u001b[38;5;124m\"\u001b[39m \u001b[38;5;129;01mnot\u001b[39;00m \u001b[38;5;129;01min\u001b[39;00m filename:\n\u001b[0;32m--> 505\u001b[0m             \u001b[38;5;28;01mraise\u001b[39;00m \u001b[38;5;167;01mIOError\u001b[39;00m(\n\u001b[1;32m    506\u001b[0m                 \u001b[38;5;124mf\u001b[39m\u001b[38;5;124m\"\u001b[39m\u001b[38;5;124mThe file with \u001b[39m\u001b[38;5;124m'\u001b[39m\u001b[38;5;132;01m{\u001b[39;00mfilename\u001b[38;5;132;01m}\u001b[39;00m\u001b[38;5;124m'\u001b[39m\u001b[38;5;124m does not exist, \u001b[39m\u001b[38;5;124m\"\u001b[39m\n\u001b[1;32m    507\u001b[0m                 \u001b[38;5;124mf\u001b[39m\u001b[38;5;124m\"\u001b[39m\u001b[38;5;124mor is not an SBML string. Provide the path to \u001b[39m\u001b[38;5;124m\"\u001b[39m\n\u001b[1;32m    508\u001b[0m                 \u001b[38;5;124mf\u001b[39m\u001b[38;5;124m\"\u001b[39m\u001b[38;5;124man existing SBML file or a valid SBML string representation:\u001b[39m\u001b[38;5;130;01m\\n\u001b[39;00m\u001b[38;5;124m\"\u001b[39m\n\u001b[1;32m    509\u001b[0m             )\n\u001b[1;32m    511\u001b[0m         doc \u001b[38;5;241m=\u001b[39m libsbml\u001b[38;5;241m.\u001b[39mreadSBMLFromString(\n\u001b[1;32m    512\u001b[0m             filename\n\u001b[1;32m    513\u001b[0m         )  \u001b[38;5;66;03m# noqa: E501 type: libsbml.SBMLDocument\u001b[39;00m\n\u001b[1;32m    515\u001b[0m \u001b[38;5;28;01melif\u001b[39;00m \u001b[38;5;28mhasattr\u001b[39m(filename, \u001b[38;5;124m\"\u001b[39m\u001b[38;5;124mread\u001b[39m\u001b[38;5;124m\"\u001b[39m):\n\u001b[1;32m    516\u001b[0m     \u001b[38;5;66;03m# file handle\u001b[39;00m\n",
      "\u001b[0;31mOSError\u001b[0m: The file with 'toy.json' does not exist, or is not an SBML string. Provide the path to an existing SBML file or a valid SBML string representation:\n"
     ]
    }
   ],
   "source": [
    "from cobra.io import load_model\n",
    "from cobra.io.json import load_json_model\n",
    "from cobra.io.sbml import read_sbml_model\n",
    "from pyfastcore import Fastcore\n",
    "\n",
    "# Loading a toy model of E. coli from cobra.test package\n",
    "model = load_model('textbook')\n",
    "\n",
    "model = read_sbml_model('toy.json')\n",
    "\n",
    "\n",
    "# Define the list of core reactions\n",
    "# core_reactions = ['Biomass_Ecoli_core', 'ATPM']\n",
    "core_reactions = ['OutputX']\n",
    "\n",
    "# Setting the penalty of exchange fluxes to 0\n",
    "penalties = {}\n",
    "for r in model.exchanges:\n",
    "    penalties[r.id] = 0\n",
    "\n",
    "# Creating a fastcore solver instnace\n",
    "fc_builder = Fastcore(model, core_reactions,\n",
    "                      penalties=penalties,\n",
    "                      default_penalty=10,\n",
    "                      debug_mode=True)\n",
    "\n",
    "# Rnunning fastcore\n",
    "fc_builder.fast_core()\n",
    "\n",
    "# checking the list of reaction in the consistent network found\n",
    "consistent_subnetwork = fc_builder.consistent_subnetwork\n",
    "print(\"Consistent subnetworksize set size\", len(consistent_subnetwork))\n",
    "print(\"Context specific core:\")\n",
    "print(consistent_subnetwork)\n",
    "\n",
    "# creating a cobra model for the consistent network found\n",
    "print(f\"Building context-specific model for {model.id}\")\n",
    "cs_model = fc_builder.build_context_specific_model()\n",
    "\n",
    "# Running and FBA using subnetwork model \n",
    "print(\"Running FBA on CS-model\")\n",
    "sol = cs_model.optimize()\n",
    "print(cs_model.summary())"
   ]
  },
  {
   "cell_type": "code",
   "execution_count": 6,
   "id": "64d323bb-e731-4f2d-8c55-8238e22eccda",
   "metadata": {},
   "outputs": [
    {
     "data": {
      "text/html": [
       "\n",
       "        <table>\n",
       "            <tr>\n",
       "                <td><strong>Name</strong></td>\n",
       "                <td>toy</td>\n",
       "            </tr><tr>\n",
       "                <td><strong>Memory address</strong></td>\n",
       "                <td>0x07f90c6c7eee0</td>\n",
       "            </tr><tr>\n",
       "                <td><strong>Number of metabolites</strong></td>\n",
       "                <td>17</td>\n",
       "            </tr><tr>\n",
       "                <td><strong>Number of reactions</strong></td>\n",
       "                <td>21</td>\n",
       "            </tr><tr>\n",
       "                <td><strong>Number of groups</strong></td>\n",
       "                <td>0</td>\n",
       "            </tr><tr>\n",
       "                <td><strong>Objective expression</strong></td>\n",
       "                <td>1.0*OutputX - 1.0*OutputX_reverse_e7472</td>\n",
       "            </tr><tr>\n",
       "                <td><strong>Compartments</strong></td>\n",
       "                <td></td>\n",
       "            </tr>\n",
       "          </table>"
      ],
      "text/plain": [
       "<Model toy at 0x7f90c6c7eee0>"
      ]
     },
     "execution_count": 6,
     "metadata": {},
     "output_type": "execute_result"
    }
   ],
   "source": [
    "model"
   ]
  },
  {
   "cell_type": "code",
   "execution_count": 7,
   "id": "9a0ebda1-e854-4287-844c-ec03a98affc1",
   "metadata": {},
   "outputs": [
    {
     "data": {
      "text/html": [
       "\n",
       "        <table>\n",
       "            <tr>\n",
       "                <td><strong>Name</strong></td>\n",
       "                <td>toy</td>\n",
       "            </tr><tr>\n",
       "                <td><strong>Memory address</strong></td>\n",
       "                <td>0x07f90c6cf5370</td>\n",
       "            </tr><tr>\n",
       "                <td><strong>Number of metabolites</strong></td>\n",
       "                <td>9</td>\n",
       "            </tr><tr>\n",
       "                <td><strong>Number of reactions</strong></td>\n",
       "                <td>9</td>\n",
       "            </tr><tr>\n",
       "                <td><strong>Number of groups</strong></td>\n",
       "                <td>0</td>\n",
       "            </tr><tr>\n",
       "                <td><strong>Objective expression</strong></td>\n",
       "                <td>1.0*OutputX - 1.0*OutputX_reverse_e7472</td>\n",
       "            </tr><tr>\n",
       "                <td><strong>Compartments</strong></td>\n",
       "                <td></td>\n",
       "            </tr>\n",
       "          </table>"
      ],
      "text/plain": [
       "<Model toy at 0x7f90c6cf5370>"
      ]
     },
     "execution_count": 7,
     "metadata": {},
     "output_type": "execute_result"
    }
   ],
   "source": [
    "cs_model"
   ]
  },
  {
   "cell_type": "code",
   "execution_count": 8,
   "id": "fc1687c0-37cd-46a9-a875-04ac55e67ba1",
   "metadata": {},
   "outputs": [
    {
     "data": {
      "text/plain": [
       "[<Reaction r3 at 0x7f90c6ced880>,\n",
       " <Reaction r5 at 0x7f90c6ced370>,\n",
       " <Reaction r6 at 0x7f90c6ced0d0>,\n",
       " <Reaction r7 at 0x7f90c6cd73a0>,\n",
       " <Reaction r8 at 0x7f90c6cd77f0>,\n",
       " <Reaction r9 at 0x7f90c6cd7a00>,\n",
       " <Reaction r10 at 0x7f90c6cd79d0>,\n",
       " <Reaction InputI at 0x7f90c6cd7b50>,\n",
       " <Reaction OutputX at 0x7f90c6cd75e0>]"
      ]
     },
     "execution_count": 8,
     "metadata": {},
     "output_type": "execute_result"
    }
   ],
   "source": [
    "cs_model.reactions"
   ]
  },
  {
   "cell_type": "code",
   "execution_count": 10,
   "id": "2d9632cc-ab5e-4d33-871f-ca4f2b94887d",
   "metadata": {},
   "outputs": [
    {
     "name": "stdout",
     "output_type": "stream",
     "text": [
      "9.0\n",
      "optimal\n"
     ]
    }
   ],
   "source": [
    "solution =  model.optimize()    \n",
    "print(solution.objective_value)\n",
    "print(solution.status)"
   ]
  },
  {
   "cell_type": "code",
   "execution_count": 11,
   "id": "4e939f82-6834-48cc-8101-2a685bc10954",
   "metadata": {},
   "outputs": [
    {
     "name": "stdout",
     "output_type": "stream",
     "text": [
      "6.0\n",
      "optimal\n"
     ]
    }
   ],
   "source": [
    "solution =  cs_model.optimize()    \n",
    "print(solution.objective_value)\n",
    "print(solution.status)"
   ]
  },
  {
   "cell_type": "code",
   "execution_count": 13,
   "id": "cc4a3f97-61e2-4923-83c9-eb423bd9c78d",
   "metadata": {},
   "outputs": [
    {
     "data": {
      "text/plain": [
       "{<Reaction OutputX at 0x7f90c6d96910>,\n",
       " <Reaction outputK at 0x7f90c6d962e0>,\n",
       " <Reaction r11 at 0x7f90c6de8fa0>,\n",
       " <Reaction r12 at 0x7f90c6de8f40>,\n",
       " <Reaction r13 at 0x7f90c6d961c0>,\n",
       " <Reaction r16 at 0x7f90c6d96580>,\n",
       " <Reaction r1 at 0x7f90c6de8100>,\n",
       " <Reaction r5 at 0x7f90c6de84f0>,\n",
       " <Reaction r6 at 0x7f90c6de8a30>,\n",
       " <Reaction r7 at 0x7f90c6de8b20>,\n",
       " <Reaction r8 at 0x7f90c6de8c10>,\n",
       " <Reaction r9 at 0x7f90c6de8d60>}"
      ]
     },
     "execution_count": 13,
     "metadata": {},
     "output_type": "execute_result"
    }
   ],
   "source": [
    "from cobra.flux_analysis import find_essential_reactions\n",
    "\n",
    "find_essential_reactions(model)"
   ]
  }
 ],
 "metadata": {
  "kernelspec": {
   "display_name": "Python 3 (ipykernel)",
   "language": "python",
   "name": "python3"
  },
  "language_info": {
   "codemirror_mode": {
    "name": "ipython",
    "version": 3
   },
   "file_extension": ".py",
   "mimetype": "text/x-python",
   "name": "python",
   "nbconvert_exporter": "python",
   "pygments_lexer": "ipython3",
   "version": "3.9.10"
  }
 },
 "nbformat": 4,
 "nbformat_minor": 5
}
