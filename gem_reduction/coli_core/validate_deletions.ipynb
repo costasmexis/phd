{
 "cells": [
  {
   "cell_type": "code",
   "execution_count": 1,
   "metadata": {},
   "outputs": [],
   "source": [
    "import warnings\n",
    "warnings.filterwarnings('ignore')"
   ]
  },
  {
   "cell_type": "code",
   "execution_count": 2,
   "metadata": {},
   "outputs": [
    {
     "name": "stdout",
     "output_type": "stream",
     "text": [
      "Scaling...\n",
      " A: min|aij| =  1.000e+00  max|aij| =  1.000e+00  ratio =  1.000e+00\n",
      "Problem data seem to be well scaled\n"
     ]
    }
   ],
   "source": [
    "import pandas as pd\n",
    "import numpy as np\n",
    "from time import time\n",
    "\n",
    "from cobra.io import load_model\n",
    "from cobra.io.json import load_json_model\n",
    "\n",
    "from main import *\n",
    "\n",
    "# cobra_model = load_model(\"textbook\")\n",
    "\n",
    "# Load toy models created by Stefanos\n",
    "cobra_model_1 = load_json_model('toy_1.json')\n",
    "cobra_model_2 = load_json_model('toy_2.json')"
   ]
  },
  {
   "cell_type": "code",
   "execution_count": 70,
   "metadata": {},
   "outputs": [
    {
     "name": "stdout",
     "output_type": "stream",
     "text": [
      "9.0\n",
      "optimal\n",
      "6.000000000000001\n",
      "optimal\n"
     ]
    }
   ],
   "source": [
    "ann = ['r14', 'r3', 'r15', 'r10']\n",
    "\n",
    "with cobra_model_1:\n",
    "    for rxn in ann:\n",
    "        cobra_model_1.reactions.get_by_id(rxn).knock_out()\n",
    "    solution =  cobra_model_1.optimize()    \n",
    "    print(solution.objective_value)\n",
    "    print(solution.status)\n",
    "\n",
    "with cobra_model_2:\n",
    "    for rxn in ann:\n",
    "        cobra_model_2.reactions.get_by_id(rxn).knock_out()\n",
    "    solution =  cobra_model_2.optimize()    \n",
    "    print(solution.objective_value)\n",
    "    print(solution.status)"
   ]
  }
 ],
 "metadata": {
  "kernelspec": {
   "display_name": "Python 3.9.10 ('main-bio')",
   "language": "python",
   "name": "python3"
  },
  "language_info": {
   "codemirror_mode": {
    "name": "ipython",
    "version": 3
   },
   "file_extension": ".py",
   "mimetype": "text/x-python",
   "name": "python",
   "nbconvert_exporter": "python",
   "pygments_lexer": "ipython3",
   "version": "3.9.10"
  },
  "orig_nbformat": 4,
  "vscode": {
   "interpreter": {
    "hash": "c6c04a7e252f45ffc2f7191e380805b6a5dd99aa68793d835f69a35c16ce4a30"
   }
  }
 },
 "nbformat": 4,
 "nbformat_minor": 2
}
