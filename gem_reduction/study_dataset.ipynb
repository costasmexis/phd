{
 "cells": [
  {
   "cell_type": "markdown",
   "metadata": {},
   "source": [
    "# Read dataset"
   ]
  },
  {
   "cell_type": "code",
   "execution_count": 29,
   "metadata": {},
   "outputs": [
    {
     "data": {
      "text/plain": [
       "(4046, 26)"
      ]
     },
     "execution_count": 29,
     "metadata": {},
     "output_type": "execute_result"
    }
   ],
   "source": [
    "import pandas as pd\n",
    "import numpy as np\n",
    "from ml_functions import *\n",
    "\n",
    "df = pd.read_csv('toy_dataset.csv', index_col=0)\n",
    "df.shape"
   ]
  },
  {
   "cell_type": "markdown",
   "metadata": {},
   "source": [
    "Intial dataset size."
   ]
  },
  {
   "cell_type": "code",
   "execution_count": 30,
   "metadata": {},
   "outputs": [],
   "source": [
    "df[['rxn_a','rxn_b','rxn_c']] = df['id'].str.split(',', expand=True)"
   ]
  },
  {
   "cell_type": "code",
   "execution_count": 31,
   "metadata": {},
   "outputs": [
    {
     "data": {
      "text/html": [
       "<div>\n",
       "<style scoped>\n",
       "    .dataframe tbody tr th:only-of-type {\n",
       "        vertical-align: middle;\n",
       "    }\n",
       "\n",
       "    .dataframe tbody tr th {\n",
       "        vertical-align: top;\n",
       "    }\n",
       "\n",
       "    .dataframe thead th {\n",
       "        text-align: right;\n",
       "    }\n",
       "</style>\n",
       "<table border=\"1\" class=\"dataframe\">\n",
       "  <thead>\n",
       "    <tr style=\"text-align: right;\">\n",
       "      <th></th>\n",
       "      <th>r1</th>\n",
       "      <th>r3</th>\n",
       "      <th>r2</th>\n",
       "      <th>r4</th>\n",
       "      <th>r5</th>\n",
       "      <th>r6</th>\n",
       "      <th>r7</th>\n",
       "      <th>r8</th>\n",
       "      <th>r9</th>\n",
       "      <th>r10</th>\n",
       "      <th>r11</th>\n",
       "      <th>r12</th>\n",
       "      <th>r13</th>\n",
       "      <th>outputK</th>\n",
       "      <th>r14</th>\n",
       "      <th>r15</th>\n",
       "      <th>r16</th>\n",
       "      <th>InputA</th>\n",
       "      <th>InputI</th>\n",
       "      <th>OutputX</th>\n",
       "      <th>OutputN</th>\n",
       "      <th>id</th>\n",
       "      <th>growth</th>\n",
       "      <th>strain</th>\n",
       "      <th>infeasible</th>\n",
       "      <th>optimal</th>\n",
       "      <th>rxn_a</th>\n",
       "      <th>rxn_b</th>\n",
       "      <th>rxn_c</th>\n",
       "      <th>no_deletions</th>\n",
       "    </tr>\n",
       "  </thead>\n",
       "  <tbody>\n",
       "    <tr>\n",
       "      <th>0</th>\n",
       "      <td>0.0</td>\n",
       "      <td>0.1</td>\n",
       "      <td>-0.1</td>\n",
       "      <td>-0.2</td>\n",
       "      <td>1.2</td>\n",
       "      <td>1.0</td>\n",
       "      <td>1.0</td>\n",
       "      <td>1.0</td>\n",
       "      <td>1.0</td>\n",
       "      <td>-6.938894e-17</td>\n",
       "      <td>1.0</td>\n",
       "      <td>1.0</td>\n",
       "      <td>1.0</td>\n",
       "      <td>1.0</td>\n",
       "      <td>0.0</td>\n",
       "      <td>0.0</td>\n",
       "      <td>1.0</td>\n",
       "      <td>1.0</td>\n",
       "      <td>1.0</td>\n",
       "      <td>3.0</td>\n",
       "      <td>1.0</td>\n",
       "      <td>r1</td>\n",
       "      <td>3.0</td>\n",
       "      <td>1</td>\n",
       "      <td>1</td>\n",
       "      <td>0</td>\n",
       "      <td>r1</td>\n",
       "      <td>None</td>\n",
       "      <td>None</td>\n",
       "      <td>1</td>\n",
       "    </tr>\n",
       "    <tr>\n",
       "      <th>1</th>\n",
       "      <td>1.0</td>\n",
       "      <td>0.0</td>\n",
       "      <td>1.0</td>\n",
       "      <td>2.0</td>\n",
       "      <td>1.0</td>\n",
       "      <td>3.0</td>\n",
       "      <td>3.0</td>\n",
       "      <td>3.0</td>\n",
       "      <td>1.0</td>\n",
       "      <td>0.000000e+00</td>\n",
       "      <td>1.0</td>\n",
       "      <td>1.0</td>\n",
       "      <td>1.0</td>\n",
       "      <td>1.0</td>\n",
       "      <td>0.0</td>\n",
       "      <td>0.0</td>\n",
       "      <td>2.0</td>\n",
       "      <td>1.0</td>\n",
       "      <td>1.0</td>\n",
       "      <td>9.0</td>\n",
       "      <td>1.0</td>\n",
       "      <td>r3</td>\n",
       "      <td>9.0</td>\n",
       "      <td>1</td>\n",
       "      <td>0</td>\n",
       "      <td>1</td>\n",
       "      <td>r3</td>\n",
       "      <td>None</td>\n",
       "      <td>None</td>\n",
       "      <td>1</td>\n",
       "    </tr>\n",
       "    <tr>\n",
       "      <th>2</th>\n",
       "      <td>1.0</td>\n",
       "      <td>1.0</td>\n",
       "      <td>0.0</td>\n",
       "      <td>0.0</td>\n",
       "      <td>3.0</td>\n",
       "      <td>3.0</td>\n",
       "      <td>3.0</td>\n",
       "      <td>3.0</td>\n",
       "      <td>1.0</td>\n",
       "      <td>0.000000e+00</td>\n",
       "      <td>1.0</td>\n",
       "      <td>1.0</td>\n",
       "      <td>1.0</td>\n",
       "      <td>1.0</td>\n",
       "      <td>0.0</td>\n",
       "      <td>0.0</td>\n",
       "      <td>2.0</td>\n",
       "      <td>1.0</td>\n",
       "      <td>1.0</td>\n",
       "      <td>9.0</td>\n",
       "      <td>1.0</td>\n",
       "      <td>r2</td>\n",
       "      <td>9.0</td>\n",
       "      <td>1</td>\n",
       "      <td>0</td>\n",
       "      <td>1</td>\n",
       "      <td>r2</td>\n",
       "      <td>None</td>\n",
       "      <td>None</td>\n",
       "      <td>1</td>\n",
       "    </tr>\n",
       "    <tr>\n",
       "      <th>3</th>\n",
       "      <td>1.0</td>\n",
       "      <td>1.0</td>\n",
       "      <td>0.0</td>\n",
       "      <td>0.0</td>\n",
       "      <td>3.0</td>\n",
       "      <td>3.0</td>\n",
       "      <td>3.0</td>\n",
       "      <td>3.0</td>\n",
       "      <td>1.0</td>\n",
       "      <td>0.000000e+00</td>\n",
       "      <td>1.0</td>\n",
       "      <td>1.0</td>\n",
       "      <td>1.0</td>\n",
       "      <td>1.0</td>\n",
       "      <td>0.0</td>\n",
       "      <td>0.0</td>\n",
       "      <td>2.0</td>\n",
       "      <td>1.0</td>\n",
       "      <td>1.0</td>\n",
       "      <td>9.0</td>\n",
       "      <td>1.0</td>\n",
       "      <td>r4</td>\n",
       "      <td>9.0</td>\n",
       "      <td>1</td>\n",
       "      <td>0</td>\n",
       "      <td>1</td>\n",
       "      <td>r4</td>\n",
       "      <td>None</td>\n",
       "      <td>None</td>\n",
       "      <td>1</td>\n",
       "    </tr>\n",
       "    <tr>\n",
       "      <th>4</th>\n",
       "      <td>1.0</td>\n",
       "      <td>0.1</td>\n",
       "      <td>0.9</td>\n",
       "      <td>1.8</td>\n",
       "      <td>1.2</td>\n",
       "      <td>3.0</td>\n",
       "      <td>3.0</td>\n",
       "      <td>3.0</td>\n",
       "      <td>1.0</td>\n",
       "      <td>0.000000e+00</td>\n",
       "      <td>1.0</td>\n",
       "      <td>1.0</td>\n",
       "      <td>1.0</td>\n",
       "      <td>1.0</td>\n",
       "      <td>0.0</td>\n",
       "      <td>0.0</td>\n",
       "      <td>2.0</td>\n",
       "      <td>1.0</td>\n",
       "      <td>1.0</td>\n",
       "      <td>9.0</td>\n",
       "      <td>1.0</td>\n",
       "      <td>r5</td>\n",
       "      <td>9.0</td>\n",
       "      <td>1</td>\n",
       "      <td>1</td>\n",
       "      <td>0</td>\n",
       "      <td>r5</td>\n",
       "      <td>None</td>\n",
       "      <td>None</td>\n",
       "      <td>1</td>\n",
       "    </tr>\n",
       "  </tbody>\n",
       "</table>\n",
       "</div>"
      ],
      "text/plain": [
       "    r1   r3   r2   r4   r5   r6   r7   r8   r9           r10  r11  r12  r13  \\\n",
       "0  0.0  0.1 -0.1 -0.2  1.2  1.0  1.0  1.0  1.0 -6.938894e-17  1.0  1.0  1.0   \n",
       "1  1.0  0.0  1.0  2.0  1.0  3.0  3.0  3.0  1.0  0.000000e+00  1.0  1.0  1.0   \n",
       "2  1.0  1.0  0.0  0.0  3.0  3.0  3.0  3.0  1.0  0.000000e+00  1.0  1.0  1.0   \n",
       "3  1.0  1.0  0.0  0.0  3.0  3.0  3.0  3.0  1.0  0.000000e+00  1.0  1.0  1.0   \n",
       "4  1.0  0.1  0.9  1.8  1.2  3.0  3.0  3.0  1.0  0.000000e+00  1.0  1.0  1.0   \n",
       "\n",
       "   outputK  r14  r15  r16  InputA  InputI  OutputX  OutputN  id  growth  \\\n",
       "0      1.0  0.0  0.0  1.0     1.0     1.0      3.0      1.0  r1     3.0   \n",
       "1      1.0  0.0  0.0  2.0     1.0     1.0      9.0      1.0  r3     9.0   \n",
       "2      1.0  0.0  0.0  2.0     1.0     1.0      9.0      1.0  r2     9.0   \n",
       "3      1.0  0.0  0.0  2.0     1.0     1.0      9.0      1.0  r4     9.0   \n",
       "4      1.0  0.0  0.0  2.0     1.0     1.0      9.0      1.0  r5     9.0   \n",
       "\n",
       "   strain  infeasible  optimal rxn_a rxn_b rxn_c  no_deletions  \n",
       "0       1           1        0    r1  None  None             1  \n",
       "1       1           0        1    r3  None  None             1  \n",
       "2       1           0        1    r2  None  None             1  \n",
       "3       1           0        1    r4  None  None             1  \n",
       "4       1           1        0    r5  None  None             1  "
      ]
     },
     "execution_count": 31,
     "metadata": {},
     "output_type": "execute_result"
    }
   ],
   "source": [
    "def count_deletions(x):\n",
    "\n",
    "    return len(x.split(','))\n",
    "\n",
    "no_delitions = []\n",
    "for row in range(len(df)):\n",
    "\n",
    "    num = count_deletions(df['id'].iloc[row])\n",
    "    no_delitions.append(num)\n",
    "\n",
    "df['no_deletions'] = no_delitions\n",
    "df.head()"
   ]
  },
  {
   "cell_type": "markdown",
   "metadata": {},
   "source": [
    "### Store reactions names"
   ]
  },
  {
   "cell_type": "code",
   "execution_count": 32,
   "metadata": {},
   "outputs": [],
   "source": [
    "# Store all reactions names\n",
    "gem_rxn = df[df['no_deletions'] == 1]['id'].unique()"
   ]
  },
  {
   "cell_type": "markdown",
   "metadata": {},
   "source": [
    "# Some statistical study"
   ]
  },
  {
   "cell_type": "code",
   "execution_count": 33,
   "metadata": {},
   "outputs": [
    {
     "name": "stdout",
     "output_type": "stream",
     "text": [
      "Infeasible 69.25 % of the dataset\n",
      "Optimal 30.75 % of the dataset\n"
     ]
    }
   ],
   "source": [
    "print('Infeasible', round(df['optimal'].value_counts()[0]/len(df) * 100,2), '% of the dataset')\n",
    "print('Optimal', round(df['optimal'].value_counts()[1]/len(df) * 100,2), '% of the dataset')"
   ]
  },
  {
   "cell_type": "code",
   "execution_count": 34,
   "metadata": {},
   "outputs": [],
   "source": [
    "# Subset of df containing only infeasible rows\n",
    "df_inf = df[df['optimal'] == 0]"
   ]
  },
  {
   "cell_type": "markdown",
   "metadata": {},
   "source": [
    "Οι αντιδράσεις που φαίνονται στο επόμενο κελί __ΔΕΝ__ οδήγησαν __ποτέ__ σε _infeasible_ status όταν κόπηκαν.\n",
    "\n",
    "Μια λογική είναι να κοπούν οι παρακάτω αντιδράσεις. Εξαίρεση, οι αντιδράσεις που αφορούν input/output."
   ]
  },
  {
   "cell_type": "code",
   "execution_count": 35,
   "metadata": {},
   "outputs": [
    {
     "data": {
      "text/plain": [
       "{'InputA', 'InputI', 'OutputN', 'r10', 'r14', 'r15', 'r2', 'r3', 'r4'}"
      ]
     },
     "execution_count": 35,
     "metadata": {},
     "output_type": "execute_result"
    }
   ],
   "source": [
    "set(df_inf[df_inf['no_deletions']==1]['id'].unique()) ^ set(gem_rxn)"
   ]
  },
  {
   "cell_type": "markdown",
   "metadata": {},
   "source": [
    "Οι παρακάτω αντιδράσεις εάν κοπούν οδηγούν σε **infeasible** κατάσταση. Επομένως, ΔΕ θα πρέπει να περιλαμβάνονται στα deletions. Οι αντιδράσεις αυτές, δηλαδή, θα πρέπει να **προστατευτούν** από τα reaction deletions."
   ]
  },
  {
   "cell_type": "code",
   "execution_count": 36,
   "metadata": {},
   "outputs": [
    {
     "data": {
      "text/plain": [
       "array(['r1', 'r5', 'r6', 'r7', 'r8', 'r9', 'r11', 'r12', 'r13', 'outputK',\n",
       "       'r16', 'OutputX'], dtype=object)"
      ]
     },
     "execution_count": 36,
     "metadata": {},
     "output_type": "execute_result"
    }
   ],
   "source": [
    "critical_rxn = df_inf[df_inf['no_deletions']==1]['id'].unique()\n",
    "critical_rxn"
   ]
  },
  {
   "cell_type": "markdown",
   "metadata": {},
   "source": [
    "Παρακάτω είναι οι αντιδράσεις που θα μπορούσαν να κοπούν."
   ]
  },
  {
   "cell_type": "code",
   "execution_count": 37,
   "metadata": {},
   "outputs": [
    {
     "data": {
      "text/plain": [
       "['r10', 'r2', 'InputI', 'r4', 'r14', 'r3', 'r15', 'InputA', 'OutputN']"
      ]
     },
     "execution_count": 37,
     "metadata": {},
     "output_type": "execute_result"
    }
   ],
   "source": [
    "rxn_deletable = list(set(df_inf[df_inf['no_deletions']==1]['id'].unique()) ^ set(gem_rxn))\n",
    "rxn_deletable"
   ]
  },
  {
   "cell_type": "code",
   "execution_count": 38,
   "metadata": {},
   "outputs": [],
   "source": [
    "index_del_rxn_a = df.loc[df['rxn_a'].isin(critical_rxn)].index\n",
    "df.drop(index_del_rxn_a, inplace=True)\n",
    "\n",
    "index_del_rxn_b = df.loc[df['rxn_b'].isin(critical_rxn)].index\n",
    "df.drop(index_del_rxn_b, inplace=True)\n",
    "\n",
    "index_del_rxn_c = df.loc[df['rxn_c'].isin(critical_rxn)].index\n",
    "df.drop(index_del_rxn_c, inplace=True)"
   ]
  },
  {
   "cell_type": "code",
   "execution_count": 39,
   "metadata": {},
   "outputs": [
    {
     "data": {
      "text/plain": [
       "(438, 30)"
      ]
     },
     "execution_count": 39,
     "metadata": {},
     "output_type": "execute_result"
    }
   ],
   "source": [
    "df.shape"
   ]
  },
  {
   "cell_type": "markdown",
   "metadata": {},
   "source": [
    "### Find and Delete Duplicated Rows "
   ]
  },
  {
   "cell_type": "code",
   "execution_count": 40,
   "metadata": {},
   "outputs": [
    {
     "data": {
      "text/plain": [
       "(258, 30)"
      ]
     },
     "execution_count": 40,
     "metadata": {},
     "output_type": "execute_result"
    }
   ],
   "source": [
    "index_a = df[df['rxn_a'] == df['rxn_b']].index\n",
    "df.drop(index_a, axis=0, inplace=True)\n",
    "\n",
    "index_b = df[df['rxn_a'] == df['rxn_c']].index\n",
    "df.drop(index_b, axis=0, inplace=True)\n",
    "\n",
    "index_c = df[df['rxn_b'] == df['rxn_c']].index\n",
    "df.drop(index_c, axis=0, inplace=True)\n",
    "\n",
    "df.shape"
   ]
  },
  {
   "cell_type": "code",
   "execution_count": 41,
   "metadata": {},
   "outputs": [
    {
     "data": {
      "text/html": [
       "<div>\n",
       "<style scoped>\n",
       "    .dataframe tbody tr th:only-of-type {\n",
       "        vertical-align: middle;\n",
       "    }\n",
       "\n",
       "    .dataframe tbody tr th {\n",
       "        vertical-align: top;\n",
       "    }\n",
       "\n",
       "    .dataframe thead th {\n",
       "        text-align: right;\n",
       "    }\n",
       "</style>\n",
       "<table border=\"1\" class=\"dataframe\">\n",
       "  <thead>\n",
       "    <tr style=\"text-align: right;\">\n",
       "      <th></th>\n",
       "      <th>r1</th>\n",
       "      <th>r3</th>\n",
       "      <th>r2</th>\n",
       "      <th>r4</th>\n",
       "      <th>r5</th>\n",
       "      <th>r6</th>\n",
       "      <th>r7</th>\n",
       "      <th>r8</th>\n",
       "      <th>r9</th>\n",
       "      <th>r10</th>\n",
       "      <th>r11</th>\n",
       "      <th>r12</th>\n",
       "      <th>r13</th>\n",
       "      <th>outputK</th>\n",
       "      <th>r14</th>\n",
       "      <th>r15</th>\n",
       "      <th>r16</th>\n",
       "      <th>InputA</th>\n",
       "      <th>InputI</th>\n",
       "      <th>OutputX</th>\n",
       "      <th>OutputN</th>\n",
       "      <th>id</th>\n",
       "      <th>growth</th>\n",
       "      <th>strain</th>\n",
       "      <th>infeasible</th>\n",
       "      <th>optimal</th>\n",
       "      <th>rxn_a</th>\n",
       "      <th>rxn_b</th>\n",
       "      <th>rxn_c</th>\n",
       "      <th>no_deletions</th>\n",
       "    </tr>\n",
       "  </thead>\n",
       "  <tbody>\n",
       "    <tr>\n",
       "      <th>1</th>\n",
       "      <td>1.0</td>\n",
       "      <td>0.0</td>\n",
       "      <td>1.0</td>\n",
       "      <td>2.0</td>\n",
       "      <td>1.0</td>\n",
       "      <td>3.0</td>\n",
       "      <td>3.0</td>\n",
       "      <td>3.0</td>\n",
       "      <td>1.0</td>\n",
       "      <td>0.0</td>\n",
       "      <td>1.0</td>\n",
       "      <td>1.0</td>\n",
       "      <td>1.0</td>\n",
       "      <td>1.0</td>\n",
       "      <td>0.0</td>\n",
       "      <td>0.0</td>\n",
       "      <td>2.0</td>\n",
       "      <td>1.0</td>\n",
       "      <td>1.0</td>\n",
       "      <td>9.0</td>\n",
       "      <td>1.0</td>\n",
       "      <td>r3</td>\n",
       "      <td>9.0</td>\n",
       "      <td>1</td>\n",
       "      <td>0</td>\n",
       "      <td>1</td>\n",
       "      <td>r3</td>\n",
       "      <td>None</td>\n",
       "      <td>None</td>\n",
       "      <td>1</td>\n",
       "    </tr>\n",
       "    <tr>\n",
       "      <th>2</th>\n",
       "      <td>1.0</td>\n",
       "      <td>1.0</td>\n",
       "      <td>0.0</td>\n",
       "      <td>0.0</td>\n",
       "      <td>3.0</td>\n",
       "      <td>3.0</td>\n",
       "      <td>3.0</td>\n",
       "      <td>3.0</td>\n",
       "      <td>1.0</td>\n",
       "      <td>0.0</td>\n",
       "      <td>1.0</td>\n",
       "      <td>1.0</td>\n",
       "      <td>1.0</td>\n",
       "      <td>1.0</td>\n",
       "      <td>0.0</td>\n",
       "      <td>0.0</td>\n",
       "      <td>2.0</td>\n",
       "      <td>1.0</td>\n",
       "      <td>1.0</td>\n",
       "      <td>9.0</td>\n",
       "      <td>1.0</td>\n",
       "      <td>r2</td>\n",
       "      <td>9.0</td>\n",
       "      <td>1</td>\n",
       "      <td>0</td>\n",
       "      <td>1</td>\n",
       "      <td>r2</td>\n",
       "      <td>None</td>\n",
       "      <td>None</td>\n",
       "      <td>1</td>\n",
       "    </tr>\n",
       "    <tr>\n",
       "      <th>3</th>\n",
       "      <td>1.0</td>\n",
       "      <td>1.0</td>\n",
       "      <td>0.0</td>\n",
       "      <td>0.0</td>\n",
       "      <td>3.0</td>\n",
       "      <td>3.0</td>\n",
       "      <td>3.0</td>\n",
       "      <td>3.0</td>\n",
       "      <td>1.0</td>\n",
       "      <td>0.0</td>\n",
       "      <td>1.0</td>\n",
       "      <td>1.0</td>\n",
       "      <td>1.0</td>\n",
       "      <td>1.0</td>\n",
       "      <td>0.0</td>\n",
       "      <td>0.0</td>\n",
       "      <td>2.0</td>\n",
       "      <td>1.0</td>\n",
       "      <td>1.0</td>\n",
       "      <td>9.0</td>\n",
       "      <td>1.0</td>\n",
       "      <td>r4</td>\n",
       "      <td>9.0</td>\n",
       "      <td>1</td>\n",
       "      <td>0</td>\n",
       "      <td>1</td>\n",
       "      <td>r4</td>\n",
       "      <td>None</td>\n",
       "      <td>None</td>\n",
       "      <td>1</td>\n",
       "    </tr>\n",
       "    <tr>\n",
       "      <th>9</th>\n",
       "      <td>1.0</td>\n",
       "      <td>0.1</td>\n",
       "      <td>0.9</td>\n",
       "      <td>1.8</td>\n",
       "      <td>1.2</td>\n",
       "      <td>3.0</td>\n",
       "      <td>3.0</td>\n",
       "      <td>3.0</td>\n",
       "      <td>1.0</td>\n",
       "      <td>0.0</td>\n",
       "      <td>1.0</td>\n",
       "      <td>1.0</td>\n",
       "      <td>1.0</td>\n",
       "      <td>1.0</td>\n",
       "      <td>0.0</td>\n",
       "      <td>0.0</td>\n",
       "      <td>2.0</td>\n",
       "      <td>1.0</td>\n",
       "      <td>1.0</td>\n",
       "      <td>9.0</td>\n",
       "      <td>1.0</td>\n",
       "      <td>r10</td>\n",
       "      <td>9.0</td>\n",
       "      <td>1</td>\n",
       "      <td>0</td>\n",
       "      <td>1</td>\n",
       "      <td>r10</td>\n",
       "      <td>None</td>\n",
       "      <td>None</td>\n",
       "      <td>1</td>\n",
       "    </tr>\n",
       "    <tr>\n",
       "      <th>14</th>\n",
       "      <td>1.0</td>\n",
       "      <td>0.1</td>\n",
       "      <td>0.9</td>\n",
       "      <td>1.8</td>\n",
       "      <td>1.2</td>\n",
       "      <td>3.0</td>\n",
       "      <td>3.0</td>\n",
       "      <td>3.0</td>\n",
       "      <td>1.0</td>\n",
       "      <td>0.0</td>\n",
       "      <td>1.0</td>\n",
       "      <td>1.0</td>\n",
       "      <td>1.0</td>\n",
       "      <td>1.0</td>\n",
       "      <td>0.0</td>\n",
       "      <td>0.0</td>\n",
       "      <td>2.0</td>\n",
       "      <td>1.0</td>\n",
       "      <td>1.0</td>\n",
       "      <td>9.0</td>\n",
       "      <td>1.0</td>\n",
       "      <td>r14</td>\n",
       "      <td>9.0</td>\n",
       "      <td>1</td>\n",
       "      <td>0</td>\n",
       "      <td>1</td>\n",
       "      <td>r14</td>\n",
       "      <td>None</td>\n",
       "      <td>None</td>\n",
       "      <td>1</td>\n",
       "    </tr>\n",
       "  </tbody>\n",
       "</table>\n",
       "</div>"
      ],
      "text/plain": [
       "     r1   r3   r2   r4   r5   r6   r7   r8   r9  r10  r11  r12  r13  outputK  \\\n",
       "1   1.0  0.0  1.0  2.0  1.0  3.0  3.0  3.0  1.0  0.0  1.0  1.0  1.0      1.0   \n",
       "2   1.0  1.0  0.0  0.0  3.0  3.0  3.0  3.0  1.0  0.0  1.0  1.0  1.0      1.0   \n",
       "3   1.0  1.0  0.0  0.0  3.0  3.0  3.0  3.0  1.0  0.0  1.0  1.0  1.0      1.0   \n",
       "9   1.0  0.1  0.9  1.8  1.2  3.0  3.0  3.0  1.0  0.0  1.0  1.0  1.0      1.0   \n",
       "14  1.0  0.1  0.9  1.8  1.2  3.0  3.0  3.0  1.0  0.0  1.0  1.0  1.0      1.0   \n",
       "\n",
       "    r14  r15  r16  InputA  InputI  OutputX  OutputN   id  growth  strain  \\\n",
       "1   0.0  0.0  2.0     1.0     1.0      9.0      1.0   r3     9.0       1   \n",
       "2   0.0  0.0  2.0     1.0     1.0      9.0      1.0   r2     9.0       1   \n",
       "3   0.0  0.0  2.0     1.0     1.0      9.0      1.0   r4     9.0       1   \n",
       "9   0.0  0.0  2.0     1.0     1.0      9.0      1.0  r10     9.0       1   \n",
       "14  0.0  0.0  2.0     1.0     1.0      9.0      1.0  r14     9.0       1   \n",
       "\n",
       "    infeasible  optimal rxn_a rxn_b rxn_c  no_deletions  \n",
       "1            0        1    r3  None  None             1  \n",
       "2            0        1    r2  None  None             1  \n",
       "3            0        1    r4  None  None             1  \n",
       "9            0        1   r10  None  None             1  \n",
       "14           0        1   r14  None  None             1  "
      ]
     },
     "execution_count": 41,
     "metadata": {},
     "output_type": "execute_result"
    }
   ],
   "source": [
    "df.head()"
   ]
  },
  {
   "cell_type": "code",
   "execution_count": 42,
   "metadata": {},
   "outputs": [
    {
     "name": "stderr",
     "output_type": "stream",
     "text": [
      "/tmp/ipykernel_10714/2394415776.py:14: SettingWithCopyWarning: \n",
      "A value is trying to be set on a copy of a slice from a DataFrame\n",
      "\n",
      "See the caveats in the documentation: https://pandas.pydata.org/pandas-docs/stable/user_guide/indexing.html#returning-a-view-versus-a-copy\n",
      "  if(col in deleted_rxn): deletions[col].iloc[row] = 1\n"
     ]
    },
    {
     "data": {
      "text/html": [
       "<div>\n",
       "<style scoped>\n",
       "    .dataframe tbody tr th:only-of-type {\n",
       "        vertical-align: middle;\n",
       "    }\n",
       "\n",
       "    .dataframe tbody tr th {\n",
       "        vertical-align: top;\n",
       "    }\n",
       "\n",
       "    .dataframe thead th {\n",
       "        text-align: right;\n",
       "    }\n",
       "</style>\n",
       "<table border=\"1\" class=\"dataframe\">\n",
       "  <thead>\n",
       "    <tr style=\"text-align: right;\">\n",
       "      <th></th>\n",
       "      <th>r1</th>\n",
       "      <th>r3</th>\n",
       "      <th>r2</th>\n",
       "      <th>r4</th>\n",
       "      <th>r5</th>\n",
       "      <th>r6</th>\n",
       "      <th>r7</th>\n",
       "      <th>r8</th>\n",
       "      <th>r9</th>\n",
       "      <th>r10</th>\n",
       "      <th>r11</th>\n",
       "      <th>r12</th>\n",
       "      <th>r13</th>\n",
       "      <th>outputK</th>\n",
       "      <th>r14</th>\n",
       "      <th>r15</th>\n",
       "      <th>r16</th>\n",
       "      <th>InputA</th>\n",
       "      <th>InputI</th>\n",
       "      <th>OutputX</th>\n",
       "      <th>OutputN</th>\n",
       "      <th>id</th>\n",
       "      <th>growth</th>\n",
       "      <th>strain</th>\n",
       "      <th>infeasible</th>\n",
       "      <th>optimal</th>\n",
       "      <th>rxn_a</th>\n",
       "      <th>rxn_b</th>\n",
       "      <th>rxn_c</th>\n",
       "      <th>no_deletions</th>\n",
       "      <th>del_r10</th>\n",
       "      <th>del_r2</th>\n",
       "      <th>del_InputI</th>\n",
       "      <th>del_r4</th>\n",
       "      <th>del_r14</th>\n",
       "      <th>del_r3</th>\n",
       "      <th>del_r15</th>\n",
       "      <th>del_InputA</th>\n",
       "      <th>del_OutputN</th>\n",
       "    </tr>\n",
       "  </thead>\n",
       "  <tbody>\n",
       "    <tr>\n",
       "      <th>1</th>\n",
       "      <td>1.0</td>\n",
       "      <td>0.0</td>\n",
       "      <td>1.0</td>\n",
       "      <td>2.0</td>\n",
       "      <td>1.0</td>\n",
       "      <td>3.0</td>\n",
       "      <td>3.0</td>\n",
       "      <td>3.0</td>\n",
       "      <td>1.0</td>\n",
       "      <td>0.0</td>\n",
       "      <td>1.0</td>\n",
       "      <td>1.0</td>\n",
       "      <td>1.0</td>\n",
       "      <td>1.0</td>\n",
       "      <td>0.0</td>\n",
       "      <td>0.0</td>\n",
       "      <td>2.0</td>\n",
       "      <td>1.0</td>\n",
       "      <td>1.0</td>\n",
       "      <td>9.0</td>\n",
       "      <td>1.0</td>\n",
       "      <td>r3</td>\n",
       "      <td>9.0</td>\n",
       "      <td>1</td>\n",
       "      <td>0</td>\n",
       "      <td>1</td>\n",
       "      <td>r3</td>\n",
       "      <td>None</td>\n",
       "      <td>None</td>\n",
       "      <td>1</td>\n",
       "      <td>0.0</td>\n",
       "      <td>0.0</td>\n",
       "      <td>0.0</td>\n",
       "      <td>0.0</td>\n",
       "      <td>0.0</td>\n",
       "      <td>1.0</td>\n",
       "      <td>0.0</td>\n",
       "      <td>0.0</td>\n",
       "      <td>0.0</td>\n",
       "    </tr>\n",
       "    <tr>\n",
       "      <th>2</th>\n",
       "      <td>1.0</td>\n",
       "      <td>1.0</td>\n",
       "      <td>0.0</td>\n",
       "      <td>0.0</td>\n",
       "      <td>3.0</td>\n",
       "      <td>3.0</td>\n",
       "      <td>3.0</td>\n",
       "      <td>3.0</td>\n",
       "      <td>1.0</td>\n",
       "      <td>0.0</td>\n",
       "      <td>1.0</td>\n",
       "      <td>1.0</td>\n",
       "      <td>1.0</td>\n",
       "      <td>1.0</td>\n",
       "      <td>0.0</td>\n",
       "      <td>0.0</td>\n",
       "      <td>2.0</td>\n",
       "      <td>1.0</td>\n",
       "      <td>1.0</td>\n",
       "      <td>9.0</td>\n",
       "      <td>1.0</td>\n",
       "      <td>r2</td>\n",
       "      <td>9.0</td>\n",
       "      <td>1</td>\n",
       "      <td>0</td>\n",
       "      <td>1</td>\n",
       "      <td>r2</td>\n",
       "      <td>None</td>\n",
       "      <td>None</td>\n",
       "      <td>1</td>\n",
       "      <td>0.0</td>\n",
       "      <td>1.0</td>\n",
       "      <td>0.0</td>\n",
       "      <td>0.0</td>\n",
       "      <td>0.0</td>\n",
       "      <td>0.0</td>\n",
       "      <td>0.0</td>\n",
       "      <td>0.0</td>\n",
       "      <td>0.0</td>\n",
       "    </tr>\n",
       "    <tr>\n",
       "      <th>3</th>\n",
       "      <td>1.0</td>\n",
       "      <td>1.0</td>\n",
       "      <td>0.0</td>\n",
       "      <td>0.0</td>\n",
       "      <td>3.0</td>\n",
       "      <td>3.0</td>\n",
       "      <td>3.0</td>\n",
       "      <td>3.0</td>\n",
       "      <td>1.0</td>\n",
       "      <td>0.0</td>\n",
       "      <td>1.0</td>\n",
       "      <td>1.0</td>\n",
       "      <td>1.0</td>\n",
       "      <td>1.0</td>\n",
       "      <td>0.0</td>\n",
       "      <td>0.0</td>\n",
       "      <td>2.0</td>\n",
       "      <td>1.0</td>\n",
       "      <td>1.0</td>\n",
       "      <td>9.0</td>\n",
       "      <td>1.0</td>\n",
       "      <td>r4</td>\n",
       "      <td>9.0</td>\n",
       "      <td>1</td>\n",
       "      <td>0</td>\n",
       "      <td>1</td>\n",
       "      <td>r4</td>\n",
       "      <td>None</td>\n",
       "      <td>None</td>\n",
       "      <td>1</td>\n",
       "      <td>0.0</td>\n",
       "      <td>0.0</td>\n",
       "      <td>0.0</td>\n",
       "      <td>1.0</td>\n",
       "      <td>0.0</td>\n",
       "      <td>0.0</td>\n",
       "      <td>0.0</td>\n",
       "      <td>0.0</td>\n",
       "      <td>0.0</td>\n",
       "    </tr>\n",
       "    <tr>\n",
       "      <th>9</th>\n",
       "      <td>1.0</td>\n",
       "      <td>0.1</td>\n",
       "      <td>0.9</td>\n",
       "      <td>1.8</td>\n",
       "      <td>1.2</td>\n",
       "      <td>3.0</td>\n",
       "      <td>3.0</td>\n",
       "      <td>3.0</td>\n",
       "      <td>1.0</td>\n",
       "      <td>0.0</td>\n",
       "      <td>1.0</td>\n",
       "      <td>1.0</td>\n",
       "      <td>1.0</td>\n",
       "      <td>1.0</td>\n",
       "      <td>0.0</td>\n",
       "      <td>0.0</td>\n",
       "      <td>2.0</td>\n",
       "      <td>1.0</td>\n",
       "      <td>1.0</td>\n",
       "      <td>9.0</td>\n",
       "      <td>1.0</td>\n",
       "      <td>r10</td>\n",
       "      <td>9.0</td>\n",
       "      <td>1</td>\n",
       "      <td>0</td>\n",
       "      <td>1</td>\n",
       "      <td>r10</td>\n",
       "      <td>None</td>\n",
       "      <td>None</td>\n",
       "      <td>1</td>\n",
       "      <td>1.0</td>\n",
       "      <td>0.0</td>\n",
       "      <td>0.0</td>\n",
       "      <td>0.0</td>\n",
       "      <td>0.0</td>\n",
       "      <td>0.0</td>\n",
       "      <td>0.0</td>\n",
       "      <td>0.0</td>\n",
       "      <td>0.0</td>\n",
       "    </tr>\n",
       "    <tr>\n",
       "      <th>14</th>\n",
       "      <td>1.0</td>\n",
       "      <td>0.1</td>\n",
       "      <td>0.9</td>\n",
       "      <td>1.8</td>\n",
       "      <td>1.2</td>\n",
       "      <td>3.0</td>\n",
       "      <td>3.0</td>\n",
       "      <td>3.0</td>\n",
       "      <td>1.0</td>\n",
       "      <td>0.0</td>\n",
       "      <td>1.0</td>\n",
       "      <td>1.0</td>\n",
       "      <td>1.0</td>\n",
       "      <td>1.0</td>\n",
       "      <td>0.0</td>\n",
       "      <td>0.0</td>\n",
       "      <td>2.0</td>\n",
       "      <td>1.0</td>\n",
       "      <td>1.0</td>\n",
       "      <td>9.0</td>\n",
       "      <td>1.0</td>\n",
       "      <td>r14</td>\n",
       "      <td>9.0</td>\n",
       "      <td>1</td>\n",
       "      <td>0</td>\n",
       "      <td>1</td>\n",
       "      <td>r14</td>\n",
       "      <td>None</td>\n",
       "      <td>None</td>\n",
       "      <td>1</td>\n",
       "      <td>0.0</td>\n",
       "      <td>0.0</td>\n",
       "      <td>0.0</td>\n",
       "      <td>0.0</td>\n",
       "      <td>1.0</td>\n",
       "      <td>0.0</td>\n",
       "      <td>0.0</td>\n",
       "      <td>0.0</td>\n",
       "      <td>0.0</td>\n",
       "    </tr>\n",
       "  </tbody>\n",
       "</table>\n",
       "</div>"
      ],
      "text/plain": [
       "     r1   r3   r2   r4   r5   r6   r7   r8   r9  r10  r11  r12  r13  outputK  \\\n",
       "1   1.0  0.0  1.0  2.0  1.0  3.0  3.0  3.0  1.0  0.0  1.0  1.0  1.0      1.0   \n",
       "2   1.0  1.0  0.0  0.0  3.0  3.0  3.0  3.0  1.0  0.0  1.0  1.0  1.0      1.0   \n",
       "3   1.0  1.0  0.0  0.0  3.0  3.0  3.0  3.0  1.0  0.0  1.0  1.0  1.0      1.0   \n",
       "9   1.0  0.1  0.9  1.8  1.2  3.0  3.0  3.0  1.0  0.0  1.0  1.0  1.0      1.0   \n",
       "14  1.0  0.1  0.9  1.8  1.2  3.0  3.0  3.0  1.0  0.0  1.0  1.0  1.0      1.0   \n",
       "\n",
       "    r14  r15  r16  InputA  InputI  OutputX  OutputN   id  growth  strain  \\\n",
       "1   0.0  0.0  2.0     1.0     1.0      9.0      1.0   r3     9.0       1   \n",
       "2   0.0  0.0  2.0     1.0     1.0      9.0      1.0   r2     9.0       1   \n",
       "3   0.0  0.0  2.0     1.0     1.0      9.0      1.0   r4     9.0       1   \n",
       "9   0.0  0.0  2.0     1.0     1.0      9.0      1.0  r10     9.0       1   \n",
       "14  0.0  0.0  2.0     1.0     1.0      9.0      1.0  r14     9.0       1   \n",
       "\n",
       "    infeasible  optimal rxn_a rxn_b rxn_c  no_deletions  del_r10  del_r2  \\\n",
       "1            0        1    r3  None  None             1      0.0     0.0   \n",
       "2            0        1    r2  None  None             1      0.0     1.0   \n",
       "3            0        1    r4  None  None             1      0.0     0.0   \n",
       "9            0        1   r10  None  None             1      1.0     0.0   \n",
       "14           0        1   r14  None  None             1      0.0     0.0   \n",
       "\n",
       "    del_InputI  del_r4  del_r14  del_r3  del_r15  del_InputA  del_OutputN  \n",
       "1          0.0     0.0      0.0     1.0      0.0         0.0          0.0  \n",
       "2          0.0     0.0      0.0     0.0      0.0         0.0          0.0  \n",
       "3          0.0     1.0      0.0     0.0      0.0         0.0          0.0  \n",
       "9          0.0     0.0      0.0     0.0      0.0         0.0          0.0  \n",
       "14         0.0     0.0      1.0     0.0      0.0         0.0          0.0  "
      ]
     },
     "execution_count": 42,
     "metadata": {},
     "output_type": "execute_result"
    }
   ],
   "source": [
    "deletions = pd.DataFrame()\n",
    "\n",
    "for rxn in rxn_deletable:\n",
    "    deletions[rxn] = np.nan\n",
    "    \n",
    "deletions['id'] = df['id']\n",
    "deletions.tail()\n",
    "\n",
    "for row in range(deletions.shape[0]):\n",
    "\n",
    "    deleted_rxn = deletions.iloc[row]['id']\n",
    "    \n",
    "    for col in deletions.columns:\n",
    "        if(col in deleted_rxn): deletions[col].iloc[row] = 1\n",
    "\n",
    "deletions.fillna(0, inplace=True)\n",
    "\n",
    "new_names = []\n",
    "for col in deletions.columns:\n",
    "    new_names.append('del_'+col)\n",
    "    \n",
    "deletions.columns = new_names\n",
    "deletions.drop('del_id', axis=1, inplace=True)\n",
    "\n",
    "df = pd.concat([df, deletions], axis=1)\n",
    "df.head()"
   ]
  },
  {
   "cell_type": "code",
   "execution_count": 43,
   "metadata": {},
   "outputs": [
    {
     "data": {
      "text/html": [
       "<div>\n",
       "<style scoped>\n",
       "    .dataframe tbody tr th:only-of-type {\n",
       "        vertical-align: middle;\n",
       "    }\n",
       "\n",
       "    .dataframe tbody tr th {\n",
       "        vertical-align: top;\n",
       "    }\n",
       "\n",
       "    .dataframe thead th {\n",
       "        text-align: right;\n",
       "    }\n",
       "</style>\n",
       "<table border=\"1\" class=\"dataframe\">\n",
       "  <thead>\n",
       "    <tr style=\"text-align: right;\">\n",
       "      <th></th>\n",
       "      <th>r1</th>\n",
       "      <th>r3</th>\n",
       "      <th>r2</th>\n",
       "      <th>r4</th>\n",
       "      <th>r5</th>\n",
       "      <th>r6</th>\n",
       "      <th>r7</th>\n",
       "      <th>r8</th>\n",
       "      <th>r9</th>\n",
       "      <th>r10</th>\n",
       "      <th>r11</th>\n",
       "      <th>r12</th>\n",
       "      <th>r13</th>\n",
       "      <th>outputK</th>\n",
       "      <th>r14</th>\n",
       "      <th>r15</th>\n",
       "      <th>r16</th>\n",
       "      <th>InputA</th>\n",
       "      <th>InputI</th>\n",
       "      <th>OutputX</th>\n",
       "      <th>OutputN</th>\n",
       "      <th>id</th>\n",
       "      <th>growth</th>\n",
       "      <th>strain</th>\n",
       "      <th>infeasible</th>\n",
       "      <th>optimal</th>\n",
       "      <th>rxn_a</th>\n",
       "      <th>rxn_b</th>\n",
       "      <th>rxn_c</th>\n",
       "      <th>no_deletions</th>\n",
       "      <th>del_r10</th>\n",
       "      <th>del_r2</th>\n",
       "      <th>del_InputI</th>\n",
       "      <th>del_r4</th>\n",
       "      <th>del_r14</th>\n",
       "      <th>del_r3</th>\n",
       "      <th>del_r15</th>\n",
       "      <th>del_InputA</th>\n",
       "      <th>del_OutputN</th>\n",
       "    </tr>\n",
       "  </thead>\n",
       "  <tbody>\n",
       "    <tr>\n",
       "      <th>3986</th>\n",
       "      <td>1.0</td>\n",
       "      <td>1.0</td>\n",
       "      <td>-5.551115e-16</td>\n",
       "      <td>-4.440892e-16</td>\n",
       "      <td>2.0</td>\n",
       "      <td>2.000000e+00</td>\n",
       "      <td>2.000000e+00</td>\n",
       "      <td>2.000000e+00</td>\n",
       "      <td>0.0</td>\n",
       "      <td>5.921189e-16</td>\n",
       "      <td>5.921189e-16</td>\n",
       "      <td>2.220446e-16</td>\n",
       "      <td>2.220446e-16</td>\n",
       "      <td>1.332268e-15</td>\n",
       "      <td>0.000000e+00</td>\n",
       "      <td>1.479114e-31</td>\n",
       "      <td>1.000000e+00</td>\n",
       "      <td>1.0</td>\n",
       "      <td>0.0</td>\n",
       "      <td>6.000000e+00</td>\n",
       "      <td>0.0</td>\n",
       "      <td>r14,InputI,OutputN</td>\n",
       "      <td>6.000000e+00</td>\n",
       "      <td>2</td>\n",
       "      <td>0</td>\n",
       "      <td>1</td>\n",
       "      <td>r14</td>\n",
       "      <td>InputI</td>\n",
       "      <td>OutputN</td>\n",
       "      <td>3</td>\n",
       "      <td>0.0</td>\n",
       "      <td>0.0</td>\n",
       "      <td>1.0</td>\n",
       "      <td>0.0</td>\n",
       "      <td>1.0</td>\n",
       "      <td>0.0</td>\n",
       "      <td>0.0</td>\n",
       "      <td>0.0</td>\n",
       "      <td>1.0</td>\n",
       "    </tr>\n",
       "    <tr>\n",
       "      <th>4002</th>\n",
       "      <td>0.0</td>\n",
       "      <td>0.1</td>\n",
       "      <td>-1.000000e-01</td>\n",
       "      <td>-2.000000e-01</td>\n",
       "      <td>0.2</td>\n",
       "      <td>2.312965e-17</td>\n",
       "      <td>2.312965e-17</td>\n",
       "      <td>2.775558e-17</td>\n",
       "      <td>0.0</td>\n",
       "      <td>-1.850372e-17</td>\n",
       "      <td>-1.850372e-17</td>\n",
       "      <td>-1.387779e-17</td>\n",
       "      <td>-1.387779e-17</td>\n",
       "      <td>-2.775558e-17</td>\n",
       "      <td>3.081488e-33</td>\n",
       "      <td>0.000000e+00</td>\n",
       "      <td>-1.387779e-17</td>\n",
       "      <td>0.0</td>\n",
       "      <td>0.0</td>\n",
       "      <td>4.163336e-17</td>\n",
       "      <td>0.0</td>\n",
       "      <td>r15,InputA,InputI</td>\n",
       "      <td>4.163336e-17</td>\n",
       "      <td>2</td>\n",
       "      <td>0</td>\n",
       "      <td>1</td>\n",
       "      <td>r15</td>\n",
       "      <td>InputA</td>\n",
       "      <td>InputI</td>\n",
       "      <td>3</td>\n",
       "      <td>0.0</td>\n",
       "      <td>0.0</td>\n",
       "      <td>1.0</td>\n",
       "      <td>0.0</td>\n",
       "      <td>0.0</td>\n",
       "      <td>0.0</td>\n",
       "      <td>1.0</td>\n",
       "      <td>1.0</td>\n",
       "      <td>0.0</td>\n",
       "    </tr>\n",
       "    <tr>\n",
       "      <th>4004</th>\n",
       "      <td>0.0</td>\n",
       "      <td>0.1</td>\n",
       "      <td>-1.000000e-01</td>\n",
       "      <td>-2.000000e-01</td>\n",
       "      <td>0.2</td>\n",
       "      <td>2.312965e-17</td>\n",
       "      <td>2.312965e-17</td>\n",
       "      <td>2.775558e-17</td>\n",
       "      <td>0.0</td>\n",
       "      <td>-1.850372e-17</td>\n",
       "      <td>-1.850372e-17</td>\n",
       "      <td>-1.387779e-17</td>\n",
       "      <td>-1.387779e-17</td>\n",
       "      <td>-2.775558e-17</td>\n",
       "      <td>3.081488e-33</td>\n",
       "      <td>0.000000e+00</td>\n",
       "      <td>-1.387779e-17</td>\n",
       "      <td>0.0</td>\n",
       "      <td>0.0</td>\n",
       "      <td>4.163336e-17</td>\n",
       "      <td>0.0</td>\n",
       "      <td>r15,InputA,OutputN</td>\n",
       "      <td>4.163336e-17</td>\n",
       "      <td>2</td>\n",
       "      <td>0</td>\n",
       "      <td>1</td>\n",
       "      <td>r15</td>\n",
       "      <td>InputA</td>\n",
       "      <td>OutputN</td>\n",
       "      <td>3</td>\n",
       "      <td>0.0</td>\n",
       "      <td>0.0</td>\n",
       "      <td>0.0</td>\n",
       "      <td>0.0</td>\n",
       "      <td>0.0</td>\n",
       "      <td>0.0</td>\n",
       "      <td>1.0</td>\n",
       "      <td>1.0</td>\n",
       "      <td>1.0</td>\n",
       "    </tr>\n",
       "    <tr>\n",
       "      <th>4007</th>\n",
       "      <td>1.0</td>\n",
       "      <td>1.0</td>\n",
       "      <td>-1.110223e-16</td>\n",
       "      <td>8.881784e-16</td>\n",
       "      <td>2.0</td>\n",
       "      <td>2.000000e+00</td>\n",
       "      <td>2.000000e+00</td>\n",
       "      <td>2.000000e+00</td>\n",
       "      <td>0.0</td>\n",
       "      <td>1.480297e-16</td>\n",
       "      <td>1.480297e-16</td>\n",
       "      <td>-4.440892e-16</td>\n",
       "      <td>-4.440892e-16</td>\n",
       "      <td>1.332268e-15</td>\n",
       "      <td>-1.314768e-31</td>\n",
       "      <td>0.000000e+00</td>\n",
       "      <td>1.000000e+00</td>\n",
       "      <td>1.0</td>\n",
       "      <td>0.0</td>\n",
       "      <td>6.000000e+00</td>\n",
       "      <td>0.0</td>\n",
       "      <td>r15,InputI,OutputN</td>\n",
       "      <td>6.000000e+00</td>\n",
       "      <td>2</td>\n",
       "      <td>0</td>\n",
       "      <td>1</td>\n",
       "      <td>r15</td>\n",
       "      <td>InputI</td>\n",
       "      <td>OutputN</td>\n",
       "      <td>3</td>\n",
       "      <td>0.0</td>\n",
       "      <td>0.0</td>\n",
       "      <td>1.0</td>\n",
       "      <td>0.0</td>\n",
       "      <td>0.0</td>\n",
       "      <td>0.0</td>\n",
       "      <td>1.0</td>\n",
       "      <td>0.0</td>\n",
       "      <td>1.0</td>\n",
       "    </tr>\n",
       "    <tr>\n",
       "      <th>4032</th>\n",
       "      <td>0.0</td>\n",
       "      <td>1.0</td>\n",
       "      <td>-1.000000e+00</td>\n",
       "      <td>-2.000000e+00</td>\n",
       "      <td>2.0</td>\n",
       "      <td>0.000000e+00</td>\n",
       "      <td>0.000000e+00</td>\n",
       "      <td>0.000000e+00</td>\n",
       "      <td>0.0</td>\n",
       "      <td>0.000000e+00</td>\n",
       "      <td>0.000000e+00</td>\n",
       "      <td>0.000000e+00</td>\n",
       "      <td>0.000000e+00</td>\n",
       "      <td>0.000000e+00</td>\n",
       "      <td>0.000000e+00</td>\n",
       "      <td>0.000000e+00</td>\n",
       "      <td>0.000000e+00</td>\n",
       "      <td>0.0</td>\n",
       "      <td>0.0</td>\n",
       "      <td>0.000000e+00</td>\n",
       "      <td>0.0</td>\n",
       "      <td>InputA,InputI,OutputN</td>\n",
       "      <td>0.000000e+00</td>\n",
       "      <td>2</td>\n",
       "      <td>0</td>\n",
       "      <td>1</td>\n",
       "      <td>InputA</td>\n",
       "      <td>InputI</td>\n",
       "      <td>OutputN</td>\n",
       "      <td>3</td>\n",
       "      <td>0.0</td>\n",
       "      <td>0.0</td>\n",
       "      <td>1.0</td>\n",
       "      <td>0.0</td>\n",
       "      <td>0.0</td>\n",
       "      <td>0.0</td>\n",
       "      <td>0.0</td>\n",
       "      <td>1.0</td>\n",
       "      <td>1.0</td>\n",
       "    </tr>\n",
       "  </tbody>\n",
       "</table>\n",
       "</div>"
      ],
      "text/plain": [
       "       r1   r3            r2            r4   r5            r6            r7  \\\n",
       "3986  1.0  1.0 -5.551115e-16 -4.440892e-16  2.0  2.000000e+00  2.000000e+00   \n",
       "4002  0.0  0.1 -1.000000e-01 -2.000000e-01  0.2  2.312965e-17  2.312965e-17   \n",
       "4004  0.0  0.1 -1.000000e-01 -2.000000e-01  0.2  2.312965e-17  2.312965e-17   \n",
       "4007  1.0  1.0 -1.110223e-16  8.881784e-16  2.0  2.000000e+00  2.000000e+00   \n",
       "4032  0.0  1.0 -1.000000e+00 -2.000000e+00  2.0  0.000000e+00  0.000000e+00   \n",
       "\n",
       "                r8   r9           r10           r11           r12  \\\n",
       "3986  2.000000e+00  0.0  5.921189e-16  5.921189e-16  2.220446e-16   \n",
       "4002  2.775558e-17  0.0 -1.850372e-17 -1.850372e-17 -1.387779e-17   \n",
       "4004  2.775558e-17  0.0 -1.850372e-17 -1.850372e-17 -1.387779e-17   \n",
       "4007  2.000000e+00  0.0  1.480297e-16  1.480297e-16 -4.440892e-16   \n",
       "4032  0.000000e+00  0.0  0.000000e+00  0.000000e+00  0.000000e+00   \n",
       "\n",
       "               r13       outputK           r14           r15           r16  \\\n",
       "3986  2.220446e-16  1.332268e-15  0.000000e+00  1.479114e-31  1.000000e+00   \n",
       "4002 -1.387779e-17 -2.775558e-17  3.081488e-33  0.000000e+00 -1.387779e-17   \n",
       "4004 -1.387779e-17 -2.775558e-17  3.081488e-33  0.000000e+00 -1.387779e-17   \n",
       "4007 -4.440892e-16  1.332268e-15 -1.314768e-31  0.000000e+00  1.000000e+00   \n",
       "4032  0.000000e+00  0.000000e+00  0.000000e+00  0.000000e+00  0.000000e+00   \n",
       "\n",
       "      InputA  InputI       OutputX  OutputN                     id  \\\n",
       "3986     1.0     0.0  6.000000e+00      0.0     r14,InputI,OutputN   \n",
       "4002     0.0     0.0  4.163336e-17      0.0      r15,InputA,InputI   \n",
       "4004     0.0     0.0  4.163336e-17      0.0     r15,InputA,OutputN   \n",
       "4007     1.0     0.0  6.000000e+00      0.0     r15,InputI,OutputN   \n",
       "4032     0.0     0.0  0.000000e+00      0.0  InputA,InputI,OutputN   \n",
       "\n",
       "            growth  strain  infeasible  optimal   rxn_a   rxn_b    rxn_c  \\\n",
       "3986  6.000000e+00       2           0        1     r14  InputI  OutputN   \n",
       "4002  4.163336e-17       2           0        1     r15  InputA   InputI   \n",
       "4004  4.163336e-17       2           0        1     r15  InputA  OutputN   \n",
       "4007  6.000000e+00       2           0        1     r15  InputI  OutputN   \n",
       "4032  0.000000e+00       2           0        1  InputA  InputI  OutputN   \n",
       "\n",
       "      no_deletions  del_r10  del_r2  del_InputI  del_r4  del_r14  del_r3  \\\n",
       "3986             3      0.0     0.0         1.0     0.0      1.0     0.0   \n",
       "4002             3      0.0     0.0         1.0     0.0      0.0     0.0   \n",
       "4004             3      0.0     0.0         0.0     0.0      0.0     0.0   \n",
       "4007             3      0.0     0.0         1.0     0.0      0.0     0.0   \n",
       "4032             3      0.0     0.0         1.0     0.0      0.0     0.0   \n",
       "\n",
       "      del_r15  del_InputA  del_OutputN  \n",
       "3986      0.0         0.0          1.0  \n",
       "4002      1.0         1.0          0.0  \n",
       "4004      1.0         1.0          1.0  \n",
       "4007      1.0         0.0          1.0  \n",
       "4032      0.0         1.0          1.0  "
      ]
     },
     "execution_count": 43,
     "metadata": {},
     "output_type": "execute_result"
    }
   ],
   "source": [
    "pd.set_option('display.max_columns', None)\n",
    "df.tail()"
   ]
  },
  {
   "cell_type": "code",
   "execution_count": 45,
   "metadata": {},
   "outputs": [
    {
     "data": {
      "text/plain": [
       "(258, 39)"
      ]
     },
     "execution_count": 45,
     "metadata": {},
     "output_type": "execute_result"
    }
   ],
   "source": [
    "df.shape"
   ]
  },
  {
   "cell_type": "markdown",
   "metadata": {},
   "source": [
    "# Further Study dataset"
   ]
  },
  {
   "cell_type": "code",
   "execution_count": 14,
   "metadata": {},
   "outputs": [
    {
     "name": "stdout",
     "output_type": "stream",
     "text": [
      "Infeasible 31.01 % of the dataset\n",
      "Optimal 68.99 % of the dataset\n"
     ]
    }
   ],
   "source": [
    "print('Infeasible', round(df['optimal'].value_counts()[0]/len(df) * 100,2), '% of the dataset')\n",
    "print('Optimal', round(df['optimal'].value_counts()[1]/len(df) * 100,2), '% of the dataset')"
   ]
  },
  {
   "cell_type": "code",
   "execution_count": null,
   "metadata": {},
   "outputs": [],
   "source": [
    "print('Infeasible', round(df['optimal'].value_counts()[0], 2))\n",
    "print('Optimal', round(df['optimal'].value_counts()[1],2))"
   ]
  },
  {
   "cell_type": "code",
   "execution_count": null,
   "metadata": {},
   "outputs": [],
   "source": [
    "pd.DataFrame(df[['growth', 'OutputX']].describe()).T"
   ]
  },
  {
   "cell_type": "code",
   "execution_count": null,
   "metadata": {},
   "outputs": [],
   "source": [
    "import seaborn as sns\n",
    "import matplotlib.pyplot as plt\n",
    "\n",
    "sns.histplot(data=df, x=\"growth\", bins=20)\n",
    "plt.show()"
   ]
  },
  {
   "cell_type": "markdown",
   "metadata": {},
   "source": [
    "## Negative growth"
   ]
  },
  {
   "cell_type": "code",
   "execution_count": null,
   "metadata": {},
   "outputs": [],
   "source": [
    "df[df['growth'] < 0]"
   ]
  },
  {
   "cell_type": "markdown",
   "metadata": {},
   "source": [
    "11 rows of __negative__ growth"
   ]
  },
  {
   "cell_type": "markdown",
   "metadata": {},
   "source": [
    "### Check Linear Correlations"
   ]
  },
  {
   "cell_type": "markdown",
   "metadata": {},
   "source": [
    "##### Point Biserial Correlation"
   ]
  },
  {
   "cell_type": "code",
   "execution_count": null,
   "metadata": {},
   "outputs": [],
   "source": [
    "pearsons = df.drop(columns=critical_rxn).corr(numeric_only=True)['optimal'].sort_values(ascending=False)\n",
    "spearman = df.drop(columns=critical_rxn).corr(numeric_only=True, method='spearman')['optimal'].sort_values(ascending=False)\n",
    "\n",
    "corr_matrix = pd.DataFrame({'pearsons':pearsons, 'spearman':spearman})\n",
    "corr_matrix.sort_values(by='pearsons')"
   ]
  },
  {
   "cell_type": "markdown",
   "metadata": {},
   "source": [
    "# AI / ML Ideas"
   ]
  },
  {
   "cell_type": "markdown",
   "metadata": {},
   "source": [
    "## Create _training_ and _test_ sets and _data normalization_"
   ]
  },
  {
   "cell_type": "markdown",
   "metadata": {},
   "source": [
    "Create a `df` keeping only _non critical_ reactions."
   ]
  },
  {
   "cell_type": "code",
   "execution_count": null,
   "metadata": {},
   "outputs": [],
   "source": [
    "df.drop(columns=critical_rxn, inplace=True)\n",
    "df.head()"
   ]
  },
  {
   "cell_type": "code",
   "execution_count": null,
   "metadata": {},
   "outputs": [],
   "source": []
  },
  {
   "cell_type": "code",
   "execution_count": null,
   "metadata": {},
   "outputs": [],
   "source": []
  },
  {
   "cell_type": "code",
   "execution_count": null,
   "metadata": {},
   "outputs": [],
   "source": [
    "# Create dummy variables for rxn_a, rxn_b\n",
    "\n",
    "dummy_rxna = pd.get_dummies(df['rxn_a'], prefix='rxna')\n",
    "dummy_rxnb = pd.get_dummies(df['rxn_b'], prefix='rxnb')\n",
    "dummy_rxnc = pd.get_dummies(df['rxn_c'], prefix='rxnc')\n",
    "\n",
    "# dummies = pd.concat([dummy_rxna, dummy_rxnb], axis=1)\n",
    "\n",
    "# dummies.head(2)"
   ]
  },
  {
   "cell_type": "code",
   "execution_count": null,
   "metadata": {},
   "outputs": [],
   "source": [
    "deleted_rxn = pd.DataFrame()\n",
    "\n",
    "for rxna in dummy_rxna.columns:\n",
    "    for rxnb in dummy_rxnb.columns:\n",
    "        for rxnc in dummy_rxnc.columns:\n",
    "                \n",
    "            if((rxna.split(\"_\")[1] == rxnb.split(\"_\")[1]) \n",
    "               or (rxna.split(\"_\")[1] == rxnc.split(\"_\")[1])\n",
    "               or (rxnb.split(\"_\")[1] == rxnc.split(\"_\")[1])):\n",
    "                deleted_rxn[rxna] = (dummy_rxna[rxna] + dummy_rxnb[rxnb] + dummy_rxnc[rxnc])"
   ]
  },
  {
   "cell_type": "code",
   "execution_count": null,
   "metadata": {},
   "outputs": [],
   "source": [
    "for rxna in dummy_rxna.columns:\n",
    "    for rxnb in dummy_rxnb.columns:\n",
    "                    \n",
    "        if((rxna.split(\"_\")[1] == rxnb.split(\"_\")[1]) or (rxna.split(\"_\")[1] == rxnc.split(\"_\")[1])):\n",
    "            deleted_rxn[rxna] = (dummy_rxna[rxna] + dummy_rxnb[rxnb])"
   ]
  },
  {
   "cell_type": "code",
   "execution_count": null,
   "metadata": {},
   "outputs": [],
   "source": [
    "for rxna in dummy_rxna.columns:\n",
    "    for rxnc in dummy_rxnc.columns:\n",
    "        \n",
    "        if(rxna.split(\"_\")[1] == rxnc.split(\"_\")[1]):\n",
    "            deleted_rxn[rxna] = deleted_rxn[rxna] + dummy_rxnc[rxnc]\n",
    "\n",
    "col = 0\n",
    "for rxnb in dummy_rxnb.columns:\n",
    "    for rxnc in dummy_rxnc.columns:\n",
    "        \n",
    "        if((rxnb.split(\"_\")[1] == deleted_rxn.columns[col].split(\"_\")[1]) and (rxnb.split(\"_\")[1] == rxnc.split(\"_\")[1])):\n",
    "            c = deleted_rxn.columns[col]\n",
    "            deleted_rxn[c] = deleted_rxn[c] + dummy_rxnc[rxnc]\n",
    "\n",
    "    \n",
    "    col = col + 1"
   ]
  },
  {
   "cell_type": "code",
   "execution_count": null,
   "metadata": {
    "scrolled": false
   },
   "outputs": [],
   "source": [
    "pd.set_option('display.max_rows', 260)\n",
    "deleted_rxn"
   ]
  },
  {
   "cell_type": "code",
   "execution_count": null,
   "metadata": {},
   "outputs": [],
   "source": []
  },
  {
   "cell_type": "code",
   "execution_count": null,
   "metadata": {},
   "outputs": [],
   "source": []
  },
  {
   "cell_type": "code",
   "execution_count": null,
   "metadata": {},
   "outputs": [],
   "source": [
    "from sklearn.model_selection import train_test_split\n",
    "from sklearn.preprocessing import StandardScaler"
   ]
  },
  {
   "cell_type": "markdown",
   "metadata": {},
   "source": [
    "### Define **target** variable"
   ]
  },
  {
   "cell_type": "markdown",
   "metadata": {},
   "source": [
    "We need to better define the target that we want to predict!\n",
    "\n",
    "(The most simple and obvious answer is to predit **optimal** column)"
   ]
  },
  {
   "cell_type": "code",
   "execution_count": null,
   "metadata": {},
   "outputs": [],
   "source": [
    "X = df.drop(['optimal', 'infeasible', 'growth', 'rxn_a', 'rxn_b', 'rxn_c'], axis=1)\n",
    "y = df['infeasible']\n",
    "\n",
    "print(X.shape)\n",
    "print(y.shape)\n",
    "\n",
    "X_train, X_test, y_train, y_test = train_test_split(X, y, test_size=.30, stratify=y, random_state=42)"
   ]
  },
  {
   "cell_type": "code",
   "execution_count": null,
   "metadata": {},
   "outputs": [],
   "source": [
    "# normalize data\n",
    "scaler = StandardScaler()\n",
    "X_train_scaled = scaler.fit_transform(X_train)\n",
    "X_test_scaled = scaler.transform(X_test)"
   ]
  },
  {
   "cell_type": "code",
   "execution_count": null,
   "metadata": {},
   "outputs": [],
   "source": [
    "print(y_train.value_counts(normalize=True))\n",
    "print(y_test.value_counts(normalize=True))\n",
    "print(df['optimal'].value_counts(normalize=True))"
   ]
  },
  {
   "cell_type": "markdown",
   "metadata": {},
   "source": [
    "### SVM Classifier"
   ]
  },
  {
   "cell_type": "code",
   "execution_count": null,
   "metadata": {},
   "outputs": [],
   "source": [
    "svc_model, svc_scores = train_svm(X_train_scaled, y_train)"
   ]
  },
  {
   "cell_type": "code",
   "execution_count": null,
   "metadata": {},
   "outputs": [],
   "source": [
    "validation_classification(svc_model, X_test_scaled, y_test)"
   ]
  },
  {
   "cell_type": "markdown",
   "metadata": {},
   "source": [
    "### XGBoost Classifier"
   ]
  },
  {
   "cell_type": "code",
   "execution_count": null,
   "metadata": {},
   "outputs": [],
   "source": [
    "xgb_model, xgb_scores = xgb_classifier(X_train_scaled, y_train)"
   ]
  },
  {
   "cell_type": "code",
   "execution_count": null,
   "metadata": {},
   "outputs": [],
   "source": [
    "validation_classification(xgb_model, X_test_scaled, y_test)"
   ]
  },
  {
   "cell_type": "markdown",
   "metadata": {},
   "source": [
    "#### Usage of UnderSampling and Oversampling"
   ]
  },
  {
   "cell_type": "code",
   "execution_count": null,
   "metadata": {},
   "outputs": [],
   "source": [
    "import imblearn\n",
    "from imblearn.under_sampling import TomekLinks\n",
    "from collections import Counter"
   ]
  },
  {
   "cell_type": "code",
   "execution_count": null,
   "metadata": {},
   "outputs": [],
   "source": [
    "# define the undersampling method\n",
    "undersample = TomekLinks()\n",
    "X_train_under, y_train_under = undersample.fit_resample(X_train_scaled, y_train)"
   ]
  },
  {
   "cell_type": "code",
   "execution_count": null,
   "metadata": {},
   "outputs": [],
   "source": [
    "print( Counter(y_train) )\n",
    "\n",
    "print( Counter (y_train_under) )"
   ]
  },
  {
   "cell_type": "markdown",
   "metadata": {},
   "source": [
    "# Feature Importance to detect reactions for knock-out"
   ]
  },
  {
   "cell_type": "code",
   "execution_count": null,
   "metadata": {},
   "outputs": [],
   "source": [
    "import shap\n",
    "\n",
    "explainer = shap.TreeExplainer(xgb_model, X_train_scaled, feature_names=X_train.columns)\n",
    "shap_values = explainer(X_test_scaled)"
   ]
  },
  {
   "cell_type": "code",
   "execution_count": null,
   "metadata": {},
   "outputs": [],
   "source": [
    "shap.plots.beeswarm(shap_values, max_display=X_train.shape[1])"
   ]
  },
  {
   "cell_type": "code",
   "execution_count": null,
   "metadata": {},
   "outputs": [],
   "source": [
    "shap.plots.bar(shap_values, max_display=X_test.shape[1])"
   ]
  },
  {
   "cell_type": "code",
   "execution_count": null,
   "metadata": {},
   "outputs": [],
   "source": [
    "importances = xgb_model.feature_importances_\n",
    "indices = np.argsort(importances)\n",
    "features = X_train.columns\n",
    "plt.title('Feature Importances')\n",
    "plt.barh(range(len(indices)), importances[indices], color='g', align='center')\n",
    "plt.yticks(range(len(indices)), [features[i] for i in indices])\n",
    "plt.xlabel('Relative Importance')\n",
    "plt.show()"
   ]
  },
  {
   "cell_type": "code",
   "execution_count": null,
   "metadata": {},
   "outputs": [],
   "source": []
  },
  {
   "cell_type": "code",
   "execution_count": null,
   "metadata": {},
   "outputs": [],
   "source": []
  },
  {
   "cell_type": "code",
   "execution_count": null,
   "metadata": {},
   "outputs": [],
   "source": []
  },
  {
   "cell_type": "markdown",
   "metadata": {},
   "source": [
    "# Artificial Neural Networks"
   ]
  },
  {
   "cell_type": "code",
   "execution_count": null,
   "metadata": {},
   "outputs": [],
   "source": [
    "import tensorflow as tf\n",
    "from tensorflow.keras.layers import Dense\n",
    "from tensorflow.keras.models import Sequential"
   ]
  },
  {
   "cell_type": "code",
   "execution_count": null,
   "metadata": {},
   "outputs": [],
   "source": [
    "n_inputs = len(X_train.columns)"
   ]
  },
  {
   "cell_type": "code",
   "execution_count": null,
   "metadata": {},
   "outputs": [],
   "source": [
    "model = Sequential()\n",
    "model.add(Dense(120, input_dim=n_inputs, activation='relu', kernel_initializer='he_uniform'))\n",
    "model.add(Dense(1, activation='sigmoid'))\n",
    "model.compile(loss='binary_crossentropy', optimizer='adam', metrics = [\n",
    "        tf.keras.metrics.BinaryAccuracy(name='accuracy'),\n",
    "        tf.keras.metrics.Precision(name='precision'),\n",
    "        tf.keras.metrics.Recall(name='recall')\n",
    "    ])\n",
    "\n",
    "history = model.fit(X_train_scaled, y_train, epochs=10, batch_size=5)"
   ]
  },
  {
   "cell_type": "code",
   "execution_count": null,
   "metadata": {},
   "outputs": [],
   "source": [
    "validation_classification(model, X_test_scaled, y_test)"
   ]
  },
  {
   "cell_type": "code",
   "execution_count": null,
   "metadata": {},
   "outputs": [],
   "source": [
    "import shap\n",
    "\n",
    "\n",
    "explainer = shap.DeepExplainer(model, X_train_scaled)"
   ]
  },
  {
   "cell_type": "code",
   "execution_count": null,
   "metadata": {},
   "outputs": [],
   "source": [
    "shap_values = explainer.shap_values(X_test_scaled)"
   ]
  },
  {
   "cell_type": "code",
   "execution_count": null,
   "metadata": {},
   "outputs": [],
   "source": [
    "shap.summary_plot(shap_values[0], plot_type = 'bar', feature_names = X_test.columns, max_display=X_test.shape[1])"
   ]
  },
  {
   "cell_type": "code",
   "execution_count": null,
   "metadata": {},
   "outputs": [],
   "source": []
  },
  {
   "cell_type": "code",
   "execution_count": null,
   "metadata": {},
   "outputs": [],
   "source": []
  },
  {
   "cell_type": "code",
   "execution_count": null,
   "metadata": {},
   "outputs": [],
   "source": []
  },
  {
   "cell_type": "code",
   "execution_count": null,
   "metadata": {},
   "outputs": [],
   "source": []
  },
  {
   "cell_type": "code",
   "execution_count": null,
   "metadata": {},
   "outputs": [],
   "source": []
  },
  {
   "cell_type": "code",
   "execution_count": null,
   "metadata": {},
   "outputs": [],
   "source": []
  },
  {
   "cell_type": "code",
   "execution_count": null,
   "metadata": {},
   "outputs": [],
   "source": [
    "deletions = pd.DataFrame()\n",
    "\n",
    "for rxn in rxn_deletable:\n",
    "    deletions[rxn] = np.nan\n",
    "    \n",
    "deletions['id'] = df['id']\n",
    "deletions.tail()\n",
    "\n",
    "for row in range(deletions.shape[0]):\n",
    "\n",
    "    deleted_rxn = deletions.iloc[row]['id']\n",
    "    \n",
    "    for col in deletions.columns:\n",
    "        if(col in deleted_rxn): deletions[col].iloc[row] = 1\n",
    "\n",
    "deletions.fillna(0, inplace=True)\n",
    "\n",
    "deletions.tail()"
   ]
  },
  {
   "cell_type": "code",
   "execution_count": null,
   "metadata": {},
   "outputs": [],
   "source": []
  }
 ],
 "metadata": {
  "kernelspec": {
   "display_name": "Python 3 (ipykernel)",
   "language": "python",
   "name": "python3"
  },
  "language_info": {
   "codemirror_mode": {
    "name": "ipython",
    "version": 3
   },
   "file_extension": ".py",
   "mimetype": "text/x-python",
   "name": "python",
   "nbconvert_exporter": "python",
   "pygments_lexer": "ipython3",
   "version": "3.9.10"
  },
  "vscode": {
   "interpreter": {
    "hash": "c6c04a7e252f45ffc2f7191e380805b6a5dd99aa68793d835f69a35c16ce4a30"
   }
  }
 },
 "nbformat": 4,
 "nbformat_minor": 2
}
